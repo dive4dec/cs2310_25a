{
 "cells": [
  {
   "cell_type": "markdown",
   "id": "099c4897",
   "metadata": {
    "editable": true,
    "slideshow": {
     "slide_type": ""
    }
   },
   "source": [
    "---\n",
    "title: Elements of Computations\n",
    "skip_execution: true\n",
    "---"
   ]
  },
  {
   "cell_type": "code",
   "execution_count": null,
   "id": "f81b2477",
   "metadata": {
    "editable": true,
    "slideshow": {
     "slide_type": ""
    }
   },
   "outputs": [],
   "source": [
    "from __init__ import *"
   ]
  },
  {
   "cell_type": "code",
   "execution_count": null,
   "id": "9c2726d1",
   "metadata": {
    "editable": true,
    "slideshow": {
     "slide_type": ""
    },
    "tags": [
     "skip-execution"
    ]
   },
   "outputs": [],
   "source": [
    "if not input('Load JupyterAI? [Y/n]').lower()=='n':\n",
    "    %reload_ext jupyter_ai"
   ]
  },
  {
   "cell_type": "markdown",
   "id": "63503199",
   "metadata": {
    "editable": true,
    "slideshow": {
     "slide_type": ""
    }
   },
   "source": [
    "## Motivations"
   ]
  },
  {
   "cell_type": "markdown",
   "id": "b6181c47",
   "metadata": {
    "editable": true,
    "slideshow": {
     "slide_type": ""
    }
   },
   "source": [
    "This notebook introduces the basic ingredients for computations in C++ and explores their limitations. To provide motivation for the subject, we begin by presenting two problems below."
   ]
  },
  {
   "cell_type": "markdown",
   "id": "5ecae160",
   "metadata": {
    "editable": true,
    "slideshow": {
     "slide_type": ""
    }
   },
   "source": [
    "### GCD"
   ]
  },
  {
   "cell_type": "markdown",
   "id": "6d38d872",
   "metadata": {
    "editable": true,
    "slideshow": {
     "slide_type": ""
    }
   },
   "source": [
    "Consider the problem of computing the [greatest common divisor (GCD)](https://en.wikipedia.org/wiki/Greatest_common_divisor), which is a fundamental concept in number theory.[^Galois] \n",
    "\n",
    "::::{prf:definition} GCD\n",
    ":label: def:gcd\n",
    "\n",
    "The GCD of two non-zero integers $a$ and $b$, denoted as $\\operatorname{gcd}(a, b)$  is *the largest integer $d$ that divides both $a$ and $b$*, i.e., $d|a$ and $d|b$.\n",
    "\n",
    "\n",
    "::::\n",
    "\n",
    "[^Galois]: For instance, two numbers with GCD equal to 1 are called coprime, which is a concept used in [finite fields](https://en.wikipedia.org/wiki/Finite_field) with significant applications to different areas such as coding theory and cryptography."
   ]
  },
  {
   "cell_type": "markdown",
   "id": "76c6e169",
   "metadata": {
    "editable": true,
    "slideshow": {
     "slide_type": ""
    }
   },
   "source": [
    "The following is an implementation in C++."
   ]
  },
  {
   "cell_type": "markdown",
   "id": "ec801945",
   "metadata": {
    "editable": true,
    "slideshow": {
     "slide_type": ""
    }
   },
   "source": [
    "1. To specify and store the non-zero integers $a$ and $b$:"
   ]
  },
  {
   "cell_type": "code",
   "execution_count": null,
   "id": "e5bb5d67",
   "metadata": {
    "editable": true,
    "slideshow": {
     "slide_type": ""
    }
   },
   "outputs": [],
   "source": [
    "%%cpp\n",
    "int a=2*3*4, b=3*4*5; // integer variables declaration and initialization\n",
    "cout << format(\"gcd({}, {})=?\\n\", a, b); // print formatted string"
   ]
  },
  {
   "cell_type": "markdown",
   "id": "890bbc98",
   "metadata": {
    "editable": true,
    "slideshow": {
     "slide_type": ""
    }
   },
   "source": [
    "2. To compute the GCD of $a$ and $b$ step-by-step, repeatedly run the following program until *`a` becomes `0`, in which case the absolute value of `b` is the gcd*.\n",
    "  ::::{code} cpp\n",
    "  :label: code_gcd1\n",
    "  :caption: Computation of the GCD of the non-zero integers `a` and `b`.\n",
    "  :linenos:\n",
    "  {\n",
    "      b = b % a; // assignment and modulo operation\n",
    "      int c = b; // variable in the block scope of the compound statement\n",
    "      b = a;\n",
    "      a = c;\n",
    "  } // compound statement\n",
    "  ::::"
   ]
  },
  {
   "cell_type": "code",
   "execution_count": null,
   "id": "918ad10d",
   "metadata": {
    "editable": true,
    "slideshow": {
     "slide_type": ""
    }
   },
   "outputs": [],
   "source": [
    "%%cpp\n",
    "{\n",
    "    b = b % a;\n",
    "    int c = b;\n",
    "    b = a;\n",
    "    a = c;\n",
    "    cout << format(\"gcd({}, {})\\n\", a, b); // intermediate answer\n",
    "} // compound statement"
   ]
  },
  {
   "cell_type": "markdown",
   "id": "1a37e7e7",
   "metadata": {
    "editable": true,
    "slideshow": {
     "slide_type": ""
    }
   },
   "source": [
    "::::{caution}\n",
    "\n",
    "Want to see a crash? Run the code further after getting the GCD from the printout `gcd(0, ...)`! Press <kbd>0, 0</kbd> to restart the kernel, and then run all above cells again.\n",
    "\n",
    "::::"
   ]
  },
  {
   "cell_type": "markdown",
   "id": "cb68f53b",
   "metadata": {
    "editable": true,
    "slideshow": {
     "slide_type": ""
    }
   },
   "source": [
    "::::{exercise}\n",
    ":label: ex:gcd1\n",
    "\n",
    "How can the above program fail to give the correct GCD?\n",
    "\n",
    ":::{hint}\n",
    ":class: dropdown\n",
    "\n",
    "The code fails for some choices of $a$ and $b$.\n",
    "\n",
    ":::\n",
    "\n",
    "::::"
   ]
  },
  {
   "cell_type": "markdown",
   "id": "841d2316",
   "metadata": {
    "deletable": false,
    "editable": true,
    "nbgrader": {
     "cell_type": "markdown",
     "checksum": "2408b0cfe08853fe4a6798377e04769c",
     "grade": true,
     "grade_id": "gcd1",
     "locked": false,
     "points": 0,
     "schema_version": 3,
     "solution": true,
     "task": false
    },
    "slideshow": {
     "slide_type": ""
    }
   },
   "source": [
    "YOUR ANSWER HERE"
   ]
  },
  {
   "cell_type": "markdown",
   "id": "eb405948",
   "metadata": {
    "editable": true,
    "slideshow": {
     "slide_type": ""
    }
   },
   "source": [
    "If you can answer the above questions, great! But don't worry if you cannot. We will learn some basic programming elements to solve [](#ex:gcd1) in this notebook."
   ]
  },
  {
   "cell_type": "markdown",
   "id": "653d0b13",
   "metadata": {
    "editable": true,
    "slideshow": {
     "slide_type": ""
    }
   },
   "source": [
    "::::{exercise}\n",
    ":label: ex:gcd2\n",
    "\n",
    "Explain how the program computes the GCD. Evaluate the effectiveness of the algorithm and suggest improvements.\n",
    "\n",
    ":::{hint}\n",
    ":class: dropdown\n",
    "\n",
    "The program uses the [](https://en.wikipedia.org/wiki/Euclidean_algorithm). Compare it with [Python's implementation for the `gcd` function in C](https://github.com/python/cpython/blob/47bc10e6b3cb44658da275f3484781ef2a2b9222/Objects/longobject.c#L5726C1-L5931C2), applying [](https://en.wikipedia.org/wiki/Lehmer%27s_GCD_algorithm). See also the [Github issue]()https://github.com/python/cpython/issues/66676) for the implementation detail.\n",
    "\n",
    "If you would like to give the computational complexity, the worst case performance is when $a$ and $b$ are two consecutive [Fibonacci numbers](https://en.wikipedia.org/wiki/Fibonacci_sequence), such as\n",
    "\n",
    "> `a = 8` ($F_6$) and `b = 13` ($F_7$).\n",
    "\n",
    "$F_n$ grows exponentially as $O(\\phi^n)$ where $\\phi$ is the golden ratio.\n",
    "\n",
    ":::\n",
    "\n",
    "::::"
   ]
  },
  {
   "cell_type": "markdown",
   "id": "bc5a0eaa",
   "metadata": {
    "deletable": false,
    "editable": true,
    "nbgrader": {
     "cell_type": "markdown",
     "checksum": "f81cc18abfdba313e7f4ad36b092e8ff",
     "grade": true,
     "grade_id": "gcd2",
     "locked": false,
     "points": 0,
     "schema_version": 3,
     "solution": true,
     "task": false
    },
    "slideshow": {
     "slide_type": ""
    }
   },
   "source": [
    "YOUR ANSWER HERE"
   ]
  },
  {
   "cell_type": "markdown",
   "id": "59bbb222",
   "metadata": {
    "editable": true,
    "slideshow": {
     "slide_type": ""
    }
   },
   "source": [
    "[](#ex:gcd2) is more challenging, as it requires quite a bit of [computational thinking](https://en.wikipedia.org/wiki/Computational_thinking) that you will develop over time, mostly outside the classroom. Dive into it with the help of AI:"
   ]
  },
  {
   "cell_type": "code",
   "execution_count": null,
   "id": "a205275c",
   "metadata": {
    "editable": true,
    "slideshow": {
     "slide_type": ""
    },
    "tags": [
     "skip-execution"
    ]
   },
   "outputs": [],
   "source": [
    "%%ai\n",
    "What is the fastest possible algorithm for computing GCD?"
   ]
  },
  {
   "cell_type": "markdown",
   "id": "f6d28e5c",
   "metadata": {
    "editable": true,
    "slideshow": {
     "slide_type": ""
    }
   },
   "source": [
    "### Inverse Square Root"
   ]
  },
  {
   "cell_type": "markdown",
   "id": "31dcfd77",
   "metadata": {
    "editable": true,
    "slideshow": {
     "slide_type": ""
    }
   },
   "source": [
    "While computing the greatest common divisor (GCD) involves only integers, many computations involve rational, real numbers, and even complex numbers. An example is to compute the *inverse/reciprocal square root* \n",
    "\n",
    "$$\n",
    "\\begin{align}\n",
    "\\operatorname{rsqrt}(x)&:=\\frac{1}{\\sqrt{x}} && \\text{for $x>0$},\n",
    "\\end{align}\n",
    "$$ (eq:rsqrt)\n",
    "\n",
    "which is an important computation for 3D graphics, e.g., in first-person-shooting games such as [](https://en.wikipedia.org/wiki/Quake_III_Arena)."
   ]
  },
  {
   "cell_type": "markdown",
   "id": "f7caa174",
   "metadata": {
    "editable": true,
    "slideshow": {
     "slide_type": ""
    }
   },
   "source": [
    "The following is an implementation in C++."
   ]
  },
  {
   "cell_type": "markdown",
   "id": "1a82f086",
   "metadata": {
    "editable": true,
    "slideshow": {
     "slide_type": ""
    }
   },
   "source": [
    "1. Store the real number $x$ *approximately* as a floating-point number, and compute its reciprocal $y=\\frac1x$ as the initial guess of the inverse square root:"
   ]
  },
  {
   "cell_type": "code",
   "execution_count": null,
   "id": "607a8ef0",
   "metadata": {
    "editable": true,
    "slideshow": {
     "slide_type": ""
    }
   },
   "outputs": [],
   "source": [
    "%%cpp\n",
    "double x = 10./3;  // a floating point number as input\n",
    "cout << format(\"rsqrt({})=?\\n\", x);\n",
    "\n",
    "auto y = 1/x;      // reciprocal, type `auto`matically deduced\n",
    "cout << format(\"Initial guess: {}\\n\", y);"
   ]
  },
  {
   "cell_type": "markdown",
   "id": "89a993d5",
   "metadata": {
    "editable": true,
    "slideshow": {
     "slide_type": ""
    }
   },
   "source": [
    "2. To compute the desired square root of the reciprocal, repeatedly runs the following until the answer remains unchanged/steady.\n",
    "  ::::{code} cpp\n",
    "  :label: code_inv_sqrt1\n",
    "  :caption: Update rule for the inverse square root of `x`.\n",
    "  :linenos:\n",
    "  y = (y+1/y/x)/2;   // update the answer\n",
    "  ::::"
   ]
  },
  {
   "cell_type": "code",
   "execution_count": null,
   "id": "c759d236",
   "metadata": {
    "editable": true,
    "slideshow": {
     "slide_type": ""
    }
   },
   "outputs": [],
   "source": [
    "%%cpp\n",
    "y = (y+1/y/x)/2;\n",
    "cout << format(\"Intermediate answer: {}\\n\", y);"
   ]
  },
  {
   "cell_type": "markdown",
   "id": "2f9ec302",
   "metadata": {
    "editable": true,
    "slideshow": {
     "slide_type": ""
    }
   },
   "source": [
    "You can verify whether the answer is correct by recovering $x$ from $y$ as $\\frac{1}{y^2}$:"
   ]
  },
  {
   "cell_type": "code",
   "execution_count": null,
   "id": "74d8a8ce",
   "metadata": {
    "editable": true,
    "slideshow": {
     "slide_type": ""
    }
   },
   "outputs": [],
   "source": [
    "%%cpp\n",
    "1/y/y"
   ]
  },
  {
   "cell_type": "markdown",
   "id": "fd42c561",
   "metadata": {
    "editable": true,
    "slideshow": {
     "slide_type": ""
    }
   },
   "source": [
    "The program [can be improved](https://mrober.io/papers/rsqrt.pdf) by:\n",
    "\n",
    "1. A better initial guess\n",
    "  ::::{code} cpp\n",
    "  :label: code_fast_inv_sqrt1_guess\n",
    "  :caption: Initial guess for the fast inverse square root of `x`.\n",
    "  :linenos:\n",
    "   auto i = *reinterpret_cast<int64_t *>(&x);   // copy x to i as an integer\n",
    "   i = 0x5fe6eb50c7b537a9 - (i >> 1);           // ???\n",
    "   auto y = *reinterpret_cast<double *>(&i);    // copy i to y as a double\n",
    "  ::::"
   ]
  },
  {
   "cell_type": "code",
   "execution_count": null,
   "id": "2ee146f6",
   "metadata": {
    "editable": true,
    "slideshow": {
     "slide_type": ""
    }
   },
   "outputs": [],
   "source": [
    "%%cpp\n",
    "double x = 10./3;  // input\n",
    "cout << format(\"rsqrt({})=?\\n\", x);\n",
    "\n",
    "auto i = *reinterpret_cast<int64_t *>(&x);\n",
    "i = 0x5fe6eb50c7b537a9 - (i >> 1);\n",
    "auto y = *reinterpret_cast<double *>(&i);\n",
    "cout << format(\"Initial guess: {}\\n\", y);  // initial guess"
   ]
  },
  {
   "cell_type": "markdown",
   "id": "7a03bcd1",
   "metadata": {
    "editable": true,
    "slideshow": {
     "slide_type": ""
    }
   },
   "source": [
    "2. An alternative update rule\n",
    "  ::::{code} cpp\n",
    "  :label: code_fast_inv_sqrt1_update\n",
    "  :caption: Update rule for the fast inverse square root of `x`.\n",
    "  :linenos:\n",
    "  y = y * (1.5 - (x*0.5 * y * y));\n",
    "  ::::"
   ]
  },
  {
   "cell_type": "code",
   "execution_count": null,
   "id": "bd286317",
   "metadata": {
    "editable": true,
    "slideshow": {
     "slide_type": ""
    }
   },
   "outputs": [],
   "source": [
    "%%cpp\n",
    "y = y * (1.5 - (x/2 * y * y));\n",
    "cout << format(\"Intermediate answer: {}\\n\", y);"
   ]
  },
  {
   "cell_type": "markdown",
   "id": "48fdc101",
   "metadata": {
    "editable": true,
    "slideshow": {
     "slide_type": ""
    }
   },
   "source": [
    "::::{exercise}\n",
    ":label: ex:inv_sqrt1\n",
    "\n",
    "How can the above program fail to give the correct GCD?\n",
    "\n",
    ":::{hint}\n",
    ":class: dropdown\n",
    "\n",
    "The code fails for some choices of $x$.\n",
    "\n",
    ":::\n",
    "\n",
    "::::"
   ]
  },
  {
   "cell_type": "markdown",
   "id": "41e1c02d",
   "metadata": {
    "deletable": false,
    "editable": true,
    "nbgrader": {
     "cell_type": "markdown",
     "checksum": "15cdd742a3b55c34c9101dc0d765c6da",
     "grade": true,
     "grade_id": "inv_sqrt1",
     "locked": false,
     "points": 0,
     "schema_version": 3,
     "solution": true,
     "task": false
    },
    "slideshow": {
     "slide_type": ""
    }
   },
   "source": [
    "YOUR ANSWER HERE"
   ]
  },
  {
   "cell_type": "markdown",
   "id": "aeb28e8b",
   "metadata": {
    "editable": true,
    "slideshow": {
     "slide_type": ""
    }
   },
   "source": [
    "::::::{exercise}\n",
    ":label: ex:inv_sqrt2\n",
    "\n",
    "Explain how the programs compute the inverse square root.\n",
    "\n",
    ":::::{hint}\n",
    ":class: dropdown\n",
    "\n",
    "With $y:=\\frac{1}{\\sqrt{x}}$, we can obtain an equation in $y$ whose root is the desired inverse square root:\n",
    "\\begin{align}\n",
    "f(y):=y^2 - \\frac1x\n",
    "\\end{align}\n",
    "\n",
    "The question is how to compute the root of $f(y)$. To understand the improved initial guess, see a related video below:\n",
    "\n",
    "::::{card}\n",
    ":header: The Fast Inverse Square Root -- 0x5f3759df explained!!\n",
    ":footer: [open in new tab](https://www.youtube.com/embed/NCuf2tjUsAY?si=oaqOOD64Z6kxCS_m)\n",
    "\n",
    ":::{iframe} https://www.youtube.com/embed/NCuf2tjUsAY?si=oaqOOD64Z6kxCS_m\n",
    ":width: 100%\n",
    ":::\n",
    "::::\n",
    "\n",
    ":::::\n",
    "\n",
    "::::::"
   ]
  },
  {
   "cell_type": "markdown",
   "id": "e4d314ee",
   "metadata": {
    "deletable": false,
    "editable": true,
    "nbgrader": {
     "cell_type": "markdown",
     "checksum": "da5b3545f0c744055052b5adce16c08e",
     "grade": true,
     "grade_id": "inv_sqrt2",
     "locked": false,
     "points": 0,
     "schema_version": 3,
     "solution": true,
     "task": false
    },
    "slideshow": {
     "slide_type": ""
    }
   },
   "source": [
    "YOUR ANSWER HERE"
   ]
  },
  {
   "cell_type": "markdown",
   "id": "86945afe",
   "metadata": {
    "editable": true,
    "slideshow": {
     "slide_type": ""
    }
   },
   "source": [
    "Answering both [](#ex:inv_sqrt1) and [](#ex:inv_sqrt2) requires a very good understanding of how real numbers are represented in computers in addition to the numerical methods involved:"
   ]
  },
  {
   "cell_type": "code",
   "execution_count": null,
   "id": "9fd669d7",
   "metadata": {
    "editable": true,
    "slideshow": {
     "slide_type": ""
    },
    "tags": [
     "skip-execution"
    ]
   },
   "outputs": [],
   "source": [
    "%%ai\n",
    "List different methods of computing the square root using basic arithmetic \n",
    "operations."
   ]
  },
  {
   "cell_type": "markdown",
   "id": "ebbad04d",
   "metadata": {
    "editable": true,
    "slideshow": {
     "slide_type": ""
    }
   },
   "source": [
    "In the sequel, we will tackle the easier task of learning the elements of C++ involved in carrying out the above computations."
   ]
  },
  {
   "cell_type": "markdown",
   "id": "fcdb2e7e",
   "metadata": {
    "editable": true,
    "slideshow": {
     "slide_type": ""
    }
   },
   "source": [
    "## Integer"
   ]
  },
  {
   "cell_type": "markdown",
   "id": "d75c4511",
   "metadata": {
    "editable": true,
    "slideshow": {
     "slide_type": ""
    }
   },
   "source": [
    "### Literal"
   ]
  },
  {
   "cell_type": "markdown",
   "id": "e11ab88f",
   "metadata": {
    "editable": true,
    "slideshow": {
     "slide_type": ""
    }
   },
   "source": [
    "How to specify an integer value in C++?"
   ]
  },
  {
   "cell_type": "markdown",
   "id": "c2f02bdd",
   "metadata": {
    "editable": true,
    "slideshow": {
     "slide_type": ""
    }
   },
   "source": [
    "One way to specify a value is to use a *literal*, which is a fixed value directly embedded in the source code. A literal can be written in different ways:"
   ]
  },
  {
   "cell_type": "code",
   "execution_count": null,
   "id": "9c0aae05",
   "metadata": {
    "editable": true,
    "slideshow": {
     "slide_type": ""
    }
   },
   "outputs": [],
   "source": [
    "%%cpp\n",
    "15 // in decimal"
   ]
  },
  {
   "cell_type": "code",
   "execution_count": null,
   "id": "29ec4030",
   "metadata": {
    "editable": true,
    "slideshow": {
     "slide_type": ""
    }
   },
   "outputs": [],
   "source": [
    "%%cpp\n",
    "0b1111 // in binary"
   ]
  },
  {
   "cell_type": "code",
   "execution_count": null,
   "id": "f2f87f46",
   "metadata": {
    "editable": true,
    "slideshow": {
     "slide_type": ""
    }
   },
   "outputs": [],
   "source": [
    "%%cpp\n",
    "017 // in octadecimal"
   ]
  },
  {
   "cell_type": "code",
   "execution_count": null,
   "id": "17612041",
   "metadata": {
    "editable": true,
    "slideshow": {
     "slide_type": ""
    }
   },
   "outputs": [],
   "source": [
    "%%cpp\n",
    "0xF // in hexadecimal"
   ]
  },
  {
   "cell_type": "markdown",
   "id": "ae19250a",
   "metadata": {
    "editable": true,
    "slideshow": {
     "slide_type": ""
    }
   },
   "source": [
    "All of the above have the same value of type `int`!"
   ]
  },
  {
   "cell_type": "markdown",
   "id": "baec9af9",
   "metadata": {},
   "source": [
    "In comparison, Python also uses the same syntax except for octadecimal format:"
   ]
  },
  {
   "cell_type": "code",
   "execution_count": null,
   "id": "5b3f0cff",
   "metadata": {},
   "outputs": [],
   "source": [
    "15, 0b1111, 0o17, 0xF"
   ]
  },
  {
   "cell_type": "markdown",
   "id": "e7e84beb",
   "metadata": {
    "editable": true,
    "slideshow": {
     "slide_type": ""
    }
   },
   "source": [
    "C++ also supports [different types of integer literals of different sizes](https://en.cppreference.com/w/cpp/language/types.html), e.g., 3 billions is represented as type `long`:"
   ]
  },
  {
   "cell_type": "code",
   "execution_count": null,
   "id": "2ee0906c",
   "metadata": {
    "editable": true,
    "slideshow": {
     "slide_type": ""
    }
   },
   "outputs": [],
   "source": [
    "%%cpp\n",
    "3000000000"
   ]
  },
  {
   "cell_type": "markdown",
   "id": "d200d02f",
   "metadata": {
    "editable": true,
    "slideshow": {
     "slide_type": ""
    }
   },
   "source": [
    "$10^{19}$ is represented as unsigned integer type:"
   ]
  },
  {
   "cell_type": "code",
   "execution_count": null,
   "id": "63b8082d",
   "metadata": {
    "editable": true,
    "slideshow": {
     "slide_type": ""
    }
   },
   "outputs": [],
   "source": [
    "%%cpp\n",
    "10000000000000000000 // with a warning"
   ]
  },
  {
   "cell_type": "markdown",
   "id": "bda5d7e2",
   "metadata": {
    "editable": true,
    "slideshow": {
     "slide_type": ""
    }
   },
   "source": [
    "We can use the [appropriate suffixes](https://en.cppreference.com/w/cpp/language/integer_literal.html) to specify the desired type:"
   ]
  },
  {
   "cell_type": "code",
   "execution_count": null,
   "id": "dde73c84",
   "metadata": {
    "editable": true,
    "slideshow": {
     "slide_type": ""
    }
   },
   "outputs": [],
   "source": [
    "%%cpp\n",
    "10000000000000000000uLL // no warning message"
   ]
  },
  {
   "cell_type": "code",
   "execution_count": null,
   "id": "0d9f6337",
   "metadata": {
    "editable": true,
    "slideshow": {
     "slide_type": ""
    }
   },
   "outputs": [],
   "source": [
    "%%cpp\n",
    "1L // not the default type `int`."
   ]
  },
  {
   "cell_type": "markdown",
   "id": "8ea21a53",
   "metadata": {
    "editable": true,
    "slideshow": {
     "slide_type": ""
    }
   },
   "source": [
    "The size of different types can be obtained by the [`sizeof` operator](https://en.cppreference.com/w/cpp/language/sizeof.html):"
   ]
  },
  {
   "cell_type": "code",
   "execution_count": null,
   "id": "2c89e5b3",
   "metadata": {},
   "outputs": [],
   "source": [
    "%%cpp\n",
    "sizeof(short)  // in the unit of byte (8 bits)"
   ]
  },
  {
   "cell_type": "code",
   "execution_count": null,
   "id": "a8b3a5c2",
   "metadata": {
    "editable": true,
    "slideshow": {
     "slide_type": ""
    }
   },
   "outputs": [],
   "source": [
    "%%cpp\n",
    "sizeof(int)"
   ]
  },
  {
   "cell_type": "code",
   "execution_count": null,
   "id": "57c0091a",
   "metadata": {},
   "outputs": [],
   "source": [
    "%%cpp\n",
    "sizeof(long)"
   ]
  },
  {
   "cell_type": "code",
   "execution_count": null,
   "id": "90bfc2f9",
   "metadata": {},
   "outputs": [],
   "source": [
    "%%cpp\n",
    "sizeof(long long)"
   ]
  },
  {
   "cell_type": "markdown",
   "id": "0b26b862",
   "metadata": {},
   "source": [
    "Let's calculate the number of values of type `int`:"
   ]
  },
  {
   "cell_type": "code",
   "execution_count": null,
   "id": "de80ef1b",
   "metadata": {
    "editable": true,
    "slideshow": {
     "slide_type": ""
    }
   },
   "outputs": [],
   "source": [
    "%%cpp\n",
    "1uLL << sizeof(int)*8"
   ]
  },
  {
   "cell_type": "markdown",
   "id": "3acf9b0f",
   "metadata": {},
   "source": [
    "::::{caution} Shouldn't we use `cout <<` instead to print the number of values?\n",
    ":class: dropdown\n",
    "\n",
    "The number of values of type `int` can be computed using the [bitwise shift operator `<<`](https://en.cppreference.com/w/cpp/language/operator_arithmetic.html#Bitwise_shift_operators), which is not the usual [stream insertion operator](https://en.cppreference.com/w/cpp/io/basic_ostream/operator_ltlt2.html) used to print to standard output/error `cout`/`cerr`:[^bitwise]\n",
    "\n",
    "::::\n",
    "\n",
    "[^bitwise]: Bitwise operators perform operations on the bits of the binary representation of integers. You may explore other bitwise operators to learn about them:\n",
    "    1. Bitwise Shift: `<<`, `>>`\n",
    "    2. Bitwise AND: `&`\n",
    "    3. Bitwise XOR: `^`\n",
    "    4. Bitwise OR: `|`"
   ]
  },
  {
   "cell_type": "markdown",
   "id": "e86d892e",
   "metadata": {},
   "source": [
    "::::{caution} What happens if you change `1uLL` to `1`?\n",
    ":class: dropdown\n",
    "\n",
    "The computed value will be wrong. You may see a warning such as\n",
    "\n",
    "```\n",
    "warning: shift count >= width of type [-Wshift-count-overflow]\n",
    "```\n",
    "\n",
    "because `int` is not large enough to represent the number of values of type `int`! Can you explain what the computed value actually is? Try running the code in `xeus-cpp` kernel as a comparison.\n",
    "\n",
    "::::"
   ]
  },
  {
   "cell_type": "markdown",
   "id": "5fc3853a",
   "metadata": {
    "editable": true,
    "slideshow": {
     "slide_type": ""
    }
   },
   "source": [
    "We can also obtain the exact range of a number type using the [`std::numeric_limits`](https://en.cppreference.com/w/cpp/types/numeric_limits.html) class template from the header `<limits>`:"
   ]
  },
  {
   "cell_type": "code",
   "execution_count": null,
   "id": "fcac197a",
   "metadata": {
    "editable": true,
    "slideshow": {
     "slide_type": ""
    }
   },
   "outputs": [],
   "source": [
    "%%cpp\n",
    "cout << format(\"Range of int: {{{} ... {}}}\\n\", \n",
    "               numeric_limits<int>::min(),  \n",
    "               numeric_limits<int>::max());"
   ]
  },
  {
   "cell_type": "markdown",
   "id": "d435e277",
   "metadata": {
    "editable": true,
    "slideshow": {
     "slide_type": ""
    }
   },
   "source": [
    "The number of values of type `int` can alternatively be computed as follows:"
   ]
  },
  {
   "cell_type": "code",
   "execution_count": null,
   "id": "e6950e77",
   "metadata": {
    "editable": true,
    "slideshow": {
     "slide_type": ""
    }
   },
   "outputs": [],
   "source": [
    "%%cpp\n",
    "1uLL + numeric_limits<int>::max() - numeric_limits<int>::min()"
   ]
  },
  {
   "cell_type": "markdown",
   "id": "314e3aed",
   "metadata": {
    "editable": true,
    "slideshow": {
     "slide_type": ""
    }
   },
   "source": [
    "You might have noticed that the actual size of `int` is not the same as the required size specified in the C++ standard. Let's ask AI about it:"
   ]
  },
  {
   "cell_type": "code",
   "execution_count": null,
   "id": "4e653dbb",
   "metadata": {
    "editable": true,
    "slideshow": {
     "slide_type": ""
    },
    "tags": [
     "skip-execution"
    ]
   },
   "outputs": [],
   "source": [
    "%%ai\n",
    "Why int in C++ is 32 bits instead of 16 bits required by the C++ standard?"
   ]
  },
  {
   "cell_type": "markdown",
   "id": "603d993b",
   "metadata": {},
   "source": [
    "Similar, the size of `long` can be 32 bits or 64 bits depending on the computer/compiler used. To ensure a definite range across different implementations, fixed integer types are available from [`<cstdint>`](https://en.cppreference.com/w/cpp/types/integer.html)."
   ]
  },
  {
   "cell_type": "code",
   "execution_count": null,
   "id": "4a45b949",
   "metadata": {
    "editable": true,
    "slideshow": {
     "slide_type": ""
    }
   },
   "outputs": [],
   "source": [
    "%%cpp\n",
    "1uL - numeric_limits<int16_t>::min() + numeric_limits<int16_t>::max() == 1uL << 16"
   ]
  },
  {
   "cell_type": "markdown",
   "id": "ae79ce51",
   "metadata": {
    "editable": true,
    "slideshow": {
     "slide_type": ""
    }
   },
   "source": [
    "For instance, [](#code_fast_inv_sqrt1_guess) uses `int64_t` to ensure that the integer type has `64` bit, which matches the size of the type of `x` to be explain in the section [](#Floating-Point-Number)."
   ]
  },
  {
   "cell_type": "markdown",
   "id": "b9b04664",
   "metadata": {
    "editable": true,
    "slideshow": {
     "slide_type": ""
    }
   },
   "source": [
    "::::{exercise}\n",
    ":label: ex:limits\n",
    "\n",
    "What if `1` is used instead of `1uLL` in the above calculation?\n",
    "    \n",
    "::::"
   ]
  },
  {
   "cell_type": "markdown",
   "id": "785aacbd",
   "metadata": {
    "deletable": false,
    "editable": true,
    "nbgrader": {
     "cell_type": "markdown",
     "checksum": "9f7b444f7acf919354f1eef5b7b6c5f7",
     "grade": true,
     "grade_id": "limits",
     "locked": false,
     "points": 0,
     "schema_version": 3,
     "solution": true,
     "task": false
    },
    "slideshow": {
     "slide_type": ""
    }
   },
   "source": [
    "YOUR ANSWER HERE"
   ]
  },
  {
   "cell_type": "markdown",
   "id": "61c832b8",
   "metadata": {
    "editable": true,
    "slideshow": {
     "slide_type": ""
    }
   },
   "source": [
    "### Variable"
   ]
  },
  {
   "cell_type": "markdown",
   "id": "042b6bf8",
   "metadata": {
    "editable": true,
    "slideshow": {
     "slide_type": ""
    }
   },
   "source": [
    "Knowing how to specify an integer, we need a way to store it and retrieve it to perform more complicated computations."
   ]
  },
  {
   "cell_type": "markdown",
   "id": "f9679fca",
   "metadata": {
    "editable": true,
    "slideshow": {
     "slide_type": ""
    }
   },
   "source": [
    "::::{caution}\n",
    "\n",
    "C++ is [statically typed](https://en.wikipedia.org/wiki/Type_system#Static_typing), requiring explicit declaration of variable types and making programmers aware of their memory requirements. When done properly, C++ programs can be very fast. Unfortunately, writing good C++ programs can be quite demanding. Mistakes can lead to security risks that are hard to detect or fix.\n",
    "\n",
    "::::"
   ]
  },
  {
   "cell_type": "markdown",
   "id": "c0be8365",
   "metadata": {
    "editable": true,
    "slideshow": {
     "slide_type": ""
    }
   },
   "source": [
    "The following declares integer variables with the default [initialization](https://en.cppreference.com/w/cpp/language/initialization.html) of value `0` for variables with static storage duration such as [global variables](https://en.cppreference.com/w/cpp/language/scope.html)."
   ]
  },
  {
   "cell_type": "code",
   "execution_count": null,
   "id": "7ff3d04e",
   "metadata": {
    "editable": true,
    "slideshow": {
     "slide_type": ""
    }
   },
   "outputs": [],
   "source": [
    "%%cpp\n",
    "int a;\n",
    "short b, c;\n",
    "unsigned long d, e, f;\n",
    "cout << format(\"{} {} {} {} {} {}\\n\", a, b, c, d, e, f);"
   ]
  },
  {
   "cell_type": "markdown",
   "id": "21a61cee",
   "metadata": {
    "editable": true,
    "slideshow": {
     "slide_type": ""
    }
   },
   "source": [
    "`int a;` is an [expression statement](https://en.cppreference.com/w/cpp/language/statements.html#Expression_statements) (ended with a semi-colon) that declares an integer variable named `a`."
   ]
  },
  {
   "cell_type": "markdown",
   "id": "51e12a0e",
   "metadata": {
    "editable": true,
    "slideshow": {
     "slide_type": ""
    }
   },
   "source": [
    "A variable name must be a valid [identifier](https://en.cppreference.com/w/cpp/language/identifiers.html). In particular, similar to Python, it should start with a letter or an underscore, and should not be one of the [keywords](https://en.cppreference.com/w/cpp/keywords.html). For instance, the following declarations fail:\n",
    "\n",
    "```cpp\n",
    "int 1a;\n",
    "int this;\n",
    "```"
   ]
  },
  {
   "cell_type": "markdown",
   "id": "c6c19ec0",
   "metadata": {},
   "source": [
    "Variables without static storage duration such as the following variables defined in a [block scope](https://en.cppreference.com/w/cpp/language/scope.html#Block_scope) are not initialized:"
   ]
  },
  {
   "cell_type": "code",
   "execution_count": null,
   "id": "c9481a99",
   "metadata": {},
   "outputs": [],
   "source": [
    "%%cpp\n",
    "{\n",
    "    int a;\n",
    "    short b, c;\n",
    "    unsigned long d, e, f;\n",
    "    cout << format(\"{} {} {} {} {} {}\\n\", a, b, c, d, e, f);\n",
    "}"
   ]
  },
  {
   "cell_type": "markdown",
   "id": "e505967d",
   "metadata": {
    "editable": true,
    "slideshow": {
     "slide_type": ""
    }
   },
   "source": [
    "To initialize the variables explicitly, the following uses the [*copy initialization*](https://en.cppreference.com/w/cpp/language/copy_initialization.html):"
   ]
  },
  {
   "cell_type": "code",
   "execution_count": null,
   "id": "8e0c2666",
   "metadata": {
    "editable": true,
    "slideshow": {
     "slide_type": ""
    }
   },
   "outputs": [],
   "source": [
    "%%cpp\n",
    "auto a = 1;\n",
    "short b = a+1, c = b+1;\n",
    "auto d = 1uL;\n",
    "cout << format(\"{} {} {} {}\\n\", a, b, c, d);"
   ]
  },
  {
   "cell_type": "markdown",
   "id": "33754732",
   "metadata": {
    "editable": true,
    "slideshow": {
     "slide_type": ""
    }
   },
   "source": [
    "In the above code, `auto` is a [placeholder type specifier](https://en.cppreference.com/w/cpp/language/auto) that allows the compiler to automatically deduce the data type based on the initializer:"
   ]
  },
  {
   "cell_type": "code",
   "execution_count": null,
   "id": "84054a22",
   "metadata": {
    "editable": true,
    "slideshow": {
     "slide_type": ""
    }
   },
   "outputs": [],
   "source": [
    "%%cpp\n",
    "a"
   ]
  },
  {
   "cell_type": "code",
   "execution_count": null,
   "id": "6b81b869",
   "metadata": {
    "editable": true,
    "slideshow": {
     "slide_type": ""
    }
   },
   "outputs": [],
   "source": [
    "%%cpp\n",
    "d"
   ]
  },
  {
   "cell_type": "markdown",
   "id": "bb06df39",
   "metadata": {
    "editable": true,
    "slideshow": {
     "slide_type": ""
    }
   },
   "source": [
    "Note that a variable is available immediately after the [*locus/point* of declaration](https://en.cppreference.com/w/cpp/language/scope.html#Point_of_declaration). It is really **immediately**:[^recursion]\n",
    "\n",
    "[^recursion]: This will be useful when defining a [recursion](https://en.wikipedia.org/wiki/Recursion) using [lambda expression](https://en.cppreference.com/w/cpp/language/lambda.html)."
   ]
  },
  {
   "cell_type": "code",
   "execution_count": null,
   "id": "5de96fc5",
   "metadata": {
    "editable": true,
    "slideshow": {
     "slide_type": ""
    }
   },
   "outputs": [],
   "source": [
    "%%cpp\n",
    "int one=one+1; // `auto` would not work obviously.\n",
    "one"
   ]
  },
  {
   "cell_type": "code",
   "execution_count": null,
   "id": "ff8664d0",
   "metadata": {},
   "outputs": [],
   "source": [
    "%%ai\n",
    "Explain briefly whether `one` in the following code initialized as `one+1`? \n",
    "Or `1`? or Or `0`?\n",
    "---\n",
    "int one=one+1;"
   ]
  },
  {
   "cell_type": "markdown",
   "id": "7ffcbf9a",
   "metadata": {
    "editable": true,
    "slideshow": {
     "slide_type": ""
    }
   },
   "source": [
    "The copy initialization involves an extra copy step, which can be costly for composite data consisting of many values. The extra copy step can be avoided using [*direct initialization*](https://en.cppreference.com/w/cpp/language/direct_initialization.html):"
   ]
  },
  {
   "cell_type": "code",
   "execution_count": null,
   "id": "91f20fbc",
   "metadata": {
    "editable": true,
    "slideshow": {
     "slide_type": ""
    }
   },
   "outputs": [],
   "source": [
    "%%cpp\n",
    "int one(one+1);\n",
    "one"
   ]
  },
  {
   "cell_type": "code",
   "execution_count": null,
   "id": "fb3df6c0",
   "metadata": {},
   "outputs": [],
   "source": [
    "%%ai\n",
    "Is `int one(one+1);` faster than `int one=one+1;`?"
   ]
  },
  {
   "cell_type": "markdown",
   "id": "0d091c77",
   "metadata": {
    "editable": true,
    "slideshow": {
     "slide_type": ""
    }
   },
   "source": [
    "Let's play with the copy and direct initialization some more:"
   ]
  },
  {
   "cell_type": "code",
   "execution_count": null,
   "id": "5217e0d8",
   "metadata": {
    "editable": true,
    "slideshow": {
     "slide_type": ""
    }
   },
   "outputs": [],
   "source": [
    "%%cpp\n",
    "unsigned short d=-1;  // runs without warning\n",
    "d"
   ]
  },
  {
   "cell_type": "code",
   "execution_count": null,
   "id": "5aecf250",
   "metadata": {
    "editable": true,
    "slideshow": {
     "slide_type": ""
    }
   },
   "outputs": [],
   "source": [
    "%%cpp\n",
    "short b(100000);    // runs with warning\n",
    "b"
   ]
  },
  {
   "cell_type": "markdown",
   "id": "100dd1eb",
   "metadata": {
    "editable": true,
    "slideshow": {
     "slide_type": ""
    }
   },
   "source": [
    "::::{caution}\n",
    "\n",
    "Both the copy and direct initializations do not prevent *narrowing*, i.e., the process of converting a value from a larger data type to a smaller one, potentially resulting in the loss of information or precision.\n",
    "\n",
    "::::"
   ]
  },
  {
   "cell_type": "markdown",
   "id": "b74d1408",
   "metadata": {
    "editable": true,
    "slideshow": {
     "slide_type": ""
    }
   },
   "source": [
    "To catch bugs caused by narrowing, C++11 introduced [*list initialization*](https://en.cppreference.com/w/cpp/language/list_initialization.html):"
   ]
  },
  {
   "cell_type": "code",
   "execution_count": null,
   "id": "8e9736f7",
   "metadata": {
    "editable": true,
    "slideshow": {
     "slide_type": ""
    }
   },
   "outputs": [],
   "source": [
    "%%cpp\n",
    "int one{one+1};\n",
    "one"
   ]
  },
  {
   "cell_type": "markdown",
   "id": "416bdb7e",
   "metadata": {
    "editable": true,
    "slideshow": {
     "slide_type": ""
    }
   },
   "source": [
    "This initialization not only avoid an extra copy step associated with the copy initialization, it also prevents information loss due to narrowing. In particular, the following fails as narrowing is checked by list initialization:\n",
    "\n",
    "```cpp\n",
    "short b{100000};\n",
    "unsigned long d{-1};\n",
    "```"
   ]
  },
  {
   "cell_type": "markdown",
   "id": "a77f7945",
   "metadata": {
    "editable": true,
    "slideshow": {
     "slide_type": ""
    }
   },
   "source": [
    "### Operator"
   ]
  },
  {
   "cell_type": "markdown",
   "id": "6a443158",
   "metadata": {
    "editable": true,
    "slideshow": {
     "slide_type": ""
    }
   },
   "source": [
    "The values of variables can be modified using [assignment operators](https://en.cppreference.com/w/cpp/language/operator_assignment.html):"
   ]
  },
  {
   "cell_type": "code",
   "execution_count": null,
   "id": "d680eab2",
   "metadata": {
    "editable": true,
    "slideshow": {
     "slide_type": ""
    }
   },
   "outputs": [],
   "source": [
    "%%cpp\n",
    "unsigned long d, e, f;\n",
    "d = e = f = 1;\n",
    "cout << format(\"{} {} {}\\n\", d, e, f);"
   ]
  },
  {
   "cell_type": "markdown",
   "id": "24ea54d4",
   "metadata": {
    "editable": true,
    "slideshow": {
     "slide_type": ""
    }
   },
   "source": [
    "`d = e = f = 1` behaves like chained assignment in Python:"
   ]
  },
  {
   "cell_type": "code",
   "execution_count": null,
   "id": "c8540e28",
   "metadata": {
    "editable": true,
    "slideshow": {
     "slide_type": ""
    }
   },
   "outputs": [],
   "source": [
    "d = e = f = 1\n",
    "print(d, e, f)"
   ]
  },
  {
   "cell_type": "markdown",
   "id": "cdbd10d4",
   "metadata": {
    "editable": true,
    "slideshow": {
     "slide_type": ""
    }
   },
   "source": [
    "Similar to the augmented assignment operators in Python, C++ also has compound assignment operators such as `+=`, `-=`, `*=`, `/=`, `%=`, `&=`, `|=`, `^=`, `<<=`, `>>=`:"
   ]
  },
  {
   "cell_type": "code",
   "execution_count": null,
   "id": "db7b7dd7",
   "metadata": {
    "editable": true,
    "slideshow": {
     "slide_type": ""
    }
   },
   "outputs": [],
   "source": [
    "%%cpp\n",
    "f += e += d += 1;\n",
    "cout << format(\"{} {} {}\\n\", d, e, f);"
   ]
  },
  {
   "cell_type": "markdown",
   "id": "4eb7712d",
   "metadata": {
    "editable": true,
    "slideshow": {
     "slide_type": ""
    }
   },
   "source": [
    "However, `f += e += d += 1` is not a valid syntax in Python. How does assignment work in C++?"
   ]
  },
  {
   "cell_type": "markdown",
   "id": "f9cd67d3",
   "metadata": {
    "editable": true,
    "slideshow": {
     "slide_type": ""
    }
   },
   "source": [
    "1. In C++, assignment operators are right associative and so the evaluation is equivalent to\n",
    "    ```cpp\n",
    "    f += (e += (d += 1))\n",
    "    ```\n",
    "    \n",
    "    In comparison, assignment operators are non-associative in Python."
   ]
  },
  {
   "cell_type": "markdown",
   "id": "3c41c31d",
   "metadata": {
    "editable": true,
    "slideshow": {
     "slide_type": ""
    }
   },
   "source": [
    "2. In C++, an assignment operation has a value equal to the assigned value, so \n",
    "    - `(d += 1)` evaluates to `d+1`;\n",
    "    - `(e += d+1)` evaluates to `e+d+1`; and\n",
    "    - `(f += e+d+1)` evaluates to `f+e+d+1`.\n",
    "   \n",
    "   In comparison, an assignment is usually a statement in Python that does not have a value.[^walrus]\n",
    "\n",
    "[^walrus]: The exception is the assignment expression using the walrus operator `:=`."
   ]
  },
  {
   "cell_type": "markdown",
   "id": "f7507aee",
   "metadata": {},
   "source": [
    "Note that assignment and initialization are different operations. For instance, a variable can be declared to be a [constant](https://en.cppreference.com/w/cpp/language/cv.html) using `const`:"
   ]
  },
  {
   "cell_type": "code",
   "execution_count": null,
   "id": "423c3a3a",
   "metadata": {},
   "outputs": [],
   "source": [
    "%%cpp\n",
    "const int one=one+1; // cannot write `const int one+=1;`\n",
    "// one += 1;   // fails\n",
    "cout << one;"
   ]
  },
  {
   "cell_type": "markdown",
   "id": "2a9dc34e",
   "metadata": {},
   "source": [
    "A constant is stored in read-only memory that cannot be modified after initialization. While the default initialization and copy initialization in `const int one=one+1;` are okay, the compound assignment operation `one+=1` is not."
   ]
  },
  {
   "cell_type": "markdown",
   "id": "02181aae",
   "metadata": {
    "editable": true,
    "slideshow": {
     "slide_type": ""
    }
   },
   "source": [
    "::::{caution} Precedence and Associativity\n",
    "\n",
    "An expression often involves many operators, so it is important to learn the precedence and associativity of [the list of operators](https://en.cppreference.com/w/cpp/language/operator_precedence.html) to understand the code. If you get to write the code instead, you can always use paratheses to specify the desired order.\n",
    "\n",
    "::::"
   ]
  },
  {
   "cell_type": "markdown",
   "id": "3c9fa8f3",
   "metadata": {
    "editable": true,
    "slideshow": {
     "slide_type": ""
    }
   },
   "source": [
    "Note that different programming languages may have different meanings or implementations for the same operator."
   ]
  },
  {
   "cell_type": "markdown",
   "id": "2f367baf",
   "metadata": {
    "editable": true,
    "slideshow": {
     "slide_type": ""
    }
   },
   "source": [
    " While C++ has no exponentiation operator `**`, unlike Python, it has the the suffix/prefix increment/decrement operators `++`/`--`, which are not available in Python:"
   ]
  },
  {
   "cell_type": "code",
   "execution_count": null,
   "id": "2c080e96",
   "metadata": {
    "editable": true,
    "slideshow": {
     "slide_type": ""
    }
   },
   "outputs": [],
   "source": [
    "%%cpp\n",
    "int x = 0;\n",
    "int y = x++; // increments x after evaluation\n",
    "int z = --x; // decrements x before evalution\n",
    "x == y && y == z && z == 0  // all zero?"
   ]
  },
  {
   "cell_type": "markdown",
   "id": "28a92b03",
   "metadata": {
    "editable": true,
    "slideshow": {
     "slide_type": ""
    }
   },
   "source": [
    "The last expression utilizes the comparison operator `==` (not `=`) to check *equality* and combine these checks using the logical *AND* operator `&&`. In general, comparison operators have higher precedence than logical operators and so they are evaluated first, i.e.,\n",
    "\n",
    "```cpp\n",
    "(x == y) && (y == z) && (z == 0)\n",
    "```"
   ]
  },
  {
   "cell_type": "markdown",
   "id": "7fcf7fb7",
   "metadata": {
    "editable": true,
    "slideshow": {
     "slide_type": ""
    }
   },
   "source": [
    "In Python, you can achieve the same effect using a chained comparison:"
   ]
  },
  {
   "cell_type": "code",
   "execution_count": null,
   "id": "37f8f7ba",
   "metadata": {
    "editable": true,
    "slideshow": {
     "slide_type": ""
    }
   },
   "outputs": [],
   "source": [
    "ROOT.x == ROOT.y == ROOT.z == 0"
   ]
  },
  {
   "cell_type": "markdown",
   "id": "c04aa7c0",
   "metadata": {
    "editable": true,
    "slideshow": {
     "slide_type": ""
    }
   },
   "source": [
    "::::{exercise}\n",
    ":label: ex:all-zero\n",
    "\n",
    "Why does the following C++ code return false even when `x`, `y`, and `z` are all zeros?\n",
    "\n",
    "::::"
   ]
  },
  {
   "cell_type": "code",
   "execution_count": null,
   "id": "e16d8821",
   "metadata": {
    "editable": true,
    "slideshow": {
     "slide_type": ""
    }
   },
   "outputs": [],
   "source": [
    "%%cpp\n",
    "int x = y = z = 0;\n",
    "x == y == z"
   ]
  },
  {
   "cell_type": "markdown",
   "id": "0059926b",
   "metadata": {
    "deletable": false,
    "editable": false,
    "nbgrader": {
     "cell_type": "markdown",
     "checksum": "ac49d22b5368f6188059efc333303d78",
     "grade": false,
     "grade_id": "all-zero",
     "locked": true,
     "points": 0,
     "schema_version": 3,
     "solution": false,
     "task": true
    },
    "slideshow": {
     "slide_type": ""
    }
   },
   "source": [
    "::::{solution} ex:all-zero\n",
    ":class: dropdown\n",
    "\n",
    "The chaining in C++ works differently than the chained comparison in Python.\n",
    "\n",
    "- `x == y == z` evaluates to `true == z` since `==` is left-associative and `x == y` evaluates to `true`; and\n",
    "- `true == z` evaluates to `false` since `z` is `0`, not `true.\n",
    "\n",
    "::::"
   ]
  },
  {
   "cell_type": "markdown",
   "id": "545a5e69",
   "metadata": {
    "editable": true,
    "slideshow": {
     "slide_type": ""
    }
   },
   "source": [
    "[](#code_gcd1) uses the [modulo operation](https://en.wikipedia.org/wiki/Modulo) `a % b` to give the remainder of `a` divided by `b`. However, the behavior can be confusing for negative operands, i.e., when `a` or `b` are negative. [](#code_gcd1) can give different results if written in a different programming language or hardware because the modulo operator may have a different implementation."
   ]
  },
  {
   "cell_type": "markdown",
   "id": "f08d8b2a",
   "metadata": {
    "editable": true,
    "slideshow": {
     "slide_type": ""
    }
   },
   "source": [
    "For C++:"
   ]
  },
  {
   "cell_type": "code",
   "execution_count": null,
   "id": "56a1943d",
   "metadata": {
    "editable": true,
    "slideshow": {
     "slide_type": ""
    }
   },
   "outputs": [],
   "source": [
    "%%cpp\n",
    "int r0=  5 %  3;\n",
    "int r1= -5 %  3;\n",
    "int r2=  5 % -3;\n",
    "int r3= -5 % -3;\n",
    "cout << format(\"{}, {}, {}, {}\\n\", r0, r1, r2, r3);"
   ]
  },
  {
   "cell_type": "markdown",
   "id": "0a8f6ca1",
   "metadata": {
    "editable": true,
    "slideshow": {
     "slide_type": ""
    }
   },
   "source": [
    "For Python:"
   ]
  },
  {
   "cell_type": "code",
   "execution_count": null,
   "id": "6fc1610e",
   "metadata": {
    "editable": true,
    "slideshow": {
     "slide_type": ""
    }
   },
   "outputs": [],
   "source": [
    "print(\"{}, {}, {}, {}\\n\".format(5 % 3, -5 % 3, 5 % -3, -5 % -3))"
   ]
  },
  {
   "cell_type": "markdown",
   "id": "ded29d5a",
   "metadata": {
    "editable": true,
    "slideshow": {
     "slide_type": ""
    }
   },
   "source": [
    "::::{prf:definition} Modulo\n",
    ":label: def:modulo\n",
    "\n",
    "$a \\bmod b$ gives the remainder $r$ that satisfies for some integer $q \\in \\mathbb{Z}$, called quotient, that\n",
    "\n",
    "$$\n",
    "\\begin{align}\n",
    "a &= b\\cdot q + r\\\\\n",
    "\\lvert r\\rvert&<\\lvert d\\rvert.\n",
    "\\end{align}\n",
    "$$ (eq:modulo)\n",
    "\n",
    "The condition above does *not* determine $r$ (and $q$) uniquely unless the sign of $r$ is also specified.\n",
    "\n",
    "::::"
   ]
  },
  {
   "cell_type": "markdown",
   "id": "6983c64c",
   "metadata": {
    "editable": true,
    "slideshow": {
     "slide_type": ""
    }
   },
   "source": [
    "::::{exercise}\n",
    ":label: ex:modulo\n",
    "\n",
    "How is the modulo operation implemented differently in C++ and Python?\n",
    "\n",
    "::::"
   ]
  },
  {
   "cell_type": "markdown",
   "id": "f559d864",
   "metadata": {
    "deletable": false,
    "editable": false,
    "nbgrader": {
     "cell_type": "markdown",
     "checksum": "a28e71f79055e1e563d6d57029751102",
     "grade": false,
     "grade_id": "modulo",
     "locked": true,
     "points": 0,
     "schema_version": 3,
     "solution": false,
     "task": true
    },
    "slideshow": {
     "slide_type": ""
    }
   },
   "source": [
    "::::{solution} ex:modulo\n",
    ":class: dropdown\n",
    "\n",
    "The sign of $r$ follows that of the dividend (divisor) for C++ (Python). E.g., for C++,\n",
    "\n",
    "\\begin{alignat}{3}\n",
    "-5 &= &3 &\\cdot \\overbrace{(-1)}^{q} +&\\overbrace{(- 2)}^{r}&\\\\\n",
    "5 &= &-3 &\\cdot (-1) + &2&\n",
    "\\end{alignat}\n",
    "\n",
    "::::"
   ]
  },
  {
   "cell_type": "markdown",
   "id": "883474a0",
   "metadata": {
    "editable": true,
    "slideshow": {
     "slide_type": ""
    }
   },
   "source": [
    "The quotient $q$ in [](#eq:modulo) can be obtained by the division operation `/` operation."
   ]
  },
  {
   "cell_type": "code",
   "execution_count": null,
   "id": "ee06509f",
   "metadata": {
    "editable": true,
    "slideshow": {
     "slide_type": ""
    }
   },
   "outputs": [],
   "source": [
    "%%cpp\n",
    "int q0=  5 /  3;\n",
    "int q1= -5 /  3;\n",
    "int q2=  5 / -3;\n",
    "int q3= -5 / -3;\n",
    "cout << format(\"{}, {}, {}, {}\\n\", q0, q1, q2, q3);"
   ]
  },
  {
   "cell_type": "markdown",
   "id": "82d1cd0e",
   "metadata": {
    "editable": true,
    "slideshow": {
     "slide_type": ""
    }
   },
   "source": [
    "In Python, `//` is used instead for integer division. Similar to `%`, the implementation for `//` is also slightly different from `/` in C++."
   ]
  },
  {
   "cell_type": "code",
   "execution_count": null,
   "id": "c34d8c2a",
   "metadata": {
    "editable": true,
    "slideshow": {
     "slide_type": ""
    }
   },
   "outputs": [],
   "source": [
    "print(\"{}, {}, {}, {}\\n\".format(5 // 3, -5 // 3, 5 // -3, -5 // -3))"
   ]
  },
  {
   "cell_type": "code",
   "execution_count": null,
   "id": "4361816e",
   "metadata": {
    "editable": true,
    "slideshow": {
     "slide_type": ""
    },
    "tags": [
     "skip-execution"
    ]
   },
   "outputs": [],
   "source": [
    "%%ai\n",
    "Explain in one line how integer division is implemented differently in \n",
    "C++ versus Python."
   ]
  },
  {
   "cell_type": "markdown",
   "id": "9cde70c1",
   "metadata": {
    "editable": true,
    "slideshow": {
     "slide_type": ""
    }
   },
   "source": [
    "## Character"
   ]
  },
  {
   "cell_type": "markdown",
   "id": "03af442d",
   "metadata": {
    "editable": true,
    "slideshow": {
     "slide_type": ""
    }
   },
   "source": [
    "How to represent a character?"
   ]
  },
  {
   "cell_type": "markdown",
   "id": "fec3e912",
   "metadata": {
    "editable": true,
    "slideshow": {
     "slide_type": ""
    }
   },
   "source": [
    "A character literal is a character delimited by *single* quotes."
   ]
  },
  {
   "cell_type": "code",
   "execution_count": null,
   "id": "5afc8e62",
   "metadata": {
    "editable": true,
    "slideshow": {
     "slide_type": ""
    }
   },
   "outputs": [],
   "source": [
    "%%cpp\n",
    "'f'"
   ]
  },
  {
   "cell_type": "markdown",
   "id": "12650557",
   "metadata": {
    "editable": true,
    "slideshow": {
     "slide_type": ""
    }
   },
   "source": [
    "Each value of type [`char`](https://en.cppreference.com/w/cpp/language/types.html#Character_types) is represented by 1 byte."
   ]
  },
  {
   "cell_type": "code",
   "execution_count": null,
   "id": "8a422f46",
   "metadata": {
    "editable": true,
    "slideshow": {
     "slide_type": ""
    }
   },
   "outputs": [],
   "source": [
    "%%cpp\n",
    "sizeof(char)"
   ]
  },
  {
   "cell_type": "markdown",
   "id": "3b577b23",
   "metadata": {
    "editable": true,
    "slideshow": {
     "slide_type": ""
    }
   },
   "source": [
    "[`char`](https://en.cppreference.com/w/cpp/language/types.html#Character_types) is is actually an integer type, e.g., we can initialize variables of type `char` with integer values as follows."
   ]
  },
  {
   "cell_type": "code",
   "execution_count": null,
   "id": "6ca6d278",
   "metadata": {
    "editable": true,
    "slideshow": {
     "slide_type": ""
    }
   },
   "outputs": [],
   "source": [
    "%%cpp\n",
    "char a = 65, b(66), c {67};\n",
    "cout << format(\"{} {} {}\", a, b, c);"
   ]
  },
  {
   "cell_type": "markdown",
   "id": "f52cc906",
   "metadata": {
    "editable": true,
    "slideshow": {
     "slide_type": ""
    }
   },
   "source": [
    "We can also perform arithmetic operations on characters like what we can do on integers:"
   ]
  },
  {
   "cell_type": "code",
   "execution_count": null,
   "id": "30479934",
   "metadata": {
    "editable": true,
    "slideshow": {
     "slide_type": ""
    }
   },
   "outputs": [],
   "source": [
    "%%cpp\n",
    "a - b * 2"
   ]
  },
  {
   "cell_type": "markdown",
   "id": "3cab61a5",
   "metadata": {
    "editable": true,
    "slideshow": {
     "slide_type": ""
    }
   },
   "source": [
    "`char` can also be signed or unsigned:"
   ]
  },
  {
   "cell_type": "code",
   "execution_count": null,
   "id": "c9385af0",
   "metadata": {
    "editable": true,
    "slideshow": {
     "slide_type": ""
    }
   },
   "outputs": [],
   "source": [
    "%%cpp\n",
    "numeric_limits<char>::min()           // sign bit (left-most bit) equals 1"
   ]
  },
  {
   "cell_type": "code",
   "execution_count": null,
   "id": "1f6f2be3",
   "metadata": {
    "editable": true,
    "slideshow": {
     "slide_type": ""
    }
   },
   "outputs": [],
   "source": [
    "%%cpp\n",
    "numeric_limits<unsigned char>::min()  // 0"
   ]
  },
  {
   "cell_type": "markdown",
   "id": "57fffc9d",
   "metadata": {
    "editable": true,
    "slideshow": {
     "slide_type": ""
    }
   },
   "source": [
    "A character is represented by an integer according to the [ASCII code](https://en.cppreference.com/w/cpp/language/ascii.html). The following converts between `int` and `char` using [static type casting](https://en.cppreference.com/w/cpp/language/static_cast.html):"
   ]
  },
  {
   "cell_type": "code",
   "execution_count": null,
   "id": "dd0c97dc",
   "metadata": {
    "editable": true,
    "slideshow": {
     "slide_type": ""
    }
   },
   "outputs": [],
   "source": [
    "%%cpp\n",
    "cout << format(\"The ASCII code of {} is {}.\\n\", static_cast<char>(65), static_cast<int>('A'));"
   ]
  },
  {
   "cell_type": "markdown",
   "id": "541b72f8",
   "metadata": {
    "editable": true,
    "slideshow": {
     "slide_type": ""
    }
   },
   "source": [
    "::::{caution} C-style cast\n",
    "\n",
    "The [C-style cast](https://en.cppreference.com/w/c/language/cast.html) `(int) 'A'` also works, but it is not preferred because it lacks compile-time type safety checks.\n",
    "For example, [](#code_fast_inv_sqrt1_guess) for computing the initial guess of the [fast inverse square root algorithm](https://en.wikipedia.org/wiki/Fast_inverse_square_root#Overview_of_the_code) can use the C-style cast like\n",
    "\n",
    "```cpp\n",
    "auto i = *(int64_t *)(&x);\n",
    "...\n",
    "auto y = *(double *)(&i);\n",
    "```\n",
    "\n",
    "The first line converts the address `&x` of a `double` to an address of `int64_t`, so the dereferenced value can be assigned as an integer to `i`. In other words, while the binary sequences stored in the memory locations of `x` and `i` are the same, they represent numbers of very different types. Such pointer conversions are rare and are often the result of mistakenly typing `*`, which can lead to memory corruption. Therefore, `static_cast` incorporates type safety checks to raise an error for such conversions, helping to identify issues more easily. If such a conversion is intended, however, programmers can use `reinterpret_cast` instead, as shown in [this code](#code_fast_inv_sqrt1_guess).\n",
    "\n",
    "::::"
   ]
  },
  {
   "cell_type": "code",
   "execution_count": null,
   "id": "988ff872",
   "metadata": {
    "editable": true,
    "slideshow": {
     "slide_type": ""
    },
    "tags": [
     "skip-execution"
    ]
   },
   "outputs": [],
   "source": [
    "%%ai\n",
    "What is static about static_cast?"
   ]
  },
  {
   "cell_type": "markdown",
   "id": "25adfba1",
   "metadata": {
    "editable": true,
    "slideshow": {
     "slide_type": ""
    }
   },
   "source": [
    "Be careful that not every character can be printed. E.g., the last character in the ASCII code is <kbd>DEL</kbd> (delete), which cannot be printed."
   ]
  },
  {
   "cell_type": "code",
   "execution_count": null,
   "id": "2cd812d0",
   "metadata": {
    "editable": true,
    "slideshow": {
     "slide_type": ""
    }
   },
   "outputs": [],
   "source": [
    "%%cpp\n",
    "cout << format(\"The ASCII code of {} is {}.\\n\", static_cast<char>(127), 127);"
   ]
  },
  {
   "cell_type": "markdown",
   "id": "1d3f6b4c",
   "metadata": {
    "editable": true,
    "slideshow": {
     "slide_type": ""
    }
   },
   "source": [
    "::::{exercise}\n",
    ":label: ex:ascii\n",
    "\n",
    "Explain why the following static type casting fails:\n",
    "\n",
    "```cpp\n",
    "static_cast<char>(128)\n",
    "```\n",
    "\n",
    "::::"
   ]
  },
  {
   "cell_type": "markdown",
   "id": "511a02e4",
   "metadata": {
    "deletable": false,
    "editable": true,
    "nbgrader": {
     "cell_type": "markdown",
     "checksum": "71d0e1becc52eb207539a3748390e089",
     "grade": true,
     "grade_id": "ascii",
     "locked": false,
     "points": 0,
     "schema_version": 3,
     "solution": true,
     "task": false
    },
    "slideshow": {
     "slide_type": ""
    }
   },
   "source": [
    "YOUR ANSWER HERE"
   ]
  },
  {
   "cell_type": "markdown",
   "id": "bc3e2ef9",
   "metadata": {
    "editable": true,
    "slideshow": {
     "slide_type": ""
    }
   },
   "source": [
    "The first character in the ASCII code is <kbd>NUL</kbd> (null), which cannot be printed either."
   ]
  },
  {
   "cell_type": "code",
   "execution_count": null,
   "id": "72e09aee",
   "metadata": {
    "editable": true,
    "slideshow": {
     "slide_type": ""
    }
   },
   "outputs": [],
   "source": [
    "%%cpp\n",
    "cout << format(\"The ASCII code of {} is {}.\\n\", static_cast<char>(0), 0);"
   ]
  },
  {
   "cell_type": "markdown",
   "id": "68459b6d",
   "metadata": {},
   "source": [
    "Note that it is missing a few more characters at the end, namely, `is 0.`. Why?"
   ]
  },
  {
   "cell_type": "code",
   "execution_count": null,
   "id": "1f7b2110",
   "metadata": {
    "editable": true,
    "slideshow": {
     "slide_type": ""
    },
    "tags": [
     "skip-execution"
    ]
   },
   "outputs": [],
   "source": [
    "%%ai\n",
    "Why the following C++ code only prints \"The ASCII code of\"?\n",
    "---\n",
    "cout << format(\"The ASCII code of \\{\\} is \\{\\}.\\n\", static_cast<char>(0), 0);"
   ]
  },
  {
   "cell_type": "markdown",
   "id": "0abd62c0",
   "metadata": {
    "editable": true,
    "slideshow": {
     "slide_type": ""
    }
   },
   "source": [
    "## Floating Point Number"
   ]
  },
  {
   "cell_type": "markdown",
   "id": "62b3ef2c",
   "metadata": {},
   "source": [
    "### Declaration"
   ]
  },
  {
   "cell_type": "markdown",
   "id": "970cb3ee",
   "metadata": {
    "editable": true,
    "slideshow": {
     "slide_type": ""
    }
   },
   "source": [
    "Computations on real numbers are essential for many applications such as simulations, modeling, computer graphics, and machine learning, etc. To manipulate real numbers, a simple idea is to approximate a real number by a rational number, which can then be represented by two integers, namely, the numerator and denominator. For instance, \n",
    "\n",
    "$$\\pi\\approx \\frac{22}{7}.$$"
   ]
  },
  {
   "cell_type": "code",
   "execution_count": null,
   "id": "90e6e0e9",
   "metadata": {
    "editable": true,
    "slideshow": {
     "slide_type": ""
    }
   },
   "outputs": [],
   "source": [
    "%%cpp\n",
    "22/7"
   ]
  },
  {
   "cell_type": "markdown",
   "id": "e4018718",
   "metadata": {
    "editable": true,
    "slideshow": {
     "slide_type": ""
    }
   },
   "source": [
    "That is not quite what we expected! While you may know how to fix the above issue, it highlights the need for a more convenient representation for numerical computations—[floating-point arithmetics](https://en.wikipedia.org/wiki/IEEE_754).[^FPU] \n",
    "\n",
    "[^FPU]: Modern CPUs and GPUs are equipped with dedicated hardware called [Floating Point Units (FPUs)](https://en.wikipedia.org/wiki/Floating-point_unit) specifically designed to handle floating-point arithmetic efficiently."
   ]
  },
  {
   "cell_type": "code",
   "execution_count": null,
   "id": "5cb8e1e2",
   "metadata": {
    "editable": true,
    "slideshow": {
     "slide_type": ""
    }
   },
   "outputs": [],
   "source": [
    "%%cpp\n",
    "22/7.  // the point is not the period"
   ]
  },
  {
   "cell_type": "markdown",
   "id": "9feb141c",
   "metadata": {
    "editable": true,
    "slideshow": {
     "slide_type": ""
    }
   },
   "source": [
    "::::{exercise}\n",
    ":label: ex:op_overloading\n",
    "\n",
    "Explain why `22/7` and `22/7.` produce different results.\n",
    "\n",
    "::::"
   ]
  },
  {
   "cell_type": "markdown",
   "id": "bb088fee",
   "metadata": {
    "deletable": false,
    "editable": true,
    "nbgrader": {
     "cell_type": "markdown",
     "checksum": "fd1f79a6af798e8fb4cb6b84c0b37fc2",
     "grade": true,
     "grade_id": "op_overloading",
     "locked": false,
     "points": 0,
     "schema_version": 3,
     "solution": true,
     "task": false
    },
    "slideshow": {
     "slide_type": ""
    }
   },
   "source": [
    "YOUR ANSWER HERE"
   ]
  },
  {
   "cell_type": "markdown",
   "id": "9593681c",
   "metadata": {
    "editable": true,
    "slideshow": {
     "slide_type": ""
    }
   },
   "source": [
    "In C++, there are two floating-point data types: `double` and `float`."
   ]
  },
  {
   "cell_type": "code",
   "execution_count": null,
   "id": "5a9abdbd",
   "metadata": {
    "editable": true,
    "slideshow": {
     "slide_type": ""
    }
   },
   "outputs": [],
   "source": [
    "%%cpp\n",
    "constexpr auto PI = 0.314e1  // scientific notation"
   ]
  },
  {
   "cell_type": "markdown",
   "id": "ae94803f",
   "metadata": {
    "editable": true,
    "slideshow": {
     "slide_type": ""
    }
   },
   "source": [
    "The qualifier [`constexpr`](https://en.cppreference.com/w/cpp/language/constexpr.html) declares a constant expression whose value is known at compile time and will not be modified later. In comparison, the qualifier `const` declares a runtime constant whose value need not be determined at compile time.[^constexpr] For instance, a number randomly drawn with `std::rand()` from `<cstdlib>` can be defined as a constant, but not a constant expression:\n",
    "\n",
    "[^constexpr]: Constant expressions potentially allows the compiler to further optimize the code for faster execution."
   ]
  },
  {
   "cell_type": "code",
   "execution_count": null,
   "id": "a59ce825",
   "metadata": {
    "editable": true,
    "slideshow": {
     "slide_type": ""
    }
   },
   "outputs": [],
   "source": [
    "%%cpp\n",
    "const auto a=rand();\n",
    "a"
   ]
  },
  {
   "cell_type": "markdown",
   "id": "ac457d05",
   "metadata": {
    "editable": true,
    "slideshow": {
     "slide_type": ""
    }
   },
   "source": [
    "The following will fail because the initializer is randomly drawn at runtime:\n",
    "\n",
    "```cpp\n",
    "constexpr auto a=rand();\n",
    "```"
   ]
  },
  {
   "cell_type": "markdown",
   "id": "2772f388",
   "metadata": {
    "editable": true,
    "slideshow": {
     "slide_type": ""
    }
   },
   "source": [
    "To enter a `float`, add the suffix `f` to the floating point number:"
   ]
  },
  {
   "cell_type": "code",
   "execution_count": null,
   "id": "c6814f14",
   "metadata": {
    "editable": true,
    "slideshow": {
     "slide_type": ""
    }
   },
   "outputs": [],
   "source": [
    "%%cpp\n",
    "constexpr auto PI = 3.14f  // single precision instead of the default double precision"
   ]
  },
  {
   "cell_type": "markdown",
   "id": "fc51ca7b",
   "metadata": {},
   "source": [
    "### Precision"
   ]
  },
  {
   "cell_type": "markdown",
   "id": "ddc18501",
   "metadata": {
    "editable": true,
    "slideshow": {
     "slide_type": ""
    }
   },
   "source": [
    "The benefit of `float` is that it occupies less memory than `double`:"
   ]
  },
  {
   "cell_type": "code",
   "execution_count": null,
   "id": "21d88f1f",
   "metadata": {
    "editable": true,
    "slideshow": {
     "slide_type": ""
    }
   },
   "outputs": [],
   "source": [
    "%%cpp\n",
    "sizeof(double)"
   ]
  },
  {
   "cell_type": "code",
   "execution_count": null,
   "id": "abdbca7f",
   "metadata": {
    "editable": true,
    "slideshow": {
     "slide_type": ""
    }
   },
   "outputs": [],
   "source": [
    "%%cpp\n",
    "sizeof(float)"
   ]
  },
  {
   "cell_type": "markdown",
   "id": "a2f3e75a",
   "metadata": {
    "editable": true,
    "slideshow": {
     "slide_type": ""
    }
   },
   "source": [
    "However, the smaller memory footprint comes at the cost of a lower precision. For instance, consider the [mass-energy equivalence](https://en.wikipedia.org/wiki/Mass%E2%80%93energy_equivalence):"
   ]
  },
  {
   "cell_type": "code",
   "execution_count": null,
   "id": "9ff3c8b9",
   "metadata": {
    "editable": true,
    "slideshow": {
     "slide_type": ""
    }
   },
   "outputs": [],
   "source": [
    "%%cpp\n",
    "constexpr float c = 2.99792458e8f;  // the speed of light\n",
    "float m = 5, E = m*c*c;        // the mass-energy equivalence"
   ]
  },
  {
   "cell_type": "markdown",
   "id": "30bff846",
   "metadata": {
    "editable": true,
    "slideshow": {
     "slide_type": ""
    }
   },
   "source": [
    "Of course, $E=mc^2$ as verified below:"
   ]
  },
  {
   "cell_type": "code",
   "execution_count": null,
   "id": "dbf86503",
   "metadata": {
    "editable": true,
    "slideshow": {
     "slide_type": ""
    }
   },
   "outputs": [],
   "source": [
    "%%cpp\n",
    "(E == m*c*c)"
   ]
  },
  {
   "cell_type": "markdown",
   "id": "af55db30",
   "metadata": {
    "editable": true,
    "slideshow": {
     "slide_type": ""
    }
   },
   "source": [
    "But $\\frac{E}{c^2} \\neq m$ somehow:"
   ]
  },
  {
   "cell_type": "code",
   "execution_count": null,
   "id": "5b2ca8c7",
   "metadata": {
    "editable": true,
    "slideshow": {
     "slide_type": ""
    }
   },
   "outputs": [],
   "source": [
    "%%cpp\n",
    "E/(c*c) == m"
   ]
  },
  {
   "cell_type": "markdown",
   "id": "ee754e5d",
   "metadata": {
    "editable": true,
    "slideshow": {
     "slide_type": ""
    }
   },
   "source": [
    "Changing the order or operations makes it work somehow:"
   ]
  },
  {
   "cell_type": "code",
   "execution_count": null,
   "id": "d8d8e07d",
   "metadata": {
    "editable": true,
    "slideshow": {
     "slide_type": ""
    }
   },
   "outputs": [],
   "source": [
    "%%cpp\n",
    "E/c/c == m"
   ]
  },
  {
   "cell_type": "markdown",
   "id": "6d64333d",
   "metadata": {
    "editable": true,
    "slideshow": {
     "slide_type": ""
    }
   },
   "source": [
    "Using `double` instead of `float` also works:"
   ]
  },
  {
   "cell_type": "code",
   "execution_count": null,
   "id": "0ab893f4",
   "metadata": {
    "editable": true,
    "slideshow": {
     "slide_type": ""
    }
   },
   "outputs": [],
   "source": [
    "%%cpp\n",
    "constexpr double c = 2.99792458e8;  // double instead of float\n",
    "double m = 5, E = m*c*c;        // double instead of float\n",
    "E == m*c*c && E/(c*c) == m"
   ]
  },
  {
   "cell_type": "markdown",
   "id": "365c5895",
   "metadata": {
    "editable": true,
    "slideshow": {
     "slide_type": ""
    }
   },
   "source": [
    "You might think that the issue has to do with very large/small numbers. The following shows that even a number close to 1, and with just one decimal place cannot be accurately represented in floating point:"
   ]
  },
  {
   "cell_type": "code",
   "execution_count": null,
   "id": "a3dc8e8f",
   "metadata": {
    "editable": true,
    "slideshow": {
     "slide_type": ""
    }
   },
   "outputs": [],
   "source": [
    "%%cpp\n",
    "cout << fixed << setprecision(20) << 1.1 << '\\n';  // for double"
   ]
  },
  {
   "cell_type": "markdown",
   "id": "37d7d6da",
   "metadata": {},
   "source": [
    "::::{seealso} How does the above code print up to 20 decimal places?\n",
    ":class: dropdown\n",
    "\n",
    "- [`std::fixed`](https://en.cppreference.com/w/cpp/io/manip/fixed.html): This manipulator sets the output format to fixed-point notation.\n",
    "- [`std::setprecision(20)`](https://en.cppreference.com/w/cpp/io/manip/setprecision.html) from [`<iomanip>`](https://en.cppreference.com/w/cpp/header/iomanip.html): This sets the number of digits after the decimal point to 20.\n",
    "\n",
    "::::"
   ]
  },
  {
   "cell_type": "code",
   "execution_count": null,
   "id": "eb79218f",
   "metadata": {
    "editable": true,
    "slideshow": {
     "slide_type": ""
    }
   },
   "outputs": [],
   "source": [
    "%%cpp\n",
    "cout << format(\"{:.20f}\\n\", 1.1f);  // for float"
   ]
  },
  {
   "cell_type": "markdown",
   "id": "8334ee3f",
   "metadata": {
    "editable": true,
    "slideshow": {
     "slide_type": ""
    }
   },
   "source": [
    "::::{seealso} How does the above code format the floating point number?\n",
    ":class: dropdown\n",
    "\n",
    "The second piece of code uses a [format specifier](https://en.cppreference.com/w/cpp/utility/format/spec.html) `{:.20f}`, which is a little bit cryptic but very convenient.\n",
    "\n",
    "::::"
   ]
  },
  {
   "cell_type": "markdown",
   "id": "0a520b10",
   "metadata": {
    "editable": true,
    "slideshow": {
     "slide_type": ""
    }
   },
   "source": [
    "Floating-point numbers have *limited precision*:\n",
    "\n",
    "- Single precision is accurate typically to 6-9 decimal digits.\n",
    "- Double precision is accurate typically to 15-17 decimal digits.\n",
    "\n",
    "The precision error can accumulates differently for different operations executed in different orders."
   ]
  },
  {
   "cell_type": "markdown",
   "id": "9733faba",
   "metadata": {
    "editable": true,
    "slideshow": {
     "slide_type": ""
    }
   },
   "source": [
    "The limits of `float` (and similarly `double`) can be obtained as follows from [`numeric_limits`](https://en.cppreference.com/w/cpp/types/numeric_limits.html#Member_functions):"
   ]
  },
  {
   "cell_type": "code",
   "execution_count": null,
   "id": "1bd00605",
   "metadata": {
    "editable": true,
    "slideshow": {
     "slide_type": ""
    }
   },
   "outputs": [],
   "source": [
    "%%cpp\n",
    "cout << format(\"Minimum value: {}\\n\", std::numeric_limits<float>::min());\n",
    "cout << format(\"Lowest value (including subnormal): {}\\n\", std::numeric_limits<float>::lowest());\n",
    "cout << format(\"Maximum value: {}\\n\", std::numeric_limits<float>::max());\n",
    "cout << format(\"Epsilon (difference between 1.0 and the next representable float): {}\\n\", std::numeric_limits<float>::epsilon());\n",
    "cout << format(\"Round error: {}\\n\", std::numeric_limits<float>::round_error());\n",
    "cout << format(\"Denormalized minimum value: {}\\n\", std::numeric_limits<float>::denorm_min());"
   ]
  },
  {
   "cell_type": "code",
   "execution_count": null,
   "id": "5569f67f",
   "metadata": {
    "editable": true,
    "slideshow": {
     "slide_type": ""
    }
   },
   "outputs": [],
   "source": [
    "%%cpp\n",
    "numeric_limits<float>::min()           // the smallest positive normal value"
   ]
  },
  {
   "cell_type": "code",
   "execution_count": null,
   "id": "48c0ce57",
   "metadata": {
    "editable": true,
    "slideshow": {
     "slide_type": ""
    }
   },
   "outputs": [],
   "source": [
    "%%cpp\n",
    "numeric_limits<float>::lowest()        // the lowest finite value"
   ]
  },
  {
   "cell_type": "code",
   "execution_count": null,
   "id": "94fd0bb5",
   "metadata": {
    "editable": true,
    "slideshow": {
     "slide_type": ""
    }
   },
   "outputs": [],
   "source": [
    "%%cpp\n",
    "numeric_limits<float>::max()           // the largest finite value"
   ]
  },
  {
   "cell_type": "code",
   "execution_count": null,
   "id": "d2b35e5f",
   "metadata": {
    "editable": true,
    "slideshow": {
     "slide_type": ""
    }
   },
   "outputs": [],
   "source": [
    "%%cpp\n",
    "numeric_limits<float>::epsilon()       // the gap from 1.0 to the next value"
   ]
  },
  {
   "cell_type": "code",
   "execution_count": null,
   "id": "abb67deb",
   "metadata": {
    "editable": true,
    "slideshow": {
     "slide_type": ""
    }
   },
   "outputs": [],
   "source": [
    "%%cpp\n",
    "numeric_limits<float>::round_error()   // the maximum rounding error"
   ]
  },
  {
   "cell_type": "markdown",
   "id": "eda67d71",
   "metadata": {
    "editable": true,
    "slideshow": {
     "slide_type": ""
    }
   },
   "source": [
    "There are also some special values defined according to the IEEE 754 standard:"
   ]
  },
  {
   "cell_type": "code",
   "execution_count": null,
   "id": "79375936",
   "metadata": {
    "editable": true,
    "slideshow": {
     "slide_type": ""
    }
   },
   "outputs": [],
   "source": [
    "%%cpp\n",
    "numeric_limits<float>::infinity()      // the positive infinity value"
   ]
  },
  {
   "cell_type": "code",
   "execution_count": null,
   "id": "9235d19f",
   "metadata": {
    "editable": true,
    "slideshow": {
     "slide_type": ""
    }
   },
   "outputs": [],
   "source": [
    "%%cpp\n",
    "numeric_limits<float>::quiet_NaN()     // a quiet NaN value"
   ]
  },
  {
   "cell_type": "code",
   "execution_count": null,
   "id": "08f4010a",
   "metadata": {
    "editable": true,
    "slideshow": {
     "slide_type": ""
    }
   },
   "outputs": [],
   "source": [
    "%%cpp\n",
    "numeric_limits<float>::signaling_NaN() // a signaling NaN value"
   ]
  },
  {
   "cell_type": "code",
   "execution_count": null,
   "id": "9de474a8",
   "metadata": {
    "editable": true,
    "slideshow": {
     "slide_type": ""
    }
   },
   "outputs": [],
   "source": [
    "%%cpp\n",
    "numeric_limits<float>::denorm_min()   // the smallest positive subnormal value"
   ]
  },
  {
   "cell_type": "markdown",
   "id": "f612a66f",
   "metadata": {
    "editable": true,
    "slideshow": {
     "slide_type": ""
    }
   },
   "source": [
    "Python's `float` is different from C++'s `float` because it has double precision:"
   ]
  },
  {
   "cell_type": "code",
   "execution_count": null,
   "id": "a867d5e3",
   "metadata": {
    "editable": true,
    "slideshow": {
     "slide_type": ""
    }
   },
   "outputs": [],
   "source": [
    "import sys\n",
    "sys.float_info"
   ]
  },
  {
   "cell_type": "markdown",
   "id": "bdb5c67f",
   "metadata": {
    "editable": true,
    "slideshow": {
     "slide_type": ""
    }
   },
   "source": [
    "To understand the precision issue of floating point numbers, play with a similator:\n",
    "\n",
    "- [IEEE 754 Floating Point Converter](https://www.h-schmidt.net/FloatConverter/IEEE754.html)\n",
    "- [Float Toy](https://evanw.github.io/float-toy/)\n",
    "\n",
    "The following is an IEEE 754 simulator in written in Python:"
   ]
  },
  {
   "cell_type": "code",
   "execution_count": null,
   "id": "445f9289",
   "metadata": {},
   "outputs": [],
   "source": [
    "@interact(x=FloatLogSlider(\n",
    "    value=1,        # Initial value of the slider\n",
    "    base=2,         # Base of the logarithm (e.g., 10 for base-10 log)\n",
    "    min=-1023-52,\n",
    "    max=1023,\n",
    "    step=1,\n",
    "    description='x' # Label for the slider\n",
    "))\n",
    "def double2binary(x):\n",
    "    # Convert the double to its binary representation\n",
    "    binary = f\"{unpack('>Q', pack('>d', x))[0]:064b}\"\n",
    "    \n",
    "    # Extract sign, exponent, and mantissa\n",
    "    sign = binary[0]\n",
    "    exponent = binary[1:12]\n",
    "    mantissa = binary[12:]\n",
    "    \n",
    "    # Convert exponent and mantissa to decimal\n",
    "    sign_val = int(sign, 2)\n",
    "    exponent_val = int(exponent, 2)\n",
    "    mantissa_val = int(mantissa, 2)/2**52\n",
    "    \n",
    "    # Create color-coded HTML output \n",
    "    html_output = (\n",
    "        f\"Binary: \"\n",
    "        f\"<span style='color:red;'>{sign}</span>\"\n",
    "        f\"<span style='color:green;'>{exponent}</span>\"\n",
    "        f\"<span style='color:blue;'>{mantissa}</span><br>\"\n",
    "    ) \n",
    "    html_output += (\n",
    "        f\"$(-1)^{{\\\\color{{red}}{sign_val}}}\\\\times \"\n",
    "        f\"2^{{{{\\\\color{{green}}{exponent_val}}}-1023}}\\\\times \"\n",
    "        f\"(1+{{\\\\color{{blue}}\\\\text{{{mantissa_val}}}}})$\"\n",
    "    ) if exponent_val < 2047 else (\n",
    "        r\"NaN\" if mantissa_val > 0 else (\n",
    "            f\"${('', '-')[sign_val]} \\\\infty$\"\n",
    "        )\n",
    "    )\n",
    "\n",
    "    display(HTML(html_output))"
   ]
  },
  {
   "cell_type": "code",
   "execution_count": null,
   "id": "1be92320",
   "metadata": {},
   "outputs": [],
   "source": [
    "double2binary(float('inf'))"
   ]
  },
  {
   "cell_type": "code",
   "execution_count": null,
   "id": "36cd2c16",
   "metadata": {},
   "outputs": [],
   "source": [
    "double2binary(-float('inf'))"
   ]
  },
  {
   "cell_type": "code",
   "execution_count": null,
   "id": "b2b12bf0",
   "metadata": {},
   "outputs": [],
   "source": [
    "double2binary(float('nan'))"
   ]
  },
  {
   "cell_type": "markdown",
   "id": "3a9ea662",
   "metadata": {
    "editable": true,
    "slideshow": {
     "slide_type": ""
    }
   },
   "source": [
    "::::{exercise}\n",
    ":label: ex:max_double\n",
    "\n",
    "Explain why the followings are true?\n",
    "\n",
    "::::"
   ]
  },
  {
   "cell_type": "code",
   "execution_count": null,
   "id": "655b1888",
   "metadata": {
    "editable": true,
    "slideshow": {
     "slide_type": ""
    }
   },
   "outputs": [],
   "source": [
    "%%cpp\n",
    "const double m=1e16;\n",
    "m - 1 == m"
   ]
  },
  {
   "cell_type": "code",
   "execution_count": null,
   "id": "d9f17b85",
   "metadata": {
    "editable": true,
    "slideshow": {
     "slide_type": ""
    }
   },
   "outputs": [],
   "source": [
    "%%cpp\n",
    "const double m=1e100;\n",
    "m*m*m*m == m*m*m*m*m*m*m*m*m*m*m*m*m*m*m*m*m*m*m*m"
   ]
  },
  {
   "cell_type": "markdown",
   "id": "aec188f8",
   "metadata": {
    "deletable": false,
    "editable": true,
    "nbgrader": {
     "cell_type": "markdown",
     "checksum": "86c9d2090c9d984d39126657076ae040",
     "grade": true,
     "grade_id": "max_double",
     "locked": false,
     "points": 0,
     "schema_version": 3,
     "solution": true,
     "task": false
    },
    "slideshow": {
     "slide_type": ""
    }
   },
   "source": [
    "YOUR ANSWER HERE"
   ]
  },
  {
   "cell_type": "markdown",
   "id": "5ea221ff",
   "metadata": {
    "editable": true,
    "slideshow": {
     "slide_type": ""
    }
   },
   "source": [
    "::::{exercise}\n",
    ":label: ex:nan\n",
    "\n",
    "Explain why the mass of an atom is not equal to itself.\n",
    "\n",
    "::::"
   ]
  },
  {
   "cell_type": "code",
   "execution_count": null,
   "id": "0422901f",
   "metadata": {
    "editable": true,
    "slideshow": {
     "slide_type": ""
    }
   },
   "outputs": [],
   "source": [
    "%%cpp\n",
    "constexpr float mass_of_universe = 1.45e53;\n",
    "constexpr float num_of_atoms = 1e80;\n",
    "const float mass_of_atom = mass_of_universe/num_of_atoms;\n",
    "(mass_of_atom == mass_of_atom)"
   ]
  },
  {
   "cell_type": "markdown",
   "id": "a44856ac",
   "metadata": {
    "deletable": false,
    "editable": true,
    "nbgrader": {
     "cell_type": "markdown",
     "checksum": "2dacc6d99c7950cea928aad4611c0545",
     "grade": true,
     "grade_id": "nan",
     "locked": false,
     "points": 0,
     "schema_version": 3,
     "solution": true,
     "task": false
    },
    "slideshow": {
     "slide_type": ""
    }
   },
   "source": [
    "YOUR ANSWER HERE"
   ]
  },
  {
   "cell_type": "markdown",
   "id": "62bc4cc4",
   "metadata": {
    "editable": true,
    "slideshow": {
     "slide_type": ""
    }
   },
   "source": [
    "::::{note}\n",
    "\n",
    "`mass_of_atom` is declared with the [`const` type qualifier](https://en.cppreference.com/w/c/language/const.html) instead of `constexpr` because its value is not known at compile time even if it is expected to be a constant.\n",
    "\n",
    "::::"
   ]
  },
  {
   "cell_type": "markdown",
   "id": "36471c22",
   "metadata": {
    "editable": true,
    "slideshow": {
     "slide_type": ""
    }
   },
   "source": [
    "## Scope"
   ]
  },
  {
   "cell_type": "markdown",
   "id": "d7942258",
   "metadata": {
    "editable": true,
    "slideshow": {
     "slide_type": ""
    }
   },
   "source": [
    "The access of a variable is restricted to its [scope](https://en.cppreference.com/w/cpp/language/scope.html). For instance, in [](#code_gcd1), `a` and `b` can be accessed anywhere since they have global scope, but `c` can only be access within the [compound statement](https://en.cppreference.com/w/cpp/language/statements.html#Compound_statements) enclosed by the braces `{ ... }`, which creates a [block scope](https://en.cppreference.com/w/cpp/language/scope.html#Block_scope).\n",
    "\n",
    "```cpp\n",
    "{\n",
    "  ...\n",
    "  int c = b;\n",
    "  ... // c visible here\n",
    "} // c is out of scope\n",
    "```"
   ]
  },
  {
   "cell_type": "markdown",
   "id": "f5616979",
   "metadata": {
    "editable": true,
    "slideshow": {
     "slide_type": ""
    }
   },
   "source": [
    "::::{caution} Redeclarations of a variable\n",
    "\n",
    "You might wonder why we use a compound statement. This is because, even though the `cling` interpreter allows redeclarations of a variable in separate runs, C++ does not allow redeclaring a variable within the same scope. The code inside the block needs to be executed repeatedly to produce the final result.\n",
    "\n",
    "::::"
   ]
  },
  {
   "cell_type": "markdown",
   "id": "7ce0d1f5",
   "metadata": {
    "editable": true,
    "slideshow": {
     "slide_type": ""
    }
   },
   "source": [
    "C++ follows [lexical scoping](https://en.wikipedia.org/wiki/Scope_(computer_science)) to access variables defined in the closest enclosing scope. To understand how this works, consider the following example:"
   ]
  },
  {
   "cell_type": "code",
   "execution_count": null,
   "id": "8ade99e8",
   "metadata": {
    "editable": true,
    "slideshow": {
     "slide_type": ""
    }
   },
   "outputs": [],
   "source": [
    "%%cpp\n",
    "// global scope\n",
    "int a;\n",
    "{ // block scope level 1\n",
    "    { // block scope level 2\n",
    "        int a;\n",
    "        { // block scope level 3\n",
    "            cout << \"Level 3: a=\" << a << '\\n';\n",
    "        }       \n",
    "    }\n",
    "    cout << \"Level 1: a=\" << a << '\\n';\n",
    "}"
   ]
  },
  {
   "cell_type": "markdown",
   "id": "73afbb3d",
   "metadata": {
    "editable": true,
    "slideshow": {
     "slide_type": ""
    }
   },
   "source": [
    "- The first `cout` in level 3 accesses `a` defined in level 2, which shadows the variable `a` in the global scope. Note that local variables are not initialized to `0` by default.\n",
    "- The second `cout` in level 1 accesses `a` defined in the global scope, which is initialized to `0` by default. `a` defined in level 2 is out of the scope of level 1."
   ]
  },
  {
   "cell_type": "markdown",
   "id": "3aec3877",
   "metadata": {
    "editable": true,
    "slideshow": {
     "slide_type": ""
    }
   },
   "source": [
    "In C++, a variable is not merely a name; it is a named container whose size is determined by its type. In comparison, Python is [dynamically typed](https://en.wikipedia.org/wiki/Type_system#DYNAMIC). Instead of a memory location, a variable in Python can be considered simply as a name of an object. In particular, the memory locations of different variables can be the same:"
   ]
  },
  {
   "cell_type": "code",
   "execution_count": null,
   "id": "51be7828",
   "metadata": {
    "editable": true,
    "slideshow": {
     "slide_type": ""
    }
   },
   "outputs": [],
   "source": [
    "a = b = 1\n",
    "print(f\"a={a} @ {id(a):#x}\")\n",
    "print(f\"b={b} @ {id(b):#x}\")"
   ]
  },
  {
   "cell_type": "markdown",
   "id": "1099c3df",
   "metadata": {
    "editable": true,
    "slideshow": {
     "slide_type": ""
    }
   },
   "source": [
    "The above uses `id` in CPython, which returns the memory location of its argument. The assignments above are called aliasing, since both `a` and `b` are different names pointing to the same memory location."
   ]
  },
  {
   "cell_type": "markdown",
   "id": "b7d2f9e7",
   "metadata": {},
   "source": [
    "::::{tip}\n",
    "\n",
    "To learn more about a Python function, we can use the contextual help by placing the cursor over a function name and \n",
    "- click the menu item `Help`$\\to$`Show Contextual Help` or\n",
    "- press the short-cut key <kbd>Shift + Tab</kbd>.\n",
    "\n",
    "::::"
   ]
  },
  {
   "cell_type": "markdown",
   "id": "3e4f2bb1",
   "metadata": {
    "editable": true,
    "slideshow": {
     "slide_type": ""
    }
   },
   "source": [
    "For C++, diferent variables *normally* have different memory locations even if they have the same value."
   ]
  },
  {
   "cell_type": "code",
   "execution_count": null,
   "id": "6deab173",
   "metadata": {},
   "outputs": [],
   "source": [
    "%%cpp\n",
    "int a=1, b=a;\n",
    "cout << format(\"a={} @ \", a) << &a << '\\n';\n",
    "cout << format(\"b={} @ \", b) << &b << '\\n';"
   ]
  },
  {
   "cell_type": "markdown",
   "id": "fcfdf7ca",
   "metadata": {},
   "source": [
    "The above code uses the [address-of operator `&`](https://en.cppreference.com/w/cpp/language/operator_member_access.html#Built-in_address-of_operator), which returns the address of type `int *`:"
   ]
  },
  {
   "cell_type": "code",
   "execution_count": null,
   "id": "43fa73f8",
   "metadata": {},
   "outputs": [],
   "source": [
    "%%cpp\n",
    "&a"
   ]
  },
  {
   "cell_type": "markdown",
   "id": "6a657b40",
   "metadata": {},
   "source": [
    "Variables with the same name also have different memory locations:"
   ]
  },
  {
   "cell_type": "code",
   "execution_count": null,
   "id": "a13d621a",
   "metadata": {},
   "outputs": [],
   "source": [
    "%%cpp\n",
    "int a=1;\n",
    "{\n",
    "    int a=++a;\n",
    "    cout << format(\"a={} @ {:p}\\n\", a, static_cast<void*>(&a));\n",
    "}\n",
    "cout << format(\"a={} @ {:p}\\n\", a, static_cast<void*>(&a));"
   ]
  },
  {
   "cell_type": "markdown",
   "id": "187264d8",
   "metadata": {},
   "source": [
    "The above code uses `static_cast<void*>` to convert `&a` from to type `void*` so it can be formatted as an address with the format specifier `{:p}`."
   ]
  },
  {
   "cell_type": "markdown",
   "id": "4a9905bc",
   "metadata": {},
   "source": [
    "::::{caution} Shouldn't the code prints `a=2 @ ...` first?\n",
    ":class: dropdown\n",
    "\n",
    "`++a` actually uses the already declared `a` in the block scope, whose value is uninitialized and therefore may not be `1`.\n",
    "\n",
    "::::"
   ]
  },
  {
   "cell_type": "markdown",
   "id": "a8c39633",
   "metadata": {},
   "source": [
    "We can store the address using a variable known as a [pointer](https://en.cppreference.com/w/cpp/language/pointer.html):"
   ]
  },
  {
   "cell_type": "code",
   "execution_count": null,
   "id": "5002063b",
   "metadata": {},
   "outputs": [],
   "source": [
    "%%cpp\n",
    "int* p=&a;\n",
    "cout << format(\"a={}\\n\", *p);"
   ]
  },
  {
   "cell_type": "markdown",
   "id": "85b1effd",
   "metadata": {},
   "source": [
    "`*p` above uses the [indirection/dereference operator `*`](https://en.cppreference.com/w/cpp/language/operator_member_access.html#Built-in_indirection_operator) to access the value that `p` points to. Indeed, since it is far more common to operate on `*p` instead of `p`, the declaration for multiple pointers require specifying `*` for each pointer:"
   ]
  },
  {
   "cell_type": "code",
   "execution_count": null,
   "id": "9fe0e4f5",
   "metadata": {},
   "outputs": [],
   "source": [
    "%%cpp\n",
    "int *p=&a, *q=&b;\n",
    "cout << format(\"a={}, b={}\\n\", *p, *q);"
   ]
  },
  {
   "cell_type": "markdown",
   "id": "1edc3a6b",
   "metadata": {
    "editable": true,
    "slideshow": {
     "slide_type": ""
    }
   },
   "source": [
    "The default initialization for pointers in static stor duration is `nullptr` or `0`, referred to as the null pointer. The value indicates that the pointer does not point to any object, i.e.,  dereferencing it leads to an error:"
   ]
  },
  {
   "cell_type": "code",
   "execution_count": null,
   "id": "15e541b2",
   "metadata": {
    "editable": true,
    "slideshow": {
     "slide_type": ""
    }
   },
   "outputs": [],
   "source": [
    "%%cpp\n",
    "int *p, *q=0, *r=nullptr;  // global p is initialized to nullptr by default\n",
    "p==q && q==r               // nullptr has an integer value 0"
   ]
  },
  {
   "cell_type": "markdown",
   "id": "1224bd81",
   "metadata": {},
   "source": [
    "::::{caution}\n",
    "\n",
    "Using an uninitialized pointer in non-static storage duration is unsafe. For instance:\n",
    "\n",
    "```cpp\n",
    "{\n",
    "    int *p;\n",
    "    cout << *p;  // 👨🏻‍🏫 ❌ Undefined behavior\n",
    "    *p = 1;      // 👨🏻‍🏫 ❌ Dangerous: p points to an arbitrary memory location\n",
    "}\n",
    "\n",
    "```\n",
    "\n",
    "::::"
   ]
  },
  {
   "cell_type": "code",
   "execution_count": null,
   "id": "2a2a74ac",
   "metadata": {},
   "outputs": [],
   "source": [
    "%%cpp\n",
    "{\n",
    "    int *p;\n",
    "    cout << *p;\n",
    "    // 😈: If you never try, you'll never know.\n",
    "    // *p = 1;\n",
    "}"
   ]
  },
  {
   "cell_type": "markdown",
   "id": "4b1ecb86",
   "metadata": {
    "editable": true,
    "slideshow": {
     "slide_type": ""
    }
   },
   "source": [
    "The use of pointers can get rather complicated as can be seen in [](code_fast_inv_sqrt1_guess). The idea can be used to write an IEEE 754 simulator in C++:"
   ]
  },
  {
   "cell_type": "code",
   "execution_count": null,
   "id": "2cf2cfe3",
   "metadata": {},
   "outputs": [],
   "source": [
    "%%cpp\n",
    "double x=1.;\n",
    "auto i = reinterpret_cast<int64_t *>(&x);\n",
    "cout << format(\"{:064b}\", *i);"
   ]
  },
  {
   "cell_type": "markdown",
   "id": "2dc32ffe",
   "metadata": {},
   "source": [
    "The above prints the binary representation of the integer `i`, which is also the binary representation of the floating point number `x`."
   ]
  },
  {
   "cell_type": "markdown",
   "id": "ce90d027",
   "metadata": {},
   "source": [
    "The effect of aliasing can also be achieved using pointers."
   ]
  },
  {
   "cell_type": "code",
   "execution_count": null,
   "id": "dc49d383",
   "metadata": {
    "editable": true,
    "slideshow": {
     "slide_type": ""
    }
   },
   "outputs": [],
   "source": [
    "%%cpp\n",
    "int a=1, *b=&a;\n",
    "cout << format(\" a={} @ {:p}\\n\", a++, static_cast<void*>(&a));\n",
    "cout << format(\"*b={} @ {:p}\\n\", *b, static_cast<void*>(b));"
   ]
  },
  {
   "cell_type": "markdown",
   "id": "5eb673e5",
   "metadata": {
    "editable": true,
    "slideshow": {
     "slide_type": ""
    }
   },
   "source": [
    "Aliasing can also be achieved in C++ using an [*lvalue (locator value) reference*](https://en.cppreference.com/w/cpp/language/reference.html) such as `int &`:"
   ]
  },
  {
   "cell_type": "code",
   "execution_count": null,
   "id": "87069cf7",
   "metadata": {
    "editable": true,
    "slideshow": {
     "slide_type": ""
    }
   },
   "outputs": [],
   "source": [
    "%%cpp\n",
    "int a=1, &b=a;\n",
    "cout << format(\"a={} @ {:p}\\n\", a++, static_cast<void*>(&a));\n",
    "cout << format(\"b={} @ {:p}\\n\", b, static_cast<void*>(&b));"
   ]
  },
  {
   "cell_type": "markdown",
   "id": "e3a933ad",
   "metadata": {
    "editable": true,
    "slideshow": {
     "slide_type": ""
    }
   },
   "source": [
    "The declaration `int &b=a;` binds the address of `a` to `b`, so both `a` and `b` share the same memory location. The behavior of aliasing in Python is still very different:"
   ]
  },
  {
   "cell_type": "code",
   "execution_count": null,
   "id": "23690133",
   "metadata": {},
   "outputs": [],
   "source": [
    "b = a = 1  # a and b have the same memory location\n",
    "a = a + 1  # a incremented to 2\n",
    "b          # b is also 2? a and b have the same memory location right?"
   ]
  },
  {
   "cell_type": "markdown",
   "id": "3c83beaf",
   "metadata": {},
   "source": [
    "::::{caution} Why `b` is not equal to `2`?\n",
    ":class: dropdown\n",
    "\n",
    "`b` is still `1` because it is not an alias of `a`, but rather, an alias of the object/integer `1`. \n",
    "- `a = a + 1` in Python assign the name `a` to a new value `a + 1`, without changing the value `1` that `b` points to.\n",
    "- `a++` in C++ increments the value `a`, which is also the value of `b`.\n",
    "\n",
    "::::"
   ]
  },
  {
   "cell_type": "markdown",
   "id": "6a54fd84",
   "metadata": {
    "editable": true,
    "slideshow": {
     "slide_type": ""
    }
   },
   "source": [
    "In C++, an integer such as `1` also has an associated memory location, but it is temporary and optimized heavily by the compiler in a way not suitable for users to modify. `int &b=1;` fails because, otherwise, the location of `1` would be exposed to the users to modify. We say that `1` is not an lvalue, but rather, an rvalue, or more specifically, a [prvalue](https://en.cppreference.com/w/cpp/language/value_category.html#prvalue)."
   ]
  },
  {
   "cell_type": "markdown",
   "id": "50c76917",
   "metadata": {},
   "source": [
    "It is okay, however, if `b` is declared as a constant:"
   ]
  },
  {
   "cell_type": "code",
   "execution_count": null,
   "id": "5f186c3c",
   "metadata": {
    "editable": true,
    "slideshow": {
     "slide_type": ""
    }
   },
   "outputs": [],
   "source": [
    "%%cpp\n",
    "const int &b=1"
   ]
  },
  {
   "cell_type": "markdown",
   "id": "dcc39ba1",
   "metadata": {
    "editable": true,
    "slideshow": {
     "slide_type": ""
    }
   },
   "source": [
    "The compiler can safely extend the lifetime of the prvalue as long as `b` is in scope, without concern about modifications or interference with optimizations for temporary objects. Such a constant reference will be useful when passing larger objects around without the extra copy step as in the copy assignment."
   ]
  },
  {
   "cell_type": "markdown",
   "id": "52ac1965",
   "metadata": {
    "editable": true,
    "slideshow": {
     "slide_type": ""
    }
   },
   "source": [
    "::::{exercise}\n",
    ":label: ex:pre_vs_post\n",
    "\n",
    "Why `++a=1` works but `(a++)=1` fails?\n",
    "\n",
    "::::"
   ]
  },
  {
   "cell_type": "markdown",
   "id": "d0a0f2f0",
   "metadata": {
    "editable": true,
    "slideshow": {
     "slide_type": ""
    }
   },
   "source": [
    "::::{solution} ex:pre_vs_post\n",
    ":class: dropdown\n",
    "\n",
    "This is because `++a` returns an lvalue reference, but `(a++)` returns an rvalue, namely, the increment of the value of `a`.\n",
    "\n",
    "::::"
   ]
  },
  {
   "cell_type": "code",
   "execution_count": null,
   "id": "ae4a0380",
   "metadata": {
    "editable": true,
    "slideshow": {
     "slide_type": ""
    },
    "tags": [
     "skip-execution"
    ]
   },
   "outputs": [],
   "source": [
    "%%ai\n",
    "Explain the value categories of C++ with concrete examples."
   ]
  },
  {
   "cell_type": "markdown",
   "id": "84f7413d",
   "metadata": {
    "editable": true,
    "slideshow": {
     "slide_type": ""
    }
   },
   "source": [
    "::::{exercise}\n",
    ":label: ex:uninit\n",
    "\n",
    "Since different variables occupy different memory locations, can we modify [](#code_gcd1) as follows to avoid overwriting the original `a` and `b`?\n",
    "\n",
    "```cpp\n",
    "{\n",
    "    int a=a, b=b;\n",
    "    ...\n",
    "}\n",
    "```\n",
    "\n",
    "Why or why not?\n",
    "\n",
    "::::"
   ]
  },
  {
   "cell_type": "markdown",
   "id": "21396104",
   "metadata": {
    "deletable": false,
    "editable": true,
    "nbgrader": {
     "cell_type": "markdown",
     "checksum": "acfc4e1a29dd9feefafe9ca9f68ed170",
     "grade": true,
     "grade_id": "uninit",
     "locked": false,
     "points": 0,
     "schema_version": 3,
     "solution": true,
     "task": false
    },
    "slideshow": {
     "slide_type": ""
    }
   },
   "source": [
    "YOUR ANSWER HERE"
   ]
  },
  {
   "cell_type": "markdown",
   "id": "d0ef4814",
   "metadata": {
    "editable": true,
    "slideshow": {
     "slide_type": ""
    }
   },
   "source": [
    "As a hint, try running the following program to check whether the local variables are actually clones of the global variables:"
   ]
  },
  {
   "cell_type": "code",
   "execution_count": null,
   "id": "64999f23",
   "metadata": {
    "editable": true,
    "slideshow": {
     "slide_type": ""
    }
   },
   "outputs": [],
   "source": [
    "%%cpp\n",
    "int a=2*3*4, b=3*4*5;\n",
    "{\n",
    "    int a=a, b=b;\n",
    "    cout << format(\"a={}\\nb={}\\n\", a, b);  // local clone of global a and b?\n",
    "}\n",
    "cout << format(\"a={}\\nb={}\\n\", a, b);  // global a and b not overwritten"
   ]
  },
  {
   "cell_type": "markdown",
   "id": "081012a0",
   "metadata": {
    "editable": true,
    "slideshow": {
     "slide_type": ""
    }
   },
   "source": [
    "## String"
   ]
  },
  {
   "cell_type": "markdown",
   "id": "8e51569b",
   "metadata": {
    "editable": true,
    "slideshow": {
     "slide_type": ""
    }
   },
   "source": [
    "How to represent a piece of text, which consists of a sequence of characters?"
   ]
  },
  {
   "cell_type": "markdown",
   "id": "c6140c50",
   "metadata": {
    "editable": true,
    "slideshow": {
     "slide_type": ""
    }
   },
   "source": [
    "A string literal is delimited by double quotes:"
   ]
  },
  {
   "cell_type": "code",
   "execution_count": null,
   "id": "0ec83f79",
   "metadata": {
    "editable": true,
    "slideshow": {
     "slide_type": ""
    }
   },
   "outputs": [],
   "source": [
    "%%cpp\n",
    "\"15\""
   ]
  },
  {
   "cell_type": "markdown",
   "id": "2363e095",
   "metadata": {
    "editable": true,
    "slideshow": {
     "slide_type": ""
    }
   },
   "source": [
    "Note that the data type is not `string` but `const char[3]`: a constant array of 3 `char` values. Such an array of characters is referred to as a *C string*, even though there isn't actually a distinct `cstring` data type in C."
   ]
  },
  {
   "cell_type": "markdown",
   "id": "3b0f0160",
   "metadata": {
    "editable": true,
    "slideshow": {
     "slide_type": ""
    }
   },
   "source": [
    "Why are there 3 characters instead of 2? It’s almost as if there’s a hidden element at play. We can inspect the elements of the array using a [member access operator like `[]`](https://en.cppreference.com/w/cpp/language/operator_member_access.html), but what secrets might it unveil?"
   ]
  },
  {
   "cell_type": "code",
   "execution_count": null,
   "id": "d5e99007",
   "metadata": {
    "editable": true,
    "slideshow": {
     "slide_type": ""
    }
   },
   "outputs": [],
   "source": [
    "%%cpp\n",
    "\"15\"[0] // [0] picks out the first character at index 0"
   ]
  },
  {
   "cell_type": "code",
   "execution_count": null,
   "id": "7a60ad4f",
   "metadata": {
    "editable": true,
    "slideshow": {
     "slide_type": ""
    }
   },
   "outputs": [],
   "source": [
    "%%cpp\n",
    "\"15\"[1] // the second character"
   ]
  },
  {
   "cell_type": "markdown",
   "id": "0e6620d5",
   "metadata": {
    "editable": true,
    "slideshow": {
     "slide_type": ""
    }
   },
   "source": [
    "Lo and behold 🪄:"
   ]
  },
  {
   "cell_type": "code",
   "execution_count": null,
   "id": "bd1ab790",
   "metadata": {
    "editable": true,
    "slideshow": {
     "slide_type": ""
    }
   },
   "outputs": [],
   "source": [
    "%%cpp\n",
    "\"15\"[2] // the third character"
   ]
  },
  {
   "cell_type": "markdown",
   "id": "a86165c9",
   "metadata": {
    "editable": true,
    "slideshow": {
     "slide_type": ""
    }
   },
   "source": [
    "The last character is the *null character*, which can also be entered as `'\\0'`."
   ]
  },
  {
   "cell_type": "code",
   "execution_count": null,
   "id": "497062c7",
   "metadata": {
    "editable": true,
    "slideshow": {
     "slide_type": ""
    }
   },
   "outputs": [],
   "source": [
    "%%cpp\n",
    "'\\0'"
   ]
  },
  {
   "cell_type": "markdown",
   "id": "78d35f73",
   "metadata": {
    "editable": true,
    "slideshow": {
     "slide_type": ""
    }
   },
   "source": [
    "C strings are *null-terminated* to ensure they are [(uniquely) decodable](https://en.m.wikipedia.org/wiki/Variable-length_code#Uniquely_decodable_codes). In other words, the null character signals the end of a string without needing to keep track of its length. What a clever mechanism!"
   ]
  },
  {
   "cell_type": "markdown",
   "id": "d2e3f411",
   "metadata": {
    "editable": true,
    "slideshow": {
     "slide_type": ""
    }
   },
   "source": [
    "Can you print a string containing `\\0` in the middle?"
   ]
  },
  {
   "cell_type": "code",
   "execution_count": null,
   "id": "efdd9ef8",
   "metadata": {
    "editable": true,
    "slideshow": {
     "slide_type": ""
    }
   },
   "outputs": [],
   "source": [
    "%%cpp\n",
    "cout << \"321\\0 123\";"
   ]
  },
  {
   "cell_type": "code",
   "execution_count": null,
   "id": "25623077",
   "metadata": {
    "editable": true,
    "slideshow": {
     "slide_type": ""
    }
   },
   "outputs": [],
   "source": [
    "%%cpp\n",
    "cout << \"321\\0123\";"
   ]
  },
  {
   "cell_type": "markdown",
   "id": "8fa87146",
   "metadata": {
    "editable": true,
    "slideshow": {
     "slide_type": ""
    }
   },
   "source": [
    "::::{exercise}\n",
    ":label:ex:0_in_middle\n",
    "\n",
    "Explain what gets printed below. \n",
    "\n",
    "::::"
   ]
  },
  {
   "cell_type": "markdown",
   "id": "a1d63197",
   "metadata": {
    "deletable": false,
    "editable": true,
    "nbgrader": {
     "cell_type": "markdown",
     "checksum": "7afa6105625a4622e3253f0e5d2a433d",
     "grade": true,
     "grade_id": "0_in_middle",
     "locked": false,
     "points": 0,
     "schema_version": 3,
     "solution": true,
     "task": false
    },
    "slideshow": {
     "slide_type": ""
    }
   },
   "source": [
    "YOUR ANSWER HERE"
   ]
  },
  {
   "cell_type": "markdown",
   "id": "27bdc091",
   "metadata": {
    "editable": true,
    "slideshow": {
     "slide_type": ""
    }
   },
   "source": [
    "::::{exercise}\n",
    ":label: ex:index_OOB\n",
    "\n",
    "Why does the following code even run in C++?\n",
    "\n",
    ":::{hint}\n",
    "\n",
    "Try running the code in python.\n",
    "\n",
    ":::\n",
    "\n",
    "::::"
   ]
  },
  {
   "cell_type": "code",
   "execution_count": null,
   "id": "25e014fb",
   "metadata": {
    "editable": true,
    "slideshow": {
     "slide_type": ""
    }
   },
   "outputs": [],
   "source": [
    "%%cpp\n",
    "\"15\"[3]"
   ]
  },
  {
   "cell_type": "markdown",
   "id": "1e64799f",
   "metadata": {
    "deletable": false,
    "editable": true,
    "nbgrader": {
     "cell_type": "markdown",
     "checksum": "4821706401d108522092ec94d8b9476c",
     "grade": true,
     "grade_id": "index_00B",
     "locked": false,
     "points": 0,
     "schema_version": 3,
     "solution": true,
     "task": false
    },
    "slideshow": {
     "slide_type": ""
    }
   },
   "source": [
    "YOUR ANSWER HERE"
   ]
  },
  {
   "cell_type": "markdown",
   "id": "6359f8c7",
   "metadata": {
    "editable": true,
    "slideshow": {
     "slide_type": ""
    }
   },
   "source": [
    "The length of a C string can be returned using [`std::strlen`](https://en.cppreference.com/w/cpp/string/byte/strlen.html) from [`<cstring>`](https://en.cppreference.com/w/cpp/header/cstring.html):"
   ]
  },
  {
   "cell_type": "code",
   "execution_count": null,
   "id": "6f3a81e4",
   "metadata": {
    "editable": true,
    "slideshow": {
     "slide_type": ""
    }
   },
   "outputs": [],
   "source": [
    "%%cpp\n",
    "strlen(\"15\")"
   ]
  },
  {
   "cell_type": "markdown",
   "id": "ae775e8c",
   "metadata": {
    "editable": true,
    "slideshow": {
     "slide_type": ""
    }
   },
   "source": [
    "Note that the return type is `size_t`, which is an unsigned integer type. Failure to understand the implication could lead to logical error like the following:"
   ]
  },
  {
   "cell_type": "code",
   "execution_count": null,
   "id": "efed4514",
   "metadata": {
    "editable": true,
    "slideshow": {
     "slide_type": ""
    }
   },
   "outputs": [],
   "source": [
    "%%cpp\n",
    "strlen(\"Ava\") - strlen(\"Betty\") > 0"
   ]
  },
  {
   "cell_type": "code",
   "execution_count": null,
   "id": "aa0b8524",
   "metadata": {
    "editable": true,
    "slideshow": {
     "slide_type": ""
    },
    "tags": [
     "skip-execution"
    ]
   },
   "outputs": [],
   "source": [
    "%%ai\n",
    "In C++, should `strlen(\"Ava\") - strlen(\"Betty\") > 0` return false since \n",
    "\"Ava\" is shorter than \"Betty\"?"
   ]
  },
  {
   "cell_type": "markdown",
   "id": "aa9e5b7e",
   "metadata": {
    "editable": true,
    "slideshow": {
     "slide_type": ""
    }
   },
   "source": [
    "::::{exercise}\n",
    ":label: ex:unsigned\n",
    "\n",
    "What is the maximum possible length for C string?\n",
    "\n",
    "::::"
   ]
  },
  {
   "cell_type": "markdown",
   "id": "b09775ea",
   "metadata": {
    "deletable": false,
    "editable": true,
    "nbgrader": {
     "cell_type": "markdown",
     "checksum": "35392d61e1d4fd69d50adf9fbc845d5a",
     "grade": true,
     "grade_id": "unsigned",
     "locked": false,
     "points": 0,
     "schema_version": 3,
     "solution": true,
     "task": false
    },
    "slideshow": {
     "slide_type": ""
    }
   },
   "source": [
    "YOUR ANSWER HERE"
   ]
  },
  {
   "cell_type": "markdown",
   "id": "92e49537",
   "metadata": {
    "editable": true,
    "slideshow": {
     "slide_type": ""
    }
   },
   "source": [
    "::::{exercise}\n",
    ":label: ex:max_length\n",
    "\n",
    "What is the maximum possible length for C string?\n",
    "\n",
    "::::"
   ]
  },
  {
   "cell_type": "markdown",
   "id": "13f59bf0",
   "metadata": {
    "deletable": false,
    "editable": true,
    "nbgrader": {
     "cell_type": "markdown",
     "checksum": "3198dea980db463d50208bbdccc2d1f8",
     "grade": true,
     "grade_id": "max_length",
     "locked": false,
     "points": 0,
     "schema_version": 3,
     "solution": true,
     "task": false
    },
    "slideshow": {
     "slide_type": ""
    }
   },
   "source": [
    "YOUR ANSWER HERE"
   ]
  },
  {
   "cell_type": "code",
   "execution_count": null,
   "id": "6e7a60f6",
   "metadata": {
    "editable": true,
    "slideshow": {
     "slide_type": ""
    },
    "tags": [
     "skip-execution"
    ]
   },
   "outputs": [],
   "source": [
    "%%ai\n",
    "Since the length of a C string is recorded in its type, why do we need to \n",
    "null-terminate it? Isn't it a waste of memory to store the null character?"
   ]
  },
  {
   "cell_type": "markdown",
   "id": "8282b150",
   "metadata": {
    "editable": true,
    "slideshow": {
     "slide_type": ""
    }
   },
   "source": [
    "Another frustrating gotcha is that the length of a string is **not** the same as the number of characters or symbols in the string! Consider the length of [\"思\"](https://translate.google.com/?sl=yue&tl=en&text=%E6%80%9D&op=translate):"
   ]
  },
  {
   "cell_type": "code",
   "execution_count": null,
   "id": "be49dd75",
   "metadata": {
    "editable": true,
    "slideshow": {
     "slide_type": ""
    }
   },
   "outputs": [],
   "source": [
    "%%cpp\n",
    "strlen(\"思\")"
   ]
  },
  {
   "cell_type": "markdown",
   "id": "c40c5404",
   "metadata": {
    "editable": true,
    "slideshow": {
     "slide_type": ""
    }
   },
   "source": [
    "Why is the length 3 instead of 1?"
   ]
  },
  {
   "cell_type": "code",
   "execution_count": null,
   "id": "48f7dcd6",
   "metadata": {
    "editable": true,
    "slideshow": {
     "slide_type": ""
    }
   },
   "outputs": [],
   "source": [
    "%%cpp\n",
    "\"思\"[0]"
   ]
  },
  {
   "cell_type": "code",
   "execution_count": null,
   "id": "06514919",
   "metadata": {
    "editable": true,
    "slideshow": {
     "slide_type": ""
    }
   },
   "outputs": [],
   "source": [
    "%%cpp\n",
    "\"思\"[1]"
   ]
  },
  {
   "cell_type": "code",
   "execution_count": null,
   "id": "bbab6937",
   "metadata": {
    "editable": true,
    "slideshow": {
     "slide_type": ""
    }
   },
   "outputs": [],
   "source": [
    "%%cpp\n",
    "\"思\"[2]"
   ]
  },
  {
   "cell_type": "markdown",
   "id": "57588a39",
   "metadata": {
    "editable": true,
    "slideshow": {
     "slide_type": ""
    }
   },
   "source": [
    "Finally:"
   ]
  },
  {
   "cell_type": "code",
   "execution_count": null,
   "id": "d2a02324",
   "metadata": {
    "editable": true,
    "slideshow": {
     "slide_type": ""
    }
   },
   "outputs": [],
   "source": [
    "%%cpp\n",
    "\"思\"[3]"
   ]
  },
  {
   "cell_type": "markdown",
   "id": "34c3ecad",
   "metadata": {
    "editable": true,
    "slideshow": {
     "slide_type": ""
    }
   },
   "source": [
    "The three characters before the null terminator are actually the three bytes that correspond to the [UTF-8 encoding of \"思\"](https://www.compart.com/en/unicode/U+601D). UTF-8 is a [variable-length encoding](https://en.wikipedia.org/wiki/Variable-length_code) designed to represent [Unicode characters](https://en.wikipedia.org/wiki/Unicode), including those that go beyond the ASCII character set."
   ]
  },
  {
   "cell_type": "markdown",
   "id": "33bdba91",
   "metadata": {
    "editable": true,
    "slideshow": {
     "slide_type": ""
    }
   },
   "source": [
    "For example, the emoticon below requires more bytes to encode:"
   ]
  },
  {
   "cell_type": "code",
   "execution_count": null,
   "id": "44b413bc",
   "metadata": {
    "editable": true,
    "slideshow": {
     "slide_type": ""
    }
   },
   "outputs": [],
   "source": [
    "%%cpp\n",
    "\"😎\""
   ]
  },
  {
   "cell_type": "markdown",
   "id": "4368aebe",
   "metadata": {
    "editable": true,
    "slideshow": {
     "slide_type": ""
    }
   },
   "source": [
    "A unicode symbol can also be encoded differently using [UTF-16](https://en.wikipedia.org/wiki/UTF-16):"
   ]
  },
  {
   "cell_type": "code",
   "execution_count": null,
   "id": "2bdab1f1",
   "metadata": {
    "editable": true,
    "slideshow": {
     "slide_type": ""
    }
   },
   "outputs": [],
   "source": [
    "%%cpp\n",
    "u\"思\""
   ]
  },
  {
   "cell_type": "code",
   "execution_count": null,
   "id": "8c5d846e",
   "metadata": {
    "editable": true,
    "slideshow": {
     "slide_type": ""
    }
   },
   "outputs": [],
   "source": [
    "%%cpp\n",
    "u\"思\"[0]"
   ]
  },
  {
   "cell_type": "code",
   "execution_count": null,
   "id": "94c66d65",
   "metadata": {
    "editable": true,
    "slideshow": {
     "slide_type": ""
    }
   },
   "outputs": [],
   "source": [
    "%%cpp\n",
    "u\"思\"[1]"
   ]
  },
  {
   "cell_type": "code",
   "execution_count": null,
   "id": "6d97737b",
   "metadata": {
    "editable": true,
    "slideshow": {
     "slide_type": ""
    }
   },
   "outputs": [],
   "source": [
    "%%cpp\n",
    "\"\\u601D\" // escape code to enter a symbol using UTF-16 code"
   ]
  },
  {
   "cell_type": "code",
   "execution_count": null,
   "id": "864e0dc0",
   "metadata": {
    "editable": true,
    "slideshow": {
     "slide_type": ""
    },
    "tags": [
     "skip-execution"
    ]
   },
   "outputs": [],
   "source": [
    "%%ai\n",
    "In C++, how to return the number of symbols in a C string, given that the\n",
    "symbols may be encoded using a variable-length code."
   ]
  },
  {
   "cell_type": "markdown",
   "id": "abbacbed",
   "metadata": {
    "editable": true,
    "slideshow": {
     "slide_type": ""
    }
   },
   "source": [
    "There are [other types of string literals](https://en.cppreference.com/w/cpp/language/string_literal.html) in C++, but their support varies. For example, `strlen(u\"1\")` or `cout << u8\"1\";` will fail because these functions and operators do not handle wide or UTF-8 encoded strings directly. The exception is raw string literals, which ensure [WYSIWYG](https://en.wikipedia.org/wiki/WYSIWYG) (to some extent):"
   ]
  },
  {
   "cell_type": "code",
   "execution_count": null,
   "id": "ea7539a8",
   "metadata": {
    "editable": true,
    "slideshow": {
     "slide_type": ""
    }
   },
   "outputs": [],
   "source": [
    "%%cpp\n",
    "cout << R\"(\n",
    "  ____  ____   ____   _____  _   ___  \n",
    " / ___|/ ___| |___ \\ |___ / / | / _ \\\n",
    "| |    \\___ \\   __) |  |_ \\ | || | | |\n",
    "| |___  ___) | / __/  ___) || || |_| |\n",
    " \\____||____/ |_____||____/ |_| \\___/ 😎\n",
    ")\";"
   ]
  },
  {
   "cell_type": "markdown",
   "id": "a3d59f1f",
   "metadata": {
    "editable": true,
    "slideshow": {
     "slide_type": ""
    }
   },
   "source": [
    "What does it mean to be a constant array?"
   ]
  },
  {
   "cell_type": "markdown",
   "id": "7477365d",
   "metadata": {},
   "source": [
    "Consider the following code:"
   ]
  },
  {
   "cell_type": "code",
   "execution_count": null,
   "id": "4fa4c05f",
   "metadata": {
    "editable": true,
    "slideshow": {
     "slide_type": ""
    }
   },
   "outputs": [],
   "source": [
    "%%cpp\n",
    "auto s=\"15\";\n",
    "s = \"35\";       // works\n",
    "// s[0] = '1';  // fails"
   ]
  },
  {
   "cell_type": "markdown",
   "id": "b9f39cb1",
   "metadata": {
    "editable": true,
    "slideshow": {
     "slide_type": ""
    }
   },
   "source": [
    "::::{caution} Why is it okay to change all the characters as in `s=\"35\";` but not the first as in `s[0]=1;`?\n",
    ":class: dropdown\n",
    "\n",
    "`s` is indeed not a constant. It is a pointer that points to characters in read-only memory. \n",
    "\n",
    "- `s=\"35\"` is allowed since it changes the value of the pointer to point to a new array of characters.\n",
    "- `s[0]='3'` is not allowed since it attempts to rewrite a character in read-only memory.\n",
    "\n",
    "::::"
   ]
  },
  {
   "cell_type": "markdown",
   "id": "13ede9ef",
   "metadata": {
    "editable": true,
    "slideshow": {
     "slide_type": ""
    }
   },
   "source": [
    "::::{exercise} \n",
    ":label: ex:auto_ref\n",
    "\n",
    "Why the following code works even though `auto &b=1;` failed? Can I further assign `s` to another string as in `s=\"35\";`?\n",
    "\n",
    "::::"
   ]
  },
  {
   "cell_type": "code",
   "execution_count": null,
   "id": "84b0c83e",
   "metadata": {
    "editable": true,
    "slideshow": {
     "slide_type": ""
    }
   },
   "outputs": [],
   "source": [
    "%%cpp\n",
    "auto &s=\"15\";"
   ]
  },
  {
   "cell_type": "markdown",
   "id": "81ffe475",
   "metadata": {
    "deletable": false,
    "editable": true,
    "nbgrader": {
     "cell_type": "markdown",
     "checksum": "b346b5e770fdb35fdc49a52dcdf5aebd",
     "grade": true,
     "grade_id": "auto-ref",
     "locked": false,
     "points": 0,
     "schema_version": 3,
     "solution": true,
     "task": false
    },
    "slideshow": {
     "slide_type": ""
    }
   },
   "source": [
    "YOUR ANSWER HERE"
   ]
  }
 ],
 "metadata": {
  "jupytext": {
   "default_lexer": "ipython3"
  },
  "kernelspec": {
   "display_name": "Python 3 (ipykernel)",
   "language": "python",
   "name": "python3"
  },
  "language_info": {
   "codemirror_mode": {
    "name": "ipython",
    "version": 3
   },
   "file_extension": ".py",
   "mimetype": "text/x-python",
   "name": "python",
   "nbconvert_exporter": "python",
   "pygments_lexer": "ipython3",
   "version": "3.12.11"
  }
 },
 "nbformat": 4,
 "nbformat_minor": 5
}
