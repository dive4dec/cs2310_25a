{
 "cells": [
  {
   "cell_type": "markdown",
   "id": "b5220d8a",
   "metadata": {
    "editable": true,
    "slideshow": {
     "slide_type": ""
    }
   },
   "source": [
    "---\n",
    "title: Elements of Computations\n",
    "abstract: |\n",
    "    Motivated by practical problems such as computing the greatest common divisor (GCD) and the inverse square root, this notebook introduces the fundamental elements of computation in C++. It explores C++ syntax for declaring variables and representing values of various types, including integers, floating-point numbers, characters, strings, and pointers. The design of C++ is compared with that of Python to highlight key differences in type systems, memory management, and operator behavior across programming languages.\n",
    "skip_execution: true\n",
    "---"
   ]
  },
  {
   "cell_type": "code",
   "execution_count": null,
   "id": "93527114",
   "metadata": {
    "editable": true,
    "slideshow": {
     "slide_type": ""
    }
   },
   "outputs": [],
   "source": [
    "from __init__ import *"
   ]
  },
  {
   "cell_type": "code",
   "execution_count": null,
   "id": "207c6253",
   "metadata": {
    "editable": true,
    "slideshow": {
     "slide_type": ""
    },
    "tags": [
     "skip-execution"
    ]
   },
   "outputs": [],
   "source": [
    "if not input('Load JupyterAI? [Y/n]').lower()=='n':\n",
    "    %reload_ext jupyter_ai"
   ]
  },
  {
   "cell_type": "markdown",
   "id": "291e4be5",
   "metadata": {
    "editable": true,
    "slideshow": {
     "slide_type": ""
    }
   },
   "source": [
    "## Motivations"
   ]
  },
  {
   "cell_type": "markdown",
   "id": "501ac71e",
   "metadata": {
    "editable": true,
    "slideshow": {
     "slide_type": ""
    }
   },
   "source": [
    "This notebook introduces the basic ingredients for computations in C++ and explores their limitations. To provide motivation for the subject, we begin by presenting two problems below."
   ]
  },
  {
   "cell_type": "markdown",
   "id": "b5502729",
   "metadata": {
    "editable": true,
    "slideshow": {
     "slide_type": ""
    }
   },
   "source": [
    "### GCD"
   ]
  },
  {
   "cell_type": "markdown",
   "id": "9d4bb865",
   "metadata": {
    "editable": true,
    "slideshow": {
     "slide_type": ""
    }
   },
   "source": [
    "Consider the problem of computing the [greatest common divisor (GCD)](https://en.wikipedia.org/wiki/Greatest_common_divisor), which is a fundamental concept in number theory.[^Galois] \n",
    "\n",
    "::::{prf:definition} GCD\n",
    ":label: def:gcd\n",
    "\n",
    "The GCD of two non-zero integers $a$ and $b$, denoted as $\\operatorname{gcd}(a, b)$  is *the largest integer $d$ that divides both $a$ and $b$*, i.e., $d|a$ and $d|b$.\n",
    "\n",
    "\n",
    "::::\n",
    "\n",
    "[^Galois]: For instance, two numbers with GCD equal to 1 are called coprime, which is a concept used in [finite fields](https://en.wikipedia.org/wiki/Finite_field) with significant applications to different areas such as coding theory and cryptography."
   ]
  },
  {
   "cell_type": "markdown",
   "id": "fdebe111",
   "metadata": {
    "editable": true,
    "slideshow": {
     "slide_type": ""
    }
   },
   "source": [
    "The following is an implementation in C++."
   ]
  },
  {
   "cell_type": "markdown",
   "id": "fc9c00c7",
   "metadata": {
    "editable": true,
    "slideshow": {
     "slide_type": ""
    }
   },
   "source": [
    "1. To specify and store the non-zero integers $a$ and $b$:"
   ]
  },
  {
   "cell_type": "code",
   "execution_count": null,
   "id": "aaf4e0ab",
   "metadata": {
    "editable": true,
    "slideshow": {
     "slide_type": ""
    }
   },
   "outputs": [],
   "source": [
    "%%cpp\n",
    "int a=2*3*4, b=3*4*5; // integer variables declaration and initialization\n",
    "cout << format(\"gcd({}, {})=?\\n\", a, b); // print formatted string"
   ]
  },
  {
   "cell_type": "markdown",
   "id": "eb03ea06",
   "metadata": {
    "editable": true,
    "slideshow": {
     "slide_type": ""
    }
   },
   "source": [
    "2. To compute the GCD of $a$ and $b$ step-by-step, repeatedly run the following program until *`a` becomes `0`, in which case the absolute value of `b` is the gcd*.\n",
    "  ::::{code} cpp\n",
    "  :label: code_gcd1\n",
    "  :caption: Computation of the GCD of the non-zero integers `a` and `b`.\n",
    "  :linenos:\n",
    "  {\n",
    "      b = b % a; // assignment and modulo operation\n",
    "      int c = b; // variable in the block scope of the compound statement\n",
    "      b = a;\n",
    "      a = c;\n",
    "  } // compound statement\n",
    "  ::::"
   ]
  },
  {
   "cell_type": "code",
   "execution_count": null,
   "id": "645ef79b",
   "metadata": {
    "editable": true,
    "slideshow": {
     "slide_type": ""
    }
   },
   "outputs": [],
   "source": [
    "%%cpp\n",
    "{\n",
    "    b = b % a;\n",
    "    int c = b;\n",
    "    b = a;\n",
    "    a = c;\n",
    "    cout << format(\"gcd({}, {})\\n\", a, b); // intermediate answer\n",
    "} // compound statement"
   ]
  },
  {
   "cell_type": "markdown",
   "id": "873deb09",
   "metadata": {
    "editable": true,
    "slideshow": {
     "slide_type": ""
    }
   },
   "source": [
    "::::{caution}\n",
    "\n",
    "Want to see a crash? Run the code further after getting the GCD from the printout `gcd(0, ...)`! Press <kbd>0, 0</kbd> to restart the kernel, and then run all above cells again.\n",
    "\n",
    "::::"
   ]
  },
  {
   "cell_type": "markdown",
   "id": "cd0a972d",
   "metadata": {
    "editable": true,
    "slideshow": {
     "slide_type": ""
    }
   },
   "source": [
    "::::{exercise}\n",
    ":label: ex:gcd1\n",
    "\n",
    "How can the above program fail to give the correct GCD?\n",
    "\n",
    ":::{hint}\n",
    ":class: dropdown\n",
    "\n",
    "The code fails for some choices of $a$ and $b$.\n",
    "\n",
    ":::\n",
    "\n",
    "::::"
   ]
  },
  {
   "cell_type": "markdown",
   "id": "92274b0c",
   "metadata": {
    "deletable": false,
    "editable": true,
    "nbgrader": {
     "cell_type": "markdown",
     "checksum": "2408b0cfe08853fe4a6798377e04769c",
     "grade": true,
     "grade_id": "gcd1",
     "locked": false,
     "points": 0,
     "schema_version": 3,
     "solution": true,
     "task": false
    },
    "slideshow": {
     "slide_type": ""
    }
   },
   "source": [
    "YOUR ANSWER HERE"
   ]
  },
  {
   "cell_type": "markdown",
   "id": "9e38428d",
   "metadata": {
    "editable": true,
    "slideshow": {
     "slide_type": ""
    }
   },
   "source": [
    "If you can answer the above questions, great! But don't worry if you cannot. We will learn some basic programming elements to solve [](#ex:gcd1) in this notebook."
   ]
  },
  {
   "cell_type": "markdown",
   "id": "aa719abd",
   "metadata": {
    "editable": true,
    "slideshow": {
     "slide_type": ""
    }
   },
   "source": [
    "::::{exercise}\n",
    ":label: ex:gcd2\n",
    "\n",
    "Explain how the program computes the GCD. Evaluate the effectiveness of the algorithm and suggest improvements.\n",
    "\n",
    ":::{hint}\n",
    ":class: dropdown\n",
    "\n",
    "The program uses the [](https://en.wikipedia.org/wiki/Euclidean_algorithm). Compare it with [Python's implementation for the `gcd` function in C](https://github.com/python/cpython/blob/47bc10e6b3cb44658da275f3484781ef2a2b9222/Objects/longobject.c#L5726C1-L5931C2), applying [Lehmer's GCD algorithm](https://en.wikipedia.org/wiki/Lehmer%27s_GCD_algorithm). See also the [Github issue](https://github.com/python/cpython/issues/66676) for the implementation detail.\n",
    "\n",
    "If you would like to give the computational complexity, the worst case performance is when $a$ and $b$ are two consecutive [Fibonacci numbers](https://en.wikipedia.org/wiki/Fibonacci_sequence), such as\n",
    "\n",
    "> `a = 8` ($F_6$) and `b = 13` ($F_7$).\n",
    "\n",
    "$F_n$ grows exponentially as $O(\\phi^n)$ where $\\phi$ is the golden ratio.\n",
    "\n",
    ":::\n",
    "\n",
    "::::"
   ]
  },
  {
   "cell_type": "markdown",
   "id": "6f7e3463",
   "metadata": {
    "deletable": false,
    "editable": true,
    "nbgrader": {
     "cell_type": "markdown",
     "checksum": "f81cc18abfdba313e7f4ad36b092e8ff",
     "grade": true,
     "grade_id": "gcd2",
     "locked": false,
     "points": 0,
     "schema_version": 3,
     "solution": true,
     "task": false
    },
    "slideshow": {
     "slide_type": ""
    }
   },
   "source": [
    "YOUR ANSWER HERE"
   ]
  },
  {
   "cell_type": "markdown",
   "id": "3a83d581",
   "metadata": {
    "editable": true,
    "slideshow": {
     "slide_type": ""
    }
   },
   "source": [
    "[](#ex:gcd2) is more challenging, as it requires quite a bit of [computational thinking](https://en.wikipedia.org/wiki/Computational_thinking) that you will develop over time, mostly outside the classroom. Dive into it with the help of AI:"
   ]
  },
  {
   "cell_type": "code",
   "execution_count": null,
   "id": "96f52b66",
   "metadata": {
    "editable": true,
    "slideshow": {
     "slide_type": ""
    },
    "tags": [
     "skip-execution"
    ]
   },
   "outputs": [],
   "source": [
    "%%ai\n",
    "What is the fastest possible algorithm for computing GCD?"
   ]
  },
  {
   "cell_type": "markdown",
   "id": "57b0afb4",
   "metadata": {
    "editable": true,
    "slideshow": {
     "slide_type": ""
    }
   },
   "source": [
    "### Inverse Square Root"
   ]
  },
  {
   "cell_type": "markdown",
   "id": "f044d280",
   "metadata": {
    "editable": true,
    "slideshow": {
     "slide_type": ""
    }
   },
   "source": [
    "While computing the greatest common divisor (GCD) involves only integers, many computations involve rational, real numbers, and even complex numbers. An example is to compute the *inverse/reciprocal square root* \n",
    "\n",
    "$$\n",
    "\\begin{align}\n",
    "\\operatorname{rsqrt}(x)&:=\\frac{1}{\\sqrt{x}} && \\text{for $x>0$},\n",
    "\\end{align}\n",
    "$$ (eq:rsqrt)\n",
    "\n",
    "which is an important computation for 3D graphics, e.g., in first-person-shooting games such as [](https://en.wikipedia.org/wiki/Quake_III_Arena)."
   ]
  },
  {
   "cell_type": "markdown",
   "id": "02b94c78",
   "metadata": {
    "editable": true,
    "slideshow": {
     "slide_type": ""
    }
   },
   "source": [
    "The following is an implementation in C++."
   ]
  },
  {
   "cell_type": "markdown",
   "id": "5631c512",
   "metadata": {
    "editable": true,
    "slideshow": {
     "slide_type": ""
    }
   },
   "source": [
    "1. Store the real number $x$ *approximately* as a floating-point number, and compute its reciprocal $y=\\frac1x$ as the initial guess of the inverse square root:"
   ]
  },
  {
   "cell_type": "code",
   "execution_count": null,
   "id": "61c3d04c",
   "metadata": {
    "editable": true,
    "slideshow": {
     "slide_type": ""
    }
   },
   "outputs": [],
   "source": [
    "%%cpp\n",
    "double x = 10./3;  // a floating point number as input\n",
    "cout << format(\"rsqrt({})=?\\n\", x);\n",
    "\n",
    "auto y = 1/x;      // reciprocal, type `auto`matically deduced\n",
    "cout << format(\"Initial guess: {}\\n\", y);"
   ]
  },
  {
   "cell_type": "markdown",
   "id": "5cf1da8d",
   "metadata": {
    "editable": true,
    "slideshow": {
     "slide_type": ""
    }
   },
   "source": [
    "2. To compute the desired square root of the reciprocal, repeatedly runs the following until the answer remains unchanged/steady.\n",
    "  ::::{code} cpp\n",
    "  :label: code_inv_sqrt1\n",
    "  :caption: Update rule for the inverse square root of `x`.\n",
    "  :linenos:\n",
    "  y = (y+1/y/x)/2;   // update the answer\n",
    "  ::::"
   ]
  },
  {
   "cell_type": "code",
   "execution_count": null,
   "id": "db5870fb",
   "metadata": {
    "editable": true,
    "slideshow": {
     "slide_type": ""
    }
   },
   "outputs": [],
   "source": [
    "%%cpp\n",
    "y = (y+1/y/x)/2;\n",
    "cout << format(\"Intermediate answer: {}\\n\", y);"
   ]
  },
  {
   "cell_type": "markdown",
   "id": "5dd083d3",
   "metadata": {
    "editable": true,
    "slideshow": {
     "slide_type": ""
    }
   },
   "source": [
    "You can verify whether the answer is correct by recovering $x$ from $y$ as $\\frac{1}{y^2}$:"
   ]
  },
  {
   "cell_type": "code",
   "execution_count": null,
   "id": "ce5b30c3",
   "metadata": {
    "editable": true,
    "slideshow": {
     "slide_type": ""
    }
   },
   "outputs": [],
   "source": [
    "%%cpp\n",
    "1/y/y"
   ]
  },
  {
   "cell_type": "markdown",
   "id": "e1f2cd58",
   "metadata": {
    "editable": true,
    "slideshow": {
     "slide_type": ""
    }
   },
   "source": [
    "The program [can be improved](https://mrober.io/papers/rsqrt.pdf) by:\n",
    "\n",
    "1. A better initial guess\n",
    "  ::::{code} cpp\n",
    "  :label: code_fast_inv_sqrt1_guess\n",
    "  :caption: Initial guess for the fast inverse square root of `x`.\n",
    "  :linenos:\n",
    "   auto i = *reinterpret_cast<int64_t *>(&x);   // copy x to i as an integer\n",
    "   i = 0x5fe6eb50c7b537a9 - (i >> 1);           // ???\n",
    "   auto y = *reinterpret_cast<double *>(&i);    // copy i to y as a double\n",
    "  ::::"
   ]
  },
  {
   "cell_type": "code",
   "execution_count": null,
   "id": "abe4dcdc",
   "metadata": {
    "editable": true,
    "slideshow": {
     "slide_type": ""
    }
   },
   "outputs": [],
   "source": [
    "%%cpp\n",
    "double x = 10./3;  // input\n",
    "cout << format(\"rsqrt({})=?\\n\", x);\n",
    "\n",
    "auto i = *reinterpret_cast<int64_t *>(&x);\n",
    "i = 0x5fe6eb50c7b537a9 - (i >> 1);\n",
    "auto y = *reinterpret_cast<double *>(&i);\n",
    "cout << format(\"Initial guess: {}\\n\", y);  // initial guess"
   ]
  },
  {
   "cell_type": "markdown",
   "id": "715e6843",
   "metadata": {
    "editable": true,
    "slideshow": {
     "slide_type": ""
    }
   },
   "source": [
    "2. An alternative update rule\n",
    "  ::::{code} cpp\n",
    "  :label: code_fast_inv_sqrt1_update\n",
    "  :caption: Update rule for the fast inverse square root of `x`.\n",
    "  :linenos:\n",
    "  y = y * (1.5 - (x*0.5 * y * y));\n",
    "  ::::"
   ]
  },
  {
   "cell_type": "code",
   "execution_count": null,
   "id": "764a9a40",
   "metadata": {
    "editable": true,
    "slideshow": {
     "slide_type": ""
    }
   },
   "outputs": [],
   "source": [
    "%%cpp\n",
    "y = y * (1.5 - (x/2 * y * y));\n",
    "cout << format(\"Intermediate answer: {}\\n\", y);"
   ]
  },
  {
   "cell_type": "code",
   "execution_count": null,
   "id": "e4417aca",
   "metadata": {
    "editable": true,
    "slideshow": {
     "slide_type": ""
    }
   },
   "outputs": [],
   "source": [
    "%%cpp\n",
    "1/y/y"
   ]
  },
  {
   "cell_type": "markdown",
   "id": "cfd8275a",
   "metadata": {
    "editable": true,
    "slideshow": {
     "slide_type": ""
    }
   },
   "source": [
    "::::{exercise}\n",
    ":label: ex:inv_sqrt1\n",
    "\n",
    "How can the above program fail to give the inverse square root?\n",
    "\n",
    ":::{hint}\n",
    ":class: dropdown\n",
    "\n",
    "The code fails for some choices of $x$.\n",
    "\n",
    ":::\n",
    "\n",
    "::::"
   ]
  },
  {
   "cell_type": "markdown",
   "id": "7985969b",
   "metadata": {
    "deletable": false,
    "editable": true,
    "nbgrader": {
     "cell_type": "markdown",
     "checksum": "15cdd742a3b55c34c9101dc0d765c6da",
     "grade": true,
     "grade_id": "inv_sqrt1",
     "locked": false,
     "points": 0,
     "schema_version": 3,
     "solution": true,
     "task": false
    },
    "slideshow": {
     "slide_type": ""
    }
   },
   "source": [
    "YOUR ANSWER HERE"
   ]
  },
  {
   "cell_type": "markdown",
   "id": "fe8d329d",
   "metadata": {
    "editable": true,
    "slideshow": {
     "slide_type": ""
    }
   },
   "source": [
    "::::::{exercise}\n",
    ":label: ex:inv_sqrt2\n",
    "\n",
    "Explain how the programs compute the inverse square root.\n",
    "\n",
    ":::::{hint}\n",
    ":class: dropdown\n",
    "\n",
    "With $y:=\\frac{1}{\\sqrt{x}}$, we can obtain an equation in $y$ whose root is the desired inverse square root:\n",
    "\\begin{align}\n",
    "f(y):=y^2 - \\frac1x\n",
    "\\end{align}\n",
    "\n",
    "The question is how to compute the root of $f(y)$. To understand the improved initial guess, see a related video below:\n",
    "\n",
    "::::{card}\n",
    ":header: The Fast Inverse Square Root -- 0x5f3759df explained!!\n",
    ":footer: [open in new tab](https://www.youtube.com/embed/NCuf2tjUsAY?si=oaqOOD64Z6kxCS_m)\n",
    "\n",
    ":::{iframe} https://www.youtube.com/embed/NCuf2tjUsAY?si=oaqOOD64Z6kxCS_m\n",
    ":width: 100%\n",
    ":::\n",
    "::::\n",
    "\n",
    ":::::\n",
    "\n",
    "::::::"
   ]
  },
  {
   "cell_type": "markdown",
   "id": "8b8c4986",
   "metadata": {
    "deletable": false,
    "editable": true,
    "nbgrader": {
     "cell_type": "markdown",
     "checksum": "da5b3545f0c744055052b5adce16c08e",
     "grade": true,
     "grade_id": "inv_sqrt2",
     "locked": false,
     "points": 0,
     "schema_version": 3,
     "solution": true,
     "task": false
    },
    "slideshow": {
     "slide_type": ""
    }
   },
   "source": [
    "YOUR ANSWER HERE"
   ]
  },
  {
   "cell_type": "markdown",
   "id": "5dd76488",
   "metadata": {
    "editable": true,
    "slideshow": {
     "slide_type": ""
    }
   },
   "source": [
    "Answering both [](#ex:inv_sqrt1) and [](#ex:inv_sqrt2) requires a very good understanding of how real numbers are represented in computers in addition to the numerical methods involved:"
   ]
  },
  {
   "cell_type": "code",
   "execution_count": null,
   "id": "cb16babc",
   "metadata": {
    "editable": true,
    "slideshow": {
     "slide_type": ""
    },
    "tags": [
     "skip-execution"
    ]
   },
   "outputs": [],
   "source": [
    "%%ai\n",
    "List different methods of computing the square root using basic arithmetic \n",
    "operations."
   ]
  },
  {
   "cell_type": "markdown",
   "id": "56be7d4d",
   "metadata": {
    "editable": true,
    "slideshow": {
     "slide_type": ""
    }
   },
   "source": [
    "In the sequel, we will tackle the easier task of learning the elements of C++ involved in carrying out the above computations."
   ]
  },
  {
   "cell_type": "markdown",
   "id": "c24ff27c",
   "metadata": {
    "editable": true,
    "slideshow": {
     "slide_type": ""
    }
   },
   "source": [
    "## Integer"
   ]
  },
  {
   "cell_type": "markdown",
   "id": "20ca90a3",
   "metadata": {
    "editable": true,
    "slideshow": {
     "slide_type": ""
    }
   },
   "source": [
    "### Literal"
   ]
  },
  {
   "cell_type": "markdown",
   "id": "476f1532",
   "metadata": {
    "editable": true,
    "slideshow": {
     "slide_type": ""
    }
   },
   "source": [
    "How to specify an integer value in C++?"
   ]
  },
  {
   "cell_type": "markdown",
   "id": "dadd66ec",
   "metadata": {
    "editable": true,
    "slideshow": {
     "slide_type": ""
    }
   },
   "source": [
    "One way to specify a value is to use a *literal*, which is a fixed value directly embedded in the source code. A literal can be written in different ways:"
   ]
  },
  {
   "cell_type": "code",
   "execution_count": null,
   "id": "ee0ec1fd",
   "metadata": {
    "editable": true,
    "slideshow": {
     "slide_type": ""
    }
   },
   "outputs": [],
   "source": [
    "%%cpp\n",
    "15 // in decimal"
   ]
  },
  {
   "cell_type": "code",
   "execution_count": null,
   "id": "170825bf",
   "metadata": {
    "editable": true,
    "slideshow": {
     "slide_type": ""
    }
   },
   "outputs": [],
   "source": [
    "%%cpp\n",
    "0b1111 // in binary"
   ]
  },
  {
   "cell_type": "code",
   "execution_count": null,
   "id": "957a1adb",
   "metadata": {
    "editable": true,
    "slideshow": {
     "slide_type": ""
    }
   },
   "outputs": [],
   "source": [
    "%%cpp\n",
    "017 // in octadecimal"
   ]
  },
  {
   "cell_type": "code",
   "execution_count": null,
   "id": "abd48252",
   "metadata": {
    "editable": true,
    "slideshow": {
     "slide_type": ""
    }
   },
   "outputs": [],
   "source": [
    "%%cpp\n",
    "0xF // in hexadecimal"
   ]
  },
  {
   "cell_type": "markdown",
   "id": "5648db96",
   "metadata": {
    "editable": true,
    "slideshow": {
     "slide_type": ""
    }
   },
   "source": [
    "All of the above have the same value of type `int`!"
   ]
  },
  {
   "cell_type": "markdown",
   "id": "20a2661f",
   "metadata": {},
   "source": [
    "In comparison, Python also uses the same syntax except for octadecimal format:"
   ]
  },
  {
   "cell_type": "code",
   "execution_count": null,
   "id": "fbf24e00",
   "metadata": {},
   "outputs": [],
   "source": [
    "15, 0b1111, 0o17, 0xF"
   ]
  },
  {
   "cell_type": "markdown",
   "id": "05e26248",
   "metadata": {
    "editable": true,
    "slideshow": {
     "slide_type": ""
    }
   },
   "source": [
    "C++ also supports [different types of integer literals of different sizes](https://en.cppreference.com/w/cpp/language/types.html), e.g., 3 billions is represented as type `long`:"
   ]
  },
  {
   "cell_type": "code",
   "execution_count": null,
   "id": "08c8b3f8",
   "metadata": {
    "editable": true,
    "slideshow": {
     "slide_type": ""
    }
   },
   "outputs": [],
   "source": [
    "%%cpp\n",
    "3000000000"
   ]
  },
  {
   "cell_type": "markdown",
   "id": "6a6cf2a9",
   "metadata": {
    "editable": true,
    "slideshow": {
     "slide_type": ""
    }
   },
   "source": [
    "$10^{19}$ is represented as unsigned integer type:"
   ]
  },
  {
   "cell_type": "code",
   "execution_count": null,
   "id": "e8487f21",
   "metadata": {
    "editable": true,
    "slideshow": {
     "slide_type": ""
    }
   },
   "outputs": [],
   "source": [
    "%%cpp\n",
    "10000000000000000000 // with a warning"
   ]
  },
  {
   "cell_type": "markdown",
   "id": "8a5ee4aa",
   "metadata": {
    "editable": true,
    "slideshow": {
     "slide_type": ""
    }
   },
   "source": [
    "We can use the [appropriate suffixes](https://en.cppreference.com/w/cpp/language/integer_literal.html) to specify the desired type:"
   ]
  },
  {
   "cell_type": "code",
   "execution_count": null,
   "id": "a99941a4",
   "metadata": {
    "editable": true,
    "slideshow": {
     "slide_type": ""
    }
   },
   "outputs": [],
   "source": [
    "%%cpp\n",
    "10000000000000000000uLL // no warning message"
   ]
  },
  {
   "cell_type": "code",
   "execution_count": null,
   "id": "1823fbd4",
   "metadata": {
    "editable": true,
    "slideshow": {
     "slide_type": ""
    }
   },
   "outputs": [],
   "source": [
    "%%cpp\n",
    "1L // not the default type `int`."
   ]
  },
  {
   "cell_type": "markdown",
   "id": "045115c9",
   "metadata": {
    "editable": true,
    "slideshow": {
     "slide_type": ""
    }
   },
   "source": [
    "The size of different types can be obtained by the [`sizeof` operator](https://en.cppreference.com/w/cpp/language/sizeof.html)[^sizeof]:\n",
    "\n",
    "[^sizeof]: `sizeof` is not a function, even though its usage—such as sizeof(long long)f—resembles a function call. In C++, You cannot pass a type as an argument to a regular function. For template functions, types can be passed but using angle brackets instead of parentheses."
   ]
  },
  {
   "cell_type": "code",
   "execution_count": null,
   "id": "8fcc8451",
   "metadata": {},
   "outputs": [],
   "source": [
    "%%cpp\n",
    "sizeof(short)  // in the unit of byte (8 bits)"
   ]
  },
  {
   "cell_type": "code",
   "execution_count": null,
   "id": "8be49e44",
   "metadata": {
    "editable": true,
    "slideshow": {
     "slide_type": ""
    }
   },
   "outputs": [],
   "source": [
    "%%cpp\n",
    "sizeof(int)"
   ]
  },
  {
   "cell_type": "code",
   "execution_count": null,
   "id": "31c530c4",
   "metadata": {},
   "outputs": [],
   "source": [
    "%%cpp\n",
    "sizeof(long)"
   ]
  },
  {
   "cell_type": "code",
   "execution_count": null,
   "id": "5f0b9ac6",
   "metadata": {},
   "outputs": [],
   "source": [
    "%%cpp\n",
    "sizeof(long long)"
   ]
  },
  {
   "cell_type": "markdown",
   "id": "b9c96016",
   "metadata": {},
   "source": [
    "Let's calculate the number of values of type `int`:"
   ]
  },
  {
   "cell_type": "code",
   "execution_count": null,
   "id": "215d531c",
   "metadata": {
    "editable": true,
    "slideshow": {
     "slide_type": ""
    }
   },
   "outputs": [],
   "source": [
    "%%cpp\n",
    "1uLL << sizeof(int)*8"
   ]
  },
  {
   "cell_type": "markdown",
   "id": "5dff525b",
   "metadata": {},
   "source": [
    "::::{caution} Shouldn't we use `cout <<` instead to print the number of values?\n",
    ":class: dropdown\n",
    "\n",
    "The number of values of type `int` can be computed using the [bitwise shift operator `<<`](https://en.cppreference.com/w/cpp/language/operator_arithmetic.html#Bitwise_shift_operators), which is not the usual [stream insertion operator](https://en.cppreference.com/w/cpp/io/basic_ostream/operator_ltlt2.html) used to print to standard output/error `cout`/`cerr`:[^bitwise]\n",
    "\n",
    "::::\n",
    "\n",
    "[^bitwise]: Bitwise operators perform operations on the bits of the binary representation of integers. You may explore other bitwise operators to learn about them:\n",
    "    1. Bitwise Shift: `<<`, `>>`\n",
    "    2. Bitwise AND: `&`\n",
    "    3. Bitwise XOR: `^`\n",
    "    4. Bitwise OR: `|`"
   ]
  },
  {
   "cell_type": "markdown",
   "id": "492cba3b",
   "metadata": {},
   "source": [
    "::::{caution} What happens if you change `1uLL` to `1`?\n",
    ":class: dropdown\n",
    "\n",
    "The computed value will be wrong. You may see a warning such as\n",
    "\n",
    "```\n",
    "warning: shift count >= width of type [-Wshift-count-overflow]\n",
    "```\n",
    "\n",
    "because `int` is not large enough to represent the number of values of type `int`! Can you explain what the computed value actually is? Try running the code in `xeus-cpp` kernel as a comparison.\n",
    "\n",
    "::::"
   ]
  },
  {
   "cell_type": "markdown",
   "id": "44cb7de9",
   "metadata": {
    "editable": true,
    "slideshow": {
     "slide_type": ""
    }
   },
   "source": [
    "We can also obtain the exact range of a number type using the [`std::numeric_limits`](https://en.cppreference.com/w/cpp/types/numeric_limits.html) class template from the header `<limits>`:"
   ]
  },
  {
   "cell_type": "code",
   "execution_count": null,
   "id": "ad43bac7",
   "metadata": {
    "editable": true,
    "slideshow": {
     "slide_type": ""
    }
   },
   "outputs": [],
   "source": [
    "%%cpp\n",
    "cout << format(\"Range of int: {{{} ... {}}}\\n\", \n",
    "               numeric_limits<int>::min(),  \n",
    "               numeric_limits<int>::max());"
   ]
  },
  {
   "cell_type": "markdown",
   "id": "2e33d53a",
   "metadata": {
    "editable": true,
    "slideshow": {
     "slide_type": ""
    }
   },
   "source": [
    "The number of values of type `int` can alternatively be computed as follows:"
   ]
  },
  {
   "cell_type": "code",
   "execution_count": null,
   "id": "f5b33688",
   "metadata": {
    "editable": true,
    "slideshow": {
     "slide_type": ""
    }
   },
   "outputs": [],
   "source": [
    "%%cpp\n",
    "1uLL + numeric_limits<int>::max() - numeric_limits<int>::min()"
   ]
  },
  {
   "cell_type": "markdown",
   "id": "076d3954",
   "metadata": {
    "editable": true,
    "slideshow": {
     "slide_type": ""
    }
   },
   "source": [
    "You might have noticed that the actual size of `int` is not the same as the required size specified in the C++ standard. Let's ask AI about it:"
   ]
  },
  {
   "cell_type": "code",
   "execution_count": null,
   "id": "9e94464d",
   "metadata": {
    "editable": true,
    "slideshow": {
     "slide_type": ""
    },
    "tags": [
     "skip-execution"
    ]
   },
   "outputs": [],
   "source": [
    "%%ai\n",
    "Why int in C++ is 32 bits instead of 16 bits required by the C++ standard?"
   ]
  },
  {
   "cell_type": "markdown",
   "id": "6e26f131",
   "metadata": {},
   "source": [
    "Similar, the size of `long` can be 32 bits or 64 bits depending on the computer/compiler used. To ensure a definite range across different implementations, fixed integer types are available from [`<cstdint>`](https://en.cppreference.com/w/cpp/types/integer.html)."
   ]
  },
  {
   "cell_type": "code",
   "execution_count": null,
   "id": "b54a455c",
   "metadata": {
    "editable": true,
    "slideshow": {
     "slide_type": ""
    }
   },
   "outputs": [],
   "source": [
    "%%cpp\n",
    "1uL - numeric_limits<int16_t>::min() + numeric_limits<int16_t>::max() == 1uL << 16"
   ]
  },
  {
   "cell_type": "markdown",
   "id": "d2b6b79f",
   "metadata": {
    "editable": true,
    "slideshow": {
     "slide_type": ""
    }
   },
   "source": [
    "For instance, [](#code_fast_inv_sqrt1_guess) uses `int64_t` to ensure that the integer type has `64` bit, which matches the size of the type of `x` to be explain in the section [](#Floating-Point-Number)."
   ]
  },
  {
   "cell_type": "markdown",
   "id": "b117c394",
   "metadata": {
    "editable": true,
    "slideshow": {
     "slide_type": ""
    }
   },
   "source": [
    "::::{exercise}\n",
    ":label: ex:limits\n",
    "\n",
    "What if `1` is used instead of `1uLL` in the above calculation?\n",
    "    \n",
    "::::"
   ]
  },
  {
   "cell_type": "markdown",
   "id": "58019cf9",
   "metadata": {
    "deletable": false,
    "editable": true,
    "nbgrader": {
     "cell_type": "markdown",
     "checksum": "9f7b444f7acf919354f1eef5b7b6c5f7",
     "grade": true,
     "grade_id": "limits",
     "locked": false,
     "points": 0,
     "schema_version": 3,
     "solution": true,
     "task": false
    },
    "slideshow": {
     "slide_type": ""
    }
   },
   "source": [
    "YOUR ANSWER HERE"
   ]
  },
  {
   "cell_type": "markdown",
   "id": "2082e6db",
   "metadata": {
    "editable": true,
    "slideshow": {
     "slide_type": ""
    }
   },
   "source": [
    "### Variable"
   ]
  },
  {
   "cell_type": "markdown",
   "id": "a4424dcd",
   "metadata": {
    "editable": true,
    "slideshow": {
     "slide_type": ""
    }
   },
   "source": [
    "Knowing how to specify an integer, we need a way to store it and retrieve it to perform more complicated computations."
   ]
  },
  {
   "cell_type": "markdown",
   "id": "d54d2fc3",
   "metadata": {
    "editable": true,
    "slideshow": {
     "slide_type": ""
    }
   },
   "source": [
    "::::{caution}\n",
    "\n",
    "C++ is [statically typed](https://en.wikipedia.org/wiki/Type_system#Static_typing), requiring explicit declaration of variable types and making programmers aware of their memory requirements. When done properly, C++ programs can be very fast. Unfortunately, writing good C++ programs can be quite demanding. Mistakes can lead to security risks that are hard to detect or fix.\n",
    "\n",
    "::::"
   ]
  },
  {
   "cell_type": "markdown",
   "id": "319936f4",
   "metadata": {
    "editable": true,
    "slideshow": {
     "slide_type": ""
    }
   },
   "source": [
    "The following declares integer variables with the default [initialization](https://en.cppreference.com/w/cpp/language/initialization.html) of value `0` for variables with static storage duration such as [global variables](https://en.cppreference.com/w/cpp/language/scope.html)."
   ]
  },
  {
   "cell_type": "code",
   "execution_count": null,
   "id": "80020a8a",
   "metadata": {
    "editable": true,
    "slideshow": {
     "slide_type": ""
    }
   },
   "outputs": [],
   "source": [
    "%%cpp\n",
    "int a;\n",
    "short b, c;\n",
    "unsigned long d, e, f;\n",
    "cout << format(\"{} {} {} {} {} {}\\n\", a, b, c, d, e, f);"
   ]
  },
  {
   "cell_type": "markdown",
   "id": "d831dbe1",
   "metadata": {
    "editable": true,
    "slideshow": {
     "slide_type": ""
    }
   },
   "source": [
    "`int a;` is an [expression statement](https://en.cppreference.com/w/cpp/language/statements.html#Expression_statements) (ended with a semi-colon) that declares an integer variable named `a`."
   ]
  },
  {
   "cell_type": "markdown",
   "id": "4989382d",
   "metadata": {
    "editable": true,
    "slideshow": {
     "slide_type": ""
    }
   },
   "source": [
    "A variable name must be a valid [identifier](https://en.cppreference.com/w/cpp/language/identifiers.html). In particular, similar to Python, it should start with a letter or an underscore, and should not be one of the [keywords](https://en.cppreference.com/w/cpp/keywords.html). For instance, the following declarations fail:\n",
    "\n",
    "```cpp\n",
    "int 1a;\n",
    "int this;\n",
    "```"
   ]
  },
  {
   "cell_type": "markdown",
   "id": "12d1458e",
   "metadata": {},
   "source": [
    "::::{seealso} Style guides for C++\n",
    "\n",
    "Similar to [Python's PEP 8](https://peps.python.org/pep-0008/#naming-conventions), C++ also have style guides for naming variables and writing clean code:\n",
    "\n",
    "- [Google C++ Style Guide](https://google.github.io/styleguide/cppguide.html#General_Naming_Rules)\n",
    "- [LLVM Coding Standards](https://llvm.org/docs/CodingStandards.html#name-types-functions-variables-and-enumerators-properly)\n",
    "- [C++ Core Guidelines](https://isocpp.github.io/CppCoreGuidelines/CppCoreGuidelines#main)\n",
    "\n",
    "::::"
   ]
  },
  {
   "cell_type": "markdown",
   "id": "2c0cf4c7",
   "metadata": {},
   "source": [
    "Variables without static storage duration such as the following variables defined in a [block scope](https://en.cppreference.com/w/cpp/language/scope.html#Block_scope) are not initialized:"
   ]
  },
  {
   "cell_type": "code",
   "execution_count": null,
   "id": "88e7b8df",
   "metadata": {},
   "outputs": [],
   "source": [
    "%%cpp\n",
    "{\n",
    "    int a;\n",
    "    short b, c;\n",
    "    unsigned long d, e, f;\n",
    "    cout << format(\"{} {} {} {} {} {}\\n\", a, b, c, d, e, f);\n",
    "}"
   ]
  },
  {
   "cell_type": "markdown",
   "id": "b7cfe998",
   "metadata": {
    "editable": true,
    "slideshow": {
     "slide_type": ""
    }
   },
   "source": [
    "To initialize the variables explicitly, the following uses the [*copy initialization*](https://en.cppreference.com/w/cpp/language/copy_initialization.html):"
   ]
  },
  {
   "cell_type": "code",
   "execution_count": null,
   "id": "1de96474",
   "metadata": {
    "editable": true,
    "slideshow": {
     "slide_type": ""
    }
   },
   "outputs": [],
   "source": [
    "%%cpp\n",
    "auto a = 1;\n",
    "short b = a+1, c = b+1;\n",
    "auto d = 1uL;\n",
    "cout << format(\"{} {} {} {}\\n\", a, b, c, d);"
   ]
  },
  {
   "cell_type": "markdown",
   "id": "85be96d3",
   "metadata": {
    "editable": true,
    "slideshow": {
     "slide_type": ""
    }
   },
   "source": [
    "In the above code, `auto` is a [placeholder type specifier](https://en.cppreference.com/w/cpp/language/auto) that allows the compiler to automatically deduce the data type based on the initializer:"
   ]
  },
  {
   "cell_type": "code",
   "execution_count": null,
   "id": "31c70149",
   "metadata": {
    "editable": true,
    "slideshow": {
     "slide_type": ""
    }
   },
   "outputs": [],
   "source": [
    "%%cpp\n",
    "a"
   ]
  },
  {
   "cell_type": "code",
   "execution_count": null,
   "id": "4f1bf897",
   "metadata": {
    "editable": true,
    "slideshow": {
     "slide_type": ""
    }
   },
   "outputs": [],
   "source": [
    "%%cpp\n",
    "d"
   ]
  },
  {
   "cell_type": "markdown",
   "id": "c89734c6",
   "metadata": {
    "editable": true,
    "slideshow": {
     "slide_type": ""
    }
   },
   "source": [
    "Note that a variable is available immediately after the [*locus/point* of declaration](https://en.cppreference.com/w/cpp/language/scope.html#Point_of_declaration). It is really **immediately**:[^recursion]\n",
    "\n",
    "[^recursion]: This will be useful when defining a [recursion](https://en.wikipedia.org/wiki/Recursion) using [lambda expression](https://en.cppreference.com/w/cpp/language/lambda.html)."
   ]
  },
  {
   "cell_type": "code",
   "execution_count": null,
   "id": "425c8450",
   "metadata": {
    "editable": true,
    "slideshow": {
     "slide_type": ""
    }
   },
   "outputs": [],
   "source": [
    "%%cpp\n",
    "int one=one+1; // `auto` would not work obviously.\n",
    "one"
   ]
  },
  {
   "cell_type": "code",
   "execution_count": null,
   "id": "b839b7d9",
   "metadata": {},
   "outputs": [],
   "source": [
    "%%ai\n",
    "Explain briefly whether `one` in the following code is initialized as `one+1`? \n",
    "Or `1`? or Or `0`?\n",
    "---\n",
    "int one=one+1;"
   ]
  },
  {
   "cell_type": "markdown",
   "id": "c7fc9c01",
   "metadata": {
    "editable": true,
    "slideshow": {
     "slide_type": ""
    }
   },
   "source": [
    "The copy initialization involves an extra copy step, which can be costly for composite data consisting of many values. The extra copy step can be avoided using [*direct initialization*](https://en.cppreference.com/w/cpp/language/direct_initialization.html):"
   ]
  },
  {
   "cell_type": "code",
   "execution_count": null,
   "id": "fa01e94b",
   "metadata": {
    "editable": true,
    "slideshow": {
     "slide_type": ""
    }
   },
   "outputs": [],
   "source": [
    "%%cpp\n",
    "int one(one+1);\n",
    "one"
   ]
  },
  {
   "cell_type": "code",
   "execution_count": null,
   "id": "027b7707",
   "metadata": {},
   "outputs": [],
   "source": [
    "%%ai\n",
    "Is `int one(one+1);` faster than `int one=one+1;`?"
   ]
  },
  {
   "cell_type": "markdown",
   "id": "2f6253d1",
   "metadata": {
    "editable": true,
    "slideshow": {
     "slide_type": ""
    }
   },
   "source": [
    "Let's play with the copy and direct initialization some more:"
   ]
  },
  {
   "cell_type": "code",
   "execution_count": null,
   "id": "2e902516",
   "metadata": {
    "editable": true,
    "slideshow": {
     "slide_type": ""
    }
   },
   "outputs": [],
   "source": [
    "%%cpp\n",
    "unsigned short d=-1;  // runs without warning\n",
    "d"
   ]
  },
  {
   "cell_type": "code",
   "execution_count": null,
   "id": "a21d5272",
   "metadata": {
    "editable": true,
    "slideshow": {
     "slide_type": ""
    }
   },
   "outputs": [],
   "source": [
    "%%cpp\n",
    "short b(100000);    // runs with warning\n",
    "b"
   ]
  },
  {
   "cell_type": "markdown",
   "id": "ad321cd1",
   "metadata": {
    "editable": true,
    "slideshow": {
     "slide_type": ""
    }
   },
   "source": [
    "::::{caution}\n",
    "\n",
    "Both the copy and direct initializations do not prevent *narrowing*, i.e., the process of converting a value from a larger data type to a smaller one, potentially resulting in the loss of information or precision.\n",
    "\n",
    "::::"
   ]
  },
  {
   "cell_type": "markdown",
   "id": "93375cb8",
   "metadata": {
    "editable": true,
    "slideshow": {
     "slide_type": ""
    }
   },
   "source": [
    "To catch bugs caused by narrowing, C++11 introduced [*list initialization*](https://en.cppreference.com/w/cpp/language/list_initialization.html):"
   ]
  },
  {
   "cell_type": "code",
   "execution_count": null,
   "id": "c452e29d",
   "metadata": {
    "editable": true,
    "slideshow": {
     "slide_type": ""
    }
   },
   "outputs": [],
   "source": [
    "%%cpp\n",
    "int one{one+1};\n",
    "one"
   ]
  },
  {
   "cell_type": "markdown",
   "id": "ff60dc21",
   "metadata": {
    "editable": true,
    "slideshow": {
     "slide_type": ""
    }
   },
   "source": [
    "This initialization not only avoid an extra copy step associated with the copy initialization, it also prevents information loss due to narrowing. In particular, the following fails as narrowing is checked by list initialization:\n",
    "\n",
    "```cpp\n",
    "short b{100000};\n",
    "unsigned long d{-1};\n",
    "```"
   ]
  },
  {
   "cell_type": "markdown",
   "id": "45dd33a1",
   "metadata": {
    "editable": true,
    "slideshow": {
     "slide_type": ""
    }
   },
   "source": [
    "### Operator"
   ]
  },
  {
   "cell_type": "markdown",
   "id": "ff98af10",
   "metadata": {
    "editable": true,
    "slideshow": {
     "slide_type": ""
    }
   },
   "source": [
    "The values of variables can be modified using [assignment operators](https://en.cppreference.com/w/cpp/language/operator_assignment.html):"
   ]
  },
  {
   "cell_type": "code",
   "execution_count": null,
   "id": "ba810187",
   "metadata": {
    "editable": true,
    "slideshow": {
     "slide_type": ""
    }
   },
   "outputs": [],
   "source": [
    "%%cpp\n",
    "unsigned long d, e, f;\n",
    "d = e = f = 1;\n",
    "cout << format(\"{} {} {}\\n\", d, e, f);"
   ]
  },
  {
   "cell_type": "markdown",
   "id": "665e251f",
   "metadata": {
    "editable": true,
    "slideshow": {
     "slide_type": ""
    }
   },
   "source": [
    "`d = e = f = 1` behaves like chained assignment in Python:"
   ]
  },
  {
   "cell_type": "code",
   "execution_count": null,
   "id": "288a35c3",
   "metadata": {
    "editable": true,
    "slideshow": {
     "slide_type": ""
    }
   },
   "outputs": [],
   "source": [
    "d = e = f = 1\n",
    "print(d, e, f)"
   ]
  },
  {
   "cell_type": "markdown",
   "id": "e0212f37",
   "metadata": {
    "editable": true,
    "slideshow": {
     "slide_type": ""
    }
   },
   "source": [
    "Similar to the augmented assignment operators in Python, C++ also has [compound assignment operators](https://en.cppreference.com/w/cpp/language/operator_assignment.html#Built-in_compound_assignment_operator) such as `+=`, `-=`, `*=`, `/=`, `%=`, `&=`, `|=`, `^=`, `<<=`, `>>=`:"
   ]
  },
  {
   "cell_type": "code",
   "execution_count": null,
   "id": "db020244",
   "metadata": {
    "editable": true,
    "slideshow": {
     "slide_type": ""
    }
   },
   "outputs": [],
   "source": [
    "%%cpp\n",
    "f += e += d += 1;\n",
    "cout << format(\"{} {} {}\\n\", d, e, f);"
   ]
  },
  {
   "cell_type": "markdown",
   "id": "4c25b7f2",
   "metadata": {
    "editable": true,
    "slideshow": {
     "slide_type": ""
    }
   },
   "source": [
    "However, `f += e += d += 1` is not a valid syntax in Python. How does assignment work in C++?"
   ]
  },
  {
   "cell_type": "markdown",
   "id": "59225050",
   "metadata": {
    "editable": true,
    "slideshow": {
     "slide_type": ""
    }
   },
   "source": [
    "1. In C++, assignment operators are right associative and so the evaluation is equivalent to\n",
    "    ```cpp\n",
    "    f += (e += (d += 1))\n",
    "    ```\n",
    "    \n",
    "    In comparison, assignment operators are non-associative in Python."
   ]
  },
  {
   "cell_type": "markdown",
   "id": "847ca070",
   "metadata": {
    "editable": true,
    "slideshow": {
     "slide_type": ""
    }
   },
   "source": [
    "2. In C++, an assignment operation has a value equal to the assigned value, so \n",
    "    - `(d += 1)` evaluates to `d+1`;\n",
    "    - `(e += d+1)` evaluates to `e+d+1`; and\n",
    "    - `(f += e+d+1)` evaluates to `f+e+d+1`.\n",
    "   \n",
    "   In comparison, an assignment is usually a statement in Python that does not have a value.[^walrus]\n",
    "\n",
    "[^walrus]: The exception is the assignment expression using the walrus operator `:=`."
   ]
  },
  {
   "cell_type": "markdown",
   "id": "f7deafd0",
   "metadata": {},
   "source": [
    "Note that assignment and initialization are different operations. For instance, a variable can be declared to be a [constant](https://en.cppreference.com/w/cpp/language/cv.html) using `const`:"
   ]
  },
  {
   "cell_type": "code",
   "execution_count": null,
   "id": "cae327da",
   "metadata": {},
   "outputs": [],
   "source": [
    "%%cpp\n",
    "const int one=one+1; // cannot write `const int one+=1;`\n",
    "// one=one+1;        // can initialize but not assign a value to a constant\n",
    "cout << one;"
   ]
  },
  {
   "cell_type": "markdown",
   "id": "20013341",
   "metadata": {},
   "source": [
    "A constant is stored in read-only memory that cannot be modified after initialization. While the default initialization and copy initialization in `const int one=one+1;` are okay, the assignment operation `one=one+1` is not. There is no compound initialization like `const int one+=1;` either."
   ]
  },
  {
   "cell_type": "markdown",
   "id": "9f81c80e",
   "metadata": {
    "editable": true,
    "slideshow": {
     "slide_type": ""
    }
   },
   "source": [
    "::::{caution} Precedence and Associativity\n",
    "\n",
    "An expression often involves many operators, so it is important to learn the precedence and associativity of [the list of operators](https://en.cppreference.com/w/cpp/language/operator_precedence.html) to understand the code. If you get to write the code instead, you can always use paratheses to specify the desired order.\n",
    "\n",
    "::::"
   ]
  },
  {
   "cell_type": "markdown",
   "id": "ec92a891",
   "metadata": {
    "editable": true,
    "slideshow": {
     "slide_type": ""
    }
   },
   "source": [
    "Different programming languages may implement different operators, or have different implementations for the same operator."
   ]
  },
  {
   "cell_type": "markdown",
   "id": "1bfa74c2",
   "metadata": {
    "editable": true,
    "slideshow": {
     "slide_type": ""
    }
   },
   "source": [
    "For instance, while C++ has no exponentiation operator `**`, unlike Python, it has the the suffix/prefix increment/decrement operators `++`/`--`, which are not available in Python:"
   ]
  },
  {
   "cell_type": "code",
   "execution_count": null,
   "id": "7a2473b0",
   "metadata": {
    "editable": true,
    "slideshow": {
     "slide_type": ""
    }
   },
   "outputs": [],
   "source": [
    "%%cpp\n",
    "int x = 0;\n",
    "int y = x++; // increments x after evaluation\n",
    "int z = --x; // decrements x before evalution\n",
    "x == y && y == z && z == 0  // all zero?"
   ]
  },
  {
   "cell_type": "markdown",
   "id": "5eeba2d4",
   "metadata": {
    "editable": true,
    "slideshow": {
     "slide_type": ""
    }
   },
   "source": [
    "The last expression utilizes the comparison operator `==` (not `=`) to check *equality* and combine these checks using the logical *AND* operator `&&`. In general, comparison operators have higher precedence than logical operators and so they are evaluated first, i.e.,\n",
    "\n",
    "```cpp\n",
    "(x == y) && (y == z) && (z == 0)\n",
    "```"
   ]
  },
  {
   "cell_type": "markdown",
   "id": "c9072b05",
   "metadata": {
    "editable": true,
    "slideshow": {
     "slide_type": ""
    }
   },
   "source": [
    "In Python, you can achieve the same effect using a chained comparison:"
   ]
  },
  {
   "cell_type": "code",
   "execution_count": null,
   "id": "f699a154",
   "metadata": {
    "editable": true,
    "slideshow": {
     "slide_type": ""
    }
   },
   "outputs": [],
   "source": [
    "ROOT.x == ROOT.y == ROOT.z == 0"
   ]
  },
  {
   "cell_type": "markdown",
   "id": "9fc227eb",
   "metadata": {
    "editable": true,
    "slideshow": {
     "slide_type": ""
    }
   },
   "source": [
    "::::{exercise}\n",
    ":label: ex:all-zero\n",
    "\n",
    "Why does the following C++ code return false even when `x`, `y`, and `z` are all zeros?\n",
    "\n",
    "::::"
   ]
  },
  {
   "cell_type": "code",
   "execution_count": null,
   "id": "b99c0a94",
   "metadata": {
    "editable": true,
    "slideshow": {
     "slide_type": ""
    }
   },
   "outputs": [],
   "source": [
    "%%cpp\n",
    "int x = y = z = 0;\n",
    "x == y == z"
   ]
  },
  {
   "cell_type": "markdown",
   "id": "bc639260",
   "metadata": {
    "deletable": false,
    "editable": false,
    "nbgrader": {
     "cell_type": "markdown",
     "checksum": "ac49d22b5368f6188059efc333303d78",
     "grade": false,
     "grade_id": "all-zero",
     "locked": true,
     "points": 0,
     "schema_version": 3,
     "solution": false,
     "task": true
    },
    "slideshow": {
     "slide_type": ""
    }
   },
   "source": [
    "::::{solution} ex:all-zero\n",
    ":class: dropdown\n",
    "\n",
    "The chaining in C++ works differently than the chained comparison in Python.\n",
    "\n",
    "- `x == y == z` evaluates to `true == z` since `==` is left-associative and `x == y` evaluates to `true`; and\n",
    "- `true == z` evaluates to `false` since `z` is `0`, not `true.\n",
    "\n",
    "::::"
   ]
  },
  {
   "cell_type": "markdown",
   "id": "b53eb7ab",
   "metadata": {
    "editable": true,
    "slideshow": {
     "slide_type": ""
    }
   },
   "source": [
    "[](#code_gcd1) uses the [modulo operation](https://en.wikipedia.org/wiki/Modulo) `a % b` to give the remainder of `a` divided by `b`. However, the behavior can be confusing for negative operands, i.e., when `a` or `b` are negative. [](#code_gcd1) can give different results if written in a different programming language or hardware because the modulo operator may have a different implementation."
   ]
  },
  {
   "cell_type": "markdown",
   "id": "9a5cf323",
   "metadata": {
    "editable": true,
    "slideshow": {
     "slide_type": ""
    }
   },
   "source": [
    "For C++:"
   ]
  },
  {
   "cell_type": "code",
   "execution_count": null,
   "id": "b7409bd6",
   "metadata": {
    "editable": true,
    "slideshow": {
     "slide_type": ""
    }
   },
   "outputs": [],
   "source": [
    "%%cpp\n",
    "int r0=  5 %  3;\n",
    "int r1= -5 %  3;\n",
    "int r2=  5 % -3;\n",
    "int r3= -5 % -3;\n",
    "cout << format(\"{}, {}, {}, {}\\n\", r0, r1, r2, r3);"
   ]
  },
  {
   "cell_type": "markdown",
   "id": "66c53f54",
   "metadata": {
    "editable": true,
    "slideshow": {
     "slide_type": ""
    }
   },
   "source": [
    "For Python:"
   ]
  },
  {
   "cell_type": "code",
   "execution_count": null,
   "id": "8a33363a",
   "metadata": {
    "editable": true,
    "slideshow": {
     "slide_type": ""
    }
   },
   "outputs": [],
   "source": [
    "print(\"{}, {}, {}, {}\\n\".format(5 % 3, -5 % 3, 5 % -3, -5 % -3))"
   ]
  },
  {
   "cell_type": "markdown",
   "id": "6f88aef5",
   "metadata": {
    "editable": true,
    "slideshow": {
     "slide_type": ""
    }
   },
   "source": [
    "::::{prf:definition} Modulo\n",
    ":label: def:modulo\n",
    "\n",
    "$a \\bmod b$ gives the remainder $r$ that satisfies for some integer $q \\in \\mathbb{Z}$, called quotient, that\n",
    "\n",
    "$$\n",
    "\\begin{align}\n",
    "a &= b\\cdot q + r\\\\\n",
    "\\lvert r\\rvert&<\\lvert d\\rvert.\n",
    "\\end{align}\n",
    "$$ (eq:modulo)\n",
    "\n",
    "The condition above does *not* determine $r$ (and $q$) uniquely unless the sign of $r$ is also specified.\n",
    "\n",
    "::::"
   ]
  },
  {
   "cell_type": "markdown",
   "id": "62939c0b",
   "metadata": {
    "editable": true,
    "slideshow": {
     "slide_type": ""
    }
   },
   "source": [
    "::::{exercise}\n",
    ":label: ex:modulo\n",
    "\n",
    "How is the modulo operation implemented differently in C++ and Python?\n",
    "\n",
    "::::"
   ]
  },
  {
   "cell_type": "markdown",
   "id": "3eb01b0b",
   "metadata": {
    "deletable": false,
    "editable": true,
    "nbgrader": {
     "cell_type": "markdown",
     "checksum": "dd0f34cc6fec1180feb8e234074cffd6",
     "grade": true,
     "grade_id": "modulo",
     "locked": false,
     "points": 0,
     "schema_version": 3,
     "solution": true,
     "task": false
    },
    "slideshow": {
     "slide_type": ""
    }
   },
   "source": [
    "YOUR ANSWER HERE"
   ]
  },
  {
   "cell_type": "markdown",
   "id": "23daf92c",
   "metadata": {
    "editable": true,
    "slideshow": {
     "slide_type": ""
    }
   },
   "source": [
    "The quotient $q$ in [](#eq:modulo) can be obtained by the division operation `/` operation."
   ]
  },
  {
   "cell_type": "code",
   "execution_count": null,
   "id": "677bde3a",
   "metadata": {
    "editable": true,
    "slideshow": {
     "slide_type": ""
    }
   },
   "outputs": [],
   "source": [
    "%%cpp\n",
    "int q0=  5 /  3;\n",
    "int q1= -5 /  3;\n",
    "int q2=  5 / -3;\n",
    "int q3= -5 / -3;\n",
    "cout << format(\"{}, {}, {}, {}\\n\", q0, q1, q2, q3);"
   ]
  },
  {
   "cell_type": "markdown",
   "id": "9277b25e",
   "metadata": {
    "editable": true,
    "slideshow": {
     "slide_type": ""
    }
   },
   "source": [
    "In Python, `//` is used instead for integer division. Similar to `%`, the implementation for `//` is also slightly different from `/` in C++."
   ]
  },
  {
   "cell_type": "code",
   "execution_count": null,
   "id": "3e668940",
   "metadata": {
    "editable": true,
    "slideshow": {
     "slide_type": ""
    }
   },
   "outputs": [],
   "source": [
    "print(\"{}, {}, {}, {}\\n\".format(5 // 3, -5 // 3, 5 // -3, -5 // -3))"
   ]
  },
  {
   "cell_type": "code",
   "execution_count": null,
   "id": "2e214d47",
   "metadata": {
    "editable": true,
    "slideshow": {
     "slide_type": ""
    },
    "tags": [
     "skip-execution"
    ]
   },
   "outputs": [],
   "source": [
    "%%ai\n",
    "Explain in one line how integer division is implemented differently in \n",
    "C++ versus Python."
   ]
  },
  {
   "cell_type": "markdown",
   "id": "c694c981",
   "metadata": {
    "editable": true,
    "slideshow": {
     "slide_type": ""
    }
   },
   "source": [
    "## Character"
   ]
  },
  {
   "cell_type": "markdown",
   "id": "6fd431e9",
   "metadata": {
    "editable": true,
    "slideshow": {
     "slide_type": ""
    }
   },
   "source": [
    "How to represent a character?"
   ]
  },
  {
   "cell_type": "markdown",
   "id": "affdb6e1",
   "metadata": {
    "editable": true,
    "slideshow": {
     "slide_type": ""
    }
   },
   "source": [
    "A character literal is a character delimited by *single* quotes."
   ]
  },
  {
   "cell_type": "code",
   "execution_count": null,
   "id": "ef6201f1",
   "metadata": {
    "editable": true,
    "slideshow": {
     "slide_type": ""
    }
   },
   "outputs": [],
   "source": [
    "%%cpp\n",
    "'f'"
   ]
  },
  {
   "cell_type": "markdown",
   "id": "334a773a",
   "metadata": {
    "editable": true,
    "slideshow": {
     "slide_type": ""
    }
   },
   "source": [
    "Each value of type [`char`](https://en.cppreference.com/w/cpp/language/types.html#Character_types) is represented by 1 byte."
   ]
  },
  {
   "cell_type": "code",
   "execution_count": null,
   "id": "b249bfbf",
   "metadata": {
    "editable": true,
    "slideshow": {
     "slide_type": ""
    }
   },
   "outputs": [],
   "source": [
    "%%cpp\n",
    "sizeof(char)"
   ]
  },
  {
   "cell_type": "markdown",
   "id": "c2b14f7e",
   "metadata": {
    "editable": true,
    "slideshow": {
     "slide_type": ""
    }
   },
   "source": [
    "[`char`](https://en.cppreference.com/w/cpp/language/types.html#Character_types) is actually an integer type, e.g., we can initialize variables of type `char` with integer values as follows."
   ]
  },
  {
   "cell_type": "code",
   "execution_count": null,
   "id": "362235a0",
   "metadata": {
    "editable": true,
    "slideshow": {
     "slide_type": ""
    }
   },
   "outputs": [],
   "source": [
    "%%cpp\n",
    "char a = 65, b(66), c {67};\n",
    "cout << format(\"{} {} {}\", a, b, c);"
   ]
  },
  {
   "cell_type": "markdown",
   "id": "32e64f35",
   "metadata": {
    "editable": true,
    "slideshow": {
     "slide_type": ""
    }
   },
   "source": [
    "We can also perform arithmetic operations on characters like what we can do on integers:"
   ]
  },
  {
   "cell_type": "code",
   "execution_count": null,
   "id": "63bc3459",
   "metadata": {
    "editable": true,
    "slideshow": {
     "slide_type": ""
    }
   },
   "outputs": [],
   "source": [
    "%%cpp\n",
    "a - b * 2"
   ]
  },
  {
   "cell_type": "markdown",
   "id": "08292d91",
   "metadata": {
    "editable": true,
    "slideshow": {
     "slide_type": ""
    }
   },
   "source": [
    "`char` can also be signed or unsigned:"
   ]
  },
  {
   "cell_type": "code",
   "execution_count": null,
   "id": "440040ce",
   "metadata": {
    "editable": true,
    "slideshow": {
     "slide_type": ""
    }
   },
   "outputs": [],
   "source": [
    "%%cpp\n",
    "numeric_limits<char>::min()           // sign bit (left-most bit) equals 1"
   ]
  },
  {
   "cell_type": "code",
   "execution_count": null,
   "id": "3d315cc6",
   "metadata": {
    "editable": true,
    "slideshow": {
     "slide_type": ""
    }
   },
   "outputs": [],
   "source": [
    "%%cpp\n",
    "numeric_limits<unsigned char>::min()  // 0"
   ]
  },
  {
   "cell_type": "markdown",
   "id": "9b22f67e",
   "metadata": {
    "editable": true,
    "slideshow": {
     "slide_type": ""
    }
   },
   "source": [
    "A character is represented by an integer according to the [ASCII code](https://en.cppreference.com/w/cpp/language/ascii.html). The following converts between `int` and `char` using [static type casting](https://en.cppreference.com/w/cpp/language/static_cast.html):"
   ]
  },
  {
   "cell_type": "code",
   "execution_count": null,
   "id": "3372e5fb",
   "metadata": {
    "editable": true,
    "slideshow": {
     "slide_type": ""
    }
   },
   "outputs": [],
   "source": [
    "%%cpp\n",
    "cout << format(\"The ASCII code of {} is {}.\\n\", static_cast<char>(65), static_cast<int>('A'));"
   ]
  },
  {
   "cell_type": "markdown",
   "id": "2ddfea80",
   "metadata": {
    "editable": true,
    "slideshow": {
     "slide_type": ""
    }
   },
   "source": [
    "::::{caution} C-style cast\n",
    "\n",
    "The [C-style cast](https://en.cppreference.com/w/c/language/cast.html) `(int) 'A'` also works, but it is not preferred because it lacks compile-time type safety checks.\n",
    "For example, [](#code_fast_inv_sqrt1_guess) for computing the initial guess of the [fast inverse square root algorithm](https://en.wikipedia.org/wiki/Fast_inverse_square_root#Overview_of_the_code) can use the C-style cast like\n",
    "\n",
    "```cpp\n",
    "auto i = *(int64_t *)(&x);\n",
    "...\n",
    "auto y = *(double *)(&i);\n",
    "```\n",
    "\n",
    "The first line converts the address `&x` of a variable `x` of type `double`[^float_later] to an address of `int64_t`, so the dereferenced value can be assigned as an integer to `i`.[^address_later] In other words, while the binary sequences stored in the memory locations of `x` and `i` are the same, they evaluates to different numbers of different types. \n",
    "\n",
    "Such a pointer conversion is rare and is often a result of mistakenly typing `*`. Therefore, `static_cast` incorporates type safety checks to raise an error for [such pointer conversions](https://en.cppreference.com/w/cpp/language/static_cast.html) that are not commonly used, helping to identify issues more easily. If such a conversion is intended, however, programmers can use [`reinterpret_cast`](https://en.cppreference.com/w/cpp/language/reinterpret_cast.html) instead, as shown in [this code](#code_fast_inv_sqrt1_guess).\n",
    "\n",
    "::::\n",
    "\n",
    "[^float_later]: The type `double` will be explained in [a later section on floating point number](#Floating-Point-Number).\n",
    "[^address_later]: The address-of and dereference operators will be explained in [a later section on variable scope](#Scope)."
   ]
  },
  {
   "cell_type": "code",
   "execution_count": null,
   "id": "15f07da1",
   "metadata": {},
   "outputs": [],
   "source": [
    "%%ai\n",
    "List and explain very briefly the different types of cast in C++. Give\n",
    "a one-liner example for each cast."
   ]
  },
  {
   "cell_type": "code",
   "execution_count": null,
   "id": "28c47e8d",
   "metadata": {
    "editable": true,
    "slideshow": {
     "slide_type": ""
    },
    "tags": [
     "skip-execution"
    ]
   },
   "outputs": [],
   "source": [
    "%%ai\n",
    "What is static about static_cast?"
   ]
  },
  {
   "cell_type": "markdown",
   "id": "ddc25094",
   "metadata": {
    "editable": true,
    "slideshow": {
     "slide_type": ""
    }
   },
   "source": [
    "Be careful that not every character can be printed. E.g., the last character in the ASCII code is <kbd>DEL</kbd> (delete), which cannot be printed."
   ]
  },
  {
   "cell_type": "code",
   "execution_count": null,
   "id": "4d5c21a0",
   "metadata": {
    "editable": true,
    "slideshow": {
     "slide_type": ""
    }
   },
   "outputs": [],
   "source": [
    "%%cpp\n",
    "cout << format(\"The ASCII code of {} is {}.\\n\", static_cast<char>(127), 127);"
   ]
  },
  {
   "cell_type": "markdown",
   "id": "4b2b05eb",
   "metadata": {
    "editable": true,
    "slideshow": {
     "slide_type": ""
    }
   },
   "source": [
    "::::{exercise}\n",
    ":label: ex:ascii\n",
    "\n",
    "Explain why printing `static_cast<char>(128), 128)` fails with an error?\n",
    "\n",
    "::::"
   ]
  },
  {
   "cell_type": "code",
   "execution_count": null,
   "id": "5f128464",
   "metadata": {},
   "outputs": [],
   "source": [
    "%%cpp\n",
    "// cout << static_cast<char>(128);   // fails\n",
    "static_cast<char>(128)               // works"
   ]
  },
  {
   "cell_type": "markdown",
   "id": "33812134",
   "metadata": {
    "deletable": false,
    "editable": true,
    "nbgrader": {
     "cell_type": "markdown",
     "checksum": "71d0e1becc52eb207539a3748390e089",
     "grade": true,
     "grade_id": "ascii",
     "locked": false,
     "points": 0,
     "schema_version": 3,
     "solution": true,
     "task": false
    },
    "slideshow": {
     "slide_type": ""
    }
   },
   "source": [
    "YOUR ANSWER HERE"
   ]
  },
  {
   "cell_type": "markdown",
   "id": "3ad0a244",
   "metadata": {
    "editable": true,
    "slideshow": {
     "slide_type": ""
    }
   },
   "source": [
    "As another example, the first character in the ASCII code is <kbd>NUL</kbd> (null), which cannot be printed either."
   ]
  },
  {
   "cell_type": "code",
   "execution_count": null,
   "id": "d62aa666",
   "metadata": {
    "editable": true,
    "slideshow": {
     "slide_type": ""
    }
   },
   "outputs": [],
   "source": [
    "%%cpp\n",
    "cout << format(\"The ASCII code of {} is {}.\\n\", static_cast<char>(0), 0);"
   ]
  },
  {
   "cell_type": "markdown",
   "id": "82291e05",
   "metadata": {},
   "source": [
    "Note that it is missing a few more characters at the end, namely, `is 0.`. Why?"
   ]
  },
  {
   "cell_type": "code",
   "execution_count": null,
   "id": "dc2a8a71",
   "metadata": {
    "editable": true,
    "slideshow": {
     "slide_type": ""
    },
    "tags": [
     "skip-execution"
    ]
   },
   "outputs": [],
   "source": [
    "%%ai\n",
    "Why the following C++ code only prints \"The ASCII code of\"?\n",
    "---\n",
    "cout << format(\"The ASCII code of \\{\\} is \\{\\}.\\n\", static_cast<char>(0), 0);"
   ]
  },
  {
   "cell_type": "markdown",
   "id": "fba91822",
   "metadata": {
    "editable": true,
    "slideshow": {
     "slide_type": ""
    }
   },
   "source": [
    "## Floating Point Number"
   ]
  },
  {
   "cell_type": "markdown",
   "id": "f3c351ab",
   "metadata": {},
   "source": [
    "### Declaration"
   ]
  },
  {
   "cell_type": "markdown",
   "id": "6641a2a0",
   "metadata": {
    "editable": true,
    "slideshow": {
     "slide_type": ""
    }
   },
   "source": [
    "Computations on real numbers are essential for many applications such as simulations, modeling, computer graphics, and machine learning, etc. To manipulate real numbers, a simple idea is to approximate a real number by a rational number, which can then be represented by two integers, namely, the numerator and denominator. For instance, \n",
    "\n",
    "$$\\pi\\approx \\frac{22}{7}.$$"
   ]
  },
  {
   "cell_type": "code",
   "execution_count": null,
   "id": "31df649c",
   "metadata": {
    "editable": true,
    "slideshow": {
     "slide_type": ""
    }
   },
   "outputs": [],
   "source": [
    "%%cpp\n",
    "22/7"
   ]
  },
  {
   "cell_type": "markdown",
   "id": "5659c26b",
   "metadata": {
    "editable": true,
    "slideshow": {
     "slide_type": ""
    }
   },
   "source": [
    "That is not quite what we expected! While you may know how to fix the above issue, it highlights the need for a more convenient representation for numerical computations—[floating-point arithmetics](https://en.wikipedia.org/wiki/IEEE_754).[^FPU] \n",
    "\n",
    "[^FPU]: Modern CPUs and GPUs are equipped with dedicated hardware called [Floating Point Units (FPUs)](https://en.wikipedia.org/wiki/Floating-point_unit) specifically designed to handle floating-point arithmetic efficiently."
   ]
  },
  {
   "cell_type": "code",
   "execution_count": null,
   "id": "dd623b53",
   "metadata": {
    "editable": true,
    "slideshow": {
     "slide_type": ""
    }
   },
   "outputs": [],
   "source": [
    "%%cpp\n",
    "22/7.  // the point is not the period"
   ]
  },
  {
   "cell_type": "markdown",
   "id": "c725ab9a",
   "metadata": {
    "editable": true,
    "slideshow": {
     "slide_type": ""
    }
   },
   "source": [
    "::::{exercise}\n",
    ":label: ex:op_overloading\n",
    "\n",
    "Explain why `22/7` and `22/7.` produce different results.\n",
    "\n",
    "::::"
   ]
  },
  {
   "cell_type": "markdown",
   "id": "a299c06b",
   "metadata": {
    "deletable": false,
    "editable": true,
    "nbgrader": {
     "cell_type": "markdown",
     "checksum": "fd1f79a6af798e8fb4cb6b84c0b37fc2",
     "grade": true,
     "grade_id": "op_overloading",
     "locked": false,
     "points": 0,
     "schema_version": 3,
     "solution": true,
     "task": false
    },
    "slideshow": {
     "slide_type": ""
    }
   },
   "source": [
    "YOUR ANSWER HERE"
   ]
  },
  {
   "cell_type": "markdown",
   "id": "ac3ee517",
   "metadata": {
    "editable": true,
    "slideshow": {
     "slide_type": ""
    }
   },
   "source": [
    "In C++, there are two floating-point data types: `double` and `float`."
   ]
  },
  {
   "cell_type": "code",
   "execution_count": null,
   "id": "a0f87fcd",
   "metadata": {
    "editable": true,
    "slideshow": {
     "slide_type": ""
    }
   },
   "outputs": [],
   "source": [
    "%%cpp\n",
    "constexpr auto PI = 0.314e1  // scientific notation"
   ]
  },
  {
   "cell_type": "markdown",
   "id": "9610ecae",
   "metadata": {
    "editable": true,
    "slideshow": {
     "slide_type": ""
    }
   },
   "source": [
    "The qualifier [`constexpr`](https://en.cppreference.com/w/cpp/language/constexpr.html) declares a constant expression whose value is known at compile time and will not be modified later. In comparison, the qualifier `const` can declare a runtime constant whose value need not be determined at compile time.[^constexpr] For instance, a number randomly drawn with `std::rand()` from `<cstdlib>` can be defined as a constant, but not a constant expression:\n",
    "\n",
    "[^constexpr]: Constant expressions potentially allows the compiler to further optimize the code for faster execution."
   ]
  },
  {
   "cell_type": "code",
   "execution_count": null,
   "id": "b2601814",
   "metadata": {
    "editable": true,
    "slideshow": {
     "slide_type": ""
    }
   },
   "outputs": [],
   "source": [
    "%%cpp\n",
    "const auto a=rand();\n",
    "a"
   ]
  },
  {
   "cell_type": "markdown",
   "id": "7a4fcd48",
   "metadata": {
    "editable": true,
    "slideshow": {
     "slide_type": ""
    }
   },
   "source": [
    "The following will fail because the initializer is randomly drawn at runtime:\n",
    "\n",
    "```cpp\n",
    "constexpr auto a=rand();\n",
    "```"
   ]
  },
  {
   "cell_type": "markdown",
   "id": "9b6ed93f",
   "metadata": {
    "editable": true,
    "slideshow": {
     "slide_type": ""
    }
   },
   "source": [
    "To enter a `float`, add the suffix `f` to the floating point number:"
   ]
  },
  {
   "cell_type": "code",
   "execution_count": null,
   "id": "8e65d06f",
   "metadata": {
    "editable": true,
    "slideshow": {
     "slide_type": ""
    }
   },
   "outputs": [],
   "source": [
    "%%cpp\n",
    "constexpr auto PI = 3.14f  // single precision instead of the default double precision"
   ]
  },
  {
   "cell_type": "markdown",
   "id": "8eb704e1",
   "metadata": {},
   "source": [
    "### Precision"
   ]
  },
  {
   "cell_type": "markdown",
   "id": "c0b4d7a5",
   "metadata": {
    "editable": true,
    "slideshow": {
     "slide_type": ""
    }
   },
   "source": [
    "The benefit of `float` is that it occupies less memory than `double`:"
   ]
  },
  {
   "cell_type": "code",
   "execution_count": null,
   "id": "82b22d62",
   "metadata": {
    "editable": true,
    "slideshow": {
     "slide_type": ""
    }
   },
   "outputs": [],
   "source": [
    "%%cpp\n",
    "sizeof(double)"
   ]
  },
  {
   "cell_type": "code",
   "execution_count": null,
   "id": "02a7d300",
   "metadata": {
    "editable": true,
    "slideshow": {
     "slide_type": ""
    }
   },
   "outputs": [],
   "source": [
    "%%cpp\n",
    "sizeof(float)"
   ]
  },
  {
   "cell_type": "markdown",
   "id": "8c23f2eb",
   "metadata": {
    "editable": true,
    "slideshow": {
     "slide_type": ""
    }
   },
   "source": [
    "However, the smaller memory footprint comes at the cost of a lower precision. For instance, consider the [mass-energy equivalence](https://en.wikipedia.org/wiki/Mass%E2%80%93energy_equivalence):"
   ]
  },
  {
   "cell_type": "code",
   "execution_count": null,
   "id": "1e6fd502",
   "metadata": {
    "editable": true,
    "slideshow": {
     "slide_type": ""
    }
   },
   "outputs": [],
   "source": [
    "%%cpp\n",
    "constexpr float c = 2.99792458e8f;  // the speed of light\n",
    "float m = 5f, E = m*c*c;        // the mass-energy equivalence"
   ]
  },
  {
   "cell_type": "markdown",
   "id": "efdaea9f",
   "metadata": {
    "editable": true,
    "slideshow": {
     "slide_type": ""
    }
   },
   "source": [
    "Of course, $E=mc^2$ as verified below:"
   ]
  },
  {
   "cell_type": "code",
   "execution_count": null,
   "id": "613d7a46",
   "metadata": {
    "editable": true,
    "slideshow": {
     "slide_type": ""
    }
   },
   "outputs": [],
   "source": [
    "%%cpp\n",
    "(E == m*c*c)"
   ]
  },
  {
   "cell_type": "markdown",
   "id": "3b1afac3",
   "metadata": {
    "editable": true,
    "slideshow": {
     "slide_type": ""
    }
   },
   "source": [
    "But $\\frac{E}{c^2} \\neq m$ somehow:"
   ]
  },
  {
   "cell_type": "code",
   "execution_count": null,
   "id": "b98d8509",
   "metadata": {
    "editable": true,
    "slideshow": {
     "slide_type": ""
    }
   },
   "outputs": [],
   "source": [
    "%%cpp\n",
    "E/(c*c) == m"
   ]
  },
  {
   "cell_type": "markdown",
   "id": "8df31ede",
   "metadata": {
    "editable": true,
    "slideshow": {
     "slide_type": ""
    }
   },
   "source": [
    "Changing the order or operations makes it work somehow:"
   ]
  },
  {
   "cell_type": "code",
   "execution_count": null,
   "id": "171c5c36",
   "metadata": {
    "editable": true,
    "slideshow": {
     "slide_type": ""
    }
   },
   "outputs": [],
   "source": [
    "%%cpp\n",
    "E/c/c == m"
   ]
  },
  {
   "cell_type": "markdown",
   "id": "837c144b",
   "metadata": {
    "editable": true,
    "slideshow": {
     "slide_type": ""
    }
   },
   "source": [
    "Using `double` instead of `float` also works:"
   ]
  },
  {
   "cell_type": "code",
   "execution_count": null,
   "id": "fc003f70",
   "metadata": {
    "editable": true,
    "slideshow": {
     "slide_type": ""
    }
   },
   "outputs": [],
   "source": [
    "%%cpp\n",
    "constexpr double c = 2.99792458e8;\n",
    "double m = 5, E = m*c*c;\n",
    "E == m*c*c && E/(c*c) == m"
   ]
  },
  {
   "cell_type": "markdown",
   "id": "bf46318d",
   "metadata": {
    "editable": true,
    "slideshow": {
     "slide_type": ""
    }
   },
   "source": [
    "You might think that the issue has to do with very large/small numbers. The following shows that even a number close to 1, and with just one decimal place cannot be accurately represented in floating point:"
   ]
  },
  {
   "cell_type": "code",
   "execution_count": null,
   "id": "8a1a10d9",
   "metadata": {
    "editable": true,
    "slideshow": {
     "slide_type": ""
    }
   },
   "outputs": [],
   "source": [
    "%%cpp\n",
    "cout << fixed << setprecision(20) << 1.1 << '\\n';  // for double"
   ]
  },
  {
   "cell_type": "markdown",
   "id": "1565b7ba",
   "metadata": {},
   "source": [
    "::::{seealso} How does the above code print up to 20 decimal places?\n",
    ":class: dropdown\n",
    "\n",
    "- [`std::fixed`](https://en.cppreference.com/w/cpp/io/manip/fixed.html): This manipulator sets the output format to fixed-point notation.\n",
    "- [`std::setprecision(20)`](https://en.cppreference.com/w/cpp/io/manip/setprecision.html) from [`<iomanip>`](https://en.cppreference.com/w/cpp/header/iomanip.html): This sets the number of digits after the decimal point to 20.\n",
    "\n",
    "::::"
   ]
  },
  {
   "cell_type": "markdown",
   "id": "f24d8121",
   "metadata": {},
   "source": [
    "Similarly for Python:"
   ]
  },
  {
   "cell_type": "code",
   "execution_count": null,
   "id": "2a7b0680",
   "metadata": {},
   "outputs": [],
   "source": [
    "print(f\"{1.1:.20f}\")"
   ]
  },
  {
   "cell_type": "markdown",
   "id": "138f34dc",
   "metadata": {},
   "source": [
    "Similarly for `float`:"
   ]
  },
  {
   "cell_type": "code",
   "execution_count": null,
   "id": "1f181ebc",
   "metadata": {
    "editable": true,
    "slideshow": {
     "slide_type": ""
    }
   },
   "outputs": [],
   "source": [
    "%%cpp\n",
    "cout << format(\"{:.20f}\\n\", 1.1f);  // for float"
   ]
  },
  {
   "cell_type": "markdown",
   "id": "f631ca0f",
   "metadata": {
    "editable": true,
    "slideshow": {
     "slide_type": ""
    }
   },
   "source": [
    "::::{seealso} How does the above code format the floating point number?\n",
    ":class: dropdown\n",
    "\n",
    "The second piece of code uses a [format specifier](https://en.cppreference.com/w/cpp/utility/format/spec.html) `{:.20f}`, which is a little bit cryptic but very convenient.\n",
    "\n",
    "::::"
   ]
  },
  {
   "cell_type": "markdown",
   "id": "f34f533c",
   "metadata": {
    "editable": true,
    "slideshow": {
     "slide_type": ""
    }
   },
   "source": [
    "Floating-point numbers have *limited precision*:\n",
    "\n",
    "- Single precision is accurate typically to 6-9 decimal digits.\n",
    "- Double precision is accurate typically to 15-17 decimal digits."
   ]
  },
  {
   "cell_type": "markdown",
   "id": "e554b671",
   "metadata": {
    "editable": true,
    "slideshow": {
     "slide_type": ""
    }
   },
   "source": [
    "The limits of `float` (and similarly `double`) can be obtained as follows from [`numeric_limits`](https://en.cppreference.com/w/cpp/types/numeric_limits.html#Member_functions):"
   ]
  },
  {
   "cell_type": "code",
   "execution_count": null,
   "id": "b01f74ad",
   "metadata": {
    "editable": true,
    "slideshow": {
     "slide_type": ""
    }
   },
   "outputs": [],
   "source": [
    "%%cpp\n",
    "cout << format(\"Minimum value: {}\\n\", std::numeric_limits<float>::min());\n",
    "cout << format(\"Lowest value (including subnormal): {}\\n\", std::numeric_limits<float>::lowest());\n",
    "cout << format(\"Maximum value: {}\\n\", std::numeric_limits<float>::max());\n",
    "cout << format(\"Epsilon (difference between 1.0 and the next representable float): {}\\n\", std::numeric_limits<float>::epsilon());\n",
    "cout << format(\"Round error: {}\\n\", std::numeric_limits<float>::round_error());\n",
    "cout << format(\"Denormalized minimum value: {}\\n\", std::numeric_limits<float>::denorm_min());"
   ]
  },
  {
   "cell_type": "code",
   "execution_count": null,
   "id": "59060ff1",
   "metadata": {
    "editable": true,
    "slideshow": {
     "slide_type": ""
    }
   },
   "outputs": [],
   "source": [
    "%%cpp\n",
    "numeric_limits<float>::min()           // the smallest positive normal value"
   ]
  },
  {
   "cell_type": "code",
   "execution_count": null,
   "id": "104130eb",
   "metadata": {
    "editable": true,
    "slideshow": {
     "slide_type": ""
    }
   },
   "outputs": [],
   "source": [
    "%%cpp\n",
    "numeric_limits<float>::lowest()        // the lowest finite value"
   ]
  },
  {
   "cell_type": "code",
   "execution_count": null,
   "id": "55d71647",
   "metadata": {
    "editable": true,
    "slideshow": {
     "slide_type": ""
    }
   },
   "outputs": [],
   "source": [
    "%%cpp\n",
    "numeric_limits<float>::max()           // the largest finite value"
   ]
  },
  {
   "cell_type": "code",
   "execution_count": null,
   "id": "c8279dff",
   "metadata": {
    "editable": true,
    "slideshow": {
     "slide_type": ""
    }
   },
   "outputs": [],
   "source": [
    "%%cpp\n",
    "numeric_limits<float>::epsilon()       // the gap from 1.0 to the next value"
   ]
  },
  {
   "cell_type": "code",
   "execution_count": null,
   "id": "5f68f5e4",
   "metadata": {
    "editable": true,
    "slideshow": {
     "slide_type": ""
    }
   },
   "outputs": [],
   "source": [
    "%%cpp\n",
    "numeric_limits<float>::round_error()   // the maximum rounding error"
   ]
  },
  {
   "cell_type": "markdown",
   "id": "3a1d0575",
   "metadata": {
    "editable": true,
    "slideshow": {
     "slide_type": ""
    }
   },
   "source": [
    "There are also some special values defined according to the IEEE 754 standard:"
   ]
  },
  {
   "cell_type": "code",
   "execution_count": null,
   "id": "5066345f",
   "metadata": {
    "editable": true,
    "slideshow": {
     "slide_type": ""
    }
   },
   "outputs": [],
   "source": [
    "%%cpp\n",
    "numeric_limits<float>::infinity()      // the positive infinity value"
   ]
  },
  {
   "cell_type": "code",
   "execution_count": null,
   "id": "4f1a1435",
   "metadata": {
    "editable": true,
    "slideshow": {
     "slide_type": ""
    }
   },
   "outputs": [],
   "source": [
    "%%cpp\n",
    "numeric_limits<float>::quiet_NaN()     // a quiet NaN value"
   ]
  },
  {
   "cell_type": "code",
   "execution_count": null,
   "id": "fcccd342",
   "metadata": {
    "editable": true,
    "slideshow": {
     "slide_type": ""
    }
   },
   "outputs": [],
   "source": [
    "%%cpp\n",
    "numeric_limits<float>::signaling_NaN() // a signaling NaN value"
   ]
  },
  {
   "cell_type": "code",
   "execution_count": null,
   "id": "e0aae6aa",
   "metadata": {
    "editable": true,
    "slideshow": {
     "slide_type": ""
    }
   },
   "outputs": [],
   "source": [
    "%%cpp\n",
    "numeric_limits<float>::denorm_min()   // the smallest positive subnormal value"
   ]
  },
  {
   "cell_type": "markdown",
   "id": "63d165af",
   "metadata": {
    "editable": true,
    "slideshow": {
     "slide_type": ""
    }
   },
   "source": [
    "Python's `float` is different from C++'s `float` because it has double precision:"
   ]
  },
  {
   "cell_type": "code",
   "execution_count": null,
   "id": "15dccbc6",
   "metadata": {
    "editable": true,
    "slideshow": {
     "slide_type": ""
    }
   },
   "outputs": [],
   "source": [
    "import sys\n",
    "sys.float_info"
   ]
  },
  {
   "cell_type": "markdown",
   "id": "ea4671c2",
   "metadata": {
    "editable": true,
    "slideshow": {
     "slide_type": ""
    }
   },
   "source": [
    "To understand the precision issue of floating point numbers, play with a similator:\n",
    "\n",
    "- [IEEE 754 Floating Point Converter](https://www.h-schmidt.net/FloatConverter/IEEE754.html)\n",
    "- [Float Toy](https://evanw.github.io/float-toy/)"
   ]
  },
  {
   "cell_type": "markdown",
   "id": "9eda052c",
   "metadata": {},
   "source": [
    "The following is an IEEE 754 simulator written in Python:"
   ]
  },
  {
   "cell_type": "code",
   "execution_count": null,
   "id": "b6a76e25",
   "metadata": {},
   "outputs": [],
   "source": [
    "@interact(x=FloatLogSlider(\n",
    "    value=1,        # Initial value of the slider\n",
    "    base=2,         # Base of the logarithm (e.g., 10 for base-10 log)\n",
    "    min=-1023-52,\n",
    "    max=1023,\n",
    "    step=1,\n",
    "    description='x' # Label for the slider\n",
    "))\n",
    "def double2binary(x):\n",
    "    # Convert the double to its binary representation\n",
    "    binary = f\"{unpack('>Q', pack('>d', x))[0]:064b}\"\n",
    "    \n",
    "    # Extract sign, exponent, and mantissa\n",
    "    sign = binary[0]\n",
    "    exponent = binary[1:12]\n",
    "    mantissa = binary[12:]\n",
    "    \n",
    "    # Convert exponent and mantissa to decimal\n",
    "    sign_val = int(sign, 2)\n",
    "    exponent_val = int(exponent, 2)\n",
    "    mantissa_val = int(mantissa, 2)/2**52\n",
    "    \n",
    "    # Create color-coded HTML output \n",
    "    html_output = (\n",
    "        f\"Binary: \"\n",
    "        f\"<span style='color:red;'>{sign}</span>\"\n",
    "        f\"<span style='color:green;'>{exponent}</span>\"\n",
    "        f\"<span style='color:blue;'>{mantissa}</span><br>\"\n",
    "    ) \n",
    "    html_output += (\n",
    "        f\"$(-1)^{{\\\\color{{red}}{sign_val}}}\\\\times \"\n",
    "        f\"2^{{{{\\\\color{{green}}{exponent_val}}}-1023}}\\\\times \"\n",
    "        f\"(1+{{\\\\color{{blue}}\\\\text{{{mantissa_val}}}}})$\"\n",
    "    ) if exponent_val < 2047 else (\n",
    "        r\"NaN\" if mantissa_val > 0 else (\n",
    "            f\"${('', '-')[sign_val]} \\\\infty$\"\n",
    "        )\n",
    "    )\n",
    "\n",
    "    display(HTML(html_output))"
   ]
  },
  {
   "cell_type": "code",
   "execution_count": null,
   "id": "095a8e26",
   "metadata": {},
   "outputs": [],
   "source": [
    "double2binary(float('inf'))"
   ]
  },
  {
   "cell_type": "code",
   "execution_count": null,
   "id": "820e10be",
   "metadata": {},
   "outputs": [],
   "source": [
    "double2binary(-float('inf'))"
   ]
  },
  {
   "cell_type": "code",
   "execution_count": null,
   "id": "124a3d0b",
   "metadata": {},
   "outputs": [],
   "source": [
    "double2binary(float('nan'))"
   ]
  },
  {
   "cell_type": "markdown",
   "id": "5dc6a34d",
   "metadata": {},
   "source": [
    "::::{caution} Why does the precision error depend on the order of operations?\n",
    ":class: dropdown\n",
    "\n",
    "Floating-point numbers operate at varying scales due to their exponents, so using the same number of bits for the mantissa can lead to precision errors that differ by scale. The order of operations affects how these errors accumulate, resulting in varying overall precision depending on the scale.\n",
    "\n",
    "::::"
   ]
  },
  {
   "cell_type": "markdown",
   "id": "355b78e7",
   "metadata": {
    "editable": true,
    "slideshow": {
     "slide_type": ""
    }
   },
   "source": [
    "::::{exercise}\n",
    ":label: ex:max_double\n",
    "\n",
    "Explain why the followings are true?\n",
    "\n",
    "::::"
   ]
  },
  {
   "cell_type": "code",
   "execution_count": null,
   "id": "16b2a562",
   "metadata": {
    "editable": true,
    "slideshow": {
     "slide_type": ""
    }
   },
   "outputs": [],
   "source": [
    "%%cpp\n",
    "const double m=1e16;\n",
    "m - 1 == m"
   ]
  },
  {
   "cell_type": "code",
   "execution_count": null,
   "id": "6c12da2b",
   "metadata": {
    "editable": true,
    "slideshow": {
     "slide_type": ""
    }
   },
   "outputs": [],
   "source": [
    "%%cpp\n",
    "const double m=1e100;\n",
    "m*m*m*m == m*m*m*m*m*m*m*m*m*m*m*m*m*m*m*m*m*m*m*m"
   ]
  },
  {
   "cell_type": "markdown",
   "id": "6f82d9d6",
   "metadata": {
    "deletable": false,
    "editable": true,
    "nbgrader": {
     "cell_type": "markdown",
     "checksum": "86c9d2090c9d984d39126657076ae040",
     "grade": true,
     "grade_id": "max_double",
     "locked": false,
     "points": 0,
     "schema_version": 3,
     "solution": true,
     "task": false
    },
    "slideshow": {
     "slide_type": ""
    }
   },
   "source": [
    "YOUR ANSWER HERE"
   ]
  },
  {
   "cell_type": "markdown",
   "id": "ba62b0b7",
   "metadata": {
    "editable": true,
    "slideshow": {
     "slide_type": ""
    }
   },
   "source": [
    "::::{exercise}\n",
    ":label: ex:nan\n",
    "\n",
    "Explain why the mass of an atom is not equal to itself.\n",
    "\n",
    "::::"
   ]
  },
  {
   "cell_type": "code",
   "execution_count": null,
   "id": "8d14f575",
   "metadata": {
    "editable": true,
    "slideshow": {
     "slide_type": ""
    }
   },
   "outputs": [],
   "source": [
    "%%cpp\n",
    "constexpr float mass_of_universe = 1.45e53;\n",
    "constexpr float num_of_atoms = 1e80;\n",
    "const float mass_of_atom = mass_of_universe/num_of_atoms;\n",
    "(mass_of_atom == mass_of_atom)"
   ]
  },
  {
   "cell_type": "markdown",
   "id": "28177770",
   "metadata": {
    "deletable": false,
    "editable": true,
    "nbgrader": {
     "cell_type": "markdown",
     "checksum": "2dacc6d99c7950cea928aad4611c0545",
     "grade": true,
     "grade_id": "nan",
     "locked": false,
     "points": 0,
     "schema_version": 3,
     "solution": true,
     "task": false
    },
    "slideshow": {
     "slide_type": ""
    }
   },
   "source": [
    "YOUR ANSWER HERE"
   ]
  },
  {
   "cell_type": "markdown",
   "id": "30a3cdd8",
   "metadata": {
    "editable": true,
    "slideshow": {
     "slide_type": ""
    }
   },
   "source": [
    "::::{note}\n",
    "\n",
    "`mass_of_atom` is declared with the [`const` type qualifier](https://en.cppreference.com/w/c/language/const.html) instead of `constexpr` because its value is not known at compile time even if it is expected to be a constant.\n",
    "\n",
    "::::"
   ]
  },
  {
   "cell_type": "markdown",
   "id": "036bc1c4",
   "metadata": {
    "editable": true,
    "slideshow": {
     "slide_type": ""
    }
   },
   "source": [
    "## Scope"
   ]
  },
  {
   "cell_type": "markdown",
   "id": "7b16996a",
   "metadata": {
    "editable": true,
    "slideshow": {
     "slide_type": ""
    }
   },
   "source": [
    "The access of a variable is restricted to its [scope](https://en.cppreference.com/w/cpp/language/scope.html). For instance, in [](#code_gcd1), `a` and `b` can be accessed anywhere since they have global scope, but `c` can only be access within the [compound statement](https://en.cppreference.com/w/cpp/language/statements.html#Compound_statements) enclosed by the braces `{ ... }`, which creates a [block scope](https://en.cppreference.com/w/cpp/language/scope.html#Block_scope).\n",
    "\n",
    "```cpp\n",
    "{\n",
    "  ...\n",
    "  int c = b;\n",
    "  ... // c visible here\n",
    "} // c is out of scope\n",
    "```"
   ]
  },
  {
   "cell_type": "markdown",
   "id": "facec80b",
   "metadata": {
    "editable": true,
    "slideshow": {
     "slide_type": ""
    }
   },
   "source": [
    "::::{caution} Redeclarations of a variable\n",
    "\n",
    "You might wonder why we use a compound statement. This is because, even though the `cling` interpreter allows redeclarations of a variable in separate runs, C++ compilers do not allow redeclaring a variable within the same scope. The code inside the block needs to be executed repeatedly to produce the final result.\n",
    "\n",
    "::::"
   ]
  },
  {
   "cell_type": "markdown",
   "id": "e49c2ff1",
   "metadata": {
    "editable": true,
    "slideshow": {
     "slide_type": ""
    }
   },
   "source": [
    "C++ follows [lexical scoping](https://en.wikipedia.org/wiki/Scope_(computer_science)) to access variables defined in the closest enclosing scope. To understand how this works, consider the following example:"
   ]
  },
  {
   "cell_type": "code",
   "execution_count": null,
   "id": "f08e3123",
   "metadata": {
    "editable": true,
    "slideshow": {
     "slide_type": ""
    }
   },
   "outputs": [],
   "source": [
    "%%cpp\n",
    "// global scope\n",
    "int a;\n",
    "{ // block scope level 1\n",
    "    { // block scope level 2\n",
    "        int a;\n",
    "        { // block scope level 3\n",
    "            cout << \"Level 3: a=\" << a << '\\n';\n",
    "        }       \n",
    "    }\n",
    "    cout << \"Level 1: a=\" << a << '\\n';\n",
    "}"
   ]
  },
  {
   "cell_type": "markdown",
   "id": "06cc2b38",
   "metadata": {
    "editable": true,
    "slideshow": {
     "slide_type": ""
    }
   },
   "source": [
    "- The first `cout` in level 3 accesses `a` defined in level 2, which *shadows* the variable `a` in the global scope. Note that local variables are not initialized to `0` by default.\n",
    "- The second `cout` in level 1 accesses `a` defined in the global scope, which is initialized to `0` by default. `a` defined in level 2 is out of the scope of level 1."
   ]
  },
  {
   "cell_type": "markdown",
   "id": "12eeaaa3",
   "metadata": {
    "editable": true,
    "slideshow": {
     "slide_type": ""
    }
   },
   "source": [
    "In C++, a variable is not merely a name; it is a named container whose size is determined by its type. In comparison, Python is [dynamically typed](https://en.wikipedia.org/wiki/Type_system#DYNAMIC). Instead of a memory location, a variable in Python can be considered simply as a name of an object. In particular, the memory locations of different variables can be the same:"
   ]
  },
  {
   "cell_type": "code",
   "execution_count": null,
   "id": "c56ea99f",
   "metadata": {
    "editable": true,
    "slideshow": {
     "slide_type": ""
    }
   },
   "outputs": [],
   "source": [
    "a = b = 1\n",
    "print(f\"a={a} @ {id(a):#x}\")\n",
    "print(f\"b={b} @ {id(b):#x}\")"
   ]
  },
  {
   "cell_type": "markdown",
   "id": "b6914d73",
   "metadata": {
    "editable": true,
    "slideshow": {
     "slide_type": ""
    }
   },
   "source": [
    "The above uses `id` in CPython, which returns the memory location of its argument. The assignments above are called aliasing, since both `a` and `b` are different names pointing to the same memory location."
   ]
  },
  {
   "cell_type": "markdown",
   "id": "18f15bc0",
   "metadata": {},
   "source": [
    "::::{tip}\n",
    "\n",
    "To learn more about a Python function, we can use the contextual help by placing the cursor over a function name and \n",
    "- click the menu item `Help`$\\to$`Show Contextual Help` or\n",
    "- press the short-cut key <kbd>Shift + Tab</kbd>.\n",
    "\n",
    "::::"
   ]
  },
  {
   "cell_type": "markdown",
   "id": "aad80e7a",
   "metadata": {
    "editable": true,
    "slideshow": {
     "slide_type": ""
    }
   },
   "source": [
    "For C++, diferent variables *normally* have different memory locations even if they have the same value."
   ]
  },
  {
   "cell_type": "code",
   "execution_count": null,
   "id": "0fd8a70d",
   "metadata": {},
   "outputs": [],
   "source": [
    "%%cpp\n",
    "int a=1, b=a;\n",
    "cout << format(\"a={} @ \", a) << &a << '\\n';\n",
    "cout << format(\"b={} @ \", b) << &b << '\\n';"
   ]
  },
  {
   "cell_type": "markdown",
   "id": "e72f2fba",
   "metadata": {},
   "source": [
    "The above code uses the [address-of operator `&`](https://en.cppreference.com/w/cpp/language/operator_member_access.html#Built-in_address-of_operator), which returns the address of type `int *`:"
   ]
  },
  {
   "cell_type": "code",
   "execution_count": null,
   "id": "feb098ee",
   "metadata": {},
   "outputs": [],
   "source": [
    "%%cpp\n",
    "&a"
   ]
  },
  {
   "cell_type": "markdown",
   "id": "2d7027e8",
   "metadata": {},
   "source": [
    "Variables with the same name also have different memory locations:"
   ]
  },
  {
   "cell_type": "code",
   "execution_count": null,
   "id": "edb67f4a",
   "metadata": {},
   "outputs": [],
   "source": [
    "%%cpp\n",
    "int a=1;\n",
    "{\n",
    "    int a=++a;\n",
    "    cout << format(\"a={} @ {:p}\\n\", a, static_cast<void*>(&a));\n",
    "}\n",
    "cout << format(\"a={} @ {:p}\\n\", a, static_cast<void*>(&a));"
   ]
  },
  {
   "cell_type": "markdown",
   "id": "119a302f",
   "metadata": {},
   "source": [
    "The above code uses `static_cast<void*>` to convert `&a` to type `void*` so it can be formatted as an address with the format specifier `{:p}`."
   ]
  },
  {
   "cell_type": "markdown",
   "id": "7e69abbc",
   "metadata": {},
   "source": [
    "::::{caution} Shouldn't the code prints `a=2 @ ...` first?\n",
    ":class: dropdown\n",
    "\n",
    "`++a` actually uses the already declared `a` in the block scope, whose value is uninitialized and therefore may not be `1`.\n",
    "\n",
    "::::"
   ]
  },
  {
   "cell_type": "markdown",
   "id": "2f0b7f1d",
   "metadata": {},
   "source": [
    "We can store the address using a variable known as a [pointer](https://en.cppreference.com/w/cpp/language/pointer.html):"
   ]
  },
  {
   "cell_type": "code",
   "execution_count": null,
   "id": "7c4add46",
   "metadata": {},
   "outputs": [],
   "source": [
    "%%cpp\n",
    "int* p=&a;\n",
    "cout << format(\"a={}\\n\", *p);"
   ]
  },
  {
   "cell_type": "markdown",
   "id": "ab64ebf8",
   "metadata": {},
   "source": [
    "`*p` above uses the [indirection/dereference operator `*`](https://en.cppreference.com/w/cpp/language/operator_member_access.html#Built-in_indirection_operator) to access the value that `p` points to. Indeed, since it is far more common to operate on `*p` instead of `p`, the declaration for multiple pointers require specifying `*` for each pointer:"
   ]
  },
  {
   "cell_type": "code",
   "execution_count": null,
   "id": "af08a039",
   "metadata": {},
   "outputs": [],
   "source": [
    "%%cpp\n",
    "int *p=&a, *q=&b;\n",
    "cout << format(\"a={}, b={}\\n\", *p, *q);"
   ]
  },
  {
   "cell_type": "markdown",
   "id": "fe417ac2",
   "metadata": {
    "editable": true,
    "slideshow": {
     "slide_type": ""
    }
   },
   "source": [
    "The default initialization for pointers with static storage duration is `nullptr` or `0`, referred to as the null pointer. The value indicates that the pointer does not point to any object, i.e.,  dereferencing it leads to an error:"
   ]
  },
  {
   "cell_type": "code",
   "execution_count": null,
   "id": "ceed1229",
   "metadata": {
    "editable": true,
    "slideshow": {
     "slide_type": ""
    }
   },
   "outputs": [],
   "source": [
    "%%cpp\n",
    "int *p, *q=0, *r=nullptr;  // global p is initialized to nullptr by default\n",
    "p==q && q==r               // nullptr has an integer value 0"
   ]
  },
  {
   "cell_type": "markdown",
   "id": "4da6a380",
   "metadata": {},
   "source": [
    "::::{caution}\n",
    "\n",
    "Using an uninitialized pointer in non-static storage duration is unsafe. For instance:\n",
    "\n",
    "```cpp\n",
    "{\n",
    "    int *p;\n",
    "    cout << *p;  // 👨🏻‍🏫 ❌ Undefined behavior\n",
    "    *p = 1;      // 👨🏻‍🏫 ❌ Dangerous: p points to an arbitrary memory location\n",
    "}\n",
    "\n",
    "```\n",
    "\n",
    "::::"
   ]
  },
  {
   "cell_type": "code",
   "execution_count": null,
   "id": "04d4ea3a",
   "metadata": {},
   "outputs": [],
   "source": [
    "%%cpp\n",
    "{\n",
    "    int *p;\n",
    "    cout << *p;\n",
    "    // 😈: If you never try, you'll never know.\n",
    "    // *p = 1;\n",
    "}"
   ]
  },
  {
   "cell_type": "markdown",
   "id": "ddc1c5dc",
   "metadata": {
    "editable": true,
    "slideshow": {
     "slide_type": ""
    }
   },
   "source": [
    "The use of pointers can get rather complicated as can be seen in [](#code_fast_inv_sqrt1_guess). The following code uses the idea to give an IEEE 754 simulator in C++:"
   ]
  },
  {
   "cell_type": "code",
   "execution_count": null,
   "id": "8cf7ef98",
   "metadata": {},
   "outputs": [],
   "source": [
    "%%cpp\n",
    "double x=1.;\n",
    "auto i = reinterpret_cast<int64_t *>(&x);\n",
    "cout << format(\"{:064b}\", *i);"
   ]
  },
  {
   "cell_type": "markdown",
   "id": "47496909",
   "metadata": {},
   "source": [
    "The above prints the binary representation of the integer `i`, which is also the binary representation of the floating point number `x`."
   ]
  },
  {
   "cell_type": "markdown",
   "id": "ff85f0df",
   "metadata": {},
   "source": [
    "The effect of aliasing can also be achieved using pointers."
   ]
  },
  {
   "cell_type": "code",
   "execution_count": null,
   "id": "b4abd8c4",
   "metadata": {
    "editable": true,
    "slideshow": {
     "slide_type": ""
    }
   },
   "outputs": [],
   "source": [
    "%%cpp\n",
    "int a=1, *b=&a;\n",
    "cout << format(\" a={} @ {:p}\\n\", a++, static_cast<void*>(&a));\n",
    "cout << format(\"*b={} @ {:p}\\n\", *b, static_cast<void*>(b));"
   ]
  },
  {
   "cell_type": "markdown",
   "id": "a304e9fd",
   "metadata": {
    "editable": true,
    "slideshow": {
     "slide_type": ""
    }
   },
   "source": [
    "Aliasing can also be achieved in C++ using an [*lvalue (locator value) reference*](https://en.cppreference.com/w/cpp/language/reference.html) such as `int &`:"
   ]
  },
  {
   "cell_type": "code",
   "execution_count": null,
   "id": "8b1cbece",
   "metadata": {
    "editable": true,
    "slideshow": {
     "slide_type": ""
    }
   },
   "outputs": [],
   "source": [
    "%%cpp\n",
    "int a=1, &b=a;\n",
    "cout << format(\"a={} @ {:p}\\n\", a++, static_cast<void*>(&a));\n",
    "cout << format(\"b={} @ {:p}\\n\", b, static_cast<void*>(&b));"
   ]
  },
  {
   "cell_type": "markdown",
   "id": "238e2310",
   "metadata": {
    "editable": true,
    "slideshow": {
     "slide_type": ""
    }
   },
   "source": [
    "The declaration `int &b=a;` binds the address of `a` to `b`, so both `a` and `b` share the same memory location. The behavior of aliasing in Python is still very different:"
   ]
  },
  {
   "cell_type": "code",
   "execution_count": null,
   "id": "4b8fbdc2",
   "metadata": {},
   "outputs": [],
   "source": [
    "b = a = 1  # a and b have the same memory location\n",
    "a = a + 1  # a incremented to 2\n",
    "b          # b is also 2? a and b have the same memory location right?"
   ]
  },
  {
   "cell_type": "markdown",
   "id": "4963256b",
   "metadata": {},
   "source": [
    "::::{caution} Why `b` is not equal to `2`?\n",
    ":class: dropdown\n",
    "\n",
    "`b` is still `1` because it is not an alias of `a`, but rather, an alias of the object/integer `1`. \n",
    "- `a = a + 1` in Python assign the name `a` to a new value `a + 1`, without changing the value `1` that `b` points to.\n",
    "- `a++` in C++ increments the value `a`, which is also the value of `b`.\n",
    "\n",
    "::::"
   ]
  },
  {
   "cell_type": "markdown",
   "id": "a7e6b3b8",
   "metadata": {
    "editable": true,
    "slideshow": {
     "slide_type": ""
    }
   },
   "source": [
    "In C++, an integer such as `1` also has an associated memory location, but it is temporary and optimized heavily by the compiler in a way not suitable for users to modify. `int &b=1;` fails because, otherwise, the location of `1` would be exposed to the users to modify. We say that `1` is not an lvalue, but rather, an rvalue, or more specifically, a [prvalue](https://en.cppreference.com/w/cpp/language/value_category.html#prvalue)."
   ]
  },
  {
   "cell_type": "markdown",
   "id": "c725a8be",
   "metadata": {},
   "source": [
    "It is okay, however, if `b` is declared as a constant:"
   ]
  },
  {
   "cell_type": "code",
   "execution_count": null,
   "id": "af65748e",
   "metadata": {
    "editable": true,
    "slideshow": {
     "slide_type": ""
    }
   },
   "outputs": [],
   "source": [
    "%%cpp\n",
    "const int &b=1"
   ]
  },
  {
   "cell_type": "markdown",
   "id": "47214b6f",
   "metadata": {
    "editable": true,
    "slideshow": {
     "slide_type": ""
    }
   },
   "source": [
    "The compiler can safely extend the lifetime of the prvalue as long as `b` is in scope, without concern about modifications or interference with optimizations for temporary objects. Such a constant reference will be useful when passing larger objects around without the extra copy step as in the copy assignment."
   ]
  },
  {
   "cell_type": "markdown",
   "id": "ecde18f4",
   "metadata": {
    "editable": true,
    "slideshow": {
     "slide_type": ""
    }
   },
   "source": [
    "::::{exercise}\n",
    ":label: ex:pre_vs_post\n",
    "\n",
    "Why `++a=1` works but `(a++)=1` fails?\n",
    "\n",
    "::::"
   ]
  },
  {
   "cell_type": "markdown",
   "id": "0859a6bb",
   "metadata": {
    "editable": true,
    "slideshow": {
     "slide_type": ""
    }
   },
   "source": [
    "::::{solution} ex:pre_vs_post\n",
    ":class: dropdown\n",
    "\n",
    "This is because `++a` returns an lvalue reference, but `(a++)` returns an rvalue, namely, the increment of the value of `a`.\n",
    "\n",
    "::::"
   ]
  },
  {
   "cell_type": "code",
   "execution_count": null,
   "id": "bdd1a2f8",
   "metadata": {
    "editable": true,
    "slideshow": {
     "slide_type": ""
    },
    "tags": [
     "skip-execution"
    ]
   },
   "outputs": [],
   "source": [
    "%%ai\n",
    "Explain the value categories of C++ with concrete examples."
   ]
  },
  {
   "cell_type": "markdown",
   "id": "bc75ddd9",
   "metadata": {
    "editable": true,
    "slideshow": {
     "slide_type": ""
    }
   },
   "source": [
    "::::{exercise}\n",
    ":label: ex:uninit\n",
    "\n",
    "Since different variables occupy different memory locations, can we modify [](#code_gcd1) as follows to avoid overwriting the original `a` and `b`?\n",
    "\n",
    "```cpp\n",
    "{\n",
    "    int a=a, b=b;\n",
    "    ...\n",
    "}\n",
    "```\n",
    "\n",
    "Why or why not?\n",
    "\n",
    "::::"
   ]
  },
  {
   "cell_type": "markdown",
   "id": "c9ec92e2",
   "metadata": {
    "deletable": false,
    "editable": true,
    "nbgrader": {
     "cell_type": "markdown",
     "checksum": "acfc4e1a29dd9feefafe9ca9f68ed170",
     "grade": true,
     "grade_id": "uninit",
     "locked": false,
     "points": 0,
     "schema_version": 3,
     "solution": true,
     "task": false
    },
    "slideshow": {
     "slide_type": ""
    }
   },
   "source": [
    "YOUR ANSWER HERE"
   ]
  },
  {
   "cell_type": "markdown",
   "id": "8b93ccf2",
   "metadata": {
    "editable": true,
    "slideshow": {
     "slide_type": ""
    }
   },
   "source": [
    "As a hint, try running the following program to check whether the local variables are actually clones of the global variables:"
   ]
  },
  {
   "cell_type": "code",
   "execution_count": null,
   "id": "92ba85d1",
   "metadata": {
    "editable": true,
    "slideshow": {
     "slide_type": ""
    }
   },
   "outputs": [],
   "source": [
    "%%cpp\n",
    "int a=2*3*4, b=3*4*5;\n",
    "{\n",
    "    int a=a, b=b;\n",
    "    cout << format(\"a={}\\nb={}\\n\", a, b);  // local clone of global a and b?\n",
    "}\n",
    "cout << format(\"a={}\\nb={}\\n\", a, b);  // global a and b not overwritten"
   ]
  },
  {
   "cell_type": "markdown",
   "id": "ab2907de",
   "metadata": {
    "editable": true,
    "slideshow": {
     "slide_type": ""
    }
   },
   "source": [
    "## String"
   ]
  },
  {
   "cell_type": "markdown",
   "id": "bcc16c76",
   "metadata": {
    "editable": true,
    "slideshow": {
     "slide_type": ""
    }
   },
   "source": [
    "How to represent a piece of text, which consists of a sequence of characters?"
   ]
  },
  {
   "cell_type": "markdown",
   "id": "53b42262",
   "metadata": {
    "editable": true,
    "slideshow": {
     "slide_type": ""
    }
   },
   "source": [
    "A string literal is delimited by double quotes:"
   ]
  },
  {
   "cell_type": "code",
   "execution_count": null,
   "id": "5cf17ea3",
   "metadata": {
    "editable": true,
    "slideshow": {
     "slide_type": ""
    }
   },
   "outputs": [],
   "source": [
    "%%cpp\n",
    "\"15\""
   ]
  },
  {
   "cell_type": "markdown",
   "id": "69393234",
   "metadata": {
    "editable": true,
    "slideshow": {
     "slide_type": ""
    }
   },
   "source": [
    "Note that the data type is not `string` but `const char[3]`: a constant array of 3 `char` values. Such an array of characters is referred to as a *C string*, even though there isn't actually a distinct `cstring` data type in C."
   ]
  },
  {
   "cell_type": "markdown",
   "id": "4948ca84",
   "metadata": {
    "editable": true,
    "slideshow": {
     "slide_type": ""
    }
   },
   "source": [
    "Why are there 3 characters instead of 2? It’s almost as if there’s a hidden element at play. We can inspect the elements of the array using a [member access operator like `[]`](https://en.cppreference.com/w/cpp/language/operator_member_access.html), but what secrets might it unveil?"
   ]
  },
  {
   "cell_type": "code",
   "execution_count": null,
   "id": "feb6ad1c",
   "metadata": {
    "editable": true,
    "slideshow": {
     "slide_type": ""
    }
   },
   "outputs": [],
   "source": [
    "%%cpp\n",
    "\"15\"[0] // [0] picks out the first character at index 0"
   ]
  },
  {
   "cell_type": "code",
   "execution_count": null,
   "id": "d1f0f60b",
   "metadata": {
    "editable": true,
    "slideshow": {
     "slide_type": ""
    }
   },
   "outputs": [],
   "source": [
    "%%cpp\n",
    "\"15\"[1] // the second character"
   ]
  },
  {
   "cell_type": "markdown",
   "id": "57999e81",
   "metadata": {
    "editable": true,
    "slideshow": {
     "slide_type": ""
    }
   },
   "source": [
    "Lo and behold 🪄:"
   ]
  },
  {
   "cell_type": "code",
   "execution_count": null,
   "id": "9fda5fe1",
   "metadata": {
    "editable": true,
    "slideshow": {
     "slide_type": ""
    }
   },
   "outputs": [],
   "source": [
    "%%cpp\n",
    "\"15\"[2] // the third character"
   ]
  },
  {
   "cell_type": "markdown",
   "id": "c3286b28",
   "metadata": {
    "editable": true,
    "slideshow": {
     "slide_type": ""
    }
   },
   "source": [
    "The last character is the *null character*, which can also be entered as `'\\0'`."
   ]
  },
  {
   "cell_type": "code",
   "execution_count": null,
   "id": "e0690502",
   "metadata": {
    "editable": true,
    "slideshow": {
     "slide_type": ""
    }
   },
   "outputs": [],
   "source": [
    "%%cpp\n",
    "'\\0'"
   ]
  },
  {
   "cell_type": "markdown",
   "id": "a0d834b3",
   "metadata": {
    "editable": true,
    "slideshow": {
     "slide_type": ""
    }
   },
   "source": [
    "C strings are *null-terminated* to ensure they are [(uniquely) decodable](https://en.m.wikipedia.org/wiki/Variable-length_code#Uniquely_decodable_codes). In other words, the null character signals the end of a string without needing to keep track of its length. What a clever mechanism!"
   ]
  },
  {
   "cell_type": "markdown",
   "id": "fe264935",
   "metadata": {
    "editable": true,
    "slideshow": {
     "slide_type": ""
    }
   },
   "source": [
    "Can you print a string containing `\\0` in the middle?"
   ]
  },
  {
   "cell_type": "code",
   "execution_count": null,
   "id": "e61e0e20",
   "metadata": {
    "editable": true,
    "slideshow": {
     "slide_type": ""
    }
   },
   "outputs": [],
   "source": [
    "%%cpp\n",
    "cout << \"321\\0 123\";"
   ]
  },
  {
   "cell_type": "code",
   "execution_count": null,
   "id": "b7cf18a8",
   "metadata": {
    "editable": true,
    "slideshow": {
     "slide_type": ""
    }
   },
   "outputs": [],
   "source": [
    "%%cpp\n",
    "cout << \"321\\0123\";"
   ]
  },
  {
   "cell_type": "markdown",
   "id": "c60984d0",
   "metadata": {
    "editable": true,
    "slideshow": {
     "slide_type": ""
    }
   },
   "source": [
    "::::{exercise}\n",
    ":label:ex:0_in_middle\n",
    "\n",
    "Explain what gets printed below. \n",
    "\n",
    "::::"
   ]
  },
  {
   "cell_type": "markdown",
   "id": "9994939d",
   "metadata": {
    "deletable": false,
    "editable": true,
    "nbgrader": {
     "cell_type": "markdown",
     "checksum": "7afa6105625a4622e3253f0e5d2a433d",
     "grade": true,
     "grade_id": "0_in_middle",
     "locked": false,
     "points": 0,
     "schema_version": 3,
     "solution": true,
     "task": false
    },
    "slideshow": {
     "slide_type": ""
    }
   },
   "source": [
    "YOUR ANSWER HERE"
   ]
  },
  {
   "cell_type": "markdown",
   "id": "53eef5da",
   "metadata": {
    "editable": true,
    "slideshow": {
     "slide_type": ""
    }
   },
   "source": [
    "::::{exercise}\n",
    ":label: ex:index_OOB\n",
    "\n",
    "Why does the following code even run in C++?\n",
    "\n",
    ":::{hint}\n",
    "\n",
    "Try running the code in python.\n",
    "\n",
    ":::\n",
    "\n",
    "::::"
   ]
  },
  {
   "cell_type": "code",
   "execution_count": null,
   "id": "e953675e",
   "metadata": {
    "editable": true,
    "slideshow": {
     "slide_type": ""
    }
   },
   "outputs": [],
   "source": [
    "%%cpp\n",
    "\"15\"[3]"
   ]
  },
  {
   "cell_type": "markdown",
   "id": "68259156",
   "metadata": {
    "deletable": false,
    "editable": true,
    "nbgrader": {
     "cell_type": "markdown",
     "checksum": "4821706401d108522092ec94d8b9476c",
     "grade": true,
     "grade_id": "index_00B",
     "locked": false,
     "points": 0,
     "schema_version": 3,
     "solution": true,
     "task": false
    },
    "slideshow": {
     "slide_type": ""
    }
   },
   "source": [
    "YOUR ANSWER HERE"
   ]
  },
  {
   "cell_type": "markdown",
   "id": "61e01cb6",
   "metadata": {
    "editable": true,
    "slideshow": {
     "slide_type": ""
    }
   },
   "source": [
    "The length of a C string can be returned using [`std::strlen`](https://en.cppreference.com/w/cpp/string/byte/strlen.html) from [`<cstring>`](https://en.cppreference.com/w/cpp/header/cstring.html):"
   ]
  },
  {
   "cell_type": "code",
   "execution_count": null,
   "id": "f3516e3a",
   "metadata": {
    "editable": true,
    "slideshow": {
     "slide_type": ""
    }
   },
   "outputs": [],
   "source": [
    "%%cpp\n",
    "strlen(\"15\")"
   ]
  },
  {
   "cell_type": "markdown",
   "id": "e912115c",
   "metadata": {
    "editable": true,
    "slideshow": {
     "slide_type": ""
    }
   },
   "source": [
    "Note that the return type is [`std::size_t`](https://en.cppreference.com/w/cpp/types/size_t.html), which is also defined in other header files such as [`<cstddef>`](https://en.cppreference.com/w/cpp/header/cstddef.html). Failure to understand the implication could lead to logical error like the following:"
   ]
  },
  {
   "cell_type": "code",
   "execution_count": null,
   "id": "de4a3cf7",
   "metadata": {
    "editable": true,
    "slideshow": {
     "slide_type": ""
    }
   },
   "outputs": [],
   "source": [
    "%%cpp\n",
    "strlen(\"Ava\") - strlen(\"Betty\") > 0"
   ]
  },
  {
   "cell_type": "code",
   "execution_count": null,
   "id": "9eace245",
   "metadata": {
    "editable": true,
    "slideshow": {
     "slide_type": ""
    },
    "tags": [
     "skip-execution"
    ]
   },
   "outputs": [],
   "source": [
    "%%ai\n",
    "In C++, should `strlen(\"Ava\") - strlen(\"Betty\") > 0` return false since \n",
    "\"Ava\" is shorter than \"Betty\"?"
   ]
  },
  {
   "cell_type": "markdown",
   "id": "e66c2d9c",
   "metadata": {
    "editable": true,
    "slideshow": {
     "slide_type": ""
    }
   },
   "source": [
    "::::{exercise}\n",
    ":label: ex:unsigned\n",
    "\n",
    "What is the maximum possible length for C string?\n",
    "\n",
    "::::"
   ]
  },
  {
   "cell_type": "markdown",
   "id": "dfd68f49",
   "metadata": {
    "deletable": false,
    "editable": true,
    "nbgrader": {
     "cell_type": "markdown",
     "checksum": "35392d61e1d4fd69d50adf9fbc845d5a",
     "grade": true,
     "grade_id": "unsigned",
     "locked": false,
     "points": 0,
     "schema_version": 3,
     "solution": true,
     "task": false
    },
    "slideshow": {
     "slide_type": ""
    }
   },
   "source": [
    "YOUR ANSWER HERE"
   ]
  },
  {
   "cell_type": "markdown",
   "id": "4ec33d77",
   "metadata": {
    "editable": true,
    "slideshow": {
     "slide_type": ""
    }
   },
   "source": [
    "::::{exercise}\n",
    ":label: ex:max_length\n",
    "\n",
    "What is the maximum possible length for C string?\n",
    "\n",
    "::::"
   ]
  },
  {
   "cell_type": "markdown",
   "id": "971e8d81",
   "metadata": {
    "deletable": false,
    "editable": true,
    "nbgrader": {
     "cell_type": "markdown",
     "checksum": "3198dea980db463d50208bbdccc2d1f8",
     "grade": true,
     "grade_id": "max_length",
     "locked": false,
     "points": 0,
     "schema_version": 3,
     "solution": true,
     "task": false
    },
    "slideshow": {
     "slide_type": ""
    }
   },
   "source": [
    "YOUR ANSWER HERE"
   ]
  },
  {
   "cell_type": "code",
   "execution_count": null,
   "id": "3075c869",
   "metadata": {
    "editable": true,
    "slideshow": {
     "slide_type": ""
    },
    "tags": [
     "skip-execution"
    ]
   },
   "outputs": [],
   "source": [
    "%%ai\n",
    "Since the length of a C string is recorded in its type, why do we need to \n",
    "null-terminate it? Isn't it a waste of memory to store the null character?"
   ]
  },
  {
   "cell_type": "markdown",
   "id": "0ca75c23",
   "metadata": {
    "editable": true,
    "slideshow": {
     "slide_type": ""
    }
   },
   "source": [
    "Another frustrating gotcha is that the length of a string is **not** the same as the number of characters or symbols in the string! Consider the length of [\"思\"](https://translate.google.com/?sl=yue&tl=en&text=%E6%80%9D&op=translate):"
   ]
  },
  {
   "cell_type": "code",
   "execution_count": null,
   "id": "e0b49896",
   "metadata": {
    "editable": true,
    "slideshow": {
     "slide_type": ""
    }
   },
   "outputs": [],
   "source": [
    "%%cpp\n",
    "strlen(\"思\")"
   ]
  },
  {
   "cell_type": "markdown",
   "id": "8b44934a",
   "metadata": {
    "editable": true,
    "slideshow": {
     "slide_type": ""
    }
   },
   "source": [
    "Why is the length 3 instead of 1?"
   ]
  },
  {
   "cell_type": "code",
   "execution_count": null,
   "id": "31623c05",
   "metadata": {
    "editable": true,
    "slideshow": {
     "slide_type": ""
    }
   },
   "outputs": [],
   "source": [
    "%%cpp\n",
    "\"思\"[0]"
   ]
  },
  {
   "cell_type": "code",
   "execution_count": null,
   "id": "19182d48",
   "metadata": {
    "editable": true,
    "slideshow": {
     "slide_type": ""
    }
   },
   "outputs": [],
   "source": [
    "%%cpp\n",
    "\"思\"[1]"
   ]
  },
  {
   "cell_type": "code",
   "execution_count": null,
   "id": "5d270138",
   "metadata": {
    "editable": true,
    "slideshow": {
     "slide_type": ""
    }
   },
   "outputs": [],
   "source": [
    "%%cpp\n",
    "\"思\"[2]"
   ]
  },
  {
   "cell_type": "markdown",
   "id": "e562f999",
   "metadata": {
    "editable": true,
    "slideshow": {
     "slide_type": ""
    }
   },
   "source": [
    "Finally:"
   ]
  },
  {
   "cell_type": "code",
   "execution_count": null,
   "id": "bf9ecdc0",
   "metadata": {
    "editable": true,
    "slideshow": {
     "slide_type": ""
    }
   },
   "outputs": [],
   "source": [
    "%%cpp\n",
    "\"思\"[3]"
   ]
  },
  {
   "cell_type": "markdown",
   "id": "4cd02435",
   "metadata": {
    "editable": true,
    "slideshow": {
     "slide_type": ""
    }
   },
   "source": [
    "The three characters before the null terminator are actually the three bytes that correspond to the [UTF-8 encoding of \"思\"](https://www.compart.com/en/unicode/U+601D). UTF-8 is a [variable-length encoding](https://en.wikipedia.org/wiki/Variable-length_code) designed to represent [Unicode characters](https://en.wikipedia.org/wiki/Unicode), including those that go beyond the ASCII character set."
   ]
  },
  {
   "cell_type": "markdown",
   "id": "9fe601f9",
   "metadata": {
    "editable": true,
    "slideshow": {
     "slide_type": ""
    }
   },
   "source": [
    "For example, the emoticon below requires more bytes to encode:"
   ]
  },
  {
   "cell_type": "code",
   "execution_count": null,
   "id": "79564eba",
   "metadata": {
    "editable": true,
    "slideshow": {
     "slide_type": ""
    }
   },
   "outputs": [],
   "source": [
    "%%cpp\n",
    "\"😎\""
   ]
  },
  {
   "cell_type": "markdown",
   "id": "4c3bfdf1",
   "metadata": {
    "editable": true,
    "slideshow": {
     "slide_type": ""
    }
   },
   "source": [
    "A unicode symbol can also be encoded differently using [UTF-16](https://en.wikipedia.org/wiki/UTF-16):"
   ]
  },
  {
   "cell_type": "code",
   "execution_count": null,
   "id": "3106b369",
   "metadata": {
    "editable": true,
    "slideshow": {
     "slide_type": ""
    }
   },
   "outputs": [],
   "source": [
    "%%cpp\n",
    "u\"思\""
   ]
  },
  {
   "cell_type": "code",
   "execution_count": null,
   "id": "4e0d058e",
   "metadata": {
    "editable": true,
    "slideshow": {
     "slide_type": ""
    }
   },
   "outputs": [],
   "source": [
    "%%cpp\n",
    "u\"思\"[0]"
   ]
  },
  {
   "cell_type": "code",
   "execution_count": null,
   "id": "6538e3f4",
   "metadata": {
    "editable": true,
    "slideshow": {
     "slide_type": ""
    }
   },
   "outputs": [],
   "source": [
    "%%cpp\n",
    "u\"思\"[1]"
   ]
  },
  {
   "cell_type": "code",
   "execution_count": null,
   "id": "96e83dcf",
   "metadata": {
    "editable": true,
    "slideshow": {
     "slide_type": ""
    }
   },
   "outputs": [],
   "source": [
    "%%cpp\n",
    "\"\\u601D\" // escape code to enter a symbol using UTF-16 code"
   ]
  },
  {
   "cell_type": "code",
   "execution_count": null,
   "id": "0dd3e902",
   "metadata": {
    "editable": true,
    "slideshow": {
     "slide_type": ""
    },
    "tags": [
     "skip-execution"
    ]
   },
   "outputs": [],
   "source": [
    "%%ai\n",
    "In C++, how to return the number of symbols in a C string, given that the\n",
    "symbols may be encoded using a variable-length code."
   ]
  },
  {
   "cell_type": "markdown",
   "id": "2da52b7b",
   "metadata": {
    "editable": true,
    "slideshow": {
     "slide_type": ""
    }
   },
   "source": [
    "There are [other types of string literals](https://en.cppreference.com/w/cpp/language/string_literal.html) in C++, but their support varies. For example, `strlen(u\"1\")` or `cout << u8\"1\";` will fail because these functions and operators do not handle wide or UTF-8 encoded strings directly. The exception is raw string literals, which ensure [WYSIWYG](https://en.wikipedia.org/wiki/WYSIWYG) (to some extent):"
   ]
  },
  {
   "cell_type": "code",
   "execution_count": null,
   "id": "3808f34e",
   "metadata": {
    "editable": true,
    "slideshow": {
     "slide_type": ""
    }
   },
   "outputs": [],
   "source": [
    "%%cpp\n",
    "cout << R\"(\n",
    "  ____  ____   ____   _____  _   ___  \n",
    " / ___|/ ___| |___ \\ |___ / / | / _ \\\n",
    "| |    \\___ \\   __) |  |_ \\ | || | | |\n",
    "| |___  ___) | / __/  ___) || || |_| |\n",
    " \\____||____/ |_____||____/ |_| \\___/ 😎\n",
    ")\";"
   ]
  },
  {
   "cell_type": "markdown",
   "id": "277ec11e",
   "metadata": {
    "editable": true,
    "slideshow": {
     "slide_type": ""
    }
   },
   "source": [
    "What does it mean to be a constant array?"
   ]
  },
  {
   "cell_type": "markdown",
   "id": "1e58a372",
   "metadata": {},
   "source": [
    "Consider the following code:"
   ]
  },
  {
   "cell_type": "code",
   "execution_count": null,
   "id": "2bf253a2",
   "metadata": {
    "editable": true,
    "slideshow": {
     "slide_type": ""
    }
   },
   "outputs": [],
   "source": [
    "%%cpp\n",
    "auto s=\"15\";\n",
    "s = \"35\";       // works\n",
    "// s[0] = '1';  // fails"
   ]
  },
  {
   "cell_type": "markdown",
   "id": "facec217",
   "metadata": {
    "editable": true,
    "slideshow": {
     "slide_type": ""
    }
   },
   "source": [
    "::::{caution} Why is it okay to change all the characters as in `s=\"35\";` but not the first as in `s[0]=1;`?\n",
    ":class: dropdown\n",
    "\n",
    "`s` is indeed not a constant. It is a pointer that points to characters in read-only memory. \n",
    "\n",
    "- `s=\"35\"` is allowed since it changes the value of the pointer to point to a new array of characters.\n",
    "- `s[0]='3'` is not allowed since it attempts to rewrite a character in read-only memory.\n",
    "\n",
    "::::"
   ]
  },
  {
   "cell_type": "markdown",
   "id": "5bd816cf",
   "metadata": {
    "editable": true,
    "slideshow": {
     "slide_type": ""
    }
   },
   "source": [
    "::::{exercise} \n",
    ":label: ex:auto_ref\n",
    "\n",
    "Why the following code works even though `auto &b=1;` failed? Can I further assign `s` to another string as in `s=\"35\";`?\n",
    "\n",
    "::::"
   ]
  },
  {
   "cell_type": "code",
   "execution_count": null,
   "id": "2558ef69",
   "metadata": {
    "editable": true,
    "slideshow": {
     "slide_type": ""
    }
   },
   "outputs": [],
   "source": [
    "%%cpp\n",
    "auto &s=\"15\";"
   ]
  },
  {
   "cell_type": "markdown",
   "id": "ec2877e0",
   "metadata": {
    "deletable": false,
    "editable": true,
    "nbgrader": {
     "cell_type": "markdown",
     "checksum": "b346b5e770fdb35fdc49a52dcdf5aebd",
     "grade": true,
     "grade_id": "auto-ref",
     "locked": false,
     "points": 0,
     "schema_version": 3,
     "solution": true,
     "task": false
    },
    "slideshow": {
     "slide_type": ""
    }
   },
   "source": [
    "YOUR ANSWER HERE"
   ]
  }
 ],
 "metadata": {
  "jupytext": {
   "default_lexer": "ipython3"
  },
  "kernelspec": {
   "display_name": "Python 3 (ipykernel)",
   "language": "python",
   "name": "python3"
  }
 },
 "nbformat": 4,
 "nbformat_minor": 5
}
