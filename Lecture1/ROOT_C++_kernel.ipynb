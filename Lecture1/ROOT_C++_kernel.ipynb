{
 "cells": [
  {
   "cell_type": "markdown",
   "id": "d6c85e45",
   "metadata": {},
   "source": [
    "Using ROOT C++ kernel, you can write C++ code directly without importing root or using a cell magic like `%%cpp`:"
   ]
  },
  {
   "cell_type": "code",
   "execution_count": null,
   "id": "c51f4c1e",
   "metadata": {},
   "outputs": [],
   "source": [
    "cout << string(\"CS2310\") +\n",
    "     \" Computer Programming\\n\";"
   ]
  },
  {
   "cell_type": "markdown",
   "id": "b81fd209",
   "metadata": {},
   "source": [
    "However, you also have no access to Python libraries such as the GenAI tools from `jupyter_ai`."
   ]
  }
 ],
 "metadata": {
  "kernelspec": {
   "display_name": "ROOT C++",
   "language": "c++",
   "name": "root"
  }
 },
 "nbformat": 4,
 "nbformat_minor": 5
}
