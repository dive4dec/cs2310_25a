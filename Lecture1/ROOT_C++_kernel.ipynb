{
 "cells": [
  {
   "cell_type": "markdown",
   "id": "90ee5a0b",
   "metadata": {},
   "source": [
    "Using ROOT C++ kernel, you can write C++ code directly without importing root or using a cell magic like `%%cpp`:"
   ]
  },
  {
   "cell_type": "code",
   "execution_count": null,
   "id": "73fd3ebd",
   "metadata": {},
   "outputs": [],
   "source": [
    "cout << string(\"CS2310\") +\n",
    "     \" Computer Programming\\n\";"
   ]
  },
  {
   "cell_type": "markdown",
   "id": "44ebc891",
   "metadata": {},
   "source": [
    "However, you also have no access to Python libraries such as the GenAI tools from `jupyter_ai`."
   ]
  }
 ],
 "metadata": {
  "kernelspec": {
   "display_name": "ROOT C++",
   "language": "c++",
   "name": "root"
  }
 },
 "nbformat": 4,
 "nbformat_minor": 5
}
