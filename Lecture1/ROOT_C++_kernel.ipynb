{
 "cells": [
  {
   "cell_type": "markdown",
   "id": "7002acce",
   "metadata": {},
   "source": [
    "Using ROOT C++ kernel, you can write C++ code directly without importing root or using a cell magic like `%%cpp`:"
   ]
  },
  {
   "cell_type": "code",
   "execution_count": null,
   "id": "46eb5c08",
   "metadata": {},
   "outputs": [],
   "source": [
    "cout << string(\"CS2310\") +\n",
    "     \" Computer Programming\\n\";"
   ]
  },
  {
   "cell_type": "markdown",
   "id": "7e96e3ff",
   "metadata": {},
   "source": [
    "However, you also have no access to Python libraries such as the GenAI tools from `jupyter_ai`."
   ]
  }
 ],
 "metadata": {
  "kernelspec": {
   "display_name": "ROOT C++",
   "language": "c++",
   "name": "root"
  }
 },
 "nbformat": 4,
 "nbformat_minor": 5
}
