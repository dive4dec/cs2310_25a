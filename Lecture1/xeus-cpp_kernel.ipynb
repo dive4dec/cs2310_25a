{
 "cells": [
  {
   "cell_type": "markdown",
   "id": "a6355eff",
   "metadata": {
    "editable": true,
    "slideshow": {
     "slide_type": ""
    }
   },
   "source": [
    "For `xeus-cpp` kernel, we cannot skip the preprocessors:"
   ]
  },
  {
   "cell_type": "code",
   "execution_count": null,
   "id": "c7ca207f",
   "metadata": {},
   "outputs": [],
   "source": [
    "#include <iostream>\n",
    "#include <string>"
   ]
  },
  {
   "cell_type": "markdown",
   "id": "f786dff8",
   "metadata": {},
   "source": [
    "We cannot omit the namespace such as `std`, but `cin` works."
   ]
  },
  {
   "cell_type": "code",
   "execution_count": null,
   "id": "59a139cd",
   "metadata": {},
   "outputs": [],
   "source": [
    "{\n",
    "    bool ans;\n",
    "    std::cout << \"You’re taking CS2310 this semester? [0:false, 1:true]\\n\";\n",
    "    std::cin >> ans;\n",
    "    std::cout << (ans \n",
    "        ? \"200 OK: Welcome aboard, brave coder! 🚀\\n\" \n",
    "        : \"302 Found: Redirecting you to a more suitable course... 😅\\n\");\n",
    "}"
   ]
  },
  {
   "cell_type": "markdown",
   "id": "4dd5b330",
   "metadata": {},
   "source": [
    "A variable cannot be declared twice in the same scope. For instance, executing the following cell more than once leads to an error."
   ]
  },
  {
   "cell_type": "code",
   "execution_count": null,
   "id": "3b40ee33",
   "metadata": {},
   "outputs": [],
   "source": [
    "bool ans;"
   ]
  },
  {
   "cell_type": "markdown",
   "id": "7af6f187",
   "metadata": {
    "editable": true,
    "slideshow": {
     "slide_type": ""
    }
   },
   "source": [
    "Try the language server protocol integration by [`jupyterlab-lsp`](https://github.com/jupyter-lsp/jupyterlab-lsp), which uses the language server [`clangd` configured as follows](https://clangd.llvm.org/config):"
   ]
  },
  {
   "cell_type": "code",
   "execution_count": null,
   "id": "18546b9f",
   "metadata": {
    "editable": true,
    "slideshow": {
     "slide_type": ""
    }
   },
   "outputs": [],
   "source": [
    "!more ~/.config/clangd/config.yaml"
   ]
  }
 ],
 "metadata": {
  "kernelspec": {
   "display_name": "C++20",
   "language": "cpp",
   "name": "xcpp20"
  }
 },
 "nbformat": 4,
 "nbformat_minor": 5
}
