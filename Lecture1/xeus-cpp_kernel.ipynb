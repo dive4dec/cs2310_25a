{
 "cells": [
  {
   "cell_type": "markdown",
   "id": "98c31381",
   "metadata": {
    "editable": true,
    "slideshow": {
     "slide_type": ""
    }
   },
   "source": [
    "For `xeus-cpp` kernel, we cannot skip the preprocessors:"
   ]
  },
  {
   "cell_type": "code",
   "execution_count": null,
   "id": "15f3f9dc",
   "metadata": {},
   "outputs": [],
   "source": [
    "#include <iostream>\n",
    "#include <string>"
   ]
  },
  {
   "cell_type": "markdown",
   "id": "8940fa9b",
   "metadata": {},
   "source": [
    "We cannot omit the namespace such as `std`, but `cin` works."
   ]
  },
  {
   "cell_type": "code",
   "execution_count": null,
   "id": "ca7703f3",
   "metadata": {},
   "outputs": [],
   "source": [
    "{\n",
    "    bool ans;\n",
    "    std::cout << \"You’re taking CS2310 this semester? [0:false, 1:true]\\n\";\n",
    "    std::cin >> ans;\n",
    "    std::cout << (ans \n",
    "        ? \"200 OK: Welcome aboard, brave coder! 🚀\\n\" \n",
    "        : \"302 Found: Redirecting you to a more suitable course... 😅\\n\");\n",
    "}"
   ]
  },
  {
   "cell_type": "markdown",
   "id": "f04eaa55",
   "metadata": {},
   "source": [
    "A variable cannot be declared twice in the same scope. For instance, executing the following cell more than once leads to an error."
   ]
  },
  {
   "cell_type": "code",
   "execution_count": null,
   "id": "9eaa3b21",
   "metadata": {},
   "outputs": [],
   "source": [
    "bool ans;"
   ]
  },
  {
   "cell_type": "markdown",
   "id": "c52865f3",
   "metadata": {
    "editable": true,
    "slideshow": {
     "slide_type": ""
    }
   },
   "source": [
    "Try the language server protocol integration by [`jupyterlab-lsp`](https://github.com/jupyter-lsp/jupyterlab-lsp), which uses the language server [`clangd` configured as follows](https://clangd.llvm.org/config):"
   ]
  },
  {
   "cell_type": "code",
   "execution_count": null,
   "id": "b23d2bf0",
   "metadata": {
    "editable": true,
    "slideshow": {
     "slide_type": ""
    }
   },
   "outputs": [],
   "source": [
    "!more ~/.config/clangd/config.yaml"
   ]
  }
 ],
 "metadata": {
  "kernelspec": {
   "display_name": "C++20",
   "language": "cpp",
   "name": "xcpp20"
  }
 },
 "nbformat": 4,
 "nbformat_minor": 5
}
