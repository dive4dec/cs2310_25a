{
 "cells": [
  {
   "cell_type": "markdown",
   "id": "c602205f",
   "metadata": {
    "editable": true,
    "slideshow": {
     "slide_type": ""
    }
   },
   "source": [
    "For `xeus-cpp` kernel, we cannot skip the preprocessors:"
   ]
  },
  {
   "cell_type": "code",
   "execution_count": null,
   "id": "4a8ecc3a",
   "metadata": {},
   "outputs": [],
   "source": [
    "#include <iostream>\n",
    "#include <string>"
   ]
  },
  {
   "cell_type": "markdown",
   "id": "47b3b665",
   "metadata": {},
   "source": [
    "We cannot omit the namespace such as `std`:"
   ]
  },
  {
   "cell_type": "code",
   "execution_count": null,
   "id": "b7600927",
   "metadata": {},
   "outputs": [],
   "source": [
    "std::cout << std::string(\"CS2310\") +\n",
    "     \" Computer Programming\\n\";"
   ]
  },
  {
   "cell_type": "markdown",
   "id": "524433b3",
   "metadata": {
    "editable": true,
    "slideshow": {
     "slide_type": ""
    }
   },
   "source": [
    "Don't forget to try the language server protocol integration by [`jupyterlab-lsp`](https://github.com/jupyter-lsp/jupyterlab-lsp), which uses the language server [`clangd` configured as follows](https://clangd.llvm.org/config):"
   ]
  },
  {
   "cell_type": "code",
   "execution_count": null,
   "id": "8c15201c",
   "metadata": {
    "editable": true,
    "slideshow": {
     "slide_type": ""
    }
   },
   "outputs": [],
   "source": [
    "!more ~/.config/clangd/config.yaml"
   ]
  }
 ],
 "metadata": {
  "kernelspec": {
   "display_name": "C++20",
   "language": "cpp",
   "name": "xcpp20"
  }
 },
 "nbformat": 4,
 "nbformat_minor": 5
}
