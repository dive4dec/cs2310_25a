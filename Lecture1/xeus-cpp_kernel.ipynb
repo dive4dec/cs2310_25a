{
 "cells": [
  {
   "cell_type": "markdown",
   "id": "21bdb455",
   "metadata": {
    "editable": true,
    "slideshow": {
     "slide_type": ""
    }
   },
   "source": [
    "For `xeus-cpp` kernel, we cannot skip the preprocessors nor the namespace such as `std`:"
   ]
  },
  {
   "cell_type": "code",
   "execution_count": null,
   "id": "f1ad4063",
   "metadata": {},
   "outputs": [],
   "source": [
    "#include <iostream>\n",
    "#include <string>\n",
    "#include <format>\n",
    "\n",
    "int main() {\n",
    "    bool ans;\n",
    "    std::cout << \"You’re taking CS2310 this semester? [0:false, 1:true]\\n\";\n",
    "    std::cin >> ans;\n",
    "    std::cout << std::format(\"You entered: {}\\n\", ans);\n",
    "    std::cout << (ans \n",
    "        ? \"200 OK: Welcome aboard, brave coder! 🚀\\n\" \n",
    "        : \"302 Found: Redirecting you to a more suitable course... 😅\\n\");\n",
    "    return 0;\n",
    "}"
   ]
  },
  {
   "cell_type": "markdown",
   "id": "e730b9ad",
   "metadata": {},
   "source": [
    "Unlike `ROOT C++`, but `cin` works:"
   ]
  },
  {
   "cell_type": "code",
   "execution_count": null,
   "id": "82c35064",
   "metadata": {},
   "outputs": [],
   "source": [
    "main();"
   ]
  },
  {
   "cell_type": "markdown",
   "id": "5739a924",
   "metadata": {
    "editable": true,
    "slideshow": {
     "slide_type": ""
    }
   },
   "source": [
    "`xeus-cpp` also integrates better with the language server protocol [`jupyterlab-lsp`](https://github.com/jupyter-lsp/jupyterlab-lsp). E.g., try the [auto-completion and continuous Hinting](https://github.com/jupyter-lsp/jupyterlab-lsp?tab=readme-ov-file#automatic-completion-and-continuous-hinting) by \n",
    "- placing your cursor to the end of `... std::format` in the code, and\n",
    "- pressing <kbd>tab</kbd> to see the hint on the function.\n",
    "\n",
    "The feature uses the language server [`clangd` configured as follows](https://clangd.llvm.org/config):"
   ]
  },
  {
   "cell_type": "code",
   "execution_count": null,
   "id": "0f53516a",
   "metadata": {
    "editable": true,
    "slideshow": {
     "slide_type": ""
    }
   },
   "outputs": [],
   "source": [
    "!more ~/.config/clangd/config.yaml"
   ]
  }
 ],
 "metadata": {
  "kernelspec": {
   "display_name": "C++20",
   "language": "cpp",
   "name": "xcpp20"
  }
 },
 "nbformat": 4,
 "nbformat_minor": 5
}
