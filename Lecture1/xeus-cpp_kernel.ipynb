{
 "cells": [
  {
   "cell_type": "markdown",
   "id": "82ec6da1",
   "metadata": {
    "editable": true,
    "slideshow": {
     "slide_type": ""
    }
   },
   "source": [
    "For `xeus-cpp` kernel, we cannot skip the preprocessors:"
   ]
  },
  {
   "cell_type": "code",
   "execution_count": null,
   "id": "ca147173",
   "metadata": {},
   "outputs": [],
   "source": [
    "#include <iostream>\n",
    "#include <string>"
   ]
  },
  {
   "cell_type": "markdown",
   "id": "150b693e",
   "metadata": {},
   "source": [
    "We cannot omit the namespace such as `std`:"
   ]
  },
  {
   "cell_type": "code",
   "execution_count": null,
   "id": "4ed6dc5e",
   "metadata": {},
   "outputs": [],
   "source": [
    "std::cout << std::string(\"CS2310\") +\n",
    "     \" Computer Programming\\n\";"
   ]
  },
  {
   "cell_type": "markdown",
   "id": "aa4d3958",
   "metadata": {
    "editable": true,
    "slideshow": {
     "slide_type": ""
    }
   },
   "source": [
    "Don't forget to try the language server protocol integration by [`jupyterlab-lsp`](https://github.com/jupyter-lsp/jupyterlab-lsp), which uses the language server [`clangd` configured as follows](https://clangd.llvm.org/config):"
   ]
  },
  {
   "cell_type": "code",
   "execution_count": null,
   "id": "4a75d4d7",
   "metadata": {
    "editable": true,
    "slideshow": {
     "slide_type": ""
    }
   },
   "outputs": [],
   "source": [
    "!more ~/.config/clangd/config.yaml"
   ]
  }
 ],
 "metadata": {
  "kernelspec": {
   "display_name": "C++20",
   "language": "cpp",
   "name": "xcpp20"
  }
 },
 "nbformat": 4,
 "nbformat_minor": 5
}
