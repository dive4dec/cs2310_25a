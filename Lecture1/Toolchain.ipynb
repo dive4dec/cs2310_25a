{
 "cells": [
  {
   "cell_type": "markdown",
   "id": "94c3f020",
   "metadata": {
    "editable": true,
    "slideshow": {
     "slide_type": ""
    }
   },
   "source": [
    "---\n",
    "title: Programming Toolchain\n",
    "skip_execution: false\n",
    "---"
   ]
  },
  {
   "cell_type": "markdown",
   "id": "19002b42",
   "metadata": {
    "editable": true,
    "slideshow": {
     "slide_type": ""
    }
   },
   "source": [
    "## Initialization"
   ]
  },
  {
   "cell_type": "markdown",
   "id": "59186a0d",
   "metadata": {},
   "source": [
    "For the notebook to run properly, you will need run the following code to initialize every time the kernel is started/restarted."
   ]
  },
  {
   "cell_type": "markdown",
   "id": "e9e796d3",
   "metadata": {},
   "source": [
    "1. To import the necessary libraries such as `ROOT` for running the C++ interpreter:"
   ]
  },
  {
   "cell_type": "code",
   "execution_count": null,
   "id": "c47bf614",
   "metadata": {
    "editable": true,
    "slideshow": {
     "slide_type": ""
    }
   },
   "outputs": [],
   "source": [
    "from __init__ import *"
   ]
  },
  {
   "cell_type": "markdown",
   "id": "cd21cefc",
   "metadata": {
    "editable": true,
    "slideshow": {
     "slide_type": ""
    }
   },
   "source": [
    "2. To use GenAI tools inside the notebook:"
   ]
  },
  {
   "cell_type": "code",
   "execution_count": null,
   "id": "a68ba818",
   "metadata": {
    "editable": true,
    "slideshow": {
     "slide_type": ""
    },
    "tags": [
     "skip-execution"
    ]
   },
   "outputs": [],
   "source": [
    "if not input('Load JupyterAI? [Y/n]').lower()=='n':\n",
    "    %reload_ext jupyter_ai"
   ]
  },
  {
   "cell_type": "markdown",
   "id": "42e0a53b",
   "metadata": {
    "editable": true,
    "slideshow": {
     "slide_type": ""
    }
   },
   "source": [
    "## Motivation"
   ]
  },
  {
   "cell_type": "markdown",
   "id": "8e9c58e9",
   "metadata": {},
   "source": [
    "### What is the course about?"
   ]
  },
  {
   "cell_type": "markdown",
   "id": "23e16929",
   "metadata": {},
   "source": [
    "If you accidentally wandered into this territory, run the following cell to see the full name of the course:[^%%cpp]\n",
    "\n",
    "[^%%cpp]: `%%cpp` is a [cell magic from `ROOT`](https://github.com/root-project/root/blob/8aa112f13174ee8254092c52afb4653bd34e7eab/bindings/jupyroot/python/JupyROOT/kernel/magics/cppmagic.py) for running C++ code."
   ]
  },
  {
   "cell_type": "code",
   "execution_count": null,
   "id": "a56103a3",
   "metadata": {
    "editable": true,
    "slideshow": {
     "slide_type": ""
    }
   },
   "outputs": [],
   "source": [
    "%%cpp\n",
    "cout << string(\"CS2310\") +\n",
    "     \" Computer Programming\\n\";"
   ]
  },
  {
   "cell_type": "markdown",
   "id": "1b902005",
   "metadata": {
    "editable": true,
    "slideshow": {
     "slide_type": ""
    }
   },
   "source": [
    "If you come by mistake, run the following instead, which prints to [standard error stream `cerr`](#https://en.wikipedia.org/wiki/Standard_streams#Standard_error_(stderr)) instead of [standard output stream `cout`](https://en.wikipedia.org/wiki/Standard_streams#Standard_output_(stdout)):"
   ]
  },
  {
   "cell_type": "code",
   "execution_count": null,
   "id": "3dcedd66",
   "metadata": {
    "editable": true,
    "slideshow": {
     "slide_type": ""
    }
   },
   "outputs": [],
   "source": [
    "%%cpp\n",
    "cerr << string(\"CS2310\") +\n",
    "     \" Computer Programming\\n\";"
   ]
  },
  {
   "cell_type": "markdown",
   "id": "fb697185",
   "metadata": {},
   "source": [
    "Let's answer the question:"
   ]
  },
  {
   "cell_type": "code",
   "execution_count": null,
   "id": "0df0ed93",
   "metadata": {},
   "outputs": [],
   "source": [
    "%%cpp\n",
    "bool ans;\n",
    "cout << \"You are taking CS2310 this semester? [true/false]\\n\";\n",
    "cin >> ans;\n",
    "cout << (ans? \"You belong here!\\n\": \"You've come to the wrong place...\\n\");"
   ]
  },
  {
   "cell_type": "markdown",
   "id": "d065f374",
   "metadata": {},
   "source": [
    "Don't worry! The above program should normally get user input with the [standard input stream `cin`](https://en.wikipedia.org/wiki/Standard_streams#Standard_input_(stdin)). For this to happen:\n",
    "\n",
    "1. Start a terminal with `File` → `New` → `Terminal`.\n",
    "2. Run the command\n",
    "   ```bash\n",
    "   root\n",
    "   ```\n",
    "3. Enter the above program line-by-line."
   ]
  },
  {
   "cell_type": "markdown",
   "id": "20bc84cc",
   "metadata": {},
   "source": [
    "[ROOT](https://github.com/root-project/root) is a powerful data analysis framework written in C++ for high-energy physics. It provides the `%%cpp` cell magic to interpret C++ codes interactively in a Jupyter notebook, making it a wonderful tool for learning C++ programming and mix it with Python."
   ]
  },
  {
   "cell_type": "markdown",
   "id": "d4fc1b8e",
   "metadata": {
    "editable": true,
    "slideshow": {
     "slide_type": ""
    }
   },
   "source": [
    "::::{seealso} ROOT\n",
    "\n",
    "There are also C++ kernels such as [ROOT C++](https://github.com/root-project/root) and [xeus-cpp](https://github.com/compiler-research/xeus-cpp) available for you to run C++ programs interactively. They make use of\n",
    "- ROOT's interpreter [cling](https://github.com/root-project/cling);\n",
    "- LLVM's interpreter [Clang-Repl](https://clang.llvm.org/docs/ClangRepl.html); and\n",
    "- the more recent [CppInterOp](https://github.com/compiler-research/CppInterOp) library.\n",
    "\n",
    "See the [Jupyter blog](https://blog.jupyter.org/c-in-jupyter-interpreting-c-in-the-web-c9d93542f20b) for more details.\n",
    "\n",
    "::::"
   ]
  },
  {
   "cell_type": "markdown",
   "id": "0e608775",
   "metadata": {
    "editable": true,
    "slideshow": {
     "slide_type": ""
    }
   },
   "source": [
    "If you are really taking this course, be warned that you are getting yourself into object-oriented programming. E.g., you will learn to define a class like the following:"
   ]
  },
  {
   "cell_type": "code",
   "execution_count": null,
   "id": "885984b8",
   "metadata": {
    "editable": true,
    "slideshow": {
     "slide_type": ""
    }
   },
   "outputs": [],
   "source": [
    "%%cpp\n",
    "#include<string>\n",
    "#include<iostream>\n",
    "\n",
    "/**\n",
    " * @brief A CityUHK course.\n",
    " */\n",
    "class Course {\n",
    "private:\n",
    "    std::string code; ///< The code of the course.\n",
    "    std::optional<std::string> name; ///< The optional name of the course.\n",
    "\n",
    "public:\n",
    "    /**\n",
    "     * @brief Constructs a new Course.\n",
    "     *\n",
    "     * @param code The course code.\n",
    "     * @param name The optional course name (default to nullopt).\n",
    "     */\n",
    "    Course(std::string code, std::optional<std::string> name = std::nullopt)\n",
    "        : code(std::move(code)), name(std::move(name)) { }\n",
    "\n",
    "    /**\n",
    "     * @brief Gets the course code.\n",
    "     *\n",
    "     * @return The course code.\n",
    "     */\n",
    "    inline const std::string& get_code() const {\n",
    "        return code;\n",
    "    }\n",
    "\n",
    "    /**\n",
    "     * @brief Sets the course code if the new code is not empty.\n",
    "     *\n",
    "     * @param new_code The new code to set.\n",
    "     */\n",
    "    inline void set_code(const std::string& new_code) {\n",
    "        if (!new_code.empty()) { code = new_code; }\n",
    "    }\n",
    "\n",
    "    /**\n",
    "     * @brief Gets the course name.\n",
    "     *\n",
    "     * @return The the course name.\n",
    "     */\n",
    "    inline const std::optional<std::string>& get_name() const {\n",
    "        return name;\n",
    "    }\n",
    "\n",
    "    /**\n",
    "     * @brief Sets the course name or removes it if the new name is empty.\n",
    "     *\n",
    "     * @param new_name The new course name to set.\n",
    "     */\n",
    "    inline void set_name(const std::string& new_name) {\n",
    "        if (!new_name.empty()) {\n",
    "            name = new_name;\n",
    "        } else {\n",
    "            name = std::nullopt;\n",
    "        }\n",
    "    }\n",
    "\n",
    "    /**\n",
    "     * @brief Gets the course full name (code bollowed by name).\n",
    "     *\n",
    "     * @return The course full name.\n",
    "     */\n",
    "    std::string get_full_name() const {\n",
    "        return name.has_value() ? code + \" \" + name.value() : code;\n",
    "    }\n",
    "\n",
    "    /**\n",
    "     * @brief Prints a welcome message for the course.\n",
    "     */\n",
    "    void say_welcome() const {\n",
    "        std::cout << format(\"Welcome to {}!\\n\", this->get_full_name());\n",
    "    }\n",
    "};"
   ]
  },
  {
   "cell_type": "markdown",
   "id": "8f340149",
   "metadata": {
    "editable": true,
    "slideshow": {
     "slide_type": ""
    }
   },
   "source": [
    "The hard work for defining a class pays off when you can create and use its objects easily:"
   ]
  },
  {
   "cell_type": "code",
   "execution_count": null,
   "id": "aabc9f83",
   "metadata": {
    "editable": true,
    "slideshow": {
     "slide_type": ""
    }
   },
   "outputs": [],
   "source": [
    "%%cpp\n",
    "Course cs2310(\"CS2310\");\n",
    "cs2310.say_welcome();"
   ]
  },
  {
   "cell_type": "markdown",
   "id": "057e4be8",
   "metadata": {
    "editable": true,
    "slideshow": {
     "slide_type": ""
    }
   },
   "source": [
    "The objects can be modified/mutated. E.g., to set or update the `name` of the course:"
   ]
  },
  {
   "cell_type": "code",
   "execution_count": null,
   "id": "dcad6d12",
   "metadata": {
    "editable": true,
    "slideshow": {
     "slide_type": ""
    }
   },
   "outputs": [],
   "source": [
    "ROOT.cs2310.set_name('Computer Programming')\n",
    "ROOT.cs2310.say_welcome()"
   ]
  },
  {
   "cell_type": "code",
   "execution_count": null,
   "id": "31531a87",
   "metadata": {
    "editable": true,
    "slideshow": {
     "slide_type": ""
    }
   },
   "outputs": [],
   "source": [
    "%%ai\n",
    "Define a class `Course` in C++ for constructing different course objects by \n",
    "providing their course code and, optionally, name.\n",
    "The object should have:\n",
    "- a method `say_welcome()` that prints \"Welcome to {code} {name}!\", if the \n",
    "  the course name is provided, or \"Welcome to {code}!\" otherwise.\n",
    "- a `set_name` method that modifies the course name if provided a non-empty \n",
    "  string as an argument, or remove the course name if an empty string is given."
   ]
  },
  {
   "cell_type": "code",
   "execution_count": null,
   "id": "3ecbe3df",
   "metadata": {
    "editable": true,
    "slideshow": {
     "slide_type": ""
    },
    "tags": [
     "skip-execution"
    ]
   },
   "outputs": [],
   "source": [
    "%%ai\n",
    "Given GenAI is getting better at programming, what should programmers do to secure their job?"
   ]
  },
  {
   "cell_type": "markdown",
   "id": "0f76c85e",
   "metadata": {
    "editable": true,
    "slideshow": {
     "slide_type": ""
    }
   },
   "source": [
    "::::{warning}\n",
    "\n",
    "Since GenAI is getting better at programming, your challenge to secure a programming job is *not* about learning a programming language&mdash; but the *design of good programs* that can solve problems efficiently.\n",
    "\n",
    "::::"
   ]
  },
  {
   "cell_type": "markdown",
   "id": "cf6ef13b",
   "metadata": {},
   "source": [
    "Let's rename the course:"
   ]
  },
  {
   "cell_type": "code",
   "execution_count": null,
   "id": "624c0e77",
   "metadata": {
    "editable": true,
    "slideshow": {
     "slide_type": ""
    }
   },
   "outputs": [],
   "source": [
    "@interact(name=\"Computer Programming Design\")\n",
    "def update_cs2310(name):\n",
    "    ROOT.cs2310.set_name(name)\n",
    "    print(ROOT.cs2310.get_full_name())"
   ]
  },
  {
   "cell_type": "markdown",
   "id": "261c5d73",
   "metadata": {
    "editable": true,
    "slideshow": {
     "slide_type": ""
    }
   },
   "source": [
    "You can interact with the program by modifying the text box above. (Grab your chance to change the course name to whatever you like!)"
   ]
  },
  {
   "cell_type": "markdown",
   "id": "dcff8cd8",
   "metadata": {},
   "source": [
    "::::{tip} Troubleshooting\n",
    "\n",
    "For the above program to work, you need to import the `interact` object from [`ipywidgets`](https://ipywidgets.readthedocs.io/en/stable/) by executing the [initialization script](./__init__.py):\n",
    "```python\n",
    "...\n",
    "from ipywidgets import interact\n",
    "...\n",
    "```\n",
    "\n",
    "If you forgot to run the initialization cell after the kernel starts/restarts, a simple way to run it is to open a new view of the notebook:\n",
    "- Right click on the notebook tab `Toolchain.ipynb` and select the entry `New View for Notebook`.\n",
    "- Execute the initialization cells in the new view, and close the view afterwards.\n",
    "\n",
    "::::"
   ]
  },
  {
   "cell_type": "markdown",
   "id": "4d4a7e87",
   "metadata": {},
   "source": [
    "### CILOs"
   ]
  },
  {
   "cell_type": "markdown",
   "id": "0eccec87",
   "metadata": {
    "editable": true,
    "slideshow": {
     "slide_type": ""
    }
   },
   "source": [
    "Now we come to the important question: \n",
    "\n",
    "> What is the course intended learning outcomes (CILOs)?"
   ]
  },
  {
   "cell_type": "markdown",
   "id": "7afc0407",
   "metadata": {},
   "source": [
    "You can read about them in the frontpage of the book:\n",
    "\n",
    "::::{attention} Jupyter book\n",
    "\n",
    "Course materials are also compiled into an ebook accessible without login:\n",
    "\n",
    "<https://ccha23.github.io/cs2310i25a/>[^github_pages]\n",
    "\n",
    "::::\n",
    "\n",
    "To launch the notebooks from the ebook, use the buttons located on the top right hand corner:\n",
    "\n",
    "- Click [<kbd>JHub</kbd>](https://canvas.cityu.edu.hk/courses/64884/external_tools/retrieve?display=borderless&url=https%3A//dive.cs.cityu.edu.hk/cs2310_25a/hub/lti/launch%3Fcustom_next%3Dhttps%253A//dive.cs.cityu.edu.hk/cs2310_25a/hub/user-redirect/git-pull%253Frepo%253Dhttps%25253A//github.com/dive4dec/cs2310_25a%2526urlpath%253Dlab/tree/cs2310_25a) for registered students to access the JupyterHub server on our computing platform DIVE.\n",
    "\n",
    "- Click [<kbd>Binder</kbd>](https://mybinder.org/v2/gh/dive4dec/cs1302nb/HEAD?urlpath=%2Fgit-pull%3Frepo%3Dhttps%3A%2F%2Fgithub.com%2Fdive4dec%2Fcs2310_25a%26urlpath%3Dlab%2Ftree%2Fcs2310_25a) for public access through the [BinderHub (`binder.org`)](https://en.wikipedia.org/wiki/Binder_Project) with *temporary* storage.\n",
    "\n",
    "[^github_pages]: The book is deployed to GitHub Pages using a [GitHub Actions workflow](https://github.com/actions/deploy-pages)."
   ]
  },
  {
   "cell_type": "markdown",
   "id": "afca117b",
   "metadata": {},
   "source": [
    "To be more concrete, we hope that after completing the course, you will have honed the computational skills needed to create a fantastic project like one of these [open-source projects](https://en.wikipedia.org/wiki/Open_source):"
   ]
  },
  {
   "cell_type": "markdown",
   "id": "1b1da30f",
   "metadata": {},
   "source": [
    "::::{seealso} Serverless WebApp\n",
    "\n",
    "Running a web app in-browser makes it highly scalable, as the web app utilizes local resources instead of relying on a remote server or even a continuous network connection. \n",
    "[Emscripten](https://github.com/emscripten-core/emscripten) is a popular open-source C/C++ compiler for WebAssembly (wasm), which powers many serverless web apps:\n",
    "\n",
    "  - [JupyterLite](https://jupyterlite.readthedocs.io/): In-browser JupyterLab that can run wasm kernels such as\n",
    "      - [Pyodide](https://github.com/pyodide/pyodide) [![lite-badge](https://jupyterlite.rtfd.io/en/latest/_static/badge.svg)](https://jupyterlite.rtfd.io/en/stable/try/lab), and\n",
    "      - [`xeus-python`](https://github.com/jupyterlite/xeus-lite-demo?tab=readme-ov-file) [![lite-badge](https://jupyterlite.rtfd.io/en/latest/_static/badge.svg)](https://jupyterlite.github.io/xeus-lite-demo/notebooks/?path=demo.ipynb)\n",
    "      - [`xeus-cpp`](https://github.com/compiler-research/xeus-cpp) [![lite-badge](https://jupyterlite.rtfd.io/en/latest/_static/badge.svg)](https://compiler-research.org/xeus-cpp-wasm/lab/index.html)\n",
    "  - [WebLLM](https://webllm.mlc.ai/): In-browser LLM Inference engine.\n",
    "      (webllm-chat)=\n",
    "      - [WebLLM Chat](https://chat.webllm.ai/), which runs in a [WebGPU-enabled browser](https://github.com/gpuweb/gpuweb/wiki/Implementation-Status).\n",
    "\n",
    "We can even run a linux OS in-browser with [WebVM](https://webvm.io/).\n",
    "\n",
    "::::"
   ]
  },
  {
   "cell_type": "markdown",
   "id": "79075b17",
   "metadata": {},
   "source": [
    "::::{seealso} Local LLM\n",
    "\n",
    "While using GenAI tools locally is more secure, it is often costly (requiring expensive GPUs) and difficult to setup. The project [`llamafile`](https://github.com/Mozilla-Ocho/llamafile?tab=readme-ov-file) makes it possible to create single executables for running LLMs unbelievably efficiently and locally on most computers without installation. It makes use of\n",
    "\n",
    "- [`llama.cpp`](https://github.com/ggml-org/llama.cpp): An LLM inference engine in C/C++ with no dependencies, that runs even without GPU; and\n",
    "(cosmo)=\n",
    "- [Cosmopolitan Libc](https://github.com/jart/cosmopolitan): A C/C++ toolchain for build-once run-anywhere [Actually Portable Executables (APE)](https://cosmo.zip/pub/cosmos/bin/).\n",
    "\n",
    "Try the [quickstart](https://github.com/Mozilla-Ocho/llamafile?tab=readme-ov-file#quickstart) to see if you can run a visual language model (VLM) locally without installation.\n",
    "\n",
    "::::"
   ]
  },
  {
   "cell_type": "markdown",
   "id": "b79be25a",
   "metadata": {},
   "source": [
    "::::{seealso} Header-only Libraries\n",
    "\n",
    "Header-only C++ libraries are libraries that contain all their implementation details within [](#header-files), eliminating the need for separate compilation and linking.[^compile]\n",
    "- [FunctionalPLUS](https://github.com/Dobiasd/FunctionalPlus): Functional Programming Library for C++.\n",
    "- [Eigen](https://gitlab.com/libeigen/eigen): A high-performance C++ library for linear algebra, matrix, and vector operations.\n",
    "\n",
    "::::\n",
    "\n",
    "[^compile]: See [](#sec:compilation) for more details."
   ]
  },
  {
   "cell_type": "markdown",
   "id": "949b962a",
   "metadata": {},
   "source": [
    "::::{seealso} Others\n",
    ":class: dropdown\n",
    "\n",
    "To explore more, see the [Awesome C++ list](https://github.com/fffaraz/awesome-cpp), and other related list such as the\n",
    "- [Awesome Emscripten list](https://github.com/midzer/awesome-emscripten?tab=readme-ov-file);\n",
    "- [Awesome Cosmopolitan list](https://github.com/shmup/awesome-cosmopolitan);\n",
    "- [Awesome header-only C++ libraries list](https://github.com/p-ranav/awesome-hpp); and\n",
    "- [Awesome list of awesome lists of ...](https://github.com/sindresorhus/awesome)\n",
    "\n",
    "::::"
   ]
  },
  {
   "cell_type": "markdown",
   "id": "f57776c5",
   "metadata": {},
   "source": [
    "In this first lecture, we will aim to learn enough to run C++ programs. This will involve understanding the *programming toolchain*, which is a set of tools used by programmers to write, maintain, and build software."
   ]
  },
  {
   "cell_type": "markdown",
   "id": "4f3ba56d",
   "metadata": {
    "editable": true,
    "slideshow": {
     "slide_type": ""
    }
   },
   "source": [
    "(sec:compilation)=\n",
    "## Compilation"
   ]
  },
  {
   "cell_type": "markdown",
   "id": "d22043c1",
   "metadata": {},
   "source": [
    "A C++ program is typically compiled into machine code before it can be executed directly by the CPU. The compilation process is complex because it must target different platforms (such as various architectures and operating systems) and serve different purposes (such as release versus debugging builds)."
   ]
  },
  {
   "cell_type": "markdown",
   "id": "bd578683",
   "metadata": {},
   "source": [
    "### How to run a C++ program?"
   ]
  },
  {
   "cell_type": "markdown",
   "id": "efb840d0",
   "metadata": {
    "editable": true,
    "slideshow": {
     "slide_type": ""
    }
   },
   "source": [
    "To illustrate this process, run the following cells to create the source code of a hello-world program:[^%%writefile]\n",
    "\n",
    "[^%%writefile]: `%%writefile` is an IPython [cell magic](https://github.com/ipython/ipython/blob/cc614bdc1d3f61303e265c26d593d384e4a90d1e/IPython/core/magics/osm.py#L834) for create a file with the content of the magic cell."
   ]
  },
  {
   "cell_type": "code",
   "execution_count": null,
   "id": "abd14036",
   "metadata": {},
   "outputs": [],
   "source": [
    "!mkdir -p private  # Create a private directory for files to be generated"
   ]
  },
  {
   "cell_type": "code",
   "execution_count": null,
   "id": "e4d12168",
   "metadata": {
    "editable": true,
    "slideshow": {
     "slide_type": ""
    }
   },
   "outputs": [],
   "source": [
    "%%writefile 'private/hello.cpp'\n",
    "#include <iostream>\n",
    "#include <format>\n",
    "\n",
    "int main() {\n",
    "    auto who=\"World\";\n",
    "    std::cout << std::format(\"Hello, {}!\\n\", who);\n",
    "    return 0;\n",
    "}"
   ]
  },
  {
   "cell_type": "markdown",
   "id": "4f16f375",
   "metadata": {
    "editable": true,
    "slideshow": {
     "slide_type": ""
    }
   },
   "source": [
    "The C++ source code file is called [](private/hello.cpp).[^ext] The following [](#shell-command) uses a C++ compiler to compile the source code to an executable (file).\n",
    "\n",
    "[^ext]: Other common extensions are: `.cc`, `.cxx` and `.C`."
   ]
  },
  {
   "cell_type": "code",
   "execution_count": null,
   "id": "c8fd3039",
   "metadata": {
    "editable": true,
    "slideshow": {
     "slide_type": ""
    }
   },
   "outputs": [],
   "source": [
    "%%bash\n",
    "cd private && \\\n",
    "clang++ -fuse-ld=lld --std=c++20 --stdlib=libc++ hello.cpp -o hello && \\\n",
    "ls -la hello.cpp hello"
   ]
  },
  {
   "cell_type": "markdown",
   "id": "8637c0ba",
   "metadata": {
    "editable": true,
    "slideshow": {
     "slide_type": ""
    }
   },
   "source": [
    "::::{important} Compiler\n",
    "\n",
    "A compiler in the programming toolchain translates high-level source code written by developers into machine code or bytecode that can be executed by a computer.\n",
    "\n",
    "- `hello` is the executable compiled from the source code by `clang++`, a modern C++ compiler based on the [LLVM project](https://llvm.org/).\n",
    "- `--std=c++20 --stdlib=libc++` and `-o hello` are command-line options in long and short forms respectively.\n",
    "\n",
    "::::"
   ]
  },
  {
   "cell_type": "markdown",
   "id": "40fff40e",
   "metadata": {
    "editable": true,
    "slideshow": {
     "slide_type": ""
    }
   },
   "source": [
    "From the output, note that:\n",
    "1. The size of the executable `hello` is significantly larger than that of the source code `hello.cpp`.\n",
    "2. The [](#file-permission-string) `-rwxr-xr-x` indicates that the file is executable by the user, group, and others, as denoted by the `x` characters in the three different locations."
   ]
  },
  {
   "cell_type": "markdown",
   "id": "72c2771e",
   "metadata": {
    "editable": true,
    "slideshow": {
     "slide_type": ""
    }
   },
   "source": [
    "To run the executable:"
   ]
  },
  {
   "cell_type": "code",
   "execution_count": null,
   "id": "0f3e5ba5",
   "metadata": {
    "editable": true,
    "slideshow": {
     "slide_type": ""
    }
   },
   "outputs": [],
   "source": [
    "%%bash\n",
    "./private/hello"
   ]
  },
  {
   "cell_type": "markdown",
   "id": "016ad856",
   "metadata": {
    "editable": true,
    "slideshow": {
     "slide_type": ""
    }
   },
   "source": [
    "To see the returned value, run the following cell right after executing the hello-world program."
   ]
  },
  {
   "cell_type": "code",
   "execution_count": null,
   "id": "3656a84b",
   "metadata": {
    "editable": true,
    "slideshow": {
     "slide_type": ""
    }
   },
   "outputs": [],
   "source": [
    "%%bash\n",
    "echo ${?}"
   ]
  },
  {
   "cell_type": "markdown",
   "id": "ffea3709",
   "metadata": {
    "editable": true,
    "slideshow": {
     "slide_type": ""
    }
   },
   "source": [
    "::::{seealso} Hello-World Explained\n",
    "\n",
    "- The string `\"Hello, World!\"` got printed to the standard output using the object [`cout`](https://en.cppreference.com/w/cpp/io/cout.html?ref=samtsai.org) under the [namespace](https://en.cppreference.com/w/cpp/language/namespace.html) `std`. [`<<`](https://en.cppreference.com/w/cpp/io/basic_ostream/operator_ltlt) is the stream insertion operator and [`::`](https://en.cppreference.com/w/cpp/language/scope) is the scope resolution operator.\n",
    "- The `cout` object is obtained from the [standard library](https://en.cppreference.com/w/cpp/standard_library.html) [`libc++`](https://libcxx.llvm.org/) using the [preprocessor](https://en.cppreference.com/w/cpp/preprocessor.html) directive [`#include <iostream>`](https://en.cppreference.com/w/cpp/header/iostream) to include the relevant header file `<iostream>` declaring `cout`.\n",
    "- The string was composed using the function [`std::format`](https://en.cppreference.com/w/cpp/utility/format/format.html) included from `<format>` introduced in [`c++20`](https://cppreference.com/w/cpp/20.html) standard.\n",
    "- `libc++` is linked to the executable `hello` by the compiler [`clang++`](https://clang.llvm.org/).\n",
    "- The execution calls the [`main`](https://en.cppreference.com/w/cpp/language/main_function) function, which prints the string and returns the [](#exit-status-code) `0`, to indicate success of the run.\n",
    "\n",
    "::::"
   ]
  },
  {
   "cell_type": "markdown",
   "id": "f1ae4364",
   "metadata": {},
   "source": [
    "### Can an executable run anywhere?"
   ]
  },
  {
   "cell_type": "markdown",
   "id": "5d361dda",
   "metadata": {},
   "source": [
    "Normally, an executable is platform-specific, meaning it cannot run on a platform different from the one on which it was compiled. However, an executable compiled using the [Cosmopolitan Libc framework](#cosmo) is an exception."
   ]
  },
  {
   "cell_type": "markdown",
   "id": "97d5af12",
   "metadata": {},
   "source": [
    "Since Cosmo does not support C++20 standard yet, we will use the following source code without using `<format>`:"
   ]
  },
  {
   "cell_type": "code",
   "execution_count": null,
   "id": "10a9d55c",
   "metadata": {
    "editable": true,
    "slideshow": {
     "slide_type": ""
    }
   },
   "outputs": [],
   "source": [
    "%%writefile 'private/hello_cosmo.cpp'\n",
    "#include <iostream>\n",
    "\n",
    "int main() {\n",
    "    std::cout << \"Hello, World!\\n\";\n",
    "    return 0;\n",
    "}"
   ]
  },
  {
   "cell_type": "markdown",
   "id": "b7ba7c57",
   "metadata": {
    "editable": true,
    "slideshow": {
     "slide_type": ""
    }
   },
   "source": [
    "The `cosmoc++` compiler can create a single binary that can run on multiple platforms, including Linux, Windows, and macOS.[^run]\n",
    "\n",
    "[^run]: As seeing is believing, try running the executable on a platform other than the current platform by following the [official documentation](https://justine.lol/cosmopolitan/index.html)."
   ]
  },
  {
   "cell_type": "code",
   "execution_count": null,
   "id": "610bd3c8",
   "metadata": {
    "editable": true,
    "slideshow": {
     "slide_type": ""
    }
   },
   "outputs": [],
   "source": [
    "%%bash\n",
    "cd private && \\\n",
    "cosmoc++ hello_cosmo.cpp -o hello_cosmo && \\\n",
    "./hello_cosmo"
   ]
  },
  {
   "cell_type": "markdown",
   "id": "834257ce",
   "metadata": {
    "editable": true,
    "slideshow": {
     "slide_type": ""
    }
   },
   "source": [
    "There are different compilers to compile C++ code. For instance, a popular and mature C++ compiler for Linux is `g++`:[^g++]\n",
    "\n",
    "[^g++]: `g++` is one of the compilers in the widely used [GNU Compiler Collection (GCC)](https://en.wikipedia.org/wiki/GNU_Compiler_Collection)."
   ]
  },
  {
   "cell_type": "code",
   "execution_count": null,
   "id": "74b36687",
   "metadata": {
    "editable": true,
    "slideshow": {
     "slide_type": ""
    }
   },
   "outputs": [],
   "source": [
    "%%bash\n",
    "cd private && \\\n",
    "g++ --std=c++20 hello.cpp -o hello_gcc && \\\n",
    "./hello_gcc"
   ]
  },
  {
   "cell_type": "code",
   "execution_count": null,
   "id": "cc8686d7",
   "metadata": {
    "editable": true,
    "slideshow": {
     "slide_type": ""
    }
   },
   "outputs": [],
   "source": [
    "%%bash\n",
    "ls -la ./private/hello_gcc ./private/hello"
   ]
  },
  {
   "cell_type": "markdown",
   "id": "874351c2",
   "metadata": {
    "editable": true,
    "slideshow": {
     "slide_type": ""
    }
   },
   "source": [
    "From the above output, observe that the executables compiled from the same source code can be different for different compilers, as they use different [](#compiler-configurations) and libraries."
   ]
  },
  {
   "cell_type": "markdown",
   "id": "57024f4f",
   "metadata": {
    "editable": true,
    "slideshow": {
     "slide_type": ""
    }
   },
   "source": [
    "It is even possible to compile C++ code to a web page that can run in-browser.[^in-browser]\n",
    "\n",
    "[^in-browser]: Running in-browser means an application can be served statically via a web server and executed directly within a web browser without requiring a sustained internet connection once loaded. E.g., try the [WebLLM Chat](#webllm-chat) or its [android app](https://llm.mlc.ai/docs/deploy/android.html#demo-app) without internet after loading a model."
   ]
  },
  {
   "cell_type": "code",
   "execution_count": null,
   "id": "ecc869f6",
   "metadata": {
    "editable": true,
    "slideshow": {
     "slide_type": ""
    }
   },
   "outputs": [],
   "source": [
    "%%bash\n",
    "mkdir -p ~/www/hello && \\\n",
    "em++ --std=c++20 ./private/hello.cpp -o ~/www/hello/index.html && \\\n",
    "ls -la ~/www/hello/*"
   ]
  },
  {
   "cell_type": "markdown",
   "id": "8db86d50",
   "metadata": {
    "editable": true,
    "slideshow": {
     "slide_type": ""
    }
   },
   "source": [
    "After running the above shell, the web page should be available at:[^jupyter-www]\n",
    "> [](https://dive.cs.cityu.edu.hk/cs2310_25a/hub/user-redirect/www/hello/)\n",
    "\n",
    "- The C++ code is compiled to WebAssembly `index.wasm`, along with\n",
    "- the HTML `index.html` and javascript `index.js` to serve the WebAssembly.\n",
    "\n",
    "[^jupyter-www]: The static page is served via a basic proxy [`jupyter-www-proxy`](https://pypi.org/project/jupyter-www-proxy/)."
   ]
  },
  {
   "cell_type": "markdown",
   "id": "200b9923",
   "metadata": {
    "editable": true,
    "slideshow": {
     "slide_type": ""
    }
   },
   "source": [
    "The javascript script file `index.js` can also be executed using Node.js:[^node]\n",
    "\n",
    "[^node]: Node.js is a JavaScript runtime built on Chrome’s V8 JavaScript engine, allowing developers to run JavaScript outside of the browser; for more information, see the official [Node.js documentation](https://nodejs.org/en/docs/)."
   ]
  },
  {
   "cell_type": "code",
   "execution_count": null,
   "id": "ce57fec0",
   "metadata": {
    "editable": true,
    "slideshow": {
     "slide_type": ""
    }
   },
   "outputs": [],
   "source": [
    "%%bash\n",
    "node ~/www/hello/index.js"
   ]
  },
  {
   "cell_type": "markdown",
   "id": "6139d3cb",
   "metadata": {
    "editable": true,
    "slideshow": {
     "slide_type": ""
    }
   },
   "source": [
    "### How does the original source code translate into an executable?"
   ]
  },
  {
   "cell_type": "markdown",
   "id": "bc350597",
   "metadata": {
    "editable": true,
    "slideshow": {
     "slide_type": ""
    }
   },
   "source": [
    "The compilation can be broken down into several steps. The first step expands the source code to include the content from required [](#header-files):"
   ]
  },
  {
   "cell_type": "code",
   "execution_count": null,
   "id": "60d99878",
   "metadata": {
    "editable": true,
    "slideshow": {
     "slide_type": ""
    }
   },
   "outputs": [],
   "source": [
    "%%bash\n",
    "cd private && \\\n",
    "clang++ --std=c++20 --stdlib=libc++ -E hello.cpp -o hello.ii && \\\n",
    "ls -la hello.cpp hello.ii"
   ]
  },
  {
   "cell_type": "markdown",
   "id": "8635b4b2",
   "metadata": {
    "editable": true,
    "slideshow": {
     "slide_type": ""
    }
   },
   "source": [
    "::::{exercise} \n",
    ":label: ex:main\n",
    "\n",
    "Locate the `main()` function in the expanded file [](private/hello.ii). What happened to the preprocessor directive `#include <iostream>`?\n",
    "\n",
    "::::"
   ]
  },
  {
   "cell_type": "markdown",
   "id": "a2b5a841",
   "metadata": {
    "deletable": false,
    "editable": true,
    "nbgrader": {
     "cell_type": "markdown",
     "checksum": "84edb206c407e41cb830b1ec3254f724",
     "grade": true,
     "grade_id": "main",
     "locked": false,
     "points": 0,
     "schema_version": 3,
     "solution": true,
     "task": false
    },
    "slideshow": {
     "slide_type": ""
    }
   },
   "source": [
    "YOUR ANSWER HERE"
   ]
  },
  {
   "cell_type": "markdown",
   "id": "9ebb633f",
   "metadata": {
    "editable": true,
    "slideshow": {
     "slide_type": ""
    }
   },
   "source": [
    "Then, the expanded source code is converted to an assembly code."
   ]
  },
  {
   "cell_type": "code",
   "execution_count": null,
   "id": "3dc590fe",
   "metadata": {
    "editable": true,
    "slideshow": {
     "slide_type": ""
    }
   },
   "outputs": [],
   "source": [
    "%%bash\n",
    "cd private && \\\n",
    "clang++ --std=c++20 -S hello.ii -o hello.s && \\\n",
    "ls -la hello.ii hello.s"
   ]
  },
  {
   "cell_type": "markdown",
   "id": "8e2e2afc",
   "metadata": {
    "editable": true,
    "slideshow": {
     "slide_type": ""
    }
   },
   "source": [
    "::::{exercise}\n",
    ":label: ex:assembly\n",
    "\n",
    "Edit the assembly code [](private/hello.s) to change the message `\"Hello, World!\\n\"` into `\"Hello again!\\n\"`.\n",
    "\n",
    "::::"
   ]
  },
  {
   "cell_type": "markdown",
   "id": "c732485c",
   "metadata": {
    "editable": true,
    "slideshow": {
     "slide_type": ""
    }
   },
   "source": [
    "Note that the compiled code is much smaller than the original source code. We can use the [optimization flag `-O`](https://clang.llvm.org/docs/CommandGuide/clang.html#code-generation-options) to instruct the compiler to apply various optimization techniques to improve the generated code for different purposes:"
   ]
  },
  {
   "cell_type": "code",
   "execution_count": null,
   "id": "a680e177",
   "metadata": {
    "editable": true,
    "slideshow": {
     "slide_type": ""
    }
   },
   "outputs": [],
   "source": [
    "%%bash\n",
    "cd private\n",
    "clang++ --std=c++20 -S -O0 hello.ii -o hello_O0.s   # no optimization\n",
    "clang++ --std=c++20 -S -O1 hello.ii -o hello_O1.s   # between -O0 and -O2\n",
    "clang++ --std=c++20 -S -O2 hello.ii -o hello_O2.s   # moderate level\n",
    "clang++ --std=c++20 -S -O3 hello.ii -o hello_O3.s   # maximum optimization, good for release\n",
    "clang++ --std=c++20 -S -O3 -ffast-math hello.ii -o hello_Of.s  # aggressive, might violate standards\n",
    "clang++ --std=c++20 -S -Og hello.ii -o hello_Og.s   # debugging\n",
    "clang++ --std=c++20 -S -Os hello.ii -o hello_Os.s   # optimize for size\n",
    "clang++ --std=c++20 -S -Oz hello.ii -o hello_Oz.s   # optimize for more size reduction"
   ]
  },
  {
   "cell_type": "code",
   "execution_count": null,
   "id": "e1a6dbb9",
   "metadata": {
    "editable": true,
    "slideshow": {
     "slide_type": ""
    }
   },
   "outputs": [],
   "source": [
    "%%bash\n",
    "ls -la private/hello*.s"
   ]
  },
  {
   "cell_type": "markdown",
   "id": "a42d15d1",
   "metadata": {
    "editable": true,
    "slideshow": {
     "slide_type": ""
    }
   },
   "source": [
    "The two commonly used optimizations are:\n",
    "\n",
    "- `-O3`, which is good for software release as it attempts to rearrange the code as much as needed to make the final executable run faster, but such rearrangements make it difficult to debug the source code because the mapping from the machine code to the source is not preserved.\n",
    "- `-Og`, which is good for debugging as it minimizes rearrangements of the source and retains function names and variable scopes, allowing a debugger to step through the execution and show relevant information from the corresponding source code."
   ]
  },
  {
   "cell_type": "markdown",
   "id": "9efc5c97",
   "metadata": {},
   "source": [
    "The assembly code is further converted to a machine code."
   ]
  },
  {
   "cell_type": "code",
   "execution_count": null,
   "id": "24f3750d",
   "metadata": {
    "editable": true,
    "slideshow": {
     "slide_type": ""
    }
   },
   "outputs": [],
   "source": [
    "%%bash\n",
    "cd private\n",
    "clang++ -c hello.s -o hello.o\n",
    "clang++ -c hello_O0.s -o hello_O0.o\n",
    "clang++ -c hello_O1.s -o hello_O1.o\n",
    "clang++ -c hello_O2.s -o hello_O2.o\n",
    "clang++ -c hello_O3.s -o hello_O3.o\n",
    "clang++ -c hello_Of.s -o hello_Of.o\n",
    "clang++ -c hello_Og.s -o hello_Og.o\n",
    "clang++ -c hello_Os.s -o hello_Os.o\n",
    "clang++ -c hello_Oz.s -o hello_Oz.o"
   ]
  },
  {
   "cell_type": "code",
   "execution_count": null,
   "id": "db5c9a4b",
   "metadata": {
    "editable": true,
    "slideshow": {
     "slide_type": ""
    }
   },
   "outputs": [],
   "source": [
    "%%bash\n",
    "ls -la private/hello*.o"
   ]
  },
  {
   "cell_type": "markdown",
   "id": "e7ed1e4d",
   "metadata": {
    "editable": true,
    "slideshow": {
     "slide_type": ""
    }
   },
   "source": [
    "[](private/hello.o) is called an object file, which is a [](#binary-file) containing the binary machine code that is not human readable."
   ]
  },
  {
   "cell_type": "markdown",
   "id": "f9fe9b5f",
   "metadata": {
    "editable": true,
    "slideshow": {
     "slide_type": ""
    }
   },
   "source": [
    "The final step is the linking process, which turns one or more object files into an executable."
   ]
  },
  {
   "cell_type": "code",
   "execution_count": null,
   "id": "b5afdb73",
   "metadata": {},
   "outputs": [],
   "source": [
    "%%bash\n",
    "cd private && \\\n",
    "clang++ -fuse-ld=lld --stdlib=libc++ hello.o -o hello_again"
   ]
  },
  {
   "cell_type": "markdown",
   "id": "1bf6995d",
   "metadata": {},
   "source": [
    "::::{exercise}\n",
    ":label: ex:link\n",
    "\n",
    "Note that\n",
    "\n",
    "1. `--std=c++20` is specified when expanding the source and converting it into an assembly code.\n",
    "2. `--stdlib=libc++` is specified in the linking process. \n",
    "\n",
    "Explain what happens if these compiler options are omitted.\n",
    "\n",
    "::::"
   ]
  },
  {
   "cell_type": "markdown",
   "id": "d4f1fbd0",
   "metadata": {
    "deletable": false,
    "nbgrader": {
     "cell_type": "markdown",
     "checksum": "5984c823c986c66837a6a62d7f22579b",
     "grade": true,
     "grade_id": "link",
     "locked": false,
     "points": 0,
     "schema_version": 3,
     "solution": true,
     "task": false
    }
   },
   "source": [
    "YOUR ANSWER HERE"
   ]
  },
  {
   "cell_type": "code",
   "execution_count": null,
   "id": "55cbd3a7",
   "metadata": {
    "editable": true,
    "slideshow": {
     "slide_type": ""
    },
    "tags": [
     "skip-execution"
    ]
   },
   "outputs": [],
   "source": [
    "%%ai\n",
    "Why use the option `-fuse-ld=lld`?"
   ]
  },
  {
   "cell_type": "markdown",
   "id": "429c39fa",
   "metadata": {
    "editable": true,
    "slideshow": {
     "slide_type": ""
    }
   },
   "source": [
    "## Building from Source"
   ]
  },
  {
   "cell_type": "markdown",
   "id": "733b7810",
   "metadata": {
    "editable": true,
    "slideshow": {
     "slide_type": ""
    }
   },
   "source": [
    "A C++ project often consists of multiple source code files and libraries that depend on one another in certain way. E.g.,\n",
    "\n",
    "[](src/addmul.cpp) defines the main application that uses functions from \n",
    "\n",
    "- [](util/io.cpp) to get user input;\n",
    "- [](mymath/add.cpp) to carry out addition of two numbers; and\n",
    "- [](mymath/mul.cpp) to carry out multiplication of three numbers.\n",
    "\n",
    "[](include/mymath.hpp) and [](include/util.hpp) are [](#header-files) that declares the functions shared by multiple source code files."
   ]
  },
  {
   "cell_type": "markdown",
   "id": "a3fd6748",
   "metadata": {},
   "source": [
    "To compile the main application, its dependencies must be compiled first. For large projects with complex interdependencies, manual compilation is both challenging and error-prone, which naturally calls for the following tool in the programming toolchain."
   ]
  },
  {
   "cell_type": "markdown",
   "id": "638975d8",
   "metadata": {},
   "source": [
    "::::{important} Build System\n",
    "\n",
    "A build system such as [CMake](https://cppreference.com/w/User%253ALegalize/CMake.html) addresses the challenge of managing the compilation of a C++ project by automating the process of determining the correct order in which to compile multiple source code files and libraries based on their dependency hierarchy. It ensures that each component is compiled only when necessary and in the right sequence, reducing manual errors and improving efficiency.\n",
    "\n",
    "::::"
   ]
  },
  {
   "cell_type": "markdown",
   "id": "8cbbeb30",
   "metadata": {},
   "source": [
    "### How to build a C++ project with CMake?"
   ]
  },
  {
   "cell_type": "markdown",
   "id": "0620c4b8",
   "metadata": {},
   "source": [
    "Let's clean up all the build files in case you have run the Make command before:"
   ]
  },
  {
   "cell_type": "code",
   "execution_count": null,
   "id": "24181fff",
   "metadata": {
    "editable": true,
    "slideshow": {
     "slide_type": ""
    }
   },
   "outputs": [],
   "source": [
    "!make clean-all"
   ]
  },
  {
   "cell_type": "markdown",
   "id": "25c1d0fb",
   "metadata": {
    "editable": true,
    "slideshow": {
     "slide_type": ""
    }
   },
   "source": [
    "Next, run the following command to generate files in a build directory:"
   ]
  },
  {
   "cell_type": "code",
   "execution_count": null,
   "id": "f0cbe6e2",
   "metadata": {
    "editable": true,
    "slideshow": {
     "slide_type": ""
    }
   },
   "outputs": [],
   "source": [
    "!make generate && ls -la build/"
   ]
  },
  {
   "cell_type": "markdown",
   "id": "d612ef11",
   "metadata": {
    "editable": true,
    "slideshow": {
     "slide_type": ""
    }
   },
   "source": [
    "The above Make command executes the CMake command\n",
    "\n",
    "```bash\n",
    "/usr/bin/cmake -B \"build\" -S . -DCMAKE_CXX_COMPILER=clang++\n",
    "```\n",
    "where\n",
    "- `-B \"build\"` specifies the build directory where CMake will generate the build system files and perform the build process.\n",
    "- `-S .` specifies the source directory containing the CMake configuration file [](CMakeLists.txt).\n",
    "- `-DCMAKE_CXX_COMPILER=/usr/bin/clang++` sets the C++ compiler to `/usr/bin/clang++` for compiling C++ source files."
   ]
  },
  {
   "cell_type": "markdown",
   "id": "283efc22",
   "metadata": {
    "editable": true,
    "slideshow": {
     "slide_type": ""
    }
   },
   "source": [
    "Next, to compile the source code into [binary files](#binary-file):"
   ]
  },
  {
   "cell_type": "code",
   "execution_count": null,
   "id": "dc82a11e",
   "metadata": {
    "editable": true,
    "slideshow": {
     "slide_type": ""
    }
   },
   "outputs": [],
   "source": [
    "!make build && ls -la bin/ lib/ build/"
   ]
  },
  {
   "cell_type": "markdown",
   "id": "ac124637",
   "metadata": {
    "editable": true,
    "slideshow": {
     "slide_type": ""
    }
   },
   "source": [
    "The CMake command option `--build \"build\"` instructs CMake to look for the build system files in the `build` subfolder and compile the source code to generate:\n",
    "\n",
    "- `lib/libmymath.so`, a [dynamic/shared library](#dynamic-library) providing the `add` and `mul` functions;\n",
    "- `build/libutil.a`, a [](#static-library) providing the `get_input` function; and\n",
    "- `bin/addmul`, the main application."
   ]
  },
  {
   "cell_type": "code",
   "execution_count": null,
   "id": "a762444d",
   "metadata": {
    "editable": true,
    "slideshow": {
     "slide_type": ""
    }
   },
   "outputs": [],
   "source": [
    "%%bash\n",
    "make run <<EOF\n",
    "1\n",
    "2\n",
    "3\n",
    "EOF"
   ]
  },
  {
   "cell_type": "markdown",
   "id": "6b6d4f79",
   "metadata": {
    "editable": true,
    "slideshow": {
     "slide_type": ""
    }
   },
   "source": [
    "Try opening a terminal to run the executable `\"${HOME}/cs2310_25a/Lecture1/bin/addmul\"` directly."
   ]
  },
  {
   "cell_type": "markdown",
   "id": "a04f0fa6",
   "metadata": {},
   "source": [
    "::::{note} How does `make` work?\n",
    "\n",
    "- In the `Makefile`, the first target is considered the default target. Since `all` is the first target, running make without any arguments will execute `make all`.\n",
    "- The `all` target is defined to depend on `generate`, `build`, and `run`. This means that when `make all` is executed, it will first run `make generate`, then `make build`, and finally `make run` in sequence.\n",
    "\n",
    "::::"
   ]
  },
  {
   "cell_type": "markdown",
   "id": "a00cc2e8",
   "metadata": {},
   "source": [
    "### How to edit and debug the source code?"
   ]
  },
  {
   "cell_type": "markdown",
   "id": "a25dd578",
   "metadata": {},
   "source": [
    "Although Jupyter does not have visual debugging capability for C++ code, we can use the Visual Student Code (VS Code) interface."
   ]
  },
  {
   "cell_type": "markdown",
   "id": "ebc8904e",
   "metadata": {
    "editable": true,
    "slideshow": {
     "slide_type": ""
    }
   },
   "source": [
    "Before starting VS Code, run the following cell for a one-time installation of some useful VSCode extensions for debugging:"
   ]
  },
  {
   "cell_type": "code",
   "execution_count": null,
   "id": "710ec58f",
   "metadata": {
    "editable": true,
    "slideshow": {
     "slide_type": ""
    },
    "tags": [
     "skip-execution"
    ]
   },
   "outputs": [],
   "source": [
    "%%bash\n",
    "if [ -z \"${NBGRADER_EXECUTION}\" ]; then\n",
    "  make setup\n",
    "fi"
   ]
  },
  {
   "cell_type": "markdown",
   "id": "466ea367",
   "metadata": {},
   "source": [
    "Run the cell below to generate the link to open `Lecture1` in VS Code:"
   ]
  },
  {
   "cell_type": "code",
   "execution_count": null,
   "id": "4b237b94",
   "metadata": {
    "editable": true,
    "slideshow": {
     "slide_type": ""
    }
   },
   "outputs": [],
   "source": [
    "vscode('.', target='VSC1')"
   ]
  },
  {
   "cell_type": "markdown",
   "id": "7d57f79f",
   "metadata": {},
   "source": [
    "Alternatively, \n",
    "1. launch VS Code from JupyterLab with `File` → `New Launcher` and then\n",
    "2. open `Lecture1` folder in VS Code with `☰` → `File` → `Open Folder...`."
   ]
  },
  {
   "cell_type": "markdown",
   "id": "a9ef95ef",
   "metadata": {},
   "source": [
    "Prior to debugging, you should have built the project and configured the debugger for the project with a file `.vscode/launch.json` at the project root folder:"
   ]
  },
  {
   "cell_type": "code",
   "execution_count": null,
   "id": "e21eb65b",
   "metadata": {},
   "outputs": [],
   "source": [
    "!mkdir -p .vscode"
   ]
  },
  {
   "cell_type": "code",
   "execution_count": null,
   "id": "d01d9bc0",
   "metadata": {},
   "outputs": [],
   "source": [
    "%%writefile .vscode/launch.json\n",
    "{\n",
    "    // Use IntelliSense to learn about possible attributes.\n",
    "    // Hover to view descriptions of existing attributes.\n",
    "    // For more information, visit: https://go.microsoft.com/fwlink/?linkid=830387\n",
    "    \"version\": \"0.2.0\",\n",
    "    \"configurations\": [\n",
    "        {\n",
    "            \"name\": \"Launch\",\n",
    "            \"type\": \"lldb\",\n",
    "            \"request\": \"launch\",\n",
    "            \"program\": \"${workspaceFolder}/bin/addmul\",\n",
    "            \"args\": [],\n",
    "            \"stopOnEntry\": false\n",
    "        }\n",
    "    ]\n",
    "}"
   ]
  },
  {
   "cell_type": "markdown",
   "id": "ad7f1393",
   "metadata": {
    "editable": true,
    "slideshow": {
     "slide_type": ""
    }
   },
   "source": [
    "::::{literalinclude} .vscode/launch.json\n",
    ":language: json\n",
    "::::\n",
    "\n",
    "As commented in the first line, you can learn more about the configuration using [IntelliSense in VS Code](https://code.visualstudio.com/docs/editing/intellisense)."
   ]
  },
  {
   "cell_type": "markdown",
   "id": "f4f90bbb",
   "metadata": {},
   "source": [
    ":::::{exercise}\n",
    ":label: ex:intellisense\n",
    "\n",
    "Use IntelliSence in VS Code to learn how CMake was configured by the [](CMakeLists.txt) file to:\n",
    "\n",
    "1. Generate the compilation commands.\n",
    "2. Set the default build type.\n",
    "\n",
    "Also modify the configuration to keep the intermediate files such as the assembly code.\n",
    "\n",
    "::::{literalinclude} CMakeLists.txt\n",
    ":language: cmake\n",
    "::::\n",
    "\n",
    ":::::"
   ]
  },
  {
   "cell_type": "markdown",
   "id": "65575678",
   "metadata": {
    "deletable": false,
    "nbgrader": {
     "cell_type": "markdown",
     "checksum": "c3b772599a38b18fd941e91893591538",
     "grade": true,
     "grade_id": "intellisense",
     "locked": false,
     "points": 0,
     "schema_version": 3,
     "solution": true,
     "task": false
    }
   },
   "source": [
    "YOUR ANSWER HERE"
   ]
  },
  {
   "cell_type": "markdown",
   "id": "bdcd013b",
   "metadata": {},
   "source": [
    "::::{note}\n",
    "\n",
    "We enabled IntelliSense for C++ by following these steps:\n",
    "\n",
    "- **Install a C++ language server extension**: Install an extension such as [clangd](https://marketplace.visualstudio.com/items?itemName=llvm-vs-code-extensions.vscode-clangd). This was done with `make setup`.\n",
    "- **Export the compilation commands**: Create the [](./build/compile_commands.json) file in the build directory. This was done with `make generate`.\n",
    "\n",
    "::::"
   ]
  },
  {
   "cell_type": "markdown",
   "id": "3981d34a",
   "metadata": {
    "editable": true,
    "slideshow": {
     "slide_type": ""
    }
   },
   "source": [
    "Follow the steps below to debug."
   ]
  },
  {
   "cell_type": "markdown",
   "id": "b5303112",
   "metadata": {},
   "source": [
    "1. Open source files:\n",
    "   - Navigate to the `Explorer` view by clicking on the folder icon on the sidebar or pressing <kbd>Ctrl/Cmd+Shift+E</kbd>.\n",
    "   - Find and open the `addmul.cpp` file."
   ]
  },
  {
   "cell_type": "markdown",
   "id": "88a6d447",
   "metadata": {},
   "source": [
    "2. Set a breakpoint:\n",
    "   - Click on the line number next to `int main() {` to set a breakpoint. A red dot will appear indicating the breakpoint.\n",
    "   - Navigate to the `Run and Debug` view by clicking on the play-with-a-bug icon on the sidebar or pressing <kbd>Ctrl/Cmd+Shift+D</kbd>\n",
    "   - Click on the green play button (or press F5) to start debugging. This will launch the program and pause execution at the breakpoint."
   ]
  },
  {
   "cell_type": "markdown",
   "id": "a6998018",
   "metadata": {},
   "source": [
    "3. Inspect variables:\n",
    "   - Use the `Variables` pane to view the current values of variables like `a`, `b`, and `c`.\n",
    "   - Observe how these values change as you step through the code."
   ]
  },
  {
   "cell_type": "markdown",
   "id": "18829e5a",
   "metadata": {},
   "source": [
    "4. Examine the call stack:\n",
    "   - The `Call Stack` pane shows the sequence of function calls leading to the current point in the program.\n",
    "   - This helps understand the flow of execution and how values are passed between functions."
   ]
  },
  {
   "cell_type": "markdown",
   "id": "017b458c",
   "metadata": {},
   "source": [
    "5. Watch expressions:\n",
    "   - Add expressions to the `Watch` pane (usually on the left side during debugging) to monitor specific calculations or function calls. E.g., watch the expression `\\nat mul(a, b, c)`. See the [manual for codelldb](https://github.com/vadimcn/codelldb/blob/master/MANUAL.md#expressions)."
   ]
  },
  {
   "cell_type": "markdown",
   "id": "53a01fdd",
   "metadata": {},
   "source": [
    "6. Step through the code:\n",
    "   - `Step Over`: Press <kbd>F10</kbd> to execute the next line of code without stepping into any function calls. E.g.,\n",
    "       - try step over until you reach the call to `mul(a, b, c)`;\n",
    "       - enter some non-zero integers in the terminal when prompted; and\n",
    "       - observe the `Variables` and `Watch` panes.\n",
    "   - `Step Into`: Press <kbd>F11</kbd> to step into the function call on the current line. This allows you to inspect the function's internal operations. E.g.,\n",
    "       - try stepping into the call of `mul(a, b, c)`; and\n",
    "       - stepping out of it.\n",
    "   - `Continue`: Press <kbd>F5</kbd> to continue running the program until the next breakpoint or the end of the program."
   ]
  },
  {
   "cell_type": "markdown",
   "id": "eafe2dc7",
   "metadata": {
    "editable": true,
    "slideshow": {
     "slide_type": ""
    }
   },
   "source": [
    "To rebuild the project for release instead of debugging:\n",
    "\n",
    "1. Access the Terminal by going to the menu and select `Terminal`>`New Terminal` or press <kbd>Ctrl+`</kbd> (backtick).\n",
    "2. Rebuild the project by running `make -e CMAKE_BUILD_TYPE=release`.\n",
    "3. Enter any integer when prompted by the application.\n",
    "\n",
    "Try running the debugger again to see that it does not stop at any breakpoints. You can set the `CMAKE_BUILD_TYPE=release` explicitly at the beginning of the [](Makefile).\n",
    "\n",
    "::::{literalinclude} Makefile\n",
    ":language: makefile\n",
    "::::"
   ]
  },
  {
   "cell_type": "markdown",
   "id": "15e49992",
   "metadata": {},
   "source": [
    "## Supplementary Notes"
   ]
  },
  {
   "cell_type": "markdown",
   "id": "c3ec6746",
   "metadata": {},
   "source": [
    "#### file permission string"
   ]
  },
  {
   "cell_type": "markdown",
   "id": "f1bea48d",
   "metadata": {},
   "source": [
    "In operating systems, the file permission string represents the read, write, and execute permissions of a file for the owner, group, and others."
   ]
  },
  {
   "cell_type": "code",
   "execution_count": null,
   "id": "ec4ccca6",
   "metadata": {
    "editable": true,
    "slideshow": {
     "slide_type": ""
    },
    "tags": [
     "skip-execution"
    ]
   },
   "outputs": [],
   "source": [
    "%%ai\n",
    "Explain the permission string -rwxr-xr-x."
   ]
  },
  {
   "cell_type": "markdown",
   "id": "76f997ea",
   "metadata": {},
   "source": [
    "#### shell command"
   ]
  },
  {
   "cell_type": "markdown",
   "id": "48ed3547",
   "metadata": {},
   "source": [
    "The [`%%bash` magic](https://ipython.readthedocs.io/en/stable/interactive/magics.html#cellmagic-bash) runs the cell content using a (bash) shell, which is a command-line interpreter for accessing the operating system's services."
   ]
  },
  {
   "cell_type": "code",
   "execution_count": null,
   "id": "e06cab68",
   "metadata": {
    "editable": true,
    "slideshow": {
     "slide_type": ""
    },
    "tags": [
     "skip-execution"
    ]
   },
   "outputs": [],
   "source": [
    "%%ai\n",
    "What is bash and why is it called a \"shell\"?"
   ]
  },
  {
   "cell_type": "code",
   "execution_count": null,
   "id": "f234035c",
   "metadata": {
    "editable": true,
    "slideshow": {
     "slide_type": ""
    },
    "tags": [
     "skip-execution"
    ]
   },
   "outputs": [],
   "source": [
    "%%ai\n",
    "What is the standard way to specify command-line options?"
   ]
  },
  {
   "cell_type": "markdown",
   "id": "d5f9899a",
   "metadata": {},
   "source": [
    "::::{seealso}\n",
    "\n",
    "- [A cheatsheet for bash](https://github.com/RehanSaeed/Bash-Cheat-Sheet)\n",
    "- [The POSIX style and its extensions/variants](https://stackoverflow.com/questions/10818443/short-long-options-with-option-argument-is-this-some-sort-of-convention)\n",
    "\n",
    "::::"
   ]
  },
  {
   "cell_type": "markdown",
   "id": "116a25c3",
   "metadata": {},
   "source": [
    "#### exit status code"
   ]
  },
  {
   "cell_type": "code",
   "execution_count": null,
   "id": "3d3e24d4",
   "metadata": {
    "editable": true,
    "slideshow": {
     "slide_type": ""
    },
    "tags": [
     "skip-execution"
    ]
   },
   "outputs": [],
   "source": [
    "%%ai\n",
    "Briefly list the exit codes for C++ programs."
   ]
  },
  {
   "cell_type": "code",
   "execution_count": null,
   "id": "be7f4d3c",
   "metadata": {
    "editable": true,
    "slideshow": {
     "slide_type": ""
    },
    "tags": [
     "skip-execution"
    ]
   },
   "outputs": [],
   "source": [
    "%%ai\n",
    "Is running `./private/hello` the same as running `cd private && ./hello` in bash?"
   ]
  },
  {
   "cell_type": "code",
   "execution_count": null,
   "id": "16f342a6",
   "metadata": {
    "editable": true,
    "slideshow": {
     "slide_type": ""
    },
    "tags": [
     "skip-execution"
    ]
   },
   "outputs": [],
   "source": [
    "%%ai\n",
    "Is running `./hello` the same as running `hello` in bash?"
   ]
  },
  {
   "cell_type": "markdown",
   "id": "402f1b5f",
   "metadata": {},
   "source": [
    "::::{seealso}\n",
    "\n",
    "- [Wikipedia](https://en.cppreference.com/w/cpp/utility/program/exit)\n",
    "\n",
    "::::"
   ]
  },
  {
   "cell_type": "markdown",
   "id": "8072d2d2",
   "metadata": {},
   "source": [
    "#### compiler configurations"
   ]
  },
  {
   "cell_type": "markdown",
   "id": "cbc00d20",
   "metadata": {},
   "source": [
    "The following commands use the flags \n",
    "- `-v` to output the detials of the compiler's configuration, and\n",
    "- `-fsyntax-only` to instruct the compiler to only check the syntax of the source code without generating any object code or executable."
   ]
  },
  {
   "cell_type": "code",
   "execution_count": null,
   "id": "96e685bc",
   "metadata": {},
   "outputs": [],
   "source": [
    "%%bash\n",
    "g++ -v -fsyntax-only ./private/hello.cpp"
   ]
  },
  {
   "cell_type": "code",
   "execution_count": null,
   "id": "6e84887e",
   "metadata": {},
   "outputs": [],
   "source": [
    "%%bash\n",
    "clang++ -v -fsyntax-only --stdlib=libc++ ./private/hello.cpp"
   ]
  },
  {
   "cell_type": "code",
   "execution_count": null,
   "id": "b1426312",
   "metadata": {},
   "outputs": [],
   "source": [
    "%%bash\n",
    "em++ -v -fsyntax-only --stdlib=libc++ ./private/hello.cpp"
   ]
  },
  {
   "cell_type": "markdown",
   "id": "ec65827f",
   "metadata": {},
   "source": [
    "#### header files"
   ]
  },
  {
   "cell_type": "markdown",
   "id": "218d48b4",
   "metadata": {},
   "source": [
    "A header file in C++ is a file with a `.h` or `.hpp` extension that contains declarations and definitions that can be shared across multiple source files."
   ]
  },
  {
   "cell_type": "code",
   "execution_count": null,
   "id": "3fd08050",
   "metadata": {
    "editable": true,
    "slideshow": {
     "slide_type": ""
    },
    "tags": [
     "skip-execution"
    ]
   },
   "outputs": [],
   "source": [
    "%%ai\n",
    "Why does C++ use header files? Are header files common in other programming languages?"
   ]
  },
  {
   "cell_type": "markdown",
   "id": "c48852e5",
   "metadata": {},
   "source": [
    "#### binary file"
   ]
  },
  {
   "cell_type": "markdown",
   "id": "84dfaab1",
   "metadata": {},
   "source": [
    "Hex editors such as [radare2](https://github.com/radareorg/radare2?tab=readme-ov-file#radare2-libre-reversing-framework-for-unix-geeks) can help us read and edit machine code."
   ]
  },
  {
   "cell_type": "code",
   "execution_count": null,
   "id": "2bdd1dd7",
   "metadata": {
    "editable": true,
    "slideshow": {
     "slide_type": ""
    },
    "tags": [
     "skip-execution"
    ]
   },
   "outputs": [],
   "source": [
    "%%ai\n",
    "Give a brief but concrete example how one can reverse engineer a software using a hex editor."
   ]
  },
  {
   "cell_type": "markdown",
   "id": "612400c0",
   "metadata": {},
   "source": [
    "#### dynamic library"
   ]
  },
  {
   "cell_type": "markdown",
   "id": "ee6ba54c",
   "metadata": {},
   "source": [
    "A dynamic library in C++ is a collection of functions and data that can be loaded and linked at runtime, allowing multiple programs to share the same code. The `lib` folder is commonly used to store these dynamic library files, such as `.so` files on Unix-like systems or `.dll` files on Windows."
   ]
  },
  {
   "cell_type": "markdown",
   "id": "4310f3a8",
   "metadata": {},
   "source": [
    "For instance, the standard library for `clang++` is:"
   ]
  },
  {
   "cell_type": "code",
   "execution_count": null,
   "id": "aa364cdf",
   "metadata": {},
   "outputs": [],
   "source": [
    "!ldconfig -p | grep libc++.so"
   ]
  },
  {
   "cell_type": "markdown",
   "id": "cf286843",
   "metadata": {},
   "source": [
    "The standard library for `g++` is:"
   ]
  },
  {
   "cell_type": "code",
   "execution_count": null,
   "id": "cff28b68",
   "metadata": {},
   "outputs": [],
   "source": [
    "!ldconfig -p | grep libstdc++"
   ]
  },
  {
   "cell_type": "markdown",
   "id": "e64d3f2b",
   "metadata": {},
   "source": [
    "#### static library"
   ]
  },
  {
   "cell_type": "markdown",
   "id": "493e83ba",
   "metadata": {},
   "source": [
    "A static library in C++ is a collection of object files combined into a single archive file (typically with a .a extension), which is included directly into the executable at compile time."
   ]
  },
  {
   "cell_type": "code",
   "execution_count": null,
   "id": "f2b60d48",
   "metadata": {
    "editable": true,
    "slideshow": {
     "slide_type": ""
    },
    "tags": [
     "skip-execution"
    ]
   },
   "outputs": [],
   "source": [
    "%%ai\n",
    "When is it preferrable to use a static library instead of a dynamic library, or \n",
    "the object files directly."
   ]
  }
 ],
 "metadata": {
  "jupytext": {
   "default_lexer": "ipython3"
  },
  "kernelspec": {
   "display_name": "Python 3 (ipykernel)",
   "language": "python",
   "name": "python3"
  }
 },
 "nbformat": 4,
 "nbformat_minor": 5
}
