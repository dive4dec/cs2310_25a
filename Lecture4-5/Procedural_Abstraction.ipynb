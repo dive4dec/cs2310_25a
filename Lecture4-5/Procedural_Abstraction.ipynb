{
 "cells": [
  {
   "cell_type": "markdown",
   "id": "41de39aa",
   "metadata": {
    "editable": true,
    "slideshow": {
     "slide_type": ""
    }
   },
   "source": [
    "---\n",
    "title: Procedural Abstraction\n",
    "skip_execution: true\n",
    "---"
   ]
  },
  {
   "cell_type": "code",
   "execution_count": null,
   "id": "9796bbe0",
   "metadata": {
    "editable": true,
    "slideshow": {
     "slide_type": ""
    }
   },
   "outputs": [],
   "source": [
    "from __init__ import *\n",
    "!mkdir -p private"
   ]
  },
  {
   "cell_type": "code",
   "execution_count": null,
   "id": "57c463c1",
   "metadata": {
    "editable": true,
    "slideshow": {
     "slide_type": ""
    },
    "tags": [
     "skip-execution"
    ]
   },
   "outputs": [],
   "source": [
    "if not input('Load JupyterAI? [Y/n]').lower()=='n':\n",
    "    %reload_ext jupyter_ai"
   ]
  },
  {
   "cell_type": "markdown",
   "id": "8975e854",
   "metadata": {
    "editable": true,
    "slideshow": {
     "slide_type": ""
    }
   },
   "source": [
    "## Motivation"
   ]
  },
  {
   "cell_type": "markdown",
   "id": "a86438b7",
   "metadata": {
    "editable": true,
    "slideshow": {
     "slide_type": ""
    }
   },
   "source": [
    "With imperative programming, we compose different programs to solve different problems by designing the flow of control. However, for problems that are closely related, we often end up with [duplicate code](https://en.wikipedia.org/wiki/Duplicate_code), making it difficult to maintain and extend the solutions over time. [Procedural abstraction](https://en.wikipedia.org/wiki/Procedural_programming) addresses this challenge by allowing us to define a piece of code that can be [reused](https://en.wikipedia.org/wiki/Recursion) across different programs to solve similar problems."
   ]
  },
  {
   "cell_type": "markdown",
   "id": "190ba5aa",
   "metadata": {
    "editable": true,
    "slideshow": {
     "slide_type": ""
    }
   },
   "source": [
    "To motivate the concept, recall the program for computing the GCD in [Lecture 3](../Lecture3/Iterative_Programming.ipynb#code_gcd3):\n",
    "\n",
    "\n",
    "```cpp\n",
    "int c;\n",
    "while (a) {\n",
    "    b = b % a;\n",
    "    c = b;\n",
    "    b = a;\n",
    "    a = c;\n",
    "}\n",
    "if (b<0) b=-b;\n",
    "```"
   ]
  },
  {
   "cell_type": "markdown",
   "id": "dac6c6d7",
   "metadata": {
    "editable": true,
    "slideshow": {
     "slide_type": ""
    }
   },
   "source": [
    "Note that a local variable `c` is used to swap the values of `a` and `b`:\n",
    "\n",
    "```cpp\n",
    "int c;\n",
    "...\n",
    "    c = b;\n",
    "    b = a;\n",
    "    a = c;\n",
    "...\n",
    "```\n",
    "\n",
    "This can be simplified into one line using the function [`std::swap`](https://en.cppreference.com/w/cpp/algorithm/swap.html) from `<utility>`:"
   ]
  },
  {
   "cell_type": "code",
   "execution_count": null,
   "id": "2390f95d",
   "metadata": {
    "editable": true,
    "slideshow": {
     "slide_type": ""
    }
   },
   "outputs": [],
   "source": [
    "%%cpp\n",
    "int a=2*3*4, b=3*4*5; // input\n",
    "\n",
    "cout << format(\"gcd({}, {})=\", a, b);\n",
    "while (a) {\n",
    "    b = b % a;\n",
    "    swap(a, b);   // swap the values of a and b  \n",
    "}\n",
    "if (b<0) b=-b;\n",
    "cout << b << \"\\n\"; // final answer"
   ]
  },
  {
   "cell_type": "markdown",
   "id": "0f8a147f",
   "metadata": {
    "editable": true,
    "slideshow": {
     "slide_type": ""
    }
   },
   "source": [
    "::::{note}\n",
    "\n",
    "Much like how a driver can operate a car without knowing how it’s built, programmers can write powerful programs by reusing well-designed procedures written by others, without understanding their internal implementations.\n",
    "\n",
    "::::"
   ]
  },
  {
   "cell_type": "markdown",
   "id": "1ceb3887",
   "metadata": {
    "editable": true,
    "slideshow": {
     "slide_type": ""
    }
   },
   "source": [
    "We can further simplify the program into nearly one line by [defining a function](https://en.cppreference.com/w/c/language/function_definition.html):"
   ]
  },
  {
   "cell_type": "code",
   "execution_count": null,
   "id": "d5f1b41b",
   "metadata": {
    "editable": true,
    "slideshow": {
     "slide_type": ""
    }
   },
   "outputs": [],
   "source": [
    "%%cpp\n",
    "int gcd(int a, int b) {\n",
    "    return a? gcd(b%a, a): (b>0? b: -b);  // tail recursion\n",
    "}  // function body must be a compound statement, i.e., enclosed by braces {}."
   ]
  },
  {
   "cell_type": "markdown",
   "id": "eb824037",
   "metadata": {
    "editable": true,
    "slideshow": {
     "slide_type": ""
    }
   },
   "source": [
    "To use the function, we *call/invoke* it with two integers, whose values are passed to the parameters `a` and `b` in the [function parameter scope](https://en.cppreference.com/w/cpp/language/scope.html#Function_parameter_scope):"
   ]
  },
  {
   "cell_type": "code",
   "execution_count": null,
   "id": "6ae4ca2e",
   "metadata": {
    "editable": true,
    "slideshow": {
     "slide_type": ""
    }
   },
   "outputs": [],
   "source": [
    "%%cpp\n",
    "int a=2*3*4, b=3*4*5; // input\n",
    "\n",
    "cout << format(\"gcd({}, {})={}\\n\", a, b, gcd(a, b));  // function invocation"
   ]
  },
  {
   "cell_type": "markdown",
   "id": "85654401",
   "metadata": {
    "editable": true,
    "slideshow": {
     "slide_type": ""
    }
   },
   "source": [
    "The function can even be used by a different programming language! Play with it using the `ipywidgets` in Python below:"
   ]
  },
  {
   "cell_type": "code",
   "execution_count": null,
   "id": "827f0aae",
   "metadata": {
    "editable": true,
    "slideshow": {
     "slide_type": ""
    }
   },
   "outputs": [],
   "source": [
    "@interact(a=\"2*3*4\", b=\"3*4*5\")\n",
    "def print_gcd(a, b):\n",
    "    print(\"gcd({}, {})={}\".format(a:=eval(a), b:=eval(b), ROOT.gcd(a, b)))"
   ]
  },
  {
   "cell_type": "markdown",
   "id": "a30f13fb",
   "metadata": {
    "editable": true,
    "slideshow": {
     "slide_type": ""
    }
   },
   "source": [
    "For instance, change the input box for `a` to `2*3*4*5` to see the new GCD value instantly."
   ]
  },
  {
   "cell_type": "markdown",
   "id": "fb4c0066",
   "metadata": {
    "editable": true,
    "slideshow": {
     "slide_type": ""
    }
   },
   "source": [
    "::::{seealso} Functional programming\n",
    "\n",
    "The `gcd` function is an example of recursion: it calls itself with `gcd(b % a, a)`, effectively swapping the values and computing the modulo operation in one step. This is one of the techniques in a programming paradigm called [functional programming](https://en.wikipedia.org/wiki/Functional_programming), which focuses on declaring what should be done, rather than how to do it, unlike imperative programming. The approach reuses code to an extreme that a function can even reuse itself!\n",
    "\n",
    "::::"
   ]
  },
  {
   "cell_type": "markdown",
   "id": "55ca2eb5",
   "metadata": {
    "editable": true,
    "slideshow": {
     "slide_type": ""
    }
   },
   "source": [
    "## Code Reuse"
   ]
  },
  {
   "cell_type": "markdown",
   "id": "63898520",
   "metadata": {
    "editable": true,
    "slideshow": {
     "slide_type": ""
    }
   },
   "source": [
    "### How to reuse code?"
   ]
  },
  {
   "cell_type": "markdown",
   "id": "fc63257c",
   "metadata": {
    "editable": true,
    "slideshow": {
     "slide_type": ""
    }
   },
   "source": [
    "Recall the program for computing the inverse square root in [Lecture 3](../Lecture3/Iterative_Programming.ipynb#code_fast_inv_sqrt3):\n",
    "\n",
    "\n",
    "```cpp\n",
    "constexpr auto threehalfs = 1.5, rel_tol = 1e-9;\n",
    "const auto x2 = x*0.5;\n",
    "double x_, gap, abs_x, abs_x_;\n",
    "do {\n",
    "    y = y * (threehalfs - (x2 * y * y));\n",
    "    x_=1/y/y; gap=(x>x_)?(x-x_):(x_-x); abs_x=(x>0?x:-x); abs_x_=(x_>0?x_:-x_);\n",
    "} while (y<0 || x!=x && gap > rel_tol*(abs_x>abs_x_?abs_x:abs_x_));\n",
    "```"
   ]
  },
  {
   "cell_type": "markdown",
   "id": "288df775",
   "metadata": {
    "editable": true,
    "slideshow": {
     "slide_type": ""
    }
   },
   "source": [
    "The code contains long declarations with similar use of conditional operations:\n",
    "\n",
    "```cpp\n",
    "...\n",
    "..., gap, abs_x, abs_x_;\n",
    "do {\n",
    "    ...\n",
    "    ... gap=(x>x_)?(x-x_):(x_-x); abs_x=(x>0?x:-x); abs_x_=(x_>0?x_:-x_);\n",
    "} while (...);\n",
    "```"
   ]
  },
  {
   "cell_type": "markdown",
   "id": "5cf41451",
   "metadata": {
    "editable": true,
    "slideshow": {
     "slide_type": ""
    }
   },
   "source": [
    "::::{caution} [DRY (don't repeat yourself)](https://en.wikipedia.org/wiki/Don%27t_repeat_yourself)\n",
    "\n",
    "Duplicate codes are hard to maintain because an update to a piece code need to be repeated on all its duplicates. \n",
    "\n",
    "::::"
   ]
  },
  {
   "cell_type": "markdown",
   "id": "e61d19a2",
   "metadata": {
    "editable": true,
    "slideshow": {
     "slide_type": ""
    }
   },
   "source": [
    "We can improve the program using [`std::fabs`](https://en.cppreference.com/w/cpp/numeric/math/fabs.html) from `<cmath>` and [`std::max`](https://en.cppreference.com/w/cpp/algorithm/max.html) from `<algorithm>`:"
   ]
  },
  {
   "cell_type": "code",
   "execution_count": null,
   "id": "0eb3b11d",
   "metadata": {
    "editable": true,
    "slideshow": {
     "slide_type": ""
    }
   },
   "outputs": [],
   "source": [
    "%%cpp\n",
    "double x = 10./3;  // input\n",
    "\n",
    "auto i = *(int64_t *) &x;\n",
    "i = 0x5fe6eb50c7b537a9 - (i >> 1);\n",
    "auto y = *(double *) &i;\n",
    "\n",
    "constexpr auto threehalfs = 1.5, rel_tol=1e-9;\n",
    "const auto x2 = x*0.5;\n",
    "double x_;\n",
    "do y = y * (threehalfs - (x2 * y * y));\n",
    "while (y<0 || (x_=1/y/y)!=x && fabs(x-x_) > rel_tol*max(fabs(x),fabs(x_))); // <cmath> and <algorithms>\n",
    "cout << format(\"rsqrt({})={}.\\n\", x, y); // final answer"
   ]
  },
  {
   "cell_type": "markdown",
   "id": "199e7870",
   "metadata": {
    "editable": true,
    "slideshow": {
     "slide_type": ""
    }
   },
   "source": [
    "The code is more readable and easier to maintain."
   ]
  },
  {
   "cell_type": "markdown",
   "id": "5fd3566c",
   "metadata": {
    "editable": true,
    "slideshow": {
     "slide_type": ""
    }
   },
   "source": [
    "Why not package the inverse square root as a function for others to use?"
   ]
  },
  {
   "cell_type": "code",
   "execution_count": null,
   "id": "6773b778",
   "metadata": {
    "editable": true,
    "slideshow": {
     "slide_type": ""
    }
   },
   "outputs": [],
   "source": [
    "%%cpp\n",
    "double rsqrt_fast(const double x) {\n",
    "    auto i = *(uint64_t *) &x;\n",
    "    i = 0x5fe6eb50c7b537a9 - (i >> 1);\n",
    "    auto y = *(double *) &i;\n",
    "\n",
    "    static constexpr auto rel_tol=1e-9;\n",
    "    const auto x2 = x*0.5;\n",
    "    double x_;\n",
    "    do {\n",
    "        static constexpr auto threehalfs = 1.5;\n",
    "        y = y * (threehalfs - (x2 * y * y));\n",
    "    } while ( // threehalfs is not in scope but rel_tol is\n",
    "        y<0 || (x_=1/y/y)!=x && fabs(x-x_) > rel_tol*max(fabs(x),fabs(x_))); // <cmath>, <algorithm>\n",
    "    return y;                    \n",
    "}"
   ]
  },
  {
   "cell_type": "code",
   "execution_count": null,
   "id": "caa50ead",
   "metadata": {
    "editable": true,
    "slideshow": {
     "slide_type": ""
    }
   },
   "outputs": [],
   "source": [
    "@interact(x=\"10/3\")\n",
    "def print_rsqrt_fast(x):\n",
    "    print(\"rsqrt({})={}\".format(x:=eval(x), ROOT.rsqrt_fast(x)))"
   ]
  },
  {
   "cell_type": "markdown",
   "id": "2181e084",
   "metadata": {
    "editable": true,
    "slideshow": {
     "slide_type": ""
    }
   },
   "source": [
    "::::{tip} Knowledge is power! \n",
    "\n",
    "The more you know about the functions available, the faster you can code without reinventing the wheel.\n",
    "\n",
    "::::"
   ]
  },
  {
   "cell_type": "markdown",
   "id": "a73c7421",
   "metadata": {},
   "source": [
    "[\\<cmath\\>](https://en.cppreference.com/w/cpp/header/cmath.html) corresponds to a standard library header file that specifies a set of common mathematical functions or constants defined in the standard library."
   ]
  },
  {
   "cell_type": "code",
   "execution_count": null,
   "id": "9732f076",
   "metadata": {
    "editable": true,
    "slideshow": {
     "slide_type": ""
    }
   },
   "outputs": [],
   "source": [
    "%%cpp\n",
    "atan(tan(M_PI/4))*4  // arctan, tan, and pi"
   ]
  },
  {
   "cell_type": "code",
   "execution_count": null,
   "id": "895be424",
   "metadata": {
    "editable": true,
    "slideshow": {
     "slide_type": ""
    }
   },
   "outputs": [],
   "source": [
    "%%cpp\n",
    "exp(log(M_E))            // exponential, natural logarithm, and natural number"
   ]
  },
  {
   "cell_type": "code",
   "execution_count": null,
   "id": "3d0692a5",
   "metadata": {
    "editable": true,
    "slideshow": {
     "slide_type": ""
    }
   },
   "outputs": [],
   "source": [
    "%%cpp\n",
    "sqrt(pow(2, 2))          // square root and power"
   ]
  },
  {
   "cell_type": "markdown",
   "id": "502ebfc4",
   "metadata": {
    "editable": true,
    "slideshow": {
     "slide_type": ""
    }
   },
   "source": [
    "Does it click? We can squeeze the inverse square root function into nearly one line using the [`std::sqrt`](https://en.cppreference.com/w/cpp/numeric/math/sqrt) function from `<cmath>`:"
   ]
  },
  {
   "cell_type": "code",
   "execution_count": null,
   "id": "ae2ec1b0",
   "metadata": {
    "editable": true,
    "slideshow": {
     "slide_type": ""
    }
   },
   "outputs": [],
   "source": [
    "%%cpp\n",
    "double rsqrt(const double x) {\n",
    "    return 1./sqrt(x);     // <cmath>\n",
    "}"
   ]
  },
  {
   "cell_type": "code",
   "execution_count": null,
   "id": "0565be60",
   "metadata": {
    "editable": true,
    "slideshow": {
     "slide_type": ""
    }
   },
   "outputs": [],
   "source": [
    "@interact(x=\"10/3\")\n",
    "def print_rsqrt(x):\n",
    "    print(\"rsqrt({})={}\".format(x:=eval(x), ROOT.rsqrt(x)))"
   ]
  },
  {
   "cell_type": "markdown",
   "id": "37092c54",
   "metadata": {},
   "source": [
    "::::{caution}\n",
    "\n",
    "Constants such as `M_PI` from `<cmath>` is defined as a [macro](https://en.cppreference.com/w/cpp/preprocessor/replace), which is not part of the C++ standard and is not type-safe as the macro definition does not carry any type information. Different platform may have their own implementations. For [Visual C++](https://learn.microsoft.com/en-us/cpp/c-runtime-library/math-constants?view=msvc-170), one would need `#define _USE_MATH_DEFINES` before `#include <cmath>` to use `M_PI`.\n",
    "\n",
    "::::"
   ]
  },
  {
   "cell_type": "markdown",
   "id": "d63a77f3",
   "metadata": {},
   "source": [
    "To provide portable and type-safe constants, C++20 introduced [`<numbers>`](https://en.cppreference.com/w/cpp/numeric/constants.html), which provide different constants in different types:"
   ]
  },
  {
   "cell_type": "code",
   "execution_count": null,
   "id": "993351d7",
   "metadata": {},
   "outputs": [],
   "source": [
    "%%cpp\n",
    "numbers::pi"
   ]
  },
  {
   "cell_type": "code",
   "execution_count": null,
   "id": "4738316c",
   "metadata": {},
   "outputs": [],
   "source": [
    "%%cpp\n",
    "numbers::pi_v<float>"
   ]
  },
  {
   "cell_type": "markdown",
   "id": "9736e773",
   "metadata": {
    "editable": true,
    "slideshow": {
     "slide_type": ""
    }
   },
   "source": [
    "The standard library also has other headers listed [here](https://en.cppreference.com/w/cpp/header.html) such as those we have used so far:\n",
    "\n",
    "- [\\<algorithm\\>](https://en.cppreference.com/w/cpp/algorithm.html) for operating on ranges of elements,\n",
    "- [\\<utility\\>](https://en.cppreference.com/w/cpp/utility.html) for language support and other general purposes,\n",
    "- `<iostream>`, `<format>`, `<limits>`, `<cstring>`, `<cstdint>`, and `<cstdlib>`."
   ]
  },
  {
   "cell_type": "markdown",
   "id": "6f4b495b",
   "metadata": {
    "editable": true,
    "slideshow": {
     "slide_type": ""
    }
   },
   "source": [
    "::::{caution} Scope `std`\n",
    "\n",
    "To use functions from `<cmath>` in a C++ source file, remember to include the header with `#include <cmath>` and use the scope `std`, even though many implementations also make an unqualified version of `sqrt` available for backward compatibility with C.\n",
    "\n",
    "::::"
   ]
  },
  {
   "cell_type": "markdown",
   "id": "a622d21e",
   "metadata": {
    "editable": true,
    "slideshow": {
     "slide_type": ""
    }
   },
   "source": [
    "### When to write your own code?"
   ]
  },
  {
   "cell_type": "markdown",
   "id": "9f38d4bf",
   "metadata": {
    "editable": true,
    "slideshow": {
     "slide_type": ""
    }
   },
   "source": [
    "As a student learning programming, shouldn't you write your own code all the time?"
   ]
  },
  {
   "cell_type": "code",
   "execution_count": null,
   "id": "66f100b4",
   "metadata": {
    "editable": true,
    "slideshow": {
     "slide_type": ""
    },
    "tags": [
     "skip-execution"
    ]
   },
   "outputs": [],
   "source": [
    "%%ai\n",
    "Explain briefly the benefit of reusing code from standard libraries instead of\n",
    "writing your own?"
   ]
  },
  {
   "cell_type": "markdown",
   "id": "d1da1128",
   "metadata": {
    "editable": true,
    "slideshow": {
     "slide_type": ""
    }
   },
   "source": [
    "Other than being short, the implementation of `rsqrt` using `sqrt` actually gives better answers, especially when the argument is very large or very close to 0."
   ]
  },
  {
   "cell_type": "markdown",
   "id": "0803cbdd",
   "metadata": {
    "editable": true,
    "slideshow": {
     "slide_type": ""
    }
   },
   "source": [
    "For instance, we expect $\\frac1{\\sqrt{0}}=\\infty$:"
   ]
  },
  {
   "cell_type": "code",
   "execution_count": null,
   "id": "e9a7866a",
   "metadata": {
    "editable": true,
    "slideshow": {
     "slide_type": ""
    }
   },
   "outputs": [],
   "source": [
    "%%cpp\n",
    "rsqrt(0)    // perfect!"
   ]
  },
  {
   "cell_type": "code",
   "execution_count": null,
   "id": "79d6d6fc",
   "metadata": {
    "editable": true,
    "slideshow": {
     "slide_type": ""
    }
   },
   "outputs": [],
   "source": [
    "%%cpp\n",
    "rsqrt_fast(0)          // not large enough... Why?"
   ]
  },
  {
   "cell_type": "markdown",
   "id": "c7689d52",
   "metadata": {
    "editable": true,
    "slideshow": {
     "slide_type": ""
    }
   },
   "source": [
    "On the opposite extreme, we expect $\\frac1{\\sqrt{\\infty}}=0$:"
   ]
  },
  {
   "cell_type": "code",
   "execution_count": null,
   "id": "6f689639",
   "metadata": {
    "editable": true,
    "slideshow": {
     "slide_type": ""
    }
   },
   "outputs": [],
   "source": [
    "%%cpp\n",
    "rsqrt(1./0) // perfect!"
   ]
  },
  {
   "cell_type": "code",
   "execution_count": null,
   "id": "af790ba8",
   "metadata": {
    "editable": true,
    "slideshow": {
     "slide_type": ""
    }
   },
   "outputs": [],
   "source": [
    "%%cpp\n",
    "rsqrt_fast(1./0)       // totally off... Why?"
   ]
  },
  {
   "cell_type": "markdown",
   "id": "fca47b85",
   "metadata": {
    "editable": true,
    "slideshow": {
     "slide_type": ""
    }
   },
   "source": [
    "`std::sqrt` is also fast because it can be compiled to use the hardware accelerated `SQRTSD` instruction provided by the [SIMD instruction sets](https://en.wikipedia.org/wiki/X86_SIMD_instruction_listings)."
   ]
  },
  {
   "cell_type": "markdown",
   "id": "0782052a",
   "metadata": {
    "editable": true,
    "slideshow": {
     "slide_type": ""
    }
   },
   "source": [
    "The following cells generate the source code and compile it to use the `SQRTSD` instruction with the `-O2 -ffast-math` compiler options:"
   ]
  },
  {
   "cell_type": "code",
   "execution_count": null,
   "id": "4e9a706a",
   "metadata": {
    "editable": true,
    "slideshow": {
     "slide_type": ""
    }
   },
   "outputs": [],
   "source": [
    "%%writefile private/rsqrt.cpp\n",
    "#include <cmath>\n",
    "\n",
    "double rsqrt(const double x) {\n",
    "    return 1./std::sqrt(x);\n",
    "}"
   ]
  },
  {
   "cell_type": "code",
   "execution_count": null,
   "id": "f81ac116",
   "metadata": {
    "editable": true,
    "slideshow": {
     "slide_type": ""
    }
   },
   "outputs": [],
   "source": [
    "!clang++ --stdlib=libc++ -O2 -ffast-math -S private/rsqrt.cpp -o private/rsqrt.s"
   ]
  },
  {
   "cell_type": "markdown",
   "id": "5f830dc3",
   "metadata": {
    "editable": true,
    "slideshow": {
     "slide_type": ""
    }
   },
   "source": [
    "::::{exercise}\n",
    ":label: ex:fast-math\n",
    "\n",
    "Locate the line that call the hardware accelerated square root function in the generated assembly code [](./private/rsqrt.s).\n",
    "\n",
    "::::"
   ]
  },
  {
   "cell_type": "markdown",
   "id": "4b85d172",
   "metadata": {},
   "source": [
    ":::::{solution} ex:fast-math\n",
    ":class: dropdown\n",
    "\n",
    "::::{code} assembly\n",
    ":label: code_sqrtsd\n",
    ":caption: Assembly code `rsqrt.s` showing `std::sqrt` can be compiled to use the hardware accelerated `SQRTSD` instruction provided by the [SIMD instruction sets](https://en.wikipedia.org/wiki/X86_SIMD_instruction_listings).\n",
    ":linenos:\n",
    ":emphasize-lines: 13\n",
    "\n",
    "    \t.file\t\"rsqrt.cpp\"\n",
    "    \t.section\t.rodata.cst8,\"aM\",@progbits,8\n",
    "    \t.p2align\t3, 0x0                          # -- Begin function _Z11rsqrt_cmathd\n",
    "    .LCPI0_0:\n",
    "    \t.quad\t0x3ff0000000000000              # double 1\n",
    "    \t.text\n",
    "    \t.globl\t_Z11rsqrt_cmathd\n",
    "    \t.p2align\t4\n",
    "    \t.type\t_Z11rsqrt_cmathd,@function\n",
    "    _Z11rsqrt_cmathd:                       # @_Z11rsqrt_cmathd\n",
    "    \t.cfi_startproc\n",
    "    # %bb.0:\n",
    "    \tsqrtsd\t%xmm0, %xmm1\n",
    "    \tmovsd\t.LCPI0_0(%rip), %xmm0           # xmm0 = [1.0E+0,0.0E+0]\n",
    "    \tdivsd\t%xmm1, %xmm0\n",
    "    \tretq\n",
    "    .Lfunc_end0:\n",
    "    \t.size\t_Z11rsqrt_cmathd, .Lfunc_end0-_Z11rsqrt_cmathd\n",
    "    \t.cfi_endproc\n",
    "                                            # -- End function\n",
    "    \t.ident\t\"Ubuntu clang version 20.1.7 (++20250612073421+199e02a36433-1~exp1~20250612193439.130)\"\n",
    "    \t.section\t\".note.GNU-stack\",\"\",@progbits\n",
    "    \t.addrsig\n",
    "\n",
    "::::\n",
    "\n",
    ":::::"
   ]
  },
  {
   "cell_type": "markdown",
   "id": "8dd00e71",
   "metadata": {
    "editable": true,
    "slideshow": {
     "slide_type": ""
    }
   },
   "source": [
    "## Abstraction"
   ]
  },
  {
   "cell_type": "markdown",
   "id": "e7c487ee",
   "metadata": {
    "editable": true,
    "slideshow": {
     "slide_type": ""
    }
   },
   "source": [
    "### Callable"
   ]
  },
  {
   "cell_type": "markdown",
   "id": "aa1c9b19",
   "metadata": {
    "editable": true,
    "slideshow": {
     "slide_type": ""
    }
   },
   "source": [
    "Procedural abstraction allows code reuse by hiding implementation details and exposing input parameters.\n",
    "A [*callable*](https://en.cppreference.com/w/cpp/named_req/Callable) is the entity that realizes it:\n",
    "> It is a piece of code that can be invoked with different arguments passed to the input parameters. \n",
    "\n",
    "In C++, functions are technically only one type of callables."
   ]
  },
  {
   "cell_type": "markdown",
   "id": "9f2a21c3",
   "metadata": {
    "editable": true,
    "slideshow": {
     "slide_type": ""
    }
   },
   "source": [
    "The following defines the simpest callable, which does nothing other than using three different kinds of brackets:"
   ]
  },
  {
   "cell_type": "code",
   "execution_count": null,
   "id": "3170089f",
   "metadata": {
    "editable": true,
    "slideshow": {
     "slide_type": ""
    }
   },
   "outputs": [],
   "source": [
    "%%cpp\n",
    "[](){}            // the simplest function"
   ]
  },
  {
   "cell_type": "markdown",
   "id": "b4a6a205",
   "metadata": {
    "editable": true,
    "slideshow": {
     "slide_type": ""
    }
   },
   "source": [
    "This is called a [lambda expression](https://en.cppreference.com/w/cpp/language/lambda.html), which can be invoked by appending an empty argument list `()`:"
   ]
  },
  {
   "cell_type": "code",
   "execution_count": null,
   "id": "056cf8ec",
   "metadata": {
    "editable": true,
    "slideshow": {
     "slide_type": ""
    }
   },
   "outputs": [],
   "source": [
    "%%cpp\n",
    "[](){}()          // the simplest function call that does nothing"
   ]
  },
  {
   "cell_type": "markdown",
   "id": "a0c6c612",
   "metadata": {
    "editable": true,
    "slideshow": {
     "slide_type": ""
    }
   },
   "source": [
    "Alternatively, the callable can be [defined as a function](https://en.cppreference.com/w/c/language/function_definition.html) with the name `do_nothing`:"
   ]
  },
  {
   "cell_type": "code",
   "execution_count": null,
   "id": "2ef0a801",
   "metadata": {
    "editable": true,
    "slideshow": {
     "slide_type": ""
    }
   },
   "outputs": [],
   "source": [
    "%%cpp\n",
    "void do_nothing() {}     // the simplest named function\n",
    "do_nothing()             // the simplest function call by the function name"
   ]
  },
  {
   "cell_type": "markdown",
   "id": "8cc0875e",
   "metadata": {
    "editable": true,
    "slideshow": {
     "slide_type": ""
    }
   },
   "source": [
    "::::{caution} Defining functions in Jupyter notebooks\n",
    "\n",
    "Due to [this issue](https://github.com/jupyter-xeus/xeus-cling/issues/40) with interpreting C++ functions in Jupyter notebook, we have to define a function in a separate cell. \n",
    "\n",
    "::::"
   ]
  },
  {
   "cell_type": "markdown",
   "id": "9881e495",
   "metadata": {
    "editable": true,
    "slideshow": {
     "slide_type": ""
    }
   },
   "source": [
    ":::::{seealso} Why the name `lambda`?\n",
    ":class: dropdown\n",
    "\n",
    "The name `lambda` originates from [$\\lambda$-calculus](https://en.wikipedia.org/wiki/Lambda_calculus), which is a formal system for computation introduced by Alonzo Church in 1930s. For more details, see the following video made with Manim:\n",
    "\n",
    "::::{card}\n",
    ":header: Programming with Math | The Lambda Calculus\n",
    ":footer: [open in new tab](https://www.youtube.com/embed/ViPNHMSUcog?si=KJxEIQx949OeFx9H)\n",
    "\n",
    ":::{iframe} https://www.youtube.com/embed/ViPNHMSUcog?si=KJxEIQx949OeFx9H\n",
    ":width: 100%\n",
    ":::\n",
    "::::\n",
    "\n",
    ":::::"
   ]
  },
  {
   "cell_type": "markdown",
   "id": "0c45e213",
   "metadata": {
    "editable": true,
    "slideshow": {
     "slide_type": ""
    }
   },
   "source": [
    "A lambda expression is also known as an anonymous function, even though it is not regarded as a function according to [`<type_traits>`](https://en.cppreference.com/w/cpp/header/type_traits.html) for meta-programming, i.e., programming programming:"
   ]
  },
  {
   "cell_type": "code",
   "execution_count": null,
   "id": "b68b1c71",
   "metadata": {
    "editable": true,
    "slideshow": {
     "slide_type": ""
    }
   },
   "outputs": [],
   "source": [
    "%%cpp\n",
    "!is_function_v<decltype([](){})> && is_invocable_v<decltype([](){})> // from <type_traits>"
   ]
  },
  {
   "cell_type": "code",
   "execution_count": null,
   "id": "a31e2970",
   "metadata": {
    "editable": true,
    "slideshow": {
     "slide_type": ""
    }
   },
   "outputs": [],
   "source": [
    "%%cpp\n",
    "is_function_v<decltype(do_nothing)>"
   ]
  },
  {
   "cell_type": "markdown",
   "id": "6423a4e1",
   "metadata": {
    "editable": true,
    "slideshow": {
     "slide_type": ""
    }
   },
   "source": [
    "As shown below, an anonymous function can actually be named by assigning it to a variable. It may be better called a callable literal literally!"
   ]
  },
  {
   "cell_type": "code",
   "execution_count": null,
   "id": "69f6e46a",
   "metadata": {
    "editable": true,
    "slideshow": {
     "slide_type": ""
    }
   },
   "outputs": [],
   "source": [
    "%%cpp\n",
    "std::function<void()> simplest_callable = [](){};\n",
    "simplest_callable()"
   ]
  },
  {
   "cell_type": "markdown",
   "id": "58744938",
   "metadata": {
    "editable": true,
    "slideshow": {
     "slide_type": ""
    }
   },
   "source": [
    "[`std::function<void()>`](https://en.cppreference.com/w/cpp/utility/functional/function.html) from `<functional>` specifies the type for the callable:\n",
    "- [`void`](https://en.cppreference.com/w/cpp/language/types.html#void) is a type with an empty set of values.\n",
    "- `void()` is the signature of the callable `[](){}`:\n",
    "    - The callable returns nothing, or equivalently, has output type `void`, and\n",
    "    - it takes no arguments, i.e., has an empty parameter list `()`.\n",
    "\n",
    "While we cannot declare any variables with type void (why?), we can declare a pointer to void:"
   ]
  },
  {
   "cell_type": "code",
   "execution_count": null,
   "id": "9d983288",
   "metadata": {
    "editable": true,
    "slideshow": {
     "slide_type": ""
    }
   },
   "outputs": [],
   "source": [
    "%%cpp\n",
    "int a=1;\n",
    "void *addr=&a;\n",
    "cout << format(\"a={} @ {}\", a, addr);\n",
    "// *addr    // fails as addr is not meant for dereferencing"
   ]
  },
  {
   "cell_type": "markdown",
   "id": "e9955e9b",
   "metadata": {
    "editable": true,
    "slideshow": {
     "slide_type": ""
    }
   },
   "source": [
    "To return a value, we can use a [return statement](https://en.cppreference.com/w/cpp/language/return.html) in the compound statement at the end:"
   ]
  },
  {
   "cell_type": "code",
   "execution_count": null,
   "id": "080f7bf7",
   "metadata": {
    "editable": true,
    "slideshow": {
     "slide_type": ""
    }
   },
   "outputs": [],
   "source": [
    "%%cpp\n",
    "[]() {\n",
    "    return 0;     // return statement\n",
    "}\n",
    "()                // called with no arguments"
   ]
  },
  {
   "cell_type": "code",
   "execution_count": null,
   "id": "a42cd987",
   "metadata": {
    "editable": true,
    "slideshow": {
     "slide_type": ""
    }
   },
   "outputs": [],
   "source": [
    "%%cpp\n",
    "int zero() { return 0; }\n",
    "zero()"
   ]
  },
  {
   "cell_type": "markdown",
   "id": "8ffbae60",
   "metadata": {
    "editable": true,
    "slideshow": {
     "slide_type": ""
    }
   },
   "source": [
    "Parameters can be specified before the body in parentheses:"
   ]
  },
  {
   "cell_type": "code",
   "execution_count": null,
   "id": "d182cf59",
   "metadata": {
    "editable": true,
    "slideshow": {
     "slide_type": ""
    }
   },
   "outputs": [],
   "source": [
    "%%cpp\n",
    "[](const int x){     // one parameter\n",
    "    return x>0 ? x : -x;\n",
    "}\n",
    "(-1.f)               // one argument passed by copy to x"
   ]
  },
  {
   "cell_type": "code",
   "execution_count": null,
   "id": "7fe52ae1",
   "metadata": {
    "editable": true,
    "slideshow": {
     "slide_type": ""
    }
   },
   "outputs": [],
   "source": [
    "%%cpp\n",
    "double absolute(const double x) {\n",
    "    return x>0 ? x : -x;\n",
    "}\n",
    "absolute(-1.f)"
   ]
  },
  {
   "cell_type": "code",
   "execution_count": null,
   "id": "8ad5181a",
   "metadata": {
    "editable": true,
    "slideshow": {
     "slide_type": ""
    },
    "tags": [
     "skip-execution"
    ]
   },
   "outputs": [],
   "source": [
    "%%ai\n",
    "Explain briefly why it is a good practice to declare the argument `x` as\n",
    "`const` if its value is not modified within the function body."
   ]
  },
  {
   "cell_type": "markdown",
   "id": "8f6b9abf",
   "metadata": {
    "editable": true,
    "slideshow": {
     "slide_type": ""
    }
   },
   "source": [
    "A callable can have multiple parameters/arguments separated by commas:"
   ]
  },
  {
   "cell_type": "code",
   "execution_count": null,
   "id": "267dfcd5",
   "metadata": {
    "editable": true,
    "slideshow": {
     "slide_type": ""
    }
   },
   "outputs": [],
   "source": [
    "%%cpp\n",
    "[](const auto a, const auto b){ // takes two arguments\n",
    "    return a>b? a: b;\n",
    "}\n",
    "(2, 3)"
   ]
  },
  {
   "cell_type": "markdown",
   "id": "1c7a1f49",
   "metadata": {
    "editable": true,
    "slideshow": {
     "slide_type": ""
    }
   },
   "source": [
    "Note that `auto` can be used to deduce the type for each parameter from the arguments provided to the function call. This is known as an [abbreviated function template](https://en.cppreference.com/w/cpp/language/function_template.html#Abbreviated_function_template)."
   ]
  },
  {
   "cell_type": "code",
   "execution_count": null,
   "id": "332eb20b",
   "metadata": {
    "editable": true,
    "slideshow": {
     "slide_type": ""
    }
   },
   "outputs": [],
   "source": [
    "%%cpp\n",
    "[](const auto a, const auto b){\n",
    "    return a>b? a: b;\n",
    "}\n",
    "(2.f, 3)  // called with float and int"
   ]
  },
  {
   "cell_type": "markdown",
   "id": "27e24187",
   "metadata": {
    "editable": true,
    "slideshow": {
     "slide_type": ""
    }
   },
   "source": [
    "Note that the resulting type is `float` intead of `int`, according to how the conditional operator resolves its type."
   ]
  },
  {
   "cell_type": "code",
   "execution_count": null,
   "id": "04c6732c",
   "metadata": {
    "editable": true,
    "slideshow": {
     "slide_type": ""
    }
   },
   "outputs": [],
   "source": [
    "%%cpp\n",
    "[](const auto a, const auto b) -> double {\n",
    "    if (a>b) return a;\n",
    "    return b;\n",
    "}\n",
    "(2.f, 3)"
   ]
  },
  {
   "cell_type": "markdown",
   "id": "e18808aa",
   "metadata": {
    "editable": true,
    "slideshow": {
     "slide_type": ""
    }
   },
   "source": [
    "If multiple return statements return values of different types, the callable may encounter errors unless the output type is explicitly specified, as shown in the code above with `-> double`, or the code below using function definition:"
   ]
  },
  {
   "cell_type": "code",
   "execution_count": null,
   "id": "07bb5105",
   "metadata": {
    "editable": true,
    "slideshow": {
     "slide_type": ""
    }
   },
   "outputs": [],
   "source": [
    "%%cpp\n",
    "double maximum(const auto a, const auto b) {\n",
    "    if (a>b) return a;\n",
    "    return b;\n",
    "}\n",
    "maximum(2.f, 3)"
   ]
  },
  {
   "cell_type": "markdown",
   "id": "e4a48ad5",
   "metadata": {},
   "source": [
    "::::{caution} Why can't we skip the return type?\n",
    ":class: dropdown\n",
    "\n",
    "Since C++ is statically typed, all the variable types must be deduced at compile time.\n",
    "\n",
    "::::"
   ]
  },
  {
   "cell_type": "markdown",
   "id": "39941bc4",
   "metadata": {
    "editable": true,
    "slideshow": {
     "slide_type": ""
    }
   },
   "source": [
    "::::{exercise}\n",
    ":label: ex:f0\n",
    "\n",
    "Why is it okay not to specify the output type for the following code using the conditional operator instead of the `if` statement?\n",
    "\n",
    "```cpp\n",
    "[](const auto a, const auto b){\n",
    "    return a>b? a: b;\n",
    "}\n",
    "(2.f, 3)\n",
    "```\n",
    "\n",
    "::::"
   ]
  },
  {
   "cell_type": "markdown",
   "id": "0789081c",
   "metadata": {
    "deletable": false,
    "editable": true,
    "nbgrader": {
     "cell_type": "markdown",
     "checksum": "f01d279c61e6af3e3f8ff70870eaae15",
     "grade": true,
     "grade_id": "f0",
     "locked": false,
     "points": 0,
     "schema_version": 3,
     "solution": true,
     "task": false
    },
    "slideshow": {
     "slide_type": ""
    }
   },
   "source": [
    "YOUR ANSWER HERE"
   ]
  },
  {
   "cell_type": "markdown",
   "id": "fdf8535c",
   "metadata": {
    "editable": true,
    "slideshow": {
     "slide_type": ""
    }
   },
   "source": [
    "A parameter cannot be specified as `const` if its value may be modified:"
   ]
  },
  {
   "cell_type": "code",
   "execution_count": null,
   "id": "d6835025",
   "metadata": {
    "editable": true,
    "slideshow": {
     "slide_type": ""
    }
   },
   "outputs": [],
   "source": [
    "%%cpp\n",
    "long a=2; unsigned long b=3;\n",
    "[](long a, unsigned long b) { // not declared with const\n",
    "    auto ans=1uL;\n",
    "    while (b) {\n",
    "        if (b%2) ans *= a;\n",
    "        a *= a;\n",
    "        b /= 2;\n",
    "    }\n",
    "    return ans;\n",
    "} \n",
    "(a, b)"
   ]
  },
  {
   "cell_type": "code",
   "execution_count": null,
   "id": "4be58aea",
   "metadata": {
    "editable": true,
    "slideshow": {
     "slide_type": ""
    }
   },
   "outputs": [],
   "source": [
    "%%cpp\n",
    "unsigned long ipow(long a, unsigned long b) {\n",
    "    auto ans=1uL;\n",
    "    while (b) {\n",
    "        if (b%2) ans *= a;\n",
    "        a *= a;\n",
    "        b /= 2;\n",
    "    }\n",
    "    return ans;\n",
    "}\n",
    "ipow(a, b)"
   ]
  },
  {
   "cell_type": "markdown",
   "id": "076aadab",
   "metadata": {
    "editable": true,
    "slideshow": {
     "slide_type": ""
    }
   },
   "source": [
    "::::{exercise}\n",
    ":label: ex:f1\n",
    "\n",
    "What does the above program do?\n",
    "\n",
    "::::"
   ]
  },
  {
   "cell_type": "markdown",
   "id": "4e651c88",
   "metadata": {
    "deletable": false,
    "editable": true,
    "nbgrader": {
     "cell_type": "markdown",
     "checksum": "a59a9ac845419e2c326ab23fcf58e593",
     "grade": true,
     "grade_id": "f1",
     "locked": false,
     "points": 0,
     "schema_version": 3,
     "solution": true,
     "task": false
    },
    "slideshow": {
     "slide_type": ""
    }
   },
   "source": [
    "YOUR ANSWER HERE"
   ]
  },
  {
   "cell_type": "markdown",
   "id": "173211d4",
   "metadata": {
    "editable": true,
    "slideshow": {
     "slide_type": ""
    }
   },
   "source": [
    "::::{caution}\n",
    "\n",
    "Modifying the parameters, however, does not modify the arguments *passed by copy* ([rvalue](https://en.cppreference.com/w/cpp/language/value_category.html#rvalue)) to the parameters.\n",
    "\n",
    "::::"
   ]
  },
  {
   "cell_type": "markdown",
   "id": "8b36ec70",
   "metadata": {
    "editable": true,
    "slideshow": {
     "slide_type": ""
    }
   },
   "source": [
    "For instance, the global values of `a` and `b` remain unchanged if though the parameters `a` and `b` are modified in the function call."
   ]
  },
  {
   "cell_type": "code",
   "execution_count": null,
   "id": "6dc5fcf4",
   "metadata": {
    "editable": true,
    "slideshow": {
     "slide_type": ""
    }
   },
   "outputs": [],
   "source": [
    "%%cpp\n",
    "cout << format(\"a={}, b={}\\n\", a, b);"
   ]
  },
  {
   "cell_type": "markdown",
   "id": "26d9ac98",
   "metadata": {
    "editable": true,
    "slideshow": {
     "slide_type": ""
    }
   },
   "source": [
    "### Overloading"
   ]
  },
  {
   "cell_type": "markdown",
   "id": "c1d30045",
   "metadata": {
    "editable": true,
    "slideshow": {
     "slide_type": ""
    }
   },
   "source": [
    "Can we implement the inverse square root directly using the CPU instruction `SQRTSD` instead of relying on the compiler?"
   ]
  },
  {
   "cell_type": "markdown",
   "id": "054b52d3",
   "metadata": {
    "editable": true,
    "slideshow": {
     "slide_type": ""
    }
   },
   "source": [
    "We can  use the [CPU intrinsic](https://en.wikipedia.org/wiki/Intrinsic_function#C_and_C++) [`_mm_sqrt_sd`](https://www.intel.com/content/www/us/en/docs/intrinsics-guide/index.html#text=_mm_sqrt_sd&ig_expand=6272) from `<immintrin.h>` (or the smaller `<emmintrin.h>`) that maps directly to the CPU instruction `SQRTSD`:"
   ]
  },
  {
   "cell_type": "code",
   "execution_count": null,
   "id": "fac7fbec",
   "metadata": {
    "editable": true,
    "slideshow": {
     "slide_type": ""
    }
   },
   "outputs": [],
   "source": [
    "%%cpp\n",
    "double rsqrt_(const double x) {\n",
    "    return 1. / _mm_cvtsd_f64(_mm_sqrt_sd(_mm_set_sd(x), _mm_set_sd(x)));\n",
    "}"
   ]
  },
  {
   "cell_type": "code",
   "execution_count": null,
   "id": "ff24c195",
   "metadata": {
    "editable": true,
    "slideshow": {
     "slide_type": ""
    }
   },
   "outputs": [],
   "source": [
    "@interact(x=\"10/3\")\n",
    "def print_rsqrt_(x):\n",
    "    print(\"rsqrt({})={}\".format(x:=eval(x), ROOT.rsqrt_(x)))"
   ]
  },
  {
   "cell_type": "code",
   "execution_count": null,
   "id": "03999e1e",
   "metadata": {
    "editable": true,
    "slideshow": {
     "slide_type": ""
    },
    "tags": [
     "skip-execution"
    ]
   },
   "outputs": [],
   "source": [
    "%%ai\n",
    "In the following code, explain briefly why it uses _mm_set_sd and _mm_cvtsd_f64?\n",
    "Why _mm_sqrt_sd takes two arguments instead of one?\n",
    "---\n",
    "1. / _mm_cvtsd_f64(_mm_sqrt_sd(_mm_set_sd(x), _mm_set_sd(x)))"
   ]
  },
  {
   "cell_type": "markdown",
   "id": "c0446610",
   "metadata": {
    "editable": true,
    "slideshow": {
     "slide_type": ""
    }
   },
   "source": [
    "There is also a CPU instrinsic [`_mm_rsqrt_ss`](https://www.intel.com/content/www/us/en/docs/intrinsics-guide/index.html#text=_mm_rsqrt_ss&ig_expand=6272,6278,6272,6278,5647) from `<xmmintrin.h>` that maps to the instruction `RSQRTSS` for inverse square root, but it only has single precision:"
   ]
  },
  {
   "cell_type": "code",
   "execution_count": null,
   "id": "375a4efd",
   "metadata": {
    "editable": true,
    "slideshow": {
     "slide_type": ""
    }
   },
   "outputs": [],
   "source": [
    "%%cpp\n",
    "float rsqrt_(const float x) {\n",
    "    return _mm_cvtss_f32(_mm_rsqrt_ss(_mm_set_ss(x)));\n",
    "}"
   ]
  },
  {
   "cell_type": "markdown",
   "id": "389d3571",
   "metadata": {
    "editable": true,
    "slideshow": {
     "slide_type": ""
    }
   },
   "source": [
    "Here comes the challenging questions:\n",
    "- Should we define `rsqrt_` with single precision or double precision? The user should have a say.\n",
    "- Should we define two versions of `rsqrt_`, one with single precision or double precision? It is already complicated to have different versions of square roots!"
   ]
  },
  {
   "cell_type": "markdown",
   "id": "a9bbbbd0",
   "metadata": {
    "editable": true,
    "slideshow": {
     "slide_type": ""
    }
   },
   "source": [
    "We should define two version, and we already did:"
   ]
  },
  {
   "cell_type": "code",
   "execution_count": null,
   "id": "2fe33134",
   "metadata": {
    "editable": true,
    "slideshow": {
     "slide_type": ""
    }
   },
   "outputs": [],
   "source": [
    "%%cpp\n",
    "rsqrt_(10.f/3)"
   ]
  },
  {
   "cell_type": "code",
   "execution_count": null,
   "id": "5a4c1544",
   "metadata": {
    "editable": true,
    "slideshow": {
     "slide_type": ""
    }
   },
   "outputs": [],
   "source": [
    "%%cpp\n",
    "rsqrt_(10./3)"
   ]
  },
  {
   "cell_type": "markdown",
   "id": "a86cdd26",
   "metadata": {
    "editable": true,
    "slideshow": {
     "slide_type": ""
    }
   },
   "source": [
    "Observe from the output data type that C++ can call the correct version of `rsqrt_` based on the argument type. We have [overloaded](https://en.cppreference.com/w/cpp/language/overload_resolution.html) the same function `rsqrt_` with two different versions, one for double precision argument, and one for single precision."
   ]
  },
  {
   "cell_type": "markdown",
   "id": "709f792d",
   "metadata": {
    "editable": true,
    "slideshow": {
     "slide_type": ""
    }
   },
   "source": [
    "Unlike C++, Python does not support traditional function overloading. Because Python is dynamically typed, function definitions do not include argument types, making it impossible to distinguish functions by their parameter types.[^dispatch]\n",
    "\n",
    "[^dispatch]: However, Python does allow operator overloading. It uses type-based dispatch instead."
   ]
  },
  {
   "cell_type": "markdown",
   "id": "cf73cc7a",
   "metadata": {
    "editable": true,
    "slideshow": {
     "slide_type": ""
    }
   },
   "source": [
    "::::{caution}\n",
    "\n",
    "An overloaded function cannot be assigned to a variable. E.g., the following code fails\n",
    "\n",
    "```cpp\n",
    "auto rsqrt_intrin = rsqrt_;\n",
    "```\n",
    "\n",
    "Similarly, we cannot overload a function by assigning multiple lambda expressions to the same variable.\n",
    "\n",
    "::::"
   ]
  },
  {
   "cell_type": "markdown",
   "id": "e42b3cc5",
   "metadata": {
    "editable": true,
    "slideshow": {
     "slide_type": ""
    }
   },
   "source": [
    "## Encapsulation"
   ]
  },
  {
   "cell_type": "markdown",
   "id": "096b6b02",
   "metadata": {
    "editable": true,
    "slideshow": {
     "slide_type": ""
    }
   },
   "source": [
    "### Pass by Reference"
   ]
  },
  {
   "cell_type": "markdown",
   "id": "96f3c335",
   "metadata": {
    "editable": true,
    "slideshow": {
     "slide_type": ""
    }
   },
   "source": [
    "To implement a callable that can be reused by future unseen programs, it is important to encapsulate the content properly to avoid undesirable effects contaminating other code and vice versa."
   ]
  },
  {
   "cell_type": "markdown",
   "id": "c3b7092d",
   "metadata": {
    "editable": true,
    "slideshow": {
     "slide_type": ""
    }
   },
   "source": [
    "In functional programming, the function `gcd` is called a [pure function](https://en.wikipedia.org/wiki/Pure_function) because\n",
    "\n",
    "1. its return value is identical for identical arguments; and\n",
    "2. it has no side effects like modifying the global `a` and `b`."
   ]
  },
  {
   "cell_type": "markdown",
   "id": "0ecc57ea",
   "metadata": {
    "editable": true,
    "slideshow": {
     "slide_type": ""
    }
   },
   "source": [
    "In comparison, `std::swap` from `<utility>` is an example of an *impure function* which has the *side effect* of changing the values of its argument."
   ]
  },
  {
   "cell_type": "markdown",
   "id": "dc02b1c1",
   "metadata": {
    "editable": true,
    "slideshow": {
     "slide_type": ""
    }
   },
   "source": [
    "::::{caution}\n",
    "\n",
    "When debugging a program that uses an impure function, the programmer may need to look into the implementation of the function as well because\n",
    "1. the function may produce side effects not captured by the output of the function; and\n",
    "2. such output may depend on the program state other than the arguments of the function such as a variable with static storage duration.\n",
    "\n",
    "::::"
   ]
  },
  {
   "cell_type": "markdown",
   "id": "7c26e22a",
   "metadata": {
    "editable": true,
    "slideshow": {
     "slide_type": ""
    }
   },
   "source": [
    "How to implement `std::swap`?"
   ]
  },
  {
   "cell_type": "code",
   "execution_count": null,
   "id": "922bbf6c",
   "metadata": {
    "editable": true,
    "slideshow": {
     "slide_type": ""
    }
   },
   "outputs": [],
   "source": [
    "%%cpp\n",
    "int a=2, b=3; // input\n",
    "cout << format(\"a={}, b={}\\n\", a, b);\n",
    "[](auto a, auto b) {  // arguments passed by copy\n",
    "    auto c=a;\n",
    "    a = b;\n",
    "    b = c;\n",
    "} (a, b);\n",
    "cout << format(\"a={}, b={}\\n\", a, b);"
   ]
  },
  {
   "cell_type": "markdown",
   "id": "50f017be",
   "metadata": {
    "editable": true,
    "slideshow": {
     "slide_type": ""
    }
   },
   "source": [
    "::::{exercise}\n",
    ":label: ex:swap_int\n",
    "\n",
    "Why does the above program fail to swap the values of the integers `a` and `b`?\n",
    "\n",
    "::::"
   ]
  },
  {
   "cell_type": "markdown",
   "id": "e1835436",
   "metadata": {
    "deletable": false,
    "editable": true,
    "nbgrader": {
     "cell_type": "markdown",
     "checksum": "aa8562ab50ee8353775150072321cc66",
     "grade": true,
     "grade_id": "swap_int",
     "locked": false,
     "points": 0,
     "schema_version": 3,
     "solution": true,
     "task": false
    },
    "slideshow": {
     "slide_type": ""
    }
   },
   "source": [
    "YOUR ANSWER HERE"
   ]
  },
  {
   "cell_type": "markdown",
   "id": "f9aa7200",
   "metadata": {
    "editable": true,
    "slideshow": {
     "slide_type": ""
    }
   },
   "source": [
    "To fix the issue, one way is to use [pointers](https://en.cppreference.com/w/cpp/language/pointer.html):"
   ]
  },
  {
   "cell_type": "code",
   "execution_count": null,
   "id": "f7c428dd",
   "metadata": {
    "editable": true,
    "slideshow": {
     "slide_type": ""
    }
   },
   "outputs": [],
   "source": [
    "%%cpp\n",
    "int a=2, b=3; // input\n",
    "cout << format(\"a={}, b={}\\n\", a, b);\n",
    "[](auto * const a, auto * const b) {  // references passed by vlue\n",
    "    auto c=*a;\n",
    "    *a = *b;\n",
    "    *b = c;\n",
    "} (&a, &b);   // pass the references by copy\n",
    "cout << format(\"a={}, b={}\\n\", a, b);"
   ]
  },
  {
   "cell_type": "markdown",
   "id": "08e697fe",
   "metadata": {
    "editable": true,
    "slideshow": {
     "slide_type": ""
    }
   },
   "source": [
    "The arguments `&a` and `&b`, namely the references of the global `a` and `b`, are passed by copy to the constant pointer parameters `a` and `b` respectively, which then points to the global `a` and `b`."
   ]
  },
  {
   "cell_type": "markdown",
   "id": "a1351319",
   "metadata": {
    "editable": true,
    "slideshow": {
     "slide_type": ""
    }
   },
   "source": [
    "Another way is to use the [*lvalue reference*](https://en.cppreference.com/w/cpp/language/reference.html), which avoid the additional dereference operations:"
   ]
  },
  {
   "cell_type": "code",
   "execution_count": null,
   "id": "7bf20127",
   "metadata": {
    "editable": true,
    "slideshow": {
     "slide_type": ""
    }
   },
   "outputs": [],
   "source": [
    "%%cpp\n",
    "int a=2, b=3;\n",
    "cout << format(\"a={}, b={}\\n\", a, b);\n",
    "[](auto &a, auto &b) {  // arguments passed by lvalue reference\n",
    "    auto c=a;\n",
    "    a=b;\n",
    "    b=c;\n",
    "}\n",
    "(a, b);\n",
    "cout << format(\"a={}, b={}\\n\", a, b);"
   ]
  },
  {
   "cell_type": "markdown",
   "id": "20a1edd0",
   "metadata": {
    "editable": true,
    "slideshow": {
     "slide_type": ""
    }
   },
   "source": [
    "Since the parameters are delared with `auto &`, the references (memory addresses) instead of the values of the global variables are passed as the references of the parameters. The parameters `a` and `b` become aliases of the global variables `a` and `b` respectively. This is called *pass by reference*, as supposed to *pass by copy*."
   ]
  },
  {
   "cell_type": "markdown",
   "id": "f880c982",
   "metadata": {
    "editable": true,
    "slideshow": {
     "slide_type": ""
    }
   },
   "source": [
    "In comparison, Python does not support pass by copy, as the argument values are not copied to the parameters:"
   ]
  },
  {
   "cell_type": "code",
   "execution_count": null,
   "id": "2dc2e3e9",
   "metadata": {
    "editable": true,
    "slideshow": {
     "slide_type": ""
    }
   },
   "outputs": [],
   "source": [
    "def f(a):\n",
    "    print(\"ID of local  a:\", id(a))\n",
    "    \n",
    "a = 1\n",
    "print(\"ID of global a:\", id(a))\n",
    "f(a)"
   ]
  },
  {
   "cell_type": "markdown",
   "id": "a7137ed5",
   "metadata": {
    "editable": true,
    "slideshow": {
     "slide_type": ""
    }
   },
   "source": [
    "Python passes arguments to the parameters by object reference, i.e., it binds the address of the value of an argument to the corresponding parameter."
   ]
  },
  {
   "cell_type": "markdown",
   "id": "a05b8ec3",
   "metadata": {
    "editable": true,
    "slideshow": {
     "slide_type": ""
    }
   },
   "source": [
    "::::{caution} Is Python's pass by object reference the same as C++'s pass by reference?\n",
    ":class: dropdown\n",
    "\n",
    "No. This is because a variable in Python is just a name with no persistent location. We cannot implement `swap` in python because the memory location is associated with the values (rvalue in C++'s term), not the variables (lvalue). Put it another way, `swap(1, 2)` in C++ fails because `1` and `2` are not in memory locations suitable for users to modify.\n",
    "\n",
    "::::"
   ]
  },
  {
   "cell_type": "markdown",
   "id": "a115df71",
   "metadata": {
    "editable": true,
    "slideshow": {
     "slide_type": ""
    }
   },
   "source": [
    "C++ also supports pass by object reference using [rvalue reference](https://en.cppreference.com/w/cpp/language/reference.html#Rvalue_references):"
   ]
  },
  {
   "cell_type": "code",
   "execution_count": null,
   "id": "1568561b",
   "metadata": {
    "editable": true,
    "slideshow": {
     "slide_type": ""
    }
   },
   "outputs": [],
   "source": [
    "%%cpp\n",
    "int &&b=1"
   ]
  },
  {
   "cell_type": "markdown",
   "id": "5e4bf7f3",
   "metadata": {
    "editable": true,
    "slideshow": {
     "slide_type": ""
    }
   },
   "source": [
    "This will be useful to move larger objects around without the extra copy step and assigning them to variables."
   ]
  },
  {
   "cell_type": "code",
   "execution_count": null,
   "id": "f30463d8",
   "metadata": {
    "editable": true,
    "slideshow": {
     "slide_type": ""
    },
    "tags": [
     "skip-execution"
    ]
   },
   "outputs": [],
   "source": [
    "%%ai\n",
    "Explain how C++ supports pass by object reference using the rvalue reference."
   ]
  },
  {
   "cell_type": "markdown",
   "id": "00528b8d",
   "metadata": {
    "editable": true,
    "slideshow": {
     "slide_type": ""
    }
   },
   "source": [
    "::::{exercise}\n",
    ":label: ex:swap\n",
    "\n",
    "While there is no issue defining `void swap_int(int *a, int *b)` and `void swap_int(int &a, int &b)` simultaneously, why should we not define `void swap_int(int a, int b)` and `void swap_int(int &a, int &b)` simultaneously?\n",
    "\n",
    "::::"
   ]
  },
  {
   "cell_type": "markdown",
   "id": "ce681c06",
   "metadata": {
    "deletable": false,
    "editable": true,
    "nbgrader": {
     "cell_type": "markdown",
     "checksum": "48fad7fd3d58f002f78d11af59dca3d8",
     "grade": true,
     "grade_id": "swap",
     "locked": false,
     "points": 0,
     "schema_version": 3,
     "solution": true,
     "task": false
    },
    "slideshow": {
     "slide_type": ""
    }
   },
   "source": [
    "YOUR ANSWER HERE"
   ]
  },
  {
   "cell_type": "code",
   "execution_count": null,
   "id": "3635872f",
   "metadata": {
    "editable": true,
    "slideshow": {
     "slide_type": ""
    },
    "tags": [
     "skip-execution"
    ]
   },
   "outputs": [],
   "source": [
    "%%ai\n",
    "How to implement swap in <utility>, which works for different data types?\n",
    "Is it as efficient as defining swap for specific data types?"
   ]
  },
  {
   "cell_type": "markdown",
   "id": "8d77f402",
   "metadata": {
    "editable": true,
    "slideshow": {
     "slide_type": ""
    }
   },
   "source": [
    "The following code overloads a function called `loc` with different ways of passing the arguments:"
   ]
  },
  {
   "cell_type": "code",
   "execution_count": null,
   "id": "7a1968c8",
   "metadata": {
    "editable": true,
    "slideshow": {
     "slide_type": ""
    }
   },
   "outputs": [],
   "source": [
    "%%cpp\n",
    "const auto &loc(const auto &x) {\n",
    "    cout << \"addr of const : \" << &x << '\\n';\n",
    "    return x;\n",
    "}"
   ]
  },
  {
   "cell_type": "code",
   "execution_count": null,
   "id": "8916ca7a",
   "metadata": {
    "editable": true,
    "slideshow": {
     "slide_type": ""
    }
   },
   "outputs": [],
   "source": [
    "%%cpp\n",
    "auto &loc(auto &x) {\n",
    "    cout << \"addr of lvalue: \" << &x << '\\n';\n",
    "    return x;\n",
    "}"
   ]
  },
  {
   "cell_type": "code",
   "execution_count": null,
   "id": "bcafce2b",
   "metadata": {
    "editable": true,
    "slideshow": {
     "slide_type": ""
    }
   },
   "outputs": [],
   "source": [
    "%%cpp\n",
    "auto loc(auto &&x) { // do NOT write &loc instead\n",
    "    cout << \"addr of rvalue: \" << &x << '\\n';\n",
    "    return x;\n",
    "}"
   ]
  },
  {
   "cell_type": "markdown",
   "id": "3047c634",
   "metadata": {
    "editable": true,
    "slideshow": {
     "slide_type": ""
    }
   },
   "source": [
    "The function can help understand code like the following by printing the addresses (locating the values).\n",
    "\n",
    "```cpp\n",
    "const int c=1;\n",
    "int a=c, &b=a;\n",
    "b+=1;\n",
    "a\n",
    "```"
   ]
  },
  {
   "cell_type": "code",
   "execution_count": null,
   "id": "88d065c0",
   "metadata": {
    "editable": true,
    "slideshow": {
     "slide_type": ""
    }
   },
   "outputs": [],
   "source": [
    "%%cpp\n",
    "const int &c=loc(1);\n",
    "int a=loc(c), &b=loc(a);\n",
    "loc(b)+=1;\n",
    "a"
   ]
  },
  {
   "cell_type": "markdown",
   "id": "19586212",
   "metadata": {
    "editable": true,
    "slideshow": {
     "slide_type": ""
    }
   },
   "source": [
    "::::{exercise}\n",
    ":label: ex:rvalue_ref\n",
    "\n",
    "Unlike the other versions of `loc`, why should the last version `auto loc(auto &&x)` not be defined as `auto &loc(auto &&x)`, i.e., to return value by reference?\n",
    "\n",
    "::::"
   ]
  },
  {
   "cell_type": "markdown",
   "id": "cf3f2314",
   "metadata": {
    "deletable": false,
    "editable": true,
    "nbgrader": {
     "cell_type": "markdown",
     "checksum": "58c8131c60ed385b7fa32fd6e36b5d82",
     "grade": true,
     "grade_id": "rvalue_ref",
     "locked": false,
     "points": 0,
     "schema_version": 3,
     "solution": true,
     "task": false
    },
    "slideshow": {
     "slide_type": ""
    }
   },
   "source": [
    "YOUR ANSWER HERE"
   ]
  },
  {
   "cell_type": "markdown",
   "id": "8a9016b6",
   "metadata": {
    "editable": true,
    "slideshow": {
     "slide_type": ""
    }
   },
   "source": [
    "### Static Variable"
   ]
  },
  {
   "cell_type": "markdown",
   "id": "c41edfd5",
   "metadata": {
    "editable": true,
    "slideshow": {
     "slide_type": ""
    }
   },
   "source": [
    "Recall that in the function `rsqrt_fast` defined before, constant expressions `threehalfs` and `rel_tol` are declared as [`static`](https://en.cppreference.com/w/cpp/language/storage_duration.html#Static_block_variables). \n",
    "\n",
    "```cpp\n",
    "double rsqrt_fast(const double x) {\n",
    "    ...\n",
    "    static constexpr auto rel_tol=1e-9;          // initialized once only\n",
    "    ...\n",
    "    do {\n",
    "        static constexpr auto threehalfs = 1.5;  // initialized once only\n",
    "        ...\n",
    "    } while (...);\n",
    "    ...               \n",
    "}\n",
    "```\n",
    "\n",
    "Why?"
   ]
  },
  {
   "cell_type": "markdown",
   "id": "69d263e1",
   "metadata": {
    "editable": true,
    "slideshow": {
     "slide_type": ""
    }
   },
   "source": [
    "Like global variables, static variables are initialized only once and persist throughout the program's execution. However, it is not visible outside the scope where it is defined."
   ]
  },
  {
   "cell_type": "markdown",
   "id": "17bcb26c",
   "metadata": {
    "editable": true,
    "slideshow": {
     "slide_type": ""
    }
   },
   "source": [
    "For example, consider the following code that counts function calls:"
   ]
  },
  {
   "cell_type": "code",
   "execution_count": null,
   "id": "eb1040f0",
   "metadata": {
    "editable": true,
    "slideshow": {
     "slide_type": ""
    }
   },
   "outputs": [],
   "source": [
    "%%cpp\n",
    "unsigned int increment_count() {\n",
    "    static int count=0;\n",
    "    return ++count;\n",
    "}"
   ]
  },
  {
   "cell_type": "markdown",
   "id": "89fc0199",
   "metadata": {
    "editable": true,
    "slideshow": {
     "slide_type": ""
    }
   },
   "source": [
    "Repeatedly call the function below to observe the increase in the static variable `count`, even though it is initialized to `0` within the function:"
   ]
  },
  {
   "cell_type": "code",
   "execution_count": null,
   "id": "5f191135",
   "metadata": {
    "editable": true,
    "slideshow": {
     "slide_type": ""
    }
   },
   "outputs": [],
   "source": [
    "%%cpp\n",
    "cout << increment_count();\n",
    "// count  // fails as count is out of scope"
   ]
  },
  {
   "cell_type": "markdown",
   "id": "28c90aa9",
   "metadata": {
    "editable": true,
    "slideshow": {
     "slide_type": ""
    }
   },
   "source": [
    "In contrast, the memory for non-static local variables is typically released when they go out of scope. For instance, without the `static` qualifier, the `count` is initialized in every function call, which is not desirable:"
   ]
  },
  {
   "cell_type": "code",
   "execution_count": null,
   "id": "8b21061f",
   "metadata": {
    "editable": true,
    "slideshow": {
     "slide_type": ""
    }
   },
   "outputs": [],
   "source": [
    "%%cpp\n",
    "unsigned int increment_count_() {\n",
    "    int count=0;\n",
    "    return ++count;\n",
    "}\n",
    "increment_count_(); increment_count_(); increment_count_();\n",
    "increment_count_()  // boring"
   ]
  },
  {
   "cell_type": "markdown",
   "id": "53af2337",
   "metadata": {
    "editable": true,
    "slideshow": {
     "slide_type": ""
    }
   },
   "source": [
    "::::{exercise}\n",
    ":label: ex:undecimal_function\n",
    "\n",
    "Recall the program for converting undecimal to decimal in [Lecture 3](../Lecture3/Iterative_Programming.ipynb#undecimal1):\n",
    "\n",
    "\n",
    "```cpp\n",
    "unsigned long value=0;\n",
    "constexpr auto m1=numeric_limits<unsigned long>::max(), m2=m1/11, m3=m1-10;\n",
    "for (size_t i=0, length=strlen(s); i < length; ++i) {\n",
    "    value *= value<=m2 ? 11 : throw runtime_error(\"The value is too big.\");\n",
    "    switch (unsigned char c=s[i]) {\n",
    "    case 'X':\n",
    "        [[fallthrough]];\n",
    "    case 'x':\n",
    "        value<=m3 ? value+=10 : throw runtime_error(\"The value is too big.\");\n",
    "        break;\n",
    "    default:\n",
    "        if ((c=s[i]-'0')>9) throw runtime_error(\"Invalid character found.\");\n",
    "        value<=m1-c? value+=c : throw runtime_error(\"The value is too big.\");\n",
    "    }\n",
    "}\n",
    "```\n",
    "\n",
    "Define it as a function `undecimal2decimal` that takes `s` as an argument and return the `value`. Declare variables to be static if doing so considered good programming pratice.\n",
    "\n",
    "::::"
   ]
  },
  {
   "cell_type": "code",
   "execution_count": null,
   "id": "ab67ab0b",
   "metadata": {
    "deletable": false,
    "editable": true,
    "nbgrader": {
     "cell_type": "code",
     "checksum": "424f4cc82eb9d55836ce20560c3237e7",
     "grade": false,
     "grade_id": "undecimal_function",
     "locked": false,
     "schema_version": 3,
     "solution": true,
     "task": false
    },
    "slideshow": {
     "slide_type": ""
    },
    "tags": [
     "hide-cell"
    ]
   },
   "outputs": [],
   "source": [
    "%%cpp\n",
    "/*\n",
    "# REPLACE THE ENTIRE COMMENT WITH YOUR CODE #\n",
    "*/"
   ]
  },
  {
   "cell_type": "markdown",
   "id": "a129f8df",
   "metadata": {
    "editable": true,
    "slideshow": {
     "slide_type": ""
    }
   },
   "source": [
    "Check that your function works:"
   ]
  },
  {
   "cell_type": "code",
   "execution_count": null,
   "id": "bb5b75b8",
   "metadata": {
    "editable": true,
    "slideshow": {
     "slide_type": ""
    }
   },
   "outputs": [],
   "source": [
    "@interact(s=\"1X2X3x\")\n",
    "def print_undecimal2decimal(s):\n",
    "    print(\"Decimal value of the undecimal {} is {}.\".format(s, ROOT.undecimal2decimal(s)))"
   ]
  },
  {
   "cell_type": "markdown",
   "id": "a25622fa",
   "metadata": {
    "editable": true,
    "slideshow": {
     "slide_type": ""
    }
   },
   "source": [
    "::::{exercise}\n",
    ":label: ex:local-vs-global\n",
    "\n",
    "Why might it not be a good idea to declare a local static variable as a non-static global variable instead?\n",
    "\n",
    "::::"
   ]
  },
  {
   "cell_type": "markdown",
   "id": "4cd2dc6e",
   "metadata": {
    "deletable": false,
    "editable": true,
    "nbgrader": {
     "cell_type": "markdown",
     "checksum": "937df353c70da4815779abffde770fe5",
     "grade": true,
     "grade_id": "local-vs-global",
     "locked": false,
     "points": 0,
     "schema_version": 3,
     "solution": true,
     "task": false
    },
    "slideshow": {
     "slide_type": ""
    }
   },
   "source": [
    "YOUR ANSWER HERE"
   ]
  },
  {
   "cell_type": "markdown",
   "id": "eaaadf46",
   "metadata": {
    "editable": true,
    "slideshow": {
     "slide_type": ""
    }
   },
   "source": [
    "### Closure"
   ]
  },
  {
   "cell_type": "markdown",
   "id": "046e8575",
   "metadata": {
    "editable": true,
    "slideshow": {
     "slide_type": ""
    }
   },
   "source": [
    "While it is good to declare constants as `static`, the use of static variables that are not constants is discouraged as it can complicate the logic of the program and cause nasty bugs. For example, declaring `x2` as `static` in `rsqrt` not only leads to incorrect results but can also result in infinite loops. (How?)"
   ]
  },
  {
   "cell_type": "markdown",
   "id": "5ff49ffa",
   "metadata": {},
   "source": [
    "In more complicated scenarios, when the operating system needs to execute the program in multiple threads and pause or resume execution, static variables will not work properly:"
   ]
  },
  {
   "cell_type": "markdown",
   "id": "9bc87a27",
   "metadata": {
    "editable": true,
    "slideshow": {
     "slide_type": ""
    }
   },
   "source": [
    "::::{caution} Why non-constant static variables are discouraged even when they make a program easy to write?\n",
    ":class: dropdown\n",
    "\n",
    "Programs such as `increment_count` that use non-constant `static` variables are [non-reentrant](https://en.wikipedia.org/wiki/Reentrancy_(computing)) and not [thread-safe](https://en.wikipedia.org/wiki/Thread_safety).\n",
    "\n",
    "::::"
   ]
  },
  {
   "cell_type": "markdown",
   "id": "80874271",
   "metadata": {
    "editable": true,
    "slideshow": {
     "slide_type": ""
    }
   },
   "source": [
    "How to avoid using static/global variables, for instance, in `increment_count`?\n",
    "\n",
    "```cpp\n",
    "unsigned int increment_count() {\n",
    "    static int count=0;\n",
    "    return ++count;\n",
    "}\n",
    "```"
   ]
  },
  {
   "cell_type": "markdown",
   "id": "6817d394",
   "metadata": {
    "editable": true,
    "slideshow": {
     "slide_type": ""
    }
   },
   "source": [
    "To avoid using static/global variables, we can create a [closure](https://en.wikipedia.org/wiki/Closure_(computer_programming)) using the lambda expression:"
   ]
  },
  {
   "cell_type": "code",
   "execution_count": null,
   "id": "4544c415",
   "metadata": {
    "editable": true,
    "slideshow": {
     "slide_type": ""
    }
   },
   "outputs": [],
   "source": [
    "%%cpp\n",
    "std::function<int()> counter(int count=0) {\n",
    "    return [count]() mutable {  // count captured by copy\n",
    "        return ++count;\n",
    "    };\n",
    "}"
   ]
  },
  {
   "cell_type": "markdown",
   "id": "d15147d4",
   "metadata": {
    "editable": true,
    "slideshow": {
     "slide_type": ""
    }
   },
   "source": [
    "- `[count]` is a [lambda capture](https://en.cppreference.com/w/cpp/language/lambda.html#Lambda_capture) that captures the value of the existing variable `count` by copying its value (not reference); and\n",
    "- `mutable` is a [lambda specifier](https://en.cppreference.com/w/cpp/language/lambda.html#Explanation) that allows the body of the lambda expression to modify the objects captured by copy."
   ]
  },
  {
   "cell_type": "markdown",
   "id": "83c710c7",
   "metadata": {
    "editable": true,
    "slideshow": {
     "slide_type": ""
    }
   },
   "source": [
    "Run the following cell to create multiple counters:"
   ]
  },
  {
   "cell_type": "code",
   "execution_count": null,
   "id": "f75ac116",
   "metadata": {
    "editable": true,
    "slideshow": {
     "slide_type": ""
    }
   },
   "outputs": [],
   "source": [
    "%%cpp\n",
    "auto counter1=counter(), counter2=counter();"
   ]
  },
  {
   "cell_type": "markdown",
   "id": "811e637f",
   "metadata": {
    "editable": true,
    "slideshow": {
     "slide_type": ""
    }
   },
   "source": [
    "Try running the following two cells repeatedly in arbitrary order to see that the counters are incremented independently."
   ]
  },
  {
   "cell_type": "code",
   "execution_count": null,
   "id": "68392621",
   "metadata": {
    "editable": true,
    "slideshow": {
     "slide_type": ""
    }
   },
   "outputs": [],
   "source": [
    "%%cpp\n",
    "counter1()  // increment counter1"
   ]
  },
  {
   "cell_type": "code",
   "execution_count": null,
   "id": "3d06d538",
   "metadata": {
    "editable": true,
    "slideshow": {
     "slide_type": ""
    }
   },
   "outputs": [],
   "source": [
    "%%cpp\n",
    "counter2()   // increment counter2"
   ]
  },
  {
   "cell_type": "markdown",
   "id": "a5a8bb48",
   "metadata": {
    "editable": true,
    "slideshow": {
     "slide_type": ""
    }
   },
   "source": [
    "As another example, consider the problem of computing the Fibonacci number $F_n$ of order $n\\geq 0$, which is defined as\n",
    "\n",
    "$$\n",
    "\\begin{align}\n",
    "F_n = \n",
    "\\begin{cases}\n",
    "0 & \\text{if } n = 0 \\\\\n",
    "1 & \\text{if } n = 1 \\\\\n",
    "F_{n-1} + F_{n-2} & \\text{if } n \\geq 2.\n",
    "\\end{cases}\n",
    "\\end{align}\n",
    "$$ (eq:fibonacci)"
   ]
  },
  {
   "cell_type": "markdown",
   "id": "839a31df",
   "metadata": {
    "editable": true,
    "slideshow": {
     "slide_type": ""
    }
   },
   "source": [
    "Like the `gcd` function, we can implement it easily as a recursion:"
   ]
  },
  {
   "cell_type": "code",
   "execution_count": null,
   "id": "512cb38d",
   "metadata": {
    "editable": true,
    "slideshow": {
     "slide_type": ""
    }
   },
   "outputs": [],
   "source": [
    "%%cpp\n",
    "unsigned long fibonacci(const unsigned long n) {\n",
    "    return n>1? fibonacci(n-1) + fibonacci(n-2): n==1? 1: 0;\n",
    "}\n",
    "fibonacci(4)"
   ]
  },
  {
   "cell_type": "markdown",
   "id": "86837539",
   "metadata": {
    "editable": true,
    "slideshow": {
     "slide_type": ""
    }
   },
   "source": [
    "The following prints the first 10 Fibonacci numbers:"
   ]
  },
  {
   "cell_type": "code",
   "execution_count": null,
   "id": "1cb556e7",
   "metadata": {},
   "outputs": [],
   "source": [
    "%%cpp\n",
    "for (auto n=0uL; n<10; n++) {\n",
    "    cout << fibonacci(n) << '\\n';\n",
    "}"
   ]
  },
  {
   "cell_type": "markdown",
   "id": "a94aa968",
   "metadata": {},
   "source": [
    "Can we define a recursion using a lambda expression?"
   ]
  },
  {
   "cell_type": "code",
   "execution_count": null,
   "id": "8a15e083",
   "metadata": {},
   "outputs": [],
   "source": [
    "%%cpp\n",
    "std::function<unsigned long(const unsigned long)> fib=[&fib](const unsigned long n) {\n",
    "    return n>1? fib(n-1) + fib(n-2): n==1? 1: 0;\n",
    "};\n",
    "fib(4)"
   ]
  },
  {
   "cell_type": "markdown",
   "id": "4d119a2c",
   "metadata": {},
   "source": [
    "- `[&fib]` captures `fib` by reference. This is possible because `fib` is immediately available as we are definining it!\n",
    "- `auto` would not work because the declaration is incomplete without evaluating the initializer, which relies on `fib` to be declared."
   ]
  },
  {
   "cell_type": "markdown",
   "id": "956ab086",
   "metadata": {
    "editable": true,
    "slideshow": {
     "slide_type": ""
    }
   },
   "source": [
    "::::{exercise}\n",
    ":label: factorial\n",
    "\n",
    "Define the factorial function by assigning a lambda expression to a variable named `factorial`.\n",
    "\n",
    "::::"
   ]
  },
  {
   "cell_type": "code",
   "execution_count": null,
   "id": "ae4bf882",
   "metadata": {
    "deletable": false,
    "editable": true,
    "nbgrader": {
     "cell_type": "code",
     "checksum": "dd1e51b6789b2d9fc9debbbe4f9f4a17",
     "grade": false,
     "grade_id": "factorial",
     "locked": false,
     "schema_version": 3,
     "solution": true,
     "task": false
    },
    "slideshow": {
     "slide_type": ""
    },
    "tags": [
     "hide-cell"
    ]
   },
   "outputs": [],
   "source": [
    "%%cpp\n",
    "/*\n",
    "# REPLACE THE ENTIRE COMMENT WITH YOUR CODE #\n",
    "*/\n",
    "factorial(10) == 10*9*8*7*6*5*4*3*2*1 // for testing"
   ]
  },
  {
   "cell_type": "markdown",
   "id": "82d467e5",
   "metadata": {
    "editable": true,
    "slideshow": {
     "slide_type": ""
    }
   },
   "source": [
    "Let's run `fibonacci` for bigger orders:"
   ]
  },
  {
   "cell_type": "code",
   "execution_count": null,
   "id": "a0b1427d",
   "metadata": {
    "editable": true,
    "slideshow": {
     "slide_type": ""
    }
   },
   "outputs": [],
   "source": [
    "%%cpp\n",
    "fibonacci(20)"
   ]
  },
  {
   "cell_type": "code",
   "execution_count": null,
   "id": "aa83b4a2",
   "metadata": {
    "editable": true,
    "slideshow": {
     "slide_type": ""
    }
   },
   "outputs": [],
   "source": [
    "%%cpp\n",
    "fibonacci(30)"
   ]
  },
  {
   "cell_type": "code",
   "execution_count": null,
   "id": "45533bd1",
   "metadata": {
    "editable": true,
    "slideshow": {
     "slide_type": ""
    }
   },
   "outputs": [],
   "source": [
    "%%cpp\n",
    "fibonacci(40)"
   ]
  },
  {
   "cell_type": "code",
   "execution_count": null,
   "id": "51d17c1a",
   "metadata": {
    "editable": true,
    "slideshow": {
     "slide_type": ""
    }
   },
   "outputs": [],
   "source": [
    "if input(\"You really want to wait? [y/N]\").lower() == 'y':\n",
    "    ROOT.fibonacci(50)       # restart the kernel to stop"
   ]
  },
  {
   "cell_type": "markdown",
   "id": "bcdf7af5",
   "metadata": {
    "editable": true,
    "slideshow": {
     "slide_type": ""
    }
   },
   "source": [
    "::::{caution}\n",
    "\n",
    "Unlike [tail recursion](https://en.wikipedia.org/wiki/Tail_call) for `gcd`, the recursion for `fibonacci` is very inefficient: When the order `n` is increased by 1, the execution time increases roughly by a factor of $\\phi\\approx 1.618$, the golden ratio. `fibonacci(50)` is expected to be a hundred times slower than `fibonacci(40)`, so you need to wait for about 2 minutes. \n",
    "\n",
    "::::"
   ]
  },
  {
   "cell_type": "markdown",
   "id": "a59d2ef5",
   "metadata": {
    "editable": true,
    "slideshow": {
     "slide_type": ""
    }
   },
   "source": [
    "The following is an implementation using iteration:"
   ]
  },
  {
   "cell_type": "code",
   "execution_count": null,
   "id": "a8c2af0a",
   "metadata": {
    "editable": true,
    "slideshow": {
     "slide_type": ""
    }
   },
   "outputs": [],
   "source": [
    "%%cpp\n",
    "unsigned long fibonacci_iteration(const unsigned long n) {\n",
    "    if (n==0) return 0;\n",
    "    if (n==1) return 1;\n",
    "    auto _=0uL,   // F_{n-2}\n",
    "         F=1uL,   // F_{n-1}\n",
    "         tmp=F;\n",
    "    for (auto i=n; i>1; i--) {\n",
    "        tmp += _; // F_{n-1} + F_{n-2} mod uL_max\n",
    "        _ = F;    // F_{n-1}\n",
    "        F = tmp;  \n",
    "        if (_>F) throw runtime_error(\"The value overflows.\");\n",
    "    }\n",
    "    return F;     // F_n\n",
    "}"
   ]
  },
  {
   "cell_type": "code",
   "execution_count": null,
   "id": "b512c71e",
   "metadata": {
    "editable": true,
    "slideshow": {
     "slide_type": ""
    }
   },
   "outputs": [],
   "source": [
    "@interact(n=(0,100))\n",
    "def print_fibonacci_iteration(n):\n",
    "    print(\"Fibonacci number of order {}: {}.\".format(n, ROOT.fibonacci_iteration(n)))"
   ]
  },
  {
   "cell_type": "markdown",
   "id": "9217cba7",
   "metadata": {
    "editable": true,
    "slideshow": {
     "slide_type": ""
    }
   },
   "source": [
    "::::{exercise}\n",
    ":label: ex:overflow_order\n",
    "\n",
    "How does `fibonacci_iteration` detect overflow? What is the smallest order of which the Fibonnaci number overflows?\n",
    "\n",
    ":::{hint}\n",
    ":class: dropdown\n",
    "\n",
    "Fibonacci squence is strictly increasing for order larger than 1.\n",
    "\n",
    ":::\n",
    "\n",
    "::::"
   ]
  },
  {
   "cell_type": "markdown",
   "id": "866a8d1b",
   "metadata": {
    "deletable": false,
    "editable": true,
    "nbgrader": {
     "cell_type": "markdown",
     "checksum": "89d846eba541a3658562aa0a3da41d59",
     "grade": true,
     "grade_id": "overflow_order",
     "locked": false,
     "points": 0,
     "schema_version": 3,
     "solution": true,
     "task": false
    },
    "slideshow": {
     "slide_type": ""
    }
   },
   "source": [
    "YOUR ANSWER HERE"
   ]
  },
  {
   "cell_type": "markdown",
   "id": "e729247b",
   "metadata": {
    "editable": true,
    "slideshow": {
     "slide_type": ""
    }
   },
   "source": [
    "Note that `fibonacci_iteration(50)` gives $F_{50}$ with no sweat!"
   ]
  },
  {
   "cell_type": "code",
   "execution_count": null,
   "id": "6c01c9bd",
   "metadata": {
    "editable": true,
    "slideshow": {
     "slide_type": ""
    }
   },
   "outputs": [],
   "source": [
    "%%cpp\n",
    "fibonacci_iteration(50)"
   ]
  },
  {
   "cell_type": "code",
   "execution_count": null,
   "id": "10d2fa7e",
   "metadata": {
    "editable": true,
    "slideshow": {
     "slide_type": ""
    }
   },
   "outputs": [],
   "source": [
    "%%cpp\n",
    "cout << format(\"fibonacci(90)={}\\n\", fibonacci_iteration(90)); // no wait/way?"
   ]
  },
  {
   "cell_type": "markdown",
   "id": "f772528a",
   "metadata": {
    "editable": true,
    "slideshow": {
     "slide_type": ""
    }
   },
   "source": [
    "`fibonacci(90)` is expected to be 10 billion times slower than `fibonacci(40)`, so you have to wait for centuries to see it returns the above value!"
   ]
  },
  {
   "cell_type": "markdown",
   "id": "2953e717",
   "metadata": {
    "editable": true,
    "slideshow": {
     "slide_type": ""
    }
   },
   "source": [
    "To demonstrate the issue, the following program overloads `fibonacci` to print the recursive calls and count them:"
   ]
  },
  {
   "cell_type": "code",
   "execution_count": null,
   "id": "d06f8339",
   "metadata": {
    "editable": true,
    "slideshow": {
     "slide_type": ""
    }
   },
   "outputs": [],
   "source": [
    "%%cpp\n",
    "unsigned long fibonacci(const unsigned long n, const int verbosity) {\n",
    "    static auto count=0uL, depth=-1uL;\n",
    "    depth+=1;\n",
    "    if (!depth) count=0;\n",
    "    count+=1;\n",
    "    if (verbosity>1) {\n",
    "        for (auto i=depth; i>0; i--) cout << '|';\n",
    "        cout << format(\"fibonacci({})\\n\", n);\n",
    "    }\n",
    "    auto value = n>1? fibonacci(n-1,verbosity)+fibonacci(n-2,verbosity): n==1?1:0;\n",
    "    if (!depth && verbosity>0) cout << format(\"Total number of calls: {}\\n\", count);\n",
    "    depth-=1;\n",
    "    return value;\n",
    "}"
   ]
  },
  {
   "cell_type": "markdown",
   "id": "31495c69",
   "metadata": {
    "editable": true,
    "slideshow": {
     "slide_type": ""
    }
   },
   "source": [
    "With verbosity level 2, the function calls and the total number of calls are printed:"
   ]
  },
  {
   "cell_type": "code",
   "execution_count": null,
   "id": "606b3916",
   "metadata": {
    "editable": true,
    "slideshow": {
     "slide_type": ""
    }
   },
   "outputs": [],
   "source": [
    "%%cpp\n",
    "fibonacci(0, 2)"
   ]
  },
  {
   "cell_type": "code",
   "execution_count": null,
   "id": "7692eedd",
   "metadata": {
    "editable": true,
    "slideshow": {
     "slide_type": ""
    }
   },
   "outputs": [],
   "source": [
    "%%cpp\n",
    "fibonacci(1, 2)"
   ]
  },
  {
   "cell_type": "code",
   "execution_count": null,
   "id": "28ca8b82",
   "metadata": {
    "editable": true,
    "slideshow": {
     "slide_type": ""
    }
   },
   "outputs": [],
   "source": [
    "%%cpp\n",
    "fibonacci(2, 2)"
   ]
  },
  {
   "cell_type": "code",
   "execution_count": null,
   "id": "b783068f",
   "metadata": {
    "editable": true,
    "slideshow": {
     "slide_type": ""
    }
   },
   "outputs": [],
   "source": [
    "%%cpp\n",
    "fibonacci(3, 2)"
   ]
  },
  {
   "cell_type": "code",
   "execution_count": null,
   "id": "e1936bd7",
   "metadata": {
    "editable": true,
    "slideshow": {
     "slide_type": ""
    }
   },
   "outputs": [],
   "source": [
    "%%cpp\n",
    "fibonacci(4, 2)"
   ]
  },
  {
   "cell_type": "markdown",
   "id": "afca2303",
   "metadata": {
    "editable": true,
    "slideshow": {
     "slide_type": ""
    }
   },
   "source": [
    "The depth of a recursive call is denoted by the number of bar `|`. Observe the redundant computations of lower order Fibonacci numbers."
   ]
  },
  {
   "cell_type": "markdown",
   "id": "611ed1ff",
   "metadata": {
    "editable": true,
    "slideshow": {
     "slide_type": ""
    }
   },
   "source": [
    "To see the total number of calls for larger orders, use the verbosity level $1$ to print only the count, not the calls:"
   ]
  },
  {
   "cell_type": "code",
   "execution_count": null,
   "id": "b82cfeb1",
   "metadata": {
    "editable": true,
    "slideshow": {
     "slide_type": ""
    }
   },
   "outputs": [],
   "source": [
    "%%cpp\n",
    "fibonacci(30, 1)"
   ]
  },
  {
   "cell_type": "markdown",
   "id": "8ac4ce25",
   "metadata": {
    "editable": true,
    "slideshow": {
     "slide_type": ""
    }
   },
   "source": [
    "The number of calls in computing $F_n$ can be shown to be $2F_{n+1}-1$:"
   ]
  },
  {
   "cell_type": "code",
   "execution_count": null,
   "id": "4788f14c",
   "metadata": {
    "editable": true,
    "slideshow": {
     "slide_type": ""
    }
   },
   "outputs": [],
   "source": [
    "%%cpp\n",
    "2*fibonacci(31)-1"
   ]
  },
  {
   "cell_type": "markdown",
   "id": "8c5ae78b",
   "metadata": {
    "editable": true,
    "slideshow": {
     "slide_type": ""
    }
   },
   "source": [
    "It can also be shown that the Fibonacci number grows exponentially as $F_n\\approx \\frac{\\phi^n}{\\sqrt{5}}$, so does the count. This explains the exponentially long wait."
   ]
  },
  {
   "cell_type": "markdown",
   "id": "f9e41761",
   "metadata": {
    "editable": true,
    "slideshow": {
     "slide_type": ""
    }
   },
   "source": [
    "::::{exercise}\n",
    ":label: ex:fix_fibonacci\n",
    "\n",
    "How to make the recursion `fibonacci` efficient?\n",
    "\n",
    "::::"
   ]
  },
  {
   "cell_type": "markdown",
   "id": "62712a65",
   "metadata": {
    "deletable": false,
    "editable": true,
    "nbgrader": {
     "cell_type": "markdown",
     "checksum": "e86821a8adceb05284e8cfd2505995f4",
     "grade": true,
     "grade_id": "fix_fibonacci",
     "locked": false,
     "points": 0,
     "schema_version": 3,
     "solution": true,
     "task": false
    },
    "slideshow": {
     "slide_type": ""
    }
   },
   "source": [
    "YOUR ANSWER HERE"
   ]
  },
  {
   "cell_type": "markdown",
   "id": "a26bcfad",
   "metadata": {
    "editable": true,
    "slideshow": {
     "slide_type": ""
    }
   },
   "source": [
    "But the more important question for now is:"
   ]
  },
  {
   "cell_type": "markdown",
   "id": "b21115d8",
   "metadata": {
    "editable": true,
    "slideshow": {
     "slide_type": ""
    }
   },
   "source": [
    "::::{exercise}\n",
    ":label: ex:fix_fibonacci_static\n",
    "\n",
    "How to rewrite the verbose `fibonacci` without using static/global variables?\n",
    "\n",
    "::::"
   ]
  },
  {
   "cell_type": "code",
   "execution_count": null,
   "id": "804aaf1a",
   "metadata": {
    "deletable": false,
    "editable": true,
    "nbgrader": {
     "cell_type": "code",
     "checksum": "360f58a316b2443e5d1bda4ef20a94f2",
     "grade": false,
     "grade_id": "fix_fibonacci_static",
     "locked": false,
     "schema_version": 3,
     "solution": true,
     "task": false
    },
    "slideshow": {
     "slide_type": ""
    },
    "tags": [
     "hide-cell"
    ]
   },
   "outputs": [],
   "source": [
    "%%cpp\n",
    "unsigned long fibonacci(const unsigned long n, const int verbosity) {\n",
    "    auto count=0uL, depth=-1uL;\n",
    "    /*\n",
    "    # REPLACE THE ENTIRE COMMENT WITH YOUR CODE #\n",
    "    */\n",
    "}\n",
    "fibonacci(4, 2)  // for testing"
   ]
  },
  {
   "cell_type": "markdown",
   "id": "46b13c93",
   "metadata": {
    "editable": true,
    "slideshow": {
     "slide_type": ""
    }
   },
   "source": [
    "## Modularization"
   ]
  },
  {
   "cell_type": "markdown",
   "id": "75138422",
   "metadata": {
    "editable": true,
    "slideshow": {
     "slide_type": ""
    }
   },
   "source": [
    "How to use a function you define in a file? The simplest way is to write the code that uses the function in the same file that defines it:"
   ]
  },
  {
   "cell_type": "code",
   "execution_count": null,
   "id": "f5b5444a",
   "metadata": {
    "editable": true,
    "slideshow": {
     "slide_type": ""
    }
   },
   "outputs": [],
   "source": [
    "%%writefile private/rsqrt.cpp\n",
    "#include <cmath>\n",
    "#include <iostream>\n",
    "#include <format>\n",
    "\n",
    "inline double rsqrt(const double x) {\n",
    "    return 1./std::sqrt(x);\n",
    "}\n",
    "\n",
    "using std::cout, std::format;\n",
    "\n",
    "int main() {\n",
    "    double x = 10./3;\n",
    "    cout << format(\"rsqrt({})={}.\\n\", x, rsqrt(x));\n",
    "    return 0;\n",
    "}"
   ]
  },
  {
   "cell_type": "code",
   "execution_count": null,
   "id": "7d2609e2",
   "metadata": {
    "editable": true,
    "slideshow": {
     "slide_type": ""
    }
   },
   "outputs": [],
   "source": [
    "!clang++ -fuse-ld=lld --std=c++20 --stdlib=libc++ -O2 -ffast-math private/rsqrt.cpp -o private/rsqrt && private/rsqrt"
   ]
  },
  {
   "cell_type": "markdown",
   "id": "769be7b6",
   "metadata": {
    "editable": true,
    "slideshow": {
     "slide_type": ""
    }
   },
   "source": [
    "[`inline`](https://en.cppreference.com/w/c/language/inline.html) is a [function specifier](https://en.cppreference.com/w/c/language/function_specifiers.html) that suggests to the compiler that it can perform optimizations such as [inlining](https://en.wikipedia.org/wiki/Inline_expansion). Inlining involves replacing function calls with the function's code directly at the call site, which can reduce function call overhead and improve performance, especially for small functions."
   ]
  },
  {
   "cell_type": "markdown",
   "id": "a6005511",
   "metadata": {
    "editable": true,
    "slideshow": {
     "slide_type": ""
    }
   },
   "source": [
    "We can also separate the function declaration from its definition:"
   ]
  },
  {
   "cell_type": "code",
   "execution_count": null,
   "id": "400a4e9e",
   "metadata": {},
   "outputs": [],
   "source": [
    "%%writefile private/rsqrt.cpp\n",
    "#include <cmath>\n",
    "#include <iostream>\n",
    "#include <format>\n",
    "\n",
    "using std::cout, std::format;\n",
    "\n",
    "int main() {\n",
    "    double rsqrt(const double x);   // rsqrt available in block scope, but inline not allowed\n",
    "    double x = 10./3;\n",
    "    cout << format(\"rsqrt({})={}.\\n\", x, rsqrt(x));\n",
    "    return 0;\n",
    "}\n",
    "\n",
    "inline double rsqrt(const double x) {\n",
    "    return 1./std::sqrt(x);\n",
    "}"
   ]
  },
  {
   "cell_type": "code",
   "execution_count": null,
   "id": "5414396c",
   "metadata": {
    "editable": true,
    "slideshow": {
     "slide_type": ""
    }
   },
   "outputs": [],
   "source": [
    "!clang++ -fuse-ld=lld --std=c++20 --stdlib=libc++ -O2 -ffast-math private/rsqrt.cpp -o private/rsqrt && private/rsqrt"
   ]
  },
  {
   "cell_type": "markdown",
   "id": "098ee5ef",
   "metadata": {
    "editable": true,
    "slideshow": {
     "slide_type": ""
    }
   },
   "source": [
    "The above attempts to encapsulate `rsqrt` within the block scope of `main`, making it easier to maintain. However, the `inline` declaration is only allowed in namespace scope, not block scope. If multiple programs need to access `rsqrt`, we can use a custom header file `rsqrt.hpp` as shown below, to be included in other files that use it:"
   ]
  },
  {
   "cell_type": "code",
   "execution_count": null,
   "id": "be2e352b",
   "metadata": {
    "editable": true,
    "slideshow": {
     "slide_type": ""
    }
   },
   "outputs": [],
   "source": [
    "%%writefile private/rsqrt.hpp\n",
    "#pragma once  // Non-standard pragma to ensure the header is only parsed once.\n",
    "#include <cmath>\n",
    "\n",
    "inline double rsqrt(const double x) {\n",
    "    return 1./std::sqrt(x);\n",
    "}"
   ]
  },
  {
   "cell_type": "code",
   "execution_count": null,
   "id": "96a163eb",
   "metadata": {
    "editable": true,
    "slideshow": {
     "slide_type": ""
    }
   },
   "outputs": [],
   "source": [
    "%%writefile private/main.cpp\n",
    "#include <iostream>\n",
    "#include <format>\n",
    "#include \"rsqrt.hpp\"\n",
    "\n",
    "using std::cout, std::format;\n",
    "\n",
    "int main() {\n",
    "    double x = 10./3;\n",
    "    cout << format(\"rsqrt({})={}.\\n\", x, rsqrt(x));\n",
    "    return 0;\n",
    "}"
   ]
  },
  {
   "cell_type": "code",
   "execution_count": null,
   "id": "d6a73388",
   "metadata": {
    "editable": true,
    "slideshow": {
     "slide_type": ""
    }
   },
   "outputs": [],
   "source": [
    "!clang++ -fuse-ld=lld --std=c++20 --stdlib=libc++ -O2 -ffast-math private/main.cpp -o private/main && private/main"
   ]
  },
  {
   "cell_type": "markdown",
   "id": "ff02bd7b",
   "metadata": {
    "editable": true,
    "slideshow": {
     "slide_type": ""
    }
   },
   "source": [
    "`rsqrt.hpp` is a header file included in `main.cpp` using a the quote form as supposed to the angular form:\n",
    "\n",
    "- Headers included in the quote form such as `#include \"rsqrt.hpp\"` tells the compiler to search in the current directory before the system directories.\n",
    "- Headers included using the angular bracket form such as `#include <format>` tells the compiler to search only in the system include directories as they are not defined in the current project."
   ]
  },
  {
   "cell_type": "code",
   "execution_count": null,
   "id": "898e887c",
   "metadata": {
    "editable": true,
    "slideshow": {
     "slide_type": ""
    },
    "tags": [
     "skip-execution"
    ]
   },
   "outputs": [],
   "source": [
    "%%ai\n",
    "What happens if a header file is included more than once? there is a cyclic \n",
    "inclusion of header files? E.g., have `rsqrt.hpp` include itself?"
   ]
  },
  {
   "cell_type": "markdown",
   "id": "9800aa56",
   "metadata": {
    "editable": true,
    "slideshow": {
     "slide_type": ""
    }
   },
   "source": [
    "[`#pragma once`](https://en.cppreference.com/w/cpp/preprocessor/impl) in the first line of `rsqrt.hpp` ensures that the header is parsed only once even if the header is included multiple times in a single compilation. However, since `#pragma once` is not part of the C++ standard, it may not be supported by older compilers. Whether it works also rely on the compiler's ability to detect file identity. A more conservative alternative is to use an include guard such as\n",
    "\n",
    "```cpp\n",
    "#ifndef RSQRT_HPP\n",
    "#define RSQRT_HPP\n",
    "...\n",
    "#endif // RSQRT_HPP\n",
    "```\n",
    "\n",
    "where the macro `RSQRT_HPP` should be chosen as specific as possible to indicates that the content of `rsqrt.hpp` has been included."
   ]
  },
  {
   "cell_type": "code",
   "execution_count": null,
   "id": "696c4555",
   "metadata": {
    "editable": true,
    "slideshow": {
     "slide_type": ""
    }
   },
   "outputs": [],
   "source": [
    "%%writefile private/rsqrt.hpp\n",
    "#ifndef RSQRT_HPP\n",
    "#define RSQRT_HPP\n",
    "#include <cmath>\n",
    "\n",
    "inline double rsqrt(const double x) {\n",
    "    return 1./std::sqrt(x);\n",
    "}\n",
    "#endif // macro RSQRT_HPP to indicate whether the header has been included"
   ]
  },
  {
   "cell_type": "code",
   "execution_count": null,
   "id": "54e23b03",
   "metadata": {
    "editable": true,
    "slideshow": {
     "slide_type": ""
    }
   },
   "outputs": [],
   "source": [
    "!clang++ --std=c++20 --stdlib=libc++ -O2 -ffast-math private/main.cpp -o private/main && private/main"
   ]
  },
  {
   "cell_type": "markdown",
   "id": "7c4a3210",
   "metadata": {
    "editable": true,
    "slideshow": {
     "slide_type": ""
    }
   },
   "source": [
    "`rsqrt.hpp` is also known as a header-only library because all implementations are included in the header file. For more complex implementations that can benefit from pre-compilation, the implementations can be placed in a separate source file. Consider the following modified header file:"
   ]
  },
  {
   "cell_type": "code",
   "execution_count": null,
   "id": "7c6573ad",
   "metadata": {
    "editable": true,
    "slideshow": {
     "slide_type": ""
    }
   },
   "outputs": [],
   "source": [
    "%%writefile private/rsqrt.hpp\n",
    "#include <cmath>\n",
    "\n",
    "inline double rsqrt(const double x) {\n",
    "    return 1./std::sqrt(x);\n",
    "}\n",
    "\n",
    "namespace intrin {\n",
    "double rsqrt(const double x);\n",
    "float rsqrt(const float x);\n",
    "} // namespace intrin to avoid name conflicts"
   ]
  },
  {
   "cell_type": "markdown",
   "id": "dd3a27ce",
   "metadata": {
    "editable": true,
    "slideshow": {
     "slide_type": ""
    }
   },
   "source": [
    "The header file\n",
    "- defines `inline double rsqrt(const double x)` as before, and\n",
    "- declares but not defines `double rsqrt(const double x)` and `float rsqrt(const float x)`.\n",
    "\n",
    "The declaration without inline specifiers are grouped under a custom [namespace](https://en.cppreference.com/w/cpp/language/namespace.html) called `intrin` to avoid name conflict with the inline version of `rsqrt`."
   ]
  },
  {
   "cell_type": "markdown",
   "id": "0806b32e",
   "metadata": {
    "editable": true,
    "slideshow": {
     "slide_type": ""
    }
   },
   "source": [
    "To implement the overloaded `intrin::rsqrt` function in a separate source file:"
   ]
  },
  {
   "cell_type": "code",
   "execution_count": null,
   "id": "0d9764eb",
   "metadata": {
    "editable": true,
    "slideshow": {
     "slide_type": ""
    }
   },
   "outputs": [],
   "source": [
    "%%writefile private/rsqrt.cpp\n",
    "#include \"rsqrt.hpp\"     // optional but strongly prefered\n",
    "#include <immintrin.h>    \n",
    "\n",
    "namespace intrin {\n",
    "// inline is unnecssary for definitions not in a header file\n",
    "double rsqrt(const double x) {\n",
    "    return 1. / _mm_cvtsd_f64(_mm_sqrt_sd(_mm_set_sd(x), _mm_set_sd(x)));\n",
    "}\n",
    "\n",
    "float rsqrt(const float x) {\n",
    "    return _mm_cvtss_f32(_mm_rsqrt_ss(_mm_set_ss(x)));\n",
    "}\n",
    "} // namespace mymath"
   ]
  },
  {
   "cell_type": "markdown",
   "id": "08145ec1",
   "metadata": {
    "editable": true,
    "slideshow": {
     "slide_type": ""
    }
   },
   "source": [
    "While the source file includes `<immintrin.h>` to access the CPU intrinsics directly in the implementations of `intrin::rsqrt`, it also includes the header file `rsqrt.hpp`, which contains the functions it implements. Technically, such inclusion is optional since the implementations do not rely on the inline version of `rsqrt`. However, doing so is strongly preferred to ensure the definitions are consistent with the declarations."
   ]
  },
  {
   "cell_type": "markdown",
   "id": "2d1631a8",
   "metadata": {
    "editable": true,
    "slideshow": {
     "slide_type": ""
    }
   },
   "source": [
    "To use the `rsqrt`'s in a program:"
   ]
  },
  {
   "cell_type": "code",
   "execution_count": null,
   "id": "ed269847",
   "metadata": {
    "editable": true,
    "slideshow": {
     "slide_type": ""
    }
   },
   "outputs": [],
   "source": [
    "%%writefile private/main.cpp\n",
    "#include <iostream>\n",
    "#include <format>\n",
    "#include \"rsqrt.hpp\"\n",
    "\n",
    "using std::cout, std::format;\n",
    "\n",
    "int main() {\n",
    "    double x = 10./3;\n",
    "    float x_ = static_cast<float>(x);\n",
    "    cout << format(\"rsqrt({})={}.\\n\", x, rsqrt(x));\n",
    "    cout << format(\"intrin::rsqrt({})={}.\\n\", x, intrin::rsqrt(x));\n",
    "    cout << format(\"intrin::rsqrt({}f)={}f.\\n\", x_, intrin::rsqrt(x_));\n",
    "    return 0;\n",
    "}"
   ]
  },
  {
   "cell_type": "code",
   "execution_count": null,
   "id": "4aacdb44",
   "metadata": {
    "editable": true,
    "slideshow": {
     "slide_type": ""
    }
   },
   "outputs": [],
   "source": [
    "!clang++ -fuse-ld=lld --std=c++20 --stdlib=libc++ -O2 -ffast-math private/main.cpp private/rsqrt.cpp -o private/main && private/main"
   ]
  },
  {
   "cell_type": "markdown",
   "id": "1b74e559",
   "metadata": {
    "editable": true,
    "slideshow": {
     "slide_type": ""
    }
   },
   "source": [
    "To share the library between multiple programs, we can first compile rsqrt to a dynamic library:"
   ]
  },
  {
   "cell_type": "code",
   "execution_count": null,
   "id": "e9b8ddc6",
   "metadata": {
    "editable": true,
    "slideshow": {
     "slide_type": ""
    }
   },
   "outputs": [],
   "source": [
    "!clang++ -v -fuse-ld=lld -fPIC -shared --std=c++20 --stdlib=libc++ -O2 -ffast-math private/rsqrt.cpp -o private/librsqrt.so"
   ]
  },
  {
   "cell_type": "markdown",
   "id": "a9489417",
   "metadata": {
    "editable": true,
    "slideshow": {
     "slide_type": ""
    }
   },
   "source": [
    "To compile and link `main.cpp` with `librsqrt.so`:"
   ]
  },
  {
   "cell_type": "code",
   "execution_count": null,
   "id": "ebf1e888",
   "metadata": {
    "editable": true,
    "slideshow": {
     "slide_type": ""
    }
   },
   "outputs": [],
   "source": [
    "!clang++ -v -fuse-ld=lld --std=c++20 --stdlib=libc++ -O2 private/main.cpp -L private -l rsqrt -o private/main_"
   ]
  },
  {
   "cell_type": "markdown",
   "id": "076ff858",
   "metadata": {
    "editable": true,
    "slideshow": {
     "slide_type": ""
    }
   },
   "source": [
    "To run the program, we need to include the folder `private` in the linker search path for dynamic libraries. This can be done by prepending `private` to the environment variable `LD_LIBRARY_PATH`:"
   ]
  },
  {
   "cell_type": "code",
   "execution_count": null,
   "id": "acae7a1d",
   "metadata": {
    "editable": true,
    "slideshow": {
     "slide_type": ""
    }
   },
   "outputs": [],
   "source": [
    "!LD_LIBRARY_PATH=private:$LD_LIBRARY_PATH private/main_"
   ]
  },
  {
   "cell_type": "markdown",
   "id": "1da551d9",
   "metadata": {
    "editable": true,
    "slideshow": {
     "slide_type": ""
    }
   },
   "source": [
    "Observe that the executable `private/main_` relying on `private/librsqrt.so` is smaller in size than the standalone executable `private/main`."
   ]
  },
  {
   "cell_type": "code",
   "execution_count": null,
   "id": "515fbb65",
   "metadata": {
    "editable": true,
    "slideshow": {
     "slide_type": ""
    }
   },
   "outputs": [],
   "source": [
    "!ls -l private/main private/main_ private/librsqrt.so"
   ]
  },
  {
   "cell_type": "code",
   "execution_count": null,
   "id": "18b7dd2d",
   "metadata": {
    "editable": true,
    "slideshow": {
     "slide_type": ""
    },
    "tags": [
     "skip-execution"
    ]
   },
   "outputs": [],
   "source": [
    "%%ai\n",
    "Why including the header file (e.g., rsqrt.hpp) in the implementation source file \n",
    "(e.g., rsqrt.cpp) that defines the function is strongly preferred in C++?"
   ]
  },
  {
   "cell_type": "markdown",
   "id": "20a09598",
   "metadata": {
    "editable": true,
    "slideshow": {
     "slide_type": ""
    }
   },
   "source": [
    "::::{exercise}\n",
    ":label: ex:addmul\n",
    "\n",
    "Review the [demo project from Lecture 1](../Lecture1/CMakeLists.txt) and describe how the functions defined by the project are \n",
    "- declared and defined in different header/source files; and\n",
    "- compiled into libraries/executables.\n",
    "\n",
    "::::"
   ]
  },
  {
   "cell_type": "markdown",
   "id": "daf334a6",
   "metadata": {
    "deletable": false,
    "nbgrader": {
     "cell_type": "markdown",
     "checksum": "e108d834332d7d1a7a83e7855885b483",
     "grade": true,
     "grade_id": "addmul",
     "locked": false,
     "points": 0,
     "schema_version": 3,
     "solution": true,
     "task": false
    }
   },
   "source": [
    "YOUR ANSWER HERE"
   ]
  }
 ],
 "metadata": {
  "jupytext": {
   "default_lexer": "ipython3"
  },
  "kernelspec": {
   "display_name": "Python 3 (ipykernel)",
   "language": "python",
   "name": "python3"
  }
 },
 "nbformat": 4,
 "nbformat_minor": 5
}
