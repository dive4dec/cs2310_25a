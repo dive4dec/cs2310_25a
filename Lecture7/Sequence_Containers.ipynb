{
 "cells": [
  {
   "cell_type": "markdown",
   "id": "df2f89e4",
   "metadata": {
    "editable": true,
    "slideshow": {
     "slide_type": ""
    }
   },
   "source": [
    "---\n",
    "title: Sequence Containers\n",
    "abstract: |\n",
    "    Encapsulation is a fundamental principle of object-oriented programming that promotes modularity and data protection by bundling data and the methods that operate on it within a single unit. Standard library containers such as array, vector, list, set, and map exemplify encapsulation by exposing well-defined interfaces while hiding internal implementation details. Encapsulation also facilitates resource management strategies like move semantics, where rvalue references and universal references allow efficient transfer and reuse of resources. This notebook introduces the basic idea of encapsulation using sequence containers such as vector and list.\n",
    "math:\n",
    "    '\\abs': '\\left\\lvert #1 \\right\\rvert'\n",
    "    '\\norm': '\\left\\lVert #1 \\right\\rVert'\n",
    "    '\\Set': '\\left\\{ #1 \\right\\}'\n",
    "    '\\set': '\\operatorname{set}'   \n",
    "    '\\mc': '\\mathcal{#1}'\n",
    "    '\\M': '\\boldsymbol{#1}'\n",
    "    '\\R': '\\mathsf{#1}'\n",
    "    '\\RM': '\\boldsymbol{\\mathsf{#1}}'\n",
    "    '\\op': '\\operatorname{#1}'\n",
    "    '\\E': '\\op{E}'\n",
    "    '\\d': '\\mathrm{\\mathstrut d}'\n",
    "    '\\SFM': '\\operatorname{SFM}'\n",
    "    '\\utag': '\\stackrel{\\text{(#1)}}{#2}'\n",
    "    '\\uref': '\\text{(#1)}'\n",
    "    '\\minimal': '\\operatorname{minimal}'\n",
    "skip_execution: true\n",
    "---"
   ]
  },
  {
   "cell_type": "code",
   "execution_count": null,
   "id": "2bf72281",
   "metadata": {
    "editable": true,
    "slideshow": {
     "slide_type": ""
    }
   },
   "outputs": [],
   "source": [
    "from __init__ import *\n",
    "%reload_ext divewidgets"
   ]
  },
  {
   "cell_type": "code",
   "execution_count": null,
   "id": "c008a00a",
   "metadata": {},
   "outputs": [],
   "source": [
    "%%cpp\n",
    "#include \"utility.hpp\""
   ]
  },
  {
   "cell_type": "code",
   "execution_count": null,
   "id": "1ab0a4f8",
   "metadata": {
    "editable": true,
    "slideshow": {
     "slide_type": ""
    },
    "tags": [
     "skip-execution"
    ]
   },
   "outputs": [],
   "source": [
    "if not input('Load JupyterAI? [Y/n]').lower()=='n':\n",
    "    %reload_ext jupyter_ai"
   ]
  },
  {
   "cell_type": "markdown",
   "id": "7eb0d662",
   "metadata": {},
   "source": [
    "## Motivation"
   ]
  },
  {
   "cell_type": "markdown",
   "id": "5555cd6b",
   "metadata": {},
   "source": [
    "Encapsulation is the technique of capturing resources such as variables (properties) and functions (methods) into an entity (object). This lays the foundation for object‑oriented programming (OOP). We will go into how sequence containers such as the vector and list in C++ hides the internal mechanics behind a clean interface."
   ]
  },
  {
   "cell_type": "markdown",
   "id": "9af7709d",
   "metadata": {},
   "source": [
    "To motivate the concept, consider the problem of enumerating [combinations](https://en.wikipedia.org/wiki/Combination) in [combinatorics](https://en.wikipedia.org/wiki/Combinatorics):"
   ]
  },
  {
   "cell_type": "markdown",
   "id": "0b1c72f5",
   "metadata": {},
   "source": [
    "::::{prf:definition} combination\n",
    ":label: def:combination\n",
    "\n",
    "A $k$-combination $S$ of $n$ items, say $\\Set{0, \\dots, n-1}$, is a selection of $k$ items from the set.\n",
    "\n",
    "::::"
   ]
  },
  {
   "cell_type": "markdown",
   "id": "10fbe9a4",
   "metadata": {},
   "source": [
    "::::{prf:example}\n",
    "\n",
    "For $3$ items $\\Set{0, 1, 2}$, we have:\n",
    "- one $0$-combination:\n",
    "  > $\\Set{}$\n",
    "- three $1$-combinations:\n",
    "  > $\\Set{0}, \\Set{1}, \\Set{2}$\n",
    "- three $2$-combinations:\n",
    "  > $\\Set{0, 1}, \\Set{0, 2}, \\Set{1, 2}$\n",
    "- no $k$-combinations for other values of $k$.\n",
    "\n",
    "::::"
   ]
  },
  {
   "cell_type": "markdown",
   "id": "768a9b71",
   "metadata": {},
   "source": [
    "**How to define a function to compute combinations?**"
   ]
  },
  {
   "cell_type": "markdown",
   "id": "d3e6583e",
   "metadata": {},
   "source": [
    "A divide-and-conquer approach is as follows:"
   ]
  },
  {
   "cell_type": "markdown",
   "id": "b7936337",
   "metadata": {},
   "source": [
    "::::{prf:proposition}\n",
    ":label: pro:combination\n",
    "\n",
    "A $k$-combination $S$ of $n$ items satisfies the recurrence relation for $1\\leq k\\leq n$:\n",
    "\n",
    "> $S\\setminus \\Set{n-1}$ is a combination of $n-1$ items with\n",
    ">  - $k-1$ items if ${{\\color{red}n-1}}\\in S$; or\n",
    ">  - ${\\color{blue}k}$ items otherwise.\n",
    "\n",
    "Reversing the above removal process gives a way of constructing a $k$-combination $S$ from a smaller combination $T$ of $n-1$ items with\n",
    "- ${\\color{blue}k}$ items; or\n",
    "- $k-1$ items and add ${\\color{red}n-1}$ to it.\n",
    "\n",
    "If $0=k< n$, $S=\\Set{}$. $S$ does not exists for other choices of $(n, k)$. E.g.,\n",
    "\n",
    "$$\n",
    "\\overbrace{{\\color{blue}\\Set{0, 1}}}^{\\mathclap{\\text{\\scriptsize ${\\color{blue}2}$-combination of $\\{0, 1\\}$}}}, \\underbrace{\\Set{0, {\\color{red}2}}, \\Set{1, {\\color{red}2}}}_{\\mathclap{\\text{\\scriptsize $2$ added to $1$-combinations of $\\{0, 1\\}$}}}.\n",
    "$$\n",
    "\n",
    "\n",
    "::::"
   ]
  },
  {
   "cell_type": "markdown",
   "id": "c8a5eed5",
   "metadata": {},
   "source": [
    "A $k$-combination in [](#def:combination) can be implemented as a vector container of indices from $\\Set{0, \\dots, n-1}$:"
   ]
  },
  {
   "cell_type": "code",
   "execution_count": null,
   "id": "4df73743",
   "metadata": {},
   "outputs": [],
   "source": [
    "%%cpp\n",
    "vector<size_t>{0,1,2}"
   ]
  },
  {
   "cell_type": "markdown",
   "id": "15664e53",
   "metadata": {},
   "source": [
    "The collection of combinations can be a vector of a vector of indices:"
   ]
  },
  {
   "cell_type": "code",
   "execution_count": null,
   "id": "db67f866",
   "metadata": {},
   "outputs": [],
   "source": [
    "%%cpp\n",
    "vector<vector<size_t> > {{0,1},{0,2},{1,2}}"
   ]
  },
  {
   "cell_type": "markdown",
   "id": "ace41cb3",
   "metadata": {},
   "source": [
    "To implements the divide-and-conquer approach in [](#pro:combination):\n",
    "\n",
    "::::{code} cpp\n",
    ":label: code_combination1\n",
    ":linenos:\n",
    ":caption: Returning a `std::vector` of $k$-combinations of $n$ items $\\Set{0,1, \\dots, n-1}$.\n",
    "/**\n",
    " * @brief Generates all k-combinations of the set {0, 1, ..., n-1}.\n",
    " *\n",
    " * This function uses recursion to build combinations by either:\n",
    " * - excluding the last element (n-1) and generating k-combinations of the first n-1 elements\n",
    " * - including the last element (n-1) and generating (k-1)-combinations of the first n-1 elements,\n",
    " *   then appending n-1 to each of those to form a full k-combination.\n",
    " *\n",
    " * @param n The size of the set to choose from.\n",
    " * @param k The number of elements to choose.\n",
    " * @return A vector of vectors, each representing a k-combination of the set {0, ..., n-1}.\n",
    " */\n",
    "std::function<std::vector<vector<size_t> >(const size_t, const size_t)>\n",
    "combination=[&combination](const size_t n, const size_t k) {\n",
    "    vector<vector<size_t> > output; // base case when k is not in {0, ..., n}.\n",
    "    if (k<=n) {\n",
    "        if (k) {\n",
    "            // Case 1: k-combinations from the first n-1 elements\n",
    "            for (auto &subset : combination(n-1, k)) output.push_back(subset);\n",
    "            \n",
    "            // Case 2: (k-1)-combinations from the first n-1 elements, with n-1 added\n",
    "            for (auto &subset : combination(n-1, k-1)) {\n",
    "                subset.push_back(n-1);\n",
    "                output.push_back(subset);\n",
    "            }\n",
    "        } else output.push_back(vector<size_t>()); // base case: only one combination of size 0 (empty set)\n",
    "    } // Hidden base case: No combinations if k is not in the range {0, ..., n}\n",
    "    return output;\n",
    "};\n",
    "::::"
   ]
  },
  {
   "cell_type": "code",
   "execution_count": null,
   "id": "e4de5244",
   "metadata": {},
   "outputs": [],
   "source": [
    "%%cpp\n",
    "std::function<std::vector<vector<size_t> >(const size_t, const size_t)>\n",
    "combination=[&combination](const size_t n, const size_t k) {\n",
    "    vector<vector<size_t> > output;\n",
    "    if (k<=n) {\n",
    "        if (k) {\n",
    "            for (auto &subset : combination(n-1, k)) output.push_back(subset);\n",
    "            for (auto &subset : combination(n-1, k-1)) {\n",
    "                subset.push_back(n-1);\n",
    "                output.push_back(subset);\n",
    "            }\n",
    "        } else output.push_back(vector<size_t>());\n",
    "    }\n",
    "    return output;\n",
    "};"
   ]
  },
  {
   "cell_type": "markdown",
   "id": "b50d342b",
   "metadata": {},
   "source": [
    "The following generates different combinations of $3$ items:"
   ]
  },
  {
   "cell_type": "code",
   "execution_count": null,
   "id": "88ccdb3e",
   "metadata": {},
   "outputs": [],
   "source": [
    "%%cpp\n",
    "combination(3, 0)"
   ]
  },
  {
   "cell_type": "code",
   "execution_count": null,
   "id": "87a9812e",
   "metadata": {},
   "outputs": [],
   "source": [
    "%%cpp\n",
    "combination(3, 1)"
   ]
  },
  {
   "cell_type": "code",
   "execution_count": null,
   "id": "6491cd3f",
   "metadata": {},
   "outputs": [],
   "source": [
    "%%cpp\n",
    "combination(3, 2)"
   ]
  },
  {
   "cell_type": "code",
   "execution_count": null,
   "id": "d999a467",
   "metadata": {},
   "outputs": [],
   "source": [
    "%%cpp\n",
    "combination(3, 3)"
   ]
  },
  {
   "cell_type": "code",
   "execution_count": null,
   "id": "37df67a8",
   "metadata": {},
   "outputs": [],
   "source": [
    "%%cpp\n",
    "combination(3, 4)"
   ]
  },
  {
   "cell_type": "markdown",
   "id": "b7cc5d7b",
   "metadata": {},
   "source": [
    "::::{exercise}\n",
    ":label: ex:combination1\n",
    "\n",
    "Why `combination(-1,0)` does not return an empty vector, as show using the method [`empty`](v)?\n",
    "\n",
    "```cpp\n",
    "bool empty() const;\n",
    "```\n",
    "\n",
    "::::"
   ]
  },
  {
   "cell_type": "code",
   "execution_count": null,
   "id": "52bf2ca6",
   "metadata": {},
   "outputs": [],
   "source": [
    "%%cpp\n",
    "combination(-1,0).empty()"
   ]
  },
  {
   "cell_type": "markdown",
   "id": "27b10347",
   "metadata": {
    "deletable": false,
    "nbgrader": {
     "cell_type": "markdown",
     "checksum": "7208120d4144a0c0671df313598ef98d",
     "grade": true,
     "grade_id": "combination1",
     "locked": false,
     "points": 0,
     "schema_version": 3,
     "solution": true,
     "task": false
    }
   },
   "source": [
    "YOUR ANSWER HERE"
   ]
  },
  {
   "cell_type": "markdown",
   "id": "38db16c1",
   "metadata": {},
   "source": [
    "Consider counting the number combinations using the method [size](https://en.cppreference.com/w/cpp/container/vector/size.html):\n",
    "\n",
    "```cpp\n",
    "size_type size() const;\n",
    "```"
   ]
  },
  {
   "cell_type": "code",
   "execution_count": null,
   "id": "4b19060d",
   "metadata": {},
   "outputs": [],
   "source": [
    "%%ai\n",
    "Explain in one line what does `const` mean for the method. \n",
    "What are other possible qualifiers:\n",
    "--\n",
    "size_type size() const;"
   ]
  },
  {
   "cell_type": "markdown",
   "id": "6fc5eda1",
   "metadata": {},
   "source": [
    "For instance, the total number of $11$-combinations of $22$ items is:"
   ]
  },
  {
   "cell_type": "code",
   "execution_count": null,
   "id": "a362a779",
   "metadata": {},
   "outputs": [],
   "source": [
    "%%cpp\n",
    "combination(22, 11).size()"
   ]
  },
  {
   "cell_type": "markdown",
   "id": "3d8716bd",
   "metadata": {},
   "source": [
    "The above requires about 6 seconds to compute. Similarly, the following computes the total number of $12$-combinations of $24$ items: (It takes about **30 seconds** to execute. You have been warned.)"
   ]
  },
  {
   "cell_type": "code",
   "execution_count": null,
   "id": "233be875",
   "metadata": {},
   "outputs": [],
   "source": [
    "%%cpp\n",
    "combination(24, 12).size()"
   ]
  },
  {
   "cell_type": "markdown",
   "id": "292f2597",
   "metadata": {},
   "source": [
    "**How to improve the performance?**"
   ]
  },
  {
   "cell_type": "markdown",
   "id": "833b3628",
   "metadata": {},
   "source": [
    "If the goal is to compute the number of combinations, we can do it simply by computing the binomial coefficient:"
   ]
  },
  {
   "cell_type": "markdown",
   "id": "80922403",
   "metadata": {},
   "source": [
    "::::{prf:proposition}\n",
    ":label: pro:binomial_coefficient\n",
    "\n",
    "The number of $k$-combinations of $n$ items is \n",
    "\n",
    "$$\n",
    "{n \\choose k} := \\frac{n!}{(n-k)!k!},\n",
    "$$\n",
    "\n",
    "which is called the [binomial coefficient](https://en.wikipedia.org/wiki/Binomial_coefficient).\n",
    "\n",
    "::::"
   ]
  },
  {
   "cell_type": "code",
   "execution_count": null,
   "id": "f5200f7b",
   "metadata": {},
   "outputs": [],
   "source": [
    "%%cpp\n",
    "unsigned long binomial_coefficient(const size_t n, const size_t k) {\n",
    "    return k<=n? (k? binomial_coefficient(n-1, k) + binomial_coefficient(n-1, k-1) : 1uL) : 0uL;\n",
    "}\n",
    "binomial_coefficient(24, 12)"
   ]
  },
  {
   "cell_type": "markdown",
   "id": "0a270c11",
   "metadata": {},
   "source": [
    "How to improve the performance of `combination`?"
   ]
  },
  {
   "cell_type": "markdown",
   "id": "248f4a42",
   "metadata": {},
   "source": [
    "Thanks to encapsulation, we can easily improve our code by choosing a suitable object and its associated methods:"
   ]
  },
  {
   "cell_type": "markdown",
   "id": "96214580",
   "metadata": {},
   "source": [
    "::::{code} cpp\n",
    ":label: code_combination2\n",
    ":linenos:\n",
    ":caption: Returning a [`std::list`](https://en.cppreference.com/w/cpp/container/list.html) of $k$-combinations of $n$ items $\\Set{0,1, \\dots, n-1}$.\n",
    "std::function<std::list<vector<size_t> >(const size_t, const size_t)>\n",
    "combination=[&combination](const size_t n, const size_t k) {\n",
    "    list<vector<size_t> > output;\n",
    "    if (k<=n) {\n",
    "        if (k) {\n",
    "            output.splice(output.cend(), combination(n-1, k));\n",
    "            list<vector<size_t> > subset_seq=combination(n-1, k-1);\n",
    "            for (auto &subset : subset_seq) subset.push_back(n-1);\n",
    "            output.splice(output.cend(), subset_seq);\n",
    "        } else output.emplace_back();\n",
    "    }\n",
    "    return output;\n",
    "};\n",
    "::::"
   ]
  },
  {
   "cell_type": "code",
   "execution_count": null,
   "id": "e95bba39",
   "metadata": {},
   "outputs": [],
   "source": [
    "%%cpp\n",
    "std::function<std::list<vector<size_t> >(const size_t, const size_t)>\n",
    "combination=[&combination](const size_t n, const size_t k) {\n",
    "    list<vector<size_t> > output;\n",
    "    if (k<=n) {\n",
    "        if (k) {\n",
    "            output.splice(output.cend(), combination(n-1, k));\n",
    "            list<vector<size_t> > subset_seq=combination(n-1, k-1);\n",
    "            for (auto &subset : subset_seq) subset.push_back(n-1);\n",
    "            output.splice(output.cend(), subset_seq);\n",
    "        } else output.emplace_back();\n",
    "    }\n",
    "    return output;\n",
    "};\n",
    "\n",
    "combination(3, 2)"
   ]
  },
  {
   "cell_type": "markdown",
   "id": "193aa589",
   "metadata": {},
   "source": [
    "The following call now completes in about 1 second instead of 6 seconds:"
   ]
  },
  {
   "cell_type": "code",
   "execution_count": null,
   "id": "dfab12ee",
   "metadata": {},
   "outputs": [],
   "source": [
    "%%cpp\n",
    "combination(22, 11).size()"
   ]
  },
  {
   "cell_type": "markdown",
   "id": "c7b08e9f",
   "metadata": {},
   "source": [
    "The following call completes in about 3-4 seconds instead of 30 seconds:"
   ]
  },
  {
   "cell_type": "code",
   "execution_count": null,
   "id": "a5c7ec5c",
   "metadata": {},
   "outputs": [],
   "source": [
    "%%cpp\n",
    "combination(24, 12).size()"
   ]
  },
  {
   "cell_type": "markdown",
   "id": "43bfaa27",
   "metadata": {},
   "source": [
    "That is close to 10 times speed up!"
   ]
  },
  {
   "cell_type": "markdown",
   "id": "bc7596a5",
   "metadata": {},
   "source": [
    "In [](#code_combination1), we mainly used the method [`push_back`](https://en.cppreference.com/w/cpp/container/vector/push_back.html) to create each combination and the collection of all combinations. There are two overloads:\n",
    "\n",
    "```cpp\n",
    "void push_back( const T& value );\n",
    "void push_back( T&& value );\n",
    "```\n",
    "\n",
    "Which overload is used and why?"
   ]
  },
  {
   "cell_type": "code",
   "execution_count": null,
   "id": "c0269665",
   "metadata": {},
   "outputs": [],
   "source": [
    "%%ai\n",
    "Explain very briefly what are the differences between the two overloads:\n",
    "--\n",
    "void push_back( const T& value );\n",
    "void push_back( T&& value );"
   ]
  },
  {
   "cell_type": "markdown",
   "id": "042db543",
   "metadata": {},
   "source": [
    "In [](#code_combination2), we used the [`std::list`](https://en.cppreference.com/w/cpp/container/list.html) object to store the collection of combinations, and its method [`splice`](https://en.cppreference.com/w/cpp/container/list/splice.html) to concatenate lists of combinations:\n",
    "\n",
    "```cpp\n",
    "void splice( const_iterator pos, list& other );\n",
    "void splice( const_iterator pos, list&& other );\n",
    "void splice( const_iterator pos, list& other, const_iterator it );\n",
    "void splice( const_iterator pos, list&& other, const_iterator it );\n",
    "void splice( const_iterator pos, list& other,\n",
    "             const_iterator first, const_iterator last );\n",
    "void splice( const_iterator pos, list&& other,\n",
    "             const_iterator first, const_iterator last );\n",
    "```"
   ]
  },
  {
   "cell_type": "markdown",
   "id": "5c038fda",
   "metadata": {},
   "source": [
    "Again, which overload is used and why?"
   ]
  },
  {
   "cell_type": "code",
   "execution_count": null,
   "id": "1f90eca5",
   "metadata": {},
   "outputs": [],
   "source": [
    "%%ai\n",
    "Explain very briefly what are the differences between the two overloads:\n",
    "--\n",
    "void splice( const_iterator pos, list& other );\n",
    "void splice( const_iterator pos, list&& other );\n",
    "void splice( const_iterator pos, list& other, const_iterator it );\n",
    "void splice( const_iterator pos, list&& other, const_iterator it );\n",
    "void splice( const_iterator pos, list& other,\n",
    "             const_iterator first, const_iterator last );\n",
    "void splice( const_iterator pos, list&& other,\n",
    "             const_iterator first, const_iterator last );"
   ]
  },
  {
   "cell_type": "markdown",
   "id": "4f79e986",
   "metadata": {},
   "source": [
    "We also used the method [`emplace_back()`](https://en.cppreference.com/w/cpp/container/list/emplace_back.html) in [](#code_combination2) in place of `push_back(vector<size_t>())` in [](#code_combination1) to add an empty combination, without constructing the combination explicitly:\n",
    "\n",
    "```cpp\n",
    "template< class... Args >\n",
    "reference emplace_back( Args&&... args );\n",
    "```"
   ]
  },
  {
   "cell_type": "markdown",
   "id": "4181ae48",
   "metadata": {},
   "source": [
    "What does the `...` mean and why is it used?"
   ]
  },
  {
   "cell_type": "code",
   "execution_count": null,
   "id": "f5792960",
   "metadata": {},
   "outputs": [],
   "source": [
    "%%ai\n",
    "Explain very briefly the following syntax:\n",
    "--\n",
    "template< class... Args >\n",
    "reference emplace_back( Args&&... args );"
   ]
  },
  {
   "cell_type": "code",
   "execution_count": null,
   "id": "6575053e",
   "metadata": {},
   "outputs": [],
   "source": [
    "%%ai\n",
    "Why construct in-place using `emplace_back` instead of `push_back`?"
   ]
  },
  {
   "cell_type": "markdown",
   "id": "ef632158",
   "metadata": {},
   "source": [
    "While we can reuse code easily with OOP, we need to know how to choose the object, its methods, and their overloads. That demands a deeper understanding of the design of the object and how its resources are managed. We will take a closer look at `std::vector` and `st::list`."
   ]
  },
  {
   "cell_type": "markdown",
   "id": "dd3d9b0c",
   "metadata": {},
   "source": [
    "## Referencing Resources"
   ]
  },
  {
   "cell_type": "markdown",
   "id": "43a03d23",
   "metadata": {},
   "source": [
    "To understand the difference between `&&` and `&`, recall the following code from a previous lecture. What is the value of `a` after executing the following code?"
   ]
  },
  {
   "cell_type": "code",
   "execution_count": null,
   "id": "f7edd5eb",
   "metadata": {},
   "outputs": [],
   "source": [
    "%%cpp\n",
    "auto a=1, &b=a;\n",
    "b+=1;\n",
    "a"
   ]
  },
  {
   "cell_type": "markdown",
   "id": "56083c16",
   "metadata": {},
   "source": [
    "To see why `a` is `2` instead of `1`, we can print the addresses of `a` and `b` and show that the addresses are the same:"
   ]
  },
  {
   "cell_type": "code",
   "execution_count": null,
   "id": "114d3e52",
   "metadata": {},
   "outputs": [],
   "source": [
    "%%cpp\n",
    "auto a=1, &b=L(a);\n",
    "L(b)+=1;\n",
    "a"
   ]
  },
  {
   "cell_type": "markdown",
   "id": "6dc348bb",
   "metadata": {},
   "source": [
    "`L` is a macro\n",
    "\n",
    "```cpp\n",
    "#define L(x) loc(x, std::string(\"(\")+std::string(type<decltype(x)>())+\") \"+#x)\n",
    "```\n",
    "\n",
    "which expands to a call to the function `loc` in the header file [\"utility.hpp\"](./utility.hpp). The function\n",
    "\n",
    "- decorates a value by printing its address, but\n",
    "- preserves the value so that the behavior of the original code remains unchanged.\n",
    "\n",
    "**How to properly pass an argument by reference to implement the `loc` function?**"
   ]
  },
  {
   "cell_type": "markdown",
   "id": "a9d15393",
   "metadata": {},
   "source": [
    "### Lvalue Reference"
   ]
  },
  {
   "cell_type": "markdown",
   "id": "645a535c",
   "metadata": {},
   "source": [
    "The following implementation passes the argument and return it by [lvalue reference](https://en.cppreference.com/w/cpp/language/reference.html#Lvalue_references):"
   ]
  },
  {
   "cell_type": "code",
   "execution_count": null,
   "id": "88bafccc",
   "metadata": {},
   "outputs": [],
   "source": [
    "%%cpp\n",
    "auto &loc1(auto &x) {\n",
    "    cout << format(\"@{:p}\\n\", static_cast<void *>(&x));\n",
    "    return x;\n",
    "}"
   ]
  },
  {
   "cell_type": "markdown",
   "id": "e5b3969e",
   "metadata": {},
   "source": [
    "It appears to work:"
   ]
  },
  {
   "cell_type": "code",
   "execution_count": null,
   "id": "ff337751",
   "metadata": {},
   "outputs": [],
   "source": [
    "%%cpp\n",
    "auto a=1, &b=loc1(a);\n",
    "loc1(b)+=1;\n",
    "a"
   ]
  },
  {
   "cell_type": "markdown",
   "id": "2578f66c",
   "metadata": {},
   "source": [
    "::::{exercise}\n",
    ":label: ex:loc1:const\n",
    "\n",
    "Why does `loc1` fail for constant arguments?\n",
    "\n",
    "```cpp\n",
    "const auto a=1, &b=loc1(a);\n",
    "loc1(b)\n",
    "```\n",
    "\n",
    ":::{hint}\n",
    "\n",
    "See [const_cast](https://en.cppreference.com/w/cpp/language/const_cast.html).\n",
    "\n",
    ":::\n",
    "\n",
    "::::"
   ]
  },
  {
   "cell_type": "markdown",
   "id": "6c693d91",
   "metadata": {
    "deletable": false,
    "nbgrader": {
     "cell_type": "markdown",
     "checksum": "b147cbaa84d613def5c0ac687975de5b",
     "grade": true,
     "grade_id": "loc1-const",
     "locked": false,
     "points": 0,
     "schema_version": 3,
     "solution": true,
     "task": false
    }
   },
   "source": [
    "YOUR ANSWER HERE"
   ]
  },
  {
   "cell_type": "markdown",
   "id": "3391fa88",
   "metadata": {},
   "source": [
    "Instead of using `const_cast`, it is safer to implement the following fix:"
   ]
  },
  {
   "cell_type": "code",
   "execution_count": null,
   "id": "7befe821",
   "metadata": {},
   "outputs": [],
   "source": [
    "%%cpp\n",
    "auto &loc1(auto &x) {\n",
    "    cout << format(\"@{:p}\\n\", static_cast<const void *>(&x));\n",
    "    return x;\n",
    "}"
   ]
  },
  {
   "cell_type": "markdown",
   "id": "e7e0b742",
   "metadata": {},
   "source": [
    "`loc1` now works for constants:"
   ]
  },
  {
   "cell_type": "code",
   "execution_count": null,
   "id": "351c4fce",
   "metadata": {},
   "outputs": [],
   "source": [
    "%%cpp\n",
    "const auto a=1, &b=loc1(a);\n",
    "loc1(b)"
   ]
  },
  {
   "cell_type": "code",
   "execution_count": null,
   "id": "d1b0c746",
   "metadata": {},
   "outputs": [],
   "source": [
    "%%ai\n",
    "Explain briefly when it is essential to use const_cast instead of static_cast\n",
    "for constant pointers."
   ]
  },
  {
   "cell_type": "markdown",
   "id": "8f92e422",
   "metadata": {},
   "source": [
    "Consider the following direct initialization:"
   ]
  },
  {
   "cell_type": "code",
   "execution_count": null,
   "id": "0d491e7d",
   "metadata": {},
   "outputs": [],
   "source": [
    "%%cpp\n",
    "auto u(vector<int>{1, 2, 3});"
   ]
  },
  {
   "cell_type": "markdown",
   "id": "d4d0ae6c",
   "metadata": {},
   "source": [
    "**Does `u` reuse the memory allocated to the rvalue `vector<int>{1, 2, 3}`?**"
   ]
  },
  {
   "cell_type": "markdown",
   "id": "cc931506",
   "metadata": {},
   "source": [
    "::::{exercise}\n",
    ":label: ex:loc1\n",
    "\n",
    "Why using `loc1` as follows leads to an error?\n",
    "\n",
    "```cpp\n",
    "auto u(loc1(vector<int>{1, 2, 3}));\n",
    "loc1(u);\n",
    "```\n",
    "\n",
    "As the following program shows, `loc1` appears to work for C-string but fail for the compound literal for `char`. Why?\n",
    "\n",
    "::::"
   ]
  },
  {
   "cell_type": "code",
   "execution_count": null,
   "id": "1ccdfccd",
   "metadata": {},
   "outputs": [],
   "source": [
    "%%cpp\n",
    "loc1(\"a\")        // works?!"
   ]
  },
  {
   "cell_type": "code",
   "execution_count": null,
   "id": "9618b3d0",
   "metadata": {},
   "outputs": [],
   "source": [
    "%%cpp\n",
    "// loc1((char[]){'a');  // fails: expects an lvalue for 1st argument\n",
    "// loc1(static_cast<char * const>((char[]){'a', 0})); // making it constant also fail\n",
    "(char[]){'a', 0}            // isn't it just \"a\"?"
   ]
  },
  {
   "cell_type": "markdown",
   "id": "36e9ca32",
   "metadata": {
    "deletable": false,
    "nbgrader": {
     "cell_type": "markdown",
     "checksum": "504cc9118d7a58e7f7a595afad643f0f",
     "grade": true,
     "grade_id": "loc1",
     "locked": false,
     "points": 0,
     "schema_version": 3,
     "solution": true,
     "task": false
    }
   },
   "source": [
    "YOUR ANSWER HERE"
   ]
  },
  {
   "cell_type": "markdown",
   "id": "1b90e8f1",
   "metadata": {},
   "source": [
    "A potential fix is to add `const` qualifier to the parameter `x`:"
   ]
  },
  {
   "cell_type": "code",
   "execution_count": null,
   "id": "caab33aa",
   "metadata": {},
   "outputs": [],
   "source": [
    "%%cpp\n",
    "auto &loc2(const auto &x) {\n",
    "    cout << format(\"@{:p}\\n\", static_cast<const void *>(&x));\n",
    "    return x;\n",
    "}"
   ]
  },
  {
   "cell_type": "code",
   "execution_count": null,
   "id": "63396c0d",
   "metadata": {},
   "outputs": [],
   "source": [
    "%%cpp\n",
    "auto u(loc2(vector<int>{1, 2, 3}));\n",
    "loc2(u)"
   ]
  },
  {
   "cell_type": "markdown",
   "id": "0c80cbe9",
   "metadata": {},
   "source": [
    "::::{exercise}\n",
    ":label: ex:loc2\n",
    "\n",
    "Why does the following code fail?\n",
    "\n",
    "```cpp\n",
    "auto u(loc2(vector<int>{1, 2, 3}));\n",
    "loc2(u).push_back(4);\n",
    "```\n",
    "\n",
    "::::"
   ]
  },
  {
   "cell_type": "markdown",
   "id": "e3caea0d",
   "metadata": {
    "deletable": false,
    "nbgrader": {
     "cell_type": "markdown",
     "checksum": "e9811f73b84acc0111cf53a856da5671",
     "grade": true,
     "grade_id": "loc2",
     "locked": false,
     "points": 0,
     "schema_version": 3,
     "solution": true,
     "task": false
    }
   },
   "source": [
    "YOUR ANSWER HERE"
   ]
  },
  {
   "cell_type": "markdown",
   "id": "b19123d6",
   "metadata": {},
   "source": [
    "### Rvalue Reference"
   ]
  },
  {
   "cell_type": "markdown",
   "id": "c2cc61f3",
   "metadata": {},
   "source": [
    "A potential fix is to pass the argument by [rvalue reference](https://en.cppreference.com/w/cpp/language/reference.html#Rvalue_references) using `&&` instead of `&`:"
   ]
  },
  {
   "cell_type": "code",
   "execution_count": null,
   "id": "6b95c3fa",
   "metadata": {},
   "outputs": [],
   "source": [
    "%%cpp\n",
    "auto &loc3(auto &&x) {\n",
    "    cout << format(\"@{:p}\\n\", static_cast<const void *>(&x));\n",
    "    return x;\n",
    "}"
   ]
  },
  {
   "cell_type": "code",
   "execution_count": null,
   "id": "8e1bc2d7",
   "metadata": {},
   "outputs": [],
   "source": [
    "%%cpp\n",
    "auto u(loc3(vector<int>{1, 2, 3}));\n",
    "loc3(u).push_back(4);\n",
    "u"
   ]
  },
  {
   "cell_type": "markdown",
   "id": "0a09d123",
   "metadata": {},
   "source": [
    "It seems to work now, right?"
   ]
  },
  {
   "cell_type": "code",
   "execution_count": null,
   "id": "8f3762c6",
   "metadata": {},
   "outputs": [],
   "source": [
    "%%cpp\n",
    "loc3(1) = 0;   // works?!\n",
    "1              // 1 is now 0?!"
   ]
  },
  {
   "cell_type": "markdown",
   "id": "5b556c1e",
   "metadata": {},
   "source": [
    "::::{caution}  It doesn't work. Why?\n",
    ":class: dropdown\n",
    "\n",
    "`loc3` returns an lvalue instead, which is assignable even for simple integer type. In other words, `loc3` changed the behavior of the original code.\n",
    "\n",
    "::::"
   ]
  },
  {
   "cell_type": "markdown",
   "id": "2cb6f1b8",
   "metadata": {},
   "source": [
    "::::{exercise}\n",
    ":label: ex:rvalue_ref1\n",
    "Why does the following code not change `1` to `2`?\n",
    "\n",
    "::::"
   ]
  },
  {
   "cell_type": "code",
   "execution_count": null,
   "id": "b0cd9a92",
   "metadata": {},
   "outputs": [],
   "source": [
    "%%cpp\n",
    "[](int &&x) {x=0;}(1);  // change 1 to 0\n",
    "auto x=1                // x is 0?"
   ]
  },
  {
   "cell_type": "markdown",
   "id": "b6f9edc0",
   "metadata": {
    "deletable": false,
    "nbgrader": {
     "cell_type": "markdown",
     "checksum": "b8a9f7a7f68efea43e8fb4b801463b90",
     "grade": true,
     "grade_id": "rvalue_ref1",
     "locked": false,
     "points": 0,
     "schema_version": 3,
     "solution": true,
     "task": false
    }
   },
   "source": [
    "YOUR ANSWER HERE"
   ]
  },
  {
   "cell_type": "markdown",
   "id": "1bb9b8fb",
   "metadata": {},
   "source": [
    "How about returning the output by rvalue reference as well?"
   ]
  },
  {
   "cell_type": "code",
   "execution_count": null,
   "id": "3f953891",
   "metadata": {},
   "outputs": [],
   "source": [
    "%%cpp\n",
    "template <class T>\n",
    "T &&loc4(T &&x) {\n",
    "    cout << format(\"@{:p}\\n\", static_cast<const void *>(&x));\n",
    "    return x;\n",
    "}"
   ]
  },
  {
   "cell_type": "markdown",
   "id": "f5c722a6",
   "metadata": {},
   "source": [
    "::::{caution}\n",
    "\n",
    "We used `template` instead of `auto` above because `auto &&loc4(auto &&x) { ... }` does not work for the ROOT kernel, similar to [this issue](https://github.com/jupyter-xeus/xeus-cling/issues/40).\n",
    "\n",
    "::::"
   ]
  },
  {
   "cell_type": "markdown",
   "id": "c69fd204",
   "metadata": {},
   "source": [
    "::::{exercise}\n",
    ":label: ex:loc4\n",
    "\n",
    "Why does the following code fail?\n",
    "\n",
    "```cpp\n",
    "auto u(loc4(vector<int>{1, 2, 3}));\n",
    "```\n",
    "\n",
    "::::"
   ]
  },
  {
   "cell_type": "markdown",
   "id": "decbfedc",
   "metadata": {
    "deletable": false,
    "nbgrader": {
     "cell_type": "markdown",
     "checksum": "b77f90ed184de31780cdebee35e5332b",
     "grade": true,
     "grade_id": "loc4",
     "locked": false,
     "points": 0,
     "schema_version": 3,
     "solution": true,
     "task": false
    }
   },
   "source": [
    "YOUR ANSWER HERE"
   ]
  },
  {
   "cell_type": "markdown",
   "id": "85467e1e",
   "metadata": {},
   "source": [
    "A potential fix is to cast `x` to an rvalue reference using [`std::move(x)`](https://en.cppreference.com/w/cpp/utility/move.html):"
   ]
  },
  {
   "cell_type": "code",
   "execution_count": null,
   "id": "136f5e16",
   "metadata": {},
   "outputs": [],
   "source": [
    "%%cpp\n",
    "template <class T>\n",
    "T &&loc5(T &&x) {\n",
    "    cout << format(\"@{:p}\\n\", static_cast<const void *>(&x));\n",
    "    return std::move(x);\n",
    "}"
   ]
  },
  {
   "cell_type": "markdown",
   "id": "78a96ae9",
   "metadata": {},
   "source": [
    "It appears to work now:"
   ]
  },
  {
   "cell_type": "code",
   "execution_count": null,
   "id": "e8f0065b",
   "metadata": {},
   "outputs": [],
   "source": [
    "%%cpp\n",
    "auto u(loc5(vector<int>{1, 2, 3}));\n",
    "// loc5(1) = 0;   // fails: expression is not assignable"
   ]
  },
  {
   "cell_type": "markdown",
   "id": "271d3283",
   "metadata": {},
   "source": [
    "Does it really work? `loc5` fails to handle lvalue:\n",
    "\n",
    "```cpp\n",
    "auto a=1;\n",
    "loc5(a);\n",
    "```"
   ]
  },
  {
   "cell_type": "markdown",
   "id": "d5b3cedd",
   "metadata": {},
   "source": [
    "The error message is:\n",
    "\n",
    "::::{code}\n",
    ":label: err_loc5\n",
    ":linenos:\n",
    ":emphasize-lines: 2\n",
    "error: non-const lvalue reference to type 'int' cannot bind to a temporary of type 'typename\n",
    "std::remove_reference<int &>::type' (aka 'int')\n",
    "    return std::move(x);\n",
    "           ^~~~~~~~~~~~\n",
    "::::"
   ]
  },
  {
   "cell_type": "markdown",
   "id": "be85b229",
   "metadata": {},
   "source": [
    "### Universal Reference"
   ]
  },
  {
   "cell_type": "markdown",
   "id": "c2c12963",
   "metadata": {},
   "source": [
    "A potential fix is to use `static_cast` instead of `std::move`:"
   ]
  },
  {
   "cell_type": "code",
   "execution_count": null,
   "id": "4202c316",
   "metadata": {},
   "outputs": [],
   "source": [
    "%%cpp\n",
    "template <class T>\n",
    "T &&loc6(T &&x) {\n",
    "    cout << format(\"@{:p}\\n\", static_cast<const void *>(&x));\n",
    "    return static_cast<T &&>(x);\n",
    "}"
   ]
  },
  {
   "cell_type": "code",
   "execution_count": null,
   "id": "4fc1fb45",
   "metadata": {},
   "outputs": [],
   "source": [
    "%%cpp\n",
    "auto u(loc6(vector<int>{1, 2, 3}));\n",
    "loc6(u)"
   ]
  },
  {
   "cell_type": "markdown",
   "id": "e0494d1c",
   "metadata": {},
   "source": [
    "But how can that make a difference? According to [the documentation](https://en.cppreference.com/w/cpp/utility/move.html):\n",
    "> It (`std::move`) is exactly equivalent to a static_cast to an rvalue reference type."
   ]
  },
  {
   "cell_type": "markdown",
   "id": "1fe9d343",
   "metadata": {},
   "source": [
    "The same fix does not work below:"
   ]
  },
  {
   "cell_type": "code",
   "execution_count": null,
   "id": "2040611b",
   "metadata": {},
   "outputs": [],
   "source": [
    "%%cpp\n",
    "int a=1;\n",
    "[](int &&b) { return static_cast<int &&>(b); }\n",
    "// (a);  // fails: expects an rvalue for 1st argument"
   ]
  },
  {
   "cell_type": "markdown",
   "id": "f3616b24",
   "metadata": {},
   "source": [
    "An important clue comes from the [error message of `loc5(a)`](#err_loc5):\n",
    "\n",
    "```cpp\n",
    "std::remove_reference<int &>::type' (aka 'int')\n",
    "```\n",
    "\n",
    "The return type from `loc5` is an lvalue, not an rvalue!"
   ]
  },
  {
   "cell_type": "markdown",
   "id": "ce447e19",
   "metadata": {},
   "source": [
    "::::{caution} Universal reference\n",
    ":class: dropdown\n",
    "\n",
    "For parameters of function templates, `&&` is a [forwarding/universal reference](https://en.cppreference.com/w/cpp/language/reference.html#Forwarding_references) instead of an rvalue reference. It simply forwards the argument, preserving its value category:\n",
    "\n",
    "- For the code `loc5(a);`, `a` is passed by lvalue reference, i.e., `T &&` becomes `int &`, which is also the return type by the function declaration `T &&loc5(T &&x)`. The return lvalue reference is non-const and therefore cannot bind to a temporary `std::move(x)`.\n",
    "- `loc6(a);` works because `static_cast<T &&>(x)` instantiates to `static_cast<int &>(x)`, which is an lvalue reference instead of a temporary!\n",
    "\n",
    "::::"
   ]
  },
  {
   "cell_type": "markdown",
   "id": "2a49e314",
   "metadata": {},
   "source": [
    "We can use [`std::forward<T>`](https://en.cppreference.com/w/cpp/utility/forward.html) instead of `static_cast<T &&>` to make it less confusing:\n",
    "\n",
    "::::{code} cpp\n",
    ":label: code_loc\n",
    ":caption: The implementation of `loc` in [\"utility.hpp\"](./utility.hpp).\n",
    "/**\n",
    " * @brief Logs the memory address of a variable along with an optional label.\n",
    " * \n",
    " * This function is useful for educational purposes, especially when tracking\n",
    " * object lifetimes, locations in memory, or verifying move semantics.\n",
    " * \n",
    " * @tparam T Type of the variable (supports universal references).\n",
    " * @param x The variable to log.\n",
    " * @param label Optional label to identify the variable in the output.\n",
    " * @return T&& Perfectly forwarded variable.\n",
    " */\n",
    "template <class T>\n",
    "T &&loc(T &&x, const string &label=\"\") {\n",
    "    cout << format(\"{} @{:p}\\n\",\n",
    "        label,\n",
    "        static_cast<const void*>(&x));\n",
    "    return std::forward<T>(x);\n",
    "}\n",
    "::::"
   ]
  },
  {
   "cell_type": "code",
   "execution_count": null,
   "id": "5e801351",
   "metadata": {},
   "outputs": [],
   "source": [
    "%%cpp\n",
    "auto u(loc(vector<int>{1, 2, 3}));\n",
    "loc(u)"
   ]
  },
  {
   "cell_type": "markdown",
   "id": "584a0abd",
   "metadata": {},
   "source": [
    "**Back to our original endeavor, does `u` reuse the memory allocated to the rvalue `vector<int>{1, 2, 3}`?**"
   ]
  },
  {
   "cell_type": "markdown",
   "id": "c6bdc7a6",
   "metadata": {},
   "source": [
    "It seems that the rvalue `vector<int>{1, 2, 3}` occupies a different memory location than the lvalue `u` does. What about copy initializations?"
   ]
  },
  {
   "cell_type": "code",
   "execution_count": null,
   "id": "afb95b6c",
   "metadata": {},
   "outputs": [],
   "source": [
    "%%cpp\n",
    "auto u=LB((vector<int>{1, 2, 3}));\n",
    "auto v=LB(u);\n",
    "LB(v)"
   ]
  },
  {
   "cell_type": "code",
   "execution_count": null,
   "id": "6e9399ba",
   "metadata": {},
   "outputs": [],
   "source": [
    "%%ai\n",
    "Explain very briefly how direct initialization in C++ is different from\n",
    "copy initialization and list initialization?"
   ]
  },
  {
   "cell_type": "markdown",
   "id": "684b967e",
   "metadata": {},
   "source": [
    "We are now ready to dive into how objects are constructed using different constructors and initializations."
   ]
  },
  {
   "cell_type": "markdown",
   "id": "9a2aa41d",
   "metadata": {},
   "source": [
    "## Vector Construction"
   ]
  },
  {
   "cell_type": "markdown",
   "id": "5ee8011e",
   "metadata": {},
   "source": [
    "There many [constructors](https://en.cppreference.com/w/cpp/container/vector/vector.html) available for constructing vectors. Unlike other methods, constructors have no names but can be called in various ways to create rvalues or to initialize variables."
   ]
  },
  {
   "cell_type": "markdown",
   "id": "2d6ff191",
   "metadata": {},
   "source": [
    "### Converting Constructors"
   ]
  },
  {
   "cell_type": "markdown",
   "id": "9af0e4d8",
   "metadata": {},
   "source": [
    "Constructors that take a single argument and is not marked as [explicit](https://en.cppreference.com/w/cpp/language/explicit.html) are called [converting constructors](https://en.cppreference.com/w/cpp/language/converting_constructor.html). These constructors can be used for implicit conversions or copy initialization."
   ]
  },
  {
   "cell_type": "markdown",
   "id": "52a5ea74",
   "metadata": {},
   "source": [
    "#### Initializer‑List Constructor"
   ]
  },
  {
   "cell_type": "markdown",
   "id": "d3e553fb",
   "metadata": {},
   "source": [
    "```cpp\n",
    "vector( std::initializer_list<T> init,\n",
    "        const Allocator& alloc = Allocator() );\n",
    "```\n",
    "adds elements from a (braced) [initializer list](https://en.cppreference.com/w/cpp/utility/initializer_list/initializer_list.html)."
   ]
  },
  {
   "cell_type": "code",
   "execution_count": null,
   "id": "0c545ebc",
   "metadata": {},
   "outputs": [],
   "source": [
    "%%cpp\n",
    "vector<size_t> {0, 1, 2}     // vector constructed with braced initializer list"
   ]
  },
  {
   "cell_type": "code",
   "execution_count": null,
   "id": "f26802fa",
   "metadata": {},
   "outputs": [],
   "source": [
    "%%cpp\n",
    "vector<size_t> u {0, 1, 2}   // list initialization"
   ]
  },
  {
   "cell_type": "code",
   "execution_count": null,
   "id": "8eebc818",
   "metadata": {},
   "outputs": [],
   "source": [
    "%%cpp\n",
    "vector<size_t> u({0, 1, 2})  // direct initialization with braced initializer list"
   ]
  },
  {
   "cell_type": "code",
   "execution_count": null,
   "id": "52326259",
   "metadata": {},
   "outputs": [],
   "source": [
    "%%cpp\n",
    "vector<size_t> u={0, 1, 2}   // copy-list initialization"
   ]
  },
  {
   "cell_type": "markdown",
   "id": "84589936",
   "metadata": {},
   "source": [
    "To use an initializer list explicitly:"
   ]
  },
  {
   "cell_type": "code",
   "execution_count": null,
   "id": "43b83069",
   "metadata": {},
   "outputs": [],
   "source": [
    "%%cpp\n",
    "initializer_list<size_t> ilist {0, 1, 2};\n",
    "(vector<size_t>(ilist))  // vector constructed with initializer list"
   ]
  },
  {
   "cell_type": "code",
   "execution_count": null,
   "id": "6ad3e602",
   "metadata": {},
   "outputs": [],
   "source": [
    "%%cpp\n",
    "vector<size_t> u(init_list)  // direct initialization with initializer list"
   ]
  },
  {
   "cell_type": "code",
   "execution_count": null,
   "id": "b09dcee7",
   "metadata": {},
   "outputs": [],
   "source": [
    "%%ai\n",
    "Explain very briefly how is copy-list initialization different from\n",
    "list initialization for `std::vector`."
   ]
  },
  {
   "cell_type": "markdown",
   "id": "d1609409",
   "metadata": {},
   "source": [
    "#### Move Constructor"
   ]
  },
  {
   "cell_type": "markdown",
   "id": "126c6b63",
   "metadata": {},
   "source": [
    "```cpp\n",
    "vector( vector&& other );\n",
    "```\n",
    "moves elements from another vector:"
   ]
  },
  {
   "cell_type": "code",
   "execution_count": null,
   "id": "c37e6bb5",
   "metadata": {},
   "outputs": [],
   "source": [
    "%%cpp\n",
    "vector<int>(vector<int>{1, 2, 3}) // vector constructed with elements moved from other"
   ]
  },
  {
   "cell_type": "code",
   "execution_count": null,
   "id": "0df180ee",
   "metadata": {},
   "outputs": [],
   "source": [
    "%%cpp\n",
    "auto u(vector<int>{1, 2, 3})      // direct initialization"
   ]
  },
  {
   "cell_type": "code",
   "execution_count": null,
   "id": "55ba2c0d",
   "metadata": {},
   "outputs": [],
   "source": [
    "%%cpp\n",
    "auto u=vector<int>{1, 2, 3}       // copy initialization"
   ]
  },
  {
   "cell_type": "markdown",
   "id": "f102784f",
   "metadata": {},
   "source": [
    "To see that elements are not duplicated:"
   ]
  },
  {
   "cell_type": "code",
   "execution_count": null,
   "id": "2907f7e2",
   "metadata": {},
   "outputs": [],
   "source": [
    "%%cpp\n",
    "auto u(LB(L((vector<int>{1, 2, 3}))));\n",
    "L(LB(u))"
   ]
  },
  {
   "cell_type": "markdown",
   "id": "f706c0f0",
   "metadata": {},
   "source": [
    "Even though the lvalue `u` and rvalue `vector<int>{1, 2, 3}` have different memory locations, they begin storing their elements at the same location, i.e., the lvalue reuses the memory allocated to the rvalue."
   ]
  },
  {
   "cell_type": "markdown",
   "id": "32a71b4d",
   "metadata": {},
   "source": [
    ":::::{seealso} What is `LB`?\n",
    "\n",
    "`LB` is a macro defined as\n",
    "\n",
    "```cpp\n",
    "#define LB(x) loc_begin(x, std::string(\"(\")+std::string(type<decltype(x)>())+\") \"+#x)\n",
    "```\n",
    "\n",
    "which expands to a call to `loc_begin` in [\"utility.hpp\"](./utility.hpp) to locate the beginning of the vector:\n",
    "\n",
    "::::{code} cpp\n",
    "// Overload for containers with .cbegin()\n",
    "template <class T>\n",
    "std::enable_if_t<has_begin<T>::value, T&&>\n",
    "&&loc_begin(T &&x, const string &label=\"\") {\n",
    "    cout << format(\"{} begin@{:p}\\n\", label, static_cast<const void*>(&*(x.cbegin())));\n",
    "    return std::forward<T>(x);\n",
    "}\n",
    "::::\n",
    ":::::"
   ]
  },
  {
   "cell_type": "markdown",
   "id": "2091d5d3",
   "metadata": {},
   "source": [
    "To see that the elements are moved:"
   ]
  },
  {
   "cell_type": "code",
   "execution_count": null,
   "id": "d7011d7f",
   "metadata": {},
   "outputs": [],
   "source": [
    "%%cpp\n",
    "vector<size_t> u {1,2,3}, v(std::move(LB(u))); // move elements of `u` to `v`\n",
    "LB(u).empty()? LB(v): throw runtime_error(\"Elements of `u` should be moved!\")"
   ]
  },
  {
   "cell_type": "markdown",
   "id": "7fd56c38",
   "metadata": {},
   "source": [
    "`std::move` casts `u` into an rvalue, which is then passed to the move constructor: \n",
    "- The move constructor steals the resources from `u`, making it empty and\n",
    "- the address of its first element becomes `nullptr`."
   ]
  },
  {
   "cell_type": "markdown",
   "id": "b6145103",
   "metadata": {},
   "source": [
    "#### Copy Constructor"
   ]
  },
  {
   "cell_type": "markdown",
   "id": "fbd606a9",
   "metadata": {},
   "source": [
    "```cpp\n",
    "vector( const vector& other );\n",
    "```\n",
    "can be used to copy elements from another vector:"
   ]
  },
  {
   "cell_type": "code",
   "execution_count": null,
   "id": "c3bbef2d",
   "metadata": {},
   "outputs": [],
   "source": [
    "%%cpp\n",
    "vector<size_t> u {1,2,3};\n",
    "(vector<size_t>(u))  // vector constructed with elements copied from other"
   ]
  },
  {
   "cell_type": "code",
   "execution_count": null,
   "id": "a28fb2f2",
   "metadata": {},
   "outputs": [],
   "source": [
    "%%cpp\n",
    "auto v(u)  // direct initialization"
   ]
  },
  {
   "cell_type": "code",
   "execution_count": null,
   "id": "a9a483e7",
   "metadata": {},
   "outputs": [],
   "source": [
    "%%cpp\n",
    "auto v=u  // copy initialization"
   ]
  },
  {
   "cell_type": "markdown",
   "id": "dda0c406",
   "metadata": {},
   "source": [
    "To see that the elements are duplicated:"
   ]
  },
  {
   "cell_type": "code",
   "execution_count": null,
   "id": "dc959000",
   "metadata": {},
   "outputs": [],
   "source": [
    "%%cpp\n",
    "(LB(u) == LB(v))"
   ]
  },
  {
   "cell_type": "markdown",
   "id": "0625a025",
   "metadata": {},
   "source": [
    "`v` is equal to `u` but it does not begin at the same location as `u`."
   ]
  },
  {
   "cell_type": "markdown",
   "id": "5b4170f7",
   "metadata": {},
   "source": [
    "::::{seealso} Object copying\n",
    "\n",
    "- `v` is said to be a [deep copy](https://en.wikipedia.org/wiki/Object_copying#Deep_copy) of `u` in the sense that `v` is a new container whose elements are copies of those of `u`.\n",
    "- In contrast, a [shallow copy](https://en.wikipedia.org/wiki/Object_copying#Shallow_copy) reuses the elements of the original.\n",
    "\n",
    "::::"
   ]
  },
  {
   "cell_type": "markdown",
   "id": "917595fb",
   "metadata": {},
   "source": [
    "Shallow copy is prone to mutability bug. For instance:"
   ]
  },
  {
   "cell_type": "markdown",
   "id": "2a7250c1",
   "metadata": {},
   "source": [
    "::::{exercise}\n",
    ":label: ex:deep_copy\n",
    "\n",
    "Explain why `s` at the end of the following code is not `\"aba\"`?\n",
    "\n",
    ":::{hint}\n",
    "\n",
    "The first call `LB(s)` uses the overload\n",
    "\n",
    "```cpp\n",
    "// Overload for C-style arrays\n",
    "template <class T, size_t N>\n",
    "T (&loc_begin(T (&x)[N], const string &label = \"\"))[N] {\n",
    "    cout << format(\"{} begin@{:p}\\n\", label, static_cast<const void*>(&x[0]));\n",
    "    return x;\n",
    "}\n",
    "```\n",
    "\n",
    "but the second call `LB(t)` uses the overload\n",
    "\n",
    "```cpp\n",
    "// For pointers or decayed arrays\n",
    "template <class T>\n",
    "typename std::enable_if<std::is_pointer<T>::value, T>::type\n",
    "loc_begin(T x, const string& label = \"\") {\n",
    "    cout << format(\"{} begin@{:p}\\n\", label, static_cast<const void*>(x));\n",
    "    return x;\n",
    "}\n",
    "```\n",
    "\n",
    ":::\n",
    "\n",
    "::::"
   ]
  },
  {
   "cell_type": "code",
   "execution_count": null,
   "id": "385b39fc",
   "metadata": {},
   "outputs": [],
   "source": [
    "%%cpp\n",
    "char s[]=\"aba\";\n",
    "auto t(LB(s));\n",
    "LB(t)[1]='v';\n",
    "s // aba?"
   ]
  },
  {
   "cell_type": "markdown",
   "id": "fe785583",
   "metadata": {
    "deletable": false,
    "nbgrader": {
     "cell_type": "markdown",
     "checksum": "10725bd3aa3cca4ea01c596c47961e61",
     "grade": true,
     "grade_id": "deep_copy",
     "locked": false,
     "points": 0,
     "schema_version": 3,
     "solution": true,
     "task": false
    }
   },
   "source": [
    "YOUR ANSWER HERE"
   ]
  },
  {
   "cell_type": "markdown",
   "id": "05110d4c",
   "metadata": {},
   "source": [
    "::::{exercise}\n",
    ":label: ex:constructors1\n",
    "\n",
    "Explain all the constructors involved in the following declaration.\n",
    "\n",
    "::::"
   ]
  },
  {
   "cell_type": "code",
   "execution_count": null,
   "id": "d0d178e5",
   "metadata": {},
   "outputs": [],
   "source": [
    "%%cpp\n",
    "auto u=vector<vector<size_t> > {{1}, {2, 3}}, v=u;\n",
    "v"
   ]
  },
  {
   "cell_type": "markdown",
   "id": "89b6e926",
   "metadata": {
    "deletable": false,
    "nbgrader": {
     "cell_type": "markdown",
     "checksum": "f5012ff269f33b34f3b525396b051061",
     "grade": true,
     "grade_id": "constructor1",
     "locked": false,
     "points": 0,
     "schema_version": 3,
     "solution": true,
     "task": false
    }
   },
   "source": [
    "YOUR ANSWER HERE"
   ]
  },
  {
   "cell_type": "markdown",
   "id": "9d3e29fa",
   "metadata": {},
   "source": [
    "### Explicit Constructors"
   ]
  },
  {
   "cell_type": "markdown",
   "id": "2786ae9c",
   "metadata": {},
   "source": [
    "There are also constructors that cannot be used in copy initialization nor implicit conversion."
   ]
  },
  {
   "cell_type": "markdown",
   "id": "3e2db99f",
   "metadata": {},
   "source": [
    "#### Default Constructor"
   ]
  },
  {
   "cell_type": "markdown",
   "id": "c9f90507",
   "metadata": {},
   "source": [
    "```cpp\n",
    "vector() noexcept(noexcept(Allocator())) : vector(Allocator()) {}\n",
    "```\n",
    "takes no argument and returns an empty vector:"
   ]
  },
  {
   "cell_type": "code",
   "execution_count": null,
   "id": "2d975ddf",
   "metadata": {},
   "outputs": [],
   "source": [
    "%%cpp\n",
    "vector<size_t>()"
   ]
  },
  {
   "cell_type": "code",
   "execution_count": null,
   "id": "23365f6e",
   "metadata": {},
   "outputs": [],
   "source": [
    "%%cpp\n",
    "vector<size_t> u"
   ]
  },
  {
   "cell_type": "markdown",
   "id": "70f45543",
   "metadata": {},
   "source": [
    ":::{caution}\n",
    "\n",
    "`vector<size_t> u()` is also incorrect as it can be mistaken to be a function declaration instead of a direct initialization with the default initializer.\n",
    "\n",
    ":::"
   ]
  },
  {
   "cell_type": "code",
   "execution_count": null,
   "id": "f0b096f8",
   "metadata": {},
   "outputs": [],
   "source": [
    "%%ai\n",
    "Explain brielfy the motivation of `noexcept` in the constructor:\n",
    "`vector() noexcept(noexcept(Allocator())) : vector(Allocator()) \\{\\}`"
   ]
  },
  {
   "cell_type": "markdown",
   "id": "72ad675d",
   "metadata": {},
   "source": [
    "#### Fill Constructors"
   ]
  },
  {
   "cell_type": "markdown",
   "id": "4ef611a3",
   "metadata": {},
   "source": [
    ":::{code} cpp\n",
    ":linenos:\n",
    "explicit vector( size_type count, const Allocator& alloc = Allocator() );\n",
    "vector( size_type count, const T& value, const Allocator& alloc = Allocator() );\n",
    "::: \n",
    "fill a vector with `n` copies of `value`, if available, and `0` otherwise:"
   ]
  },
  {
   "cell_type": "code",
   "execution_count": null,
   "id": "4dc71199",
   "metadata": {},
   "outputs": [],
   "source": [
    "%%cpp\n",
    "vector<size_t>(3, 4)           // vector constructed by the fill constructor"
   ]
  },
  {
   "cell_type": "code",
   "execution_count": null,
   "id": "dc104622",
   "metadata": {},
   "outputs": [],
   "source": [
    "%%cpp\n",
    "vector<size_t> u(2)      // direct initialization"
   ]
  },
  {
   "cell_type": "markdown",
   "id": "ded69b81",
   "metadata": {},
   "source": [
    "::::{exercise} \n",
    ":label: ex:constructor2\n",
    "\n",
    "Why `vector<size_t> v=2;` does not create a vector `v` same as `u`?\n",
    "\n",
    "::::"
   ]
  },
  {
   "cell_type": "markdown",
   "id": "bcf3b47e",
   "metadata": {
    "deletable": false,
    "nbgrader": {
     "cell_type": "markdown",
     "checksum": "caef38069dd392982ddbe67557509c6b",
     "grade": true,
     "grade_id": "constructor2",
     "locked": false,
     "points": 0,
     "schema_version": 3,
     "solution": true,
     "task": false
    }
   },
   "source": [
    "YOUR ANSWER HERE"
   ]
  },
  {
   "cell_type": "markdown",
   "id": "cdb4e5f3",
   "metadata": {},
   "source": [
    "#### Range Constructor"
   ]
  },
  {
   "cell_type": "markdown",
   "id": "5058570b",
   "metadata": {},
   "source": [
    "```cpp\n",
    "template<class InputIt> vector(InputIt first, InputIt last, const Allocator& a = Allocator())\n",
    "```\n",
    "copies elements within a range from the position `first` up to but excluding `last`:"
   ]
  },
  {
   "cell_type": "code",
   "execution_count": null,
   "id": "bd63d024",
   "metadata": {},
   "outputs": [],
   "source": [
    "%%cpp\n",
    "vector<size_t> u {0, 1, 2, 3};\n",
    "vector<size_t>(u.cbegin(), u.cend()-1)   // vector constructed by coping elements of u except for the last"
   ]
  },
  {
   "cell_type": "code",
   "execution_count": null,
   "id": "f8717136",
   "metadata": {},
   "outputs": [],
   "source": [
    "%%cpp\n",
    "vector<size_t> v(u.cbegin(), u.cend()-2) // direct initialization"
   ]
  },
  {
   "cell_type": "markdown",
   "id": "089f283b",
   "metadata": {},
   "source": [
    "To show that the elements are copied:"
   ]
  },
  {
   "cell_type": "code",
   "execution_count": null,
   "id": "71471d55",
   "metadata": {},
   "outputs": [],
   "source": [
    "%%cpp\n",
    "L(u), L(v)"
   ]
  },
  {
   "cell_type": "code",
   "execution_count": null,
   "id": "fda83dc2",
   "metadata": {},
   "outputs": [],
   "source": [
    "%%cpp\n",
    "vector<size_t> u {0, 1, 2, 3};\n",
    "vector<size_t>(u.crbegin(), u.crend())  // vector constructed by coping elements of u in reverse"
   ]
  },
  {
   "cell_type": "markdown",
   "id": "342b0344",
   "metadata": {},
   "source": [
    "## Iterator"
   ]
  },
  {
   "cell_type": "markdown",
   "id": "149d5fb4",
   "metadata": {},
   "source": [
    "The position of an element in a container is specified using an [iterator](https://en.cppreference.com/w/cpp/iterator.html), which is a generalization of pointers to elements of an array."
   ]
  },
  {
   "cell_type": "markdown",
   "id": "9c437946",
   "metadata": {},
   "source": [
    "- [`u.cbegin()`](https://en.cppreference.com/w/cpp/container/vector/begin.html) is the position of the first element of `u`.\n",
    "- [`u.cend()`](https://en.cppreference.com/w/cpp/container/vector/end.html) gives the position of an imaginary element one past the last element of `u`.\n",
    "- [`u.crbegin()`](https://en.cppreference.com/w/cpp/container/vector/rbegin.html) gives the position of the last (first) element of (reversed) `u`.\n",
    "- [`u.crend()`](https://en.cppreference.com/w/cpp/container/vector/rend.html) gives the position of an imaginary element one before (past) the first (last) element of (reversed) `u`."
   ]
  },
  {
   "cell_type": "markdown",
   "id": "2fb20ece",
   "metadata": {},
   "source": [
    "Similar to a pointer, `*` can be used to dereference the element stored at a position. Other elements can also be accessed by incrementing the iterator:"
   ]
  },
  {
   "cell_type": "code",
   "execution_count": null,
   "id": "87b4b050",
   "metadata": {},
   "outputs": [],
   "source": [
    "%%cpp\n",
    "vector<size_t> u {0, 1, 2, 3};\n",
    "for (auto it=u.cbegin()+1; it!=u.cend()-1; it++) cout << *it << '\\n';"
   ]
  },
  {
   "cell_type": "code",
   "execution_count": null,
   "id": "23701323",
   "metadata": {},
   "outputs": [],
   "source": [
    "%%cpp\n",
    "vector<size_t> u {0, 1, 2, 3};\n",
    "for (auto it=u.crbegin()+1; it!=u.crend()-1; it++) cout << *it << '\\n';"
   ]
  },
  {
   "cell_type": "markdown",
   "id": "9bb2d7f9",
   "metadata": {},
   "source": [
    "To modify the container, we need to use non-constant iterators returned by `begin`, `end`, `rbegin`, and `rend`:"
   ]
  },
  {
   "cell_type": "code",
   "execution_count": null,
   "id": "745ea557",
   "metadata": {},
   "outputs": [],
   "source": [
    "%%cpp\n",
    "vector<size_t> u {0, 1, 2, 3};\n",
    "for (auto it=u.begin()+1; it!=u.end(); it++)\n",
    "  *it=*it+*(it-1);\n",
    "for (auto ui: u) cout << ui << ' ';"
   ]
  },
  {
   "cell_type": "markdown",
   "id": "d143a6c0",
   "metadata": {},
   "source": [
    "There are also other methods for iterators:\n",
    "\n",
    "- For containers that do not occupy continuous memory such as `std::list`, we may to use [`std::advance`](https://en.cppreference.com/w/cpp/iterator/advance.html)`(u, i)` instead.\n",
    "  ```cpp\n",
    "  template< class InputIt, class Distance > void advance( InputIt& it, Distance n );\n",
    "  template< class InputIt, class Distance > constexpr void advance( InputIt&    it, Distance n );\n",
    "  ```\n",
    "- `pos - u.cbegin()` or [`distance`](https://en.cppreference.com/w/cpp/iterator/distance.html)`(u.cbegin(), pos)` calculates how far an iterator `pos` of `u` is from its first element.\n",
    "- `u.cend()-pos` or `distance(u.cend(), pos)` calculates how far an iterator `pos` of `u` is from the element one past the last element of `u`."
   ]
  },
  {
   "cell_type": "code",
   "execution_count": null,
   "id": "83904edd",
   "metadata": {},
   "outputs": [],
   "source": [
    "%%cpp\n",
    "vector<size_t> v {1, 2, 3, 4};\n",
    "auto it=v.cbegin();\n",
    "advance(it, 3);\n",
    "it=v.erase(it);\n",
    "advance(it, -2);\n",
    "it=v.erase(it);\n",
    "cout << format(\"Elements before and after {} removed.\\n\", *it);\n",
    "v"
   ]
  },
  {
   "cell_type": "code",
   "execution_count": null,
   "id": "fb47a6b8",
   "metadata": {},
   "outputs": [],
   "source": [
    "%%cpp\n",
    "it-v.cbegin()"
   ]
  },
  {
   "cell_type": "code",
   "execution_count": null,
   "id": "179182d6",
   "metadata": {},
   "outputs": [],
   "source": [
    "%%cpp\n",
    "distance(v.cbegin(), it)"
   ]
  },
  {
   "cell_type": "code",
   "execution_count": null,
   "id": "599c5616",
   "metadata": {},
   "outputs": [],
   "source": [
    "%%ai\n",
    "Explain in one line the difference between begin vs cbegin, and end vs cend for std::vector."
   ]
  },
  {
   "cell_type": "markdown",
   "id": "92300c35",
   "metadata": {},
   "source": [
    "## Vector Contraction"
   ]
  },
  {
   "cell_type": "markdown",
   "id": "04329e02",
   "metadata": {},
   "source": [
    "We can clear all elements of a vector using the [`clear`](https://en.cppreference.com/w/cpp/container/vector/clear.html) method:\n",
    "```cpp\n",
    "void clear();\n",
    "```"
   ]
  },
  {
   "cell_type": "code",
   "execution_count": null,
   "id": "a45b8a75",
   "metadata": {},
   "outputs": [],
   "source": [
    "%%cpp\n",
    "vector<size_t> v {1, 2, 3};\n",
    "v.clear();\n",
    "v"
   ]
  },
  {
   "cell_type": "markdown",
   "id": "22af1a35",
   "metadata": {},
   "source": [
    "To erase only some of the elements, use the [`erase`](https://en.cppreference.com/w/cpp/container/vector/erase.html) method:\n",
    "\n",
    "::::{code} cpp\n",
    ":linenos:\n",
    "iterator erase( const_iterator pos );\n",
    "iterator erase( const_iterator first, const_iterator last );\n",
    "::::\n",
    "\n",
    "which returns an iterator pointing to the element that follows the last removed element, or `end()` if the last element was erased."
   ]
  },
  {
   "cell_type": "code",
   "execution_count": null,
   "id": "c80756ab",
   "metadata": {},
   "outputs": [],
   "source": [
    "%%cpp\n",
    "vector<size_t> v {1, 2, 3};\n",
    "auto it=v.erase(v.cbegin()+1);\n",
    "cout << format(\"Element before {} was removed.\\n\", *it);\n",
    "v"
   ]
  },
  {
   "cell_type": "markdown",
   "id": "54cb2377",
   "metadata": {},
   "source": [
    "We can also erase a range of elements by specifying the `first` and `last` (exclusive) positions:"
   ]
  },
  {
   "cell_type": "code",
   "execution_count": null,
   "id": "bac8fbfb",
   "metadata": {},
   "outputs": [],
   "source": [
    "%%cpp\n",
    "vector<size_t> v {1, 2, 3};\n",
    "v.erase(v.cbegin()+1, v.cend());\n",
    "v"
   ]
  },
  {
   "cell_type": "markdown",
   "id": "78b78036",
   "metadata": {},
   "source": [
    "## Vector Expansion"
   ]
  },
  {
   "cell_type": "markdown",
   "id": "81f6d33b",
   "metadata": {},
   "source": [
    "### Insert at the Back"
   ]
  },
  {
   "cell_type": "markdown",
   "id": "f7adb837",
   "metadata": {},
   "source": [
    "There are various ways to append an element to a `std::vector`."
   ]
  },
  {
   "cell_type": "markdown",
   "id": "be4c108b",
   "metadata": {},
   "source": [
    "One way is to use [`push_back()`](https://en.cppreference.com/w/cpp/container/vector/push_back), which have two overloads:\n",
    "\n",
    "::::{code} cpp\n",
    ":linenos:\n",
    "void push_back( const T& value );\n",
    "void push_back( T&& value );\n",
    "::::"
   ]
  },
  {
   "cell_type": "code",
   "execution_count": null,
   "id": "2c80e245",
   "metadata": {},
   "outputs": [],
   "source": [
    "%%cpp\n",
    "vector<vector<size_t> > u;\n",
    "vector<size_t> v {0,1,2};\n",
    "u.push_back(v);\n",
    "u"
   ]
  },
  {
   "cell_type": "markdown",
   "id": "bf8af017",
   "metadata": {},
   "source": [
    "The above invokes the first overload since the rvalue reference in the second overload cannot bind to the lvalue `v`."
   ]
  },
  {
   "cell_type": "markdown",
   "id": "6de7b120",
   "metadata": {},
   "source": [
    "::::{exercise}\n",
    ":label: ex:push_back1\n",
    "\n",
    "Is `v` copied or moved to `u`?\n",
    "\n",
    "::::"
   ]
  },
  {
   "cell_type": "markdown",
   "id": "5b404afb",
   "metadata": {
    "deletable": false,
    "nbgrader": {
     "cell_type": "markdown",
     "checksum": "682155b526fd57e70e3ab400ad3bdf88",
     "grade": true,
     "grade_id": "push_back1",
     "locked": false,
     "points": 0,
     "schema_version": 3,
     "solution": true,
     "task": false
    }
   },
   "source": [
    "YOUR ANSWER HERE"
   ]
  },
  {
   "cell_type": "markdown",
   "id": "c1879182",
   "metadata": {},
   "source": [
    "Observe that `v` and `u[0]` start at different locations:"
   ]
  },
  {
   "cell_type": "code",
   "execution_count": null,
   "id": "b041c037",
   "metadata": {},
   "outputs": [],
   "source": [
    "%%cpp\n",
    "LB(v), LB(u[0])"
   ]
  },
  {
   "cell_type": "markdown",
   "id": "6593c8f4",
   "metadata": {},
   "source": [
    "Modifying `v` does not affect `u`:"
   ]
  },
  {
   "cell_type": "code",
   "execution_count": null,
   "id": "e0f1c52d",
   "metadata": {},
   "outputs": [],
   "source": [
    "%%cpp\n",
    "v[0]=2;\n",
    "u"
   ]
  },
  {
   "cell_type": "markdown",
   "id": "399caf63",
   "metadata": {},
   "source": [
    "`v` can be added to `u` again:"
   ]
  },
  {
   "cell_type": "code",
   "execution_count": null,
   "id": "cc381e4e",
   "metadata": {},
   "outputs": [],
   "source": [
    "%%cpp\n",
    "u.push_back(v);\n",
    "u"
   ]
  },
  {
   "cell_type": "markdown",
   "id": "68f51847",
   "metadata": {},
   "source": [
    "As a comparison, the following invokes the second overload by casting `v` as an rvalue using `std::move`:"
   ]
  },
  {
   "cell_type": "code",
   "execution_count": null,
   "id": "7e167d1a",
   "metadata": {},
   "outputs": [],
   "source": [
    "%%cpp\n",
    "vector<vector<size_t> > u;\n",
    "vector<size_t> v {0,1,2};\n",
    "u.push_back(std::move(v));\n",
    "u.push_back(v);\n",
    "u"
   ]
  },
  {
   "cell_type": "markdown",
   "id": "d72f3af4",
   "metadata": {},
   "source": [
    "Note that `v` is cleared after the move. To show that the elements are moved:"
   ]
  },
  {
   "cell_type": "code",
   "execution_count": null,
   "id": "f1caa7bc",
   "metadata": {},
   "outputs": [],
   "source": [
    "%%cpp\n",
    "vector<vector<size_t> > u;\n",
    "vector<size_t> v {0,1,2};\n",
    "L(v);\n",
    "u.push_back(std::move(LB(v)));\n",
    "LB(u[0]), L(u), L(v)"
   ]
  },
  {
   "cell_type": "markdown",
   "id": "20a15d44",
   "metadata": {},
   "source": [
    "Even though `v` and `u[0]` have different locations, their elements begin at the same location. In essense, the [move constructor](#move-constructor) is invoked to move the elements from `v` to a new vector in `u`."
   ]
  },
  {
   "cell_type": "markdown",
   "id": "b69bcb12",
   "metadata": {},
   "source": [
    "We can also add an rvalue directly without creating an extra variable:"
   ]
  },
  {
   "cell_type": "code",
   "execution_count": null,
   "id": "8f04abab",
   "metadata": {},
   "outputs": [],
   "source": [
    "%%cpp\n",
    "vector<vector<size_t> > u;\n",
    "u.push_back(vector<size_t>{0,1,2});\n",
    "u"
   ]
  },
  {
   "cell_type": "markdown",
   "id": "011ae1f1",
   "metadata": {},
   "source": [
    "This can be further simplified:"
   ]
  },
  {
   "cell_type": "code",
   "execution_count": null,
   "id": "363cea57",
   "metadata": {},
   "outputs": [],
   "source": [
    "%%cpp\n",
    "vector<vector<size_t> > u;\n",
    "u.push_back({0,1,2});\n",
    "u"
   ]
  },
  {
   "cell_type": "markdown",
   "id": "acf7b935",
   "metadata": {},
   "source": [
    "::::{exercise}\n",
    ":label: ex:push_back2\n",
    "\n",
    "Explain how different constructors are invoked in the above call to `push_back`.\n",
    "\n",
    "::::"
   ]
  },
  {
   "cell_type": "markdown",
   "id": "57053a21",
   "metadata": {
    "deletable": false,
    "nbgrader": {
     "cell_type": "markdown",
     "checksum": "b348cbe25e36d66abd0bdde9146eeb4e",
     "grade": true,
     "grade_id": "push_back2",
     "locked": false,
     "points": 0,
     "schema_version": 3,
     "solution": true,
     "task": false
    }
   },
   "source": [
    "YOUR ANSWER HERE"
   ]
  },
  {
   "cell_type": "markdown",
   "id": "82437373",
   "metadata": {},
   "source": [
    "Indeed, we can further simplify the code as follows:"
   ]
  },
  {
   "cell_type": "code",
   "execution_count": null,
   "id": "c58be338",
   "metadata": {},
   "outputs": [],
   "source": [
    "%%cpp\n",
    "vector<vector<size_t> > u;\n",
    "u.emplace_back((initializer_list<size_t>){0,1,2});\n",
    "u"
   ]
  },
  {
   "cell_type": "markdown",
   "id": "943d4a57",
   "metadata": {},
   "source": [
    "::::{caution}\n",
    "\n",
    "Both `u.emplace_back({0,1,2})` and `u.emplace_back(reinterpret_cast<std::initializer_list<size_t> >({0,1,2}))` fail. See [this post](https://stackoverflow.com/questions/24550924/emplacement-of-a-vector-with-initializer-list) for details.\n",
    "\n",
    "::::"
   ]
  },
  {
   "cell_type": "markdown",
   "id": "48a0f1c4",
   "metadata": {},
   "source": [
    "The constructed vector returned is exactly the vector added to the back:"
   ]
  },
  {
   "cell_type": "code",
   "execution_count": null,
   "id": "0a40b0bd",
   "metadata": {},
   "outputs": [],
   "source": [
    "%%cpp\n",
    "vector<vector<size_t> > u;\n",
    "L(u.emplace_back((initializer_list<size_t>){0,1,2})), L(u[0])"
   ]
  },
  {
   "cell_type": "markdown",
   "id": "c4122ca9",
   "metadata": {},
   "source": [
    "Unlike `push_back`, [`emplace_back()`](https://en.cppreference.com/w/cpp/container/vector/emplace_back) constructs the vector [in-place](https://en.wikipedia.org/wiki/In-place_algorithm), i.e., the constructed vector is at the same location as the added vector:"
   ]
  },
  {
   "cell_type": "markdown",
   "id": "f29e55ce",
   "metadata": {},
   "source": [
    "```cpp\n",
    "template< class... Args > reference emplace_back( Args&&... args );\n",
    "```"
   ]
  },
  {
   "cell_type": "markdown",
   "id": "0ad8081c",
   "metadata": {},
   "source": [
    "`...` is a packing operator that declares a [pack](https://en.cppreference.com/w/cpp/language/parameter_pack.html) of parameters. This allows a variable number of arguments to be forwarded from `emplace_back` to the different overloads of the constructors for vector:"
   ]
  },
  {
   "cell_type": "code",
   "execution_count": null,
   "id": "ad63bac9",
   "metadata": {},
   "outputs": [],
   "source": [
    "%%cpp\n",
    "vector<vector<size_t> > u;\n",
    "u.emplace_back();          // forward to the default constructor\n",
    "u"
   ]
  },
  {
   "cell_type": "code",
   "execution_count": null,
   "id": "84cce541",
   "metadata": {},
   "outputs": [],
   "source": [
    "%%cpp\n",
    "vector<vector<size_t> > u;\n",
    "u.emplace_back(2);         // forward to the fill constructor\n",
    "u.emplace_back(3,4);\n",
    "u"
   ]
  },
  {
   "cell_type": "markdown",
   "id": "9b93e231",
   "metadata": {},
   "source": [
    "In comparison, Python uses `*` as the packing operator such as `*args` in `print`:"
   ]
  },
  {
   "cell_type": "code",
   "execution_count": null,
   "id": "fd9583e8",
   "metadata": {},
   "outputs": [],
   "source": [
    "print?"
   ]
  },
  {
   "cell_type": "markdown",
   "id": "65391aa2",
   "metadata": {},
   "source": [
    "::::{exercise}\n",
    ":label: ex:extend\n",
    "\n",
    "Complete the second overload of the function `splice` to extend `u` with by copying elements from `v` to the end of `u`. If `v` is an rvalue, the elements should be moved instead, after which `v` should become emtpy.\n",
    "\n",
    "::::"
   ]
  },
  {
   "cell_type": "code",
   "execution_count": null,
   "id": "ed47bbc2",
   "metadata": {},
   "outputs": [],
   "source": [
    "%%cpp\n",
    "template <class T>\n",
    "void splice(vector<T> &u, const vector<T> &v) {\n",
    "    for (auto vi : v) u.push_back(vi);\n",
    "}"
   ]
  },
  {
   "cell_type": "code",
   "execution_count": null,
   "id": "ebfcf371",
   "metadata": {
    "deletable": false,
    "nbgrader": {
     "cell_type": "code",
     "checksum": "e8ff47d5326c49df84bd301bda9a6e9f",
     "grade": false,
     "grade_id": "extend2",
     "locked": false,
     "schema_version": 3,
     "solution": true,
     "task": false
    }
   },
   "outputs": [],
   "source": [
    "%%cpp\n",
    "template <class T>\n",
    "void splice(vector<T> &u, vector<T> &&v) {\n",
    "    /*\n",
    "    # REPLACE THE ENTIRE COMMENT WITH YOUR CODE #\n",
    "    */\n",
    "}"
   ]
  },
  {
   "cell_type": "code",
   "execution_count": null,
   "id": "0bb76b57",
   "metadata": {
    "deletable": false,
    "editable": false,
    "nbgrader": {
     "cell_type": "code",
     "checksum": "2d69f054c236935526a59ede49c2d7c8",
     "grade": true,
     "grade_id": "test_extend",
     "locked": true,
     "points": 0,
     "schema_version": 3,
     "solution": false,
     "task": false
    }
   },
   "outputs": [],
   "source": [
    "%%cpp\n",
    "// test\n",
    "vector<vector<size_t> > u {{1,2,3}};\n",
    "vector<vector<size_t> > v {{4,5,6}};\n",
    "splice(u, std::move(v));\n",
    "splice(u, v);\n",
    "splice(u, u);\n",
    "u // ... { { 1, 2, 3 }, { 4, 5, 6 }, { 1, 2, 3 }, {} }"
   ]
  },
  {
   "cell_type": "markdown",
   "id": "cbccb65c",
   "metadata": {},
   "source": [
    "### Insertion"
   ]
  },
  {
   "cell_type": "markdown",
   "id": "c3d5e929",
   "metadata": {},
   "source": [
    "Elements can be inserted at different positions in a vector using the [`std::insert`](https://en.cppreference.com/w/cpp/container/vector/insert.html) method:"
   ]
  },
  {
   "cell_type": "markdown",
   "id": "39d0d34e",
   "metadata": {},
   "source": [
    "::::{code} cpp\n",
    ":linenos:\n",
    "iterator insert( const_iterator pos, const T& value );\n",
    "iterator insert( const_iterator pos, T&& value );\n",
    "iterator insert( const_iterator pos, size_type count, const T& value );\n",
    "template< class InputIt > iterator insert( const_iterator pos, InputIt first, InputIt last );\n",
    "iterator insert( const_iterator pos, std::initializer_list<T> ilist );\n",
    "::::"
   ]
  },
  {
   "cell_type": "code",
   "execution_count": null,
   "id": "9c6fd033",
   "metadata": {},
   "outputs": [],
   "source": [
    "%%cpp\n",
    "vector<size_t> u {0,2,3};\n",
    "auto it=u.insert(u.cbegin()+1, 1);\n",
    "u"
   ]
  },
  {
   "cell_type": "markdown",
   "id": "de61093a",
   "metadata": {},
   "source": [
    "After the insertion, the position/iterator of the inserted element is also returned."
   ]
  },
  {
   "cell_type": "code",
   "execution_count": null,
   "id": "e2645dd3",
   "metadata": {},
   "outputs": [],
   "source": [
    "%%cpp\n",
    "cout << *it << \" inserted.\\n\";\n",
    "it"
   ]
  },
  {
   "cell_type": "markdown",
   "id": "edcab468",
   "metadata": {},
   "source": [
    "Note that insertion takes linear time even the element is inserted at the back:"
   ]
  },
  {
   "cell_type": "code",
   "execution_count": null,
   "id": "9250d936",
   "metadata": {},
   "outputs": [],
   "source": [
    "%%cpp\n",
    "vector<size_t> u {0,2,3};\n",
    "L(u[0]), L(u[1]), L(u[2]);\n",
    "cout << *u.insert(u.cbegin()+1, 1) << \" inserted.\\n\";\n",
    "L(u[0]), L(u[1]), L(u[2]), L(u[3]);\n",
    "u"
   ]
  },
  {
   "cell_type": "markdown",
   "id": "8adae171",
   "metadata": {},
   "source": [
    "Observe that the locations of the elements are changed after insertion. In comparison, `push_back` normally does not change the locations of the existing elements:"
   ]
  },
  {
   "cell_type": "code",
   "execution_count": null,
   "id": "df2d70bf",
   "metadata": {},
   "outputs": [],
   "source": [
    "%%cpp\n",
    "u.push_back(4);\n",
    "L(u[0]), L(u[1]), L(u[2]), L(u[3]), L(u[4]);"
   ]
  },
  {
   "cell_type": "markdown",
   "id": "8488065c",
   "metadata": {},
   "source": [
    "`push_back` has an amortized constant time complexity because existing elements need to be moved only when there is no more free memory at the back of the vector."
   ]
  },
  {
   "cell_type": "markdown",
   "id": "c1d0d731",
   "metadata": {},
   "source": [
    "The following behaves like the [fill constructors](#fill-constructors) that fill the vector with multiple copies of the same value:"
   ]
  },
  {
   "cell_type": "code",
   "execution_count": null,
   "id": "4f2afb7d",
   "metadata": {},
   "outputs": [],
   "source": [
    "%%cpp\n",
    "vector<size_t> u {1,2,3};\n",
    "cout << format(\"Three {}'s added at the beginning.\\n\", *u.insert(u.cbegin(), 3, 0));\n",
    "u"
   ]
  },
  {
   "cell_type": "markdown",
   "id": "f219c19e",
   "metadata": {},
   "source": [
    "The following behaves like the [initializer-list constructor](#initializer-list-constructor):"
   ]
  },
  {
   "cell_type": "code",
   "execution_count": null,
   "id": "72180cbe",
   "metadata": {},
   "outputs": [],
   "source": [
    "%%cpp\n",
    "vector<size_t> u {1,2,3};\n",
    "for (auto it=u.insert(u.cend(), {4,5,6}); it!=u.cend(); it++)\n",
    "    cout << format(\"{} added.\\n\", *it);\n",
    "u"
   ]
  },
  {
   "cell_type": "markdown",
   "id": "7e03bbe0",
   "metadata": {},
   "source": [
    "We can also insert a sublist from another list:"
   ]
  },
  {
   "cell_type": "code",
   "execution_count": null,
   "id": "dac9a7fe",
   "metadata": {},
   "outputs": [],
   "source": [
    "%%cpp\n",
    "vector<size_t> u {1,2,3};\n",
    "vector<double> v {4.1,5.2,6.3};\n",
    "auto it=u.insert(u.cend(), v.cbegin(), v.cend()-1);\n",
    "u"
   ]
  },
  {
   "cell_type": "markdown",
   "id": "698b251c",
   "metadata": {},
   "source": [
    "Note that elements are copied but not moved except when passed by rvalue reference:\n",
    "```cpp\n",
    "iterator insert( const_iterator pos, T&& value );\n",
    "```"
   ]
  },
  {
   "cell_type": "code",
   "execution_count": null,
   "id": "3ab2a47d",
   "metadata": {},
   "outputs": [],
   "source": [
    "%%cpp\n",
    "vector<vector<size_t> > u {{1,2,3}};\n",
    "vector<size_t> v {4,5,6};\n",
    "u.insert(u.cbegin(), std::move(LB(v)));\n",
    "LB(u[0]);\n",
    "u.insert(u.cbegin(), v);\n",
    "u"
   ]
  },
  {
   "cell_type": "markdown",
   "id": "dc5a9f1f",
   "metadata": {},
   "source": [
    "::::{exercise}\n",
    ":label: ex:extend_pos\n",
    "\n",
    "Complete the function `splice` to extend `u` by inserting elements from `v` at the position `pos` in `u`.  \n",
    "- If `v` is an lvalue (`const vector<T>&`), the elements should be copied.  \n",
    "- If `v` is an rvalue (`vector<T>&&`), the elements should be moved, and `v` should become empty afterward.  \n",
    " \n",
    "The function should return an iterator pointing to the first inserted element in `u`. If no elements are inserted (i.e., `v` is empty), return `pos`.\n",
    "\n",
    "::::"
   ]
  },
  {
   "cell_type": "code",
   "execution_count": null,
   "id": "aefa69c8",
   "metadata": {
    "deletable": false,
    "nbgrader": {
     "cell_type": "code",
     "checksum": "ba516c2b467702f41ec376a7255af896",
     "grade": false,
     "grade_id": "extend_pos1",
     "locked": false,
     "schema_version": 3,
     "solution": true,
     "task": false
    }
   },
   "outputs": [],
   "source": [
    "%%cpp\n",
    "template <class T>\n",
    "typename vector<T>::iterator splice(vector<T> &u, typename vector<T>::const_iterator pos, const vector<T> &v) {\n",
    "    /*\n",
    "    # REPLACE THE ENTIRE COMMENT WITH YOUR CODE #\n",
    "    */\n",
    "}"
   ]
  },
  {
   "cell_type": "code",
   "execution_count": null,
   "id": "8e2f54d9",
   "metadata": {},
   "outputs": [],
   "source": [
    "%%cpp\n",
    "template <class T>\n",
    "typename vector<T>::iterator splice(vector<T> &u, typename vector<T>::const_iterator pos, vector<T> &&v) {\n",
    "    auto i = pos-u.cbegin();\n",
    "    for (auto& vi : v) u.insert(pos++, std::move(vi));\n",
    "    v.clear();\n",
    "    return u.begin() + i;\n",
    "}"
   ]
  },
  {
   "cell_type": "code",
   "execution_count": null,
   "id": "3b33e75b",
   "metadata": {
    "deletable": false,
    "editable": false,
    "nbgrader": {
     "cell_type": "code",
     "checksum": "f0362c8bff2a8a67bfaeba3e8c25df5e",
     "grade": true,
     "grade_id": "test_extend_pos",
     "locked": true,
     "points": 0,
     "schema_version": 3,
     "solution": false,
     "task": false
    }
   },
   "outputs": [],
   "source": [
    "%%cpp\n",
    "// test\n",
    "vector<vector<size_t> > u {{1,2,3}};\n",
    "vector<vector<size_t> > v {{4,5,6}};\n",
    "auto it=splice(u, u.cbegin()+1, std::move(v));\n",
    "it=splice(u, it-1, v);\n",
    "it=splice(u, it, u);\n",
    "u // ... { { 1, 2, 3 }, { 4, 5, 6 }, { 1, 2, 3 }, { 4, 5, 6 } }"
   ]
  },
  {
   "cell_type": "code",
   "execution_count": null,
   "id": "3f0f3946",
   "metadata": {},
   "outputs": [],
   "source": [
    "%%ai\n",
    "Explain briefly why typename is used in:\n",
    "--\n",
    "void splice(vector<T> &u, typename vector<T>::const_iterator pos, const vector<T> &v);"
   ]
  },
  {
   "cell_type": "markdown",
   "id": "64c23aed",
   "metadata": {},
   "source": [
    "## Linked List"
   ]
  },
  {
   "cell_type": "markdown",
   "id": "c5a75fca",
   "metadata": {},
   "source": [
    "The `splice` function in [](#ex:extend) and [](#ex:extend_pos) takes linear time as it inserts the elements of `v` to `u` one-by-one."
   ]
  },
  {
   "cell_type": "markdown",
   "id": "65e448fe",
   "metadata": {},
   "source": [
    "**Can we concatenate two vectors more efficiently?**"
   ]
  },
  {
   "cell_type": "markdown",
   "id": "0fafa7f5",
   "metadata": {},
   "source": [
    "One idea is to link the end of one vector to the beginning of another. However, this isn't possible because `std::vector` stores its elements in a single, contiguous block of memory. This design enables constant-time access via indexing, i.e., `v[i]` is equivalent to `*(v + i)`, but it also means vectors cannot be physically joined without copying or reallocating their contents."
   ]
  },
  {
   "cell_type": "markdown",
   "id": "27a96597",
   "metadata": {},
   "source": [
    "[](#code_combination2) uses another container [`std::list`](https://en.cppreference.com/w/cpp/container/list.html), which implements a [doubly linked list](https://en.wikipedia.org/wiki/Doubly_linked_list) data structure. Unlike `std::vector`, itt takes constant time to [`insert`](https://en.cppreference.com/w/cpp/container/list/insert.html#Complexity) or [`erase`](https://en.cppreference.com/w/cpp/container/list/erase.html#Complexity) a single element anywhere in the `std::list`. Furthermore, using the [`splice`](https://en.cppreference.com/w/cpp/container/list/splice.html) method from `std::list`, two lists can be concatenated efficiently in [constant time](https://en.cppreference.com/w/cpp/container/list/splice.html#Complexity) by modifying the end of one list to link to the beginning of another list:\n",
    "\n",
    "::::{code} cpp\n",
    ":linenos:\n",
    "void splice( const_iterator pos, list& other );\n",
    "void splice( const_iterator pos, list&& other );\n",
    "void splice( const_iterator pos, list& other, const_iterator it );\n",
    "void splice( const_iterator pos, list&& other, const_iterator it );\n",
    "void splice( const_iterator pos, list& other, const_iterator first, const_iterator last );\n",
    "void splice( const_iterator pos, list&& other, const_iterator first, const_iterator last );\n",
    "::::"
   ]
  },
  {
   "cell_type": "code",
   "execution_count": null,
   "id": "70e2def5",
   "metadata": {},
   "outputs": [],
   "source": [
    "%%cpp\n",
    "list<int> a{1,2,3}, b{4,5,6,7};\n",
    "a.splice(a.cend(), b);\n",
    "a"
   ]
  },
  {
   "cell_type": "markdown",
   "id": "32dd4b0c",
   "metadata": {},
   "source": [
    "All elements of `b` are now moved (*not copied*) to `a`:"
   ]
  },
  {
   "cell_type": "code",
   "execution_count": null,
   "id": "60248c25",
   "metadata": {},
   "outputs": [],
   "source": [
    "%%cpp\n",
    "b"
   ]
  },
  {
   "cell_type": "markdown",
   "id": "325e06a7",
   "metadata": {},
   "source": [
    "However, these come at the cost of linear time lookup."
   ]
  },
  {
   "cell_type": "code",
   "execution_count": null,
   "id": "628cfbe7",
   "metadata": {},
   "outputs": [],
   "source": [
    "%%cpp\n",
    "list<int> a{1,2,3,4,5,6,7};\n",
    "// a[5];            // fails: type 'list' does not provide a subscript operator\n",
    "auto it=a.cbegin();\n",
    "// a.cbegin() + 5;  // fails: invalid operands to binary expression\n",
    "for (auto i=5; i>0; i--) it++;  // `advance(it, 5)`\n",
    "*it"
   ]
  },
  {
   "cell_type": "markdown",
   "id": "c1c974c1",
   "metadata": {},
   "source": [
    "As another example, consider the problem of enumerating the permutations in combinatorics:"
   ]
  },
  {
   "cell_type": "markdown",
   "id": "7cd9c061",
   "metadata": {},
   "source": [
    "::::{prf:definition}\n",
    "\n",
    "Given a collection of $n\\geq 0$ items $a_0,\\dots,a_{n-1}$ and an integer $k\\geq 0$, a [$k$-permutation of the $n$](https://en.wikipedia.org/wiki/Permutation#k-permutations_of_n) items is an ordered sequence \n",
    "\n",
    "$$\n",
    "(a_{i_0},\\dots,a_{i_{k-1}})\n",
    "$$ \n",
    "of $k$ out of the $n$ objects for some choice of distinct indices $0\\leq i_0,\\dots,i_{k-1}<n$. An $n$-permutation of $n$ objects is called a permutation of $n$ objects.\n",
    "\n",
    "::::"
   ]
  },
  {
   "cell_type": "markdown",
   "id": "32036cd0",
   "metadata": {},
   "source": [
    "A simple way to generate permutations is by the following recurrence relation."
   ]
  },
  {
   "cell_type": "markdown",
   "id": "236db780",
   "metadata": {},
   "source": [
    "::::{prf:proposition}\n",
    "\n",
    "A $k$-permutation of $n$ satisfies the recurrence relation for $1\\leq k \\leq n$:  \n",
    "- Removing the first element of a $k$-permutation of $n$ objects gives a different $(k-1)$-permutation of the remaining $n-1$ objects.\n",
    "\n",
    "$$ (a_{i_0}, \\underbrace{a_{i_1},\\dots,a_{i_{k-1}}}_{\\text{\\scriptsize $(k-1)$-permutation of $a_{i_1},\\dots,a_{i_{k-1}}$.}\\kern-5em} ) $$\n",
    "\n",
    "- Reversing the above removal process gives a way of constructing a $k$-permutation from a $(k-1)$-permutation.  \n",
    "  E.g., the permutations of $1,2,3$ can be constructed as follows:\n",
    "\n",
    "$$[\\overbrace{({\\color{red} 1}, {\\color{blue}{2, 3}}), ({\\color{red} 1}, {\\color{blue}{3, 2}})}^{\\text{\\scriptsize prepend 1 to permutations of $2,3$.} }, \\overbrace{({\\color{red} 2}, {\\color{blue}{1, 3}}), ({\\color{red} 2}, {\\color{blue}{3, 1}})}^{\\text{\\scriptsize prepend 2 to permutations of $1,3$.} }, \\overbrace{({\\color{red} 3}, {\\color{blue}{1, 2}}), ({\\color{red} 3}, {\\color{blue}{2, 1}})}^{\\text{\\scriptsize prepend 3 to permutations of $1,2$.} }]$$\n",
    "\n",
    "::::"
   ]
  },
  {
   "cell_type": "markdown",
   "id": "dffa122c",
   "metadata": {},
   "source": [
    "We can represent each permutation as a vector. The following implements the recursion:"
   ]
  },
  {
   "cell_type": "code",
   "execution_count": null,
   "id": "883b0317",
   "metadata": {},
   "outputs": [],
   "source": [
    "%%cpp\n",
    "void permutation_helper(const vector<size_t> &items, int k, \n",
    "                        vector<size_t> &current, \n",
    "                        vector<vector<size_t> > &result) {\n",
    "    if (k == 0) result.push_back(current);\n",
    "    else\n",
    "        for (size_t i = 0; i < items.size(); ++i) {\n",
    "            vector<size_t> remaining = items;\n",
    "            remaining.erase(remaining.cbegin() + i);\n",
    "            current.push_back(items[i]);\n",
    "            permutation_helper(remaining, k - 1, current, result);\n",
    "            current.pop_back();\n",
    "        }\n",
    "}"
   ]
  },
  {
   "cell_type": "markdown",
   "id": "1431458b",
   "metadata": {},
   "source": [
    "In the above function:\n",
    "\n",
    "- `current` keeps track of the beginning of the permutations to be built.\n",
    "- `k` is the number of elements that need to be appended to `current` to complete each desired permutation.\n",
    "- `items` is the remaining elements to choose from.\n",
    "- `result` is a vector to store all completed permutations."
   ]
  },
  {
   "cell_type": "markdown",
   "id": "1bd0c2d0",
   "metadata": {},
   "source": [
    "::::{note} Isn't it more efficient to use `std::list` instead of `std::vector` for `result`?\n",
    ":class: dropdown\n",
    "\n",
    "No, because `result` is generated by appending `current`, which can be done in amortized constant time for `std::vector`.\n",
    "\n",
    "::::"
   ]
  },
  {
   "cell_type": "markdown",
   "id": "114da762",
   "metadata": {},
   "source": [
    "The desired function that computes and returns the permutations can be a thin wrapper of the helper function:"
   ]
  },
  {
   "cell_type": "code",
   "execution_count": null,
   "id": "cdfbfe7c",
   "metadata": {},
   "outputs": [],
   "source": [
    "%%cpp\n",
    "std::vector<vector<size_t> > permutation(const vector<size_t> & items, int k) {\n",
    "    vector<vector<size_t> > result;\n",
    "    vector<size_t>  current;\n",
    "\n",
    "    if (k >= 0 && k <= items.size()) {\n",
    "        permutation_helper(items, k, current, result);\n",
    "    }\n",
    "    return result;\n",
    "}\n",
    "\n",
    "permutation(vector<size_t> {1,2,3}, 2)"
   ]
  },
  {
   "cell_type": "markdown",
   "id": "8b29f3fc",
   "metadata": {},
   "source": [
    "::::{note} Why not check the range of $k$ in the helper function instead?\n",
    ":class: dropdown\n",
    "\n",
    "This is because the check only needs to be done once. If it were placed inside the helper function, the check would be executed repeatedly in every recursive call.\n",
    "\n",
    "::::"
   ]
  },
  {
   "cell_type": "markdown",
   "id": "5f28e391",
   "metadata": {},
   "source": [
    "To make $k$ an optional argument that defaults to $n$:"
   ]
  },
  {
   "cell_type": "code",
   "execution_count": null,
   "id": "a047aa0c",
   "metadata": {},
   "outputs": [],
   "source": [
    "%%cpp\n",
    "std::vector<vector<size_t> > permutation(const vector<size_t> &items) {\n",
    "    return permutation(items, items.size());  // default to full length\n",
    "}\n",
    "\n",
    "permutation(vector<size_t> {1,2,3})"
   ]
  },
  {
   "cell_type": "markdown",
   "id": "2dadff47",
   "metadata": {},
   "source": [
    "::::{note} Why is it better to overload the function than to give a default argument to `k`?\n",
    ":class: dropdown\n",
    "\n",
    "The default argument `items.size()` is not allowed since it is not a constant. Setting `k` to a value outside the valid range, say `-1`, is not ideal either because calling the function with `k=-1` will no longer be regarded an invalid.\n",
    "\n",
    "::::"
   ]
  },
  {
   "cell_type": "markdown",
   "id": "b4c90c09",
   "metadata": {},
   "source": [
    "There is an inefficiency in the above program: Erasing an element from a vector is linear time, but removing an element from a list is constant time."
   ]
  },
  {
   "cell_type": "code",
   "execution_count": null,
   "id": "ad4c9fc4",
   "metadata": {},
   "outputs": [],
   "source": [
    "%%ai\n",
    "Explain briefly why `remaining.erase(it);` is more efficient if `remaining`\n",
    "is a `std::list` instead of `std::vector`."
   ]
  },
  {
   "cell_type": "markdown",
   "id": "d3715834",
   "metadata": {},
   "source": [
    "The following implementation of permutation operates directly on a list. No helper function is needed, since list merging and element removal are efficient."
   ]
  },
  {
   "cell_type": "code",
   "execution_count": null,
   "id": "bdcf05c8",
   "metadata": {},
   "outputs": [],
   "source": [
    "%%cpp\n",
    "std::list<list<size_t> > permutation(const list<size_t> &items, int k) {\n",
    "    list<list<size_t> > output;\n",
    "    if (k == 0) {\n",
    "        output.push_back(list<size_t> {});\n",
    "    } else {\n",
    "        list<size_t>  remaining = items;\n",
    "        for (auto it = remaining.cbegin(); it != remaining.cend(); ++it) {\n",
    "            auto i = *it;\n",
    "            it=remaining.erase(it);\n",
    "            list<list<size_t> > perm_seq = permutation(remaining, k - 1);\n",
    "            it=remaining.insert(it, i);\n",
    "            for (auto& perm : perm_seq) {\n",
    "                perm.push_front(i);\n",
    "            }\n",
    "            output.splice(output.cend(), perm_seq);\n",
    "        }\n",
    "    }\n",
    "    return output;\n",
    "}\n",
    "\n",
    "permutation(list<size_t> {1,2,3}, 2)"
   ]
  },
  {
   "cell_type": "code",
   "execution_count": null,
   "id": "1e9b9316",
   "metadata": {},
   "outputs": [],
   "source": [
    "%%cpp\n",
    "std::list<list<size_t> > permutation(const list<size_t> &items) {\n",
    "    return permutation(items, items.size());  // default to full length\n",
    "}\n",
    "\n",
    "permutation(list<size_t> {1,2,3})"
   ]
  }
 ],
 "metadata": {
  "jupytext": {
   "default_lexer": "ipython3"
  },
  "kernelspec": {
   "display_name": "Python 3 (ipykernel)",
   "language": "python",
   "name": "python3"
  }
 },
 "nbformat": 4,
 "nbformat_minor": 5
}
