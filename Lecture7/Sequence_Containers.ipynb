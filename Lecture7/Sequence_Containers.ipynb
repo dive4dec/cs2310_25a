{
 "cells": [
  {
   "cell_type": "markdown",
   "id": "a2c75ad9",
   "metadata": {
    "editable": true,
    "slideshow": {
     "slide_type": ""
    }
   },
   "source": [
    "---\n",
    "title: Sequence Containers\n",
    "abstract: |\n",
    "    Encapsulation is a fundamental principle of object-oriented programming that promotes modularity and data protection by bundling data and the methods that operate on it within a single unit. Standard library containers such as array, vector, list, set, and map exemplify encapsulation by exposing well-defined interfaces while hiding internal implementation details. Encapsulation also facilitates resource management strategies like move semantics, where rvalue references and universal references allow efficient transfer and reuse of resources. This notebook introduces the basic idea of encapsulation using sequence containers such as vector and list.\n",
    "math:\n",
    "    '\\abs': '\\left\\lvert #1 \\right\\rvert'\n",
    "    '\\norm': '\\left\\lVert #1 \\right\\rVert'\n",
    "    '\\Set': '\\left\\{ #1 \\right\\}'\n",
    "    '\\set': '\\operatorname{set}'   \n",
    "    '\\mc': '\\mathcal{#1}'\n",
    "    '\\M': '\\boldsymbol{#1}'\n",
    "    '\\R': '\\mathsf{#1}'\n",
    "    '\\RM': '\\boldsymbol{\\mathsf{#1}}'\n",
    "    '\\op': '\\operatorname{#1}'\n",
    "    '\\E': '\\op{E}'\n",
    "    '\\d': '\\mathrm{\\mathstrut d}'\n",
    "    '\\SFM': '\\operatorname{SFM}'\n",
    "    '\\utag': '\\stackrel{\\text{(#1)}}{#2}'\n",
    "    '\\uref': '\\text{(#1)}'\n",
    "    '\\minimal': '\\operatorname{minimal}'\n",
    "skip_execution: true\n",
    "---"
   ]
  },
  {
   "cell_type": "code",
   "execution_count": null,
   "id": "8c39d2c3",
   "metadata": {
    "editable": true,
    "slideshow": {
     "slide_type": ""
    }
   },
   "outputs": [],
   "source": [
    "from __init__ import *\n",
    "%reload_ext divewidgets\n",
    "!mkdir -p private"
   ]
  },
  {
   "cell_type": "code",
   "execution_count": null,
   "id": "742908e2",
   "metadata": {},
   "outputs": [],
   "source": [
    "%%cpp\n",
    "#include \"utility.hpp\""
   ]
  },
  {
   "cell_type": "code",
   "execution_count": null,
   "id": "0f61c6e6",
   "metadata": {
    "editable": true,
    "slideshow": {
     "slide_type": ""
    },
    "tags": [
     "skip-execution"
    ]
   },
   "outputs": [],
   "source": [
    "if not input('Load JupyterAI? [Y/n]').lower()=='n':\n",
    "    %reload_ext jupyter_ai"
   ]
  },
  {
   "cell_type": "markdown",
   "id": "b1516c3d",
   "metadata": {},
   "source": [
    "## Motivation"
   ]
  },
  {
   "cell_type": "markdown",
   "id": "912a8b2f",
   "metadata": {},
   "source": [
    "Encapsulation is the technique of capturing resources such as variables (properties) and functions (methods) into an entity (object). This lays the foundation for object‑oriented programming (OOP). We will go into how sequence containers such as the vector and list in C++ hides the internal mechanics behind a clean interface."
   ]
  },
  {
   "cell_type": "markdown",
   "id": "b9ea0063",
   "metadata": {},
   "source": [
    "To motivate the concept, consider the problem of enumerating [combinations](https://en.wikipedia.org/wiki/Combination) in [combinatorics](https://en.wikipedia.org/wiki/Combinatorics):"
   ]
  },
  {
   "cell_type": "markdown",
   "id": "999ee963",
   "metadata": {},
   "source": [
    "::::{prf:definition} combination\n",
    ":label: def:combination\n",
    "\n",
    "A $k$-combination $S$ of $n$ items, say $\\Set{0, \\dots, n-1}$, is a selection of $k$ items from the set.\n",
    "\n",
    "::::"
   ]
  },
  {
   "cell_type": "markdown",
   "id": "708b2a2e",
   "metadata": {},
   "source": [
    "::::{prf:example}\n",
    "\n",
    "For $3$ items $\\Set{0, 1, 2}$, we have:\n",
    "- one $0$-combination:\n",
    "  > $\\Set{}$\n",
    "- three $1$-combinations:\n",
    "  > $\\Set{0}, \\Set{1}, \\Set{2}$\n",
    "- three $2$-combinations:\n",
    "  > $\\Set{0, 1}, \\Set{0, 2}, \\Set{1, 2}$\n",
    "- no $k$-combinations for other values of $k$.\n",
    "\n",
    "::::"
   ]
  },
  {
   "cell_type": "markdown",
   "id": "7f790746",
   "metadata": {},
   "source": [
    "**How to define a function to compute combinations?**"
   ]
  },
  {
   "cell_type": "markdown",
   "id": "bf7b6068",
   "metadata": {},
   "source": [
    "A divide-and-conquer approach is as follows:"
   ]
  },
  {
   "cell_type": "markdown",
   "id": "c168dd58",
   "metadata": {},
   "source": [
    "::::{prf:proposition}\n",
    ":label: pro:combination\n",
    "\n",
    "A $k$-combination $S$ of $n$ items satisfies the recurrence relation for $1\\leq k\\leq n$:\n",
    "\n",
    "> $S\\setminus \\Set{n-1}$ is a combination of $n-1$ items with\n",
    ">  - $k-1$ items if ${{\\color{red}n-1}}\\in S$; or\n",
    ">  - ${\\color{blue}k}$ items otherwise.\n",
    "\n",
    "Reversing the above removal process gives a way of constructing a $k$-combination $S$ from a smaller combination $T$ of $n-1$ items with\n",
    "- ${\\color{blue}k}$ items; or\n",
    "- $k-1$ items and add ${\\color{red}n-1}$ to it.\n",
    "\n",
    "If $0=k< n$, $S=\\Set{}$. $S$ does not exists for other choices of $(n, k)$. E.g.,\n",
    "\n",
    "$$\n",
    "\\overbrace{{\\color{blue}\\Set{0, 1}}}^{\\mathclap{\\text{\\scriptsize ${\\color{blue}2}$-combination of $\\{0, 1\\}$}}}, \\underbrace{\\Set{0, {\\color{red}2}}, \\Set{1, {\\color{red}2}}}_{\\mathclap{\\text{\\scriptsize $2$ added to $1$-combinations of $\\{0, 1\\}$}}}.\n",
    "$$\n",
    "\n",
    "\n",
    "::::"
   ]
  },
  {
   "cell_type": "markdown",
   "id": "d26932ef",
   "metadata": {},
   "source": [
    "A $k$-combination in [](#def:combination) can be implemented as a vector container of indices from $\\Set{0, \\dots, n-1}$:"
   ]
  },
  {
   "cell_type": "code",
   "execution_count": null,
   "id": "be5ccddd",
   "metadata": {},
   "outputs": [],
   "source": [
    "%%cpp\n",
    "vector<size_t>{0,1,2}"
   ]
  },
  {
   "cell_type": "markdown",
   "id": "c40cb026",
   "metadata": {},
   "source": [
    "The collection of combinations can be a vector of a vector of indices:"
   ]
  },
  {
   "cell_type": "code",
   "execution_count": null,
   "id": "63903931",
   "metadata": {},
   "outputs": [],
   "source": [
    "%%cpp\n",
    "vector<vector<size_t> > {{0,1},{0,2},{1,2}}"
   ]
  },
  {
   "cell_type": "markdown",
   "id": "c97288bd",
   "metadata": {},
   "source": [
    "To implements the divide-and-conquer approach in [](#pro:combination):\n",
    "\n",
    "::::{code} cpp\n",
    ":label: code_combination1\n",
    ":linenos:\n",
    ":caption: Returning a `std::vector` of $k$-combinations of $n$ items $\\Set{0,1, \\dots, n-1}$.\n",
    "/**\n",
    " * @brief Generates all k-combinations of the set {0, 1, ..., n-1}.\n",
    " *\n",
    " * This function uses recursion to build combinations by either:\n",
    " * - excluding the last element (n-1) and generating k-combinations of the first n-1 elements\n",
    " * - including the last element (n-1) and generating (k-1)-combinations of the first n-1 elements,\n",
    " *   then appending n-1 to each of those to form a full k-combination.\n",
    " *\n",
    " * @param n The size of the set to choose from.\n",
    " * @param k The number of elements to choose.\n",
    " * @return A vector of vectors, each representing a k-combination of the set {0, ..., n-1}.\n",
    " */\n",
    "std::function<std::vector<vector<size_t> >(const size_t, const size_t)>\n",
    "combination=[&combination](const size_t n, const size_t k) {\n",
    "    vector<vector<size_t> > output; // base case when k is not in {0, ..., n}.\n",
    "    if (k<=n) {\n",
    "        if (k) {\n",
    "            // Case 1: k-combinations from the first n-1 elements\n",
    "            for (auto &subset : combination(n-1, k)) output.push_back(subset);\n",
    "            \n",
    "            // Case 2: (k-1)-combinations from the first n-1 elements, with n-1 added\n",
    "            for (auto &subset : combination(n-1, k-1)) {\n",
    "                subset.push_back(n-1);\n",
    "                output.push_back(subset);\n",
    "            }\n",
    "        } else output.push_back(vector<size_t>()); // base case: only one combination of size 0 (empty set)\n",
    "    } // Hidden base case: No combinations if k is not in the range {0, ..., n}\n",
    "    return output;\n",
    "};\n",
    "::::"
   ]
  },
  {
   "cell_type": "code",
   "execution_count": null,
   "id": "ddef1d45",
   "metadata": {},
   "outputs": [],
   "source": [
    "%%cpp\n",
    "std::function<std::vector<vector<size_t> >(const size_t, const size_t)>\n",
    "combination=[&combination](const size_t n, const size_t k) {\n",
    "    vector<vector<size_t> > output;\n",
    "    if (k<=n) {\n",
    "        if (k) {\n",
    "            for (auto &subset : combination(n-1, k)) output.push_back(subset);\n",
    "            for (auto &subset : combination(n-1, k-1)) {\n",
    "                subset.push_back(n-1);\n",
    "                output.push_back(subset);\n",
    "            }\n",
    "        } else output.push_back(vector<size_t>());\n",
    "    }\n",
    "    return output;\n",
    "};"
   ]
  },
  {
   "cell_type": "markdown",
   "id": "ed8e9568",
   "metadata": {},
   "source": [
    "The following generates different combinations of $3$ items:"
   ]
  },
  {
   "cell_type": "code",
   "execution_count": null,
   "id": "514f716c",
   "metadata": {},
   "outputs": [],
   "source": [
    "%%cpp\n",
    "combination(3, 0)"
   ]
  },
  {
   "cell_type": "code",
   "execution_count": null,
   "id": "ffba5999",
   "metadata": {},
   "outputs": [],
   "source": [
    "%%cpp\n",
    "combination(3, 1)"
   ]
  },
  {
   "cell_type": "code",
   "execution_count": null,
   "id": "4ed0ac2f",
   "metadata": {},
   "outputs": [],
   "source": [
    "%%cpp\n",
    "combination(3, 2)"
   ]
  },
  {
   "cell_type": "code",
   "execution_count": null,
   "id": "ef1c42f2",
   "metadata": {},
   "outputs": [],
   "source": [
    "%%cpp\n",
    "combination(3, 3)"
   ]
  },
  {
   "cell_type": "code",
   "execution_count": null,
   "id": "afa17627",
   "metadata": {},
   "outputs": [],
   "source": [
    "%%cpp\n",
    "combination(3, 4)"
   ]
  },
  {
   "cell_type": "markdown",
   "id": "0d1bcb4d",
   "metadata": {},
   "source": [
    "::::{exercise}\n",
    ":label: ex:combination1\n",
    "\n",
    "Why `combination(-1,0)` does not return an empty vector, as show using the method [`empty`](v)?\n",
    "\n",
    "```cpp\n",
    "bool empty() const;\n",
    "```\n",
    "\n",
    "::::"
   ]
  },
  {
   "cell_type": "code",
   "execution_count": null,
   "id": "2db04600",
   "metadata": {},
   "outputs": [],
   "source": [
    "%%cpp\n",
    "combination(-1,0).empty()"
   ]
  },
  {
   "cell_type": "markdown",
   "id": "a85192ef",
   "metadata": {
    "deletable": false,
    "nbgrader": {
     "cell_type": "markdown",
     "checksum": "7208120d4144a0c0671df313598ef98d",
     "grade": true,
     "grade_id": "combination1",
     "locked": false,
     "points": 0,
     "schema_version": 3,
     "solution": true,
     "task": false
    }
   },
   "source": [
    "YOUR ANSWER HERE"
   ]
  },
  {
   "cell_type": "markdown",
   "id": "ccd5b51a",
   "metadata": {},
   "source": [
    "Consider counting the number combinations using the method [size](https://en.cppreference.com/w/cpp/container/vector/size.html):\n",
    "\n",
    "```cpp\n",
    "size_type size() const;\n",
    "```"
   ]
  },
  {
   "cell_type": "code",
   "execution_count": null,
   "id": "b2c5c343",
   "metadata": {},
   "outputs": [],
   "source": [
    "%%ai\n",
    "Explain in one line what does `const` mean for the method. \n",
    "What are other possible qualifiers:\n",
    "--\n",
    "size_type size() const;"
   ]
  },
  {
   "cell_type": "markdown",
   "id": "8279f170",
   "metadata": {},
   "source": [
    "For instance, the total number of $11$-combinations of $22$ items is:"
   ]
  },
  {
   "cell_type": "code",
   "execution_count": null,
   "id": "b2a37ee0",
   "metadata": {},
   "outputs": [],
   "source": [
    "%%cpp\n",
    "combination(22, 11).size()"
   ]
  },
  {
   "cell_type": "markdown",
   "id": "43625e8a",
   "metadata": {},
   "source": [
    "The above requires about 6 seconds to compute. Similarly, the following computes the total number of $12$-combinations of $24$ items: (It takes about **30 seconds** to execute. You have been warned.)"
   ]
  },
  {
   "cell_type": "code",
   "execution_count": null,
   "id": "67d04bf6",
   "metadata": {},
   "outputs": [],
   "source": [
    "%%cpp\n",
    "combination(24, 12).size()"
   ]
  },
  {
   "cell_type": "markdown",
   "id": "d5dfd7f5",
   "metadata": {},
   "source": [
    "**How to improve the performance?**"
   ]
  },
  {
   "cell_type": "markdown",
   "id": "84007b2a",
   "metadata": {},
   "source": [
    "If the goal is to compute the number of combinations, we can do it simply by computing the binomial coefficient:"
   ]
  },
  {
   "cell_type": "markdown",
   "id": "aa16a4c6",
   "metadata": {},
   "source": [
    "::::{prf:proposition}\n",
    ":label: pro:binomial_coefficient\n",
    "\n",
    "The number of $k$-combinations of $n$ items is \n",
    "\n",
    "$$\n",
    "{n \\choose k} := \\frac{n!}{(n-k)!k!},\n",
    "$$\n",
    "\n",
    "which is called the [binomial coefficient](https://en.wikipedia.org/wiki/Binomial_coefficient).\n",
    "\n",
    "::::"
   ]
  },
  {
   "cell_type": "code",
   "execution_count": null,
   "id": "5a56c262",
   "metadata": {},
   "outputs": [],
   "source": [
    "%%cpp\n",
    "unsigned long binomial_coefficient(const size_t n, const size_t k) {\n",
    "    return k<=n? (k? binomial_coefficient(n-1, k) + binomial_coefficient(n-1, k-1) : 1uL) : 0uL;\n",
    "}\n",
    "binomial_coefficient(24, 12)"
   ]
  },
  {
   "cell_type": "markdown",
   "id": "2ccd8473",
   "metadata": {},
   "source": [
    "How to improve the performance of `combination`?"
   ]
  },
  {
   "cell_type": "markdown",
   "id": "f5b6e726",
   "metadata": {},
   "source": [
    "Thanks to encapsulation, we can easily improve our code by choosing a suitable object and its associated methods:"
   ]
  },
  {
   "cell_type": "markdown",
   "id": "98a2ff54",
   "metadata": {},
   "source": [
    "::::{code} cpp\n",
    ":label: code_combination2\n",
    ":linenos:\n",
    ":caption: Returning a [`std::list`](https://en.cppreference.com/w/cpp/container/list.html) of $k$-combinations of $n$ items $\\Set{0,1, \\dots, n-1}$.\n",
    "std::function<std::list<vector<size_t> >(const size_t, const size_t)>\n",
    "combination=[&combination](const size_t n, const size_t k) {\n",
    "    list<vector<size_t> > output;\n",
    "    if (k<=n) {\n",
    "        if (k) {\n",
    "            output.splice(output.cend(), combination(n-1, k));\n",
    "            list<vector<size_t> > subset_seq=combination(n-1, k-1);\n",
    "            for (auto &subset : subset_seq) subset.push_back(n-1);\n",
    "            output.splice(output.cend(), subset_seq);\n",
    "        } else output.emplace_back();\n",
    "    }\n",
    "    return output;\n",
    "};\n",
    "::::"
   ]
  },
  {
   "cell_type": "code",
   "execution_count": null,
   "id": "186b11f3",
   "metadata": {},
   "outputs": [],
   "source": [
    "%%cpp\n",
    "std::function<std::list<vector<size_t> >(const size_t, const size_t)>\n",
    "combination=[&combination](const size_t n, const size_t k) {\n",
    "    list<vector<size_t> > output;\n",
    "    if (k<=n) {\n",
    "        if (k) {\n",
    "            output.splice(output.cend(), combination(n-1, k));\n",
    "            list<vector<size_t> > subset_seq=combination(n-1, k-1);\n",
    "            for (auto &subset : subset_seq) subset.push_back(n-1);\n",
    "            output.splice(output.cend(), subset_seq);\n",
    "        } else output.emplace_back();\n",
    "    }\n",
    "    return output;\n",
    "};\n",
    "\n",
    "combination(3, 2)"
   ]
  },
  {
   "cell_type": "markdown",
   "id": "a9bc01fa",
   "metadata": {},
   "source": [
    "The following call now completes in about 1 second instead of 6 seconds:"
   ]
  },
  {
   "cell_type": "code",
   "execution_count": null,
   "id": "ca757757",
   "metadata": {},
   "outputs": [],
   "source": [
    "%%cpp\n",
    "combination(22, 11).size()"
   ]
  },
  {
   "cell_type": "markdown",
   "id": "3f12108e",
   "metadata": {},
   "source": [
    "The following call completes in about 3-4 seconds instead of 30 seconds:"
   ]
  },
  {
   "cell_type": "code",
   "execution_count": null,
   "id": "ab2d7bcf",
   "metadata": {},
   "outputs": [],
   "source": [
    "%%cpp\n",
    "combination(24, 12).size()"
   ]
  },
  {
   "cell_type": "markdown",
   "id": "d63bee82",
   "metadata": {},
   "source": [
    "That is close to 10 times speed up!"
   ]
  },
  {
   "cell_type": "markdown",
   "id": "ca88cc72",
   "metadata": {},
   "source": [
    "In [](#code_combination1), we mainly used the method [`push_back`](https://en.cppreference.com/w/cpp/container/vector/push_back.html) to create each combination and the collection of all combinations. There are two overloads:\n",
    "\n",
    "```cpp\n",
    "void push_back( const T& value );\n",
    "void push_back( T&& value );\n",
    "```\n",
    "\n",
    "Which overload is used and why?"
   ]
  },
  {
   "cell_type": "code",
   "execution_count": null,
   "id": "f2413a35",
   "metadata": {},
   "outputs": [],
   "source": [
    "%%ai\n",
    "Explain very briefly what are the differences between the two overloads:\n",
    "--\n",
    "void push_back( const T& value );\n",
    "void push_back( T&& value );"
   ]
  },
  {
   "cell_type": "markdown",
   "id": "a6798fbe",
   "metadata": {},
   "source": [
    "In [](#code_combination2), we used the [`std::list`](https://en.cppreference.com/w/cpp/container/list.html) object to store the collection of combinations, and its method [`splice`](https://en.cppreference.com/w/cpp/container/list/splice.html) to concatenate lists of combinations:\n",
    "\n",
    "```cpp\n",
    "void splice( const_iterator pos, list& other );\n",
    "void splice( const_iterator pos, list&& other );\n",
    "void splice( const_iterator pos, list& other, const_iterator it );\n",
    "void splice( const_iterator pos, list&& other, const_iterator it );\n",
    "void splice( const_iterator pos, list& other,\n",
    "             const_iterator first, const_iterator last );\n",
    "void splice( const_iterator pos, list&& other,\n",
    "             const_iterator first, const_iterator last );\n",
    "```"
   ]
  },
  {
   "cell_type": "markdown",
   "id": "a530bcb2",
   "metadata": {},
   "source": [
    "Again, which overload is used and why?"
   ]
  },
  {
   "cell_type": "code",
   "execution_count": null,
   "id": "980f541e",
   "metadata": {},
   "outputs": [],
   "source": [
    "%%ai\n",
    "Explain very briefly what are the differences between the two overloads:\n",
    "--\n",
    "void splice( const_iterator pos, list& other );\n",
    "void splice( const_iterator pos, list&& other );\n",
    "void splice( const_iterator pos, list& other, const_iterator it );\n",
    "void splice( const_iterator pos, list&& other, const_iterator it );\n",
    "void splice( const_iterator pos, list& other,\n",
    "             const_iterator first, const_iterator last );\n",
    "void splice( const_iterator pos, list&& other,\n",
    "             const_iterator first, const_iterator last );"
   ]
  },
  {
   "cell_type": "markdown",
   "id": "846d4233",
   "metadata": {},
   "source": [
    "We also used the method [`emplace_back()`](https://en.cppreference.com/w/cpp/container/list/emplace_back.html) in [](#code_combination2) in place of `push_back(vector<size_t>())` in [](#code_combination1) to add an empty combination, without constructing the combination explicitly:\n",
    "\n",
    "```cpp\n",
    "template< class... Args >\n",
    "reference emplace_back( Args&&... args );\n",
    "```"
   ]
  },
  {
   "cell_type": "markdown",
   "id": "cea4ed1d",
   "metadata": {},
   "source": [
    "What does the `...` mean and why is it used?"
   ]
  },
  {
   "cell_type": "code",
   "execution_count": null,
   "id": "0f6966a6",
   "metadata": {},
   "outputs": [],
   "source": [
    "%%ai\n",
    "Explain very briefly the following syntax:\n",
    "--\n",
    "template< class... Args >\n",
    "reference emplace_back( Args&&... args );"
   ]
  },
  {
   "cell_type": "code",
   "execution_count": null,
   "id": "ba49d760",
   "metadata": {},
   "outputs": [],
   "source": [
    "%%ai\n",
    "Why construct in-place using `emplace_back` instead of `push_back`?"
   ]
  },
  {
   "cell_type": "markdown",
   "id": "1088f19d",
   "metadata": {},
   "source": [
    "While we can reuse code easily with OOP, we need to know how to choose the object, its methods, and their overloads. That demands a deeper understanding of the design of the object and how its resources are managed. We will take a closer look at `std::vector` and `st::list`."
   ]
  },
  {
   "cell_type": "markdown",
   "id": "65f02299",
   "metadata": {},
   "source": [
    "## Referencing Resources"
   ]
  },
  {
   "cell_type": "markdown",
   "id": "2be7a0d5",
   "metadata": {},
   "source": [
    "To understand the difference between `&&` and `&`, recall the following code from a previous lecture. What is the value of `a` after executing the following code?"
   ]
  },
  {
   "cell_type": "code",
   "execution_count": null,
   "id": "8dbd4d0b",
   "metadata": {},
   "outputs": [],
   "source": [
    "%%cpp\n",
    "auto a=1, &b=a;\n",
    "b+=1;\n",
    "a"
   ]
  },
  {
   "cell_type": "markdown",
   "id": "29bd786e",
   "metadata": {},
   "source": [
    "To see why `a` is `2` instead of `1`, we can print the addresses of `a` and `b` and show that the addresses are the same:"
   ]
  },
  {
   "cell_type": "code",
   "execution_count": null,
   "id": "2c35d223",
   "metadata": {},
   "outputs": [],
   "source": [
    "%%cpp\n",
    "auto a=1, &b=L(a);\n",
    "L(b)+=1;\n",
    "a"
   ]
  },
  {
   "cell_type": "markdown",
   "id": "cf577b6f",
   "metadata": {},
   "source": [
    "`L` is a macro\n",
    "\n",
    "```cpp\n",
    "#define L(x) loc(x, std::string(\"(\")+std::string(type<decltype(x)>())+\") \"+#x)\n",
    "```\n",
    "\n",
    "which expands to a call to the function `loc` in the header file [\"utility.hpp\"](./utility.hpp). The function\n",
    "\n",
    "- decorates a value by printing its address, but\n",
    "- preserves the value so that the behavior of the original code remains unchanged.\n",
    "\n",
    "**How to properly pass an argument by reference to implement the `loc` function?**"
   ]
  },
  {
   "cell_type": "markdown",
   "id": "47511e24",
   "metadata": {},
   "source": [
    "### Lvalue Reference"
   ]
  },
  {
   "cell_type": "markdown",
   "id": "c74f9905",
   "metadata": {},
   "source": [
    "The following implementation passes the argument and return it by [lvalue reference](https://en.cppreference.com/w/cpp/language/reference.html#Lvalue_references):"
   ]
  },
  {
   "cell_type": "code",
   "execution_count": null,
   "id": "f2ff3296",
   "metadata": {},
   "outputs": [],
   "source": [
    "%%cpp\n",
    "auto &loc1(auto &x) {\n",
    "    cout << format(\"@{:p}\\n\", static_cast<void *>(&x));\n",
    "    return x;\n",
    "}"
   ]
  },
  {
   "cell_type": "markdown",
   "id": "ab54083b",
   "metadata": {},
   "source": [
    "It appears to work:"
   ]
  },
  {
   "cell_type": "code",
   "execution_count": null,
   "id": "f55a694d",
   "metadata": {},
   "outputs": [],
   "source": [
    "%%cpp\n",
    "auto a=1, &b=loc1(a);\n",
    "loc1(b)+=1;\n",
    "a"
   ]
  },
  {
   "cell_type": "markdown",
   "id": "7b4f1823",
   "metadata": {},
   "source": [
    "::::{exercise}\n",
    ":label: ex:loc1:const\n",
    "\n",
    "Why does `loc1` fail for constant arguments?\n",
    "\n",
    "```cpp\n",
    "const auto a=1, &b=loc1(a);\n",
    "loc1(b)\n",
    "```\n",
    "\n",
    ":::{hint}\n",
    "\n",
    "See [const_cast](https://en.cppreference.com/w/cpp/language/const_cast.html).\n",
    "\n",
    ":::\n",
    "\n",
    "::::"
   ]
  },
  {
   "cell_type": "markdown",
   "id": "1d554be6",
   "metadata": {
    "deletable": false,
    "nbgrader": {
     "cell_type": "markdown",
     "checksum": "b147cbaa84d613def5c0ac687975de5b",
     "grade": true,
     "grade_id": "loc1-const",
     "locked": false,
     "points": 0,
     "schema_version": 3,
     "solution": true,
     "task": false
    }
   },
   "source": [
    "YOUR ANSWER HERE"
   ]
  },
  {
   "cell_type": "markdown",
   "id": "1fcc4200",
   "metadata": {},
   "source": [
    "Instead of using `const_cast`, it is safer to implement the following fix:"
   ]
  },
  {
   "cell_type": "code",
   "execution_count": null,
   "id": "a3580d7f",
   "metadata": {},
   "outputs": [],
   "source": [
    "%%cpp\n",
    "auto &loc1(auto &x) {\n",
    "    cout << format(\"@{:p}\\n\", static_cast<const void *>(&x));\n",
    "    return x;\n",
    "}"
   ]
  },
  {
   "cell_type": "markdown",
   "id": "30b7c4ea",
   "metadata": {},
   "source": [
    "`loc1` now works for constants:"
   ]
  },
  {
   "cell_type": "code",
   "execution_count": null,
   "id": "f4f873f7",
   "metadata": {},
   "outputs": [],
   "source": [
    "%%cpp\n",
    "const auto a=1, &b=loc1(a);\n",
    "loc1(b)"
   ]
  },
  {
   "cell_type": "code",
   "execution_count": null,
   "id": "8dabb351",
   "metadata": {},
   "outputs": [],
   "source": [
    "%%ai\n",
    "Explain briefly when it is essential to use const_cast instead of static_cast\n",
    "for constant pointers."
   ]
  },
  {
   "cell_type": "markdown",
   "id": "3052eb19",
   "metadata": {},
   "source": [
    "Consider the following direct initialization:"
   ]
  },
  {
   "cell_type": "code",
   "execution_count": null,
   "id": "85b46bdb",
   "metadata": {},
   "outputs": [],
   "source": [
    "%%cpp\n",
    "auto u(vector<int>{1, 2, 3});"
   ]
  },
  {
   "cell_type": "markdown",
   "id": "3a92769d",
   "metadata": {},
   "source": [
    "**Does `u` reuse the memory allocated to the rvalue `vector<int>{1, 2, 3}`?**"
   ]
  },
  {
   "cell_type": "markdown",
   "id": "ac0d87b7",
   "metadata": {},
   "source": [
    "::::{exercise}\n",
    ":label: ex:loc1\n",
    "\n",
    "Why using `loc1` as follows leads to an error?\n",
    "\n",
    "```cpp\n",
    "auto u(loc1(vector<int>{1, 2, 3}));\n",
    "loc1(u);\n",
    "```\n",
    "\n",
    "As the following program shows, `loc1` appears to work for C-string but fail for the compound literal for `char`. Why?\n",
    "\n",
    "::::"
   ]
  },
  {
   "cell_type": "code",
   "execution_count": null,
   "id": "473c9c44",
   "metadata": {},
   "outputs": [],
   "source": [
    "%%cpp\n",
    "loc1(\"a\")        // works?!"
   ]
  },
  {
   "cell_type": "code",
   "execution_count": null,
   "id": "c7806b69",
   "metadata": {},
   "outputs": [],
   "source": [
    "%%cpp\n",
    "// loc1((char[]){'a');  // fails: expects an lvalue for 1st argument\n",
    "// loc1(static_cast<char * const>((char[]){'a', 0})); // making it constant also fail\n",
    "(char[]){'a', 0}            // isn't it just \"a\"?"
   ]
  },
  {
   "cell_type": "markdown",
   "id": "d128e827",
   "metadata": {
    "deletable": false,
    "nbgrader": {
     "cell_type": "markdown",
     "checksum": "504cc9118d7a58e7f7a595afad643f0f",
     "grade": true,
     "grade_id": "loc1",
     "locked": false,
     "points": 0,
     "schema_version": 3,
     "solution": true,
     "task": false
    }
   },
   "source": [
    "YOUR ANSWER HERE"
   ]
  },
  {
   "cell_type": "markdown",
   "id": "d5f3aaea",
   "metadata": {},
   "source": [
    "A potential fix is to add `const` qualifier to the parameter `x`:"
   ]
  },
  {
   "cell_type": "code",
   "execution_count": null,
   "id": "e0eb5ce5",
   "metadata": {},
   "outputs": [],
   "source": [
    "%%cpp\n",
    "auto &loc2(const auto &x) {\n",
    "    cout << format(\"@{:p}\\n\", static_cast<const void *>(&x));\n",
    "    return x;\n",
    "}"
   ]
  },
  {
   "cell_type": "code",
   "execution_count": null,
   "id": "c3c82f34",
   "metadata": {},
   "outputs": [],
   "source": [
    "%%cpp\n",
    "auto u(loc2(vector<int>{1, 2, 3}));\n",
    "loc2(u)"
   ]
  },
  {
   "cell_type": "markdown",
   "id": "255e1677",
   "metadata": {},
   "source": [
    "::::{exercise}\n",
    ":label: ex:loc2\n",
    "\n",
    "Why does the following code fail?\n",
    "\n",
    "```cpp\n",
    "auto u(loc2(vector<int>{1, 2, 3}));\n",
    "loc2(u).push_back(4);\n",
    "```\n",
    "\n",
    "::::"
   ]
  },
  {
   "cell_type": "markdown",
   "id": "0ef14a97",
   "metadata": {
    "deletable": false,
    "nbgrader": {
     "cell_type": "markdown",
     "checksum": "e9811f73b84acc0111cf53a856da5671",
     "grade": true,
     "grade_id": "loc2",
     "locked": false,
     "points": 0,
     "schema_version": 3,
     "solution": true,
     "task": false
    }
   },
   "source": [
    "YOUR ANSWER HERE"
   ]
  },
  {
   "cell_type": "markdown",
   "id": "d6478c17",
   "metadata": {},
   "source": [
    "### Rvalue Reference"
   ]
  },
  {
   "cell_type": "markdown",
   "id": "6f72f717",
   "metadata": {},
   "source": [
    "A potential fix is to pass the argument by [rvalue reference](https://en.cppreference.com/w/cpp/language/reference.html#Rvalue_references) using `&&` instead of `&`:"
   ]
  },
  {
   "cell_type": "code",
   "execution_count": null,
   "id": "938e95a1",
   "metadata": {},
   "outputs": [],
   "source": [
    "%%cpp\n",
    "auto &loc3(auto &&x) {\n",
    "    cout << format(\"@{:p}\\n\", static_cast<const void *>(&x));\n",
    "    return x;\n",
    "}"
   ]
  },
  {
   "cell_type": "code",
   "execution_count": null,
   "id": "e5c0eebb",
   "metadata": {},
   "outputs": [],
   "source": [
    "%%cpp\n",
    "auto u(loc3(vector<int>{1, 2, 3}));\n",
    "loc3(u).push_back(4);\n",
    "u"
   ]
  },
  {
   "cell_type": "markdown",
   "id": "9fe6b25c",
   "metadata": {},
   "source": [
    "It seems to work now, right?"
   ]
  },
  {
   "cell_type": "code",
   "execution_count": null,
   "id": "ee1a1235",
   "metadata": {},
   "outputs": [],
   "source": [
    "%%cpp\n",
    "loc3(1) = 0;   // works?!\n",
    "1              // 1 is now 0?!"
   ]
  },
  {
   "cell_type": "markdown",
   "id": "dc8aceee",
   "metadata": {},
   "source": [
    "::::{caution}  It doesn't work. Why?\n",
    ":class: dropdown\n",
    "\n",
    "`loc3` returns an lvalue instead, which is assignable even for simple integer type. In other words, `loc3` changed the behavior of the original code.\n",
    "\n",
    "::::"
   ]
  },
  {
   "cell_type": "markdown",
   "id": "f40084ab",
   "metadata": {},
   "source": [
    "::::{exercise}\n",
    ":label: ex:rvalue_ref1\n",
    "Why does the following code not change `1` to `2`?\n",
    "\n",
    "::::"
   ]
  },
  {
   "cell_type": "code",
   "execution_count": null,
   "id": "a3a2686e",
   "metadata": {},
   "outputs": [],
   "source": [
    "%%cpp\n",
    "[](int &&x) {x=0;}(1);  // change 1 to 0\n",
    "auto x=1                // x is 0?"
   ]
  },
  {
   "cell_type": "markdown",
   "id": "e97718b6",
   "metadata": {
    "deletable": false,
    "nbgrader": {
     "cell_type": "markdown",
     "checksum": "b8a9f7a7f68efea43e8fb4b801463b90",
     "grade": true,
     "grade_id": "rvalue_ref1",
     "locked": false,
     "points": 0,
     "schema_version": 3,
     "solution": true,
     "task": false
    }
   },
   "source": [
    "YOUR ANSWER HERE"
   ]
  },
  {
   "cell_type": "markdown",
   "id": "166270a4",
   "metadata": {},
   "source": [
    "How about returning the output by rvalue reference as well?"
   ]
  },
  {
   "cell_type": "code",
   "execution_count": null,
   "id": "f40db25a",
   "metadata": {},
   "outputs": [],
   "source": [
    "%%cpp\n",
    "template <class T>\n",
    "T &&loc4(T &&x) {\n",
    "    cout << format(\"@{:p}\\n\", static_cast<const void *>(&x));\n",
    "    return x;\n",
    "}"
   ]
  },
  {
   "cell_type": "markdown",
   "id": "ddbd19e4",
   "metadata": {},
   "source": [
    "::::{caution}\n",
    "\n",
    "We used `template` instead of `auto` above because `auto &&loc4(auto &&x) { ... }` does not work for the ROOT kernel, similar to [this issue](https://github.com/jupyter-xeus/xeus-cling/issues/40).\n",
    "\n",
    "::::"
   ]
  },
  {
   "cell_type": "markdown",
   "id": "35ffe7c0",
   "metadata": {},
   "source": [
    "::::{exercise}\n",
    ":label: ex:loc4\n",
    "\n",
    "Why does the following code fail?\n",
    "\n",
    "```cpp\n",
    "auto u(loc4(vector<int>{1, 2, 3}));\n",
    "```\n",
    "\n",
    "::::"
   ]
  },
  {
   "cell_type": "markdown",
   "id": "d8b2b04d",
   "metadata": {
    "deletable": false,
    "nbgrader": {
     "cell_type": "markdown",
     "checksum": "b77f90ed184de31780cdebee35e5332b",
     "grade": true,
     "grade_id": "loc4",
     "locked": false,
     "points": 0,
     "schema_version": 3,
     "solution": true,
     "task": false
    }
   },
   "source": [
    "YOUR ANSWER HERE"
   ]
  },
  {
   "cell_type": "markdown",
   "id": "7e03a174",
   "metadata": {},
   "source": [
    "A potential fix is to cast `x` to an rvalue reference using [`std::move(x)`](https://en.cppreference.com/w/cpp/utility/move.html):"
   ]
  },
  {
   "cell_type": "code",
   "execution_count": null,
   "id": "80f2d06a",
   "metadata": {},
   "outputs": [],
   "source": [
    "%%cpp\n",
    "template <class T>\n",
    "T &&loc5(T &&x) {\n",
    "    cout << format(\"@{:p}\\n\", static_cast<const void *>(&x));\n",
    "    return std::move(x);\n",
    "}"
   ]
  },
  {
   "cell_type": "markdown",
   "id": "e630acbe",
   "metadata": {},
   "source": [
    "It appears to work now:"
   ]
  },
  {
   "cell_type": "code",
   "execution_count": null,
   "id": "6803930b",
   "metadata": {},
   "outputs": [],
   "source": [
    "%%cpp\n",
    "auto u(loc5(vector<int>{1, 2, 3}));\n",
    "// loc5(1) = 0;   // fails: expression is not assignable"
   ]
  },
  {
   "cell_type": "markdown",
   "id": "2333bffb",
   "metadata": {},
   "source": [
    "Does it really work? `loc5` fails to handle lvalue:\n",
    "\n",
    "```cpp\n",
    "auto a=1;\n",
    "loc5(a);\n",
    "```"
   ]
  },
  {
   "cell_type": "markdown",
   "id": "065909f8",
   "metadata": {},
   "source": [
    "The error message is:\n",
    "\n",
    "::::{code}\n",
    ":label: err_loc5\n",
    ":linenos:\n",
    ":emphasize-lines: 2\n",
    "error: non-const lvalue reference to type 'int' cannot bind to a temporary of type 'typename\n",
    "std::remove_reference<int &>::type' (aka 'int')\n",
    "    return std::move(x);\n",
    "           ^~~~~~~~~~~~\n",
    "::::"
   ]
  },
  {
   "cell_type": "markdown",
   "id": "a83a5979",
   "metadata": {},
   "source": [
    "### Universal Reference"
   ]
  },
  {
   "cell_type": "markdown",
   "id": "b451f99a",
   "metadata": {},
   "source": [
    "A potential fix is to use `static_cast` instead of `std::move`:"
   ]
  },
  {
   "cell_type": "code",
   "execution_count": null,
   "id": "18a405bf",
   "metadata": {},
   "outputs": [],
   "source": [
    "%%cpp\n",
    "template <class T>\n",
    "T &&loc6(T &&x) {\n",
    "    cout << format(\"@{:p}\\n\", static_cast<const void *>(&x));\n",
    "    return static_cast<T &&>(x);\n",
    "}"
   ]
  },
  {
   "cell_type": "code",
   "execution_count": null,
   "id": "a37db958",
   "metadata": {},
   "outputs": [],
   "source": [
    "%%cpp\n",
    "auto u(loc6(vector<int>{1, 2, 3}));\n",
    "loc6(u)"
   ]
  },
  {
   "cell_type": "markdown",
   "id": "ee6077f4",
   "metadata": {},
   "source": [
    "But how can that make a difference? According to [the documentation](https://en.cppreference.com/w/cpp/utility/move.html):\n",
    "> It (`std::move`) is exactly equivalent to a static_cast to an rvalue reference type."
   ]
  },
  {
   "cell_type": "markdown",
   "id": "8b1b3779",
   "metadata": {},
   "source": [
    "The same fix does not work below:"
   ]
  },
  {
   "cell_type": "code",
   "execution_count": null,
   "id": "4f762eca",
   "metadata": {},
   "outputs": [],
   "source": [
    "%%cpp\n",
    "int a=1;\n",
    "[](int &&b) { return static_cast<int &&>(b); }\n",
    "// (a);  // fails: expects an rvalue for 1st argument"
   ]
  },
  {
   "cell_type": "markdown",
   "id": "d61b44fe",
   "metadata": {},
   "source": [
    "An important clue comes from the [error message of `loc5(a)`](#err_loc5):\n",
    "\n",
    "```cpp\n",
    "std::remove_reference<int &>::type' (aka 'int')\n",
    "```\n",
    "\n",
    "The return type from `loc5` is an lvalue, not an rvalue!"
   ]
  },
  {
   "cell_type": "markdown",
   "id": "79b40697",
   "metadata": {},
   "source": [
    "::::{caution} Universal reference\n",
    ":class: dropdown\n",
    "\n",
    "For parameters of function templates, `&&` is a [forwarding/universal reference](https://en.cppreference.com/w/cpp/language/reference.html#Forwarding_references) instead of an rvalue reference. It simply forwards the argument, preserving its value category:\n",
    "\n",
    "- For the code `loc5(a);`, `a` is passed by lvalue reference, i.e., `T &&` becomes `int &`, which is also the return type by the function declaration `T &&loc5(T &&x)`. The return lvalue reference is non-const and therefore cannot bind to a temporary `std::move(x)`.\n",
    "- `loc6(a);` works because `static_cast<T &&>(x)` instantiates to `static_cast<int &>(x)`, which is an lvalue reference instead of a temporary!\n",
    "\n",
    "::::"
   ]
  },
  {
   "cell_type": "markdown",
   "id": "75618558",
   "metadata": {},
   "source": [
    "We can use [`std::forward<T>`](https://en.cppreference.com/w/cpp/utility/forward.html) instead of `static_cast<T &&>` to make it less confusing:\n",
    "\n",
    "::::{code} cpp\n",
    ":label: code_loc\n",
    ":caption: The implementation of `loc` in [\"utility.hpp\"](./utility.hpp).\n",
    "/**\n",
    " * @brief Logs the memory address of a variable along with an optional label.\n",
    " * \n",
    " * This function is useful for educational purposes, especially when tracking\n",
    " * object lifetimes, locations in memory, or verifying move semantics.\n",
    " * \n",
    " * @tparam T Type of the variable (supports universal references).\n",
    " * @param x The variable to log.\n",
    " * @param label Optional label to identify the variable in the output.\n",
    " * @return T&& Perfectly forwarded variable.\n",
    " */\n",
    "template <class T>\n",
    "T &&loc(T &&x, const string &label=\"\") {\n",
    "    cout << format(\"{} @{:p}\\n\",\n",
    "        label,\n",
    "        static_cast<const void*>(&x));\n",
    "    return std::forward<T>(x);\n",
    "}\n",
    "::::"
   ]
  },
  {
   "cell_type": "code",
   "execution_count": null,
   "id": "a5f6e66f",
   "metadata": {},
   "outputs": [],
   "source": [
    "%%cpp\n",
    "auto u(loc(vector<int>{1, 2, 3}));\n",
    "loc(u)"
   ]
  },
  {
   "cell_type": "markdown",
   "id": "0d7fc26e",
   "metadata": {},
   "source": [
    "**Back to our original endeavor, does `u` reuse the memory allocated to the rvalue `vector<int>{1, 2, 3}`?**"
   ]
  },
  {
   "cell_type": "markdown",
   "id": "bf4e826d",
   "metadata": {},
   "source": [
    "It seems that the rvalue `vector<int>{1, 2, 3}` occupies a different memory location than the lvalue `u` does. What about copy initializations?"
   ]
  },
  {
   "cell_type": "code",
   "execution_count": null,
   "id": "c7b54c2b",
   "metadata": {},
   "outputs": [],
   "source": [
    "%%cpp\n",
    "auto u=LB((vector<int>{1, 2, 3}));\n",
    "auto v=LB(u);\n",
    "LB(v)"
   ]
  },
  {
   "cell_type": "code",
   "execution_count": null,
   "id": "af01b34f",
   "metadata": {},
   "outputs": [],
   "source": [
    "%%ai\n",
    "Explain very briefly how direct initialization in C++ is different from\n",
    "copy initialization and list initialization?"
   ]
  },
  {
   "cell_type": "markdown",
   "id": "00870fee",
   "metadata": {},
   "source": [
    "We are now ready to dive into how objects are constructed using different constructors and initializations."
   ]
  },
  {
   "cell_type": "markdown",
   "id": "60b2aa51",
   "metadata": {},
   "source": [
    "## Vector Construction"
   ]
  },
  {
   "cell_type": "markdown",
   "id": "bef53383",
   "metadata": {},
   "source": [
    "There many [constructors](https://en.cppreference.com/w/cpp/container/vector/vector.html) available for constructing vectors. Unlike other methods, constructors have no names but can be called in various ways to create rvalues or to initialize variables."
   ]
  },
  {
   "cell_type": "markdown",
   "id": "55095dc4",
   "metadata": {},
   "source": [
    "### Converting Constructors"
   ]
  },
  {
   "cell_type": "markdown",
   "id": "f5bd5117",
   "metadata": {},
   "source": [
    "Constructors that take a single argument and is not marked as [explicit](https://en.cppreference.com/w/cpp/language/explicit.html) are called [converting constructors](https://en.cppreference.com/w/cpp/language/converting_constructor.html). These constructors can be used for implicit conversions or copy initialization."
   ]
  },
  {
   "cell_type": "markdown",
   "id": "953c6737",
   "metadata": {},
   "source": [
    "#### Initializer‑List Constructor"
   ]
  },
  {
   "cell_type": "markdown",
   "id": "f2fcd153",
   "metadata": {},
   "source": [
    "```cpp\n",
    "vector( std::initializer_list<T> init,\n",
    "        const Allocator& alloc = Allocator() );\n",
    "```\n",
    "adds elements from a (braced) [initializer list](https://en.cppreference.com/w/cpp/utility/initializer_list/initializer_list.html)."
   ]
  },
  {
   "cell_type": "code",
   "execution_count": null,
   "id": "c9bc5a64",
   "metadata": {},
   "outputs": [],
   "source": [
    "%%cpp\n",
    "vector<size_t> {0, 1, 2}     // vector constructed with braced initializer list"
   ]
  },
  {
   "cell_type": "code",
   "execution_count": null,
   "id": "fe525863",
   "metadata": {},
   "outputs": [],
   "source": [
    "%%cpp\n",
    "vector<size_t> u {0, 1, 2}   // list initialization"
   ]
  },
  {
   "cell_type": "code",
   "execution_count": null,
   "id": "1bd2a11b",
   "metadata": {},
   "outputs": [],
   "source": [
    "%%cpp\n",
    "vector<size_t> u({0, 1, 2})  // direct initialization with braced initializer list"
   ]
  },
  {
   "cell_type": "code",
   "execution_count": null,
   "id": "d853d3ed",
   "metadata": {},
   "outputs": [],
   "source": [
    "%%cpp\n",
    "vector<size_t> u={0, 1, 2}   // copy-list initialization"
   ]
  },
  {
   "cell_type": "markdown",
   "id": "b934eb31",
   "metadata": {},
   "source": [
    "To use an initializer list explicitly:"
   ]
  },
  {
   "cell_type": "code",
   "execution_count": null,
   "id": "e9200c2f",
   "metadata": {},
   "outputs": [],
   "source": [
    "%%cpp\n",
    "initializer_list<size_t> ilist {0, 1, 2};\n",
    "(vector<size_t>(ilist))  // vector constructed with initializer list"
   ]
  },
  {
   "cell_type": "code",
   "execution_count": null,
   "id": "08dfef2d",
   "metadata": {},
   "outputs": [],
   "source": [
    "%%cpp\n",
    "vector<size_t> u(init_list)  // direct initialization with initializer list"
   ]
  },
  {
   "cell_type": "code",
   "execution_count": null,
   "id": "4466426e",
   "metadata": {},
   "outputs": [],
   "source": [
    "%%ai\n",
    "Explain very briefly how is copy-list initialization different from\n",
    "list initialization for `std::vector`."
   ]
  },
  {
   "cell_type": "markdown",
   "id": "3a052aef",
   "metadata": {},
   "source": [
    "#### Move Constructor"
   ]
  },
  {
   "cell_type": "markdown",
   "id": "4ddabee0",
   "metadata": {},
   "source": [
    "```cpp\n",
    "vector( vector&& other );\n",
    "```\n",
    "moves elements from another vector:"
   ]
  },
  {
   "cell_type": "code",
   "execution_count": null,
   "id": "7a858075",
   "metadata": {},
   "outputs": [],
   "source": [
    "%%cpp\n",
    "vector<int>(vector<int>{1, 2, 3}) // vector constructed with elements moved from other"
   ]
  },
  {
   "cell_type": "code",
   "execution_count": null,
   "id": "9081f2d2",
   "metadata": {},
   "outputs": [],
   "source": [
    "%%cpp\n",
    "auto u(vector<int>{1, 2, 3})      // direct initialization"
   ]
  },
  {
   "cell_type": "code",
   "execution_count": null,
   "id": "21677ad5",
   "metadata": {},
   "outputs": [],
   "source": [
    "%%cpp\n",
    "auto u=vector<int>{1, 2, 3}       // copy initialization"
   ]
  },
  {
   "cell_type": "markdown",
   "id": "de1a7b0b",
   "metadata": {},
   "source": [
    "To see that elements are not duplicated:"
   ]
  },
  {
   "cell_type": "code",
   "execution_count": null,
   "id": "f5dcc2ae",
   "metadata": {},
   "outputs": [],
   "source": [
    "%%cpp\n",
    "auto u(LB(L((vector<int>{1, 2, 3}))));\n",
    "L(LB(u))"
   ]
  },
  {
   "cell_type": "markdown",
   "id": "d709ff40",
   "metadata": {},
   "source": [
    "Even though the lvalue `u` and rvalue `vector<int>{1, 2, 3}` have different memory locations, they begin storing their elements at the same location, i.e., the lvalue reuses the memory allocated to the rvalue."
   ]
  },
  {
   "cell_type": "markdown",
   "id": "e53a3371",
   "metadata": {},
   "source": [
    ":::::{seealso} What is `LB`?\n",
    "\n",
    "`LB` is a macro defined as\n",
    "\n",
    "```cpp\n",
    "#define LB(x) loc_begin(x, std::string(\"(\")+std::string(type<decltype(x)>())+\") \"+#x)\n",
    "```\n",
    "\n",
    "which expands to a call to `loc_begin` in [\"utility.hpp\"](./utility.hpp) to locate the beginning of the vector:\n",
    "\n",
    "::::{code} cpp\n",
    "// Overload for containers with .cbegin()\n",
    "template <class T>\n",
    "std::enable_if_t<has_begin<T>::value, T&&>\n",
    "&&loc_begin(T &&x, const string &label=\"\") {\n",
    "    cout << format(\"{} begin@{:p}\\n\", label, static_cast<const void*>(&*(x.cbegin())));\n",
    "    return std::forward<T>(x);\n",
    "}\n",
    "::::\n",
    ":::::"
   ]
  },
  {
   "cell_type": "markdown",
   "id": "574ba5a8",
   "metadata": {},
   "source": [
    "To see that the elements are moved:"
   ]
  },
  {
   "cell_type": "code",
   "execution_count": null,
   "id": "e3a8e286",
   "metadata": {},
   "outputs": [],
   "source": [
    "%%cpp\n",
    "vector<size_t> u {1,2,3}, v(std::move(LB(u))); // move elements of `u` to `v`\n",
    "LB(u).empty()? LB(v): throw runtime_error(\"Elements of `u` should be moved!\")"
   ]
  },
  {
   "cell_type": "markdown",
   "id": "58ced8d2",
   "metadata": {},
   "source": [
    "`std::move` casts `u` into an rvalue, which is then passed to the move constructor: \n",
    "- The move constructor steals the resources from `u`, making it empty and\n",
    "- the address of its first element becomes `nullptr`."
   ]
  },
  {
   "cell_type": "markdown",
   "id": "ee4a5573",
   "metadata": {},
   "source": [
    "#### Copy Constructor"
   ]
  },
  {
   "cell_type": "markdown",
   "id": "44dc61ac",
   "metadata": {},
   "source": [
    "```cpp\n",
    "vector( const vector& other );\n",
    "```\n",
    "can be used to copy elements from another vector:"
   ]
  },
  {
   "cell_type": "code",
   "execution_count": null,
   "id": "53a494fe",
   "metadata": {},
   "outputs": [],
   "source": [
    "%%cpp\n",
    "vector<size_t> u {1,2,3};\n",
    "(vector<size_t>(u))  // vector constructed with elements copied from other"
   ]
  },
  {
   "cell_type": "code",
   "execution_count": null,
   "id": "f14e6a64",
   "metadata": {},
   "outputs": [],
   "source": [
    "%%cpp\n",
    "auto v(u)  // direct initialization"
   ]
  },
  {
   "cell_type": "code",
   "execution_count": null,
   "id": "66867bae",
   "metadata": {},
   "outputs": [],
   "source": [
    "%%cpp\n",
    "auto v=u  // copy initialization"
   ]
  },
  {
   "cell_type": "markdown",
   "id": "1aa390fa",
   "metadata": {},
   "source": [
    "To see that the elements are duplicated:"
   ]
  },
  {
   "cell_type": "code",
   "execution_count": null,
   "id": "27705966",
   "metadata": {},
   "outputs": [],
   "source": [
    "%%cpp\n",
    "(LB(u) == LB(v))"
   ]
  },
  {
   "cell_type": "markdown",
   "id": "250e3158",
   "metadata": {},
   "source": [
    "`v` is equal to `u` but it does not begin at the same location as `u`."
   ]
  },
  {
   "cell_type": "markdown",
   "id": "60cd6e80",
   "metadata": {},
   "source": [
    "::::{seealso} Object copying\n",
    "\n",
    "- `v` is said to be a [deep copy](https://en.wikipedia.org/wiki/Object_copying#Deep_copy) of `u` in the sense that `v` is a new container whose elements are copies of those of `u`.\n",
    "- In contrast, a [shallow copy](https://en.wikipedia.org/wiki/Object_copying#Shallow_copy) reuses the elements of the original.\n",
    "\n",
    "::::"
   ]
  },
  {
   "cell_type": "markdown",
   "id": "d1159e69",
   "metadata": {},
   "source": [
    "Shallow copy is prone to mutability bug. For instance:"
   ]
  },
  {
   "cell_type": "markdown",
   "id": "a791bed7",
   "metadata": {},
   "source": [
    "::::{exercise}\n",
    ":label: ex:deep_copy\n",
    "\n",
    "Explain why `s` at the end of the following code is not `\"aba\"`?\n",
    "\n",
    ":::{hint}\n",
    "\n",
    "The first call `LB(s)` uses the overload\n",
    "\n",
    "```cpp\n",
    "// Overload for C-style arrays\n",
    "template <class T, size_t N>\n",
    "T (&loc_begin(T (&x)[N], const string &label = \"\"))[N] {\n",
    "    cout << format(\"{} begin@{:p}\\n\", label, static_cast<const void*>(&x[0]));\n",
    "    return x;\n",
    "}\n",
    "```\n",
    "\n",
    "but the second call `LB(t)` uses the overload\n",
    "\n",
    "```cpp\n",
    "// For pointers or decayed arrays\n",
    "template <class T>\n",
    "typename std::enable_if<std::is_pointer<T>::value, T>::type\n",
    "loc_begin(T x, const string& label = \"\") {\n",
    "    cout << format(\"{} begin@{:p}\\n\", label, static_cast<const void*>(x));\n",
    "    return x;\n",
    "}\n",
    "```\n",
    "\n",
    ":::\n",
    "\n",
    "::::"
   ]
  },
  {
   "cell_type": "code",
   "execution_count": null,
   "id": "cd10a87c",
   "metadata": {},
   "outputs": [],
   "source": [
    "%%cpp\n",
    "char s[]=\"aba\";\n",
    "auto t(LB(s));\n",
    "LB(t)[1]='v';\n",
    "s // aba?"
   ]
  },
  {
   "cell_type": "markdown",
   "id": "5c9fef32",
   "metadata": {
    "deletable": false,
    "nbgrader": {
     "cell_type": "markdown",
     "checksum": "10725bd3aa3cca4ea01c596c47961e61",
     "grade": true,
     "grade_id": "deep_copy",
     "locked": false,
     "points": 0,
     "schema_version": 3,
     "solution": true,
     "task": false
    }
   },
   "source": [
    "YOUR ANSWER HERE"
   ]
  },
  {
   "cell_type": "markdown",
   "id": "bf8a3a57",
   "metadata": {},
   "source": [
    "::::{exercise}\n",
    ":label: ex:constructors1\n",
    "\n",
    "Explain all the constructors involved in the following declaration.\n",
    "\n",
    "::::"
   ]
  },
  {
   "cell_type": "code",
   "execution_count": null,
   "id": "b7755e0a",
   "metadata": {},
   "outputs": [],
   "source": [
    "%%cpp\n",
    "auto u=vector<vector<size_t> > {{1}, {2, 3}}, v=u;\n",
    "v"
   ]
  },
  {
   "cell_type": "markdown",
   "id": "1ac3f17a",
   "metadata": {
    "deletable": false,
    "nbgrader": {
     "cell_type": "markdown",
     "checksum": "f5012ff269f33b34f3b525396b051061",
     "grade": true,
     "grade_id": "constructor1",
     "locked": false,
     "points": 0,
     "schema_version": 3,
     "solution": true,
     "task": false
    }
   },
   "source": [
    "YOUR ANSWER HERE"
   ]
  },
  {
   "cell_type": "markdown",
   "id": "821dfa1c",
   "metadata": {},
   "source": [
    "### Explicit Constructors"
   ]
  },
  {
   "cell_type": "markdown",
   "id": "0a0055d5",
   "metadata": {},
   "source": [
    "There are also constructors that cannot be used in copy initialization nor implicit conversion."
   ]
  },
  {
   "cell_type": "markdown",
   "id": "c149859f",
   "metadata": {},
   "source": [
    "#### Default Constructor"
   ]
  },
  {
   "cell_type": "markdown",
   "id": "63559844",
   "metadata": {},
   "source": [
    "```cpp\n",
    "vector() noexcept(noexcept(Allocator())) : vector(Allocator()) {}\n",
    "```\n",
    "takes no argument and returns an empty vector:"
   ]
  },
  {
   "cell_type": "code",
   "execution_count": null,
   "id": "08dc0a6a",
   "metadata": {},
   "outputs": [],
   "source": [
    "%%cpp\n",
    "vector<size_t>()"
   ]
  },
  {
   "cell_type": "code",
   "execution_count": null,
   "id": "45c7d6d1",
   "metadata": {},
   "outputs": [],
   "source": [
    "%%cpp\n",
    "vector<size_t> u"
   ]
  },
  {
   "cell_type": "markdown",
   "id": "9a2f4d33",
   "metadata": {},
   "source": [
    ":::{caution}\n",
    "\n",
    "`vector<size_t> u()` is also incorrect as it can be mistaken to be a function declaration instead of a direct initialization with the default initializer.\n",
    "\n",
    ":::"
   ]
  },
  {
   "cell_type": "code",
   "execution_count": null,
   "id": "3fec7c5e",
   "metadata": {},
   "outputs": [],
   "source": [
    "%%ai\n",
    "Explain brielfy the motivation of `noexcept` in the constructor:\n",
    "`vector() noexcept(noexcept(Allocator())) : vector(Allocator()) \\{\\}`"
   ]
  },
  {
   "cell_type": "markdown",
   "id": "34e06958",
   "metadata": {},
   "source": [
    "#### Fill Constructors"
   ]
  },
  {
   "cell_type": "markdown",
   "id": "218c9731",
   "metadata": {},
   "source": [
    ":::{code} cpp\n",
    ":linenos:\n",
    "explicit vector( size_type count, const Allocator& alloc = Allocator() );\n",
    "vector( size_type count, const T& value, const Allocator& alloc = Allocator() );\n",
    "::: \n",
    "fill a vector with `n` copies of `value`, if available, and `0` otherwise:"
   ]
  },
  {
   "cell_type": "code",
   "execution_count": null,
   "id": "b363b0d1",
   "metadata": {},
   "outputs": [],
   "source": [
    "%%cpp\n",
    "vector<size_t>(3, 4)           // vector constructed by the fill constructor"
   ]
  },
  {
   "cell_type": "code",
   "execution_count": null,
   "id": "f747662f",
   "metadata": {},
   "outputs": [],
   "source": [
    "%%cpp\n",
    "vector<size_t> u(2)      // direct initialization"
   ]
  },
  {
   "cell_type": "markdown",
   "id": "08db5d9b",
   "metadata": {},
   "source": [
    "::::{exercise} \n",
    ":label: ex:constructor2\n",
    "\n",
    "Why `vector<size_t> v=2;` does not create a vector `v` same as `u`?\n",
    "\n",
    "::::"
   ]
  },
  {
   "cell_type": "markdown",
   "id": "3a967fb3",
   "metadata": {
    "deletable": false,
    "nbgrader": {
     "cell_type": "markdown",
     "checksum": "caef38069dd392982ddbe67557509c6b",
     "grade": true,
     "grade_id": "constructor2",
     "locked": false,
     "points": 0,
     "schema_version": 3,
     "solution": true,
     "task": false
    }
   },
   "source": [
    "YOUR ANSWER HERE"
   ]
  },
  {
   "cell_type": "markdown",
   "id": "f8bb450f",
   "metadata": {},
   "source": [
    "#### Range Constructor"
   ]
  },
  {
   "cell_type": "markdown",
   "id": "32d7af35",
   "metadata": {},
   "source": [
    "```cpp\n",
    "template<class InputIt> vector(InputIt first, InputIt last, const Allocator& a = Allocator())\n",
    "```\n",
    "copies elements within a range from the position `first` up to but excluding `last`:"
   ]
  },
  {
   "cell_type": "code",
   "execution_count": null,
   "id": "1f62dfe7",
   "metadata": {},
   "outputs": [],
   "source": [
    "%%cpp\n",
    "vector<size_t> u {0, 1, 2, 3};\n",
    "vector<size_t>(u.cbegin(), u.cend()-1)   // vector constructed by coping elements of u except for the last"
   ]
  },
  {
   "cell_type": "code",
   "execution_count": null,
   "id": "44974c4e",
   "metadata": {},
   "outputs": [],
   "source": [
    "%%cpp\n",
    "vector<size_t> v(u.cbegin(), u.cend()-2) // direct initialization"
   ]
  },
  {
   "cell_type": "markdown",
   "id": "c2beb125",
   "metadata": {},
   "source": [
    "To show that the elements are copied:"
   ]
  },
  {
   "cell_type": "code",
   "execution_count": null,
   "id": "87e37d6d",
   "metadata": {},
   "outputs": [],
   "source": [
    "%%cpp\n",
    "L(u), L(v)"
   ]
  },
  {
   "cell_type": "code",
   "execution_count": null,
   "id": "84fa1f14",
   "metadata": {},
   "outputs": [],
   "source": [
    "%%cpp\n",
    "vector<size_t> u {0, 1, 2, 3};\n",
    "vector<size_t>(u.crbegin(), u.crend())  // vector constructed by coping elements of u in reverse"
   ]
  },
  {
   "cell_type": "markdown",
   "id": "c66287c5",
   "metadata": {},
   "source": [
    "## Iterator"
   ]
  },
  {
   "cell_type": "markdown",
   "id": "99773ba4",
   "metadata": {},
   "source": [
    "The position of an element in a container is specified using an [iterator](https://en.cppreference.com/w/cpp/iterator.html), which is a generalization of pointers to elements of an array."
   ]
  },
  {
   "cell_type": "markdown",
   "id": "053b317c",
   "metadata": {},
   "source": [
    "- [`u.cbegin()`](https://en.cppreference.com/w/cpp/container/vector/begin.html) is the position of the first element of `u`.\n",
    "- [`u.cend()`](https://en.cppreference.com/w/cpp/container/vector/end.html) gives the position of an imaginary element one past the last element of `u`.\n",
    "- [`u.crbegin()`](https://en.cppreference.com/w/cpp/container/vector/rbegin.html) gives the position of the last (first) element of (reversed) `u`.\n",
    "- [`u.crend()`](https://en.cppreference.com/w/cpp/container/vector/rend.html) gives the position of an imaginary element one before (past) the first (last) element of (reversed) `u`."
   ]
  },
  {
   "cell_type": "markdown",
   "id": "19ce3647",
   "metadata": {},
   "source": [
    "Similar to a pointer, `*` can be used to dereference the element stored at a position. Other elements can also be accessed by incrementing the iterator:"
   ]
  },
  {
   "cell_type": "code",
   "execution_count": null,
   "id": "a4eb5784",
   "metadata": {},
   "outputs": [],
   "source": [
    "%%cpp\n",
    "vector<size_t> u {0, 1, 2, 3};\n",
    "for (auto it=u.cbegin()+1; it!=u.cend()-1; it++) cout << *it << '\\n';"
   ]
  },
  {
   "cell_type": "code",
   "execution_count": null,
   "id": "34a24675",
   "metadata": {},
   "outputs": [],
   "source": [
    "%%cpp\n",
    "vector<size_t> u {0, 1, 2, 3};\n",
    "for (auto it=u.crbegin()+1; it!=u.crend()-1; it++) cout << *it << '\\n';"
   ]
  },
  {
   "cell_type": "markdown",
   "id": "a4fffec2",
   "metadata": {},
   "source": [
    "To modify the container, we need to use non-constant iterators returned by `begin`, `end`, `rbegin`, and `rend`:"
   ]
  },
  {
   "cell_type": "code",
   "execution_count": null,
   "id": "9d6fd214",
   "metadata": {},
   "outputs": [],
   "source": [
    "%%cpp\n",
    "vector<size_t> u {0, 1, 2, 3};\n",
    "for (auto it=u.begin()+1; it!=u.end(); it++)\n",
    "  *it=*it+*(it-1);\n",
    "for (auto ui: u) cout << ui << ' ';"
   ]
  },
  {
   "cell_type": "markdown",
   "id": "c612cd7c",
   "metadata": {},
   "source": [
    "There are also other methods for iterators:\n",
    "\n",
    "- For containers that do not occupy continuous memory such as `std::list`, we may to use [`std::advance`](https://en.cppreference.com/w/cpp/iterator/advance.html)`(u, i)` instead.\n",
    "  ```cpp\n",
    "  template< class InputIt, class Distance > void advance( InputIt& it, Distance n );\n",
    "  template< class InputIt, class Distance > constexpr void advance( InputIt&    it, Distance n );\n",
    "  ```\n",
    "- `pos - u.cbegin()` or [`distance`](https://en.cppreference.com/w/cpp/iterator/distance.html)`(u.cbegin(), pos)` calculates how far an iterator `pos` of `u` is from its first element.\n",
    "- `u.cend()-pos` or `distance(u.cend(), pos)` calculates how far an iterator `pos` of `u` is from the element one past the last element of `u`."
   ]
  },
  {
   "cell_type": "code",
   "execution_count": null,
   "id": "0abb1b72",
   "metadata": {},
   "outputs": [],
   "source": [
    "%%cpp\n",
    "vector<size_t> v {1, 2, 3, 4};\n",
    "auto it=v.cbegin();\n",
    "advance(it, 3);\n",
    "it=v.erase(it);\n",
    "advance(it, -2);\n",
    "it=v.erase(it);\n",
    "cout << format(\"Elements before and after {} removed.\\n\", *it);\n",
    "v"
   ]
  },
  {
   "cell_type": "code",
   "execution_count": null,
   "id": "7951e220",
   "metadata": {},
   "outputs": [],
   "source": [
    "%%cpp\n",
    "it-v.cbegin()"
   ]
  },
  {
   "cell_type": "code",
   "execution_count": null,
   "id": "bdca4df5",
   "metadata": {},
   "outputs": [],
   "source": [
    "%%cpp\n",
    "distance(v.cbegin(), it)"
   ]
  },
  {
   "cell_type": "code",
   "execution_count": null,
   "id": "c81cb9b9",
   "metadata": {},
   "outputs": [],
   "source": [
    "%%ai\n",
    "Explain in one line the difference between begin vs cbegin, and end vs cend for std::vector."
   ]
  },
  {
   "cell_type": "markdown",
   "id": "e5c7cdd3",
   "metadata": {},
   "source": [
    "## Vector Contraction"
   ]
  },
  {
   "cell_type": "markdown",
   "id": "d1859352",
   "metadata": {},
   "source": [
    "We can clear all elements of a vector using the [`clear`](https://en.cppreference.com/w/cpp/container/vector/clear.html) method:\n",
    "```cpp\n",
    "void clear();\n",
    "```"
   ]
  },
  {
   "cell_type": "code",
   "execution_count": null,
   "id": "b9ddbe9a",
   "metadata": {},
   "outputs": [],
   "source": [
    "%%cpp\n",
    "vector<size_t> v {1, 2, 3};\n",
    "v.clear();\n",
    "v"
   ]
  },
  {
   "cell_type": "markdown",
   "id": "9169aee2",
   "metadata": {},
   "source": [
    "To erase only some of the elements, use the [`erase`](https://en.cppreference.com/w/cpp/container/vector/erase.html) method:\n",
    "\n",
    "::::{code} cpp\n",
    ":linenos:\n",
    "iterator erase( const_iterator pos );\n",
    "iterator erase( const_iterator first, const_iterator last );\n",
    "::::\n",
    "\n",
    "which returns an iterator pointing to the element that follows the last removed element, or `end()` if the last element was erased."
   ]
  },
  {
   "cell_type": "code",
   "execution_count": null,
   "id": "02128836",
   "metadata": {},
   "outputs": [],
   "source": [
    "%%cpp\n",
    "vector<size_t> v {1, 2, 3};\n",
    "auto it=v.erase(v.cbegin()+1);\n",
    "cout << format(\"Element before {} was removed.\\n\", *it);\n",
    "v"
   ]
  },
  {
   "cell_type": "markdown",
   "id": "ac1cf2eb",
   "metadata": {},
   "source": [
    "We can also erase a range of elements by specifying the `first` and `last` (exclusive) positions:"
   ]
  },
  {
   "cell_type": "code",
   "execution_count": null,
   "id": "f1bae72d",
   "metadata": {},
   "outputs": [],
   "source": [
    "%%cpp\n",
    "vector<size_t> v {1, 2, 3};\n",
    "v.erase(v.cbegin()+1, v.cend());\n",
    "v"
   ]
  },
  {
   "cell_type": "markdown",
   "id": "542ba75c",
   "metadata": {},
   "source": [
    "## Vector Expansion"
   ]
  },
  {
   "cell_type": "markdown",
   "id": "2e8713f2",
   "metadata": {},
   "source": [
    "### Insert at the Back"
   ]
  },
  {
   "cell_type": "markdown",
   "id": "76857b10",
   "metadata": {},
   "source": [
    "There are various ways to append an element to a `std::vector`."
   ]
  },
  {
   "cell_type": "markdown",
   "id": "39a9cf88",
   "metadata": {},
   "source": [
    "One way is to use [`push_back()`](https://en.cppreference.com/w/cpp/container/vector/push_back), which have two overloads:\n",
    "\n",
    "::::{code} cpp\n",
    ":linenos:\n",
    "void push_back( const T& value );\n",
    "void push_back( T&& value );\n",
    "::::"
   ]
  },
  {
   "cell_type": "code",
   "execution_count": null,
   "id": "e3f43655",
   "metadata": {},
   "outputs": [],
   "source": [
    "%%cpp\n",
    "vector<vector<size_t> > u;\n",
    "vector<size_t> v {0,1,2};\n",
    "u.push_back(v);\n",
    "u"
   ]
  },
  {
   "cell_type": "markdown",
   "id": "5a267829",
   "metadata": {},
   "source": [
    "The above invokes the first overload since the rvalue reference in the second overload cannot bind to the lvalue `v`."
   ]
  },
  {
   "cell_type": "markdown",
   "id": "58676d00",
   "metadata": {},
   "source": [
    "::::{exercise}\n",
    ":label: ex:push_back1\n",
    "\n",
    "Is `v` copied or moved to `u`?\n",
    "\n",
    "::::"
   ]
  },
  {
   "cell_type": "markdown",
   "id": "65ad6254",
   "metadata": {
    "deletable": false,
    "nbgrader": {
     "cell_type": "markdown",
     "checksum": "682155b526fd57e70e3ab400ad3bdf88",
     "grade": true,
     "grade_id": "push_back1",
     "locked": false,
     "points": 0,
     "schema_version": 3,
     "solution": true,
     "task": false
    }
   },
   "source": [
    "YOUR ANSWER HERE"
   ]
  },
  {
   "cell_type": "markdown",
   "id": "52e21c57",
   "metadata": {},
   "source": [
    "Observe that `v` and `u[0]` start at different locations:"
   ]
  },
  {
   "cell_type": "code",
   "execution_count": null,
   "id": "0735f1a7",
   "metadata": {},
   "outputs": [],
   "source": [
    "%%cpp\n",
    "LB(v), LB(u[0])"
   ]
  },
  {
   "cell_type": "markdown",
   "id": "749f5bef",
   "metadata": {},
   "source": [
    "Modifying `v` does not affect `u`:"
   ]
  },
  {
   "cell_type": "code",
   "execution_count": null,
   "id": "faaffbf2",
   "metadata": {},
   "outputs": [],
   "source": [
    "%%cpp\n",
    "v[0]=2;\n",
    "u"
   ]
  },
  {
   "cell_type": "markdown",
   "id": "c1143794",
   "metadata": {},
   "source": [
    "`v` can be added to `u` again:"
   ]
  },
  {
   "cell_type": "code",
   "execution_count": null,
   "id": "f76fe7cb",
   "metadata": {},
   "outputs": [],
   "source": [
    "%%cpp\n",
    "u.push_back(v);\n",
    "u"
   ]
  },
  {
   "cell_type": "markdown",
   "id": "06261c55",
   "metadata": {},
   "source": [
    "As a comparison, the following invokes the second overload by casting `v` as an rvalue using `std::move`:"
   ]
  },
  {
   "cell_type": "code",
   "execution_count": null,
   "id": "2d885e5d",
   "metadata": {},
   "outputs": [],
   "source": [
    "%%cpp\n",
    "vector<vector<size_t> > u;\n",
    "vector<size_t> v {0,1,2};\n",
    "u.push_back(std::move(v));\n",
    "u.push_back(v);\n",
    "u"
   ]
  },
  {
   "cell_type": "markdown",
   "id": "bdce9422",
   "metadata": {},
   "source": [
    "Note that `v` is cleared after the move. To show that the elements are moved:"
   ]
  },
  {
   "cell_type": "code",
   "execution_count": null,
   "id": "159ecb16",
   "metadata": {},
   "outputs": [],
   "source": [
    "%%cpp\n",
    "vector<vector<size_t> > u;\n",
    "vector<size_t> v {0,1,2};\n",
    "L(v);\n",
    "u.push_back(std::move(LB(v)));\n",
    "LB(u[0]), L(u), L(v)"
   ]
  },
  {
   "cell_type": "markdown",
   "id": "e41218e7",
   "metadata": {},
   "source": [
    "Even though `v` and `u[0]` have different locations, their elements begin at the same location. In essense, the [move constructor](#move-constructor) is invoked to move the elements from `v` to a new vector in `u`."
   ]
  },
  {
   "cell_type": "markdown",
   "id": "ce500566",
   "metadata": {},
   "source": [
    "We can also add an rvalue directly without creating an extra variable:"
   ]
  },
  {
   "cell_type": "code",
   "execution_count": null,
   "id": "ae18337b",
   "metadata": {},
   "outputs": [],
   "source": [
    "%%cpp\n",
    "vector<vector<size_t> > u;\n",
    "u.push_back(vector<size_t>{0,1,2});\n",
    "u"
   ]
  },
  {
   "cell_type": "markdown",
   "id": "6a573a57",
   "metadata": {},
   "source": [
    "This can be further simplified:"
   ]
  },
  {
   "cell_type": "code",
   "execution_count": null,
   "id": "1865a207",
   "metadata": {},
   "outputs": [],
   "source": [
    "%%cpp\n",
    "vector<vector<size_t> > u;\n",
    "u.push_back({0,1,2});\n",
    "u"
   ]
  },
  {
   "cell_type": "markdown",
   "id": "896394e4",
   "metadata": {},
   "source": [
    "::::{exercise}\n",
    ":label: ex:push_back2\n",
    "\n",
    "Explain how different constructors are invoked in the above call to `push_back`.\n",
    "\n",
    "::::"
   ]
  },
  {
   "cell_type": "markdown",
   "id": "dc688470",
   "metadata": {
    "deletable": false,
    "nbgrader": {
     "cell_type": "markdown",
     "checksum": "b348cbe25e36d66abd0bdde9146eeb4e",
     "grade": true,
     "grade_id": "push_back2",
     "locked": false,
     "points": 0,
     "schema_version": 3,
     "solution": true,
     "task": false
    }
   },
   "source": [
    "YOUR ANSWER HERE"
   ]
  },
  {
   "cell_type": "markdown",
   "id": "a2290b80",
   "metadata": {},
   "source": [
    "Indeed, we can further simplify the code as follows:"
   ]
  },
  {
   "cell_type": "code",
   "execution_count": null,
   "id": "7034a623",
   "metadata": {},
   "outputs": [],
   "source": [
    "%%cpp\n",
    "vector<vector<size_t> > u;\n",
    "u.emplace_back((initializer_list<size_t>){0,1,2});\n",
    "u"
   ]
  },
  {
   "cell_type": "markdown",
   "id": "a92275e9",
   "metadata": {},
   "source": [
    "::::{caution}\n",
    "\n",
    "Both `u.emplace_back({0,1,2})` and `u.emplace_back(reinterpret_cast<std::initializer_list<size_t> >({0,1,2}))` fail. See [this post](https://stackoverflow.com/questions/24550924/emplacement-of-a-vector-with-initializer-list) for details.\n",
    "\n",
    "::::"
   ]
  },
  {
   "cell_type": "markdown",
   "id": "c15ed00a",
   "metadata": {},
   "source": [
    "The constructed vector returned is exactly the vector added to the back:"
   ]
  },
  {
   "cell_type": "code",
   "execution_count": null,
   "id": "7e89acc9",
   "metadata": {},
   "outputs": [],
   "source": [
    "%%cpp\n",
    "vector<vector<size_t> > u;\n",
    "L(u.emplace_back((initializer_list<size_t>){0,1,2})), L(u[0])"
   ]
  },
  {
   "cell_type": "markdown",
   "id": "01646c2d",
   "metadata": {},
   "source": [
    "Unlike `push_back`, [`emplace_back()`](https://en.cppreference.com/w/cpp/container/vector/emplace_back) constructs the vector [in-place](https://en.wikipedia.org/wiki/In-place_algorithm), i.e., the constructed vector is at the same location as the added vector:"
   ]
  },
  {
   "cell_type": "markdown",
   "id": "98152fa9",
   "metadata": {},
   "source": [
    "```cpp\n",
    "template< class... Args > reference emplace_back( Args&&... args );\n",
    "```"
   ]
  },
  {
   "cell_type": "markdown",
   "id": "b6b91525",
   "metadata": {},
   "source": [
    "`...` is a packing operator that declares a [pack](https://en.cppreference.com/w/cpp/language/parameter_pack.html) of parameters. This allows a variable number of arguments to be forwarded from `emplace_back` to the different overloads of the constructors for vector:"
   ]
  },
  {
   "cell_type": "code",
   "execution_count": null,
   "id": "a2ace6b7",
   "metadata": {},
   "outputs": [],
   "source": [
    "%%cpp\n",
    "vector<vector<size_t> > u;\n",
    "u.emplace_back();          // forward to the default constructor\n",
    "u"
   ]
  },
  {
   "cell_type": "code",
   "execution_count": null,
   "id": "a667d586",
   "metadata": {},
   "outputs": [],
   "source": [
    "%%cpp\n",
    "vector<vector<size_t> > u;\n",
    "u.emplace_back(2);         // forward to the fill constructor\n",
    "u.emplace_back(3,4);\n",
    "u"
   ]
  },
  {
   "cell_type": "markdown",
   "id": "0f1ca40d",
   "metadata": {},
   "source": [
    "In comparison, Python uses `*` as the packing operator such as `*args` in `print`:"
   ]
  },
  {
   "cell_type": "code",
   "execution_count": null,
   "id": "952d17b1",
   "metadata": {},
   "outputs": [],
   "source": [
    "print?"
   ]
  },
  {
   "cell_type": "markdown",
   "id": "a6f67fa5",
   "metadata": {},
   "source": [
    "::::{exercise}\n",
    ":label: ex:extend\n",
    "\n",
    "Complete the second overload of the function `splice` to extend `u` with by copying elements from `v` to the end of `u`. If `v` is an rvalue, the elements should be moved instead, after which `v` should become emtpy.\n",
    "\n",
    "::::"
   ]
  },
  {
   "cell_type": "code",
   "execution_count": null,
   "id": "4ba3d226",
   "metadata": {},
   "outputs": [],
   "source": [
    "%%cpp\n",
    "template <class T>\n",
    "void splice(vector<T> &u, const vector<T> &v) {\n",
    "    for (auto vi : v) u.push_back(vi);\n",
    "}"
   ]
  },
  {
   "cell_type": "code",
   "execution_count": null,
   "id": "a8268db7",
   "metadata": {
    "deletable": false,
    "nbgrader": {
     "cell_type": "code",
     "checksum": "e8ff47d5326c49df84bd301bda9a6e9f",
     "grade": false,
     "grade_id": "extend2",
     "locked": false,
     "schema_version": 3,
     "solution": true,
     "task": false
    }
   },
   "outputs": [],
   "source": [
    "%%cpp\n",
    "template <class T>\n",
    "void splice(vector<T> &u, vector<T> &&v) {\n",
    "    /*\n",
    "    # REPLACE THE ENTIRE COMMENT WITH YOUR CODE #\n",
    "    */\n",
    "}"
   ]
  },
  {
   "cell_type": "code",
   "execution_count": null,
   "id": "97e44755",
   "metadata": {
    "deletable": false,
    "editable": false,
    "nbgrader": {
     "cell_type": "code",
     "checksum": "2d69f054c236935526a59ede49c2d7c8",
     "grade": true,
     "grade_id": "test_extend",
     "locked": true,
     "points": 0,
     "schema_version": 3,
     "solution": false,
     "task": false
    }
   },
   "outputs": [],
   "source": [
    "%%cpp\n",
    "// test\n",
    "vector<vector<size_t> > u {{1,2,3}};\n",
    "vector<vector<size_t> > v {{4,5,6}};\n",
    "splice(u, std::move(v));\n",
    "splice(u, v);\n",
    "splice(u, u);\n",
    "u // ... { { 1, 2, 3 }, { 4, 5, 6 }, { 1, 2, 3 }, {} }"
   ]
  },
  {
   "cell_type": "markdown",
   "id": "56260bf0",
   "metadata": {},
   "source": [
    "### Insertion"
   ]
  },
  {
   "cell_type": "markdown",
   "id": "0ab80f17",
   "metadata": {},
   "source": [
    "Elements can be inserted at different positions in a vector using the [`std::insert`](https://en.cppreference.com/w/cpp/container/vector/insert.html) method:"
   ]
  },
  {
   "cell_type": "markdown",
   "id": "bfe52a9c",
   "metadata": {},
   "source": [
    "::::{code} cpp\n",
    ":linenos:\n",
    "iterator insert( const_iterator pos, const T& value );\n",
    "iterator insert( const_iterator pos, T&& value );\n",
    "iterator insert( const_iterator pos, size_type count, const T& value );\n",
    "template< class InputIt > iterator insert( const_iterator pos, InputIt first, InputIt last );\n",
    "iterator insert( const_iterator pos, std::initializer_list<T> ilist );\n",
    "::::"
   ]
  },
  {
   "cell_type": "code",
   "execution_count": null,
   "id": "67142721",
   "metadata": {},
   "outputs": [],
   "source": [
    "%%cpp\n",
    "vector<size_t> u {0,2,3};\n",
    "auto it=u.insert(u.cbegin()+1, 1);\n",
    "u"
   ]
  },
  {
   "cell_type": "markdown",
   "id": "2b0834e3",
   "metadata": {},
   "source": [
    "After the insertion, the position/iterator of the inserted element is also returned."
   ]
  },
  {
   "cell_type": "code",
   "execution_count": null,
   "id": "f9e2a04a",
   "metadata": {},
   "outputs": [],
   "source": [
    "%%cpp\n",
    "cout << *it << \" inserted.\\n\";\n",
    "it"
   ]
  },
  {
   "cell_type": "markdown",
   "id": "02b0145b",
   "metadata": {},
   "source": [
    "Note that insertion takes linear time even the element is inserted at the back:"
   ]
  },
  {
   "cell_type": "code",
   "execution_count": null,
   "id": "137ba475",
   "metadata": {},
   "outputs": [],
   "source": [
    "%%cpp\n",
    "vector<size_t> u {0,2,3};\n",
    "L(u[0]), L(u[1]), L(u[2]);\n",
    "cout << *u.insert(u.cbegin()+1, 1) << \" inserted.\\n\";\n",
    "L(u[0]), L(u[1]), L(u[2]), L(u[3]);\n",
    "u"
   ]
  },
  {
   "cell_type": "markdown",
   "id": "ad4c786e",
   "metadata": {},
   "source": [
    "Observe that the locations of the elements are changed after insertion. In comparison, `push_back` normally does not change the locations of the existing elements:"
   ]
  },
  {
   "cell_type": "code",
   "execution_count": null,
   "id": "719049dd",
   "metadata": {},
   "outputs": [],
   "source": [
    "%%cpp\n",
    "u.push_back(4);\n",
    "L(u[0]), L(u[1]), L(u[2]), L(u[3]), L(u[4]);"
   ]
  },
  {
   "cell_type": "markdown",
   "id": "d3223268",
   "metadata": {},
   "source": [
    "`push_back` has an amortized constant time complexity because existing elements need to be moved only when there is no more free memory at the back of the vector."
   ]
  },
  {
   "cell_type": "markdown",
   "id": "064ab076",
   "metadata": {},
   "source": [
    "The following behaves like the [fill constructors](#fill-constructors) that fill the vector with multiple copies of the same value:"
   ]
  },
  {
   "cell_type": "code",
   "execution_count": null,
   "id": "507fc9b8",
   "metadata": {},
   "outputs": [],
   "source": [
    "%%cpp\n",
    "vector<size_t> u {1,2,3};\n",
    "cout << format(\"Three {}'s added at the beginning.\\n\", *u.insert(u.cbegin(), 3, 0));\n",
    "u"
   ]
  },
  {
   "cell_type": "markdown",
   "id": "965310ae",
   "metadata": {},
   "source": [
    "The following behaves like the [initializer-list constructor](#initializer-list-constructor):"
   ]
  },
  {
   "cell_type": "code",
   "execution_count": null,
   "id": "416498d1",
   "metadata": {},
   "outputs": [],
   "source": [
    "%%cpp\n",
    "vector<size_t> u {1,2,3};\n",
    "for (auto it=u.insert(u.cend(), {4,5,6}); it!=u.cend(); it++)\n",
    "    cout << format(\"{} added.\\n\", *it);\n",
    "u"
   ]
  },
  {
   "cell_type": "markdown",
   "id": "87cb81b7",
   "metadata": {},
   "source": [
    "We can also insert a sublist from another list:"
   ]
  },
  {
   "cell_type": "code",
   "execution_count": null,
   "id": "33a94d4a",
   "metadata": {},
   "outputs": [],
   "source": [
    "%%cpp\n",
    "vector<size_t> u {1,2,3};\n",
    "vector<double> v {4.1,5.2,6.3};\n",
    "auto it=u.insert(u.cend(), v.cbegin(), v.cend()-1);\n",
    "u"
   ]
  },
  {
   "cell_type": "markdown",
   "id": "3d642b96",
   "metadata": {},
   "source": [
    "Note that elements are copied but not moved except when passed by rvalue reference:\n",
    "```cpp\n",
    "iterator insert( const_iterator pos, T&& value );\n",
    "```"
   ]
  },
  {
   "cell_type": "code",
   "execution_count": null,
   "id": "9fa5e86d",
   "metadata": {},
   "outputs": [],
   "source": [
    "%%cpp\n",
    "vector<vector<size_t> > u {{1,2,3}};\n",
    "vector<size_t> v {4,5,6};\n",
    "u.insert(u.cbegin(), std::move(LB(v)));\n",
    "LB(u[0]);\n",
    "u.insert(u.cbegin(), v);\n",
    "u"
   ]
  },
  {
   "cell_type": "markdown",
   "id": "927278f7",
   "metadata": {},
   "source": [
    "::::{exercise}\n",
    ":label: ex:extend_pos\n",
    "\n",
    "Complete the function `splice` to extend `u` by inserting elements from `v` at the position `pos` in `u`.  \n",
    "- If `v` is an lvalue (`const vector<T>&`), the elements should be copied.  \n",
    "- If `v` is an rvalue (`vector<T>&&`), the elements should be moved, and `v` should become empty afterward.  \n",
    " \n",
    "The function should return an iterator pointing to the first inserted element in `u`. If no elements are inserted (i.e., `v` is empty), return `pos`.\n",
    "\n",
    "::::"
   ]
  },
  {
   "cell_type": "code",
   "execution_count": null,
   "id": "7d6031a3",
   "metadata": {
    "deletable": false,
    "nbgrader": {
     "cell_type": "code",
     "checksum": "ba516c2b467702f41ec376a7255af896",
     "grade": false,
     "grade_id": "extend_pos1",
     "locked": false,
     "schema_version": 3,
     "solution": true,
     "task": false
    }
   },
   "outputs": [],
   "source": [
    "%%cpp\n",
    "template <class T>\n",
    "typename vector<T>::iterator splice(vector<T> &u, typename vector<T>::const_iterator pos, const vector<T> &v) {\n",
    "    /*\n",
    "    # REPLACE THE ENTIRE COMMENT WITH YOUR CODE #\n",
    "    */\n",
    "}"
   ]
  },
  {
   "cell_type": "code",
   "execution_count": null,
   "id": "9bf3707e",
   "metadata": {},
   "outputs": [],
   "source": [
    "%%cpp\n",
    "template <class T>\n",
    "typename vector<T>::iterator splice(vector<T> &u, typename vector<T>::const_iterator pos, vector<T> &&v) {\n",
    "    auto i = pos-u.cbegin();\n",
    "    for (auto& vi : v) u.insert(pos++, std::move(vi));\n",
    "    v.clear();\n",
    "    return u.begin() + i;\n",
    "}"
   ]
  },
  {
   "cell_type": "code",
   "execution_count": null,
   "id": "a8e6d9c8",
   "metadata": {
    "deletable": false,
    "editable": false,
    "nbgrader": {
     "cell_type": "code",
     "checksum": "f0362c8bff2a8a67bfaeba3e8c25df5e",
     "grade": true,
     "grade_id": "test_extend_pos",
     "locked": true,
     "points": 0,
     "schema_version": 3,
     "solution": false,
     "task": false
    }
   },
   "outputs": [],
   "source": [
    "%%cpp\n",
    "// test\n",
    "vector<vector<size_t> > u {{1,2,3}};\n",
    "vector<vector<size_t> > v {{4,5,6}};\n",
    "auto it=splice(u, u.cbegin()+1, std::move(v));\n",
    "it=splice(u, it-1, v);\n",
    "it=splice(u, it, u);\n",
    "u // ... { { 1, 2, 3 }, { 4, 5, 6 }, { 1, 2, 3 }, { 4, 5, 6 } }"
   ]
  },
  {
   "cell_type": "code",
   "execution_count": null,
   "id": "0e292a7c",
   "metadata": {},
   "outputs": [],
   "source": [
    "%%ai\n",
    "Explain briefly why typename is used in:\n",
    "--\n",
    "void splice(vector<T> &u, typename vector<T>::const_iterator pos, const vector<T> &v);"
   ]
  },
  {
   "cell_type": "markdown",
   "id": "dac4701c",
   "metadata": {},
   "source": [
    "## Linked List"
   ]
  },
  {
   "cell_type": "markdown",
   "id": "b4dd309e",
   "metadata": {},
   "source": [
    "The `splice` function in [](#ex:extend) and [](#ex:extend_pos) takes linear time as it inserts the elements of `v` to `u` one-by-one."
   ]
  },
  {
   "cell_type": "markdown",
   "id": "8236d197",
   "metadata": {},
   "source": [
    "**Can we concatenate two vectors more efficiently?**"
   ]
  },
  {
   "cell_type": "markdown",
   "id": "ccb89b3e",
   "metadata": {},
   "source": [
    "One idea is to link the end of one vector to the beginning of another. However, this isn't possible because `std::vector` stores its elements in a single, contiguous block of memory. This design enables constant-time access via indexing, i.e., `v[i]` is equivalent to `*(v + i)`, but it also means vectors cannot be physically joined without copying or reallocating their contents."
   ]
  },
  {
   "cell_type": "markdown",
   "id": "4de57567",
   "metadata": {},
   "source": [
    "[](#code_combination2) uses another container [`std::list`](https://en.cppreference.com/w/cpp/container/list.html), which implements a [doubly linked list](https://en.wikipedia.org/wiki/Doubly_linked_list) data structure. Unlike `std::vector`, itt takes constant time to [`insert`](https://en.cppreference.com/w/cpp/container/list/insert.html#Complexity) or [`erase`](https://en.cppreference.com/w/cpp/container/list/erase.html#Complexity) a single element anywhere in the `std::list`. Furthermore, using the [`splice`](https://en.cppreference.com/w/cpp/container/list/splice.html) method from `std::list`, two lists can be concatenated efficiently in [constant time](https://en.cppreference.com/w/cpp/container/list/splice.html#Complexity) by modifying the end of one list to link to the beginning of another list:\n",
    "\n",
    "::::{code} cpp\n",
    ":linenos:\n",
    "void splice( const_iterator pos, list& other );\n",
    "void splice( const_iterator pos, list&& other );\n",
    "void splice( const_iterator pos, list& other, const_iterator it );\n",
    "void splice( const_iterator pos, list&& other, const_iterator it );\n",
    "void splice( const_iterator pos, list& other, const_iterator first, const_iterator last );\n",
    "void splice( const_iterator pos, list&& other, const_iterator first, const_iterator last );\n",
    "::::"
   ]
  },
  {
   "cell_type": "code",
   "execution_count": null,
   "id": "7473f02b",
   "metadata": {},
   "outputs": [],
   "source": [
    "%%cpp\n",
    "list<int> a{1,2,3}, b{4,5,6,7};\n",
    "a.splice(a.cend(), b);\n",
    "a"
   ]
  },
  {
   "cell_type": "markdown",
   "id": "bf2fe3d7",
   "metadata": {},
   "source": [
    "All elements of `b` are now moved (*not copied*) to `a`:"
   ]
  },
  {
   "cell_type": "code",
   "execution_count": null,
   "id": "68a7de1a",
   "metadata": {},
   "outputs": [],
   "source": [
    "%%cpp\n",
    "b"
   ]
  },
  {
   "cell_type": "markdown",
   "id": "fc315499",
   "metadata": {},
   "source": [
    "However, these come at the cost of linear time lookup."
   ]
  },
  {
   "cell_type": "code",
   "execution_count": null,
   "id": "a58bf6a1",
   "metadata": {},
   "outputs": [],
   "source": [
    "%%cpp\n",
    "list<int> a{1,2,3,4,5,6,7};\n",
    "// a[5];            // fails: type 'list' does not provide a subscript operator\n",
    "auto it=a.cbegin();\n",
    "// a.cbegin() + 5;  // fails: invalid operands to binary expression\n",
    "for (auto i=5; i>0; i--) it++;  // `advance(it, 5)`\n",
    "*it"
   ]
  },
  {
   "cell_type": "markdown",
   "id": "2f0e73eb",
   "metadata": {},
   "source": [
    "As another example, consider the problem of enumerating the permutations in combinatorics:"
   ]
  },
  {
   "cell_type": "markdown",
   "id": "fb8922b8",
   "metadata": {},
   "source": [
    "::::{prf:definition}\n",
    "\n",
    "Given a collection of $n\\geq 0$ items $a_0,\\dots,a_{n-1}$ and an integer $k\\geq 0$, a [$k$-permutation of the $n$](https://en.wikipedia.org/wiki/Permutation#k-permutations_of_n) items is an ordered sequence \n",
    "\n",
    "$$\n",
    "(a_{i_0},\\dots,a_{i_{k-1}})\n",
    "$$ \n",
    "of $k$ out of the $n$ objects for some choice of distinct indices $0\\leq i_0,\\dots,i_{k-1}<n$. An $n$-permutation of $n$ objects is called a permutation of $n$ objects.\n",
    "\n",
    "::::"
   ]
  },
  {
   "cell_type": "markdown",
   "id": "1413df4e",
   "metadata": {},
   "source": [
    "A simple way to generate permutations is by the following recurrence relation."
   ]
  },
  {
   "cell_type": "markdown",
   "id": "e658cb4e",
   "metadata": {},
   "source": [
    "::::{prf:proposition}\n",
    "\n",
    "A $k$-permutation of $n$ satisfies the recurrence relation for $1\\leq k \\leq n$:  \n",
    "- Removing the first element of a $k$-permutation of $n$ objects gives a different $(k-1)$-permutation of the remaining $n-1$ objects.\n",
    "\n",
    "$$ (a_{i_0}, \\underbrace{a_{i_1},\\dots,a_{i_{k-1}}}_{\\text{\\scriptsize $(k-1)$-permutation of $a_{i_1},\\dots,a_{i_{k-1}}$.}\\kern-5em} ) $$\n",
    "\n",
    "- Reversing the above removal process gives a way of constructing a $k$-permutation from a $(k-1)$-permutation.  \n",
    "  E.g., the permutations of $1,2,3$ can be constructed as follows:\n",
    "\n",
    "$$[\\overbrace{({\\color{red} 1}, {\\color{blue}{2, 3}}), ({\\color{red} 1}, {\\color{blue}{3, 2}})}^{\\text{\\scriptsize prepend 1 to permutations of $2,3$.} }, \\overbrace{({\\color{red} 2}, {\\color{blue}{1, 3}}), ({\\color{red} 2}, {\\color{blue}{3, 1}})}^{\\text{\\scriptsize prepend 2 to permutations of $1,3$.} }, \\overbrace{({\\color{red} 3}, {\\color{blue}{1, 2}}), ({\\color{red} 3}, {\\color{blue}{2, 1}})}^{\\text{\\scriptsize prepend 3 to permutations of $1,2$.} }]$$\n",
    "\n",
    "::::"
   ]
  },
  {
   "cell_type": "markdown",
   "id": "f7eb8b77",
   "metadata": {},
   "source": [
    "We can represent each permutation as a vector. The following implements the recursion:"
   ]
  },
  {
   "cell_type": "code",
   "execution_count": null,
   "id": "d07df749",
   "metadata": {},
   "outputs": [],
   "source": [
    "%%cpp\n",
    "void permutation_helper(const vector<size_t> &items, int k, \n",
    "                        vector<size_t> &current, \n",
    "                        vector<vector<size_t> > &result) {\n",
    "    if (k == 0) result.push_back(current);\n",
    "    else\n",
    "        for (size_t i = 0; i < items.size(); ++i) {\n",
    "            vector<size_t> remaining = items;\n",
    "            remaining.erase(remaining.cbegin() + i);\n",
    "            current.push_back(items[i]);\n",
    "            permutation_helper(remaining, k - 1, current, result);\n",
    "            current.pop_back();\n",
    "        }\n",
    "}"
   ]
  },
  {
   "cell_type": "markdown",
   "id": "2f0d2b99",
   "metadata": {},
   "source": [
    "In the above function:\n",
    "\n",
    "- `current` keeps track of the beginning of the permutations to be built.\n",
    "- `k` is the number of elements that need to be appended to `current` to complete each desired permutation.\n",
    "- `items` is the remaining elements to choose from.\n",
    "- `result` is a vector to store all completed permutations."
   ]
  },
  {
   "cell_type": "markdown",
   "id": "20512d54",
   "metadata": {},
   "source": [
    "::::{note} Isn't it more efficient to use `std::list` instead of `std::vector` for `result`?\n",
    ":class: dropdown\n",
    "\n",
    "No, because `result` is generated by appending `current`, which can be done in amortized constant time for `std::vector`.\n",
    "\n",
    "::::"
   ]
  },
  {
   "cell_type": "markdown",
   "id": "7de9c898",
   "metadata": {},
   "source": [
    "The desired function that computes and returns the permutations can be a thin wrapper of the helper function:"
   ]
  },
  {
   "cell_type": "code",
   "execution_count": null,
   "id": "7237a420",
   "metadata": {},
   "outputs": [],
   "source": [
    "%%cpp\n",
    "std::vector<vector<size_t> > permutation(const vector<size_t> & items, int k) {\n",
    "    vector<vector<size_t> > result;\n",
    "    vector<size_t>  current;\n",
    "\n",
    "    if (k >= 0 && k <= items.size()) {\n",
    "        permutation_helper(items, k, current, result);\n",
    "    }\n",
    "    return result;\n",
    "}\n",
    "\n",
    "permutation(vector<size_t> {1,2,3}, 2)"
   ]
  },
  {
   "cell_type": "markdown",
   "id": "993edfe8",
   "metadata": {},
   "source": [
    "::::{note} Why not check the range of $k$ in the helper function instead?\n",
    ":class: dropdown\n",
    "\n",
    "This is because the check only needs to be done once. If it were placed inside the helper function, the check would be executed repeatedly in every recursive call.\n",
    "\n",
    "::::"
   ]
  },
  {
   "cell_type": "markdown",
   "id": "6f4e3240",
   "metadata": {},
   "source": [
    "To make $k$ an optional argument that defaults to $n$:"
   ]
  },
  {
   "cell_type": "code",
   "execution_count": null,
   "id": "308e7403",
   "metadata": {},
   "outputs": [],
   "source": [
    "%%cpp\n",
    "std::vector<vector<size_t> > permutation(const vector<size_t> &items) {\n",
    "    return permutation(items, items.size());  // default to full length\n",
    "}\n",
    "\n",
    "permutation(vector<size_t> {1,2,3})"
   ]
  },
  {
   "cell_type": "markdown",
   "id": "c65dc88e",
   "metadata": {},
   "source": [
    "::::{note} Why is it better to overload the function than to give a default argument to `k`?\n",
    ":class: dropdown\n",
    "\n",
    "The default argument `items.size()` is not allowed since it is not a constant. Setting `k` to a value outside the valid range, say `-1`, is not ideal either because calling the function with `k=-1` will no longer be regarded an invalid.\n",
    "\n",
    "::::"
   ]
  },
  {
   "cell_type": "markdown",
   "id": "3e56720a",
   "metadata": {},
   "source": [
    "There is an inefficiency in the above program: Erasing an element from a vector is linear time, but removing an element from a list is constant time."
   ]
  },
  {
   "cell_type": "code",
   "execution_count": null,
   "id": "56085f88",
   "metadata": {},
   "outputs": [],
   "source": [
    "%%ai\n",
    "Explain briefly why `remaining.erase(it);` is more efficient if `remaining`\n",
    "is a `std::list` instead of `std::vector`."
   ]
  },
  {
   "cell_type": "markdown",
   "id": "868281f1",
   "metadata": {},
   "source": [
    "The following implementation of permutation operates directly on a list. No helper function is needed, since list merging and element removal are efficient."
   ]
  },
  {
   "cell_type": "code",
   "execution_count": null,
   "id": "913bdf2a",
   "metadata": {},
   "outputs": [],
   "source": [
    "%%cpp\n",
    "std::list<list<size_t> > permutation(const list<size_t> &items, int k) {\n",
    "    list<list<size_t> > output;\n",
    "    if (k == 0) {\n",
    "        output.push_back(list<size_t> {});\n",
    "    } else {\n",
    "        list<size_t>  remaining = items;\n",
    "        for (auto it = remaining.cbegin(); it != remaining.cend(); ++it) {\n",
    "            auto i = *it;\n",
    "            it=remaining.erase(it);\n",
    "            list<list<size_t> > perm_seq = permutation(remaining, k - 1);\n",
    "            it=remaining.insert(it, i);\n",
    "            for (auto& perm : perm_seq) {\n",
    "                perm.push_front(i);\n",
    "            }\n",
    "            output.splice(output.cend(), perm_seq);\n",
    "        }\n",
    "    }\n",
    "    return output;\n",
    "}\n",
    "\n",
    "permutation(list<size_t> {1,2,3}, 2)"
   ]
  },
  {
   "cell_type": "code",
   "execution_count": null,
   "id": "de26e5c0",
   "metadata": {},
   "outputs": [],
   "source": [
    "%%cpp\n",
    "std::list<list<size_t> > permutation(const list<size_t> &items) {\n",
    "    return permutation(items, items.size());  // default to full length\n",
    "}\n",
    "\n",
    "permutation(list<size_t> {1,2,3})"
   ]
  },
  {
   "cell_type": "markdown",
   "id": "21d64a6e",
   "metadata": {},
   "source": [
    "## String"
   ]
  },
  {
   "cell_type": "markdown",
   "id": "1ee2bfa9",
   "metadata": {},
   "source": [
    "### Matrix of Stars"
   ]
  },
  {
   "cell_type": "markdown",
   "id": "1bbc3742",
   "metadata": {},
   "source": [
    "Consider the following function `matrix_of_stars` to create a C-string of `m` rows and `n` columns of `'*'`:"
   ]
  },
  {
   "cell_type": "code",
   "execution_count": null,
   "id": "e5f0f54a",
   "metadata": {},
   "outputs": [],
   "source": [
    "%%cpp\n",
    "void matrix_of_stars(unsigned m, unsigned n, char s[]) {\n",
    "    if (n) {\n",
    "        for (auto i=0u; i<m; i++) {\n",
    "            for (auto j=0u; j<n; j++) s[i*(n+1)+j]='*';\n",
    "            s[i*(n+1)+n]='\\n';\n",
    "        }\n",
    "        s[m*(n+1)]=0;\n",
    "    } else s[0]=0;\n",
    "}\n",
    "\n",
    "const int m=3, n=2;         // constant size for static array\n",
    "char s[m*(n+1)+1];\n",
    "matrix_of_stars(m, n, s);   // pass `s` by reference to get stars\n",
    "cout << s;"
   ]
  },
  {
   "cell_type": "markdown",
   "id": "aff4b1fa",
   "metadata": {},
   "source": [
    "::::{exercise}\n",
    ":label: ex:matrix_of_stars\n",
    "\n",
    "Why not return a C-string as in the following code?\n",
    "\n",
    "::::"
   ]
  },
  {
   "cell_type": "code",
   "execution_count": null,
   "id": "f761a4fd",
   "metadata": {},
   "outputs": [],
   "source": [
    "%%cpp\n",
    "char* matrix_of_stars_(unsigned m, unsigned n) {\n",
    "    auto s=new char[m*(n+1)+1];\n",
    "    matrix_of_stars(m, n, s);\n",
    "    return s;\n",
    "}\n",
    "\n",
    "int m=2, n=3; // non-constant size allowed.\n",
    "auto s=matrix_of_stars_(m, n);\n",
    "cout << s;\n",
    "delete[] s;   // 😈: This line can be removed. 👨🏻‍🏫: No.\n",
    "s = nullptr;"
   ]
  },
  {
   "cell_type": "markdown",
   "id": "85948ff2",
   "metadata": {
    "deletable": false,
    "nbgrader": {
     "cell_type": "markdown",
     "checksum": "d599d55bedd8fb99787fa384e60e1d22",
     "grade": true,
     "grade_id": "matrix_of_stars",
     "locked": false,
     "points": 0,
     "schema_version": 3,
     "solution": true,
     "task": false
    }
   },
   "source": [
    "YOUR ANSWER HERE"
   ]
  },
  {
   "cell_type": "markdown",
   "id": "5bfc69a6",
   "metadata": {},
   "source": [
    "A safe way to return a string is to use [`std::string`](https://en.cppreference.com/w/cpp/string/basic_string.html) from [`<string>`](https://en.cppreference.com/w/cpp/string.html), which can be viewered as a special vector container whose elements are characters:"
   ]
  },
  {
   "cell_type": "code",
   "execution_count": null,
   "id": "4e7c92b7",
   "metadata": {},
   "outputs": [],
   "source": [
    "%%cpp\n",
    "string matrix_of_stars(unsigned m, unsigned n) {\n",
    "    string s;\n",
    "    while(m--) s+=string(n,'*')+(n>0?\"\\n\":\"\");\n",
    "    return s;\n",
    "}\n",
    "cout << matrix_of_stars(3,2);"
   ]
  },
  {
   "cell_type": "code",
   "execution_count": null,
   "id": "ab904ae6",
   "metadata": {},
   "outputs": [],
   "source": [
    "@interact(m=(0, 10), n=(0, 10))\n",
    "def print_matrix_of_stars(m=5, n=5):\n",
    "    print(ROOT.matrix_of_stars(m, n))"
   ]
  },
  {
   "cell_type": "markdown",
   "id": "89759575",
   "metadata": {},
   "source": [
    "1. `string(n,'*')` uses the fill constructor to create `n` copies of `*`:\n",
    "\n",
    "    ```cpp\n",
    "    basic_string( size_type count, CharT ch, const Allocator& alloc = Allocator() );\n",
    "    ```"
   ]
  },
  {
   "cell_type": "markdown",
   "id": "722a363b",
   "metadata": {},
   "source": [
    "2. `s+=string(n,'*')+(n>0?\"\\n\":\"\");` uses\n",
    "   - the [non-member operator `+`](https://en.cppreference.com/w/cpp/string/basic_string/operator%2B) to concatenate strings, and\n",
    "   - the [member operator `=`](https://en.cppreference.com/w/cpp/string/basic_string/operator=.html) to assign the resulting string to `s`."
   ]
  },
  {
   "cell_type": "markdown",
   "id": "d80543ea",
   "metadata": {},
   "source": [
    "::::{exercise}\n",
    ":label: ex:string_concat\n",
    "Explain which of the following overloads was used in the above string concatenation.\n",
    "\n",
    "1. ```cpp\n",
    "    template< class CharT, class Traits, class Alloc >\n",
    "    std::basic_string<CharT,Traits,Alloc>\n",
    "        operator+( std::basic_string<CharT,Traits,Alloc>&& lhs,\n",
    "                   std::basic_string<CharT,Traits,Alloc>&& rhs );\n",
    "   ```\n",
    "2. ```cpp\n",
    "   template< class CharT, class Traits, class Alloc >\n",
    "    std::basic_string<CharT,Traits,Alloc>\n",
    "        operator+( std::basic_string<CharT,Traits,Alloc>&& lhs,\n",
    "                   CharT rhs );\n",
    "   ```\n",
    "3. ```cpp\n",
    "   template< class CharT, class Traits, class Alloc >\n",
    "   std::basic_string<CharT,Traits,Alloc>\n",
    "       operator+( std::basic_string<CharT,Traits,Alloc>&& lhs,\n",
    "                  const CharT* rhs );\n",
    "   ```\n",
    "4. ```cpp\n",
    "   template< class CharT, class Traits, class Alloc >\n",
    "    std::basic_string<CharT,Traits,Alloc>\n",
    "        operator+( const std::basic_string<CharT,Traits,Alloc>& lhs,\n",
    "                   std::basic_string<CharT,Traits,Alloc>&& rhs );\n",
    "   ```\n",
    "\n",
    "::::"
   ]
  },
  {
   "cell_type": "markdown",
   "id": "f06b49ad",
   "metadata": {
    "deletable": false,
    "nbgrader": {
     "cell_type": "markdown",
     "checksum": "bb6af91f1b606ccf09e6c790d2f3ac23",
     "grade": true,
     "grade_id": "string_concat",
     "locked": false,
     "points": 0,
     "schema_version": 3,
     "solution": true,
     "task": false
    }
   },
   "source": [
    "YOUR ANSWER HERE"
   ]
  },
  {
   "cell_type": "code",
   "execution_count": null,
   "id": "3a713f11",
   "metadata": {},
   "outputs": [],
   "source": [
    "%%ai\n",
    "Explain briefly the difference between member vs non-member function, and why\n",
    "`operator+` is a non-member function of `std::string`?"
   ]
  },
  {
   "cell_type": "markdown",
   "id": "2786c93f",
   "metadata": {},
   "source": [
    "Is the previous implementation of `matrix_of_stars` efficient? Compare it with the following implementation:"
   ]
  },
  {
   "cell_type": "code",
   "execution_count": null,
   "id": "a260ae9f",
   "metadata": {},
   "outputs": [],
   "source": [
    "%%cpp\n",
    "string matrix_of_stars(unsigned m, unsigned n) {\n",
    "    if (m == 0 || n == 0) return \"\";\n",
    "    string s, row(n, '*');\n",
    "    row += '\\n';\n",
    "    s.reserve(m * row.size());\n",
    "    for (unsigned i = 0; i < m; ++i)\n",
    "        s.append(row);\n",
    "    return s;\n",
    "}\n",
    "cout << matrix_of_stars(3,2);"
   ]
  },
  {
   "cell_type": "markdown",
   "id": "d29e14dc",
   "metadata": {},
   "source": [
    "1. `s.reserve(m * s.size());` uses the method [`reserve`](https://en.cppreference.com/w/cpp/string/basic_string/reserve.html) to inform `s` about the planned change in size, so it can manage the storage more efficiently.\n",
    "   ```cpp\n",
    "   constexpr void reserve( size_type new_cap );\n",
    "   ```\n",
    "3. [`s.append(row)`](https://en.cppreference.com/w/cpp/string/basic_string/append.html) append `row` to `s` instead of re-assigning `s` to a new string:\n",
    "   ```cpp\n",
    "   basic_string& append( const basic_string& str );\n",
    "   ```"
   ]
  },
  {
   "cell_type": "markdown",
   "id": "298a0b57",
   "metadata": {},
   "source": [
    "::::{exercise}\n",
    ":label: ex:append\n",
    "\n",
    "Determine which implementation is faster, for instance, by constructing a large matrix of starts:\n",
    "\n",
    "```cpp\n",
    "auto s=matrix_of_stars(30000,30000);\n",
    "```\n",
    "\n",
    "Why is one more efficient than the other?\n",
    "\n",
    "::::"
   ]
  },
  {
   "cell_type": "markdown",
   "id": "33bdb599",
   "metadata": {
    "deletable": false,
    "nbgrader": {
     "cell_type": "markdown",
     "checksum": "99b013efabbdca650c45c8b2668774c8",
     "grade": true,
     "grade_id": "append",
     "locked": false,
     "points": 0,
     "schema_version": 3,
     "solution": true,
     "task": false
    }
   },
   "source": [
    "YOUR ANSWER HERE"
   ]
  },
  {
   "cell_type": "markdown",
   "id": "bff0eccb",
   "metadata": {},
   "source": [
    "Instead of using `+=` or `append`, we can also use the output string stream [`std::ostringstream`](https://en.cppreference.com/w/cpp/io/basic_ostringstream.html) from `<sstream>`:"
   ]
  },
  {
   "cell_type": "code",
   "execution_count": null,
   "id": "61762072",
   "metadata": {},
   "outputs": [],
   "source": [
    "%%cpp\n",
    "string matrix_of_stars(unsigned m, unsigned n) {\n",
    "    if (m == 0 || n == 0) return \"\";\n",
    "    ostringstream oss;\n",
    "    string row(n, '*');\n",
    "    row += '\\n';\n",
    "    for (unsigned i = 0; i < m; ++i)\n",
    "        oss << row;\n",
    "    return std::move(oss).str();\n",
    "}\n",
    "cout << matrix_of_stars(3,2);"
   ]
  },
  {
   "cell_type": "markdown",
   "id": "8ddd42cf",
   "metadata": {},
   "source": [
    "- [`<<`](https://en.cppreference.com/w/cpp/io/basic_ostream/operator_ltlt.html) appends `row` repeatedly to the output string stream `oss`.\n",
    "- [`std::move(oss).str()`](https://en.cppreference.com/w/cpp/io/basic_ostringstream/str.html) gets the content of the string:\n",
    "  ```cpp\n",
    "  std::basic_string<CharT, Traits, Allocator> str() &&;\n",
    "  ```\n",
    "  The above method overload has an [rvalue reference qualifier `&&`](https://en.cppreference.com/w/cpp/language/member_functions.html#Member_functions_with_ref-qualifier), which restricts it to be called only on rvalue objects. It enables the move semantics `std::move(oss).str()` to return the desired string without unnecessary copies, unlike the overload with constant lvalue reference qualifier:\n",
    "  ```cpp\n",
    "  std::basic_string<CharT, Traits, Allocator> str() const&;\n",
    "  ```"
   ]
  },
  {
   "cell_type": "markdown",
   "id": "66b36d1b",
   "metadata": {},
   "source": [
    "Unlike `std::string`, `std::ostringstream` does not let us preallocate memory. It also incurs overhead for formatting, buffering, and type safety checks. Nevertheless, `std::ostringstream` makes it very easy to create a string from values of different data types."
   ]
  },
  {
   "cell_type": "markdown",
   "id": "f504519c",
   "metadata": {},
   "source": [
    "::::{exercise}\n",
    ":label: ex:oss\n",
    "\n",
    "Complete the following function to create a string containining `m` rows and `n` columns of a possibly non-character value.\n",
    "\n",
    "::::"
   ]
  },
  {
   "cell_type": "code",
   "execution_count": null,
   "id": "79072ee1",
   "metadata": {
    "deletable": false,
    "nbgrader": {
     "cell_type": "code",
     "checksum": "ab2eb7b259d6bac2499c514cd9152fb0",
     "grade": false,
     "grade_id": "oss",
     "locked": false,
     "schema_version": 3,
     "solution": true,
     "task": false
    }
   },
   "outputs": [],
   "source": [
    "%%cpp\n",
    "string matrix_of(unsigned m, unsigned n, auto value) {\n",
    "    if (m == 0 || n == 0) return \"\";\n",
    "    ostringstream oss;\n",
    "    /*\n",
    "    # REPLACE THE ENTIRE COMMENT WITH YOUR CODE #\n",
    "    */\n",
    "    string row=oss.str();\n",
    "    for (unsigned i = 1; i < m; ++i)\n",
    "        oss << row;\n",
    "    return std::move(oss).str();\n",
    "}"
   ]
  },
  {
   "cell_type": "code",
   "execution_count": null,
   "id": "6df79c07",
   "metadata": {},
   "outputs": [],
   "source": [
    "%%cpp\n",
    "cout << matrix_of(3,2,\"cs2310\");\n",
    "/* Expected output:\n",
    "cs2310cs2310\n",
    "cs2310cs2310\n",
    "cs2310cs2310\n",
    "*/"
   ]
  },
  {
   "cell_type": "code",
   "execution_count": null,
   "id": "53f8b474",
   "metadata": {},
   "outputs": [],
   "source": [
    "%%cpp\n",
    "cout << matrix_of(3,2,.2310);\n",
    "/* Expected output:\n",
    "0.2310.231\n",
    "0.2310.231\n",
    "0.2310.231\n",
    "*/"
   ]
  },
  {
   "cell_type": "markdown",
   "id": "ad8f7916",
   "metadata": {},
   "source": [
    "### Caesar Cipher"
   ]
  },
  {
   "cell_type": "markdown",
   "id": "702e44a1",
   "metadata": {},
   "source": [
    "Consider implementing the [Caesar Cipher](https://en.wikipedia.org/wiki/Caesar_cipher), which is one of the oldest substitution cipher. It works by shifting each character of a given plaintext by a fixed number of poisitions down the alphabet, wrapping around from `Z` to `A` if necessary."
   ]
  },
  {
   "cell_type": "markdown",
   "id": "fcc785f1",
   "metadata": {},
   "source": [
    "To encrypt a message in plaintext:"
   ]
  },
  {
   "cell_type": "code",
   "execution_count": null,
   "id": "f2d30387",
   "metadata": {},
   "outputs": [],
   "source": [
    "%%cpp\n",
    "string cc_encrypt(string plaintext, unsigned char key) {\n",
    "    constexpr unsigned char s='A', n=26;\n",
    "    for (auto &c: plaintext) c=((c-s+key)%n+n)%n + s;\n",
    "    return plaintext;\n",
    "}\n",
    "\n",
    "auto ciphertext = cc_encrypt(\"ATTACKNOW\", 13) "
   ]
  },
  {
   "cell_type": "markdown",
   "id": "026bab07",
   "metadata": {},
   "source": [
    "To descript the ciphertext:"
   ]
  },
  {
   "cell_type": "code",
   "execution_count": null,
   "id": "123a6145",
   "metadata": {},
   "outputs": [],
   "source": [
    "%%cpp\n",
    "string cc_decrypt(string ciphertext, unsigned char key) {\n",
    "    constexpr unsigned char s='A', n=26;\n",
    "    for (auto &c: ciphertext) c=((c-s-key)%n+n)%n + s;\n",
    "    return ciphertext;\n",
    "}\n",
    "\n",
    "auto plaintext = cc_decrypt(ciphertext, 13) "
   ]
  },
  {
   "cell_type": "markdown",
   "id": "e0cbc353",
   "metadata": {},
   "source": [
    "Descryption can fail as follows:"
   ]
  },
  {
   "cell_type": "code",
   "execution_count": null,
   "id": "0a3aaa34",
   "metadata": {},
   "outputs": [],
   "source": [
    "%%cpp\n",
    "string plaintext{\"Flee at Once!\"};\n",
    "unsigned char key=11;\n",
    "cc_decrypt(cc_encrypt(plaintext, key), key)"
   ]
  },
  {
   "cell_type": "markdown",
   "id": "04bcbe60",
   "metadata": {},
   "source": [
    "To ensure descryptability, we should preprocess the plaintext to \n",
    "1. convert lower case letters to upper case letters, and\n",
    "2. remove non-letters."
   ]
  },
  {
   "cell_type": "code",
   "execution_count": null,
   "id": "3530fc8b",
   "metadata": {},
   "outputs": [],
   "source": [
    "%%cpp\n",
    "string cc_process(const string &plaintext) {\n",
    "    string processed;\n",
    "    processed.reserve(plaintext.size());\n",
    "    for (auto c: plaintext) if (isalpha(c)) processed+=toupper(c);\n",
    "    return processed;   \n",
    "}\n",
    "\n",
    "string s(\"Flee at once!\");\n",
    "cc_process(s)"
   ]
  },
  {
   "cell_type": "code",
   "execution_count": null,
   "id": "e4b6dff6",
   "metadata": {},
   "outputs": [],
   "source": [
    "%%cpp\n",
    "unsigned char key=11;\n",
    "cc_decrypt(cc_encrypt(plaintext, key), key)"
   ]
  },
  {
   "cell_type": "markdown",
   "id": "773fcc1d",
   "metadata": {},
   "source": [
    "It is a good idea to implement an overload that takes an rvalue reference to avoid unnecessary copies:"
   ]
  },
  {
   "cell_type": "code",
   "execution_count": null,
   "id": "29daac42",
   "metadata": {},
   "outputs": [],
   "source": [
    "%%cpp\n",
    "string cc_process(string &&plaintext) {\n",
    "    auto it=plaintext.begin();\n",
    "    for (auto c: plaintext) if (isalpha(c)) *(it++)=toupper(c);\n",
    "    plaintext.erase(it, plaintext.end());\n",
    "    return plaintext;\n",
    "}\n",
    "\n",
    "string s(\"Flee at once!\");\n",
    "LB(s);\n",
    "auto t(cc_process(std::move(s)));\n",
    "LB(t);\n",
    "s.empty()? t : throw runtime_error(\"`s` should be empty!\")"
   ]
  },
  {
   "cell_type": "markdown",
   "id": "2259941a",
   "metadata": {},
   "source": [
    "Why aren't the elements of `s` moved to `t`? Because `plaintext` is not returned by rvalue reference?"
   ]
  },
  {
   "cell_type": "markdown",
   "id": "9728f502",
   "metadata": {},
   "source": [
    "Consider a different plaintext:"
   ]
  },
  {
   "cell_type": "code",
   "execution_count": null,
   "id": "246cb57c",
   "metadata": {},
   "outputs": [],
   "source": [
    "%%cpp\n",
    "string s(\"****************\");\n",
    "LB(s);\n",
    "auto t(cc_process(std::move(s)));\n",
    "LB(t);\n",
    "s.empty()? t : throw runtime_error(\"`s` should be empty!\")"
   ]
  },
  {
   "cell_type": "markdown",
   "id": "ff265197",
   "metadata": {},
   "source": [
    "The elements of `s` are now moved to `t`. Let's do it again:"
   ]
  },
  {
   "cell_type": "code",
   "execution_count": null,
   "id": "7f5672e1",
   "metadata": {},
   "outputs": [],
   "source": [
    "%%cpp\n",
    "string s(\"***************\");\n",
    "LB(s);\n",
    "auto t(cc_process(std::move(s)));\n",
    "LB(t);\n",
    "s.empty()? t : throw runtime_error(\"`s` should be empty!\")"
   ]
  },
  {
   "cell_type": "markdown",
   "id": "fa19a560",
   "metadata": {},
   "source": [
    "The elements of `s` are again not moved to `t`. Isn't it confusing?"
   ]
  },
  {
   "cell_type": "markdown",
   "id": "ba240c7f",
   "metadata": {},
   "source": [
    "::::{caution} Why elements are not moved sometimes?\n",
    ":class: dropdown\n",
    "\n",
    "The string returned by `cc_process` is indeed constructed using the **move constructor** on `plaintext`. However, even though a move constructor *can* transfer ownership of resources from `plaintext`, it is **not required** to do so. In the case of `std::string`, many implementations apply **Small String Optimization (SSO)**, which stores short strings directly **within the object’s internal buffer**—a fixed-size array embedded in the object itself. This buffer is part of the object’s memory layout and avoids heap allocation for short strings, enabling faster access and reduced memory overhead.\n",
    "\n",
    "- The last example `\"**************\"` consists of 15 characters, which is regarded as a small string that is stored directly in the object's internal buffer. This also applies to the shorter string `\"Flee at once!\"`.\n",
    "- The previous example `\"***************\"` consists of 16 characters, which is not regarded as a small string.\n",
    "\n",
    "\n",
    "::::"
   ]
  },
  {
   "cell_type": "code",
   "execution_count": null,
   "id": "c3971e64",
   "metadata": {},
   "outputs": [],
   "source": [
    "%%ai\n",
    "Explain in a paragraph what small string optimization (SSO) is in C++, and \n",
    "how small is small?"
   ]
  },
  {
   "cell_type": "markdown",
   "id": "dfb42a14",
   "metadata": {},
   "source": [
    "To avoid confusion or the creation of a shallow copy of the string, we can simply return the processed `plaintext` by rvalue reference:"
   ]
  },
  {
   "cell_type": "code",
   "execution_count": null,
   "id": "256d619d",
   "metadata": {},
   "outputs": [],
   "source": [
    "%%cpp\n",
    "using stringrvr=string&&;  // a kludge to bypass an issue of ROOT kernel"
   ]
  },
  {
   "cell_type": "code",
   "execution_count": null,
   "id": "4d6b8fae",
   "metadata": {},
   "outputs": [],
   "source": [
    "%%cpp\n",
    "stringrvr cc_process(string &&plaintext) {\n",
    "    auto it=plaintext.begin();\n",
    "    for (auto c: plaintext) if (isalpha(c)) *(it++)=toupper(c);\n",
    "    plaintext.erase(it, plaintext.end());\n",
    "    return std::move(plaintext);\n",
    "}\n",
    "\n",
    "string s(\"Flee at once!\");\n",
    "L(cc_process(std::move(L(s))));"
   ]
  },
  {
   "cell_type": "markdown",
   "id": "7973380e",
   "metadata": {},
   "source": [
    "::::{exercise}\n",
    ":label: ex:cc_process\n",
    "\n",
    "In the above code, does `cc_process` construct a new string to return?\n",
    "\n",
    "::::"
   ]
  },
  {
   "cell_type": "markdown",
   "id": "5d1f8800",
   "metadata": {
    "deletable": false,
    "nbgrader": {
     "cell_type": "markdown",
     "checksum": "ca22a01c98e287711b0b0262f85fdf86",
     "grade": true,
     "grade_id": "cc_process",
     "locked": false,
     "points": 0,
     "schema_version": 3,
     "solution": true,
     "task": false
    }
   },
   "source": [
    "YOUR ANSWER HERE"
   ]
  },
  {
   "cell_type": "markdown",
   "id": "37d4dc0c",
   "metadata": {},
   "source": [
    "### Counting Characters and Words"
   ]
  },
  {
   "cell_type": "markdown",
   "id": "0b26159e",
   "metadata": {},
   "source": [
    "Consider counting the number of characters in a string. Recall the function [`std::strlen`](https://en.cppreference.com/w/cpp/string/byte/strlen.html) from `<cstring>`, which calculates the length of a C‑string:"
   ]
  },
  {
   "cell_type": "code",
   "execution_count": null,
   "id": "9036230a",
   "metadata": {},
   "outputs": [],
   "source": [
    "%%cpp\n",
    "auto s=\"😎\";\n",
    "strlen(s)"
   ]
  },
  {
   "cell_type": "markdown",
   "id": "80a10f7e",
   "metadata": {},
   "source": [
    "It fails to give the correct number of characters since 😎 is a unicode character encoded using multiple bytes. What if it is in a string container?"
   ]
  },
  {
   "cell_type": "code",
   "execution_count": null,
   "id": "3792ece8",
   "metadata": {},
   "outputs": [],
   "source": [
    "%%cpp\n",
    "string s(\"😎\");\n",
    "s.size()"
   ]
  },
  {
   "cell_type": "markdown",
   "id": "624f6b39",
   "metadata": {},
   "source": [
    "The `size` method still fails, but it works if we use a wide string `std::wstring`, which is a basic string `std::basic_string<wchar_t>` of wide characters  [`wchar_t`](https://en.cppreference.com/w/cpp/keyword/wchar_t.html):"
   ]
  },
  {
   "cell_type": "code",
   "execution_count": null,
   "id": "3214779e",
   "metadata": {},
   "outputs": [],
   "source": [
    "%%cpp\n",
    "wstring s(L\"😎\");\n",
    "s.size()"
   ]
  },
  {
   "cell_type": "markdown",
   "id": "999e5e8a",
   "metadata": {},
   "source": [
    "`std::string` is a basic string `std::basic_string<char>` of `char`. There are many other basic string types:\n",
    "\n",
    "```cpp\n",
    "std::string                 std::basic_string<char>\n",
    "std::wstring                std::basic_string<wchar_t>\n",
    "std::u8string       (C++20) std::basic_string<char8_t>\n",
    "std::u16string      (C++11) std::basic_string<char16_t>\n",
    "std::u32string      (C++11) std::basic_string<char32_t>\n",
    "std::pmr::string    (C++17) std::pmr::basic_string<char>\n",
    "std::pmr::wstring   (C++17) std::pmr::basic_string<wchar_t>\n",
    "std::pmr::u8string  (C++20) std::pmr::basic_string<char8_t>\n",
    "std::pmr::u16string (C++17) std::pmr::basic_string<char16_t>\n",
    "std::pmr::u32string (C++17) std::pmr::basic_string<char32_t>\n",
    "```"
   ]
  },
  {
   "cell_type": "markdown",
   "id": "22b54f0d",
   "metadata": {},
   "source": [
    "Recall the recursion for counting words:\n",
    "\n",
    "```cpp\n",
    "/**\n",
    " * @brief Counts the number of words in a string using tail recursion.\n",
    " *\n",
    " * A word is defined as a sequence of non-whitespace characters separated by whitespace.\n",
    " * This function uses tail recursion to traverse the string and count words efficiently.\n",
    " *\n",
    " * @param s The input C-style string to be processed.\n",
    " * @param i The current index in the string (default is 0).\n",
    " * @param c The current count of words found (default is 0).\n",
    " * @param w A flag indicating whether the previous character was whitespace (default is true).\n",
    " * @return The total number of words in the string.\n",
    " */\n",
    "size_t count_words(const char *s,\n",
    "                   const size_t i=0, const size_t c=0, const bool w=true) {\n",
    "    bool t = isspace(s[i]); // Check if the current character is a whitespace\n",
    "    return s[i] ? count_words(s, i + 1, c + (w && !t), t) : c;\n",
    "}\n",
    "```"
   ]
  },
  {
   "cell_type": "markdown",
   "id": "eaa9e28b",
   "metadata": {},
   "source": [
    "How to make it work for different types of string?"
   ]
  },
  {
   "cell_type": "code",
   "execution_count": null,
   "id": "08bdf582",
   "metadata": {},
   "outputs": [],
   "source": [
    "%%cpp\n",
    "template<typename CharT>\n",
    "size_t count_words(const basic_string<CharT>& input) {\n",
    "    const auto whitespace = basic_string<CharT>{CharT(' ')} +\n",
    "        CharT('\\t') + CharT('\\n') + CharT('\\r') + CharT('\\v') + CharT('\\f');\n",
    "\n",
    "    size_t count=0, pos=0;\n",
    "    while (true) {\n",
    "        // Find the start of the next word\n",
    "        pos = input.find_first_not_of(whitespace, pos);\n",
    "        if (pos == basic_string<CharT>::npos) break;\n",
    "\n",
    "        // Find the end of the word\n",
    "        pos = input.find_first_of(whitespace, pos);\n",
    "        ++count;\n",
    "    }\n",
    "\n",
    "    return count;\n",
    "}"
   ]
  },
  {
   "cell_type": "code",
   "execution_count": null,
   "id": "37597327",
   "metadata": {},
   "outputs": [],
   "source": [
    "%%cpp\n",
    "wstring s(L\"😎:\\nHello, World!\");\n",
    "count_words(s)"
   ]
  },
  {
   "cell_type": "markdown",
   "id": "3b37d4bc",
   "metadata": {},
   "source": [
    "The above code uses `template<typename CharT, typename Traits, typename Alloc>` to make the function generic for any `std::basic_string` type. The function `count_words` first creates a string of common white space characters:\n",
    "\n",
    "```cpp\n",
    "' '  (space)\n",
    "'\\t' (tab)\n",
    "'\\n' (newline)\n",
    "'\\r' (carriage return)\n",
    "'\\v' (vertical tab)\n",
    "'\\f' (form feed)\n",
    "```"
   ]
  },
  {
   "cell_type": "markdown",
   "id": "4e8756c7",
   "metadata": {},
   "source": [
    "It then finds and count the next word iteratively uses the search methods \n",
    "- [find_first_not_of](https://en.cppreference.com/w/cpp/string/basic_string/find_first_not_of) to find the next non-whitespace character to locate the start of a word;\n",
    "  ```cpp\n",
    "  size_type find_first_not_of( const basic_string& str, size_type pos = 0 ) const;\n",
    "  ```\n",
    "- [find_first_of](https://en.cppreference.com/w/cpp/string/basic_string/find_first_of) to find the next whitespace character to locate the end of the word.\n",
    "  ```cpp\n",
    "  size_type find_first_of( const basic_string& str, size_type pos = 0 ) const;\n",
    "  ```\n",
    "\n",
    "[`npos`](https://en.cppreference.com/w/cpp/string/basic_string/npos) is a constant (`std::size_t(-1)`) returned by the search methods if the search target is not found."
   ]
  },
  {
   "cell_type": "markdown",
   "id": "6628058c",
   "metadata": {},
   "source": [
    "The code can be much simplified using an input string stream:"
   ]
  },
  {
   "cell_type": "code",
   "execution_count": null,
   "id": "74b00b3b",
   "metadata": {},
   "outputs": [],
   "source": [
    "%%cpp\n",
    "template<typename CharT>\n",
    "size_t count_words(const basic_string<CharT>& input) {\n",
    "    basic_istringstream<CharT> stream(input);\n",
    "    basic_string<CharT> word;\n",
    "\n",
    "    size_t count = 0;\n",
    "    while (stream >> word) ++count;\n",
    "    return count;\n",
    "}"
   ]
  },
  {
   "cell_type": "code",
   "execution_count": null,
   "id": "a14b5ffe",
   "metadata": {},
   "outputs": [],
   "source": [
    "%%cpp\n",
    "wstring s(L\"😎:\\nHello, World!\");\n",
    "count_words(s)"
   ]
  },
  {
   "cell_type": "markdown",
   "id": "5e8d8998",
   "metadata": {},
   "source": [
    "The idea is to turn the `input` string into an input stream [`basic_istringstream`](https://en.cppreference.com/w/cpp/io/basic_istringstream):\n",
    "1. [`>>`](https://en.cppreference.com/w/cpp/io/basic_istream/operator_gtgt) can be used to extract the next word from the stream to the string `word`; and\n",
    "2. the count can be incremented for each successful extraction."
   ]
  },
  {
   "cell_type": "code",
   "execution_count": null,
   "id": "70924239",
   "metadata": {},
   "outputs": [],
   "source": [
    "%%ai\n",
    "Explain in a paragraph how `(stream >> word)` for `basic_istringstream` signals\n",
    "successful extraction of a word?"
   ]
  },
  {
   "cell_type": "markdown",
   "id": "014f1a87",
   "metadata": {},
   "source": [
    "The function `count_lines` below uses the function [`getline`](https://en.cppreference.com/w/cpp/string/basic_string/getline.html) to count the number of lines of a string:\n",
    "```cpp\n",
    "template< class CharT, class Traits, class Allocator >\n",
    "std::basic_istream<CharT, Traits>&\n",
    "    getline( std::basic_istream<CharT, Traits>& input,\n",
    "             std::basic_string<CharT, Traits, Allocator>& str );\n",
    "```"
   ]
  },
  {
   "cell_type": "code",
   "execution_count": null,
   "id": "fa5329bd",
   "metadata": {},
   "outputs": [],
   "source": [
    "%%cpp\n",
    "template<typename CharT>\n",
    "size_t count_lines(const basic_string<CharT>& input) {\n",
    "    basic_istringstream<CharT> stream(input);\n",
    "    basic_string<CharT> line;\n",
    "\n",
    "    size_t count = 0;\n",
    "    while (getline(stream, line)) ++count;\n",
    "    return count;\n",
    "}"
   ]
  },
  {
   "cell_type": "code",
   "execution_count": null,
   "id": "a8ee1b15",
   "metadata": {},
   "outputs": [],
   "source": [
    "%%cpp\n",
    "string s(\"😎:\\nHello, World!\");\n",
    "count_lines(s)"
   ]
  },
  {
   "cell_type": "markdown",
   "id": "0989b3aa",
   "metadata": {},
   "source": [
    "We can also read files using input file stream `std::ifstream`:"
   ]
  },
  {
   "cell_type": "code",
   "execution_count": null,
   "id": "b5472f46",
   "metadata": {},
   "outputs": [],
   "source": [
    "%%writefile private/hello.txt\n",
    "😎:\n",
    "Hello, World!"
   ]
  },
  {
   "cell_type": "code",
   "execution_count": null,
   "id": "e9d82e38",
   "metadata": {},
   "outputs": [],
   "source": [
    "%%cpp\n",
    "string line;\n",
    "\n",
    "ifstream file(\"private/hello.txt\");\n",
    "while (getline(file, line)) cout << line << '\\n';\n",
    "file.close();"
   ]
  },
  {
   "cell_type": "markdown",
   "id": "4b76b4b3",
   "metadata": {},
   "source": [
    "We can write files using output file stream:"
   ]
  },
  {
   "cell_type": "code",
   "execution_count": null,
   "id": "f1a22f87",
   "metadata": {},
   "outputs": [],
   "source": [
    "%%cpp\n",
    "string line;\n",
    "\n",
    "ofstream file(\"private/hello.txt\");\n",
    "if (file.good()) file << \"CS2310\\n\";\n",
    "if (file.good()) file << \"Computer Programming\\n\";\n",
    "file.close();"
   ]
  },
  {
   "cell_type": "code",
   "execution_count": null,
   "id": "d3f576bd",
   "metadata": {},
   "outputs": [],
   "source": [
    "!cat private/hello.txt"
   ]
  }
 ],
 "metadata": {
  "jupytext": {
   "default_lexer": "ipython3"
  },
  "kernelspec": {
   "display_name": "Python 3 (ipykernel)",
   "language": "python",
   "name": "python3"
  }
 },
 "nbformat": 4,
 "nbformat_minor": 5
}
