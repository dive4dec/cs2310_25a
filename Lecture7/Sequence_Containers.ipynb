{
 "cells": [
  {
   "cell_type": "markdown",
   "id": "11ed0d0a",
   "metadata": {
    "editable": true,
    "slideshow": {
     "slide_type": ""
    }
   },
   "source": [
    "---\n",
    "title: Sequence Containers\n",
    "abstract: |\n",
    "    Encapsulation is a fundamental principle of object-oriented programming that promotes modularity and data protection by bundling data and the methods that operate on it within a single unit. Standard library containers such as array, vector, list, set, and map exemplify encapsulation by exposing well-defined interfaces while hiding internal implementation details. Encapsulation also facilitates resource management strategies like move semantics, where rvalue references and universal references allow efficient transfer and reuse of resources. This notebook introduces the basic idea of encapsulation using sequence containers such as vector and list.\n",
    "math:\n",
    "    '\\abs': '\\left\\lvert #1 \\right\\rvert'\n",
    "    '\\norm': '\\left\\lVert #1 \\right\\rVert'\n",
    "    '\\Set': '\\left\\{ #1 \\right\\}'\n",
    "    '\\set': '\\operatorname{set}'   \n",
    "    '\\mc': '\\mathcal{#1}'\n",
    "    '\\M': '\\boldsymbol{#1}'\n",
    "    '\\R': '\\mathsf{#1}'\n",
    "    '\\RM': '\\boldsymbol{\\mathsf{#1}}'\n",
    "    '\\op': '\\operatorname{#1}'\n",
    "    '\\E': '\\op{E}'\n",
    "    '\\d': '\\mathrm{\\mathstrut d}'\n",
    "    '\\SFM': '\\operatorname{SFM}'\n",
    "    '\\utag': '\\stackrel{\\text{(#1)}}{#2}'\n",
    "    '\\uref': '\\text{(#1)}'\n",
    "    '\\minimal': '\\operatorname{minimal}'\n",
    "skip_execution: true\n",
    "---"
   ]
  },
  {
   "cell_type": "code",
   "execution_count": null,
   "id": "dae6243e",
   "metadata": {
    "editable": true,
    "slideshow": {
     "slide_type": ""
    }
   },
   "outputs": [],
   "source": [
    "from __init__ import *\n",
    "%reload_ext divewidgets"
   ]
  },
  {
   "cell_type": "code",
   "execution_count": null,
   "id": "cf756b59",
   "metadata": {},
   "outputs": [],
   "source": [
    "%%cpp\n",
    "#include \"utility.hpp\""
   ]
  },
  {
   "cell_type": "code",
   "execution_count": null,
   "id": "6c33a989",
   "metadata": {
    "editable": true,
    "slideshow": {
     "slide_type": ""
    },
    "tags": [
     "skip-execution"
    ]
   },
   "outputs": [],
   "source": [
    "if not input('Load JupyterAI? [Y/n]').lower()=='n':\n",
    "    %reload_ext jupyter_ai"
   ]
  },
  {
   "cell_type": "markdown",
   "id": "b5294dcb",
   "metadata": {},
   "source": [
    "## Motivation"
   ]
  },
  {
   "cell_type": "markdown",
   "id": "80377560",
   "metadata": {},
   "source": [
    "Encapsulation is the technique of capturing resources such as variables (properties) and functions (methods) into an entity (object). This lays the foundation for object‑oriented programming (OOP)."
   ]
  },
  {
   "cell_type": "markdown",
   "id": "38091569",
   "metadata": {},
   "source": [
    "To motivate the concept, consider the problem of enumerating [combinations](https://en.wikipedia.org/wiki/Combination) in [combinatorics](https://en.wikipedia.org/wiki/Combinatorics):"
   ]
  },
  {
   "cell_type": "markdown",
   "id": "c759d16e",
   "metadata": {},
   "source": [
    "::::{prf:definition} combination\n",
    ":label: def:combination\n",
    "\n",
    "A $k$-combination $S$ of $n$ items, say $\\Set{0, \\dots, n-1}$, is a selection of $k$ items from the set.\n",
    "\n",
    "::::"
   ]
  },
  {
   "cell_type": "markdown",
   "id": "8713e023",
   "metadata": {},
   "source": [
    "::::{prf:example}\n",
    "\n",
    "For $3$ items $\\Set{0, 1, 2}$, we have:\n",
    "- one $0$-combination:\n",
    "  > $\\Set{}$\n",
    "- three $1$-combinations:\n",
    "  > $\\Set{0}, \\Set{1}, \\Set{2}$\n",
    "- three $2$-combinations:\n",
    "  > $\\Set{0, 1}, \\Set{0, 2}, \\Set{1, 2}$\n",
    "- no $k$-combinations for other values of $k$.\n",
    "\n",
    "::::"
   ]
  },
  {
   "cell_type": "markdown",
   "id": "d3ca4001",
   "metadata": {},
   "source": [
    "**How to define a function to compute combinations?**"
   ]
  },
  {
   "cell_type": "markdown",
   "id": "34571d8d",
   "metadata": {},
   "source": [
    "A divide-and-conquer approach is as follows:"
   ]
  },
  {
   "cell_type": "markdown",
   "id": "cbae8134",
   "metadata": {},
   "source": [
    "::::{prf:proposition}\n",
    ":label: pro:combination\n",
    "\n",
    "A $k$-combination $S$ of $n$ items satisfies the recurrence relation for $1\\leq k\\leq n$:\n",
    "\n",
    "> $S\\setminus \\Set{n-1}$ is a combination of $n-1$ items with\n",
    ">  - $k-1$ items if ${{\\color{red}n-1}}\\in S$; or\n",
    ">  - ${\\color{blue}k}$ items otherwise.\n",
    "\n",
    "Reversing the above removal process gives a way of constructing a $k$-combination $S$ from a smaller combination $T$ of $n-1$ items with\n",
    "- ${\\color{blue}k}$ items; or\n",
    "- $k-1$ items and add ${\\color{red}n-1}$ to it.\n",
    "\n",
    "If $0=k< n$, $S=\\Set{}$. $S$ does not exists for other choices of $(n, k)$. E.g.,\n",
    "\n",
    "$$\n",
    "\\overbrace{{\\color{blue}\\Set{0, 1}}}^{\\mathclap{\\text{\\scriptsize ${\\color{blue}2}$-combination of $\\{0, 1\\}$}}}, \\underbrace{\\Set{0, {\\color{red}2}}, \\Set{1, {\\color{red}2}}}_{\\mathclap{\\text{\\scriptsize $2$ added to $1$-combinations of $\\{0, 1\\}$}}}.\n",
    "$$\n",
    "\n",
    "\n",
    "::::"
   ]
  },
  {
   "cell_type": "markdown",
   "id": "259ab4c1",
   "metadata": {},
   "source": [
    "A $k$-combination in [](#def:combination) can be implemented as a vector container of indices from $\\Set{0, \\dots, n-1}$:"
   ]
  },
  {
   "cell_type": "code",
   "execution_count": null,
   "id": "641cf793",
   "metadata": {},
   "outputs": [],
   "source": [
    "%%cpp\n",
    "vector<size_t>{0,1,2}"
   ]
  },
  {
   "cell_type": "markdown",
   "id": "3add6a8c",
   "metadata": {},
   "source": [
    "The collection of combinations can be a vector of a vector of indices:"
   ]
  },
  {
   "cell_type": "code",
   "execution_count": null,
   "id": "fdd34e6b",
   "metadata": {},
   "outputs": [],
   "source": [
    "%%cpp\n",
    "vector<vector<size_t> > {{0,1},{0,2},{1,2}}"
   ]
  },
  {
   "cell_type": "markdown",
   "id": "b7fece8c",
   "metadata": {},
   "source": [
    "To implements the divide-and-conquer approach in [](#pro:combination):\n",
    "\n",
    "::::{code} cpp\n",
    ":label: code_combination1\n",
    ":linenos:\n",
    ":caption: Returning a `std::vector` of $k$-combinations of $n$ items $\\Set{0,1, \\dots, n-1}$.\n",
    "/**\n",
    " * @brief Generates all k-combinations of the set {0, 1, ..., n-1}.\n",
    " *\n",
    " * This function uses recursion to build combinations by either:\n",
    " * - excluding the last element (n-1) and generating k-combinations of the first n-1 elements\n",
    " * - including the last element (n-1) and generating (k-1)-combinations of the first n-1 elements,\n",
    " *   then appending n-1 to each of those to form a full k-combination.\n",
    " *\n",
    " * @param n The size of the set to choose from.\n",
    " * @param k The number of elements to choose.\n",
    " * @return A vector of vectors, each representing a k-combination of the set {0, ..., n-1}.\n",
    " */\n",
    "std::function<std::vector<vector<size_t> >(const size_t, const size_t)>\n",
    "combination=[&combination](const size_t n, const size_t k) {\n",
    "    vector<vector<size_t> > output; // base case when k is not in {0, ..., n}.\n",
    "    if (k<=n) {\n",
    "        if (k) {\n",
    "            // Case 1: k-combinations from the first n-1 elements\n",
    "            for (auto &subset : combination(n-1, k)) output.push_back(subset);\n",
    "            \n",
    "            // Case 2: (k-1)-combinations from the first n-1 elements, with n-1 added\n",
    "            for (auto &subset : combination(n-1, k-1)) {\n",
    "                subset.push_back(n-1);\n",
    "                output.push_back(subset);\n",
    "            }\n",
    "        } else output.push_back(vector<size_t>()); // base case: only one combination of size 0 (empty set)\n",
    "    } // Hidden base case: No combinations if k is not in the range {0, ..., n}\n",
    "    return output;\n",
    "};\n",
    "::::"
   ]
  },
  {
   "cell_type": "code",
   "execution_count": null,
   "id": "4a858fe1",
   "metadata": {},
   "outputs": [],
   "source": [
    "%%cpp\n",
    "std::function<std::vector<vector<size_t> >(const size_t, const size_t)>\n",
    "combination=[&combination](const size_t n, const size_t k) {\n",
    "    vector<vector<size_t> > output;\n",
    "    if (k<=n) {\n",
    "        if (k) {\n",
    "            for (auto &subset : combination(n-1, k)) output.push_back(subset);\n",
    "            for (auto &subset : combination(n-1, k-1)) {\n",
    "                subset.push_back(n-1);\n",
    "                output.push_back(subset);\n",
    "            }\n",
    "        } else output.push_back(vector<size_t>());\n",
    "    }\n",
    "    return output;\n",
    "};"
   ]
  },
  {
   "cell_type": "markdown",
   "id": "57b8e80b",
   "metadata": {},
   "source": [
    "The following generates different combinations of $3$ items:"
   ]
  },
  {
   "cell_type": "code",
   "execution_count": null,
   "id": "dc0bf824",
   "metadata": {},
   "outputs": [],
   "source": [
    "%%cpp\n",
    "combination(3, 0)"
   ]
  },
  {
   "cell_type": "code",
   "execution_count": null,
   "id": "ce00e039",
   "metadata": {},
   "outputs": [],
   "source": [
    "%%cpp\n",
    "combination(3, 1)"
   ]
  },
  {
   "cell_type": "code",
   "execution_count": null,
   "id": "1ad321a1",
   "metadata": {},
   "outputs": [],
   "source": [
    "%%cpp\n",
    "combination(3, 2)"
   ]
  },
  {
   "cell_type": "code",
   "execution_count": null,
   "id": "80bd1d99",
   "metadata": {},
   "outputs": [],
   "source": [
    "%%cpp\n",
    "combination(3, 3)"
   ]
  },
  {
   "cell_type": "code",
   "execution_count": null,
   "id": "57c1a6be",
   "metadata": {},
   "outputs": [],
   "source": [
    "%%cpp\n",
    "combination(3, 4)"
   ]
  },
  {
   "cell_type": "markdown",
   "id": "204f3c06",
   "metadata": {},
   "source": [
    "::::{exercise}\n",
    ":label: ex:combination1\n",
    "\n",
    "Why the following code does not return an empty vector?\n",
    "\n",
    "::::"
   ]
  },
  {
   "cell_type": "code",
   "execution_count": null,
   "id": "efa008d9",
   "metadata": {},
   "outputs": [],
   "source": [
    "%%cpp\n",
    "combination(-1,0).empty()"
   ]
  },
  {
   "cell_type": "markdown",
   "id": "057a4278",
   "metadata": {
    "deletable": false,
    "nbgrader": {
     "cell_type": "markdown",
     "checksum": "7208120d4144a0c0671df313598ef98d",
     "grade": true,
     "grade_id": "combination1",
     "locked": false,
     "points": 0,
     "schema_version": 3,
     "solution": true,
     "task": false
    }
   },
   "source": [
    "YOUR ANSWER HERE"
   ]
  },
  {
   "cell_type": "markdown",
   "id": "cd5914b9",
   "metadata": {},
   "source": [
    "For instance we can compute ${22 \\choose 11}$"
   ]
  },
  {
   "cell_type": "markdown",
   "id": "971b52b4",
   "metadata": {},
   "source": [
    "Consider counting the number combinations using the [size](https://en.cppreference.com/w/cpp/container/vector/size.html) method:\n",
    "\n",
    "```cpp\n",
    "size_type size() const;\n",
    "```"
   ]
  },
  {
   "cell_type": "code",
   "execution_count": null,
   "id": "ada80505",
   "metadata": {},
   "outputs": [],
   "source": [
    "%%ai\n",
    "Explain in one line what does `const` mean for the method\n",
    "--\n",
    "size_type size() const;"
   ]
  },
  {
   "cell_type": "markdown",
   "id": "9e167e07",
   "metadata": {},
   "source": [
    "For instance, the total number of $11$-combinations of $22$ items is:"
   ]
  },
  {
   "cell_type": "code",
   "execution_count": null,
   "id": "f252cf87",
   "metadata": {},
   "outputs": [],
   "source": [
    "%%cpp\n",
    "combination(22, 11).size()"
   ]
  },
  {
   "cell_type": "markdown",
   "id": "c82e8ba1",
   "metadata": {},
   "source": [
    "The above requires about 6 seconds to compute. Similarly, the following computes the total number of $12$-combinations of $24$ items: (It takes about **30 seconds** to execute. You have been warned.)"
   ]
  },
  {
   "cell_type": "code",
   "execution_count": null,
   "id": "26ef2421",
   "metadata": {},
   "outputs": [],
   "source": [
    "%%cpp\n",
    "combination(24, 12).size()"
   ]
  },
  {
   "cell_type": "markdown",
   "id": "2adb35fc",
   "metadata": {},
   "source": [
    "**How to improve the performance?**"
   ]
  },
  {
   "cell_type": "markdown",
   "id": "e47c5d64",
   "metadata": {},
   "source": [
    "If the goal is to compute the number of combinations, we can do it simply by computing the binomial coefficient:"
   ]
  },
  {
   "cell_type": "markdown",
   "id": "0d7d6a5c",
   "metadata": {},
   "source": [
    "::::{prf:proposition}\n",
    ":label: pro:binomial_coefficient\n",
    "\n",
    "The number of $k$-combinations of $n$ items is \n",
    "\n",
    "$$\n",
    "{n \\choose k} := \\frac{n!}{(n-k)!k!},\n",
    "$$\n",
    "\n",
    "which is called the [binomial coefficient](https://en.wikipedia.org/wiki/Binomial_coefficient).\n",
    "\n",
    "::::"
   ]
  },
  {
   "cell_type": "code",
   "execution_count": null,
   "id": "cbe6f47b",
   "metadata": {},
   "outputs": [],
   "source": [
    "%%cpp\n",
    "unsigned long binomial_coefficient(const size_t n, const size_t k) {\n",
    "    return k<=n? (k? binomial_coefficient(n-1, k) + binomial_coefficient(n-1, k-1) : 1uL) : 0uL;\n",
    "}\n",
    "binomial_coefficient(24, 12)"
   ]
  },
  {
   "cell_type": "markdown",
   "id": "4fde9f6c",
   "metadata": {},
   "source": [
    "How to improve the performance of `combination`?"
   ]
  },
  {
   "cell_type": "markdown",
   "id": "e61c528b",
   "metadata": {},
   "source": [
    "Thanks to encapsulation, we can easily improve our code by choosing a suitable object and its associated methods:"
   ]
  },
  {
   "cell_type": "markdown",
   "id": "8f922d1b",
   "metadata": {},
   "source": [
    "::::{code} cpp\n",
    ":label: code_combination2\n",
    ":linenos:\n",
    ":caption: Returning a [`std::list`](https://en.cppreference.com/w/cpp/container/list.html) of $k$-combinations of $n$ items $\\Set{0,1, \\dots, n-1}$.\n",
    "std::function<std::list<vector<size_t> >(const size_t, const size_t)>\n",
    "combination=[&combination](const size_t n, const size_t k) {\n",
    "    list<vector<size_t> > output;\n",
    "    if (k<=n) {\n",
    "        if (k) {\n",
    "            output.splice(output.cend(), combination(n-1, k));\n",
    "            list<vector<size_t> > subset_seq=combination(n-1, k-1);\n",
    "            for (auto &subset : subset_seq) subset.push_back(n-1);\n",
    "            output.splice(output.cend(), subset_seq);\n",
    "        } else output.emplace_back(vector<size_t>());\n",
    "    }\n",
    "    return output;\n",
    "};\n",
    "::::"
   ]
  },
  {
   "cell_type": "code",
   "execution_count": null,
   "id": "8b8b017e",
   "metadata": {},
   "outputs": [],
   "source": [
    "%%cpp\n",
    "std::function<std::list<vector<size_t> >(const size_t, const size_t)>\n",
    "combination=[&combination](const size_t n, const size_t k) {\n",
    "    list<vector<size_t> > output;\n",
    "    if (k<=n) {\n",
    "        if (k) {\n",
    "            output.splice(output.cend(), combination(n-1, k));\n",
    "            list<vector<size_t> > subset_seq=combination(n-1, k-1);\n",
    "            for (auto &subset : subset_seq) subset.push_back(n-1);\n",
    "            output.splice(output.cend(), subset_seq);\n",
    "        } else output.push_back(vector<size_t>());\n",
    "    }\n",
    "    return output;\n",
    "};\n",
    "\n",
    "combination(3, 2)"
   ]
  },
  {
   "cell_type": "markdown",
   "id": "3f13dc0a",
   "metadata": {},
   "source": [
    "The following call now completes in about 1 second instead of 6 seconds:"
   ]
  },
  {
   "cell_type": "code",
   "execution_count": null,
   "id": "c72cdbdf",
   "metadata": {},
   "outputs": [],
   "source": [
    "%%cpp\n",
    "combination(22, 11).size()"
   ]
  },
  {
   "cell_type": "markdown",
   "id": "b7d11c8f",
   "metadata": {},
   "source": [
    "The following call completes in about 3-4 seconds instead of 30 seconds:"
   ]
  },
  {
   "cell_type": "code",
   "execution_count": null,
   "id": "d9bf9a27",
   "metadata": {},
   "outputs": [],
   "source": [
    "%%cpp\n",
    "combination(24, 12).size()"
   ]
  },
  {
   "cell_type": "markdown",
   "id": "17de5a72",
   "metadata": {},
   "source": [
    "That is close to 10 times speed up!"
   ]
  },
  {
   "cell_type": "markdown",
   "id": "72c4e328",
   "metadata": {},
   "source": [
    "In [](#code_combination1), we mainly used the method [`push_back`](https://en.cppreference.com/w/cpp/container/vector/push_back.html) to create each combination and the collection of all combinations. There are two overloads:\n",
    "\n",
    "```cpp\n",
    "void push_back( const T& value );\n",
    "void push_back( T&& value );\n",
    "```\n",
    "\n",
    "Which overload is used and why?"
   ]
  },
  {
   "cell_type": "code",
   "execution_count": null,
   "id": "f5c9fa34",
   "metadata": {},
   "outputs": [],
   "source": [
    "%%ai\n",
    "Explain very briefly what are the differences between the two overloads:\n",
    "--\n",
    "void push_back( const T& value );\n",
    "void push_back( T&& value );"
   ]
  },
  {
   "cell_type": "markdown",
   "id": "9860d214",
   "metadata": {},
   "source": [
    "In [](#code_combination2), we used the [`std::list`](https://en.cppreference.com/w/cpp/container/list.html) object to store the collection of combinations, and its method [`splice`](https://en.cppreference.com/w/cpp/container/list/splice.html) to concatenate lists of combinations:\n",
    "\n",
    "```cpp\n",
    "void splice( const_iterator pos, list& other );\n",
    "void splice( const_iterator pos, list&& other );\n",
    "void splice( const_iterator pos, list& other, const_iterator it );\n",
    "void splice( const_iterator pos, list&& other, const_iterator it );\n",
    "void splice( const_iterator pos, list& other,\n",
    "             const_iterator first, const_iterator last );\n",
    "void splice( const_iterator pos, list&& other,\n",
    "             const_iterator first, const_iterator last );\n",
    "```"
   ]
  },
  {
   "cell_type": "markdown",
   "id": "7cd869a7",
   "metadata": {},
   "source": [
    "Again, which overload is used and why?"
   ]
  },
  {
   "cell_type": "code",
   "execution_count": null,
   "id": "dcd96b51",
   "metadata": {},
   "outputs": [],
   "source": [
    "%%ai\n",
    "Explain very briefly what are the differences between the two overloads:\n",
    "--\n",
    "void splice( const_iterator pos, list& other );\n",
    "void splice( const_iterator pos, list&& other );\n",
    "void splice( const_iterator pos, list& other, const_iterator it );\n",
    "void splice( const_iterator pos, list&& other, const_iterator it );\n",
    "void splice( const_iterator pos, list& other,\n",
    "             const_iterator first, const_iterator last );\n",
    "void splice( const_iterator pos, list&& other,\n",
    "             const_iterator first, const_iterator last );"
   ]
  },
  {
   "cell_type": "markdown",
   "id": "f50a5458",
   "metadata": {},
   "source": [
    "We also used the method [`emplace_back()`](https://en.cppreference.com/w/cpp/container/list/emplace_back.html) in [](#code_combination2) in place of `push_back(vector<size_t>())` in [](#code_combination1) to add an empty combination, without constructing the combination explicitly:\n",
    "\n",
    "```cpp\n",
    "template< class... Args >\n",
    "reference emplace_back( Args&&... args );\n",
    "```"
   ]
  },
  {
   "cell_type": "markdown",
   "id": "53b1b5a5",
   "metadata": {},
   "source": [
    "What does the `...` mean and why is it used?"
   ]
  },
  {
   "cell_type": "code",
   "execution_count": null,
   "id": "379c8708",
   "metadata": {},
   "outputs": [],
   "source": [
    "%%ai\n",
    "Explain very briefly the following syntax:\n",
    "--\n",
    "template< class... Args >\n",
    "reference emplace_back( Args&&... args );"
   ]
  },
  {
   "cell_type": "code",
   "execution_count": null,
   "id": "4f532c86",
   "metadata": {},
   "outputs": [],
   "source": [
    "%%ai\n",
    "Why construct in-place using `emplace_back` instead of `push_back`?"
   ]
  },
  {
   "cell_type": "markdown",
   "id": "a54d2775",
   "metadata": {},
   "source": [
    "While we can reuse code easily with OOP, we need to know how to choose the object, its methods, and their overloads. That demands a deeper understanding of the design of the object and how its resources are managed. We will take a closer look at `std::vector` and `st::list`."
   ]
  },
  {
   "cell_type": "markdown",
   "id": "03d9f321",
   "metadata": {},
   "source": [
    "## Referencing Resources"
   ]
  },
  {
   "cell_type": "markdown",
   "id": "11eef91a",
   "metadata": {},
   "source": [
    "To understand the difference between `&&` and `&`, recall the following code from a previous lecture. What is the value of `a` after executing the following code?"
   ]
  },
  {
   "cell_type": "code",
   "execution_count": null,
   "id": "ea7630e2",
   "metadata": {},
   "outputs": [],
   "source": [
    "%%cpp\n",
    "auto a=1, &b=a;\n",
    "b+=1;\n",
    "a"
   ]
  },
  {
   "cell_type": "markdown",
   "id": "535681f8",
   "metadata": {},
   "source": [
    "To see why `a` is `2` instead of `1`, we can print the addresses of `a` and `b` and show that the addresses are the same:"
   ]
  },
  {
   "cell_type": "code",
   "execution_count": null,
   "id": "2d01c057",
   "metadata": {},
   "outputs": [],
   "source": [
    "%%cpp\n",
    "auto a=1, &b=L(a);\n",
    "L(b)+=1;\n",
    "a"
   ]
  },
  {
   "cell_type": "markdown",
   "id": "f472caf7",
   "metadata": {},
   "source": [
    "`L` is a macro\n",
    "\n",
    "```cpp\n",
    "#define L(x) loc(x, std::string(\"(\")+std::string(type<decltype(x)>())+\") \"+#x)\n",
    "```\n",
    "\n",
    "which expands to a call to the function `loc` in the header file [\"utility.hpp\"](./utility.hpp). The function\n",
    "\n",
    "- decorates a value by printing its address, but\n",
    "- preserves the value so that the behavior of the original code remains unchanged.\n",
    "\n",
    "**How to properly pass an argument by reference to implement the `loc` function?**"
   ]
  },
  {
   "cell_type": "markdown",
   "id": "56a9c45f",
   "metadata": {},
   "source": [
    "### Lvalue Reference"
   ]
  },
  {
   "cell_type": "markdown",
   "id": "754388f4",
   "metadata": {},
   "source": [
    "The following implementation passes the argument and return it by [lvalue reference](https://en.cppreference.com/w/cpp/language/reference.html#Lvalue_references):"
   ]
  },
  {
   "cell_type": "code",
   "execution_count": null,
   "id": "0d094e61",
   "metadata": {},
   "outputs": [],
   "source": [
    "%%cpp\n",
    "auto &loc1(auto &x) {\n",
    "    cout << format(\"@{:p}\\n\", static_cast<void *>(&x));\n",
    "    return x;\n",
    "}"
   ]
  },
  {
   "cell_type": "markdown",
   "id": "507f325e",
   "metadata": {},
   "source": [
    "It appears to work:"
   ]
  },
  {
   "cell_type": "code",
   "execution_count": null,
   "id": "092ec8c1",
   "metadata": {},
   "outputs": [],
   "source": [
    "%%cpp\n",
    "auto a=1, &b=loc1(a);\n",
    "loc1(b)+=1;\n",
    "a"
   ]
  },
  {
   "cell_type": "markdown",
   "id": "35f6cd4b",
   "metadata": {},
   "source": [
    "::::{exercise}\n",
    ":label: ex:loc1:const\n",
    "\n",
    "Why does `loc1` fail for constant arguments?\n",
    "\n",
    "```cpp\n",
    "const auto a=1, &b=loc1(a);\n",
    "loc1(b)\n",
    "```\n",
    "\n",
    ":::{hint}\n",
    "\n",
    "See [const_cast](https://en.cppreference.com/w/cpp/language/const_cast.html).\n",
    "\n",
    ":::\n",
    "\n",
    "::::"
   ]
  },
  {
   "cell_type": "markdown",
   "id": "6ed72549",
   "metadata": {
    "deletable": false,
    "nbgrader": {
     "cell_type": "markdown",
     "checksum": "b147cbaa84d613def5c0ac687975de5b",
     "grade": true,
     "grade_id": "loc1-const",
     "locked": false,
     "points": 0,
     "schema_version": 3,
     "solution": true,
     "task": false
    }
   },
   "source": [
    "YOUR ANSWER HERE"
   ]
  },
  {
   "cell_type": "markdown",
   "id": "9c9393f8",
   "metadata": {},
   "source": [
    "Instead of using `const_cast`, it is safer to implement the following fix:"
   ]
  },
  {
   "cell_type": "code",
   "execution_count": null,
   "id": "74d6ad98",
   "metadata": {},
   "outputs": [],
   "source": [
    "%%cpp\n",
    "auto &loc1(auto &x) {\n",
    "    cout << format(\"@{:p}\\n\", static_cast<const void *>(&x));\n",
    "    return x;\n",
    "}"
   ]
  },
  {
   "cell_type": "markdown",
   "id": "d760efb2",
   "metadata": {},
   "source": [
    "`loc1` now works for constants:"
   ]
  },
  {
   "cell_type": "code",
   "execution_count": null,
   "id": "8e1454e0",
   "metadata": {},
   "outputs": [],
   "source": [
    "%%cpp\n",
    "const auto a=1, &b=loc1(a);\n",
    "loc1(b)"
   ]
  },
  {
   "cell_type": "code",
   "execution_count": null,
   "id": "797f43a6",
   "metadata": {},
   "outputs": [],
   "source": [
    "%%ai\n",
    "Explain briefly when it is essential to use const_cast instead of static_cast\n",
    "for constant pointers."
   ]
  },
  {
   "cell_type": "markdown",
   "id": "f404ea2d",
   "metadata": {},
   "source": [
    "Consider the following direct initialization:"
   ]
  },
  {
   "cell_type": "code",
   "execution_count": null,
   "id": "77fb24b9",
   "metadata": {},
   "outputs": [],
   "source": [
    "%%cpp\n",
    "auto u(vector<int>{1, 2, 3});"
   ]
  },
  {
   "cell_type": "markdown",
   "id": "17ff7a77",
   "metadata": {},
   "source": [
    "**Does `u` reuse the memory allocated to the rvalue `vector<int>{1, 2, 3}`?**"
   ]
  },
  {
   "cell_type": "markdown",
   "id": "5e689a58",
   "metadata": {},
   "source": [
    "::::{exercise}\n",
    ":label: ex:loc1\n",
    "\n",
    "Why using `loc1` as follows leads to an error?\n",
    "\n",
    "```cpp\n",
    "auto u(loc1(vector<int>{1, 2, 3}));\n",
    "loc1(u);\n",
    "```\n",
    "\n",
    "As the following program shows, `loc1` appears to work for C-string but fails for the compound literal for `char`. Why?\n",
    "\n",
    "::::"
   ]
  },
  {
   "cell_type": "code",
   "execution_count": null,
   "id": "b6ace7e2",
   "metadata": {},
   "outputs": [],
   "source": [
    "%%cpp\n",
    "loc1(\"a\")        // works?!"
   ]
  },
  {
   "cell_type": "code",
   "execution_count": null,
   "id": "71645cbe",
   "metadata": {},
   "outputs": [],
   "source": [
    "%%cpp\n",
    "// loc1((char[]){'a');  // fails: expects an lvalue for 1st argument\n",
    "// loc1(static_cast<char * const>((char[]){'a', 0})); // making it constant also fail\n",
    "(char[]){'a', 0}            // isn't it just \"a\"?"
   ]
  },
  {
   "cell_type": "markdown",
   "id": "b255d774",
   "metadata": {
    "deletable": false,
    "nbgrader": {
     "cell_type": "markdown",
     "checksum": "504cc9118d7a58e7f7a595afad643f0f",
     "grade": true,
     "grade_id": "loc1",
     "locked": false,
     "points": 0,
     "schema_version": 3,
     "solution": true,
     "task": false
    }
   },
   "source": [
    "YOUR ANSWER HERE"
   ]
  },
  {
   "cell_type": "markdown",
   "id": "78b68abf",
   "metadata": {},
   "source": [
    "A potential fix is to add `const` qualifier to the parameter `x`:"
   ]
  },
  {
   "cell_type": "code",
   "execution_count": null,
   "id": "7e681ed5",
   "metadata": {},
   "outputs": [],
   "source": [
    "%%cpp\n",
    "auto &loc2(const auto &x) {\n",
    "    cout << format(\"@{:p}\\n\", static_cast<const void *>(&x));\n",
    "    return x;\n",
    "}"
   ]
  },
  {
   "cell_type": "code",
   "execution_count": null,
   "id": "f57134cf",
   "metadata": {},
   "outputs": [],
   "source": [
    "%%cpp\n",
    "auto u(loc2(vector<int>{1, 2, 3}));\n",
    "loc2(u)"
   ]
  },
  {
   "cell_type": "markdown",
   "id": "735a0837",
   "metadata": {},
   "source": [
    "::::{exercise}\n",
    ":label: ex:loc2\n",
    "\n",
    "Why does the following code fail?\n",
    "\n",
    "```cpp\n",
    "auto u(loc2(vector<int>{1, 2, 3}));\n",
    "loc2(u).push_back(4);\n",
    "```\n",
    "\n",
    "::::"
   ]
  },
  {
   "cell_type": "markdown",
   "id": "451fdf26",
   "metadata": {
    "deletable": false,
    "nbgrader": {
     "cell_type": "markdown",
     "checksum": "e9811f73b84acc0111cf53a856da5671",
     "grade": true,
     "grade_id": "loc2",
     "locked": false,
     "points": 0,
     "schema_version": 3,
     "solution": true,
     "task": false
    }
   },
   "source": [
    "YOUR ANSWER HERE"
   ]
  },
  {
   "cell_type": "markdown",
   "id": "249d9795",
   "metadata": {},
   "source": [
    "### Rvalue Reference"
   ]
  },
  {
   "cell_type": "markdown",
   "id": "b204f55d",
   "metadata": {},
   "source": [
    "A potential fix is to pass the argument by [rvalue reference](https://en.cppreference.com/w/cpp/language/reference.html#Rvalue_references) using `&&` instead of `&`:"
   ]
  },
  {
   "cell_type": "code",
   "execution_count": null,
   "id": "e16f8899",
   "metadata": {},
   "outputs": [],
   "source": [
    "%%cpp\n",
    "auto &loc3(auto &&x) {\n",
    "    cout << format(\"@{:p}\\n\", static_cast<const void *>(&x));\n",
    "    return x;\n",
    "}"
   ]
  },
  {
   "cell_type": "code",
   "execution_count": null,
   "id": "391ed2cc",
   "metadata": {},
   "outputs": [],
   "source": [
    "%%cpp\n",
    "auto u(loc3(vector<int>{1, 2, 3}));\n",
    "loc3(u).push_back(4);\n",
    "u"
   ]
  },
  {
   "cell_type": "markdown",
   "id": "317b63ab",
   "metadata": {},
   "source": [
    "It seems to work now, right?"
   ]
  },
  {
   "cell_type": "code",
   "execution_count": null,
   "id": "4494a1f1",
   "metadata": {},
   "outputs": [],
   "source": [
    "%%cpp\n",
    "loc3(1) = 0;   // works?!\n",
    "1              // 1 is now 0?!"
   ]
  },
  {
   "cell_type": "markdown",
   "id": "41a13eb2",
   "metadata": {},
   "source": [
    "::::{caution}  It doesn't work. Why?\n",
    ":class: dropdown\n",
    "\n",
    "`loc3` returns an lvalue instead, which is assignable even for simple integer type. In other words, `loc3` changed the behavior of the original code.\n",
    "\n",
    "::::"
   ]
  },
  {
   "cell_type": "markdown",
   "id": "97d2b6a6",
   "metadata": {},
   "source": [
    "::::{exercise}\n",
    ":label: ex:rvalue_ref1\n",
    "Why does the following code not change `1` to `2`?\n",
    "\n",
    "::::"
   ]
  },
  {
   "cell_type": "code",
   "execution_count": null,
   "id": "8b88bf91",
   "metadata": {},
   "outputs": [],
   "source": [
    "%%cpp\n",
    "[](int &&x) {x=0;}(1);  // change 1 to 0\n",
    "auto x=1                // x is 0?"
   ]
  },
  {
   "cell_type": "markdown",
   "id": "a5d6031f",
   "metadata": {
    "deletable": false,
    "nbgrader": {
     "cell_type": "markdown",
     "checksum": "b8a9f7a7f68efea43e8fb4b801463b90",
     "grade": true,
     "grade_id": "rvalue_ref1",
     "locked": false,
     "points": 0,
     "schema_version": 3,
     "solution": true,
     "task": false
    }
   },
   "source": [
    "YOUR ANSWER HERE"
   ]
  },
  {
   "cell_type": "markdown",
   "id": "583effff",
   "metadata": {},
   "source": [
    "How about returning the output by rvalue reference as well?"
   ]
  },
  {
   "cell_type": "code",
   "execution_count": null,
   "id": "4f569071",
   "metadata": {},
   "outputs": [],
   "source": [
    "%%cpp\n",
    "template <class T>\n",
    "T &&loc4(T &&x) {\n",
    "    cout << format(\"@{:p}\\n\", static_cast<const void *>(&x));\n",
    "    return x;\n",
    "}"
   ]
  },
  {
   "cell_type": "markdown",
   "id": "6cfc6c9f",
   "metadata": {},
   "source": [
    "::::{caution}\n",
    "\n",
    "We used `template` instead of `auto` above because `auto &&loc4(auto &&x) { ... }` does not work for the ROOT kernel, similar to [this issue](https://github.com/jupyter-xeus/xeus-cling/issues/40).\n",
    "\n",
    "::::"
   ]
  },
  {
   "cell_type": "markdown",
   "id": "d0f64847",
   "metadata": {},
   "source": [
    "::::{exercise}\n",
    ":label: ex:loc4\n",
    "\n",
    "Why does the following code fail?\n",
    "\n",
    "```cpp\n",
    "auto u(loc4(vector<int>{1, 2, 3}));\n",
    "```\n",
    "\n",
    "::::"
   ]
  },
  {
   "cell_type": "markdown",
   "id": "a933f47c",
   "metadata": {
    "deletable": false,
    "nbgrader": {
     "cell_type": "markdown",
     "checksum": "b77f90ed184de31780cdebee35e5332b",
     "grade": true,
     "grade_id": "loc4",
     "locked": false,
     "points": 0,
     "schema_version": 3,
     "solution": true,
     "task": false
    }
   },
   "source": [
    "YOUR ANSWER HERE"
   ]
  },
  {
   "cell_type": "markdown",
   "id": "d50011b0",
   "metadata": {},
   "source": [
    "A potential fix is to cast `x` to an rvalue reference using [`std::move(x)`](https://en.cppreference.com/w/cpp/utility/move.html):"
   ]
  },
  {
   "cell_type": "code",
   "execution_count": null,
   "id": "f9c33433",
   "metadata": {},
   "outputs": [],
   "source": [
    "%%cpp\n",
    "template <class T>\n",
    "T &&loc5(T &&x) {\n",
    "    cout << format(\"@{:p}\\n\", static_cast<const void *>(&x));\n",
    "    return std::move(x);\n",
    "}"
   ]
  },
  {
   "cell_type": "markdown",
   "id": "4e95c1f8",
   "metadata": {},
   "source": [
    "It appears to work now:"
   ]
  },
  {
   "cell_type": "code",
   "execution_count": null,
   "id": "04cca486",
   "metadata": {},
   "outputs": [],
   "source": [
    "%%cpp\n",
    "auto u(loc5(vector<int>{1, 2, 3}));\n",
    "// loc5(1) = 0;   // fails: expression is not assignable"
   ]
  },
  {
   "cell_type": "markdown",
   "id": "3c9ac609",
   "metadata": {},
   "source": [
    "Does it really work? `loc5` fails to handle lvalue:\n",
    "\n",
    "```cpp\n",
    "auto a=1;\n",
    "loc5(a);\n",
    "```"
   ]
  },
  {
   "cell_type": "markdown",
   "id": "df835c4c",
   "metadata": {},
   "source": [
    "The error message is:\n",
    "\n",
    "::::{code}\n",
    ":label: err_loc5\n",
    ":linenos:\n",
    ":emphasize-lines: 2\n",
    "error: non-const lvalue reference to type 'int' cannot bind to a temporary of type 'typename\n",
    "std::remove_reference<int &>::type' (aka 'int')\n",
    "    return std::move(x);\n",
    "           ^~~~~~~~~~~~\n",
    "::::"
   ]
  },
  {
   "cell_type": "markdown",
   "id": "31265312",
   "metadata": {},
   "source": [
    "### Universal Reference"
   ]
  },
  {
   "cell_type": "markdown",
   "id": "4ab08f7a",
   "metadata": {},
   "source": [
    "A potential fix is to use `static_cast` instead of `std::move`:"
   ]
  },
  {
   "cell_type": "code",
   "execution_count": null,
   "id": "1826df4e",
   "metadata": {},
   "outputs": [],
   "source": [
    "%%cpp\n",
    "template <class T>\n",
    "T &&loc6(T &&x) {\n",
    "    cout << format(\"@{:p}\\n\", static_cast<const void *>(&x));\n",
    "    return static_cast<T &&>(x);\n",
    "}"
   ]
  },
  {
   "cell_type": "code",
   "execution_count": null,
   "id": "141a1b23",
   "metadata": {},
   "outputs": [],
   "source": [
    "%%cpp\n",
    "auto u(loc6(vector<int>{1, 2, 3}));\n",
    "loc6(u)"
   ]
  },
  {
   "cell_type": "markdown",
   "id": "c14b50a9",
   "metadata": {},
   "source": [
    "But how can that make a difference? According to [the documentation](https://en.cppreference.com/w/cpp/utility/move.html):\n",
    "> It (`std::move`) is exactly equivalent to a static_cast to an rvalue reference type."
   ]
  },
  {
   "cell_type": "markdown",
   "id": "a5d1f74f",
   "metadata": {},
   "source": [
    "The same fix does not work below:"
   ]
  },
  {
   "cell_type": "code",
   "execution_count": null,
   "id": "e414b47e",
   "metadata": {},
   "outputs": [],
   "source": [
    "%%cpp\n",
    "int a=1;\n",
    "[](int &&b) { return static_cast<int &&>(b); }\n",
    "// (a);  // fails: expects an rvalue for 1st argument"
   ]
  },
  {
   "cell_type": "markdown",
   "id": "fd8f5986",
   "metadata": {},
   "source": [
    "An important clue comes from the [error message of `loc5(a)`](#err_loc5):\n",
    "\n",
    "```cpp\n",
    "std::remove_reference<int &>::type' (aka 'int')\n",
    "```\n",
    "\n",
    "The return type from `loc5` is an lvalue, not an rvalue!"
   ]
  },
  {
   "cell_type": "markdown",
   "id": "4f83f242",
   "metadata": {},
   "source": [
    "::::{caution} Universal reference\n",
    ":class: dropdown\n",
    "\n",
    "For parameters of function templates, `&&` is a [forwarding/universal reference](https://en.cppreference.com/w/cpp/language/reference.html#Forwarding_references) instead of an rvalue reference. It simply forward the argument, preserving its value category:\n",
    "\n",
    "- For the code `loc5(a);`, `a` is passed by lvalue reference, i.e., `T &&` becomes `int &`, which is also the return type by the function declaration `T &&loc5(T &&x)`. The return lvalue reference is non-const and therefore cannot bind to a temporary `std::move(x)`.\n",
    "- `loc6(a);` works because `static_cast<T &&>(x)` instantiates to `static_cast<int &>(x)`, which is an lvalue reference instead of a temporary!\n",
    "\n",
    "::::"
   ]
  },
  {
   "cell_type": "markdown",
   "id": "c015bb56",
   "metadata": {},
   "source": [
    "We can use [`std::forward<T>`](https://en.cppreference.com/w/cpp/utility/forward.html) instead of `static_cast<T &&>` to make it less confusing:\n",
    "\n",
    "::::{code} cpp\n",
    ":label: code_loc\n",
    ":caption: The implementation of `loc` in [\"utility.hpp\"](./utility.hpp).\n",
    "/**\n",
    " * @brief Logs the memory address of a variable along with an optional label.\n",
    " * \n",
    " * This function is useful for educational purposes, especially when tracking\n",
    " * object lifetimes, locations in memory, or verifying move semantics.\n",
    " * \n",
    " * @tparam T Type of the variable (supports universal references).\n",
    " * @param x The variable to log.\n",
    " * @param label Optional label to identify the variable in the output.\n",
    " * @return T&& Perfectly forwarded variable.\n",
    " */\n",
    "template <class T>\n",
    "T &&loc(T &&x, const string &label=\"\") {\n",
    "    cout << format(\"{} @{:p}\\n\",\n",
    "        label,\n",
    "        static_cast<const void*>(&x));\n",
    "    return std::forward<T>(x);\n",
    "}\n",
    "::::"
   ]
  },
  {
   "cell_type": "code",
   "execution_count": null,
   "id": "b6f6db01",
   "metadata": {},
   "outputs": [],
   "source": [
    "%%cpp\n",
    "auto u(loc(vector<int>{1, 2, 3}));\n",
    "loc(u)"
   ]
  },
  {
   "cell_type": "markdown",
   "id": "471d4b8b",
   "metadata": {},
   "source": [
    "**Back to our original endeavor, does `u` reuse the memory allocated to the rvalue `vector<int>{1, 2, 3}`?**"
   ]
  },
  {
   "cell_type": "markdown",
   "id": "43187404",
   "metadata": {},
   "source": [
    "It seems that the rvalue `vector<int>{1, 2, 3}` occupies a different memory location than the lvalue `u` does. What about copy initializations?"
   ]
  },
  {
   "cell_type": "code",
   "execution_count": null,
   "id": "31c714e8",
   "metadata": {},
   "outputs": [],
   "source": [
    "%%cpp\n",
    "auto u=LB((vector<int>{1, 2, 3}));\n",
    "auto v=LB(u);\n",
    "LB(v)"
   ]
  },
  {
   "cell_type": "code",
   "execution_count": null,
   "id": "0c23386c",
   "metadata": {},
   "outputs": [],
   "source": [
    "%%ai\n",
    "Explain very briefly how direct initialization in C++ is different from\n",
    "copy initialization and list initialization?"
   ]
  },
  {
   "cell_type": "markdown",
   "id": "49629b65",
   "metadata": {},
   "source": [
    "We are now ready to dive into how objects are constructed using different constructors and initializations."
   ]
  },
  {
   "cell_type": "markdown",
   "id": "3c92dee7",
   "metadata": {},
   "source": [
    "## Vector Construction"
   ]
  },
  {
   "cell_type": "markdown",
   "id": "f58d1efe",
   "metadata": {},
   "source": [
    "There many [constructors](https://en.cppreference.com/w/cpp/container/vector/vector.html) available for constructing vectors. Unlike other methods, constructors have no names but can be called in various ways to create rvalues or to initialize variables."
   ]
  },
  {
   "cell_type": "markdown",
   "id": "e9547706",
   "metadata": {},
   "source": [
    "### Converting Constructors"
   ]
  },
  {
   "cell_type": "markdown",
   "id": "05add73b",
   "metadata": {},
   "source": [
    "Constructors that take a single argument and is not marked as [explicit](https://en.cppreference.com/w/cpp/language/explicit.html) are called [converting constructors](https://en.cppreference.com/w/cpp/language/converting_constructor.html). These constructors can be used for implicit conversions or copy initialization."
   ]
  },
  {
   "cell_type": "markdown",
   "id": "a4c6b041",
   "metadata": {},
   "source": [
    "#### Initializer‑List Constructor"
   ]
  },
  {
   "cell_type": "markdown",
   "id": "6161e101",
   "metadata": {},
   "source": [
    "```cpp\n",
    "vector( std::initializer_list<T> init,\n",
    "        const Allocator& alloc = Allocator() );\n",
    "```\n",
    "adds elements from a (braced) [initializer list](https://en.cppreference.com/w/cpp/utility/initializer_list/initializer_list.html)."
   ]
  },
  {
   "cell_type": "code",
   "execution_count": null,
   "id": "12f4fedd",
   "metadata": {},
   "outputs": [],
   "source": [
    "%%cpp\n",
    "vector<size_t> {0, 1, 2}     // vector constructed with braced initializer list"
   ]
  },
  {
   "cell_type": "code",
   "execution_count": null,
   "id": "8db282d4",
   "metadata": {},
   "outputs": [],
   "source": [
    "%%cpp\n",
    "vector<size_t> u {0, 1, 2}   // list initialization"
   ]
  },
  {
   "cell_type": "code",
   "execution_count": null,
   "id": "5041349b",
   "metadata": {},
   "outputs": [],
   "source": [
    "%%cpp\n",
    "vector<size_t> u({0, 1, 2})  // direct initialization with braced initializer list"
   ]
  },
  {
   "cell_type": "code",
   "execution_count": null,
   "id": "c7e7e9c8",
   "metadata": {},
   "outputs": [],
   "source": [
    "%%cpp\n",
    "vector<size_t> u={0, 1, 2}   // copy-list initialization"
   ]
  },
  {
   "cell_type": "markdown",
   "id": "88884c5f",
   "metadata": {},
   "source": [
    "To use an initializer list explicitly:"
   ]
  },
  {
   "cell_type": "code",
   "execution_count": null,
   "id": "9a79db49",
   "metadata": {},
   "outputs": [],
   "source": [
    "%%cpp\n",
    "initializer_list<size_t> ilist {0, 1, 2};\n",
    "(vector<size_t>(ilist))  // vector constructed with initializer list"
   ]
  },
  {
   "cell_type": "code",
   "execution_count": null,
   "id": "c7fee5e2",
   "metadata": {},
   "outputs": [],
   "source": [
    "%%cpp\n",
    "vector<size_t> u(init_list)  // direct initialization with initializer list"
   ]
  },
  {
   "cell_type": "code",
   "execution_count": null,
   "id": "7f66e20b",
   "metadata": {},
   "outputs": [],
   "source": [
    "%%ai\n",
    "Explain very briefly how is copy-list initialization different from\n",
    "list initialization for `std::vector`."
   ]
  },
  {
   "cell_type": "markdown",
   "id": "d72358c0",
   "metadata": {},
   "source": [
    "#### Move Constructor"
   ]
  },
  {
   "cell_type": "markdown",
   "id": "c47b6e26",
   "metadata": {},
   "source": [
    "```cpp\n",
    "vector( vector&& other );\n",
    "```\n",
    "moves elements from another vector:"
   ]
  },
  {
   "cell_type": "code",
   "execution_count": null,
   "id": "1291ba3d",
   "metadata": {},
   "outputs": [],
   "source": [
    "%%cpp\n",
    "vector<int>(vector<int>{1, 2, 3}) // vector constructed with elements moved from other"
   ]
  },
  {
   "cell_type": "code",
   "execution_count": null,
   "id": "f0141d5c",
   "metadata": {},
   "outputs": [],
   "source": [
    "%%cpp\n",
    "auto u(vector<int>{1, 2, 3})      // direct initialization"
   ]
  },
  {
   "cell_type": "code",
   "execution_count": null,
   "id": "9053b97c",
   "metadata": {},
   "outputs": [],
   "source": [
    "%%cpp\n",
    "auto u=vector<int>{1, 2, 3}       // copy initialization"
   ]
  },
  {
   "cell_type": "markdown",
   "id": "55408bad",
   "metadata": {},
   "source": [
    "To see that elements are not duplicated:"
   ]
  },
  {
   "cell_type": "code",
   "execution_count": null,
   "id": "104499da",
   "metadata": {},
   "outputs": [],
   "source": [
    "%%cpp\n",
    "auto u(LB(L((vector<int>{1, 2, 3}))));\n",
    "L(LB(u))"
   ]
  },
  {
   "cell_type": "markdown",
   "id": "ca2ac42d",
   "metadata": {},
   "source": [
    "Even though the lvalue `u` and rvalue `vector<int>{1, 2, 3}` have different memory locations, they begin storing their elements at the same location, i.e., the lvalue reuses the memory allocated to the rvalue."
   ]
  },
  {
   "cell_type": "markdown",
   "id": "11433d96",
   "metadata": {},
   "source": [
    ":::::{seealso} What is `LB`?\n",
    "\n",
    "`LB` is a macro defined as\n",
    "\n",
    "```cpp\n",
    "#define LB(x) loc_begin(x, std::string(\"(\")+std::string(type<decltype(x)>())+\") \"+#x)\n",
    "```\n",
    "\n",
    "which expands to a call to `loc_begin` in [\"utility.hpp\"](./utility.hpp) to locate the beginning of the vector:\n",
    "\n",
    "::::{code} cpp\n",
    "// Overload for containers with .cbegin()\n",
    "template <class T>\n",
    "std::enable_if_t<has_begin<T>::value, T&&>\n",
    "&&loc_begin(T &&x, const string &label=\"\") {\n",
    "    cout << format(\"{} begin@{:p}\\n\", label, static_cast<const void*>(&*(x.cbegin())));\n",
    "    return std::forward<T>(x);\n",
    "}\n",
    "::::\n",
    ":::::"
   ]
  },
  {
   "cell_type": "markdown",
   "id": "478f78da",
   "metadata": {},
   "source": [
    "To see that the elements are moved:"
   ]
  },
  {
   "cell_type": "code",
   "execution_count": null,
   "id": "3d778621",
   "metadata": {},
   "outputs": [],
   "source": [
    "%%cpp\n",
    "vector<size_t> u {1,2,3}, v(std::move(LB(u))); // move elements of `u` to `v`\n",
    "LB(u).empty()? LB(v): throw runtime_error(\"Elements of `u` should be moved!\")"
   ]
  },
  {
   "cell_type": "markdown",
   "id": "77f088dc",
   "metadata": {},
   "source": [
    "`std::move` casts `u` into an rvalue, which is then passed to the move constructor: \n",
    "- The move constructor steals the resources from `u`, making it empty and\n",
    "- the address of its first element becomes `nullptr`."
   ]
  },
  {
   "cell_type": "markdown",
   "id": "865dad30",
   "metadata": {},
   "source": [
    "#### Copy Constructor"
   ]
  },
  {
   "cell_type": "markdown",
   "id": "a40b9784",
   "metadata": {},
   "source": [
    "```cpp\n",
    "vector( const vector& other );\n",
    "```\n",
    "can be used to copy elements from another vector:"
   ]
  },
  {
   "cell_type": "code",
   "execution_count": null,
   "id": "1b13cd07",
   "metadata": {},
   "outputs": [],
   "source": [
    "%%cpp\n",
    "vector<size_t> u {1,2,3};\n",
    "(vector<size_t>(u))  // vector constructed with elements copied from other"
   ]
  },
  {
   "cell_type": "code",
   "execution_count": null,
   "id": "e190b573",
   "metadata": {},
   "outputs": [],
   "source": [
    "%%cpp\n",
    "auto v(u)  // direct initialization"
   ]
  },
  {
   "cell_type": "code",
   "execution_count": null,
   "id": "e34dced2",
   "metadata": {},
   "outputs": [],
   "source": [
    "%%cpp\n",
    "auto v=u  // copy initialization"
   ]
  },
  {
   "cell_type": "markdown",
   "id": "f3415ae1",
   "metadata": {},
   "source": [
    "To see that the elements are duplicated:"
   ]
  },
  {
   "cell_type": "code",
   "execution_count": null,
   "id": "1d0cbff1",
   "metadata": {},
   "outputs": [],
   "source": [
    "%%cpp\n",
    "LB(u), LB(v)"
   ]
  },
  {
   "cell_type": "markdown",
   "id": "43b2d6d9",
   "metadata": {},
   "source": [
    "`v` is equal to `u` but it does not begin at the same location as `u`."
   ]
  },
  {
   "cell_type": "markdown",
   "id": "84eb6cbe",
   "metadata": {},
   "source": [
    "::::{seealso} Object copying\n",
    "\n",
    "- `v` is said to be a [deep copy](https://en.wikipedia.org/wiki/Object_copying#Deep_copy) of `u` in the sense that `v` is a new container whose elements are copies of those of `u`.\n",
    "- In contrast, a [shallow copy](https://en.wikipedia.org/wiki/Object_copying#Shallow_copy) reuses the elements of the original.\n",
    "\n",
    "::::"
   ]
  },
  {
   "cell_type": "markdown",
   "id": "338081ca",
   "metadata": {},
   "source": [
    "Shallow copy is prone to mutability bug. For instance:"
   ]
  },
  {
   "cell_type": "markdown",
   "id": "1facaffa",
   "metadata": {},
   "source": [
    "::::{exercise}\n",
    ":label: ex:deep_copy\n",
    "\n",
    "Explain why `s` at the end of the following code is not `\"aba\"`?\n",
    "\n",
    ":::{hint}\n",
    "\n",
    "The first call `LB(s)` uses the overload\n",
    "\n",
    "```cpp\n",
    "// Overload for C-style arrays\n",
    "template <class T, size_t N>\n",
    "T (&loc_begin(T (&x)[N], const string &label = \"\"))[N] {\n",
    "    cout << format(\"{} begin@{:p}\\n\", label, static_cast<const void*>(&x[0]));\n",
    "    return x;\n",
    "}\n",
    "```\n",
    "\n",
    "but the second call `LB(t)` uses the overload\n",
    "\n",
    "```cpp\n",
    "// For pointers or decayed arrays\n",
    "template <class T>\n",
    "typename std::enable_if<std::is_pointer<T>::value, T>::type\n",
    "loc_begin(T x, const string& label = \"\") {\n",
    "    cout << format(\"{} begin@{:p}\\n\", label, static_cast<const void*>(x));\n",
    "    return x;\n",
    "}\n",
    "```\n",
    "\n",
    ":::\n",
    "\n",
    "::::"
   ]
  },
  {
   "cell_type": "code",
   "execution_count": null,
   "id": "59f57035",
   "metadata": {},
   "outputs": [],
   "source": [
    "%%cpp\n",
    "char s[]=\"aba\";\n",
    "auto t(LB(s));\n",
    "LB(t)[1]='v';\n",
    "s // aba?"
   ]
  },
  {
   "cell_type": "markdown",
   "id": "3d38b683",
   "metadata": {
    "deletable": false,
    "nbgrader": {
     "cell_type": "markdown",
     "checksum": "10725bd3aa3cca4ea01c596c47961e61",
     "grade": true,
     "grade_id": "deep_copy",
     "locked": false,
     "points": 0,
     "schema_version": 3,
     "solution": true,
     "task": false
    }
   },
   "source": [
    "YOUR ANSWER HERE"
   ]
  },
  {
   "cell_type": "markdown",
   "id": "bb3b33f7",
   "metadata": {},
   "source": [
    "::::{exercise}\n",
    ":label: ex:constructors1\n",
    "\n",
    "Explain all the constructors involved in the following declaration.\n",
    "\n",
    "::::"
   ]
  },
  {
   "cell_type": "code",
   "execution_count": null,
   "id": "3579e5b5",
   "metadata": {},
   "outputs": [],
   "source": [
    "%%cpp\n",
    "auto u=vector<vector<size_t> > {{1}, {2, 3}}, v=u;\n",
    "v"
   ]
  },
  {
   "cell_type": "markdown",
   "id": "67fc5fb8",
   "metadata": {
    "deletable": false,
    "nbgrader": {
     "cell_type": "markdown",
     "checksum": "f5012ff269f33b34f3b525396b051061",
     "grade": true,
     "grade_id": "constructor1",
     "locked": false,
     "points": 0,
     "schema_version": 3,
     "solution": true,
     "task": false
    }
   },
   "source": [
    "YOUR ANSWER HERE"
   ]
  },
  {
   "cell_type": "markdown",
   "id": "70e96a43",
   "metadata": {},
   "source": [
    "### Explicit Constructors"
   ]
  },
  {
   "cell_type": "markdown",
   "id": "4c0de06f",
   "metadata": {},
   "source": [
    "#### Default Constructor"
   ]
  },
  {
   "cell_type": "markdown",
   "id": "7c9c8705",
   "metadata": {},
   "source": [
    "```cpp\n",
    "vector() noexcept(noexcept(Allocator())) : vector(Allocator()) {}\n",
    "```\n",
    "takes no argument and returns an empty vector:"
   ]
  },
  {
   "cell_type": "code",
   "execution_count": null,
   "id": "5a0197b6",
   "metadata": {},
   "outputs": [],
   "source": [
    "%%cpp\n",
    "vector<size_t>()"
   ]
  },
  {
   "cell_type": "code",
   "execution_count": null,
   "id": "900837aa",
   "metadata": {},
   "outputs": [],
   "source": [
    "%%cpp\n",
    "vector<size_t> u"
   ]
  },
  {
   "cell_type": "markdown",
   "id": "def98968",
   "metadata": {},
   "source": [
    ":::{caution}\n",
    "\n",
    "`vector<size_t> u()` is also incorrect as it can be mistaken to be a function declaration instead of a direct initialization with the default initializer.\n",
    "\n",
    ":::"
   ]
  },
  {
   "cell_type": "code",
   "execution_count": null,
   "id": "fcda01c9",
   "metadata": {},
   "outputs": [],
   "source": [
    "%%ai\n",
    "Explain brielfy the motivation of `noexcept` in the constructor:\n",
    "`vector() noexcept(noexcept(Allocator())) : vector(Allocator()) \\{\\}`"
   ]
  },
  {
   "cell_type": "markdown",
   "id": "31f10b4f",
   "metadata": {},
   "source": [
    "There are constructors with more than one arguments or marked as explicit, and therefore, cannot be used in copy initialization nor implicit conversion."
   ]
  },
  {
   "cell_type": "markdown",
   "id": "54c7ff0d",
   "metadata": {},
   "source": [
    "#### Fill Constructors"
   ]
  },
  {
   "cell_type": "markdown",
   "id": "610403bb",
   "metadata": {},
   "source": [
    ":::{code} cpp\n",
    ":linenos:\n",
    "explicit vector( size_type count, const Allocator& alloc = Allocator() );\n",
    "vector( size_type count, const T& value, const Allocator& alloc = Allocator() );\n",
    "::: \n",
    "fill a vector with `n` copies of `value`, if available, and `0` otherwise:"
   ]
  },
  {
   "cell_type": "code",
   "execution_count": null,
   "id": "7c967edb",
   "metadata": {},
   "outputs": [],
   "source": [
    "%%cpp\n",
    "vector<size_t>(2)           // vector constructed by the fill constructor"
   ]
  },
  {
   "cell_type": "code",
   "execution_count": null,
   "id": "129b2e6c",
   "metadata": {},
   "outputs": [],
   "source": [
    "%%cpp\n",
    "vector<size_t> u(3, 4)      // direct initialization"
   ]
  },
  {
   "cell_type": "markdown",
   "id": "0f5c0e8e",
   "metadata": {},
   "source": [
    "::::{exercise} \n",
    ":label: ex:constructor2\n",
    "\n",
    "Why `vector<size_t> v=2;` does not create a vector `v` same as `u`?\n",
    "\n",
    "::::"
   ]
  },
  {
   "cell_type": "markdown",
   "id": "f55610a3",
   "metadata": {
    "deletable": false,
    "nbgrader": {
     "cell_type": "markdown",
     "checksum": "caef38069dd392982ddbe67557509c6b",
     "grade": true,
     "grade_id": "constructor2",
     "locked": false,
     "points": 0,
     "schema_version": 3,
     "solution": true,
     "task": false
    }
   },
   "source": [
    "YOUR ANSWER HERE"
   ]
  },
  {
   "cell_type": "markdown",
   "id": "aa8fb2ed",
   "metadata": {},
   "source": [
    "#### Range Constructor"
   ]
  },
  {
   "cell_type": "markdown",
   "id": "5374a819",
   "metadata": {},
   "source": [
    "```cpp\n",
    "template<class InputIt> vector(InputIt first, InputIt last, const Allocator& a = Allocator())\n",
    "```\n",
    "copies elements within a range from the position `first` up to but excluding `last`:"
   ]
  },
  {
   "cell_type": "code",
   "execution_count": null,
   "id": "667b3ede",
   "metadata": {},
   "outputs": [],
   "source": [
    "%%cpp\n",
    "vector<size_t> u {0, 1, 2, 3};\n",
    "vector<size_t>(u.cbegin(), u.cend()-1)   // vector constructed by coping elements of u except for the last"
   ]
  },
  {
   "cell_type": "code",
   "execution_count": null,
   "id": "0994832d",
   "metadata": {},
   "outputs": [],
   "source": [
    "%%cpp\n",
    "vector<size_t> v(u.cbegin(), u.cend()-2) // direct initialization"
   ]
  },
  {
   "cell_type": "markdown",
   "id": "b520803f",
   "metadata": {},
   "source": [
    "To show that the elements are copied:"
   ]
  },
  {
   "cell_type": "code",
   "execution_count": null,
   "id": "baf0aca1",
   "metadata": {},
   "outputs": [],
   "source": [
    "%%cpp\n",
    "L(u), L(v)"
   ]
  },
  {
   "cell_type": "markdown",
   "id": "138e6056",
   "metadata": {},
   "source": [
    "## Vector Contraction"
   ]
  },
  {
   "cell_type": "markdown",
   "id": "46b3a81d",
   "metadata": {},
   "source": [
    "We can clear all elements of a vector using the [`clear`](https://en.cppreference.com/w/cpp/container/vector/clear.html) method:\n",
    "```cpp\n",
    "void clear();\n",
    "```"
   ]
  },
  {
   "cell_type": "code",
   "execution_count": null,
   "id": "e2b64ed5",
   "metadata": {},
   "outputs": [],
   "source": [
    "%%cpp\n",
    "vector<size_t> v {1, 2, 3};\n",
    "v.clear();\n",
    "v"
   ]
  },
  {
   "cell_type": "markdown",
   "id": "e8aef832",
   "metadata": {},
   "source": [
    "To erase only some of the elements, use the [`erase`](https://en.cppreference.com/w/cpp/container/vector/erase.html) method:\n",
    "\n",
    "::::{code} cpp\n",
    ":linenos:\n",
    "iterator erase( const_iterator pos );\n",
    "iterator erase( const_iterator first, const_iterator last );\n",
    "::::\n",
    "\n",
    "which returns an iterator pointing to the element that follows the last removed element, or `end()` if the last element was erased."
   ]
  },
  {
   "cell_type": "code",
   "execution_count": null,
   "id": "6f31b15e",
   "metadata": {},
   "outputs": [],
   "source": [
    "%%cpp\n",
    "vector<size_t> v {1, 2, 3};\n",
    "auto it=v.erase(v.cbegin()+1);\n",
    "cout << format(\"Element before {} was removed.\\n\", *it);\n",
    "v"
   ]
  },
  {
   "cell_type": "markdown",
   "id": "07e1af24",
   "metadata": {},
   "source": [
    "::::{seealso} Constant iterator as position\n",
    "\n",
    "The method takes the position in the form of a constant [iterator](https://en.cppreference.com/w/cpp/iterator.html), which is a generalization of pointers to the elements of the container:\n",
    "- [`u.cbegin()`](https://en.cppreference.com/w/cpp/container/vector/begin.html)`+1` is the position of the second element.\n",
    "- `u.cbegin()+i` is the position of the `(i+1)`-st element for any non-negative integer `i` smaller than `u.size()`. For containers that do not occupy continuous memory such as `std::list`, we may to use [`std::advance`](https://en.cppreference.com/w/cpp/iterator/advance.html)`(u, i)` instead.\n",
    "  ```cpp\n",
    "  template< class InputIt, class Distance > void advance( InputIt& it, Distance n );\n",
    "  template< class InputIt, class Distance > constexpr void advance( InputIt&    it, Distance n );\n",
    "  ```\n",
    "- [`u.cend()-i`](https://en.cppreference.com/w/cpp/container/vector/end.html) gives the position of the `i`-th last element for positive integer `i` no larger than `u.size()`.\n",
    "- `pos - u.cbegin()` or [`distance`](https://en.cppreference.com/w/cpp/iterator/distance.html)`(u.cbegin(), pos)` calculates how far an iterator `pos` of `u` is from its first element.\n",
    "- `u.cend()-pos` or `distance(u.cend(), pos)` calculates how far an iterator `pos` of `u` is from the element one past the last element of `u`.\n",
    "\n",
    "::::"
   ]
  },
  {
   "cell_type": "code",
   "execution_count": null,
   "id": "011d9a6a",
   "metadata": {},
   "outputs": [],
   "source": [
    "%%cpp\n",
    "vector<size_t> v {1, 2, 3, 4};\n",
    "auto it=v.cbegin();\n",
    "advance(it, 3);\n",
    "it=v.erase(it);\n",
    "advance(it, -2);\n",
    "it=v.erase(it);\n",
    "cout << format(\"Elements before and after {} removed.\\n\", *it);\n",
    "v"
   ]
  },
  {
   "cell_type": "code",
   "execution_count": null,
   "id": "595434ba",
   "metadata": {},
   "outputs": [],
   "source": [
    "%%cpp\n",
    "it-v.cbegin()"
   ]
  },
  {
   "cell_type": "code",
   "execution_count": null,
   "id": "d2a6d6f8",
   "metadata": {},
   "outputs": [],
   "source": [
    "%%cpp\n",
    "distance(v.cbegin(), it)"
   ]
  },
  {
   "cell_type": "code",
   "execution_count": null,
   "id": "212a1ba9",
   "metadata": {},
   "outputs": [],
   "source": [
    "%%ai\n",
    "Explain in one line the difference between begin vs cbegin, and end vs cend for std::vector."
   ]
  },
  {
   "cell_type": "markdown",
   "id": "89dd8f6c",
   "metadata": {},
   "source": [
    "We can also erase a range of elements by specifying the `first` and `last` (exclusive) positions:"
   ]
  },
  {
   "cell_type": "code",
   "execution_count": null,
   "id": "b250ac23",
   "metadata": {},
   "outputs": [],
   "source": [
    "%%cpp\n",
    "vector<size_t> v {1, 2, 3};\n",
    "v.erase(v.cbegin()+1, v.cend());\n",
    "v"
   ]
  },
  {
   "cell_type": "markdown",
   "id": "4ced6308",
   "metadata": {},
   "source": [
    "## Vector Expansion"
   ]
  },
  {
   "cell_type": "markdown",
   "id": "dbba2794",
   "metadata": {},
   "source": [
    "### Insert at the Back"
   ]
  },
  {
   "cell_type": "markdown",
   "id": "d1a9d1b5",
   "metadata": {},
   "source": [
    "There are various ways to append an element to a `std::vector`."
   ]
  },
  {
   "cell_type": "markdown",
   "id": "22ab6f14",
   "metadata": {},
   "source": [
    "One way is to use [`push_back()`](https://en.cppreference.com/w/cpp/container/vector/push_back), which have two overloads:\n",
    "\n",
    "::::{code} cpp\n",
    ":linenos:\n",
    "void push_back( const T& value );\n",
    "void push_back( T&& value );\n",
    "::::"
   ]
  },
  {
   "cell_type": "code",
   "execution_count": null,
   "id": "20732d39",
   "metadata": {},
   "outputs": [],
   "source": [
    "%%cpp\n",
    "vector<vector<size_t> > u;\n",
    "vector<size_t> v {0,1,2};\n",
    "u.push_back(v);\n",
    "u"
   ]
  },
  {
   "cell_type": "markdown",
   "id": "b4ab40c3",
   "metadata": {},
   "source": [
    "The above invokes the first overload since the rvalue reference in the second overload cannot bind to the lvalue `v`."
   ]
  },
  {
   "cell_type": "markdown",
   "id": "03176f63",
   "metadata": {},
   "source": [
    "::::{exercise}\n",
    ":label: ex:push_back1\n",
    "\n",
    "Is `v` copied or moved to `u`?\n",
    "\n",
    "::::"
   ]
  },
  {
   "cell_type": "markdown",
   "id": "fad3b8bf",
   "metadata": {
    "deletable": false,
    "nbgrader": {
     "cell_type": "markdown",
     "checksum": "682155b526fd57e70e3ab400ad3bdf88",
     "grade": true,
     "grade_id": "push_back1",
     "locked": false,
     "points": 0,
     "schema_version": 3,
     "solution": true,
     "task": false
    }
   },
   "source": [
    "YOUR ANSWER HERE"
   ]
  },
  {
   "cell_type": "markdown",
   "id": "a72c9d9f",
   "metadata": {},
   "source": [
    "Observe that `v` and `u[0]` start at different locations:"
   ]
  },
  {
   "cell_type": "code",
   "execution_count": null,
   "id": "98af6f59",
   "metadata": {},
   "outputs": [],
   "source": [
    "%%cpp\n",
    "LB(v), LB(u[0])"
   ]
  },
  {
   "cell_type": "markdown",
   "id": "2aa742b6",
   "metadata": {},
   "source": [
    "Modifying `v` does not affect `u`:"
   ]
  },
  {
   "cell_type": "code",
   "execution_count": null,
   "id": "3f51d6e4",
   "metadata": {},
   "outputs": [],
   "source": [
    "%%cpp\n",
    "v[0]=2;\n",
    "u"
   ]
  },
  {
   "cell_type": "markdown",
   "id": "836394a2",
   "metadata": {},
   "source": [
    "`v` can be added to `u` again:"
   ]
  },
  {
   "cell_type": "code",
   "execution_count": null,
   "id": "ba99a1c9",
   "metadata": {},
   "outputs": [],
   "source": [
    "%%cpp\n",
    "u.push_back(v);\n",
    "u"
   ]
  },
  {
   "cell_type": "markdown",
   "id": "8f2e9765",
   "metadata": {},
   "source": [
    "As a comparison, the following invokes the second overload by casting `v` as an rvalue using `std::move`:"
   ]
  },
  {
   "cell_type": "code",
   "execution_count": null,
   "id": "1862a0e3",
   "metadata": {},
   "outputs": [],
   "source": [
    "%%cpp\n",
    "vector<vector<size_t> > u;\n",
    "vector<size_t> v {0,1,2};\n",
    "u.push_back(std::move(v));\n",
    "u.push_back(v);\n",
    "u"
   ]
  },
  {
   "cell_type": "markdown",
   "id": "c7d13151",
   "metadata": {},
   "source": [
    "Note that `v` is cleared after the move. To show that the elements are moved:"
   ]
  },
  {
   "cell_type": "code",
   "execution_count": null,
   "id": "3b29a1cf",
   "metadata": {},
   "outputs": [],
   "source": [
    "%%cpp\n",
    "vector<vector<size_t> > u;\n",
    "vector<size_t> v {0,1,2};\n",
    "L(v);\n",
    "u.push_back(std::move(LB(v)));\n",
    "LB(u[0]), L(u), L(v)"
   ]
  },
  {
   "cell_type": "markdown",
   "id": "80887d65",
   "metadata": {},
   "source": [
    "Even though `v` and `u[0]` have different locations, their elements begin at the same location. In essense, the [move constructor](#move-constructor) is invoked to move the elements from `v` to a new vector in `u`."
   ]
  },
  {
   "cell_type": "markdown",
   "id": "b24cb4cf",
   "metadata": {},
   "source": [
    "We can also add an rvalue directly without creating an extra variable:"
   ]
  },
  {
   "cell_type": "code",
   "execution_count": null,
   "id": "36267deb",
   "metadata": {},
   "outputs": [],
   "source": [
    "%%cpp\n",
    "vector<vector<size_t> > u;\n",
    "u.push_back(vector<size_t>{0,1,2});\n",
    "u"
   ]
  },
  {
   "cell_type": "markdown",
   "id": "52a26b71",
   "metadata": {},
   "source": [
    "This can be further simplified:"
   ]
  },
  {
   "cell_type": "code",
   "execution_count": null,
   "id": "e1b2efed",
   "metadata": {},
   "outputs": [],
   "source": [
    "%%cpp\n",
    "vector<vector<size_t> > u;\n",
    "u.push_back({0,1,2});\n",
    "u"
   ]
  },
  {
   "cell_type": "markdown",
   "id": "99841296",
   "metadata": {},
   "source": [
    "::::{exercise}\n",
    ":label: ex:push_back2\n",
    "\n",
    "Explain how different constructors are invoked in the above call to `push_back`.\n",
    "\n",
    "::::"
   ]
  },
  {
   "cell_type": "markdown",
   "id": "fe417d8a",
   "metadata": {
    "deletable": false,
    "nbgrader": {
     "cell_type": "markdown",
     "checksum": "b348cbe25e36d66abd0bdde9146eeb4e",
     "grade": true,
     "grade_id": "push_back2",
     "locked": false,
     "points": 0,
     "schema_version": 3,
     "solution": true,
     "task": false
    }
   },
   "source": [
    "YOUR ANSWER HERE"
   ]
  },
  {
   "cell_type": "markdown",
   "id": "326983fc",
   "metadata": {},
   "source": [
    "Indeed, we can further simplify the code as follows:"
   ]
  },
  {
   "cell_type": "code",
   "execution_count": null,
   "id": "46fd3e78",
   "metadata": {},
   "outputs": [],
   "source": [
    "%%cpp\n",
    "vector<vector<size_t> > u;\n",
    "u.emplace_back((initializer_list<size_t>){0,1,2});\n",
    "u"
   ]
  },
  {
   "cell_type": "markdown",
   "id": "b3730ff7",
   "metadata": {},
   "source": [
    "::::{caution}\n",
    "\n",
    "Both `u.emplace_back({0,1,2})` and `u.emplace_back(reinterpret_cast<std::initializer_list<size_t> >({0,1,2}))` fail. See [this post](https://stackoverflow.com/questions/24550924/emplacement-of-a-vector-with-initializer-list) for details.\n",
    "\n",
    "::::"
   ]
  },
  {
   "cell_type": "markdown",
   "id": "226f88cf",
   "metadata": {},
   "source": [
    "The constructed vector returned is exactly the vector added to the back:"
   ]
  },
  {
   "cell_type": "code",
   "execution_count": null,
   "id": "b486803b",
   "metadata": {},
   "outputs": [],
   "source": [
    "%%cpp\n",
    "vector<vector<size_t> > u;\n",
    "L(u.emplace_back((initializer_list<size_t>){0,1,2})), L(u[0])"
   ]
  },
  {
   "cell_type": "markdown",
   "id": "bc07f9bf",
   "metadata": {},
   "source": [
    "Unlike `push_back`, [`emplace_back()`](https://en.cppreference.com/w/cpp/container/vector/emplace_back) constructs the vector [in-place](https://en.wikipedia.org/wiki/In-place_algorithm), i.e., the constructed vector is at the same location as the added vector:"
   ]
  },
  {
   "cell_type": "markdown",
   "id": "08d17f3a",
   "metadata": {},
   "source": [
    "```cpp\n",
    "template< class... Args > reference emplace_back( Args&&... args );\n",
    "```"
   ]
  },
  {
   "cell_type": "markdown",
   "id": "a5a4e1e0",
   "metadata": {},
   "source": [
    "`...` is a packing operator that declares a [pack](https://en.cppreference.com/w/cpp/language/parameter_pack.html) of parameters. This allows a variable number of arguments to be forwarded from `emplace_back` to the different overloads of the constructors for vector:"
   ]
  },
  {
   "cell_type": "code",
   "execution_count": null,
   "id": "3735a32a",
   "metadata": {},
   "outputs": [],
   "source": [
    "%%cpp\n",
    "vector<vector<size_t> > u;\n",
    "u.emplace_back();          // forward to the default constructor\n",
    "u"
   ]
  },
  {
   "cell_type": "code",
   "execution_count": null,
   "id": "53b95a5c",
   "metadata": {},
   "outputs": [],
   "source": [
    "%%cpp\n",
    "vector<vector<size_t> > u;\n",
    "u.emplace_back(2);         // forward to the fill constructor\n",
    "u.emplace_back(3,4);\n",
    "u"
   ]
  },
  {
   "cell_type": "markdown",
   "id": "8f10c88d",
   "metadata": {},
   "source": [
    "In comparison, Python uses `*` as the packing operator such as `*args` in `print`:"
   ]
  },
  {
   "cell_type": "code",
   "execution_count": null,
   "id": "610ccdaa",
   "metadata": {},
   "outputs": [],
   "source": [
    "print?"
   ]
  },
  {
   "cell_type": "markdown",
   "id": "7e5a9053",
   "metadata": {},
   "source": [
    "::::{exercise}\n",
    ":label: ex:extend\n",
    "\n",
    "Complete the second overload of the function `splice` to extend `u` with by copying elements from `v` to the end of `u`. If `v` is an rvalue, the elements should be moved instead, after which `v` should become emtpy.\n",
    "\n",
    "::::"
   ]
  },
  {
   "cell_type": "code",
   "execution_count": null,
   "id": "84dedd43",
   "metadata": {},
   "outputs": [],
   "source": [
    "%%cpp\n",
    "template <class T>\n",
    "void splice(vector<T> &u, const vector<T> &v) {\n",
    "    for (auto vi : v) u.push_back(vi);\n",
    "}"
   ]
  },
  {
   "cell_type": "code",
   "execution_count": null,
   "id": "9d79b22a",
   "metadata": {
    "deletable": false,
    "nbgrader": {
     "cell_type": "code",
     "checksum": "e8ff47d5326c49df84bd301bda9a6e9f",
     "grade": false,
     "grade_id": "extend2",
     "locked": false,
     "schema_version": 3,
     "solution": true,
     "task": false
    }
   },
   "outputs": [],
   "source": [
    "%%cpp\n",
    "template <class T>\n",
    "void splice(vector<T> &u, vector<T> &&v) {\n",
    "    /*\n",
    "    # REPLACE THE ENTIRE COMMENT WITH YOUR CODE #\n",
    "    */\n",
    "}"
   ]
  },
  {
   "cell_type": "code",
   "execution_count": null,
   "id": "eb8ee714",
   "metadata": {
    "deletable": false,
    "editable": false,
    "nbgrader": {
     "cell_type": "code",
     "checksum": "2d69f054c236935526a59ede49c2d7c8",
     "grade": true,
     "grade_id": "test_extend",
     "locked": true,
     "points": 0,
     "schema_version": 3,
     "solution": false,
     "task": false
    }
   },
   "outputs": [],
   "source": [
    "%%cpp\n",
    "// test\n",
    "vector<vector<size_t> > u {{1,2,3}};\n",
    "vector<vector<size_t> > v {{4,5,6}};\n",
    "splice(u, std::move(v));\n",
    "splice(u, v);\n",
    "splice(u, u);\n",
    "u // ... { { 1, 2, 3 }, { 4, 5, 6 }, { 1, 2, 3 }, {} }"
   ]
  },
  {
   "cell_type": "markdown",
   "id": "604bcdb8",
   "metadata": {},
   "source": [
    "### Insertion"
   ]
  },
  {
   "cell_type": "markdown",
   "id": "e09ba613",
   "metadata": {},
   "source": [
    "Elements can be inserted at different positions in a vector using the [`std::insert`](https://en.cppreference.com/w/cpp/container/vector/insert.html) method:"
   ]
  },
  {
   "cell_type": "markdown",
   "id": "2346f3c8",
   "metadata": {},
   "source": [
    "::::{code} cpp\n",
    ":linenos:\n",
    "iterator insert( const_iterator pos, const T& value );\n",
    "iterator insert( const_iterator pos, T&& value );\n",
    "iterator insert( const_iterator pos, size_type count, const T& value );\n",
    "template< class InputIt > iterator insert( const_iterator pos, InputIt first, InputIt last );\n",
    "iterator insert( const_iterator pos, std::initializer_list<T> ilist );\n",
    "::::"
   ]
  },
  {
   "cell_type": "code",
   "execution_count": null,
   "id": "5b77dc2b",
   "metadata": {},
   "outputs": [],
   "source": [
    "%%cpp\n",
    "vector<size_t> u {0,2,3};\n",
    "auto it=u.insert(u.cbegin()+1, 1);\n",
    "u"
   ]
  },
  {
   "cell_type": "markdown",
   "id": "31c52fa2",
   "metadata": {},
   "source": [
    "After the insertion, the position/iterator of the inserted element is also returned."
   ]
  },
  {
   "cell_type": "code",
   "execution_count": null,
   "id": "7085fe08",
   "metadata": {},
   "outputs": [],
   "source": [
    "%%cpp\n",
    "cout << *it << \" inserted.\\n\";\n",
    "it"
   ]
  },
  {
   "cell_type": "markdown",
   "id": "e5918f74",
   "metadata": {},
   "source": [
    "Note that insertion takes linear time even the element is inserted at the back:"
   ]
  },
  {
   "cell_type": "code",
   "execution_count": null,
   "id": "486a06ea",
   "metadata": {},
   "outputs": [],
   "source": [
    "%%cpp\n",
    "vector<size_t> u {0,2,3};\n",
    "L(u[0]), L(u[1]), L(u[2]);\n",
    "cout << *u.insert(u.cbegin()+1, 1) << \" inserted.\\n\";\n",
    "L(u[0]), L(u[1]), L(u[2]), L(u[3]);\n",
    "u"
   ]
  },
  {
   "cell_type": "markdown",
   "id": "64b9fb21",
   "metadata": {},
   "source": [
    "Observe that the locations of the elements are changed after insertion. In comparison, `push_back` normally does not change the locations of the existing elements:"
   ]
  },
  {
   "cell_type": "code",
   "execution_count": null,
   "id": "052271d6",
   "metadata": {},
   "outputs": [],
   "source": [
    "%%cpp\n",
    "u.push_back(4);\n",
    "L(u[0]), L(u[1]), L(u[2]), L(u[3]), L(u[4]);"
   ]
  },
  {
   "cell_type": "markdown",
   "id": "ea3b5173",
   "metadata": {},
   "source": [
    "`push_back` has an amortized constant time complexity because existing elements need to be moved only when there is no more free memory at the back of the vector."
   ]
  },
  {
   "cell_type": "markdown",
   "id": "e0a9c3a5",
   "metadata": {},
   "source": [
    "The following behaves like the [fill constructors](#fill-constructors) that fill the vector with multiple copies of the same value:"
   ]
  },
  {
   "cell_type": "code",
   "execution_count": null,
   "id": "f15beb98",
   "metadata": {},
   "outputs": [],
   "source": [
    "%%cpp\n",
    "vector<size_t> u {1,2,3};\n",
    "cout << format(\"Three {}'s added at the beginning.\\n\", *u.insert(u.cbegin(), 3, 0));\n",
    "u"
   ]
  },
  {
   "cell_type": "markdown",
   "id": "7b4c0ffd",
   "metadata": {},
   "source": [
    "The following behaves like the [initializer-list constructor](#initializer-list-constructor):"
   ]
  },
  {
   "cell_type": "code",
   "execution_count": null,
   "id": "667a10b5",
   "metadata": {},
   "outputs": [],
   "source": [
    "%%cpp\n",
    "vector<size_t> u {1,2,3};\n",
    "for (auto it=u.insert(u.cend(), {4,5,6}); it!=u.cend(); it++)\n",
    "    cout << format(\"{} added.\\n\", *it);\n",
    "u"
   ]
  },
  {
   "cell_type": "markdown",
   "id": "bf1b9043",
   "metadata": {},
   "source": [
    "We can also insert a sublist from another list:"
   ]
  },
  {
   "cell_type": "code",
   "execution_count": null,
   "id": "a3a7c87b",
   "metadata": {},
   "outputs": [],
   "source": [
    "%%cpp\n",
    "vector<size_t> u {1,2,3};\n",
    "vector<double> v {4.1,5.2,6.3};\n",
    "auto it=u.insert(u.cend(), v.cbegin(), v.cend()-1);\n",
    "u"
   ]
  },
  {
   "cell_type": "markdown",
   "id": "f98504b6",
   "metadata": {},
   "source": [
    "Note that elements are copied but not moved except when passed by rvalue reference:\n",
    "```cpp\n",
    "iterator insert( const_iterator pos, T&& value );\n",
    "```"
   ]
  },
  {
   "cell_type": "code",
   "execution_count": null,
   "id": "df5248e9",
   "metadata": {},
   "outputs": [],
   "source": [
    "%%cpp\n",
    "vector<vector<size_t> > u {{1,2,3}};\n",
    "vector<size_t> v {4,5,6};\n",
    "u.insert(u.cbegin(), std::move(LB(v)));\n",
    "LB(u[0]);\n",
    "u.insert(u.cbegin(), v);\n",
    "u"
   ]
  },
  {
   "cell_type": "markdown",
   "id": "32cb6527",
   "metadata": {},
   "source": [
    "::::{exercise}\n",
    ":label: ex:extend_pos\n",
    "\n",
    "Complete the function `splice` to extend `u` by inserting elements from `v` at the position `pos` in `u`.  \n",
    "- If `v` is an lvalue (`const vector<T>&`), the elements should be copied.  \n",
    "- If `v` is an rvalue (`vector<T>&&`), the elements should be moved, and `v` should become empty afterward.  \n",
    " \n",
    "The function should return an iterator pointing to the first inserted element in `u`. If no elements are inserted (i.e., `v` is empty), return `pos`.\n",
    "\n",
    "::::"
   ]
  },
  {
   "cell_type": "code",
   "execution_count": null,
   "id": "cf4ec607",
   "metadata": {
    "deletable": false,
    "nbgrader": {
     "cell_type": "code",
     "checksum": "ba516c2b467702f41ec376a7255af896",
     "grade": false,
     "grade_id": "extend_pos1",
     "locked": false,
     "schema_version": 3,
     "solution": true,
     "task": false
    }
   },
   "outputs": [],
   "source": [
    "%%cpp\n",
    "template <class T>\n",
    "typename vector<T>::iterator splice(vector<T> &u, typename vector<T>::const_iterator pos, const vector<T> &v) {\n",
    "    /*\n",
    "    # REPLACE THE ENTIRE COMMENT WITH YOUR CODE #\n",
    "    */\n",
    "}"
   ]
  },
  {
   "cell_type": "code",
   "execution_count": null,
   "id": "f88db073",
   "metadata": {},
   "outputs": [],
   "source": [
    "%%cpp\n",
    "template <class T>\n",
    "typename vector<T>::iterator splice(vector<T> &u, typename vector<T>::const_iterator pos, vector<T> &&v) {\n",
    "    auto i = pos-u.cbegin();\n",
    "    for (auto& vi : v) u.insert(pos++, std::move(vi));\n",
    "    v.clear();\n",
    "    return u.begin() + i;\n",
    "}"
   ]
  },
  {
   "cell_type": "code",
   "execution_count": null,
   "id": "852c08da",
   "metadata": {
    "deletable": false,
    "editable": false,
    "nbgrader": {
     "cell_type": "code",
     "checksum": "f0362c8bff2a8a67bfaeba3e8c25df5e",
     "grade": true,
     "grade_id": "test_extend_pos",
     "locked": true,
     "points": 0,
     "schema_version": 3,
     "solution": false,
     "task": false
    }
   },
   "outputs": [],
   "source": [
    "%%cpp\n",
    "// test\n",
    "vector<vector<size_t> > u {{1,2,3}};\n",
    "vector<vector<size_t> > v {{4,5,6}};\n",
    "auto it=splice(u, u.cbegin()+1, std::move(v));\n",
    "it=splice(u, it-1, v);\n",
    "it=splice(u, it, u);\n",
    "u // ... { { 1, 2, 3 }, { 4, 5, 6 }, { 1, 2, 3 }, { 4, 5, 6 } }"
   ]
  },
  {
   "cell_type": "code",
   "execution_count": null,
   "id": "155f9daa",
   "metadata": {},
   "outputs": [],
   "source": [
    "%%ai\n",
    "Explain briefly why typename is used in:\n",
    "--\n",
    "void splice(vector<T> &u, typename vector<T>::const_iterator pos, const vector<T> &v);"
   ]
  },
  {
   "cell_type": "markdown",
   "id": "71f2dcda",
   "metadata": {},
   "source": [
    "## Linked List"
   ]
  },
  {
   "cell_type": "markdown",
   "id": "287cb2b1",
   "metadata": {},
   "source": [
    "The `splice` function in [](#ex:extend) and [](#ex:extend_pos) takes linear time as it inserts the elements of `v` to `u` one-by-one."
   ]
  },
  {
   "cell_type": "markdown",
   "id": "56bacb33",
   "metadata": {},
   "source": [
    "**Can we concatenate two vectors more efficiently?**"
   ]
  },
  {
   "cell_type": "markdown",
   "id": "a63de8aa",
   "metadata": {},
   "source": [
    "One idea is to link the end of one vector to the beginning of another. However, this isn't possible because `std::vector` stores its elements in a single, contiguous block of memory. This design enables constant-time access via indexing, i.e., `v[i]` is equivalent to `*(v + i)`, but it also means vectors cannot be physically joined without copying or reallocating their contents."
   ]
  },
  {
   "cell_type": "markdown",
   "id": "a1765a16",
   "metadata": {},
   "source": [
    "[](#code_combination2) uses another container [`std::list`](https://en.cppreference.com/w/cpp/container/list.html), which implements a [doubly linked list](https://en.wikipedia.org/wiki/Doubly_linked_list) data structure. Unlike `std::vector`, itt takes constant time to [`insert`](https://en.cppreference.com/w/cpp/container/list/insert.html#Complexity) or [`erase`](https://en.cppreference.com/w/cpp/container/list/erase.html#Complexity) a single element anywhere in the `std::list`. Furthermore, using the [`splice`](https://en.cppreference.com/w/cpp/container/list/splice.html) method from `std::list`, two lists can be concatenated efficiently in [constant time](https://en.cppreference.com/w/cpp/container/list/splice.html#Complexity) by modifying the end of one list to link to the beginning of another list:\n",
    "\n",
    "::::{code} cpp\n",
    ":linenos:\n",
    "void splice( const_iterator pos, list& other );\n",
    "void splice( const_iterator pos, list&& other );\n",
    "void splice( const_iterator pos, list& other, const_iterator it );\n",
    "void splice( const_iterator pos, list&& other, const_iterator it );\n",
    "void splice( const_iterator pos, list& other, const_iterator first, const_iterator last );\n",
    "void splice( const_iterator pos, list&& other, const_iterator first, const_iterator last );\n",
    "::::"
   ]
  },
  {
   "cell_type": "code",
   "execution_count": null,
   "id": "ff41b8e7",
   "metadata": {},
   "outputs": [],
   "source": [
    "%%cpp\n",
    "list<int> a{1,2,3}, b{4,5,6,7};\n",
    "a.splice(a.cend(), b);\n",
    "a"
   ]
  },
  {
   "cell_type": "markdown",
   "id": "752fd02a",
   "metadata": {},
   "source": [
    "All elements of `b` are now moved (*not copied*) to `a`:"
   ]
  },
  {
   "cell_type": "code",
   "execution_count": null,
   "id": "183acafe",
   "metadata": {},
   "outputs": [],
   "source": [
    "%%cpp\n",
    "b"
   ]
  },
  {
   "cell_type": "markdown",
   "id": "16cbfe4c",
   "metadata": {},
   "source": [
    "However, these come at the cost of linear time lookup."
   ]
  },
  {
   "cell_type": "code",
   "execution_count": null,
   "id": "e5e29540",
   "metadata": {},
   "outputs": [],
   "source": [
    "%%cpp\n",
    "list<int> a{1,2,3,4,5,6,7};\n",
    "// a[5];            // fails: type 'list' does not provide a subscript operator\n",
    "auto it=a.cbegin();\n",
    "// a.cbegin() + 5;  // fails: invalid operands to binary expression\n",
    "for (auto i=5; i>0; i--) it++;  // `advance(it, 5)`\n",
    "*it"
   ]
  },
  {
   "cell_type": "markdown",
   "id": "2268c04b",
   "metadata": {},
   "source": [
    "As another example, consider the problem of enumerating the permutations in combinatorics:"
   ]
  },
  {
   "cell_type": "markdown",
   "id": "dd44e634",
   "metadata": {},
   "source": [
    "::::{prf:definition}\n",
    "\n",
    "Given a collection of $n\\geq 0$ items $a_0,\\dots,a_{n-1}$ and an integer $k\\geq 0$, a [$k$-permutation of the $n$](https://en.wikipedia.org/wiki/Permutation#k-permutations_of_n) items is an ordered sequence \n",
    "\n",
    "$$\n",
    "(a_{i_0},\\dots,a_{i_{k-1}})\n",
    "$$ \n",
    "of $k$ out of the $n$ objects for some choice of distinct indices $0\\leq i_0,\\dots,i_{k-1}<n$. An $n$-permutation of $n$ objects is called a permutation of $n$ objects.\n",
    "\n",
    "::::"
   ]
  },
  {
   "cell_type": "markdown",
   "id": "805a7bd4",
   "metadata": {},
   "source": [
    "A simple way to generate permutations is by the following recurrence relation."
   ]
  },
  {
   "cell_type": "markdown",
   "id": "fe4a5bc9",
   "metadata": {},
   "source": [
    "::::{prf:proposition}\n",
    "\n",
    "A $k$-permutation of $n$ satisfies the recurrence relation for $1\\leq k \\leq n$:  \n",
    "- Removing the first element of a $k$-permutation of $n$ objects gives a different $(k-1)$-permutation of the remaining $n-1$ objects.\n",
    "\n",
    "$$ (a_{i_0}, \\underbrace{a_{i_1},\\dots,a_{i_{k-1}}}_{\\text{\\scriptsize $(k-1)$-permutation of $a_{i_1},\\dots,a_{i_{k-1}}$.}\\kern-5em} ) $$\n",
    "\n",
    "- Reversing the above removal process gives a way of constructing a $k$-permutation from a $(k-1)$-permutation.  \n",
    "  E.g., the permutations of $1,2,3$ can be constructed as follows:\n",
    "\n",
    "$$[\\overbrace{({\\color{red} 1}, {\\color{blue}{2, 3}}), ({\\color{red} 1}, {\\color{blue}{3, 2}})}^{\\text{\\scriptsize prepend 1 to permutations of $2,3$.} }, \\overbrace{({\\color{red} 2}, {\\color{blue}{1, 3}}), ({\\color{red} 2}, {\\color{blue}{3, 1}})}^{\\text{\\scriptsize prepend 2 to permutations of $1,3$.} }, \\overbrace{({\\color{red} 3}, {\\color{blue}{1, 2}}), ({\\color{red} 3}, {\\color{blue}{2, 1}})}^{\\text{\\scriptsize prepend 3 to permutations of $1,2$.} }]$$\n",
    "\n",
    "::::"
   ]
  },
  {
   "cell_type": "markdown",
   "id": "99afe7a1",
   "metadata": {},
   "source": [
    "We can represent each permutation as a vector. The following implements the recursion:"
   ]
  },
  {
   "cell_type": "code",
   "execution_count": null,
   "id": "efe15a65",
   "metadata": {},
   "outputs": [],
   "source": [
    "%%cpp\n",
    "void permutation_helper(const vector<size_t> &items, int k, \n",
    "                        vector<size_t> &current, \n",
    "                        vector<vector<size_t> > &result) {\n",
    "    if (k == 0) result.push_back(current);\n",
    "    else\n",
    "        for (size_t i = 0; i < items.size(); ++i) {\n",
    "            vector<size_t> remaining = items;\n",
    "            remaining.erase(remaining.cbegin() + i);\n",
    "            current.push_back(items[i]);\n",
    "            permutation_helper(remaining, k - 1, current, result);\n",
    "            current.pop_back();\n",
    "        }\n",
    "}"
   ]
  },
  {
   "cell_type": "markdown",
   "id": "2db73c77",
   "metadata": {},
   "source": [
    "In the above function:\n",
    "\n",
    "- `current` keeps track of the beginning of the permutations to be built.\n",
    "- `k` is the number of elements that need to be appended to `current` to complete each desired permutation.\n",
    "- `items` is the remaining elements to choose from.\n",
    "- `result` is a vector to store all completed permutations."
   ]
  },
  {
   "cell_type": "markdown",
   "id": "0eb80d56",
   "metadata": {},
   "source": [
    "::::{note} Isn't it more efficient to use `std::list` instead of `std::vector` for `result`?\n",
    ":class: dropdown\n",
    "\n",
    "No, because `result` is generated by appending `current`, which can be done in amortized constant time for `std::vector`.\n",
    "\n",
    "::::"
   ]
  },
  {
   "cell_type": "markdown",
   "id": "e897cdd8",
   "metadata": {},
   "source": [
    "The desired function that computes and returns the permutations can be a thin wrapper of the helper function:"
   ]
  },
  {
   "cell_type": "code",
   "execution_count": null,
   "id": "4921e92d",
   "metadata": {},
   "outputs": [],
   "source": [
    "%%cpp\n",
    "std::vector<vector<size_t> > permutation(const vector<size_t> & items, int k) {\n",
    "    vector<vector<size_t> > result;\n",
    "    vector<size_t>  current;\n",
    "\n",
    "    if (k >= 0 && k <= items.size()) {\n",
    "        permutation_helper(items, k, current, result);\n",
    "    }\n",
    "    return result;\n",
    "}\n",
    "\n",
    "permutation(vector<size_t> {1,2,3}, 2)"
   ]
  },
  {
   "cell_type": "markdown",
   "id": "7b2f34b7",
   "metadata": {},
   "source": [
    "::::{note} Why not check the range of $k$ in the helper function instead?\n",
    ":class: dropdown\n",
    "\n",
    "This is because the check only needs to be done once. If it were placed inside the helper function, the check would be executed repeatedly in every recursive call.\n",
    "\n",
    "::::"
   ]
  },
  {
   "cell_type": "markdown",
   "id": "cbda467b",
   "metadata": {},
   "source": [
    "To make $k$ an optional argument that defaults to $n$:"
   ]
  },
  {
   "cell_type": "code",
   "execution_count": null,
   "id": "89dee6ee",
   "metadata": {},
   "outputs": [],
   "source": [
    "%%cpp\n",
    "std::vector<vector<size_t> > permutation(const vector<size_t> &items) {\n",
    "    return permutation(items, items.size());  // default to full length\n",
    "}\n",
    "\n",
    "permutation(vector<size_t> {1,2,3})"
   ]
  },
  {
   "cell_type": "markdown",
   "id": "7be2040b",
   "metadata": {},
   "source": [
    "::::{note} Why is it better to overload the function than to give a default argument to `k`?\n",
    ":class: dropdown\n",
    "\n",
    "The default argument `items.size()` is not allowed since it is not a constant. Setting `k` to a value outside the valid range, say `-1`, is not ideal either because calling the function with `k=-1` will no longer be regarded an invalid.\n",
    "\n",
    "::::"
   ]
  },
  {
   "cell_type": "markdown",
   "id": "71a78807",
   "metadata": {},
   "source": [
    "There is an inefficiency in the above program: Erasing an element from a vector is linear time, but removing an element from a list is constant time."
   ]
  },
  {
   "cell_type": "code",
   "execution_count": null,
   "id": "f6a1e161",
   "metadata": {},
   "outputs": [],
   "source": [
    "%%ai\n",
    "Explain briefly why `remaining.erase(it);` is more efficient if `remaining`\n",
    "is a `std::list` instead of `std::vector`."
   ]
  },
  {
   "cell_type": "markdown",
   "id": "03f7e091",
   "metadata": {},
   "source": [
    "The following implementation of permutation operates directly on a list. No helper function is needed, since list merging and element removal are efficient."
   ]
  },
  {
   "cell_type": "code",
   "execution_count": null,
   "id": "0f7f2ac8",
   "metadata": {},
   "outputs": [],
   "source": [
    "%%cpp\n",
    "std::list<list<size_t> > permutation(const list<size_t> &items, int k) {\n",
    "    list<list<size_t> > output;\n",
    "    if (k == 0) {\n",
    "        output.push_back(list<size_t> {});\n",
    "    } else {\n",
    "        list<size_t>  remaining = items;\n",
    "        for (auto it = remaining.cbegin(); it != remaining.cend(); ++it) {\n",
    "            auto i = *it;\n",
    "            it=remaining.erase(it);\n",
    "            list<list<size_t> > perm_seq = permutation(remaining, k - 1);\n",
    "            it=remaining.insert(it, i);\n",
    "            for (auto& perm : perm_seq) {\n",
    "                perm.push_front(i);\n",
    "            }\n",
    "            output.splice(output.cend(), perm_seq);\n",
    "        }\n",
    "    }\n",
    "    return output;\n",
    "}\n",
    "\n",
    "permutation(list<size_t> {1,2,3}, 2)"
   ]
  },
  {
   "cell_type": "code",
   "execution_count": null,
   "id": "2581fe51",
   "metadata": {},
   "outputs": [],
   "source": [
    "%%cpp\n",
    "std::list<list<size_t> > permutation(const list<size_t> &items) {\n",
    "    return permutation(items, items.size());  // default to full length\n",
    "}\n",
    "\n",
    "permutation(list<size_t> {1,2,3})"
   ]
  }
 ],
 "metadata": {
  "jupytext": {
   "default_lexer": "ipython3"
  },
  "kernelspec": {
   "display_name": "Python 3 (ipykernel)",
   "language": "python",
   "name": "python3"
  }
 },
 "nbformat": 4,
 "nbformat_minor": 5
}
