{
 "cells": [
  {
   "cell_type": "markdown",
   "id": "0c53b09d",
   "metadata": {
    "editable": true,
    "slideshow": {
     "slide_type": ""
    }
   },
   "source": [
    "---\n",
    "title: Sequence Containers\n",
    "abstract: |\n",
    "    Encapsulation is a fundamental principle of object-oriented programming that promotes modularity and data protection by bundling data and the methods that operate on it within a single unit. Standard library containers such as array, vector, list, set, and map exemplify encapsulation by exposing well-defined interfaces while hiding internal implementation details. Encapsulation also facilitates resource management strategies like move semantics, where rvalue references and universal references allow efficient transfer and reuse of resources. This notebook introduces the basic idea of encapsulation using sequence containers such as vector and list.\n",
    "math:\n",
    "    '\\abs': '\\left\\lvert #1 \\right\\rvert'\n",
    "    '\\norm': '\\left\\lVert #1 \\right\\rVert'\n",
    "    '\\Set': '\\left\\{ #1 \\right\\}'\n",
    "    '\\set': '\\operatorname{set}'   \n",
    "    '\\mc': '\\mathcal{#1}'\n",
    "    '\\M': '\\boldsymbol{#1}'\n",
    "    '\\R': '\\mathsf{#1}'\n",
    "    '\\RM': '\\boldsymbol{\\mathsf{#1}}'\n",
    "    '\\op': '\\operatorname{#1}'\n",
    "    '\\E': '\\op{E}'\n",
    "    '\\d': '\\mathrm{\\mathstrut d}'\n",
    "    '\\SFM': '\\operatorname{SFM}'\n",
    "    '\\utag': '\\stackrel{\\text{(#1)}}{#2}'\n",
    "    '\\uref': '\\text{(#1)}'\n",
    "    '\\minimal': '\\operatorname{minimal}'\n",
    "skip_execution: true\n",
    "---"
   ]
  },
  {
   "cell_type": "code",
   "execution_count": null,
   "id": "73086da3",
   "metadata": {
    "editable": true,
    "slideshow": {
     "slide_type": ""
    }
   },
   "outputs": [],
   "source": [
    "from __init__ import *\n",
    "%reload_ext divewidgets\n",
    "!mkdir -p private"
   ]
  },
  {
   "cell_type": "code",
   "execution_count": null,
   "id": "e77e650b",
   "metadata": {},
   "outputs": [],
   "source": [
    "%%cpp\n",
    "#include \"utility.hpp\""
   ]
  },
  {
   "cell_type": "code",
   "execution_count": null,
   "id": "9aee0a18",
   "metadata": {
    "editable": true,
    "slideshow": {
     "slide_type": ""
    },
    "tags": [
     "skip-execution"
    ]
   },
   "outputs": [],
   "source": [
    "if not input('Load JupyterAI? [Y/n]').lower()=='n':\n",
    "    %reload_ext jupyter_ai"
   ]
  },
  {
   "cell_type": "markdown",
   "id": "f2a93c7e",
   "metadata": {},
   "source": [
    "## Motivation"
   ]
  },
  {
   "cell_type": "markdown",
   "id": "0b4ddadd",
   "metadata": {},
   "source": [
    "Encapsulation is the technique of capturing resources such as variables (properties) and functions (methods) into an entity (object). This lays the foundation for object‑oriented programming (OOP). We will go into how sequence containers such as the vector and list in C++ hides the internal mechanics behind a clean interface."
   ]
  },
  {
   "cell_type": "markdown",
   "id": "6c55a2f5",
   "metadata": {},
   "source": [
    "To motivate the concept, consider the problem of enumerating [combinations](https://en.wikipedia.org/wiki/Combination) in [combinatorics](https://en.wikipedia.org/wiki/Combinatorics):"
   ]
  },
  {
   "cell_type": "markdown",
   "id": "61c0bd8a",
   "metadata": {},
   "source": [
    "::::{prf:definition} combination\n",
    ":label: def:combination\n",
    "\n",
    "A $k$-combination $S$ of $n$ items, say $\\Set{0, \\dots, n-1}$, is a selection of $k$ items from the set.\n",
    "\n",
    "::::"
   ]
  },
  {
   "cell_type": "markdown",
   "id": "d933e52d",
   "metadata": {},
   "source": [
    "::::{prf:example}\n",
    "\n",
    "For $3$ items $\\Set{0, 1, 2}$, we have:\n",
    "- one $0$-combination:\n",
    "  > $\\Set{}$\n",
    "- three $1$-combinations:\n",
    "  > $\\Set{0}, \\Set{1}, \\Set{2}$\n",
    "- three $2$-combinations:\n",
    "  > $\\Set{0, 1}, \\Set{0, 2}, \\Set{1, 2}$\n",
    "- no $k$-combinations for other values of $k$.\n",
    "\n",
    "::::"
   ]
  },
  {
   "cell_type": "markdown",
   "id": "7f0d1379",
   "metadata": {},
   "source": [
    "**How to define a function to compute combinations?**"
   ]
  },
  {
   "cell_type": "markdown",
   "id": "bbafb0e0",
   "metadata": {},
   "source": [
    "A divide-and-conquer approach is as follows:"
   ]
  },
  {
   "cell_type": "markdown",
   "id": "0003647a",
   "metadata": {},
   "source": [
    "::::{prf:proposition}\n",
    ":label: pro:combination\n",
    "\n",
    "A $k$-combination $S$ of $n$ items satisfies the recurrence relation for $1\\leq k\\leq n$:\n",
    "\n",
    "> $S\\setminus \\Set{n-1}$ is a combination of $n-1$ items with\n",
    ">  - $k-1$ items if ${{\\color{red}n-1}}\\in S$; or\n",
    ">  - ${\\color{blue}k}$ items otherwise.\n",
    "\n",
    "Reversing the above removal process gives a way of constructing a $k$-combination $S$ from a smaller combination $T$ of $n-1$ items with\n",
    "- ${\\color{blue}k}$ items; or\n",
    "- $k-1$ items and add ${\\color{red}n-1}$ to it.\n",
    "\n",
    "If $0=k< n$, $S=\\Set{}$. $S$ does not exists for other choices of $(n, k)$. E.g.,\n",
    "\n",
    "$$\n",
    "\\overbrace{{\\color{blue}\\Set{0, 1}}}^{\\mathclap{\\text{\\scriptsize ${\\color{blue}2}$-combination of $\\{0, 1\\}$}}}, \\underbrace{\\Set{0, {\\color{red}2}}, \\Set{1, {\\color{red}2}}}_{\\mathclap{\\text{\\scriptsize $2$ added to $1$-combinations of $\\{0, 1\\}$}}}.\n",
    "$$\n",
    "\n",
    "\n",
    "::::"
   ]
  },
  {
   "cell_type": "markdown",
   "id": "3140abf7",
   "metadata": {},
   "source": [
    "A $k$-combination in [](#def:combination) can be implemented as a vector container of indices from $\\Set{0, \\dots, n-1}$:"
   ]
  },
  {
   "cell_type": "code",
   "execution_count": null,
   "id": "f535cb13",
   "metadata": {},
   "outputs": [],
   "source": [
    "%%cpp\n",
    "vector<size_t>{0,1,2}"
   ]
  },
  {
   "cell_type": "markdown",
   "id": "b6b95f17",
   "metadata": {},
   "source": [
    "The collection of combinations can be a vector of a vector of indices:"
   ]
  },
  {
   "cell_type": "code",
   "execution_count": null,
   "id": "ad5b333e",
   "metadata": {},
   "outputs": [],
   "source": [
    "%%cpp\n",
    "vector<vector<size_t> > {{0,1},{0,2},{1,2}}"
   ]
  },
  {
   "cell_type": "markdown",
   "id": "e1b8bc4b",
   "metadata": {},
   "source": [
    "To implements the divide-and-conquer approach in [](#pro:combination):\n",
    "\n",
    "::::{code} cpp\n",
    ":label: code_combination1\n",
    ":linenos:\n",
    ":caption: Returning a `std::vector` of $k$-combinations of $n$ items $\\Set{0,1, \\dots, n-1}$.\n",
    "/**\n",
    " * @brief Generates all k-combinations of the set {0, 1, ..., n-1}.\n",
    " *\n",
    " * This function uses recursion to build combinations by either:\n",
    " * - excluding the last element (n-1) and generating k-combinations of the first n-1 elements\n",
    " * - including the last element (n-1) and generating (k-1)-combinations of the first n-1 elements,\n",
    " *   then appending n-1 to each of those to form a full k-combination.\n",
    " *\n",
    " * @param n The size of the set to choose from.\n",
    " * @param k The number of elements to choose.\n",
    " * @return A vector of vectors, each representing a k-combination of the set {0, ..., n-1}.\n",
    " */\n",
    "std::function<std::vector<vector<size_t> >(const size_t, const size_t)>\n",
    "combination=[&combination](const size_t n, const size_t k) {\n",
    "    vector<vector<size_t> > output; // base case when k is not in {0, ..., n}.\n",
    "    if (k<=n) {\n",
    "        if (k) {\n",
    "            // Case 1: k-combinations from the first n-1 elements\n",
    "            for (auto &subset : combination(n-1, k)) output.push_back(subset);\n",
    "            \n",
    "            // Case 2: (k-1)-combinations from the first n-1 elements, with n-1 added\n",
    "            for (auto &subset : combination(n-1, k-1)) {\n",
    "                subset.push_back(n-1);\n",
    "                output.push_back(subset);\n",
    "            }\n",
    "        } else output.push_back(vector<size_t>()); // base case: only one combination of size 0 (empty set)\n",
    "    } // Hidden base case: No combinations if k is not in the range {0, ..., n}\n",
    "    return output;\n",
    "};\n",
    "::::"
   ]
  },
  {
   "cell_type": "code",
   "execution_count": null,
   "id": "c3bfa750",
   "metadata": {},
   "outputs": [],
   "source": [
    "%%cpp\n",
    "std::function<std::vector<vector<size_t> >(const size_t, const size_t)>\n",
    "combination=[&combination](const size_t n, const size_t k) {\n",
    "    vector<vector<size_t> > output;\n",
    "    if (k<=n) {\n",
    "        if (k) {\n",
    "            for (auto &subset : combination(n-1, k)) output.push_back(subset);\n",
    "            for (auto &subset : combination(n-1, k-1)) {\n",
    "                subset.push_back(n-1);\n",
    "                output.push_back(subset);\n",
    "            }\n",
    "        } else output.push_back(vector<size_t>());\n",
    "    }\n",
    "    return output;\n",
    "};"
   ]
  },
  {
   "cell_type": "markdown",
   "id": "59367977",
   "metadata": {},
   "source": [
    "The following generates different combinations of $3$ items:"
   ]
  },
  {
   "cell_type": "code",
   "execution_count": null,
   "id": "213af777",
   "metadata": {},
   "outputs": [],
   "source": [
    "%%cpp\n",
    "combination(3, 0)"
   ]
  },
  {
   "cell_type": "code",
   "execution_count": null,
   "id": "d31069fd",
   "metadata": {},
   "outputs": [],
   "source": [
    "%%cpp\n",
    "combination(3, 1)"
   ]
  },
  {
   "cell_type": "code",
   "execution_count": null,
   "id": "dbbb317d",
   "metadata": {},
   "outputs": [],
   "source": [
    "%%cpp\n",
    "combination(3, 2)"
   ]
  },
  {
   "cell_type": "code",
   "execution_count": null,
   "id": "64e69b3d",
   "metadata": {},
   "outputs": [],
   "source": [
    "%%cpp\n",
    "combination(3, 3)"
   ]
  },
  {
   "cell_type": "code",
   "execution_count": null,
   "id": "66bf94e5",
   "metadata": {},
   "outputs": [],
   "source": [
    "%%cpp\n",
    "combination(3, 4)"
   ]
  },
  {
   "cell_type": "markdown",
   "id": "1958a87d",
   "metadata": {},
   "source": [
    "::::{exercise}\n",
    ":label: ex:combination1\n",
    "\n",
    "Why `combination(-1,0)` does not return an empty vector, as show using the method [`empty`](v)?\n",
    "\n",
    "```cpp\n",
    "bool empty() const;\n",
    "```\n",
    "\n",
    "::::"
   ]
  },
  {
   "cell_type": "code",
   "execution_count": null,
   "id": "86ca0cf7",
   "metadata": {},
   "outputs": [],
   "source": [
    "%%cpp\n",
    "combination(-1,0).empty()"
   ]
  },
  {
   "cell_type": "markdown",
   "id": "cfa31532",
   "metadata": {
    "deletable": false,
    "nbgrader": {
     "cell_type": "markdown",
     "checksum": "7208120d4144a0c0671df313598ef98d",
     "grade": true,
     "grade_id": "combination1",
     "locked": false,
     "points": 0,
     "schema_version": 3,
     "solution": true,
     "task": false
    }
   },
   "source": [
    "YOUR ANSWER HERE"
   ]
  },
  {
   "cell_type": "markdown",
   "id": "d1c175bb",
   "metadata": {},
   "source": [
    "Consider counting the number combinations using the method [size](https://en.cppreference.com/w/cpp/container/vector/size.html):\n",
    "\n",
    "```cpp\n",
    "size_type size() const;\n",
    "```"
   ]
  },
  {
   "cell_type": "code",
   "execution_count": null,
   "id": "712369c6",
   "metadata": {},
   "outputs": [],
   "source": [
    "%%ai\n",
    "Explain in one line what does `const` mean for the method. \n",
    "What are other possible qualifiers:\n",
    "--\n",
    "size_type size() const;"
   ]
  },
  {
   "cell_type": "markdown",
   "id": "76630456",
   "metadata": {},
   "source": [
    "For instance, the total number of $11$-combinations of $22$ items is:"
   ]
  },
  {
   "cell_type": "code",
   "execution_count": null,
   "id": "a704fab7",
   "metadata": {},
   "outputs": [],
   "source": [
    "%%cpp\n",
    "combination(22, 11).size()"
   ]
  },
  {
   "cell_type": "markdown",
   "id": "525c52fd",
   "metadata": {},
   "source": [
    "The above requires about 6 seconds to compute. Similarly, the following computes the total number of $12$-combinations of $24$ items: (It takes about **30 seconds** to execute. You have been warned.)"
   ]
  },
  {
   "cell_type": "code",
   "execution_count": null,
   "id": "9f6d02b6",
   "metadata": {},
   "outputs": [],
   "source": [
    "%%cpp\n",
    "combination(24, 12).size()"
   ]
  },
  {
   "cell_type": "markdown",
   "id": "e7a5b082",
   "metadata": {},
   "source": [
    "**How to improve the performance?**"
   ]
  },
  {
   "cell_type": "markdown",
   "id": "c6fea8c5",
   "metadata": {},
   "source": [
    "If the goal is to compute the number of combinations, we can do it simply by computing the binomial coefficient:"
   ]
  },
  {
   "cell_type": "markdown",
   "id": "113f882f",
   "metadata": {},
   "source": [
    "::::{prf:proposition}\n",
    ":label: pro:binomial_coefficient\n",
    "\n",
    "The number of $k$-combinations of $n$ items is \n",
    "\n",
    "$$\n",
    "{n \\choose k} := \\frac{n!}{(n-k)!k!},\n",
    "$$\n",
    "\n",
    "which is called the [binomial coefficient](https://en.wikipedia.org/wiki/Binomial_coefficient).\n",
    "\n",
    "::::"
   ]
  },
  {
   "cell_type": "code",
   "execution_count": null,
   "id": "dd5bc71b",
   "metadata": {},
   "outputs": [],
   "source": [
    "%%cpp\n",
    "unsigned long binomial_coefficient(const size_t n, const size_t k) {\n",
    "    return k<=n? (k? binomial_coefficient(n-1, k) + binomial_coefficient(n-1, k-1) : 1uL) : 0uL;\n",
    "}\n",
    "binomial_coefficient(24, 12)"
   ]
  },
  {
   "cell_type": "markdown",
   "id": "0c1be438",
   "metadata": {},
   "source": [
    "How to improve the performance of `combination`?"
   ]
  },
  {
   "cell_type": "markdown",
   "id": "1d003a8a",
   "metadata": {},
   "source": [
    "Thanks to encapsulation, we can easily improve our code by choosing a suitable object and its associated methods:"
   ]
  },
  {
   "cell_type": "markdown",
   "id": "5d103e2b",
   "metadata": {},
   "source": [
    "::::{code} cpp\n",
    ":label: code_combination2\n",
    ":linenos:\n",
    ":caption: Returning a [`std::list`](https://en.cppreference.com/w/cpp/container/list.html) of $k$-combinations of $n$ items $\\Set{0,1, \\dots, n-1}$.\n",
    "std::function<std::list<vector<size_t> >(const size_t, const size_t)>\n",
    "combination=[&combination](const size_t n, const size_t k) {\n",
    "    list<vector<size_t> > output;\n",
    "    if (k<=n) {\n",
    "        if (k) {\n",
    "            output.splice(output.cend(), combination(n-1, k));\n",
    "            list<vector<size_t> > subset_seq=combination(n-1, k-1);\n",
    "            for (auto &subset : subset_seq) subset.push_back(n-1);\n",
    "            output.splice(output.cend(), subset_seq);\n",
    "        } else output.emplace_back();\n",
    "    }\n",
    "    return output;\n",
    "};\n",
    "::::"
   ]
  },
  {
   "cell_type": "code",
   "execution_count": null,
   "id": "c7e0e774",
   "metadata": {},
   "outputs": [],
   "source": [
    "%%cpp\n",
    "std::function<std::list<vector<size_t> >(const size_t, const size_t)>\n",
    "combination=[&combination](const size_t n, const size_t k) {\n",
    "    list<vector<size_t> > output;\n",
    "    if (k<=n) {\n",
    "        if (k) {\n",
    "            output.splice(output.cend(), combination(n-1, k));\n",
    "            list<vector<size_t> > subset_seq=combination(n-1, k-1);\n",
    "            for (auto &subset : subset_seq) subset.push_back(n-1);\n",
    "            output.splice(output.cend(), subset_seq);\n",
    "        } else output.emplace_back();\n",
    "    }\n",
    "    return output;\n",
    "};\n",
    "\n",
    "combination(3, 2)"
   ]
  },
  {
   "cell_type": "markdown",
   "id": "aeff88f9",
   "metadata": {},
   "source": [
    "The following call now completes in about 1 second instead of 6 seconds:"
   ]
  },
  {
   "cell_type": "code",
   "execution_count": null,
   "id": "c3653fe5",
   "metadata": {},
   "outputs": [],
   "source": [
    "%%cpp\n",
    "combination(22, 11).size()"
   ]
  },
  {
   "cell_type": "markdown",
   "id": "3f687d45",
   "metadata": {},
   "source": [
    "The following call completes in about 3-4 seconds instead of 30 seconds:"
   ]
  },
  {
   "cell_type": "code",
   "execution_count": null,
   "id": "d76ea76e",
   "metadata": {},
   "outputs": [],
   "source": [
    "%%cpp\n",
    "combination(24, 12).size()"
   ]
  },
  {
   "cell_type": "markdown",
   "id": "24b3426d",
   "metadata": {},
   "source": [
    "That is close to 10 times speed up!"
   ]
  },
  {
   "cell_type": "markdown",
   "id": "f3192f3a",
   "metadata": {},
   "source": [
    "In [](#code_combination1), we mainly used the method [`push_back`](https://en.cppreference.com/w/cpp/container/vector/push_back.html) to create each combination and the collection of all combinations. There are two overloads:\n",
    "\n",
    "```cpp\n",
    "void push_back( const T& value );\n",
    "void push_back( T&& value );\n",
    "```\n",
    "\n",
    "Which overload is used and why?"
   ]
  },
  {
   "cell_type": "code",
   "execution_count": null,
   "id": "921de0fa",
   "metadata": {},
   "outputs": [],
   "source": [
    "%%ai\n",
    "Explain very briefly what are the differences between the two overloads:\n",
    "--\n",
    "void push_back( const T& value );\n",
    "void push_back( T&& value );"
   ]
  },
  {
   "cell_type": "markdown",
   "id": "99650a01",
   "metadata": {},
   "source": [
    "In [](#code_combination2), we used the [`std::list`](https://en.cppreference.com/w/cpp/container/list.html) object to store the collection of combinations, and its method [`splice`](https://en.cppreference.com/w/cpp/container/list/splice.html) to concatenate lists of combinations:\n",
    "\n",
    "```cpp\n",
    "void splice( const_iterator pos, list& other );\n",
    "void splice( const_iterator pos, list&& other );\n",
    "void splice( const_iterator pos, list& other, const_iterator it );\n",
    "void splice( const_iterator pos, list&& other, const_iterator it );\n",
    "void splice( const_iterator pos, list& other,\n",
    "             const_iterator first, const_iterator last );\n",
    "void splice( const_iterator pos, list&& other,\n",
    "             const_iterator first, const_iterator last );\n",
    "```"
   ]
  },
  {
   "cell_type": "markdown",
   "id": "2c14db64",
   "metadata": {},
   "source": [
    "Again, which overload is used and why?"
   ]
  },
  {
   "cell_type": "code",
   "execution_count": null,
   "id": "40d7d74b",
   "metadata": {},
   "outputs": [],
   "source": [
    "%%ai\n",
    "Explain very briefly what are the differences between the two overloads:\n",
    "--\n",
    "void splice( const_iterator pos, list& other );\n",
    "void splice( const_iterator pos, list&& other );\n",
    "void splice( const_iterator pos, list& other, const_iterator it );\n",
    "void splice( const_iterator pos, list&& other, const_iterator it );\n",
    "void splice( const_iterator pos, list& other,\n",
    "             const_iterator first, const_iterator last );\n",
    "void splice( const_iterator pos, list&& other,\n",
    "             const_iterator first, const_iterator last );"
   ]
  },
  {
   "cell_type": "markdown",
   "id": "22bff860",
   "metadata": {},
   "source": [
    "We also used the method [`emplace_back()`](https://en.cppreference.com/w/cpp/container/list/emplace_back.html) in [](#code_combination2) in place of `push_back(vector<size_t>())` in [](#code_combination1) to add an empty combination, without constructing the combination explicitly:\n",
    "\n",
    "```cpp\n",
    "template< class... Args >\n",
    "reference emplace_back( Args&&... args );\n",
    "```"
   ]
  },
  {
   "cell_type": "markdown",
   "id": "7cc7f14f",
   "metadata": {},
   "source": [
    "What does the `...` mean and why is it used?"
   ]
  },
  {
   "cell_type": "code",
   "execution_count": null,
   "id": "0745cb8e",
   "metadata": {},
   "outputs": [],
   "source": [
    "%%ai\n",
    "Explain very briefly the following syntax:\n",
    "--\n",
    "template< class... Args >\n",
    "reference emplace_back( Args&&... args );"
   ]
  },
  {
   "cell_type": "code",
   "execution_count": null,
   "id": "c9d8c904",
   "metadata": {},
   "outputs": [],
   "source": [
    "%%ai\n",
    "Why construct in-place using `emplace_back` instead of `push_back`?"
   ]
  },
  {
   "cell_type": "markdown",
   "id": "34ed4aa3",
   "metadata": {},
   "source": [
    "While we can reuse code easily with OOP, we need to know how to choose the object, its methods, and their overloads. That demands a deeper understanding of the design of the object and how its resources are managed. We will take a closer look at `std::vector` and `st::list`."
   ]
  },
  {
   "cell_type": "markdown",
   "id": "f90fd9bf",
   "metadata": {},
   "source": [
    "## Referencing Resources"
   ]
  },
  {
   "cell_type": "markdown",
   "id": "c4c38273",
   "metadata": {},
   "source": [
    "To understand the difference between `&&` and `&`, recall the following code from a previous lecture. What is the value of `a` after executing the following code?"
   ]
  },
  {
   "cell_type": "code",
   "execution_count": null,
   "id": "d09ef1ca",
   "metadata": {},
   "outputs": [],
   "source": [
    "%%cpp\n",
    "auto a=1, &b=a;\n",
    "b+=1;\n",
    "a"
   ]
  },
  {
   "cell_type": "markdown",
   "id": "1757214b",
   "metadata": {},
   "source": [
    "To see why `a` is `2` instead of `1`, we can print the addresses of `a` and `b` and show that the addresses are the same:"
   ]
  },
  {
   "cell_type": "code",
   "execution_count": null,
   "id": "d3c2e791",
   "metadata": {},
   "outputs": [],
   "source": [
    "%%cpp\n",
    "auto a=1, &b=L(a);\n",
    "L(b)+=1;\n",
    "a"
   ]
  },
  {
   "cell_type": "markdown",
   "id": "fe688f52",
   "metadata": {},
   "source": [
    "`L` is a macro\n",
    "\n",
    "```cpp\n",
    "#define L(x) loc(x, std::string(\"(\")+std::string(type<decltype(x)>())+\") \"+#x)\n",
    "```\n",
    "\n",
    "which expands to a call to the function `loc` in the header file [\"utility.hpp\"](./utility.hpp). The function\n",
    "\n",
    "- decorates a value by printing its address, but\n",
    "- preserves the value so that the behavior of the original code remains unchanged.\n",
    "\n",
    "**How to properly pass an argument by reference to implement the `loc` function?**"
   ]
  },
  {
   "cell_type": "markdown",
   "id": "ccb331bc",
   "metadata": {},
   "source": [
    "### Lvalue Reference"
   ]
  },
  {
   "cell_type": "markdown",
   "id": "fe0acb82",
   "metadata": {},
   "source": [
    "The following implementation passes the argument and return it by [lvalue reference](https://en.cppreference.com/w/cpp/language/reference.html#Lvalue_references):"
   ]
  },
  {
   "cell_type": "code",
   "execution_count": null,
   "id": "8569e915",
   "metadata": {},
   "outputs": [],
   "source": [
    "%%cpp\n",
    "auto &loc1(auto &x) {\n",
    "    cout << format(\"@{:p}\\n\", static_cast<void *>(&x));\n",
    "    return x;\n",
    "}"
   ]
  },
  {
   "cell_type": "markdown",
   "id": "e55233a9",
   "metadata": {},
   "source": [
    "It appears to work:"
   ]
  },
  {
   "cell_type": "code",
   "execution_count": null,
   "id": "4081b1ea",
   "metadata": {},
   "outputs": [],
   "source": [
    "%%cpp\n",
    "auto a=1, &b=loc1(a);\n",
    "loc1(b)+=1;\n",
    "a"
   ]
  },
  {
   "cell_type": "markdown",
   "id": "69975d13",
   "metadata": {},
   "source": [
    "::::{exercise}\n",
    ":label: ex:loc1:const\n",
    "\n",
    "Why does `loc1` fail for constant arguments?\n",
    "\n",
    "```cpp\n",
    "const auto a=1, &b=loc1(a);\n",
    "loc1(b)\n",
    "```\n",
    "\n",
    ":::{hint}\n",
    "\n",
    "See [const_cast](https://en.cppreference.com/w/cpp/language/const_cast.html).\n",
    "\n",
    ":::\n",
    "\n",
    "::::"
   ]
  },
  {
   "cell_type": "markdown",
   "id": "27a3820c",
   "metadata": {
    "deletable": false,
    "nbgrader": {
     "cell_type": "markdown",
     "checksum": "b147cbaa84d613def5c0ac687975de5b",
     "grade": true,
     "grade_id": "loc1-const",
     "locked": false,
     "points": 0,
     "schema_version": 3,
     "solution": true,
     "task": false
    }
   },
   "source": [
    "YOUR ANSWER HERE"
   ]
  },
  {
   "cell_type": "markdown",
   "id": "48be11c3",
   "metadata": {},
   "source": [
    "Instead of using `const_cast`, it is safer to implement the following fix:"
   ]
  },
  {
   "cell_type": "code",
   "execution_count": null,
   "id": "3efd1b79",
   "metadata": {},
   "outputs": [],
   "source": [
    "%%cpp\n",
    "auto &loc1(auto &x) {\n",
    "    cout << format(\"@{:p}\\n\", static_cast<const void *>(&x));\n",
    "    return x;\n",
    "}"
   ]
  },
  {
   "cell_type": "markdown",
   "id": "2d145fe2",
   "metadata": {},
   "source": [
    "`loc1` now works for constants:"
   ]
  },
  {
   "cell_type": "code",
   "execution_count": null,
   "id": "384eeef5",
   "metadata": {},
   "outputs": [],
   "source": [
    "%%cpp\n",
    "const auto a=1, &b=loc1(a);\n",
    "loc1(b)"
   ]
  },
  {
   "cell_type": "code",
   "execution_count": null,
   "id": "58612cd0",
   "metadata": {},
   "outputs": [],
   "source": [
    "%%ai\n",
    "Explain briefly when it is essential to use const_cast instead of static_cast\n",
    "for constant pointers."
   ]
  },
  {
   "cell_type": "markdown",
   "id": "339031b3",
   "metadata": {},
   "source": [
    "Consider the following direct initialization:"
   ]
  },
  {
   "cell_type": "code",
   "execution_count": null,
   "id": "b43e1317",
   "metadata": {},
   "outputs": [],
   "source": [
    "%%cpp\n",
    "auto u(vector<int>{1, 2, 3});"
   ]
  },
  {
   "cell_type": "markdown",
   "id": "9f77fcd6",
   "metadata": {},
   "source": [
    "**Does `u` reuse the memory allocated to the rvalue `vector<int>{1, 2, 3}`?**"
   ]
  },
  {
   "cell_type": "markdown",
   "id": "28190204",
   "metadata": {},
   "source": [
    "::::{exercise}\n",
    ":label: ex:loc1\n",
    "\n",
    "Why using `loc1` as follows leads to an error?\n",
    "\n",
    "```cpp\n",
    "auto u(loc1(vector<int>{1, 2, 3}));\n",
    "loc1(u);\n",
    "```\n",
    "\n",
    "As the following program shows, `loc1` appears to work for C-string but fail for the compound literal for `char`. Why?\n",
    "\n",
    "::::"
   ]
  },
  {
   "cell_type": "code",
   "execution_count": null,
   "id": "4f7f31be",
   "metadata": {},
   "outputs": [],
   "source": [
    "%%cpp\n",
    "loc1(\"a\")        // works?!"
   ]
  },
  {
   "cell_type": "code",
   "execution_count": null,
   "id": "668ee2b3",
   "metadata": {},
   "outputs": [],
   "source": [
    "%%cpp\n",
    "// loc1((char[]){'a');  // fails: expects an lvalue for 1st argument\n",
    "// loc1(static_cast<char * const>((char[]){'a', 0})); // making it constant also fail\n",
    "(char[]){'a', 0}            // isn't it just \"a\"?"
   ]
  },
  {
   "cell_type": "markdown",
   "id": "6075b9f8",
   "metadata": {
    "deletable": false,
    "nbgrader": {
     "cell_type": "markdown",
     "checksum": "504cc9118d7a58e7f7a595afad643f0f",
     "grade": true,
     "grade_id": "loc1",
     "locked": false,
     "points": 0,
     "schema_version": 3,
     "solution": true,
     "task": false
    }
   },
   "source": [
    "YOUR ANSWER HERE"
   ]
  },
  {
   "cell_type": "markdown",
   "id": "b8325136",
   "metadata": {},
   "source": [
    "A potential fix is to add `const` qualifier to the parameter `x`:"
   ]
  },
  {
   "cell_type": "code",
   "execution_count": null,
   "id": "d8e800b3",
   "metadata": {},
   "outputs": [],
   "source": [
    "%%cpp\n",
    "auto &loc2(const auto &x) {\n",
    "    cout << format(\"@{:p}\\n\", static_cast<const void *>(&x));\n",
    "    return x;\n",
    "}"
   ]
  },
  {
   "cell_type": "code",
   "execution_count": null,
   "id": "9f0810fc",
   "metadata": {},
   "outputs": [],
   "source": [
    "%%cpp\n",
    "auto u(loc2(vector<int>{1, 2, 3}));\n",
    "loc2(u)"
   ]
  },
  {
   "cell_type": "markdown",
   "id": "536f17d8",
   "metadata": {},
   "source": [
    "::::{exercise}\n",
    ":label: ex:loc2\n",
    "\n",
    "Why does the following code fail?\n",
    "\n",
    "```cpp\n",
    "auto u(loc2(vector<int>{1, 2, 3}));\n",
    "loc2(u).push_back(4);\n",
    "```\n",
    "\n",
    "::::"
   ]
  },
  {
   "cell_type": "markdown",
   "id": "afdef6da",
   "metadata": {
    "deletable": false,
    "nbgrader": {
     "cell_type": "markdown",
     "checksum": "e9811f73b84acc0111cf53a856da5671",
     "grade": true,
     "grade_id": "loc2",
     "locked": false,
     "points": 0,
     "schema_version": 3,
     "solution": true,
     "task": false
    }
   },
   "source": [
    "YOUR ANSWER HERE"
   ]
  },
  {
   "cell_type": "markdown",
   "id": "5a682ce6",
   "metadata": {},
   "source": [
    "### Rvalue Reference"
   ]
  },
  {
   "cell_type": "markdown",
   "id": "30ac965f",
   "metadata": {},
   "source": [
    "A potential fix is to pass the argument by [rvalue reference](https://en.cppreference.com/w/cpp/language/reference.html#Rvalue_references) using `&&` instead of `&`:"
   ]
  },
  {
   "cell_type": "code",
   "execution_count": null,
   "id": "2664d160",
   "metadata": {},
   "outputs": [],
   "source": [
    "%%cpp\n",
    "auto &loc3(auto &&x) {\n",
    "    cout << format(\"@{:p}\\n\", static_cast<const void *>(&x));\n",
    "    return x;\n",
    "}"
   ]
  },
  {
   "cell_type": "code",
   "execution_count": null,
   "id": "3841b770",
   "metadata": {},
   "outputs": [],
   "source": [
    "%%cpp\n",
    "auto u(loc3(vector<int>{1, 2, 3}));\n",
    "loc3(u).push_back(4);\n",
    "u"
   ]
  },
  {
   "cell_type": "markdown",
   "id": "7a10367e",
   "metadata": {},
   "source": [
    "It seems to work now, right?"
   ]
  },
  {
   "cell_type": "code",
   "execution_count": null,
   "id": "1028afb3",
   "metadata": {},
   "outputs": [],
   "source": [
    "%%cpp\n",
    "loc3(1) = 0;   // works?!\n",
    "1              // 1 is now 0?!"
   ]
  },
  {
   "cell_type": "markdown",
   "id": "1c0e2c27",
   "metadata": {},
   "source": [
    "::::{caution}  It doesn't work. Why?\n",
    ":class: dropdown\n",
    "\n",
    "`loc3` returns an lvalue instead, which is assignable even for simple integer type. In other words, `loc3` changed the behavior of the original code.\n",
    "\n",
    "::::"
   ]
  },
  {
   "cell_type": "markdown",
   "id": "df27636d",
   "metadata": {},
   "source": [
    "::::{exercise}\n",
    ":label: ex:rvalue_ref1\n",
    "Why does the following code not change `1` to `2`?\n",
    "\n",
    "::::"
   ]
  },
  {
   "cell_type": "code",
   "execution_count": null,
   "id": "009dca39",
   "metadata": {},
   "outputs": [],
   "source": [
    "%%cpp\n",
    "[](int &&x) {x=0;}(1);  // change 1 to 0\n",
    "auto x=1                // x is 0?"
   ]
  },
  {
   "cell_type": "markdown",
   "id": "abf908f0",
   "metadata": {
    "deletable": false,
    "nbgrader": {
     "cell_type": "markdown",
     "checksum": "b8a9f7a7f68efea43e8fb4b801463b90",
     "grade": true,
     "grade_id": "rvalue_ref1",
     "locked": false,
     "points": 0,
     "schema_version": 3,
     "solution": true,
     "task": false
    }
   },
   "source": [
    "YOUR ANSWER HERE"
   ]
  },
  {
   "cell_type": "markdown",
   "id": "370dbbff",
   "metadata": {},
   "source": [
    "How about returning the output by rvalue reference as well?"
   ]
  },
  {
   "cell_type": "code",
   "execution_count": null,
   "id": "40394584",
   "metadata": {},
   "outputs": [],
   "source": [
    "%%cpp\n",
    "template <class T>\n",
    "T &&loc4(T &&x) {\n",
    "    cout << format(\"@{:p}\\n\", static_cast<const void *>(&x));\n",
    "    return x;\n",
    "}"
   ]
  },
  {
   "cell_type": "markdown",
   "id": "8d3b1677",
   "metadata": {},
   "source": [
    "::::{caution}\n",
    "\n",
    "We used `template` instead of `auto` above because `auto &&loc4(auto &&x) { ... }` does not work for the ROOT kernel, similar to [this issue](https://github.com/jupyter-xeus/xeus-cling/issues/40).\n",
    "\n",
    "::::"
   ]
  },
  {
   "cell_type": "markdown",
   "id": "22bde361",
   "metadata": {},
   "source": [
    "::::{exercise}\n",
    ":label: ex:loc4\n",
    "\n",
    "Why does the following code fail?\n",
    "\n",
    "```cpp\n",
    "auto u(loc4(vector<int>{1, 2, 3}));\n",
    "```\n",
    "\n",
    "::::"
   ]
  },
  {
   "cell_type": "markdown",
   "id": "20c853f5",
   "metadata": {
    "deletable": false,
    "nbgrader": {
     "cell_type": "markdown",
     "checksum": "b77f90ed184de31780cdebee35e5332b",
     "grade": true,
     "grade_id": "loc4",
     "locked": false,
     "points": 0,
     "schema_version": 3,
     "solution": true,
     "task": false
    }
   },
   "source": [
    "YOUR ANSWER HERE"
   ]
  },
  {
   "cell_type": "markdown",
   "id": "10463a52",
   "metadata": {},
   "source": [
    "A potential fix is to cast `x` to an rvalue reference using [`std::move(x)`](https://en.cppreference.com/w/cpp/utility/move.html):"
   ]
  },
  {
   "cell_type": "code",
   "execution_count": null,
   "id": "2b6e9763",
   "metadata": {},
   "outputs": [],
   "source": [
    "%%cpp\n",
    "template <class T>\n",
    "T &&loc5(T &&x) {\n",
    "    cout << format(\"@{:p}\\n\", static_cast<const void *>(&x));\n",
    "    return std::move(x);\n",
    "}"
   ]
  },
  {
   "cell_type": "markdown",
   "id": "a1b45837",
   "metadata": {},
   "source": [
    "It appears to work now:"
   ]
  },
  {
   "cell_type": "code",
   "execution_count": null,
   "id": "af0c0496",
   "metadata": {},
   "outputs": [],
   "source": [
    "%%cpp\n",
    "auto u(loc5(vector<int>{1, 2, 3}));\n",
    "// loc5(1) = 0;   // fails: expression is not assignable"
   ]
  },
  {
   "cell_type": "markdown",
   "id": "198cd160",
   "metadata": {},
   "source": [
    "Does it really work? `loc5` fails to handle lvalue:\n",
    "\n",
    "```cpp\n",
    "auto a=1;\n",
    "loc5(a);\n",
    "```"
   ]
  },
  {
   "cell_type": "markdown",
   "id": "55ffa734",
   "metadata": {},
   "source": [
    "The error message is:\n",
    "\n",
    "::::{code}\n",
    ":label: err_loc5\n",
    ":linenos:\n",
    ":emphasize-lines: 2\n",
    "error: non-const lvalue reference to type 'int' cannot bind to a temporary of type 'typename\n",
    "std::remove_reference<int &>::type' (aka 'int')\n",
    "    return std::move(x);\n",
    "           ^~~~~~~~~~~~\n",
    "::::"
   ]
  },
  {
   "cell_type": "markdown",
   "id": "4e5b2b81",
   "metadata": {},
   "source": [
    "### Universal Reference"
   ]
  },
  {
   "cell_type": "markdown",
   "id": "7c220333",
   "metadata": {},
   "source": [
    "A potential fix is to use `static_cast` instead of `std::move`:"
   ]
  },
  {
   "cell_type": "code",
   "execution_count": null,
   "id": "5bac3301",
   "metadata": {},
   "outputs": [],
   "source": [
    "%%cpp\n",
    "template <class T>\n",
    "T &&loc6(T &&x) {\n",
    "    cout << format(\"@{:p}\\n\", static_cast<const void *>(&x));\n",
    "    return static_cast<T &&>(x);\n",
    "}"
   ]
  },
  {
   "cell_type": "code",
   "execution_count": null,
   "id": "43b061ef",
   "metadata": {},
   "outputs": [],
   "source": [
    "%%cpp\n",
    "auto u(loc6(vector<int>{1, 2, 3}));\n",
    "loc6(u)"
   ]
  },
  {
   "cell_type": "markdown",
   "id": "ed9294e3",
   "metadata": {},
   "source": [
    "But how can that make a difference? According to [the documentation](https://en.cppreference.com/w/cpp/utility/move.html):\n",
    "> It (`std::move`) is exactly equivalent to a static_cast to an rvalue reference type."
   ]
  },
  {
   "cell_type": "markdown",
   "id": "15a2a97e",
   "metadata": {},
   "source": [
    "The same fix does not work below:"
   ]
  },
  {
   "cell_type": "code",
   "execution_count": null,
   "id": "3dfadf62",
   "metadata": {},
   "outputs": [],
   "source": [
    "%%cpp\n",
    "int a=1;\n",
    "[](int &&b) { return static_cast<int &&>(b); }\n",
    "// (a);  // fails: expects an rvalue for 1st argument"
   ]
  },
  {
   "cell_type": "markdown",
   "id": "509ddab0",
   "metadata": {},
   "source": [
    "An important clue comes from the [error message of `loc5(a)`](#err_loc5):\n",
    "\n",
    "```cpp\n",
    "std::remove_reference<int &>::type' (aka 'int')\n",
    "```\n",
    "\n",
    "The return type from `loc5` is an lvalue, not an rvalue!"
   ]
  },
  {
   "cell_type": "markdown",
   "id": "84763fc8",
   "metadata": {},
   "source": [
    "::::{caution} Universal reference\n",
    ":class: dropdown\n",
    "\n",
    "For parameters of function templates, `&&` is a [forwarding/universal reference](https://en.cppreference.com/w/cpp/language/reference.html#Forwarding_references) instead of an rvalue reference. It simply forwards the argument, preserving its value category:\n",
    "\n",
    "- For the code `loc5(a);`, `a` is passed by lvalue reference, i.e., `T &&` becomes `int &`, which is also the return type by the function declaration `T &&loc5(T &&x)`. The return lvalue reference is non-const and therefore cannot bind to a temporary `std::move(x)`.\n",
    "- `loc6(a);` works because `static_cast<T &&>(x)` instantiates to `static_cast<int &>(x)`, which is an lvalue reference instead of a temporary!\n",
    "\n",
    "::::"
   ]
  },
  {
   "cell_type": "markdown",
   "id": "3d57a2c7",
   "metadata": {},
   "source": [
    "We can use [`std::forward<T>`](https://en.cppreference.com/w/cpp/utility/forward.html) instead of `static_cast<T &&>` to make it less confusing:\n",
    "\n",
    "::::{code} cpp\n",
    ":label: code_loc\n",
    ":caption: The implementation of `loc` in [\"utility.hpp\"](./utility.hpp).\n",
    "/**\n",
    " * @brief Logs the memory address of a variable along with an optional label.\n",
    " * \n",
    " * This function is useful for educational purposes, especially when tracking\n",
    " * object lifetimes, locations in memory, or verifying move semantics.\n",
    " * \n",
    " * @tparam T Type of the variable (supports universal references).\n",
    " * @param x The variable to log.\n",
    " * @param label Optional label to identify the variable in the output.\n",
    " * @return T&& Perfectly forwarded variable.\n",
    " */\n",
    "template <class T>\n",
    "T &&loc(T &&x, const string &label=\"\") {\n",
    "    cout << format(\"{} @{:p}\\n\",\n",
    "        label,\n",
    "        static_cast<const void*>(&x));\n",
    "    return std::forward<T>(x);\n",
    "}\n",
    "::::"
   ]
  },
  {
   "cell_type": "code",
   "execution_count": null,
   "id": "66094498",
   "metadata": {},
   "outputs": [],
   "source": [
    "%%cpp\n",
    "auto u(loc(vector<int>{1, 2, 3}));\n",
    "loc(u)"
   ]
  },
  {
   "cell_type": "markdown",
   "id": "32671ac4",
   "metadata": {},
   "source": [
    "**Back to our original endeavor, does `u` reuse the memory allocated to the rvalue `vector<int>{1, 2, 3}`?**"
   ]
  },
  {
   "cell_type": "markdown",
   "id": "d7386fd5",
   "metadata": {},
   "source": [
    "It seems that the rvalue `vector<int>{1, 2, 3}` occupies a different memory location than the lvalue `u` does. What about copy initializations?"
   ]
  },
  {
   "cell_type": "code",
   "execution_count": null,
   "id": "f78428da",
   "metadata": {},
   "outputs": [],
   "source": [
    "%%cpp\n",
    "auto u=LB((vector<int>{1, 2, 3}));\n",
    "auto v=LB(u);\n",
    "LB(v)"
   ]
  },
  {
   "cell_type": "code",
   "execution_count": null,
   "id": "8a48d1b5",
   "metadata": {},
   "outputs": [],
   "source": [
    "%%ai\n",
    "Explain very briefly how direct initialization in C++ is different from\n",
    "copy initialization and list initialization?"
   ]
  },
  {
   "cell_type": "markdown",
   "id": "63f9cad4",
   "metadata": {},
   "source": [
    "We are now ready to dive into how objects are constructed using different constructors and initializations."
   ]
  },
  {
   "cell_type": "markdown",
   "id": "6e837d1e",
   "metadata": {},
   "source": [
    "## Vector Construction"
   ]
  },
  {
   "cell_type": "markdown",
   "id": "a16872da",
   "metadata": {},
   "source": [
    "There many [constructors](https://en.cppreference.com/w/cpp/container/vector/vector.html) available for constructing vectors. Unlike other methods, constructors have no names but can be called in various ways to create rvalues or to initialize variables."
   ]
  },
  {
   "cell_type": "markdown",
   "id": "b3863071",
   "metadata": {},
   "source": [
    "### Converting Constructors"
   ]
  },
  {
   "cell_type": "markdown",
   "id": "9f698ca8",
   "metadata": {},
   "source": [
    "Constructors that take a single argument and is not marked as [explicit](https://en.cppreference.com/w/cpp/language/explicit.html) are called [converting constructors](https://en.cppreference.com/w/cpp/language/converting_constructor.html). These constructors can be used for implicit conversions or copy initialization."
   ]
  },
  {
   "cell_type": "markdown",
   "id": "d4bb0b97",
   "metadata": {},
   "source": [
    "#### Initializer‑List Constructor"
   ]
  },
  {
   "cell_type": "markdown",
   "id": "48aeb422",
   "metadata": {},
   "source": [
    "```cpp\n",
    "vector( std::initializer_list<T> init,\n",
    "        const Allocator& alloc = Allocator() );\n",
    "```\n",
    "adds elements from a (braced) [initializer list](https://en.cppreference.com/w/cpp/utility/initializer_list/initializer_list.html)."
   ]
  },
  {
   "cell_type": "code",
   "execution_count": null,
   "id": "ce54ff2d",
   "metadata": {},
   "outputs": [],
   "source": [
    "%%cpp\n",
    "vector<size_t> {0, 1, 2}     // vector constructed with braced initializer list"
   ]
  },
  {
   "cell_type": "code",
   "execution_count": null,
   "id": "9301b8e2",
   "metadata": {},
   "outputs": [],
   "source": [
    "%%cpp\n",
    "vector<size_t> u {0, 1, 2}   // list initialization"
   ]
  },
  {
   "cell_type": "code",
   "execution_count": null,
   "id": "21dead51",
   "metadata": {},
   "outputs": [],
   "source": [
    "%%cpp\n",
    "vector<size_t> u({0, 1, 2})  // direct initialization with braced initializer list"
   ]
  },
  {
   "cell_type": "code",
   "execution_count": null,
   "id": "0992a349",
   "metadata": {},
   "outputs": [],
   "source": [
    "%%cpp\n",
    "vector<size_t> u={0, 1, 2}   // copy-list initialization"
   ]
  },
  {
   "cell_type": "markdown",
   "id": "b4b23e8a",
   "metadata": {},
   "source": [
    "To use an initializer list explicitly:"
   ]
  },
  {
   "cell_type": "code",
   "execution_count": null,
   "id": "e672a7c4",
   "metadata": {},
   "outputs": [],
   "source": [
    "%%cpp\n",
    "initializer_list<size_t> ilist {0, 1, 2};\n",
    "(vector<size_t>(ilist))  // vector constructed with initializer list"
   ]
  },
  {
   "cell_type": "code",
   "execution_count": null,
   "id": "4a1dbb4e",
   "metadata": {},
   "outputs": [],
   "source": [
    "%%cpp\n",
    "vector<size_t> u(init_list)  // direct initialization with initializer list"
   ]
  },
  {
   "cell_type": "code",
   "execution_count": null,
   "id": "ca3db381",
   "metadata": {},
   "outputs": [],
   "source": [
    "%%ai\n",
    "Explain very briefly how is copy-list initialization different from\n",
    "list initialization for `std::vector`."
   ]
  },
  {
   "cell_type": "markdown",
   "id": "d582980f",
   "metadata": {},
   "source": [
    "#### Move Constructor"
   ]
  },
  {
   "cell_type": "markdown",
   "id": "8e5c87b1",
   "metadata": {},
   "source": [
    "```cpp\n",
    "vector( vector&& other );\n",
    "```\n",
    "moves elements from another vector:"
   ]
  },
  {
   "cell_type": "code",
   "execution_count": null,
   "id": "35d6fbd1",
   "metadata": {},
   "outputs": [],
   "source": [
    "%%cpp\n",
    "vector<int>(vector<int>{1, 2, 3}) // vector constructed with elements moved from other"
   ]
  },
  {
   "cell_type": "code",
   "execution_count": null,
   "id": "31c1827a",
   "metadata": {},
   "outputs": [],
   "source": [
    "%%cpp\n",
    "auto u(vector<int>{1, 2, 3})      // direct initialization"
   ]
  },
  {
   "cell_type": "code",
   "execution_count": null,
   "id": "99e724e5",
   "metadata": {},
   "outputs": [],
   "source": [
    "%%cpp\n",
    "auto u=vector<int>{1, 2, 3}       // copy initialization"
   ]
  },
  {
   "cell_type": "markdown",
   "id": "fc33af49",
   "metadata": {},
   "source": [
    "To see that elements are not duplicated:"
   ]
  },
  {
   "cell_type": "code",
   "execution_count": null,
   "id": "d00fadce",
   "metadata": {},
   "outputs": [],
   "source": [
    "%%cpp\n",
    "auto u(LB(L((vector<int>{1, 2, 3}))));\n",
    "L(LB(u))"
   ]
  },
  {
   "cell_type": "markdown",
   "id": "386cb8e0",
   "metadata": {},
   "source": [
    "Even though the lvalue `u` and rvalue `vector<int>{1, 2, 3}` have different memory locations, they begin storing their elements at the same location, i.e., the lvalue reuses the memory allocated to the rvalue."
   ]
  },
  {
   "cell_type": "markdown",
   "id": "2a3c0463",
   "metadata": {},
   "source": [
    ":::::{seealso} What is `LB`?\n",
    "\n",
    "`LB` is a macro defined as\n",
    "\n",
    "```cpp\n",
    "#define LB(x) loc_begin(x, std::string(\"(\")+std::string(type<decltype(x)>())+\") \"+#x)\n",
    "```\n",
    "\n",
    "which expands to a call to `loc_begin` in [\"utility.hpp\"](./utility.hpp) to locate the beginning of the vector:\n",
    "\n",
    "::::{code} cpp\n",
    "// Overload for containers with .cbegin()\n",
    "template <class T>\n",
    "std::enable_if_t<has_begin<T>::value, T&&>\n",
    "&&loc_begin(T &&x, const string &label=\"\") {\n",
    "    cout << format(\"{} begin@{:p}\\n\", label, static_cast<const void*>(&*(x.cbegin())));\n",
    "    return std::forward<T>(x);\n",
    "}\n",
    "::::\n",
    ":::::"
   ]
  },
  {
   "cell_type": "markdown",
   "id": "ab34f578",
   "metadata": {},
   "source": [
    "To see that the elements are moved:"
   ]
  },
  {
   "cell_type": "code",
   "execution_count": null,
   "id": "05e1822b",
   "metadata": {},
   "outputs": [],
   "source": [
    "%%cpp\n",
    "vector<size_t> u {1,2,3}, v(std::move(LB(u))); // move elements of `u` to `v`\n",
    "LB(u).empty()? LB(v): throw runtime_error(\"Elements of `u` should be moved!\")"
   ]
  },
  {
   "cell_type": "markdown",
   "id": "e03af1d7",
   "metadata": {},
   "source": [
    "`std::move` casts `u` into an rvalue, which is then passed to the move constructor: \n",
    "- The move constructor steals the resources from `u`, making it empty and\n",
    "- the address of its first element becomes `nullptr`."
   ]
  },
  {
   "cell_type": "markdown",
   "id": "247b82f3",
   "metadata": {},
   "source": [
    "#### Copy Constructor"
   ]
  },
  {
   "cell_type": "markdown",
   "id": "c7c328c7",
   "metadata": {},
   "source": [
    "```cpp\n",
    "vector( const vector& other );\n",
    "```\n",
    "can be used to copy elements from another vector:"
   ]
  },
  {
   "cell_type": "code",
   "execution_count": null,
   "id": "1723c851",
   "metadata": {},
   "outputs": [],
   "source": [
    "%%cpp\n",
    "vector<size_t> u {1,2,3};\n",
    "(vector<size_t>(u))  // vector constructed with elements copied from other"
   ]
  },
  {
   "cell_type": "code",
   "execution_count": null,
   "id": "e8b047ce",
   "metadata": {},
   "outputs": [],
   "source": [
    "%%cpp\n",
    "auto v(u)  // direct initialization"
   ]
  },
  {
   "cell_type": "code",
   "execution_count": null,
   "id": "8af0b4ba",
   "metadata": {},
   "outputs": [],
   "source": [
    "%%cpp\n",
    "auto v=u  // copy initialization"
   ]
  },
  {
   "cell_type": "markdown",
   "id": "bf6c5207",
   "metadata": {},
   "source": [
    "To see that the elements are duplicated:"
   ]
  },
  {
   "cell_type": "code",
   "execution_count": null,
   "id": "fc6d625c",
   "metadata": {},
   "outputs": [],
   "source": [
    "%%cpp\n",
    "(LB(u) == LB(v))"
   ]
  },
  {
   "cell_type": "markdown",
   "id": "1332d9df",
   "metadata": {},
   "source": [
    "`v` is equal to `u` but it does not begin at the same location as `u`."
   ]
  },
  {
   "cell_type": "markdown",
   "id": "42b28ccf",
   "metadata": {},
   "source": [
    "::::{seealso} Object copying\n",
    "\n",
    "- `v` is said to be a [deep copy](https://en.wikipedia.org/wiki/Object_copying#Deep_copy) of `u` in the sense that `v` is a new container whose elements are copies of those of `u`.\n",
    "- In contrast, a [shallow copy](https://en.wikipedia.org/wiki/Object_copying#Shallow_copy) reuses the elements of the original.\n",
    "\n",
    "::::"
   ]
  },
  {
   "cell_type": "markdown",
   "id": "439dc495",
   "metadata": {},
   "source": [
    "Shallow copy is prone to mutability bug. For instance:"
   ]
  },
  {
   "cell_type": "markdown",
   "id": "899e503b",
   "metadata": {},
   "source": [
    "::::{exercise}\n",
    ":label: ex:deep_copy\n",
    "\n",
    "Explain why `s` at the end of the following code is not `\"aba\"`?\n",
    "\n",
    ":::{hint}\n",
    "\n",
    "The first call `LB(s)` uses the overload\n",
    "\n",
    "```cpp\n",
    "// Overload for C-style arrays\n",
    "template <class T, size_t N>\n",
    "T (&loc_begin(T (&x)[N], const string &label = \"\"))[N] {\n",
    "    cout << format(\"{} begin@{:p}\\n\", label, static_cast<const void*>(&x[0]));\n",
    "    return x;\n",
    "}\n",
    "```\n",
    "\n",
    "but the second call `LB(t)` uses the overload\n",
    "\n",
    "```cpp\n",
    "// For pointers or decayed arrays\n",
    "template <class T>\n",
    "typename std::enable_if<std::is_pointer<T>::value, T>::type\n",
    "loc_begin(T x, const string& label = \"\") {\n",
    "    cout << format(\"{} begin@{:p}\\n\", label, static_cast<const void*>(x));\n",
    "    return x;\n",
    "}\n",
    "```\n",
    "\n",
    ":::\n",
    "\n",
    "::::"
   ]
  },
  {
   "cell_type": "code",
   "execution_count": null,
   "id": "74238498",
   "metadata": {},
   "outputs": [],
   "source": [
    "%%cpp\n",
    "char s[]=\"aba\";\n",
    "auto t(LB(s));\n",
    "LB(t)[1]='v';\n",
    "s // aba?"
   ]
  },
  {
   "cell_type": "markdown",
   "id": "75bae016",
   "metadata": {
    "deletable": false,
    "nbgrader": {
     "cell_type": "markdown",
     "checksum": "10725bd3aa3cca4ea01c596c47961e61",
     "grade": true,
     "grade_id": "deep_copy",
     "locked": false,
     "points": 0,
     "schema_version": 3,
     "solution": true,
     "task": false
    }
   },
   "source": [
    "YOUR ANSWER HERE"
   ]
  },
  {
   "cell_type": "markdown",
   "id": "e123f3a2",
   "metadata": {},
   "source": [
    "::::{exercise}\n",
    ":label: ex:constructors1\n",
    "\n",
    "Explain all the constructors involved in the following declaration.\n",
    "\n",
    "::::"
   ]
  },
  {
   "cell_type": "code",
   "execution_count": null,
   "id": "d99fe6ee",
   "metadata": {},
   "outputs": [],
   "source": [
    "%%cpp\n",
    "auto u=vector<vector<size_t> > {{1}, {2, 3}}, v=u;\n",
    "v"
   ]
  },
  {
   "cell_type": "markdown",
   "id": "06887ec9",
   "metadata": {
    "deletable": false,
    "nbgrader": {
     "cell_type": "markdown",
     "checksum": "f5012ff269f33b34f3b525396b051061",
     "grade": true,
     "grade_id": "constructor1",
     "locked": false,
     "points": 0,
     "schema_version": 3,
     "solution": true,
     "task": false
    }
   },
   "source": [
    "YOUR ANSWER HERE"
   ]
  },
  {
   "cell_type": "markdown",
   "id": "1b9cf875",
   "metadata": {},
   "source": [
    "### Explicit Constructors"
   ]
  },
  {
   "cell_type": "markdown",
   "id": "e93f9827",
   "metadata": {},
   "source": [
    "There are also constructors that cannot be used in copy initialization nor implicit conversion."
   ]
  },
  {
   "cell_type": "markdown",
   "id": "2daeed46",
   "metadata": {},
   "source": [
    "#### Default Constructor"
   ]
  },
  {
   "cell_type": "markdown",
   "id": "8b3a7139",
   "metadata": {},
   "source": [
    "```cpp\n",
    "vector() noexcept(noexcept(Allocator())) : vector(Allocator()) {}\n",
    "```\n",
    "takes no argument and returns an empty vector:"
   ]
  },
  {
   "cell_type": "code",
   "execution_count": null,
   "id": "36ce9329",
   "metadata": {},
   "outputs": [],
   "source": [
    "%%cpp\n",
    "vector<size_t>()"
   ]
  },
  {
   "cell_type": "code",
   "execution_count": null,
   "id": "7e855856",
   "metadata": {},
   "outputs": [],
   "source": [
    "%%cpp\n",
    "vector<size_t> u"
   ]
  },
  {
   "cell_type": "markdown",
   "id": "bdfed949",
   "metadata": {},
   "source": [
    ":::{caution}\n",
    "\n",
    "`vector<size_t> u()` is also incorrect as it can be mistaken to be a function declaration instead of a direct initialization with the default initializer.\n",
    "\n",
    ":::"
   ]
  },
  {
   "cell_type": "code",
   "execution_count": null,
   "id": "8d1e7bbe",
   "metadata": {},
   "outputs": [],
   "source": [
    "%%ai\n",
    "Explain brielfy the motivation of `noexcept` in the constructor:\n",
    "`vector() noexcept(noexcept(Allocator())) : vector(Allocator()) \\{\\}`"
   ]
  },
  {
   "cell_type": "markdown",
   "id": "03c02a7e",
   "metadata": {},
   "source": [
    "#### Fill Constructors"
   ]
  },
  {
   "cell_type": "markdown",
   "id": "c6c10a21",
   "metadata": {},
   "source": [
    ":::{code} cpp\n",
    ":linenos:\n",
    "explicit vector( size_type count, const Allocator& alloc = Allocator() );\n",
    "vector( size_type count, const T& value, const Allocator& alloc = Allocator() );\n",
    "::: \n",
    "fill a vector with `n` copies of `value`, if available, and `0` otherwise:"
   ]
  },
  {
   "cell_type": "code",
   "execution_count": null,
   "id": "444e7c5d",
   "metadata": {},
   "outputs": [],
   "source": [
    "%%cpp\n",
    "vector<size_t>(3, 4)           // vector constructed by the fill constructor"
   ]
  },
  {
   "cell_type": "code",
   "execution_count": null,
   "id": "5d830944",
   "metadata": {},
   "outputs": [],
   "source": [
    "%%cpp\n",
    "vector<size_t> u(2)      // direct initialization"
   ]
  },
  {
   "cell_type": "markdown",
   "id": "e07b4d74",
   "metadata": {},
   "source": [
    "::::{exercise} \n",
    ":label: ex:constructor2\n",
    "\n",
    "Why `vector<size_t> v=2;` does not create a vector `v` same as `u`?\n",
    "\n",
    "::::"
   ]
  },
  {
   "cell_type": "markdown",
   "id": "3d718e7a",
   "metadata": {
    "deletable": false,
    "nbgrader": {
     "cell_type": "markdown",
     "checksum": "caef38069dd392982ddbe67557509c6b",
     "grade": true,
     "grade_id": "constructor2",
     "locked": false,
     "points": 0,
     "schema_version": 3,
     "solution": true,
     "task": false
    }
   },
   "source": [
    "YOUR ANSWER HERE"
   ]
  },
  {
   "cell_type": "markdown",
   "id": "1fd38597",
   "metadata": {},
   "source": [
    "#### Range Constructor"
   ]
  },
  {
   "cell_type": "markdown",
   "id": "2c19b498",
   "metadata": {},
   "source": [
    "```cpp\n",
    "template<class InputIt> vector(InputIt first, InputIt last, const Allocator& a = Allocator())\n",
    "```\n",
    "copies elements within a range from the position `first` up to but excluding `last`:"
   ]
  },
  {
   "cell_type": "code",
   "execution_count": null,
   "id": "8cd2fe6e",
   "metadata": {},
   "outputs": [],
   "source": [
    "%%cpp\n",
    "vector<size_t> u {0, 1, 2, 3};\n",
    "vector<size_t>(u.cbegin(), u.cend()-1)   // vector constructed by coping elements of u except for the last"
   ]
  },
  {
   "cell_type": "code",
   "execution_count": null,
   "id": "6b84ed04",
   "metadata": {},
   "outputs": [],
   "source": [
    "%%cpp\n",
    "vector<size_t> v(u.cbegin(), u.cend()-2) // direct initialization"
   ]
  },
  {
   "cell_type": "markdown",
   "id": "1e2c6a5d",
   "metadata": {},
   "source": [
    "To show that the elements are copied:"
   ]
  },
  {
   "cell_type": "code",
   "execution_count": null,
   "id": "22ac76c2",
   "metadata": {},
   "outputs": [],
   "source": [
    "%%cpp\n",
    "L(u), L(v)"
   ]
  },
  {
   "cell_type": "code",
   "execution_count": null,
   "id": "83e5a4c2",
   "metadata": {},
   "outputs": [],
   "source": [
    "%%cpp\n",
    "vector<size_t> u {0, 1, 2, 3};\n",
    "vector<size_t>(u.crbegin(), u.crend())  // vector constructed by coping elements of u in reverse"
   ]
  },
  {
   "cell_type": "markdown",
   "id": "0a22f765",
   "metadata": {},
   "source": [
    "## Iterator"
   ]
  },
  {
   "cell_type": "markdown",
   "id": "30f406ec",
   "metadata": {},
   "source": [
    "The position of an element in a container is specified using an [iterator](https://en.cppreference.com/w/cpp/iterator.html), which is a generalization of pointers to elements of an array."
   ]
  },
  {
   "cell_type": "markdown",
   "id": "f1ecc3c0",
   "metadata": {},
   "source": [
    "- [`u.cbegin()`](https://en.cppreference.com/w/cpp/container/vector/begin.html) is the position of the first element of `u`.\n",
    "- [`u.cend()`](https://en.cppreference.com/w/cpp/container/vector/end.html) gives the position of an imaginary element one past the last element of `u`.\n",
    "- [`u.crbegin()`](https://en.cppreference.com/w/cpp/container/vector/rbegin.html) gives the position of the last (first) element of (reversed) `u`.\n",
    "- [`u.crend()`](https://en.cppreference.com/w/cpp/container/vector/rend.html) gives the position of an imaginary element one before (past) the first (last) element of (reversed) `u`."
   ]
  },
  {
   "cell_type": "markdown",
   "id": "c7a6e66a",
   "metadata": {},
   "source": [
    "Similar to a pointer, `*` can be used to dereference the element stored at a position. Other elements can also be accessed by incrementing the iterator:"
   ]
  },
  {
   "cell_type": "code",
   "execution_count": null,
   "id": "68b1a20e",
   "metadata": {},
   "outputs": [],
   "source": [
    "%%cpp\n",
    "vector<size_t> u {0, 1, 2, 3};\n",
    "for (auto it=u.cbegin()+1; it!=u.cend()-1; it++) cout << *it << '\\n';"
   ]
  },
  {
   "cell_type": "code",
   "execution_count": null,
   "id": "0342cd19",
   "metadata": {},
   "outputs": [],
   "source": [
    "%%cpp\n",
    "vector<size_t> u {0, 1, 2, 3};\n",
    "for (auto it=u.crbegin()+1; it!=u.crend()-1; it++) cout << *it << '\\n';"
   ]
  },
  {
   "cell_type": "markdown",
   "id": "9683c9a5",
   "metadata": {},
   "source": [
    "To modify the container, we need to use non-constant iterators returned by `begin`, `end`, `rbegin`, and `rend`:"
   ]
  },
  {
   "cell_type": "code",
   "execution_count": null,
   "id": "58d2d9a0",
   "metadata": {},
   "outputs": [],
   "source": [
    "%%cpp\n",
    "vector<size_t> u {0, 1, 2, 3};\n",
    "for (auto it=u.begin()+1; it!=u.end(); it++)\n",
    "  *it=*it+*(it-1);\n",
    "for (auto ui: u) cout << ui << ' ';"
   ]
  },
  {
   "cell_type": "markdown",
   "id": "7f0a7792",
   "metadata": {},
   "source": [
    "There are also other methods for iterators:\n",
    "\n",
    "- For containers that do not occupy continuous memory such as `std::list`, we may to use [`std::advance`](https://en.cppreference.com/w/cpp/iterator/advance.html)`(u, i)` instead.\n",
    "  ```cpp\n",
    "  template< class InputIt, class Distance > void advance( InputIt& it, Distance n );\n",
    "  template< class InputIt, class Distance > constexpr void advance( InputIt&    it, Distance n );\n",
    "  ```\n",
    "- `pos - u.cbegin()` or [`distance`](https://en.cppreference.com/w/cpp/iterator/distance.html)`(u.cbegin(), pos)` calculates how far an iterator `pos` of `u` is from its first element.\n",
    "- `u.cend()-pos` or `distance(u.cend(), pos)` calculates how far an iterator `pos` of `u` is from the element one past the last element of `u`."
   ]
  },
  {
   "cell_type": "code",
   "execution_count": null,
   "id": "f2ed01e8",
   "metadata": {},
   "outputs": [],
   "source": [
    "%%cpp\n",
    "vector<size_t> v {1, 2, 3, 4};\n",
    "auto it=v.cbegin();\n",
    "advance(it, 3);\n",
    "it=v.erase(it);\n",
    "advance(it, -2);\n",
    "it=v.erase(it);\n",
    "cout << format(\"Elements before and after {} removed.\\n\", *it);\n",
    "v"
   ]
  },
  {
   "cell_type": "code",
   "execution_count": null,
   "id": "acddaf7d",
   "metadata": {},
   "outputs": [],
   "source": [
    "%%cpp\n",
    "it-v.cbegin()"
   ]
  },
  {
   "cell_type": "code",
   "execution_count": null,
   "id": "cb648ed6",
   "metadata": {},
   "outputs": [],
   "source": [
    "%%cpp\n",
    "distance(v.cbegin(), it)"
   ]
  },
  {
   "cell_type": "code",
   "execution_count": null,
   "id": "1f340c8d",
   "metadata": {},
   "outputs": [],
   "source": [
    "%%ai\n",
    "Explain in one line the difference between begin vs cbegin, and end vs cend for std::vector."
   ]
  },
  {
   "cell_type": "markdown",
   "id": "a55c990c",
   "metadata": {},
   "source": [
    "## Vector Contraction"
   ]
  },
  {
   "cell_type": "markdown",
   "id": "7a6bb3e2",
   "metadata": {},
   "source": [
    "We can clear all elements of a vector using the [`clear`](https://en.cppreference.com/w/cpp/container/vector/clear.html) method:\n",
    "```cpp\n",
    "void clear();\n",
    "```"
   ]
  },
  {
   "cell_type": "code",
   "execution_count": null,
   "id": "aae84706",
   "metadata": {},
   "outputs": [],
   "source": [
    "%%cpp\n",
    "vector<size_t> v {1, 2, 3};\n",
    "v.clear();\n",
    "v"
   ]
  },
  {
   "cell_type": "markdown",
   "id": "8a190ecc",
   "metadata": {},
   "source": [
    "To erase only some of the elements, use the [`erase`](https://en.cppreference.com/w/cpp/container/vector/erase.html) method:\n",
    "\n",
    "::::{code} cpp\n",
    ":linenos:\n",
    "iterator erase( const_iterator pos );\n",
    "iterator erase( const_iterator first, const_iterator last );\n",
    "::::\n",
    "\n",
    "which returns an iterator pointing to the element that follows the last removed element, or `end()` if the last element was erased."
   ]
  },
  {
   "cell_type": "code",
   "execution_count": null,
   "id": "d5f39b8e",
   "metadata": {},
   "outputs": [],
   "source": [
    "%%cpp\n",
    "vector<size_t> v {1, 2, 3};\n",
    "auto it=v.erase(v.cbegin()+1);\n",
    "cout << format(\"Element before {} was removed.\\n\", *it);\n",
    "v"
   ]
  },
  {
   "cell_type": "markdown",
   "id": "73c9809c",
   "metadata": {},
   "source": [
    "We can also erase a range of elements by specifying the `first` and `last` (exclusive) positions:"
   ]
  },
  {
   "cell_type": "code",
   "execution_count": null,
   "id": "c3474648",
   "metadata": {},
   "outputs": [],
   "source": [
    "%%cpp\n",
    "vector<size_t> v {1, 2, 3};\n",
    "v.erase(v.cbegin()+1, v.cend());\n",
    "v"
   ]
  },
  {
   "cell_type": "markdown",
   "id": "04016584",
   "metadata": {},
   "source": [
    "## Vector Expansion"
   ]
  },
  {
   "cell_type": "markdown",
   "id": "e5070469",
   "metadata": {},
   "source": [
    "### Insert at the Back"
   ]
  },
  {
   "cell_type": "markdown",
   "id": "4b832c15",
   "metadata": {},
   "source": [
    "There are various ways to append an element to a `std::vector`."
   ]
  },
  {
   "cell_type": "markdown",
   "id": "f3104346",
   "metadata": {},
   "source": [
    "One way is to use [`push_back()`](https://en.cppreference.com/w/cpp/container/vector/push_back), which have two overloads:\n",
    "\n",
    "::::{code} cpp\n",
    ":linenos:\n",
    "void push_back( const T& value );\n",
    "void push_back( T&& value );\n",
    "::::"
   ]
  },
  {
   "cell_type": "code",
   "execution_count": null,
   "id": "6765ef47",
   "metadata": {},
   "outputs": [],
   "source": [
    "%%cpp\n",
    "vector<vector<size_t> > u;\n",
    "vector<size_t> v {0,1,2};\n",
    "u.push_back(v);\n",
    "u"
   ]
  },
  {
   "cell_type": "markdown",
   "id": "b274aa81",
   "metadata": {},
   "source": [
    "The above invokes the first overload since the rvalue reference in the second overload cannot bind to the lvalue `v`."
   ]
  },
  {
   "cell_type": "markdown",
   "id": "81851535",
   "metadata": {},
   "source": [
    "::::{exercise}\n",
    ":label: ex:push_back1\n",
    "\n",
    "Is `v` copied or moved to `u`?\n",
    "\n",
    "::::"
   ]
  },
  {
   "cell_type": "markdown",
   "id": "001573e7",
   "metadata": {
    "deletable": false,
    "nbgrader": {
     "cell_type": "markdown",
     "checksum": "682155b526fd57e70e3ab400ad3bdf88",
     "grade": true,
     "grade_id": "push_back1",
     "locked": false,
     "points": 0,
     "schema_version": 3,
     "solution": true,
     "task": false
    }
   },
   "source": [
    "YOUR ANSWER HERE"
   ]
  },
  {
   "cell_type": "markdown",
   "id": "2d5eee60",
   "metadata": {},
   "source": [
    "Observe that `v` and `u[0]` start at different locations:"
   ]
  },
  {
   "cell_type": "code",
   "execution_count": null,
   "id": "5855eb91",
   "metadata": {},
   "outputs": [],
   "source": [
    "%%cpp\n",
    "LB(v), LB(u[0])"
   ]
  },
  {
   "cell_type": "markdown",
   "id": "0a131d13",
   "metadata": {},
   "source": [
    "Modifying `v` does not affect `u`:"
   ]
  },
  {
   "cell_type": "code",
   "execution_count": null,
   "id": "9585db06",
   "metadata": {},
   "outputs": [],
   "source": [
    "%%cpp\n",
    "v[0]=2;\n",
    "u"
   ]
  },
  {
   "cell_type": "markdown",
   "id": "bf0c7098",
   "metadata": {},
   "source": [
    "`v` can be added to `u` again:"
   ]
  },
  {
   "cell_type": "code",
   "execution_count": null,
   "id": "c87b26af",
   "metadata": {},
   "outputs": [],
   "source": [
    "%%cpp\n",
    "u.push_back(v);\n",
    "u"
   ]
  },
  {
   "cell_type": "markdown",
   "id": "f0acbb2c",
   "metadata": {},
   "source": [
    "As a comparison, the following invokes the second overload by casting `v` as an rvalue using `std::move`:"
   ]
  },
  {
   "cell_type": "code",
   "execution_count": null,
   "id": "e484dd18",
   "metadata": {},
   "outputs": [],
   "source": [
    "%%cpp\n",
    "vector<vector<size_t> > u;\n",
    "vector<size_t> v {0,1,2};\n",
    "u.push_back(std::move(v));\n",
    "u.push_back(v);\n",
    "u"
   ]
  },
  {
   "cell_type": "markdown",
   "id": "0e825a62",
   "metadata": {},
   "source": [
    "Note that `v` is cleared after the move. To show that the elements are moved:"
   ]
  },
  {
   "cell_type": "code",
   "execution_count": null,
   "id": "72fe9955",
   "metadata": {},
   "outputs": [],
   "source": [
    "%%cpp\n",
    "vector<vector<size_t> > u;\n",
    "vector<size_t> v {0,1,2};\n",
    "L(v);\n",
    "u.push_back(std::move(LB(v)));\n",
    "LB(u[0]), L(u), L(v)"
   ]
  },
  {
   "cell_type": "markdown",
   "id": "3032642d",
   "metadata": {},
   "source": [
    "Even though `v` and `u[0]` have different locations, their elements begin at the same location. In essense, the [move constructor](#move-constructor) is invoked to move the elements from `v` to a new vector in `u`."
   ]
  },
  {
   "cell_type": "markdown",
   "id": "b3c19951",
   "metadata": {},
   "source": [
    "We can also add an rvalue directly without creating an extra variable:"
   ]
  },
  {
   "cell_type": "code",
   "execution_count": null,
   "id": "f05fc4fb",
   "metadata": {},
   "outputs": [],
   "source": [
    "%%cpp\n",
    "vector<vector<size_t> > u;\n",
    "u.push_back(vector<size_t>{0,1,2});\n",
    "u"
   ]
  },
  {
   "cell_type": "markdown",
   "id": "99448a93",
   "metadata": {},
   "source": [
    "This can be further simplified:"
   ]
  },
  {
   "cell_type": "code",
   "execution_count": null,
   "id": "cb4fc22d",
   "metadata": {},
   "outputs": [],
   "source": [
    "%%cpp\n",
    "vector<vector<size_t> > u;\n",
    "u.push_back({0,1,2});\n",
    "u"
   ]
  },
  {
   "cell_type": "markdown",
   "id": "c0fd2dc9",
   "metadata": {},
   "source": [
    "::::{exercise}\n",
    ":label: ex:push_back2\n",
    "\n",
    "Explain how different constructors are invoked in the above call to `push_back`.\n",
    "\n",
    "::::"
   ]
  },
  {
   "cell_type": "markdown",
   "id": "64c85950",
   "metadata": {
    "deletable": false,
    "nbgrader": {
     "cell_type": "markdown",
     "checksum": "b348cbe25e36d66abd0bdde9146eeb4e",
     "grade": true,
     "grade_id": "push_back2",
     "locked": false,
     "points": 0,
     "schema_version": 3,
     "solution": true,
     "task": false
    }
   },
   "source": [
    "YOUR ANSWER HERE"
   ]
  },
  {
   "cell_type": "markdown",
   "id": "415bffc8",
   "metadata": {},
   "source": [
    "Indeed, we can further simplify the code as follows:"
   ]
  },
  {
   "cell_type": "code",
   "execution_count": null,
   "id": "5538c0fe",
   "metadata": {},
   "outputs": [],
   "source": [
    "%%cpp\n",
    "vector<vector<size_t> > u;\n",
    "u.emplace_back((initializer_list<size_t>){0,1,2});\n",
    "u"
   ]
  },
  {
   "cell_type": "markdown",
   "id": "a16bb109",
   "metadata": {},
   "source": [
    "::::{caution}\n",
    "\n",
    "Both `u.emplace_back({0,1,2})` and `u.emplace_back(reinterpret_cast<std::initializer_list<size_t> >({0,1,2}))` fail. See [this post](https://stackoverflow.com/questions/24550924/emplacement-of-a-vector-with-initializer-list) for details.\n",
    "\n",
    "::::"
   ]
  },
  {
   "cell_type": "markdown",
   "id": "e21762ca",
   "metadata": {},
   "source": [
    "The constructed vector returned is exactly the vector added to the back:"
   ]
  },
  {
   "cell_type": "code",
   "execution_count": null,
   "id": "2b263cac",
   "metadata": {},
   "outputs": [],
   "source": [
    "%%cpp\n",
    "vector<vector<size_t> > u;\n",
    "L(u.emplace_back((initializer_list<size_t>){0,1,2})), L(u[0])"
   ]
  },
  {
   "cell_type": "markdown",
   "id": "7c46b815",
   "metadata": {},
   "source": [
    "Unlike `push_back`, [`emplace_back()`](https://en.cppreference.com/w/cpp/container/vector/emplace_back) constructs the vector [in-place](https://en.wikipedia.org/wiki/In-place_algorithm), i.e., the constructed vector is at the same location as the added vector:"
   ]
  },
  {
   "cell_type": "markdown",
   "id": "f0eef128",
   "metadata": {},
   "source": [
    "```cpp\n",
    "template< class... Args > reference emplace_back( Args&&... args );\n",
    "```"
   ]
  },
  {
   "cell_type": "markdown",
   "id": "998e3305",
   "metadata": {},
   "source": [
    "`...` is a packing operator that declares a [pack](https://en.cppreference.com/w/cpp/language/parameter_pack.html) of parameters. This allows a variable number of arguments to be forwarded from `emplace_back` to the different overloads of the constructors for vector:"
   ]
  },
  {
   "cell_type": "code",
   "execution_count": null,
   "id": "705829d9",
   "metadata": {},
   "outputs": [],
   "source": [
    "%%cpp\n",
    "vector<vector<size_t> > u;\n",
    "u.emplace_back();          // forward to the default constructor\n",
    "u"
   ]
  },
  {
   "cell_type": "code",
   "execution_count": null,
   "id": "e60670c4",
   "metadata": {},
   "outputs": [],
   "source": [
    "%%cpp\n",
    "vector<vector<size_t> > u;\n",
    "u.emplace_back(2);         // forward to the fill constructor\n",
    "u.emplace_back(3,4);\n",
    "u"
   ]
  },
  {
   "cell_type": "markdown",
   "id": "8a846e4f",
   "metadata": {},
   "source": [
    "In comparison, Python uses `*` as the packing operator such as `*args` in `print`:"
   ]
  },
  {
   "cell_type": "code",
   "execution_count": null,
   "id": "7ee918bf",
   "metadata": {},
   "outputs": [],
   "source": [
    "print?"
   ]
  },
  {
   "cell_type": "markdown",
   "id": "eb6dca3a",
   "metadata": {},
   "source": [
    "::::{exercise}\n",
    ":label: ex:extend\n",
    "\n",
    "Complete the second overload of the function `splice` to extend `u` with by copying elements from `v` to the end of `u`. If `v` is an rvalue, the elements should be moved instead, after which `v` should become emtpy.\n",
    "\n",
    "::::"
   ]
  },
  {
   "cell_type": "code",
   "execution_count": null,
   "id": "43983d0e",
   "metadata": {},
   "outputs": [],
   "source": [
    "%%cpp\n",
    "template <class T>\n",
    "void splice(vector<T> &u, const vector<T> &v) {\n",
    "    for (auto vi : v) u.push_back(vi);\n",
    "}"
   ]
  },
  {
   "cell_type": "code",
   "execution_count": null,
   "id": "21975f1b",
   "metadata": {
    "deletable": false,
    "nbgrader": {
     "cell_type": "code",
     "checksum": "e8ff47d5326c49df84bd301bda9a6e9f",
     "grade": false,
     "grade_id": "extend2",
     "locked": false,
     "schema_version": 3,
     "solution": true,
     "task": false
    }
   },
   "outputs": [],
   "source": [
    "%%cpp\n",
    "template <class T>\n",
    "void splice(vector<T> &u, vector<T> &&v) {\n",
    "    /*\n",
    "    # REPLACE THE ENTIRE COMMENT WITH YOUR CODE #\n",
    "    */\n",
    "}"
   ]
  },
  {
   "cell_type": "code",
   "execution_count": null,
   "id": "35322cdc",
   "metadata": {
    "deletable": false,
    "editable": false,
    "nbgrader": {
     "cell_type": "code",
     "checksum": "2d69f054c236935526a59ede49c2d7c8",
     "grade": true,
     "grade_id": "test_extend",
     "locked": true,
     "points": 0,
     "schema_version": 3,
     "solution": false,
     "task": false
    }
   },
   "outputs": [],
   "source": [
    "%%cpp\n",
    "// test\n",
    "vector<vector<size_t> > u {{1,2,3}};\n",
    "vector<vector<size_t> > v {{4,5,6}};\n",
    "splice(u, std::move(v));\n",
    "splice(u, v);\n",
    "splice(u, u);\n",
    "u // ... { { 1, 2, 3 }, { 4, 5, 6 }, { 1, 2, 3 }, {} }"
   ]
  },
  {
   "cell_type": "markdown",
   "id": "ec2c0829",
   "metadata": {},
   "source": [
    "### Insertion"
   ]
  },
  {
   "cell_type": "markdown",
   "id": "b4861f2c",
   "metadata": {},
   "source": [
    "Elements can be inserted at different positions in a vector using the [`std::insert`](https://en.cppreference.com/w/cpp/container/vector/insert.html) method:"
   ]
  },
  {
   "cell_type": "markdown",
   "id": "baeecd68",
   "metadata": {},
   "source": [
    "::::{code} cpp\n",
    ":linenos:\n",
    "iterator insert( const_iterator pos, const T& value );\n",
    "iterator insert( const_iterator pos, T&& value );\n",
    "iterator insert( const_iterator pos, size_type count, const T& value );\n",
    "template< class InputIt > iterator insert( const_iterator pos, InputIt first, InputIt last );\n",
    "iterator insert( const_iterator pos, std::initializer_list<T> ilist );\n",
    "::::"
   ]
  },
  {
   "cell_type": "code",
   "execution_count": null,
   "id": "53bd832b",
   "metadata": {},
   "outputs": [],
   "source": [
    "%%cpp\n",
    "vector<size_t> u {0,2,3};\n",
    "auto it=u.insert(u.cbegin()+1, 1);\n",
    "u"
   ]
  },
  {
   "cell_type": "markdown",
   "id": "bc9e58be",
   "metadata": {},
   "source": [
    "After the insertion, the position/iterator of the inserted element is also returned."
   ]
  },
  {
   "cell_type": "code",
   "execution_count": null,
   "id": "df66d444",
   "metadata": {},
   "outputs": [],
   "source": [
    "%%cpp\n",
    "cout << *it << \" inserted.\\n\";\n",
    "it"
   ]
  },
  {
   "cell_type": "markdown",
   "id": "df41aba1",
   "metadata": {},
   "source": [
    "Note that insertion takes linear time even the element is inserted at the back:"
   ]
  },
  {
   "cell_type": "code",
   "execution_count": null,
   "id": "a66a82b8",
   "metadata": {},
   "outputs": [],
   "source": [
    "%%cpp\n",
    "vector<size_t> u {0,2,3};\n",
    "L(u[0]), L(u[1]), L(u[2]);\n",
    "cout << *u.insert(u.cbegin()+1, 1) << \" inserted.\\n\";\n",
    "L(u[0]), L(u[1]), L(u[2]), L(u[3]);\n",
    "u"
   ]
  },
  {
   "cell_type": "markdown",
   "id": "29202c96",
   "metadata": {},
   "source": [
    "Observe that the locations of the elements are changed after insertion. In comparison, `push_back` normally does not change the locations of the existing elements:"
   ]
  },
  {
   "cell_type": "code",
   "execution_count": null,
   "id": "85eaea95",
   "metadata": {},
   "outputs": [],
   "source": [
    "%%cpp\n",
    "u.push_back(4);\n",
    "L(u[0]), L(u[1]), L(u[2]), L(u[3]), L(u[4]);"
   ]
  },
  {
   "cell_type": "markdown",
   "id": "49f3faf2",
   "metadata": {},
   "source": [
    "`push_back` has an amortized constant time complexity because existing elements need to be moved only when there is no more free memory at the back of the vector."
   ]
  },
  {
   "cell_type": "markdown",
   "id": "d511cbcf",
   "metadata": {},
   "source": [
    "The following behaves like the [fill constructors](#fill-constructors) that fill the vector with multiple copies of the same value:"
   ]
  },
  {
   "cell_type": "code",
   "execution_count": null,
   "id": "764ae81e",
   "metadata": {},
   "outputs": [],
   "source": [
    "%%cpp\n",
    "vector<size_t> u {1,2,3};\n",
    "cout << format(\"Three {}'s added at the beginning.\\n\", *u.insert(u.cbegin(), 3, 0));\n",
    "u"
   ]
  },
  {
   "cell_type": "markdown",
   "id": "6aab0759",
   "metadata": {},
   "source": [
    "The following behaves like the [initializer-list constructor](#initializer-list-constructor):"
   ]
  },
  {
   "cell_type": "code",
   "execution_count": null,
   "id": "91456e15",
   "metadata": {},
   "outputs": [],
   "source": [
    "%%cpp\n",
    "vector<size_t> u {1,2,3};\n",
    "for (auto it=u.insert(u.cend(), {4,5,6}); it!=u.cend(); it++)\n",
    "    cout << format(\"{} added.\\n\", *it);\n",
    "u"
   ]
  },
  {
   "cell_type": "markdown",
   "id": "e0789a3d",
   "metadata": {},
   "source": [
    "We can also insert a sublist from another list:"
   ]
  },
  {
   "cell_type": "code",
   "execution_count": null,
   "id": "36e10bd2",
   "metadata": {},
   "outputs": [],
   "source": [
    "%%cpp\n",
    "vector<size_t> u {1,2,3};\n",
    "vector<double> v {4.1,5.2,6.3};\n",
    "auto it=u.insert(u.cend(), v.cbegin(), v.cend()-1);\n",
    "u"
   ]
  },
  {
   "cell_type": "markdown",
   "id": "9365d41a",
   "metadata": {},
   "source": [
    "Note that elements are copied but not moved except when passed by rvalue reference:\n",
    "```cpp\n",
    "iterator insert( const_iterator pos, T&& value );\n",
    "```"
   ]
  },
  {
   "cell_type": "code",
   "execution_count": null,
   "id": "4fc24891",
   "metadata": {},
   "outputs": [],
   "source": [
    "%%cpp\n",
    "vector<vector<size_t> > u {{1,2,3}};\n",
    "vector<size_t> v {4,5,6};\n",
    "u.insert(u.cbegin(), std::move(LB(v)));\n",
    "LB(u[0]);\n",
    "u.insert(u.cbegin(), v);\n",
    "u"
   ]
  },
  {
   "cell_type": "markdown",
   "id": "a33f0d5a",
   "metadata": {},
   "source": [
    "::::{exercise}\n",
    ":label: ex:extend_pos\n",
    "\n",
    "Complete the function `splice` to extend `u` by inserting elements from `v` at the position `pos` in `u`.  \n",
    "- If `v` is an lvalue (`const vector<T>&`), the elements should be copied.  \n",
    "- If `v` is an rvalue (`vector<T>&&`), the elements should be moved, and `v` should become empty afterward.  \n",
    " \n",
    "The function should return an iterator pointing to the first inserted element in `u`. If no elements are inserted (i.e., `v` is empty), return `pos`.\n",
    "\n",
    "::::"
   ]
  },
  {
   "cell_type": "code",
   "execution_count": null,
   "id": "489c67be",
   "metadata": {
    "deletable": false,
    "nbgrader": {
     "cell_type": "code",
     "checksum": "ba516c2b467702f41ec376a7255af896",
     "grade": false,
     "grade_id": "extend_pos1",
     "locked": false,
     "schema_version": 3,
     "solution": true,
     "task": false
    }
   },
   "outputs": [],
   "source": [
    "%%cpp\n",
    "template <class T>\n",
    "typename vector<T>::iterator splice(vector<T> &u, typename vector<T>::const_iterator pos, const vector<T> &v) {\n",
    "    /*\n",
    "    # REPLACE THE ENTIRE COMMENT WITH YOUR CODE #\n",
    "    */\n",
    "}"
   ]
  },
  {
   "cell_type": "code",
   "execution_count": null,
   "id": "d34ce2a5",
   "metadata": {},
   "outputs": [],
   "source": [
    "%%cpp\n",
    "template <class T>\n",
    "typename vector<T>::iterator splice(vector<T> &u, typename vector<T>::const_iterator pos, vector<T> &&v) {\n",
    "    auto i = pos-u.cbegin();\n",
    "    for (auto& vi : v) u.insert(pos++, std::move(vi));\n",
    "    v.clear();\n",
    "    return u.begin() + i;\n",
    "}"
   ]
  },
  {
   "cell_type": "code",
   "execution_count": null,
   "id": "58e915a0",
   "metadata": {
    "deletable": false,
    "editable": false,
    "nbgrader": {
     "cell_type": "code",
     "checksum": "f0362c8bff2a8a67bfaeba3e8c25df5e",
     "grade": true,
     "grade_id": "test_extend_pos",
     "locked": true,
     "points": 0,
     "schema_version": 3,
     "solution": false,
     "task": false
    }
   },
   "outputs": [],
   "source": [
    "%%cpp\n",
    "// test\n",
    "vector<vector<size_t> > u {{1,2,3}};\n",
    "vector<vector<size_t> > v {{4,5,6}};\n",
    "auto it=splice(u, u.cbegin()+1, std::move(v));\n",
    "it=splice(u, it-1, v);\n",
    "it=splice(u, it, u);\n",
    "u // ... { { 1, 2, 3 }, { 4, 5, 6 }, { 1, 2, 3 }, { 4, 5, 6 } }"
   ]
  },
  {
   "cell_type": "code",
   "execution_count": null,
   "id": "bf1f246a",
   "metadata": {},
   "outputs": [],
   "source": [
    "%%ai\n",
    "Explain briefly why typename is used in:\n",
    "--\n",
    "void splice(vector<T> &u, typename vector<T>::const_iterator pos, const vector<T> &v);"
   ]
  },
  {
   "cell_type": "markdown",
   "id": "6afd074d",
   "metadata": {},
   "source": [
    "## Linked List"
   ]
  },
  {
   "cell_type": "markdown",
   "id": "36a4d34c",
   "metadata": {},
   "source": [
    "The `splice` function in [](#ex:extend) and [](#ex:extend_pos) takes linear time as it inserts the elements of `v` to `u` one-by-one."
   ]
  },
  {
   "cell_type": "markdown",
   "id": "11195fe0",
   "metadata": {},
   "source": [
    "**Can we concatenate two vectors more efficiently?**"
   ]
  },
  {
   "cell_type": "markdown",
   "id": "9c8cc68f",
   "metadata": {},
   "source": [
    "One idea is to link the end of one vector to the beginning of another. However, this isn't possible because `std::vector` stores its elements in a single, contiguous block of memory. This design enables constant-time access via indexing, i.e., `v[i]` is equivalent to `*(v + i)`, but it also means vectors cannot be physically joined without copying or reallocating their contents."
   ]
  },
  {
   "cell_type": "markdown",
   "id": "61bbab5d",
   "metadata": {},
   "source": [
    "[](#code_combination2) uses another container [`std::list`](https://en.cppreference.com/w/cpp/container/list.html), which implements a [doubly linked list](https://en.wikipedia.org/wiki/Doubly_linked_list) data structure. Unlike `std::vector`, itt takes constant time to [`insert`](https://en.cppreference.com/w/cpp/container/list/insert.html#Complexity) or [`erase`](https://en.cppreference.com/w/cpp/container/list/erase.html#Complexity) a single element anywhere in the `std::list`. Furthermore, using the [`splice`](https://en.cppreference.com/w/cpp/container/list/splice.html) method from `std::list`, two lists can be concatenated efficiently in [constant time](https://en.cppreference.com/w/cpp/container/list/splice.html#Complexity) by modifying the end of one list to link to the beginning of another list:\n",
    "\n",
    "::::{code} cpp\n",
    ":linenos:\n",
    "void splice( const_iterator pos, list& other );\n",
    "void splice( const_iterator pos, list&& other );\n",
    "void splice( const_iterator pos, list& other, const_iterator it );\n",
    "void splice( const_iterator pos, list&& other, const_iterator it );\n",
    "void splice( const_iterator pos, list& other, const_iterator first, const_iterator last );\n",
    "void splice( const_iterator pos, list&& other, const_iterator first, const_iterator last );\n",
    "::::"
   ]
  },
  {
   "cell_type": "code",
   "execution_count": null,
   "id": "8445cf88",
   "metadata": {},
   "outputs": [],
   "source": [
    "%%cpp\n",
    "list<int> a{1,2,3}, b{4,5,6,7};\n",
    "a.splice(a.cend(), b);\n",
    "a"
   ]
  },
  {
   "cell_type": "markdown",
   "id": "eebfcbda",
   "metadata": {},
   "source": [
    "All elements of `b` are now moved (*not copied*) to `a`:"
   ]
  },
  {
   "cell_type": "code",
   "execution_count": null,
   "id": "5f17fae9",
   "metadata": {},
   "outputs": [],
   "source": [
    "%%cpp\n",
    "b"
   ]
  },
  {
   "cell_type": "markdown",
   "id": "d5c8f0d8",
   "metadata": {},
   "source": [
    "However, these come at the cost of linear time lookup."
   ]
  },
  {
   "cell_type": "code",
   "execution_count": null,
   "id": "ed531494",
   "metadata": {},
   "outputs": [],
   "source": [
    "%%cpp\n",
    "list<int> a{1,2,3,4,5,6,7};\n",
    "// a[5];            // fails: type 'list' does not provide a subscript operator\n",
    "auto it=a.cbegin();\n",
    "// a.cbegin() + 5;  // fails: invalid operands to binary expression\n",
    "for (auto i=5; i>0; i--) it++;  // `advance(it, 5)`\n",
    "*it"
   ]
  },
  {
   "cell_type": "markdown",
   "id": "7bca0684",
   "metadata": {},
   "source": [
    "As another example, consider the problem of enumerating the permutations in combinatorics:"
   ]
  },
  {
   "cell_type": "markdown",
   "id": "a478d7c6",
   "metadata": {},
   "source": [
    "::::{prf:definition}\n",
    "\n",
    "Given a collection of $n\\geq 0$ items $a_0,\\dots,a_{n-1}$ and an integer $k\\geq 0$, a [$k$-permutation of the $n$](https://en.wikipedia.org/wiki/Permutation#k-permutations_of_n) items is an ordered sequence \n",
    "\n",
    "$$\n",
    "(a_{i_0},\\dots,a_{i_{k-1}})\n",
    "$$ \n",
    "of $k$ out of the $n$ objects for some choice of distinct indices $0\\leq i_0,\\dots,i_{k-1}<n$. An $n$-permutation of $n$ objects is called a permutation of $n$ objects.\n",
    "\n",
    "::::"
   ]
  },
  {
   "cell_type": "markdown",
   "id": "2aa66d99",
   "metadata": {},
   "source": [
    "A simple way to generate permutations is by the following recurrence relation."
   ]
  },
  {
   "cell_type": "markdown",
   "id": "cf72314c",
   "metadata": {},
   "source": [
    "::::{prf:proposition}\n",
    "\n",
    "A $k$-permutation of $n$ satisfies the recurrence relation for $1\\leq k \\leq n$:  \n",
    "- Removing the first element of a $k$-permutation of $n$ objects gives a different $(k-1)$-permutation of the remaining $n-1$ objects.\n",
    "\n",
    "$$ (a_{i_0}, \\underbrace{a_{i_1},\\dots,a_{i_{k-1}}}_{\\text{\\scriptsize $(k-1)$-permutation of $a_{i_1},\\dots,a_{i_{k-1}}$.}\\kern-5em} ) $$\n",
    "\n",
    "- Reversing the above removal process gives a way of constructing a $k$-permutation from a $(k-1)$-permutation.  \n",
    "  E.g., the permutations of $1,2,3$ can be constructed as follows:\n",
    "\n",
    "$$[\\overbrace{({\\color{red} 1}, {\\color{blue}{2, 3}}), ({\\color{red} 1}, {\\color{blue}{3, 2}})}^{\\text{\\scriptsize prepend 1 to permutations of $2,3$.} }, \\overbrace{({\\color{red} 2}, {\\color{blue}{1, 3}}), ({\\color{red} 2}, {\\color{blue}{3, 1}})}^{\\text{\\scriptsize prepend 2 to permutations of $1,3$.} }, \\overbrace{({\\color{red} 3}, {\\color{blue}{1, 2}}), ({\\color{red} 3}, {\\color{blue}{2, 1}})}^{\\text{\\scriptsize prepend 3 to permutations of $1,2$.} }]$$\n",
    "\n",
    "::::"
   ]
  },
  {
   "cell_type": "markdown",
   "id": "4c96ad4a",
   "metadata": {},
   "source": [
    "We can represent each permutation as a vector. The following implements the recursion:"
   ]
  },
  {
   "cell_type": "code",
   "execution_count": null,
   "id": "f656a848",
   "metadata": {},
   "outputs": [],
   "source": [
    "%%cpp\n",
    "void permutation_helper(const vector<size_t> &items, int k, \n",
    "                        vector<size_t> &current, \n",
    "                        vector<vector<size_t> > &result) {\n",
    "    if (k == 0) result.push_back(current);\n",
    "    else\n",
    "        for (size_t i = 0; i < items.size(); ++i) {\n",
    "            vector<size_t> remaining = items;\n",
    "            remaining.erase(remaining.cbegin() + i);\n",
    "            current.push_back(items[i]);\n",
    "            permutation_helper(remaining, k - 1, current, result);\n",
    "            current.pop_back();\n",
    "        }\n",
    "}"
   ]
  },
  {
   "cell_type": "markdown",
   "id": "2f8d2fda",
   "metadata": {},
   "source": [
    "In the above function:\n",
    "\n",
    "- `current` keeps track of the beginning of the permutations to be built.\n",
    "- `k` is the number of elements that need to be appended to `current` to complete each desired permutation.\n",
    "- `items` is the remaining elements to choose from.\n",
    "- `result` is a vector to store all completed permutations."
   ]
  },
  {
   "cell_type": "markdown",
   "id": "830161a3",
   "metadata": {},
   "source": [
    "::::{note} Isn't it more efficient to use `std::list` instead of `std::vector` for `result`?\n",
    ":class: dropdown\n",
    "\n",
    "No, because `result` is generated by appending `current`, which can be done in amortized constant time for `std::vector`.\n",
    "\n",
    "::::"
   ]
  },
  {
   "cell_type": "markdown",
   "id": "401a881a",
   "metadata": {},
   "source": [
    "The desired function that computes and returns the permutations can be a thin wrapper of the helper function:"
   ]
  },
  {
   "cell_type": "code",
   "execution_count": null,
   "id": "ba34a3c4",
   "metadata": {},
   "outputs": [],
   "source": [
    "%%cpp\n",
    "std::vector<vector<size_t> > permutation(const vector<size_t> & items, int k) {\n",
    "    vector<vector<size_t> > result;\n",
    "    vector<size_t>  current;\n",
    "\n",
    "    if (k >= 0 && k <= items.size()) {\n",
    "        permutation_helper(items, k, current, result);\n",
    "    }\n",
    "    return result;\n",
    "}\n",
    "\n",
    "permutation(vector<size_t> {1,2,3}, 2)"
   ]
  },
  {
   "cell_type": "markdown",
   "id": "87b16075",
   "metadata": {},
   "source": [
    "::::{note} Why not check the range of $k$ in the helper function instead?\n",
    ":class: dropdown\n",
    "\n",
    "This is because the check only needs to be done once. If it were placed inside the helper function, the check would be executed repeatedly in every recursive call.\n",
    "\n",
    "::::"
   ]
  },
  {
   "cell_type": "markdown",
   "id": "4e05babb",
   "metadata": {},
   "source": [
    "To make $k$ an optional argument that defaults to $n$:"
   ]
  },
  {
   "cell_type": "code",
   "execution_count": null,
   "id": "cc3a423f",
   "metadata": {},
   "outputs": [],
   "source": [
    "%%cpp\n",
    "std::vector<vector<size_t> > permutation(const vector<size_t> &items) {\n",
    "    return permutation(items, items.size());  // default to full length\n",
    "}\n",
    "\n",
    "permutation(vector<size_t> {1,2,3})"
   ]
  },
  {
   "cell_type": "markdown",
   "id": "16c50ceb",
   "metadata": {},
   "source": [
    "::::{note} Why is it better to overload the function than to give a default argument to `k`?\n",
    ":class: dropdown\n",
    "\n",
    "The default argument `items.size()` is not allowed since it is not a constant. Setting `k` to a value outside the valid range, say `-1`, is not ideal either because calling the function with `k=-1` will no longer be regarded an invalid.\n",
    "\n",
    "::::"
   ]
  },
  {
   "cell_type": "markdown",
   "id": "98bf2044",
   "metadata": {},
   "source": [
    "There is an inefficiency in the above program: Erasing an element from a vector is linear time, but removing an element from a list is constant time."
   ]
  },
  {
   "cell_type": "code",
   "execution_count": null,
   "id": "5be25e94",
   "metadata": {},
   "outputs": [],
   "source": [
    "%%ai\n",
    "Explain briefly why `remaining.erase(it);` is more efficient if `remaining`\n",
    "is a `std::list` instead of `std::vector`."
   ]
  },
  {
   "cell_type": "markdown",
   "id": "864f3ea6",
   "metadata": {},
   "source": [
    "The following implementation of permutation operates directly on a list. No helper function is needed, since list merging and element removal are efficient."
   ]
  },
  {
   "cell_type": "code",
   "execution_count": null,
   "id": "10736d1a",
   "metadata": {},
   "outputs": [],
   "source": [
    "%%cpp\n",
    "std::list<list<size_t> > permutation(const list<size_t> &items, int k) {\n",
    "    list<list<size_t> > output;\n",
    "    if (k == 0) {\n",
    "        output.push_back(list<size_t> {});\n",
    "    } else {\n",
    "        list<size_t>  remaining = items;\n",
    "        for (auto it = remaining.cbegin(); it != remaining.cend(); ++it) {\n",
    "            auto i = *it;\n",
    "            it=remaining.erase(it);\n",
    "            list<list<size_t> > perm_seq = permutation(remaining, k - 1);\n",
    "            it=remaining.insert(it, i);\n",
    "            for (auto& perm : perm_seq) {\n",
    "                perm.push_front(i);\n",
    "            }\n",
    "            output.splice(output.cend(), perm_seq);\n",
    "        }\n",
    "    }\n",
    "    return output;\n",
    "}\n",
    "\n",
    "permutation(list<size_t> {1,2,3}, 2)"
   ]
  },
  {
   "cell_type": "code",
   "execution_count": null,
   "id": "e755d209",
   "metadata": {},
   "outputs": [],
   "source": [
    "%%cpp\n",
    "std::list<list<size_t> > permutation(const list<size_t> &items) {\n",
    "    return permutation(items, items.size());  // default to full length\n",
    "}\n",
    "\n",
    "permutation(list<size_t> {1,2,3})"
   ]
  },
  {
   "cell_type": "markdown",
   "id": "31cbe106",
   "metadata": {},
   "source": [
    "## String"
   ]
  },
  {
   "cell_type": "markdown",
   "id": "1da60368",
   "metadata": {},
   "source": [
    "### Matrix of Stars"
   ]
  },
  {
   "cell_type": "markdown",
   "id": "99b3e7c8",
   "metadata": {},
   "source": [
    "Consider the following function `matrix_of_stars` to create a C-string of `m` rows and `n` columns of `'*'`:"
   ]
  },
  {
   "cell_type": "code",
   "execution_count": null,
   "id": "1764aa60",
   "metadata": {},
   "outputs": [],
   "source": [
    "%%cpp\n",
    "void matrix_of_stars(unsigned m, unsigned n, char s[]) {\n",
    "    if (n) {\n",
    "        for (auto i=0u; i<m; i++) {\n",
    "            for (auto j=0u; j<n; j++) s[i*(n+1)+j]='*';\n",
    "            s[i*(n+1)+n]='\\n';\n",
    "        }\n",
    "        s[m*(n+1)]=0;\n",
    "    } else s[0]=0;\n",
    "}\n",
    "\n",
    "const int m=3, n=2;         // constant size for static array\n",
    "char s[m*(n+1)+1];\n",
    "matrix_of_stars(m, n, s);   // pass `s` by reference to get stars\n",
    "cout << s;"
   ]
  },
  {
   "cell_type": "markdown",
   "id": "0e76268a",
   "metadata": {},
   "source": [
    "::::{exercise}\n",
    ":label: ex:matrix_of_stars\n",
    "\n",
    "Why not return a C-string as in the following code?\n",
    "\n",
    "::::"
   ]
  },
  {
   "cell_type": "code",
   "execution_count": null,
   "id": "2d590334",
   "metadata": {},
   "outputs": [],
   "source": [
    "%%cpp\n",
    "char* matrix_of_stars_(unsigned m, unsigned n) {\n",
    "    auto s=new char[m*(n+1)+1];\n",
    "    matrix_of_stars(m, n, s);\n",
    "    return s;\n",
    "}\n",
    "\n",
    "int m=2, n=3; // non-constant size allowed.\n",
    "auto s=matrix_of_stars_(m, n);\n",
    "cout << s;\n",
    "delete[] s;   // 😈: This line can be removed. 👨🏻‍🏫: No.\n",
    "s = nullptr;"
   ]
  },
  {
   "cell_type": "markdown",
   "id": "5ed72370",
   "metadata": {
    "deletable": false,
    "nbgrader": {
     "cell_type": "markdown",
     "checksum": "d599d55bedd8fb99787fa384e60e1d22",
     "grade": true,
     "grade_id": "matrix_of_stars",
     "locked": false,
     "points": 0,
     "schema_version": 3,
     "solution": true,
     "task": false
    }
   },
   "source": [
    "YOUR ANSWER HERE"
   ]
  },
  {
   "cell_type": "markdown",
   "id": "9c56a0da",
   "metadata": {},
   "source": [
    "A safe way to return a string is to use [`std::string`](https://en.cppreference.com/w/cpp/string/basic_string.html) from [`<string>`](https://en.cppreference.com/w/cpp/string.html), which can be viewered as a special vector container whose elements are characters:"
   ]
  },
  {
   "cell_type": "code",
   "execution_count": null,
   "id": "68bfe843",
   "metadata": {},
   "outputs": [],
   "source": [
    "%%cpp\n",
    "string matrix_of_stars(unsigned m, unsigned n) {\n",
    "    string s;\n",
    "    while(m--) s+=string(n,'*')+(n>0?\"\\n\":\"\");\n",
    "    return s;\n",
    "}\n",
    "cout << matrix_of_stars(3,2);"
   ]
  },
  {
   "cell_type": "code",
   "execution_count": null,
   "id": "93189bfa",
   "metadata": {},
   "outputs": [],
   "source": [
    "@interact(m=(0, 10), n=(0, 10))\n",
    "def print_matrix_of_stars(m=5, n=5):\n",
    "    print(ROOT.matrix_of_stars(m, n))"
   ]
  },
  {
   "cell_type": "markdown",
   "id": "bfcf5e63",
   "metadata": {},
   "source": [
    "1. `string(n,'*')` uses the fill constructor to create `n` copies of `*`:\n",
    "\n",
    "    ```cpp\n",
    "    basic_string( size_type count, CharT ch, const Allocator& alloc = Allocator() );\n",
    "    ```"
   ]
  },
  {
   "cell_type": "markdown",
   "id": "236b02c8",
   "metadata": {},
   "source": [
    "2. `s+=string(n,'*')+(n>0?\"\\n\":\"\");` uses\n",
    "   - the [non-member operator `+`](https://en.cppreference.com/w/cpp/string/basic_string/operator%2B) to concatenate strings, and\n",
    "   - the [member operator `=`](https://en.cppreference.com/w/cpp/string/basic_string/operator=.html) to assign the resulting string to `s`."
   ]
  },
  {
   "cell_type": "markdown",
   "id": "0e31eeed",
   "metadata": {},
   "source": [
    "::::{exercise}\n",
    ":label: ex:string_concat\n",
    "Explain which of the following overloads was used in the above string concatenation.\n",
    "\n",
    "1. ```cpp\n",
    "    template< class CharT, class Traits, class Alloc >\n",
    "    std::basic_string<CharT,Traits,Alloc>\n",
    "        operator+( std::basic_string<CharT,Traits,Alloc>&& lhs,\n",
    "                   std::basic_string<CharT,Traits,Alloc>&& rhs );\n",
    "   ```\n",
    "2. ```cpp\n",
    "   template< class CharT, class Traits, class Alloc >\n",
    "    std::basic_string<CharT,Traits,Alloc>\n",
    "        operator+( std::basic_string<CharT,Traits,Alloc>&& lhs,\n",
    "                   CharT rhs );\n",
    "   ```\n",
    "3. ```cpp\n",
    "   template< class CharT, class Traits, class Alloc >\n",
    "   std::basic_string<CharT,Traits,Alloc>\n",
    "       operator+( std::basic_string<CharT,Traits,Alloc>&& lhs,\n",
    "                  const CharT* rhs );\n",
    "   ```\n",
    "4. ```cpp\n",
    "   template< class CharT, class Traits, class Alloc >\n",
    "    std::basic_string<CharT,Traits,Alloc>\n",
    "        operator+( const std::basic_string<CharT,Traits,Alloc>& lhs,\n",
    "                   std::basic_string<CharT,Traits,Alloc>&& rhs );\n",
    "   ```\n",
    "\n",
    "::::"
   ]
  },
  {
   "cell_type": "markdown",
   "id": "c3228a36",
   "metadata": {
    "deletable": false,
    "nbgrader": {
     "cell_type": "markdown",
     "checksum": "bb6af91f1b606ccf09e6c790d2f3ac23",
     "grade": true,
     "grade_id": "string_concat",
     "locked": false,
     "points": 0,
     "schema_version": 3,
     "solution": true,
     "task": false
    }
   },
   "source": [
    "YOUR ANSWER HERE"
   ]
  },
  {
   "cell_type": "code",
   "execution_count": null,
   "id": "9449febe",
   "metadata": {},
   "outputs": [],
   "source": [
    "%%ai\n",
    "Explain briefly the difference between member vs non-member function, and why\n",
    "`operator+` is a non-member function of `std::string`?"
   ]
  },
  {
   "cell_type": "markdown",
   "id": "afcdb047",
   "metadata": {},
   "source": [
    "Is the previous implementation of `matrix_of_stars` efficient? Compare it with the following implementation:"
   ]
  },
  {
   "cell_type": "code",
   "execution_count": null,
   "id": "f15de5c5",
   "metadata": {},
   "outputs": [],
   "source": [
    "%%cpp\n",
    "string matrix_of_stars(unsigned m, unsigned n) {\n",
    "    if (m == 0 || n == 0) return \"\";\n",
    "    string s, row(n, '*');\n",
    "    row += '\\n';\n",
    "    s.reserve(m * row.size());\n",
    "    for (unsigned i = 0; i < m; ++i)\n",
    "        s.append(row);\n",
    "    return s;\n",
    "}\n",
    "cout << matrix_of_stars(3,2);"
   ]
  },
  {
   "cell_type": "markdown",
   "id": "d7cc9839",
   "metadata": {},
   "source": [
    "1. `s.reserve(m * s.size());` uses the method [`reserve`](https://en.cppreference.com/w/cpp/string/basic_string/reserve.html) to inform `s` about the planned change in size, so it can manage the storage more efficiently.\n",
    "   ```cpp\n",
    "   constexpr void reserve( size_type new_cap );\n",
    "   ```\n",
    "3. [`s.append(row)`](https://en.cppreference.com/w/cpp/string/basic_string/append.html) append `row` to `s` instead of re-assigning `s` to a new string:\n",
    "   ```cpp\n",
    "   basic_string& append( const basic_string& str );\n",
    "   ```"
   ]
  },
  {
   "cell_type": "markdown",
   "id": "3adeac40",
   "metadata": {},
   "source": [
    "::::{exercise}\n",
    ":label: ex:append\n",
    "\n",
    "Determine which implementation is faster, for instance, by constructing a large matrix of starts:\n",
    "\n",
    "```cpp\n",
    "auto s=matrix_of_stars(30000,30000);\n",
    "```\n",
    "\n",
    "Why is one more efficient than the other?\n",
    "\n",
    "::::"
   ]
  },
  {
   "cell_type": "markdown",
   "id": "f49fcce1",
   "metadata": {
    "deletable": false,
    "nbgrader": {
     "cell_type": "markdown",
     "checksum": "99b013efabbdca650c45c8b2668774c8",
     "grade": true,
     "grade_id": "append",
     "locked": false,
     "points": 0,
     "schema_version": 3,
     "solution": true,
     "task": false
    }
   },
   "source": [
    "YOUR ANSWER HERE"
   ]
  },
  {
   "cell_type": "markdown",
   "id": "6a8bfb71",
   "metadata": {},
   "source": [
    "Instead of using `+=` or `append`, we can also use the output string stream [`std::ostringstream`](https://en.cppreference.com/w/cpp/io/basic_ostringstream.html) from `<sstream>`:"
   ]
  },
  {
   "cell_type": "code",
   "execution_count": null,
   "id": "f9b8cb28",
   "metadata": {},
   "outputs": [],
   "source": [
    "%%cpp\n",
    "string matrix_of_stars(unsigned m, unsigned n) {\n",
    "    if (m == 0 || n == 0) return \"\";\n",
    "    ostringstream oss;\n",
    "    string row(n, '*');\n",
    "    row += '\\n';\n",
    "    for (unsigned i = 0; i < m; ++i)\n",
    "        oss << row;\n",
    "    return std::move(oss).str();\n",
    "}\n",
    "cout << matrix_of_stars(3,2);"
   ]
  },
  {
   "cell_type": "markdown",
   "id": "fdf30238",
   "metadata": {},
   "source": [
    "- [`<<`](https://en.cppreference.com/w/cpp/io/basic_ostream/operator_ltlt.html) appends `row` repeatedly to the output string stream `oss`.\n",
    "- [`std::move(oss).str()`](https://en.cppreference.com/w/cpp/io/basic_ostringstream/str.html) gets the content of the string:\n",
    "  ```cpp\n",
    "  std::basic_string<CharT, Traits, Allocator> str() &&;\n",
    "  ```\n",
    "  The above method overload has an [rvalue reference qualifier `&&`](https://en.cppreference.com/w/cpp/language/member_functions.html#Member_functions_with_ref-qualifier), which restricts it to be called only on rvalue objects. It enables the move semantics `std::move(oss).str()` to return the desired string without unnecessary copies, unlike the overload with constant lvalue reference qualifier:\n",
    "  ```cpp\n",
    "  std::basic_string<CharT, Traits, Allocator> str() const&;\n",
    "  ```"
   ]
  },
  {
   "cell_type": "markdown",
   "id": "d014b803",
   "metadata": {},
   "source": [
    "Unlike `std::string`, `std::ostringstream` does not let us preallocate memory. It also incurs overhead for formatting, buffering, and type safety checks. Nevertheless, `std::ostringstream` makes it very easy to create a string from values of different data types."
   ]
  },
  {
   "cell_type": "markdown",
   "id": "f8101b33",
   "metadata": {},
   "source": [
    "::::{exercise}\n",
    ":label: ex:oss\n",
    "\n",
    "Complete the following function to create a string containining `m` rows and `n` columns of a possibly non-character value.\n",
    "\n",
    "::::"
   ]
  },
  {
   "cell_type": "code",
   "execution_count": null,
   "id": "5e51d135",
   "metadata": {
    "deletable": false,
    "nbgrader": {
     "cell_type": "code",
     "checksum": "ab2eb7b259d6bac2499c514cd9152fb0",
     "grade": false,
     "grade_id": "oss",
     "locked": false,
     "schema_version": 3,
     "solution": true,
     "task": false
    }
   },
   "outputs": [],
   "source": [
    "%%cpp\n",
    "string matrix_of(unsigned m, unsigned n, auto value) {\n",
    "    if (m == 0 || n == 0) return \"\";\n",
    "    ostringstream oss;\n",
    "    /*\n",
    "    # REPLACE THE ENTIRE COMMENT WITH YOUR CODE #\n",
    "    */\n",
    "    string row=oss.str();\n",
    "    for (unsigned i = 1; i < m; ++i)\n",
    "        oss << row;\n",
    "    return std::move(oss).str();\n",
    "}"
   ]
  },
  {
   "cell_type": "code",
   "execution_count": null,
   "id": "7366263c",
   "metadata": {},
   "outputs": [],
   "source": [
    "%%cpp\n",
    "cout << matrix_of(3,2,\"cs2310\");\n",
    "/* Expected output:\n",
    "cs2310cs2310\n",
    "cs2310cs2310\n",
    "cs2310cs2310\n",
    "*/"
   ]
  },
  {
   "cell_type": "code",
   "execution_count": null,
   "id": "b95ecb2a",
   "metadata": {},
   "outputs": [],
   "source": [
    "%%cpp\n",
    "cout << matrix_of(3,2,.2310);\n",
    "/* Expected output:\n",
    "0.2310.231\n",
    "0.2310.231\n",
    "0.2310.231\n",
    "*/"
   ]
  },
  {
   "cell_type": "markdown",
   "id": "bcc4fd81",
   "metadata": {},
   "source": [
    "### Caesar Cipher"
   ]
  },
  {
   "cell_type": "markdown",
   "id": "1520215f",
   "metadata": {},
   "source": [
    "Consider implementing the [Caesar Cipher](https://en.wikipedia.org/wiki/Caesar_cipher), which is one of the oldest substitution cipher. It works by shifting each character of a given plaintext by a fixed number of poisitions down the alphabet, wrapping around from `Z` to `A` if necessary."
   ]
  },
  {
   "cell_type": "markdown",
   "id": "0a31033c",
   "metadata": {},
   "source": [
    "To encrypt a message in plaintext:"
   ]
  },
  {
   "cell_type": "code",
   "execution_count": null,
   "id": "dfd42658",
   "metadata": {},
   "outputs": [],
   "source": [
    "%%cpp\n",
    "auto cc_encrypt=[](string plaintext, unsigned char key) {\n",
    "    constexpr unsigned char s='A', n=26;\n",
    "    for (auto &c: plaintext) c=((c-s+key)%n+n)%n + s;\n",
    "    return plaintext;\n",
    "};\n",
    "\n",
    "auto ciphertext = cc_encrypt(\"ATTACKNOW\", 13) "
   ]
  },
  {
   "cell_type": "markdown",
   "id": "ab65bb0c",
   "metadata": {},
   "source": [
    "To descript the ciphertext:"
   ]
  },
  {
   "cell_type": "code",
   "execution_count": null,
   "id": "c948baf0",
   "metadata": {},
   "outputs": [],
   "source": [
    "%%cpp\n",
    "auto cc_decrypt=[](string ciphertext, unsigned char key) {\n",
    "    constexpr unsigned char s='A', n=26;\n",
    "    for (auto &c: ciphertext) c=((c-s-key)%n+n)%n + s;\n",
    "    return ciphertext;\n",
    "};\n",
    "\n",
    "cc_decrypt(ciphertext, 13) "
   ]
  },
  {
   "cell_type": "markdown",
   "id": "2ad0b1ce",
   "metadata": {},
   "source": [
    "Indeed, `cc_decrypt` can be implemented using `cc_encrypt` as follows, avoiding code duplication:"
   ]
  },
  {
   "cell_type": "code",
   "execution_count": null,
   "id": "17f9ca41",
   "metadata": {},
   "outputs": [],
   "source": [
    "%%cpp\n",
    "auto cc_decrypt(string ciphertext, unsigned char key) {\n",
    "    constexpr unsigned char n=26;\n",
    "    return cc_encrypt(ciphertext, n-key);\n",
    "}\n",
    "\n",
    "cc_decrypt(ciphertext, 13) "
   ]
  },
  {
   "cell_type": "markdown",
   "id": "117e1895",
   "metadata": {},
   "source": [
    "The downside is that `ciphertext` is passed by value to both `cc_decrypt`, causing unnecessary copy. To fix this, we should pass the ciphertext by constant lvalue reference:"
   ]
  },
  {
   "cell_type": "code",
   "execution_count": null,
   "id": "d4635610",
   "metadata": {},
   "outputs": [],
   "source": [
    "%%cpp\n",
    "auto cc_decrypt=[](const string &ciphertext, const unsigned char key) {\n",
    "    constexpr unsigned char n=26;\n",
    "    return cc_encrypt(ciphertext, n-key);\n",
    "};\n",
    "\n",
    "cc_decrypt(ciphertext, 13) "
   ]
  },
  {
   "cell_type": "markdown",
   "id": "bc04a183",
   "metadata": {},
   "source": [
    "We can also change `cc_encrypt`"
   ]
  },
  {
   "cell_type": "markdown",
   "id": "6979aad8",
   "metadata": {},
   "source": [
    "::::{exercise} \n",
    ":label: ex:cc\n",
    "\n",
    "Change the `cc_encrypt` to pass the plaintext by constant lvalue reference.\n",
    "\n",
    "::::"
   ]
  },
  {
   "cell_type": "code",
   "execution_count": null,
   "id": "4e6860e7",
   "metadata": {
    "deletable": false,
    "nbgrader": {
     "cell_type": "code",
     "checksum": "dc3ec01cf56c63af646f859086eec79a",
     "grade": false,
     "grade_id": "cc",
     "locked": false,
     "schema_version": 3,
     "solution": true,
     "task": false
    }
   },
   "outputs": [],
   "source": [
    "%%cpp\n",
    "auto cc_encrypt=[](const string &plaintext, const unsigned char key) {\n",
    "    constexpr unsigned char s='A', n=26;\n",
    "    /*\n",
    "    # REPLACE THE ENTIRE COMMENT WITH YOUR CODE #\n",
    "    */\n",
    "};\n",
    "\n",
    "auto ciphertext = cc_encrypt(\"ATTACKNOW\", 13) "
   ]
  },
  {
   "cell_type": "markdown",
   "id": "a499bb14",
   "metadata": {},
   "source": [
    "Descryption can fail as follows:"
   ]
  },
  {
   "cell_type": "code",
   "execution_count": null,
   "id": "91caec47",
   "metadata": {},
   "outputs": [],
   "source": [
    "%%cpp\n",
    "string plaintext{\"Flee at Once!\"};\n",
    "unsigned char key=11;\n",
    "cc_decrypt(cc_encrypt(plaintext, key), key)"
   ]
  },
  {
   "cell_type": "markdown",
   "id": "9d1829ef",
   "metadata": {},
   "source": [
    "To ensure descryptability, we should preprocess the plaintext to \n",
    "1. convert lower case letters to upper case letters, and\n",
    "2. remove non-letters."
   ]
  },
  {
   "cell_type": "code",
   "execution_count": null,
   "id": "768b8e93",
   "metadata": {},
   "outputs": [],
   "source": [
    "%%cpp\n",
    "string cc_process(const string &plaintext) {\n",
    "    string processed;\n",
    "    processed.reserve(plaintext.size());\n",
    "    for (auto c: plaintext) if (isalpha(c)) processed+=toupper(c);\n",
    "    return processed;   \n",
    "}\n",
    "\n",
    "string s(\"Flee at once!\");\n",
    "cc_process(s)"
   ]
  },
  {
   "cell_type": "code",
   "execution_count": null,
   "id": "ca739ce1",
   "metadata": {},
   "outputs": [],
   "source": [
    "%%cpp\n",
    "unsigned char key=11;\n",
    "cc_decrypt(cc_encrypt(plaintext, key), key)"
   ]
  },
  {
   "cell_type": "markdown",
   "id": "d9717e02",
   "metadata": {},
   "source": [
    "It is a good idea to implement an overload that takes an rvalue reference to avoid unnecessary copies:"
   ]
  },
  {
   "cell_type": "code",
   "execution_count": null,
   "id": "14578b65",
   "metadata": {},
   "outputs": [],
   "source": [
    "%%cpp\n",
    "string cc_process(string &&plaintext) {\n",
    "    auto it=plaintext.begin();\n",
    "    for (auto c: plaintext) if (isalpha(c)) *(it++)=toupper(c);\n",
    "    plaintext.erase(it, plaintext.end());\n",
    "    return plaintext;\n",
    "}\n",
    "\n",
    "string s(\"Flee at once!\");\n",
    "LB(s);\n",
    "auto t(cc_process(std::move(s)));\n",
    "LB(t);\n",
    "s.empty()? t : throw runtime_error(\"`s` should be empty!\")"
   ]
  },
  {
   "cell_type": "markdown",
   "id": "05a726fa",
   "metadata": {},
   "source": [
    "Why aren't the elements of `s` moved to `t`? Because `plaintext` is not returned by rvalue reference?"
   ]
  },
  {
   "cell_type": "markdown",
   "id": "99c16bcd",
   "metadata": {},
   "source": [
    "Consider a different plaintext:"
   ]
  },
  {
   "cell_type": "code",
   "execution_count": null,
   "id": "d77bb7d9",
   "metadata": {},
   "outputs": [],
   "source": [
    "%%cpp\n",
    "string s(\"****************\");\n",
    "LB(s);\n",
    "auto t(cc_process(std::move(s)));\n",
    "LB(t);\n",
    "s.empty()? t : throw runtime_error(\"`s` should be empty!\")"
   ]
  },
  {
   "cell_type": "markdown",
   "id": "11d99545",
   "metadata": {},
   "source": [
    "The elements of `s` are now moved to `t`. Let's do it again:"
   ]
  },
  {
   "cell_type": "code",
   "execution_count": null,
   "id": "babb664b",
   "metadata": {},
   "outputs": [],
   "source": [
    "%%cpp\n",
    "string s(\"***************\");\n",
    "LB(s);\n",
    "auto t(cc_process(std::move(s)));\n",
    "LB(t);\n",
    "s.empty()? t : throw runtime_error(\"`s` should be empty!\")"
   ]
  },
  {
   "cell_type": "markdown",
   "id": "017812c7",
   "metadata": {},
   "source": [
    "The elements of `s` are again not moved to `t`. Isn't it confusing?"
   ]
  },
  {
   "cell_type": "markdown",
   "id": "7730b4bc",
   "metadata": {},
   "source": [
    "::::{caution} Why elements are not moved sometimes?\n",
    ":class: dropdown\n",
    "\n",
    "The string returned by `cc_process` is indeed constructed using the **move constructor** on `plaintext`. However, even though a move constructor *can* transfer ownership of resources from `plaintext`, it is **not required** to do so. In the case of `std::string`, many implementations apply **Small String Optimization (SSO)**, which stores short strings directly **within the object’s internal buffer**—a fixed-size array embedded in the object itself. This buffer is part of the object’s memory layout and avoids heap allocation for short strings, enabling faster access and reduced memory overhead.\n",
    "\n",
    "- The last example `\"**************\"` consists of 15 characters, which is regarded as a small string that is stored directly in the object's internal buffer. This also applies to the shorter string `\"Flee at once!\"`.\n",
    "- The previous example `\"***************\"` consists of 16 characters, which is not regarded as a small string.\n",
    "\n",
    "\n",
    "::::"
   ]
  },
  {
   "cell_type": "code",
   "execution_count": null,
   "id": "44720daa",
   "metadata": {},
   "outputs": [],
   "source": [
    "%%ai\n",
    "Explain in a paragraph what small string optimization (SSO) is in C++, and \n",
    "how small is small?"
   ]
  },
  {
   "cell_type": "markdown",
   "id": "94cef94f",
   "metadata": {},
   "source": [
    "To avoid confusion or the creation of a shallow copy of the string, we can simply return the processed `plaintext` by rvalue reference:"
   ]
  },
  {
   "cell_type": "code",
   "execution_count": null,
   "id": "7b2cf5d2",
   "metadata": {},
   "outputs": [],
   "source": [
    "%%cpp\n",
    "using stringrvr=string&&;  // a kludge to bypass an issue of ROOT kernel"
   ]
  },
  {
   "cell_type": "code",
   "execution_count": null,
   "id": "e145b9e2",
   "metadata": {},
   "outputs": [],
   "source": [
    "%%cpp\n",
    "stringrvr cc_process(string &&plaintext) {\n",
    "    auto it=plaintext.begin();\n",
    "    for (auto c: plaintext) if (isalpha(c)) *(it++)=toupper(c);\n",
    "    plaintext.erase(it, plaintext.end());\n",
    "    return std::move(plaintext);\n",
    "}\n",
    "\n",
    "string s(\"Flee at once!\");\n",
    "L(cc_process(std::move(L(s))));"
   ]
  },
  {
   "cell_type": "markdown",
   "id": "d40c8668",
   "metadata": {},
   "source": [
    "::::{exercise}\n",
    ":label: ex:cc_process\n",
    "\n",
    "In the above code, does `cc_process` construct a new string to return?\n",
    "\n",
    "::::"
   ]
  },
  {
   "cell_type": "markdown",
   "id": "e1d3e6a6",
   "metadata": {
    "deletable": false,
    "nbgrader": {
     "cell_type": "markdown",
     "checksum": "ca22a01c98e287711b0b0262f85fdf86",
     "grade": true,
     "grade_id": "cc_process",
     "locked": false,
     "points": 0,
     "schema_version": 3,
     "solution": true,
     "task": false
    }
   },
   "source": [
    "YOUR ANSWER HERE"
   ]
  },
  {
   "cell_type": "markdown",
   "id": "556c5362",
   "metadata": {},
   "source": [
    "### Counting Characters and Words"
   ]
  },
  {
   "cell_type": "markdown",
   "id": "77c22c55",
   "metadata": {},
   "source": [
    "Consider counting the number of characters in a string. Recall the function [`std::strlen`](https://en.cppreference.com/w/cpp/string/byte/strlen.html) from `<cstring>`, which calculates the length of a C‑string:"
   ]
  },
  {
   "cell_type": "code",
   "execution_count": null,
   "id": "c6e93e90",
   "metadata": {},
   "outputs": [],
   "source": [
    "%%cpp\n",
    "auto s=\"😎\";\n",
    "strlen(s)"
   ]
  },
  {
   "cell_type": "markdown",
   "id": "cc88b038",
   "metadata": {},
   "source": [
    "It fails to give the correct number of characters since 😎 is a unicode character encoded using multiple bytes. What if it is in a string container?"
   ]
  },
  {
   "cell_type": "code",
   "execution_count": null,
   "id": "2ebd0a07",
   "metadata": {},
   "outputs": [],
   "source": [
    "%%cpp\n",
    "string s(\"😎\");\n",
    "s.size()"
   ]
  },
  {
   "cell_type": "markdown",
   "id": "71505945",
   "metadata": {},
   "source": [
    "The `size` method still fails, but it works if we use a wide string `std::wstring`, which is a basic string `std::basic_string<wchar_t>` of wide characters  [`wchar_t`](https://en.cppreference.com/w/cpp/keyword/wchar_t.html):"
   ]
  },
  {
   "cell_type": "code",
   "execution_count": null,
   "id": "75fc03e3",
   "metadata": {},
   "outputs": [],
   "source": [
    "%%cpp\n",
    "wstring s(L\"😎\");\n",
    "s.size()"
   ]
  },
  {
   "cell_type": "markdown",
   "id": "437bb54c",
   "metadata": {},
   "source": [
    "`std::string` is a basic string `std::basic_string<char>` of `char`. There are many other basic string types:\n",
    "\n",
    "```cpp\n",
    "std::string                 std::basic_string<char>\n",
    "std::wstring                std::basic_string<wchar_t>\n",
    "std::u8string       (C++20) std::basic_string<char8_t>\n",
    "std::u16string      (C++11) std::basic_string<char16_t>\n",
    "std::u32string      (C++11) std::basic_string<char32_t>\n",
    "std::pmr::string    (C++17) std::pmr::basic_string<char>\n",
    "std::pmr::wstring   (C++17) std::pmr::basic_string<wchar_t>\n",
    "std::pmr::u8string  (C++20) std::pmr::basic_string<char8_t>\n",
    "std::pmr::u16string (C++17) std::pmr::basic_string<char16_t>\n",
    "std::pmr::u32string (C++17) std::pmr::basic_string<char32_t>\n",
    "```"
   ]
  },
  {
   "cell_type": "markdown",
   "id": "54502fa7",
   "metadata": {},
   "source": [
    "Recall the recursion for counting words:\n",
    "\n",
    "```cpp\n",
    "/**\n",
    " * @brief Counts the number of words in a string using tail recursion.\n",
    " *\n",
    " * A word is defined as a sequence of non-whitespace characters separated by whitespace.\n",
    " * This function uses tail recursion to traverse the string and count words efficiently.\n",
    " *\n",
    " * @param s The input C-style string to be processed.\n",
    " * @param i The current index in the string (default is 0).\n",
    " * @param c The current count of words found (default is 0).\n",
    " * @param w A flag indicating whether the previous character was whitespace (default is true).\n",
    " * @return The total number of words in the string.\n",
    " */\n",
    "size_t count_words(const char *s,\n",
    "                   const size_t i=0, const size_t c=0, const bool w=true) {\n",
    "    bool t = isspace(s[i]); // Check if the current character is a whitespace\n",
    "    return s[i] ? count_words(s, i + 1, c + (w && !t), t) : c;\n",
    "}\n",
    "```"
   ]
  },
  {
   "cell_type": "markdown",
   "id": "b2e0f381",
   "metadata": {},
   "source": [
    "How to make it work for different types of string?"
   ]
  },
  {
   "cell_type": "code",
   "execution_count": null,
   "id": "7791da8e",
   "metadata": {},
   "outputs": [],
   "source": [
    "%%cpp\n",
    "template<typename CharT>\n",
    "size_t count_words(const basic_string<CharT>& input) {\n",
    "    const auto whitespace = basic_string<CharT>{CharT(' ')} +\n",
    "        CharT('\\t') + CharT('\\n') + CharT('\\r') + CharT('\\v') + CharT('\\f');\n",
    "\n",
    "    size_t count=0, pos=0;\n",
    "    while (true) {\n",
    "        // Find the start of the next word\n",
    "        pos = input.find_first_not_of(whitespace, pos);\n",
    "        if (pos == basic_string<CharT>::npos) break;\n",
    "\n",
    "        // Find the end of the word\n",
    "        pos = input.find_first_of(whitespace, pos);\n",
    "        ++count;\n",
    "    }\n",
    "\n",
    "    return count;\n",
    "}"
   ]
  },
  {
   "cell_type": "code",
   "execution_count": null,
   "id": "4b98b2e9",
   "metadata": {},
   "outputs": [],
   "source": [
    "%%cpp\n",
    "wstring s(L\"😎:\\nHello, World!\");\n",
    "count_words(s)"
   ]
  },
  {
   "cell_type": "markdown",
   "id": "f744bd9b",
   "metadata": {},
   "source": [
    "The above code uses `template<typename CharT, typename Traits, typename Alloc>` to make the function generic for any `std::basic_string` type. The function `count_words` first creates a string of common white space characters:\n",
    "\n",
    "```cpp\n",
    "' '  (space)\n",
    "'\\t' (tab)\n",
    "'\\n' (newline)\n",
    "'\\r' (carriage return)\n",
    "'\\v' (vertical tab)\n",
    "'\\f' (form feed)\n",
    "```"
   ]
  },
  {
   "cell_type": "markdown",
   "id": "0fdd50c6",
   "metadata": {},
   "source": [
    "It then finds and count the next word iteratively uses the search methods \n",
    "- [find_first_not_of](https://en.cppreference.com/w/cpp/string/basic_string/find_first_not_of) to find the next non-whitespace character to locate the start of a word;\n",
    "  ```cpp\n",
    "  size_type find_first_not_of( const basic_string& str, size_type pos = 0 ) const;\n",
    "  ```\n",
    "- [find_first_of](https://en.cppreference.com/w/cpp/string/basic_string/find_first_of) to find the next whitespace character to locate the end of the word.\n",
    "  ```cpp\n",
    "  size_type find_first_of( const basic_string& str, size_type pos = 0 ) const;\n",
    "  ```\n",
    "\n",
    "[`npos`](https://en.cppreference.com/w/cpp/string/basic_string/npos) is a constant (`std::size_t(-1)`) returned by the search methods if the search target is not found."
   ]
  },
  {
   "cell_type": "markdown",
   "id": "55145897",
   "metadata": {},
   "source": [
    "The code can be much simplified using an input string stream:"
   ]
  },
  {
   "cell_type": "code",
   "execution_count": null,
   "id": "4923b8ad",
   "metadata": {},
   "outputs": [],
   "source": [
    "%%cpp\n",
    "template<typename CharT>\n",
    "size_t count_words(const basic_string<CharT>& input) {\n",
    "    basic_istringstream<CharT> stream(input);\n",
    "    basic_string<CharT> word;\n",
    "\n",
    "    size_t count = 0;\n",
    "    while (stream >> word) ++count;\n",
    "    return count;\n",
    "}"
   ]
  },
  {
   "cell_type": "code",
   "execution_count": null,
   "id": "cba009ac",
   "metadata": {},
   "outputs": [],
   "source": [
    "%%cpp\n",
    "wstring s(L\"😎:\\nHello, World!\");\n",
    "count_words(s)"
   ]
  },
  {
   "cell_type": "markdown",
   "id": "5b4ae0b2",
   "metadata": {},
   "source": [
    "The idea is to turn the `input` string into an input stream [`basic_istringstream`](https://en.cppreference.com/w/cpp/io/basic_istringstream):\n",
    "1. [`>>`](https://en.cppreference.com/w/cpp/io/basic_istream/operator_gtgt) can be used to extract the next word from the stream to the string `word`; and\n",
    "2. the count can be incremented for each successful extraction."
   ]
  },
  {
   "cell_type": "markdown",
   "id": "6a23e5d0",
   "metadata": {},
   "source": [
    "The returned stream `(stream >> word)` is contextually converted to a boolean value that evaluates to\n",
    "- `true` when the extract succeeded; and\n",
    "- `false` when the end of file or an error occurs."
   ]
  },
  {
   "cell_type": "code",
   "execution_count": null,
   "id": "c6267f68",
   "metadata": {},
   "outputs": [],
   "source": [
    "%%ai\n",
    "Explain in a paragraph how `(stream >> word)` for `basic_istringstream` signals\n",
    "successful extraction of a word?"
   ]
  },
  {
   "cell_type": "markdown",
   "id": "a53710ba",
   "metadata": {},
   "source": [
    "The function `count_lines` below uses an input string stream to count the number of lines instead of words of a string:\n",
    "```cpp\n",
    "template< class CharT, class Traits, class Allocator >\n",
    "std::basic_istream<CharT, Traits>&\n",
    "    getline( std::basic_istream<CharT, Traits>& input,\n",
    "             std::basic_string<CharT, Traits, Allocator>& str );\n",
    "```"
   ]
  },
  {
   "cell_type": "code",
   "execution_count": null,
   "id": "337ba330",
   "metadata": {},
   "outputs": [],
   "source": [
    "%%cpp\n",
    "template<typename CharT>\n",
    "size_t count_lines(const basic_string<CharT>& input) {\n",
    "    basic_istringstream<CharT> stream(input);\n",
    "    basic_string<CharT> line;\n",
    "\n",
    "    size_t count = 0;\n",
    "    while (getline(stream, line)) ++count;\n",
    "    return count;\n",
    "}"
   ]
  },
  {
   "cell_type": "code",
   "execution_count": null,
   "id": "8123eebb",
   "metadata": {},
   "outputs": [],
   "source": [
    "%%cpp\n",
    "string s(\"😎:\\nHello, World!\");\n",
    "count_lines(s)"
   ]
  },
  {
   "cell_type": "markdown",
   "id": "296530a5",
   "metadata": {},
   "source": [
    "The code uses the function [`std::getline`](https://en.cppreference.com/w/cpp/string/basic_string/getline.html) to\n",
    "- read characters from `stream` up to a delimiter (default: `\\n`);\n",
    "- store the extracted characters excluding the line-break in `line`; and\n",
    "- return the reference to `stream`."
   ]
  },
  {
   "cell_type": "markdown",
   "id": "b80c1918",
   "metadata": {},
   "source": [
    "## Stream"
   ]
  },
  {
   "cell_type": "markdown",
   "id": "024d34c5",
   "metadata": {},
   "source": [
    "::::{exercise}\n",
    ":label: ex:cin\n",
    "\n",
    "How does the following function improves over the one implemented in [](../Lecture1/util/io.cpp)?\n",
    "\n",
    "::::"
   ]
  },
  {
   "cell_type": "code",
   "execution_count": null,
   "id": "fe68317b",
   "metadata": {},
   "outputs": [],
   "source": [
    "%%cpp\n",
    "void input_int(int &x) {\n",
    "    do {\n",
    "        cout << \"Enter an integer: \";\n",
    "        cin.clear();\n",
    "        cin.ignore(std::numeric_limits<std::streamsize>::max(), '\\n');\n",
    "    } while (!(cin >> x));\n",
    "}\n",
    "\n",
    "// test\n",
    "istringstream fake_input{\"Hello, World!\\n123 456\\n\"};\n",
    "cin.rdbuf(fake_input.rdbuf());\n",
    "int x;\n",
    "input_int(x);\n",
    "cout << format(\"\\nYou entered {}.\\n\", x);"
   ]
  },
  {
   "cell_type": "markdown",
   "id": "30ddc4e3",
   "metadata": {
    "deletable": false,
    "nbgrader": {
     "cell_type": "markdown",
     "checksum": "024111cb0f568c44664dc0e7cc4aa1ad",
     "grade": true,
     "grade_id": "cin",
     "locked": false,
     "points": 0,
     "schema_version": 3,
     "solution": true,
     "task": false
    }
   },
   "source": [
    "YOUR ANSWER HERE"
   ]
  },
  {
   "cell_type": "markdown",
   "id": "b82a83d3",
   "metadata": {},
   "source": [
    "In the above code\n",
    "\n",
    "- [`cin.clear()`](https://en.cppreference.com/w/cpp/io/basic_ios/clear.html) uses the method\n",
    "  ```cpp\n",
    "  void clear( std::ios_base::iostate state = std::ios_base::goodbit );\n",
    "  ```\n",
    "  from `basic_ios` to reset the stream's error flags to allow the next read attempt to proceed.\n",
    "- [`cin.ignore`](https://en.cppreference.com/w/cpp/io/basic_istream/ignore)\n",
    "  ```cpp\n",
    "  basic_istream& ignore( std::streamsize count = 1, int_type delim = Traits::eof() );\n",
    "  ```\n",
    "  from `basic_istream` to discard a number `count` of characters from the input stream until and including the delimiter `delim`."
   ]
  },
  {
   "cell_type": "markdown",
   "id": "e05d9665",
   "metadata": {},
   "source": [
    "::::{seealso} Why can `cin` uses method from different classes?\n",
    ":class: dropdown\n",
    "\n",
    "`cin` is an instance of [`std::istream`](https://en.cppreference.com/w/cpp/io/basic_istream.html), or more explicitly `std::basic_istream<char>`:\n",
    "```cpp\n",
    "template<\n",
    "    class CharT,\n",
    "    class Traits = std::char_traits<CharT>\n",
    "> class basic_istream : virtual public std::basic_ios<CharT, Traits>\n",
    "```\n",
    "This is a subclass [derived from the superclass `std::basic_ios`](https://en.cppreference.com/w/cpp/io/basic_istream.html#Inherited_from_std::basic_ios) and therefore inherits the method `clear` of the superclass.\n",
    "\n",
    "::::"
   ]
  },
  {
   "cell_type": "code",
   "execution_count": null,
   "id": "29288930",
   "metadata": {},
   "outputs": [],
   "source": [
    "%%ai\n",
    "Explain in a paragraph the idea of inheritance in C++."
   ]
  },
  {
   "cell_type": "markdown",
   "id": "df41ec18",
   "metadata": {},
   "source": [
    "Instead of writing to the standard output, we can write to files using output file stream [`std::ofstream`](https://en.cppreference.com/w/cpp/io/basic_ofstream.html) from `<fstream>`:"
   ]
  },
  {
   "cell_type": "code",
   "execution_count": null,
   "id": "9b343c10",
   "metadata": {},
   "outputs": [],
   "source": [
    "%%cpp\n",
    "std::ofstream file(\"private/hello.txt\");\n",
    "if (file.good()) {\n",
    "    file << \"😎:\\n\";\n",
    "    file << \"Hello, World!\\n\";\n",
    "}\n",
    "file.close();"
   ]
  },
  {
   "cell_type": "code",
   "execution_count": null,
   "id": "fc80f9db",
   "metadata": {},
   "outputs": [],
   "source": [
    "!cat private/hello.txt"
   ]
  },
  {
   "cell_type": "markdown",
   "id": "4bb0775f",
   "metadata": {},
   "source": [
    "The code used \n",
    "- [`file.good()`](https://en.cppreference.com/w/cpp/io/basic_ios/good.html)\n",
    "  ```cpp\n",
    "  bool good() const;\n",
    "  ```\n",
    "  which returns true if the stream error flags are all false, i.e., the most recent I/O operation completed successfully; and\n",
    "- [`file.close()`](https://en.cppreference.com/w/cpp/io/basic_ofstream/close.html)\n",
    "  ```cpp\n",
    "  void close();\n",
    "  ```\n",
    "  which closes the file, which ensures the data is written to disk immediately instead of when `file` goes out of scope."
   ]
  },
  {
   "cell_type": "markdown",
   "id": "8fb3561c",
   "metadata": {},
   "source": [
    "::::{exercise}\n",
    ":label: ex:ifstream\n",
    "\n",
    "Complete the following code to read and print the content of `private/hello.txt` using the input file stream [`std::ifstream`](https://en.cppreference.com/w/cpp/io/basic_ifstream.html) from `<fstream>`.\n",
    "\n",
    "::::"
   ]
  },
  {
   "cell_type": "code",
   "execution_count": null,
   "id": "b768cb20",
   "metadata": {
    "deletable": false,
    "nbgrader": {
     "cell_type": "code",
     "checksum": "06268b04aa8f6e48bcc769d467c32f3b",
     "grade": false,
     "grade_id": "ifstream",
     "locked": false,
     "schema_version": 3,
     "solution": true,
     "task": false
    }
   },
   "outputs": [],
   "source": [
    "%%cpp\n",
    "string line;\n",
    "\n",
    "ifstream file(\"private/hello.txt\");\n",
    "/*\n",
    "# REPLACE THE ENTIRE COMMENT WITH YOUR CODE #\n",
    "*/\n",
    "file.close();"
   ]
  }
 ],
 "metadata": {
  "jupytext": {
   "default_lexer": "ipython3"
  },
  "kernelspec": {
   "display_name": "Python 3 (ipykernel)",
   "language": "python",
   "name": "python3"
  }
 },
 "nbformat": 4,
 "nbformat_minor": 5
}
