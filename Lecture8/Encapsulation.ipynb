{
 "cells": [
  {
   "cell_type": "markdown",
   "id": "a5d0a2a3",
   "metadata": {
    "editable": true,
    "slideshow": {
     "slide_type": ""
    }
   },
   "source": [
    "---\n",
    "title: Encapsulation\n",
    "abstract: |\n",
    "    Compared to closures, C++ classes offer a more structured and flexible approach to encapsulating properties and methods into modular, reusable components. Constructors enable object initialization with varying properties, while access specifiers and member functions provide fine-grained control. Shared behavior and data can be managed through static members, and interactions between classes can be facilitated using non-member functions.\n",
    "skip_execution: true\n",
    "---"
   ]
  },
  {
   "cell_type": "code",
   "execution_count": null,
   "id": "983e594e",
   "metadata": {
    "editable": true,
    "slideshow": {
     "slide_type": ""
    }
   },
   "outputs": [],
   "source": [
    "from __init__ import *\n",
    "!mkdir -p private"
   ]
  },
  {
   "cell_type": "code",
   "execution_count": null,
   "id": "3ef1385d",
   "metadata": {
    "editable": true,
    "slideshow": {
     "slide_type": ""
    },
    "tags": [
     "skip-execution"
    ]
   },
   "outputs": [],
   "source": [
    "if not input('Load JupyterAI? [Y/n]').lower()=='n':\n",
    "    %reload_ext jupyter_ai"
   ]
  },
  {
   "cell_type": "markdown",
   "id": "0b632a1c",
   "metadata": {},
   "source": [
    "## Motivation"
   ]
  },
  {
   "cell_type": "markdown",
   "id": "24554f78",
   "metadata": {},
   "source": [
    "Recall an earlier function that increments a static variable `count`:"
   ]
  },
  {
   "cell_type": "code",
   "execution_count": null,
   "id": "af06e5aa",
   "metadata": {},
   "outputs": [],
   "source": [
    "%%cpp\n",
    "unsigned int increment_count() {\n",
    "    static int count;\n",
    "    return ++count;\n",
    "}\n",
    "\n",
    "generate_n(ostream_iterator<int>(cout, \" \"), 5, increment_count);\n",
    "generate_n(ostream_iterator<int>(cout, \" \"), 5, increment_count);"
   ]
  },
  {
   "cell_type": "markdown",
   "id": "50ebfaff",
   "metadata": {},
   "source": [
    "The above code uses [`std::generate_n`](https://en.cppreference.com/w/cpp/algorithm/generate_n.html) from `<algorithm>` and [`ostream_iterator`](https://en.cppreference.com/w/cpp/iterator/ostream_iterator/ostream_iterator.html) from `<iterator>` to print the 5 consecutive counts separated by spaces."
   ]
  },
  {
   "cell_type": "code",
   "execution_count": null,
   "id": "d8f4b176",
   "metadata": {},
   "outputs": [],
   "source": [
    "%%ai\n",
    "Explain in a paragraph or two what does the following code do:\n",
    "---\n",
    "generate_n(ostream_iterator<int>(cout, \" \"), 5, increment_count);"
   ]
  },
  {
   "cell_type": "markdown",
   "id": "7eb6de42",
   "metadata": {},
   "source": [
    "**How to make the funciton thread-safe?**"
   ]
  },
  {
   "cell_type": "markdown",
   "id": "da171167",
   "metadata": {},
   "source": [
    "Closure can be used in place of the static variable, making the function thread-safe:"
   ]
  },
  {
   "cell_type": "code",
   "execution_count": null,
   "id": "590a2f9b",
   "metadata": {},
   "outputs": [],
   "source": [
    "%%cpp\n",
    "std::function<int()> counter(int count=0) {\n",
    "    return [count]() mutable {  // thread-safe as count is captured by copy\n",
    "        return ++count;\n",
    "    };\n",
    "}\n",
    "\n",
    "auto counter1=counter();\n",
    "generate_n(ostream_iterator<int>(cout, \" \"), 5, counter1); cout << '\\n';\n",
    "generate_n(ostream_iterator<int>(cout, \" \"), 5, counter1); cout << '\\n';"
   ]
  },
  {
   "cell_type": "markdown",
   "id": "7bee79c0",
   "metadata": {},
   "source": [
    "::::{exercise}\n",
    ":label: ex:thread-safe\n",
    "\n",
    "Why repeatedly calling \n",
    "```cpp\n",
    "generate_n(ostream_iterator<int>(cout, \" \"), 5, counter1);\n",
    "```\n",
    "gives the same result but repeatedly calling \n",
    "```cpp\n",
    "generate_n(ostream_iterator<int>(cout, \" \"), 5, increment_count);\n",
    "```\n",
    "does not?\n",
    "\n",
    "::::"
   ]
  },
  {
   "cell_type": "markdown",
   "id": "ec13299b",
   "metadata": {
    "deletable": false,
    "nbgrader": {
     "cell_type": "markdown",
     "checksum": "45dd9c3c20fcef139312f030926b6647",
     "grade": true,
     "grade_id": "thread-safe",
     "locked": false,
     "points": 0,
     "schema_version": 3,
     "solution": true,
     "task": false
    }
   },
   "source": [
    "YOUR ANSWER HERE"
   ]
  },
  {
   "cell_type": "markdown",
   "id": "6e1d4bc4",
   "metadata": {},
   "source": [
    "**How to modify the count of an existing counter?**"
   ]
  },
  {
   "cell_type": "markdown",
   "id": "2a940c2e",
   "metadata": {},
   "source": [
    "One way is to modify the returned lambda expression to take an argument `new_count`:"
   ]
  },
  {
   "cell_type": "code",
   "execution_count": null,
   "id": "5122fa46",
   "metadata": {},
   "outputs": [],
   "source": [
    "%%cpp\n",
    "/**\n",
    " * @brief Creates a counter function that maintains internal state using a closure.\n",
    " * \n",
    " * The returned lambda increments the counter by default, but allows resetting\n",
    " * the counter by passing a non-negative value.\n",
    " * \n",
    " * @param count Initial value of the counter (default is 0).\n",
    " * @return std::function<int(int)> A function that takes an integer argument:\n",
    " *         - If new_count >= 0: ___\n",
    " *         - If new_count < 0: ___\n",
    " */\n",
    "std::function<int(int)> counter(int count=0) {\n",
    "    return [count](int new_count) mutable {\n",
    "        return new_count>=0? (swap(count, new_count), new_count): ++count;\n",
    "    };\n",
    "}\n",
    "\n",
    "auto counter1=counter();\n",
    "for (auto i=0; i<5; i++) cout << counter1(-1) << ' '; cout << '\\n';\n",
    "counter1(10);\n",
    "for (auto i=0; i<5; i++) cout << counter1(-1) << ' '; cout << '\\n';\n",
    "counter1(5);\n",
    "for (auto i=0; i<5; i++) cout << counter1(-1) << ' '; cout << '\\n';"
   ]
  },
  {
   "cell_type": "markdown",
   "id": "13c5aa1b",
   "metadata": {},
   "source": [
    "::::{exercise}\n",
    ":label: ex:new_count\n",
    "\n",
    "Complete the above documentation of `counter` by filling in the blanks `___`.\n",
    "\n",
    "::::"
   ]
  },
  {
   "cell_type": "markdown",
   "id": "857235b1",
   "metadata": {},
   "source": [
    "::::{solution} ex:new_count\n",
    ":class: dropdown\n",
    "\n",
    "```cpp\n",
    "/**\n",
    " * @brief Creates a counter function that maintains internal state using a closure.\n",
    " * \n",
    " * The returned lambda increments the counter by default, but allows resetting\n",
    " * the counter by passing a non-negative value.\n",
    " * \n",
    " * @param count Initial value of the counter (default is 0).\n",
    " * @return std::function<int(int)> A function that takes an integer argument:\n",
    " *         - If new_count >= 0: resets the counter to new_count and return the previous count.\n",
    " *         - If new_count < 0: increments the counter and return the current count.\n",
    " */\n",
    "std::function<int(int)> counter(int count = 0) {\n",
    "    return [count](int new_count) mutable {\n",
    "eturn new_count >= 0 ? (std::swap(count, new_count), new_count) : ++count;\n",
    "    };\n",
    "}\n",
    "```\n",
    "::::"
   ]
  },
  {
   "cell_type": "markdown",
   "id": "9826d851",
   "metadata": {},
   "source": [
    "::::{caution} Can we call `counter1()` to increment the count?\n",
    "\n",
    "The call `counter1(-1)` to increment the count is awkward, as it relies on sentinel values, namely, negative counts. Unfortunately, C++ lambdas don’t support default arguments, so enabling `counter1()` without parameters isn’t straightforward. C++ being statically typed also makes the design harder to extend with additional features that may require different parameters and return values of different types.\n",
    "\n",
    "::::"
   ]
  },
  {
   "cell_type": "markdown",
   "id": "f1dc9be7",
   "metadata": {},
   "source": [
    "To resolve the issue, we will reimplement `counter` as a data type. `counter`is essentially a constructor that creates different counter objects `counter1` and `counter2`, each with their own `count` property."
   ]
  },
  {
   "cell_type": "markdown",
   "id": "c41defd1",
   "metadata": {},
   "source": [
    "## Class Definition"
   ]
  },
  {
   "cell_type": "markdown",
   "id": "0b0963c4",
   "metadata": {},
   "source": [
    "The following defines `Counter` as a data type, also known as a *class* or a *structure*:\n",
    "\n",
    "```cpp\n",
    "struct Counter {        // declaration list of members of the class Counter\n",
    "    int count=0;        // a property that keeps an integer count, value-initialized to 0\n",
    "    auto operator()() { // a method that defines the function call operator\n",
    "        return ++count;\n",
    "    }\n",
    "}; // semi-colon required, unlike a compound statement\n",
    "```"
   ]
  },
  {
   "cell_type": "code",
   "execution_count": null,
   "id": "7edb8b32",
   "metadata": {},
   "outputs": [],
   "source": [
    "%%cpp\n",
    "struct Counter {\n",
    "    int count=0;\n",
    "    auto operator()() { return ++count; }\n",
    "};\n",
    "\n",
    "Counter counter1;\n",
    "for (auto i=0; i<5; i++) cout << counter1() << ' '; cout << '\\n';\n",
    "counter1.count = 10;\n",
    "for (auto i=0; i<5; i++) cout << counter1() << ' '; cout << '\\n';\n",
    "counter1.count = 5;\n",
    "for (auto i=0; i<5; i++) cout << counter1() << ' '; cout << '\\n';"
   ]
  },
  {
   "cell_type": "markdown",
   "id": "02c83dbb",
   "metadata": {},
   "source": [
    "The code declares a `counter1` object of type `Counter` and sets its count using `counter1.count = 10`. The custom data type `Counter` is defined with the [`struct`](https://en.cppreference.com/w/c/language/struct.html) keyword. Its members include:\n",
    "- `count`, a *property* or *field*, behaves like a variable captured by value in a closure—each instance can hold a different value.\n",
    "- `operator()`, a *method* or *member function*, resembles a lambda captured by reference—its definition is shared across instances. Implementing the [function call operator](https://en.cppreference.com/w/cpp/language/operators.html#Function_call_operator) makes the object a [functor](https://en.cppreference.com/w/cpp/functional.html), i.e., a callable object."
   ]
  },
  {
   "cell_type": "markdown",
   "id": "61fad257",
   "metadata": {},
   "source": [
    "We can also separate the definition from the declarations as follows:"
   ]
  },
  {
   "cell_type": "code",
   "execution_count": null,
   "id": "e3b59738",
   "metadata": {},
   "outputs": [],
   "source": [
    "%%cpp\n",
    "struct Counter {\n",
    "    int count=0;\n",
    "    auto operator()();\n",
    "};"
   ]
  },
  {
   "cell_type": "code",
   "execution_count": null,
   "id": "71209cd5",
   "metadata": {},
   "outputs": [],
   "source": [
    "%%cpp\n",
    "auto Counter::operator()() { return ++count; }\n",
    "\n",
    "Counter counter1;\n",
    "for (auto i=0; i<5; i++) cout << counter1() << ' '; cout << '\\n';"
   ]
  },
  {
   "cell_type": "markdown",
   "id": "5b0ffb74",
   "metadata": {},
   "source": [
    "Note that members are scoped using the class name to avoid name conflicts. The declaration can be placed in a header file, while the definition can be placed in a source file."
   ]
  },
  {
   "cell_type": "markdown",
   "id": "cf71214b",
   "metadata": {},
   "source": [
    "The following is an example, which also declares static members shared by all instances:\n",
    "- A constant static property such as `DEFAULT_START` can be initialized inline just like a non-static property.\n",
    "- However, a non-constant static property such as `start` cannot be initialized inline.\n",
    "- A static method such as `reset_start` can be defined inline or separately just like a non-static method. However, it cannot access non-static members such as `count`, unlike a static method."
   ]
  },
  {
   "cell_type": "code",
   "execution_count": null,
   "id": "fcd2d0cc",
   "metadata": {},
   "outputs": [],
   "source": [
    "%%writefile private/counter.hpp\n",
    "#pragma once\n",
    "struct Counter {\n",
    "    int count=start-1;\n",
    "    int operator()();\n",
    "\n",
    "    // Static members shared by all instances\n",
    "    static const int DEFAULT_START=1; // const initializable in header\n",
    "    static int start;                 // mutable NOT initializable in header\n",
    "    static void reset_start();  // static method can also be defined in header\n",
    "};\n",
    "\n",
    "/* ERROR: gnu/bin/ld: multiple definition of `Counter::start';\n",
    "int Counter::start=Counter::DEFAULT_START; \n",
    "*/"
   ]
  },
  {
   "cell_type": "code",
   "execution_count": null,
   "id": "099ae818",
   "metadata": {},
   "outputs": [],
   "source": [
    "%%writefile private/counter.cpp\n",
    "#include \"counter.hpp\"\n",
    "\n",
    "int Counter::start=Counter::DEFAULT_START;           // initialization of mutable static member\n",
    "void Counter::reset_start() { start=DEFAULT_START; } // cannot access non-static members like count\n",
    "int Counter::operator()() { return ++count; }        // return type cannot be auto, to match the declaration"
   ]
  },
  {
   "cell_type": "code",
   "execution_count": null,
   "id": "9ecfc6e0",
   "metadata": {},
   "outputs": [],
   "source": [
    "%%writefile private/static.cpp\n",
    "#include \"counter.hpp\"\n",
    "#include <iostream>\n",
    "\n",
    "using std::cout;\n",
    "\n",
    "int main() {\n",
    "    Counter::start=0;            // All instances see start as 0\n",
    "    Counter counter1, counter2;\n",
    "    for (auto i=0; i<5; i++) cout << counter1() << ' '; cout << '\\n';\n",
    "    for (auto i=0; i<5; i++) cout << counter2() << ' '; cout << '\\n';\n",
    "    Counter::reset_start();      // cannot be called as counter1.reset_start()\n",
    "    Counter counter3, counter4;\n",
    "    for (auto i=0; i<5; i++) cout << counter3() << ' '; cout << '\\n';\n",
    "    for (auto i=0; i<5; i++) cout << counter4() << ' '; cout << '\\n';    \n",
    "    return 0;\n",
    "}"
   ]
  },
  {
   "cell_type": "code",
   "execution_count": null,
   "id": "aa8e0dc7",
   "metadata": {},
   "outputs": [],
   "source": [
    "!cd private && g++ static.cpp counter.cpp -o static && ./static"
   ]
  },
  {
   "cell_type": "markdown",
   "id": "51f55f6d",
   "metadata": {},
   "source": [
    "::::{exercise}\n",
    ":label: ex:static\n",
    "\n",
    "Explain how the static members work in the above code.\n",
    "\n",
    "::::"
   ]
  },
  {
   "cell_type": "markdown",
   "id": "c908cee5",
   "metadata": {
    "deletable": false,
    "nbgrader": {
     "cell_type": "markdown",
     "checksum": "a58e90938ba8677923e12c534bd3136b",
     "grade": true,
     "grade_id": "static",
     "locked": false,
     "points": 0,
     "schema_version": 3,
     "solution": true,
     "task": false
    }
   },
   "source": [
    "YOUR ANSWER HERE"
   ]
  },
  {
   "cell_type": "code",
   "execution_count": null,
   "id": "5a979ae1",
   "metadata": {},
   "outputs": [],
   "source": [
    "%%ai\n",
    "Explain in a paragraph or two why static constant but not mutable property can\n",
    "be initialized inside the class declaration, and whether mutable property be \n",
    "initialized inside the same header file containing the class declaration?"
   ]
  },
  {
   "cell_type": "markdown",
   "id": "038ce30c",
   "metadata": {},
   "source": [
    "::::{caution}\n",
    "\n",
    "Due to an issue with the ROOT kernel, initialization of non-constant static variable does not work unfortunately:\n",
    "\n",
    "```cpp\n",
    "int Counter::start=Counter::DEFAULT_START;\n",
    "```\n",
    "\n",
    "::::"
   ]
  },
  {
   "cell_type": "markdown",
   "id": "d733816a",
   "metadata": {},
   "source": [
    "**How to initialize the count?**"
   ]
  },
  {
   "cell_type": "markdown",
   "id": "c4e5acec",
   "metadata": {},
   "source": [
    "Is there anything wrong with he following code?"
   ]
  },
  {
   "cell_type": "code",
   "execution_count": null,
   "id": "c1788d11",
   "metadata": {},
   "outputs": [],
   "source": [
    "%%cpp\n",
    "struct Counter {\n",
    "    int count;\n",
    "    auto operator()() { return ++count; }\n",
    "};\n",
    "\n",
    "Counter counter1;\n",
    "for (auto i=0; i<5; i++) cout << counter1() << ' '; cout << '\\n';"
   ]
  },
  {
   "cell_type": "markdown",
   "id": "d6719417",
   "metadata": {},
   "source": [
    "Unlike static/global variables, `int count;` may not [zero-initialize](https://en.cppreference.com/w/cpp/language/zero_initialization.html) the member `count`:"
   ]
  },
  {
   "cell_type": "code",
   "execution_count": null,
   "id": "f5ab5c28",
   "metadata": {},
   "outputs": [],
   "source": [
    "%%writefile private/uninitialized.cpp\n",
    "#include <iostream>\n",
    "\n",
    "using std::cout;\n",
    "\n",
    "struct Counter {\n",
    "    int count;\n",
    "    auto operator()() { return ++count; }\n",
    "};\n",
    "\n",
    "int main() {\n",
    "    Counter counter1;\n",
    "    cout << counter1() << '\\n';\n",
    "}"
   ]
  },
  {
   "cell_type": "code",
   "execution_count": null,
   "id": "1e0610fd",
   "metadata": {},
   "outputs": [],
   "source": [
    "!cd private && g++ -o uninitialized uninitialized.cpp && ./uninitialized"
   ]
  },
  {
   "cell_type": "code",
   "execution_count": null,
   "id": "6da1595b",
   "metadata": {},
   "outputs": [],
   "source": [
    "%%ai\n",
    "Explain in a table the rules for zero initialization in C++."
   ]
  },
  {
   "cell_type": "markdown",
   "id": "b490a83b",
   "metadata": {},
   "source": [
    "::::{exercise}\n",
    ":label: ex:zero-init\n",
    "\n",
    "Does the following code zero-initialize `count`?\n",
    "\n",
    "```cpp\n",
    "struct Counter {\n",
    "    int count {};\n",
    "    auto operator()() { return ++count; }\n",
    "};\n",
    "```\n",
    "\n",
    "::::"
   ]
  },
  {
   "cell_type": "markdown",
   "id": "7252c4a7",
   "metadata": {
    "deletable": false,
    "nbgrader": {
     "cell_type": "markdown",
     "checksum": "c6f3aea0f8de02548cd8cb7ab176120f",
     "grade": true,
     "grade_id": "zero-init",
     "locked": false,
     "points": 0,
     "schema_version": 3,
     "solution": true,
     "task": false
    }
   },
   "source": [
    "YOUR ANSWER HERE"
   ]
  },
  {
   "cell_type": "markdown",
   "id": "68653136",
   "metadata": {},
   "source": [
    "## Constructor"
   ]
  },
  {
   "cell_type": "markdown",
   "id": "991b48e4",
   "metadata": {},
   "source": [
    "To initialize `count` to a possibly non-zero value, like the call to `auto counter2=counter(10);`, we need to define a constructor:"
   ]
  },
  {
   "cell_type": "code",
   "execution_count": null,
   "id": "3f43cba2",
   "metadata": {},
   "outputs": [],
   "source": [
    "%%cpp\n",
    "struct Counter {\n",
    "    int count;\n",
    "    Counter(int count) {\n",
    "        this->count = count;\n",
    "    }\n",
    "    auto operator()() { return ++count; }\n",
    "};\n",
    "\n",
    "generate_n(ostream_iterator<int>(cout, \" \"), 5, Counter(0));\n",
    "Counter counter2(10);\n",
    "for (auto i=0; i<5; i++) cout << counter2() << ' '; cout << '\\n';"
   ]
  },
  {
   "cell_type": "markdown",
   "id": "240c6393",
   "metadata": {},
   "source": [
    "`Counter(int count)` defines a [constructor](https://en.cppreference.com/w/cpp/language/initializer_list.html) that takes an `int` argument and assigns it to the member `count`. Unlike ordinary functions, constructors omit a return type and a `return` statement—the constructed object is returned implicitly."
   ]
  },
  {
   "cell_type": "markdown",
   "id": "5a9b4654",
   "metadata": {},
   "source": [
    "::::{caution}\n",
    "\n",
    "Since the parameter `count` shadows the member `count`, `this->count` is used to explicitly reference the member `count` in `set_count`:\n",
    "\n",
    "- [`this` pointer](https://en.cppreference.com/w/cpp/language/this.html) is used inside a method to points to the [implicit object parameter](https://en.cppreference.com/w/cpp/language/overload_resolution.html#Implicit_object_parameter), i.e., the current object.\n",
    "- `this->count` is a [member access operator](https://en.cppreference.com/w/cpp/language/operator_member_access.html) that translates to `*this.count`.\n",
    "\n",
    "::::"
   ]
  },
  {
   "cell_type": "markdown",
   "id": "dcae8bcf",
   "metadata": {},
   "source": [
    "A simpler way to initialize `count` is to use a [member initializer list](https://en.cppreference.com/w/cpp/language/initializer_list.html#Member_initializer_list) `: count{count}` or `: count(count)` before the body of the constructor:"
   ]
  },
  {
   "cell_type": "code",
   "execution_count": null,
   "id": "92aa89ef",
   "metadata": {},
   "outputs": [],
   "source": [
    "%%cpp\n",
    "struct Counter {\n",
    "    int count;\n",
    "    Counter(int count) : count{count} {}\n",
    "    auto operator()() { return ++count; }\n",
    "};\n",
    "\n",
    "Counter counter2(10);  // direct initialization\n",
    "for (auto i=0; i<5; i++) cout << counter2() << ' '; cout << '\\n';\n",
    "Counter counter3=20;   // copy initialization\n",
    "for (auto i=0; i<5; i++) cout << counter3() << ' '; cout << '\\n';"
   ]
  },
  {
   "cell_type": "markdown",
   "id": "4050079d",
   "metadata": {},
   "source": [
    "::::{tip}\n",
    "\n",
    "The compiler knows that the first `count` in `: count{count}` must correspond to a property to initialize, so there is no need to use the `this` pointer.\n",
    "\n",
    "::::"
   ]
  },
  {
   "cell_type": "markdown",
   "id": "d4d5567d",
   "metadata": {},
   "source": [
    "The copy initialization `Counter counter3=20;` may appear confusing as it converts an `int` to a `Counter` implicitly using the constructor `Counter(int count)`."
   ]
  },
  {
   "cell_type": "markdown",
   "id": "2a67363e",
   "metadata": {},
   "source": [
    "**How to make a constructor explicit?**"
   ]
  },
  {
   "cell_type": "markdown",
   "id": "df40ea67",
   "metadata": {},
   "source": [
    "We can simply mark the constructor as [`explicit`](https://en.cppreference.com/w/cpp/language/explicit.html):"
   ]
  },
  {
   "cell_type": "code",
   "execution_count": null,
   "id": "1c5dd375",
   "metadata": {},
   "outputs": [],
   "source": [
    "%%cpp\n",
    "struct Counter {\n",
    "    int count;\n",
    "    explicit Counter(int count) : count{count} {}\n",
    "    auto operator()() { return ++count; }\n",
    "};\n",
    "\n",
    "Counter counter2(10);  // direct initialization\n",
    "for (auto i=0; i<5; i++) cout << counter2() << ' '; cout << '\\n';\n",
    "// Counter counter3=20;   // error: no viable conversion from 'int' to 'Counter'"
   ]
  },
  {
   "cell_type": "markdown",
   "id": "4d07cef8",
   "metadata": {},
   "source": [
    "::::{exercise}\n",
    ":label: ex:default_constructor\n",
    "\n",
    "Why does the default initialization fails after declaring the constructor `Counter(int count)`?\n",
    "\n",
    "```cpp\n",
    "Counter counter1; // default initialization fails\n",
    "```\n",
    "\n",
    ":::{hint}\n",
    "\n",
    "See [implicitly-declared default constructor](https://en.cppreference.com/w/cpp/language/default_constructor.html#Implicitly-declared_default_constructor).\n",
    "\n",
    ":::\n",
    "\n",
    "::::"
   ]
  },
  {
   "cell_type": "markdown",
   "id": "8433a840",
   "metadata": {
    "deletable": false,
    "nbgrader": {
     "cell_type": "markdown",
     "checksum": "636e4705d8318dd61b48a935ae81ead2",
     "grade": true,
     "grade_id": "default_constructor",
     "locked": false,
     "points": 0,
     "schema_version": 3,
     "solution": true,
     "task": false
    }
   },
   "source": [
    "YOUR ANSWER HERE"
   ]
  },
  {
   "cell_type": "markdown",
   "id": "e48a93b4",
   "metadata": {},
   "source": [
    "::::{exercise}\n",
    ":label: ex:default_count\n",
    "\n",
    "Modify the following code to force the compiler to create the [default constructor](https://en.cppreference.com/w/cpp/language/default_constructor.html) using the `default` keyword in the construction declaration or definition:\n",
    "```cpp\n",
    "class-name() = default;\n",
    "class-name::class-name() = default;\n",
    "```\n",
    "\n",
    "::::"
   ]
  },
  {
   "cell_type": "code",
   "execution_count": null,
   "id": "d63a64d9",
   "metadata": {
    "deletable": false,
    "nbgrader": {
     "cell_type": "code",
     "checksum": "595fd37f310070a2651563adfd39277a",
     "grade": false,
     "grade_id": "default_count",
     "locked": false,
     "schema_version": 3,
     "solution": true,
     "task": false
    }
   },
   "outputs": [],
   "source": [
    "%%cpp\n",
    "struct Counter {\n",
    "    int count=0;\n",
    "    /*\n",
    "    # REPLACE THE ENTIRE COMMENT WITH YOUR CODE #\n",
    "    */\n",
    "    Counter(int count) : count{count} {}\n",
    "    auto operator()() { return ++count; }\n",
    "};\n",
    "\n",
    "Counter counter1, counter2(10);\n",
    "for (auto i=0; i<5; i++) cout << counter1() << ' '; cout << '\\n';\n",
    "for (auto i=0; i<5; i++) cout << counter2() << ' '; cout << '\\n';\n",
    "for (auto i=0; i<5; i++) cout << counter1() << ' '; cout << '\\n';"
   ]
  },
  {
   "cell_type": "markdown",
   "id": "15852d23",
   "metadata": {},
   "source": [
    "A even simpler fix is to make the parameter `count` in the constructor an optional parameter with a default value, which effectively defines the default constructor:"
   ]
  },
  {
   "cell_type": "code",
   "execution_count": null,
   "id": "3e7b8edf",
   "metadata": {},
   "outputs": [],
   "source": [
    "%%cpp\n",
    "struct Counter {\n",
    "    int count;\n",
    "    explicit Counter(int count=0) : count{count} {}\n",
    "    auto operator()() { return ++count; }\n",
    "};\n",
    "\n",
    "Counter counter1, counter2(10);\n",
    "for (auto i=0; i<5; i++) cout << counter1() << ' '; cout << '\\n';\n",
    "for (auto i=0; i<5; i++) cout << counter2() << ' '; cout << '\\n';\n",
    "for (auto i=0; i<5; i++) cout << counter1() << ' '; cout << '\\n';"
   ]
  },
  {
   "cell_type": "markdown",
   "id": "a29fd77d",
   "metadata": {},
   "source": [
    "`Counter` now play the same role as the function `counter` defined at the beginning."
   ]
  },
  {
   "cell_type": "markdown",
   "id": "661f4915",
   "metadata": {},
   "source": [
    "The compiler also implicitly declare the following if they are not user-defined:\n",
    "- [destructor](https://en.cppreference.com/w/cpp/language/destructor.html#Implicitly-declared_destructor)\n",
    "- [copy constructor](https://en.cppreference.com/w/cpp/language/copy_constructor.html#Implicitly-declared_copy_constructor)\n",
    "- [copy assignment](https://en.cppreference.com/w/cpp/language/copy_assignment.html#Implicitly-declared_copy_assignment)\n",
    "- [move constructor](https://en.cppreference.com/w/cpp/language/move_constructor.html#Implicitly-declared_move_constructor)\n",
    "- [move assignment](https://en.cppreference.com/w/cpp/language/move_assignment.html#Implicitly-declared_move_assignment)"
   ]
  },
  {
   "cell_type": "code",
   "execution_count": null,
   "id": "d37ebc4b",
   "metadata": {},
   "outputs": [],
   "source": [
    "%%cpp\n",
    "Counter counter1;\n",
    "for (auto i=0; i<5; i++) cout << counter1() << ' '; cout << '\\n';\n",
    "Counter counter2(counter1);  // implicitly declared copy constructor\n",
    "for (auto i=0; i<5; i++) cout << counter2() << ' '; cout << '\\n';\n",
    "auto counter3=Counter(10);   // implicitly declared move constructor\n",
    "for (auto i=0; i<5; i++) cout << counter3() << ' '; cout << '\\n';\n",
    "counter2=counter3;           // implicitly declared copy assignment\n",
    "for (auto i=0; i<5; i++) cout << counter2() << ' '; cout << '\\n';\n",
    "counter1=Counter(10);        // implicitly declared move assignment\n",
    "for (auto i=0; i<5; i++) cout << counter1() << ' '; cout << '\\n';\n",
    "counter1.~Counter();         // implicitly declared destructor\n",
    "for (auto i=0; i<5; i++) cout << counter1() << ' '; cout << '\\n';"
   ]
  },
  {
   "cell_type": "markdown",
   "id": "49b1c19d",
   "metadata": {},
   "source": [
    "## Member Access Specification"
   ]
  },
  {
   "cell_type": "markdown",
   "id": "4361c2f8",
   "metadata": {},
   "source": [
    "It is confusing that the `count` can go negative:"
   ]
  },
  {
   "cell_type": "code",
   "execution_count": null,
   "id": "466a891d",
   "metadata": {},
   "outputs": [],
   "source": [
    "%%cpp\n",
    "struct Counter {\n",
    "    int count;\n",
    "    explicit Counter(int count=0) : count{count} {}\n",
    "    auto operator()() { return ++count; }\n",
    "};\n",
    "\n",
    "Counter counter1(-10);\n",
    "for (auto i=0; i<5; i++) cout << counter1() << ' '; cout << '\\n';"
   ]
  },
  {
   "cell_type": "markdown",
   "id": "b9fa187a",
   "metadata": {},
   "source": [
    "**How to prevent users from setting the count to a negative number?**"
   ]
  },
  {
   "cell_type": "markdown",
   "id": "f103bb88",
   "metadata": {},
   "source": [
    "One ways is to define a method `set_count` to validate the new count before setting it:"
   ]
  },
  {
   "cell_type": "code",
   "execution_count": null,
   "id": "058584db",
   "metadata": {},
   "outputs": [],
   "source": [
    "%%cpp\n",
    "struct Counter {\n",
    "    int count;\n",
    "    Counter(int count=0) : count{count} {}\n",
    "    auto operator()() { return ++count; }\n",
    "    void set_count(int count) {\n",
    "        if (count>=0)\n",
    "            this->count = count;\n",
    "        else cerr << \"The count must be non-negative.\\n\";\n",
    "    }\n",
    "};\n",
    "\n",
    "Counter counter1;\n",
    "counter1.set_count(-10);\n",
    "for (auto i=0; i<5; i++) cout << counter1() << ' '; cout << '\\n';"
   ]
  },
  {
   "cell_type": "markdown",
   "id": "2d223f9c",
   "metadata": {},
   "source": [
    "The method `void set_count(int count)` assigns the parameter to the member `count` only if it is non‑negative."
   ]
  },
  {
   "cell_type": "markdown",
   "id": "895300a8",
   "metadata": {},
   "source": [
    "::::{exercise}\n",
    ":label: ex:set_count\n",
    "\n",
    "How to set the count to a negative number despite having the method `set_count`?\n",
    "\n",
    "::::"
   ]
  },
  {
   "cell_type": "markdown",
   "id": "46b879cd",
   "metadata": {
    "deletable": false,
    "nbgrader": {
     "cell_type": "markdown",
     "checksum": "20e3cd337b31c2c776e48eba3a4b0822",
     "grade": true,
     "grade_id": "set_count",
     "locked": false,
     "points": 0,
     "schema_version": 3,
     "solution": true,
     "task": false
    }
   },
   "source": [
    "YOUR ANSWER HERE"
   ]
  },
  {
   "cell_type": "markdown",
   "id": "cf15a259",
   "metadata": {},
   "source": [
    "One ways is to define a method `set_count` to validate the new count before setting it:\n",
    "\n",
    "```cpp\n",
    "struct Counter {\n",
    "public: // optional as public is the default label for struct\n",
    "    Counter() = default;\n",
    "    explicit Counter(int count) { set_count(count); } // use `set_count` to initialize `count`\n",
    "    auto operator()() { return ++count; }\n",
    "    void set_count(int count) {\n",
    "        if (count>=0)\n",
    "            this->count = count;\n",
    "        else cerr << \"The count must be non-negative.\\n\";\n",
    "    }\n",
    "private: // restrict direct access to members and friends\n",
    "    int count=0; // a common default value for default/invalid initialization\n",
    "};\n",
    "```"
   ]
  },
  {
   "cell_type": "code",
   "execution_count": null,
   "id": "dd7aa6e8",
   "metadata": {},
   "outputs": [],
   "source": [
    "%%cpp\n",
    "struct Counter {\n",
    "    Counter() = default;\n",
    "    explicit Counter(int count) { set_count(count); }\n",
    "    auto operator()() { return ++count; }\n",
    "    void set_count(int count) {\n",
    "        if (count>=0)\n",
    "            this->count = count;\n",
    "        else cerr << \"The count must be non-negative.\\n\";\n",
    "    }\n",
    "private:\n",
    "    int count=0;\n",
    "};\n",
    "\n",
    "Counter counter1(-10);\n",
    "counter1.set_count(-10);\n",
    "// counter1.count=-10; // error: 'count' is a private member of 'Counter'\n",
    "for (auto i=0; i<5; i++) cout << counter1() << ' '; cout << '\\n';"
   ]
  },
  {
   "cell_type": "markdown",
   "id": "375fe72b",
   "metadata": {},
   "source": [
    "- By listing `count` after the [private access specifier](https://en.cppreference.com/w/cpp/language/access.html#Private_member_access)\n",
    "  ```cpp\n",
    "  private : member-declarations\n",
    "  ```\n",
    "  `count` can be accessed only by class members or friends.\n",
    "- `explicit Counter(int count) { set_count(count); }` initialize the `count` only if it is valid. We cannot use member initializer list `: count{set_count(count)}` since `set_count` does not return an `int`. If the parameter `count` is invalid, the member `count` remains `0` due to the initialization in the member declaration`int count=0;`.\n",
    "- The default constructor is declared as `Counter() = default;` instead of `Counter(int count=0)` to reuse the same default value specified in the member declaration."
   ]
  },
  {
   "cell_type": "markdown",
   "id": "6fec58f9",
   "metadata": {},
   "source": [
    "C++ introduced `class` which is similar to `struct` but uses the private access specifier as the default:\n",
    "\n",
    "```cpp\n",
    "class Counter {\n",
    "private: // optional as private is the default label for class\n",
    "    int count=0;\n",
    "public:  // allow access anywhere\n",
    "    Counter() = default;\n",
    "    explicit Counter(int count) { set_count(count); }\n",
    "    auto operator()() { return ++count; }\n",
    "    void set_count(int count) {\n",
    "        if (count>=0)\n",
    "            this->count = count;\n",
    "        else cerr << \"The count must be non-negative.\\n\";\n",
    "    }\n",
    "};\n",
    "```"
   ]
  },
  {
   "cell_type": "code",
   "execution_count": null,
   "id": "6be23fdb",
   "metadata": {},
   "outputs": [],
   "source": [
    "%%cpp\n",
    "class Counter {\n",
    "    int count=0;\n",
    "public:\n",
    "    Counter() = default;\n",
    "    explicit Counter(int count) { set_count(count); }\n",
    "    auto operator()() { return ++count; }\n",
    "    void set_count(int count) {\n",
    "        if (count>=0)\n",
    "            this->count = count;\n",
    "        else cerr << \"The count must be non-negative.\\n\";\n",
    "    }\n",
    "};\n",
    "\n",
    "Counter counter1(-10);\n",
    "counter1.set_count(-10);\n",
    "// counter1.count=-10; // error: 'count' is a private member of 'Counter'\n",
    "for (auto i=0; i<5; i++) cout << counter1() << ' '; cout << '\\n';"
   ]
  },
  {
   "cell_type": "markdown",
   "id": "eda63131",
   "metadata": {},
   "source": [
    "The members list after the [public access specifier](https://en.cppreference.com/w/cpp/language/access.html#Public_member_access) can be accessed anywhere."
   ]
  },
  {
   "cell_type": "markdown",
   "id": "01b1f45b",
   "metadata": {},
   "source": [
    "Consider overloading the [increment operators](https://en.cppreference.com/w/cpp/language/operator_incdec.html) as follows:"
   ]
  },
  {
   "cell_type": "code",
   "execution_count": null,
   "id": "85271667",
   "metadata": {},
   "outputs": [],
   "source": [
    "%%cpp\n",
    "class Counter {\n",
    "    int count=0;\n",
    "public:\n",
    "    Counter() = default;\n",
    "    explicit Counter(int count) { set_count(count); }\n",
    "    auto operator()() { return ++count; }\n",
    "    void set_count(int count) {\n",
    "        if (count>=0)\n",
    "            this->count = count;\n",
    "        else cerr << \"The count must be non-negative.\\n\";\n",
    "    }\n",
    "    int operator++(int) { return count++; }\n",
    "    int& operator++() { return ++count; }\n",
    "};\n",
    "\n",
    "Counter counter1;\n",
    "for (auto i=0; i<5; i++) cout << ++counter1 << ' '; cout << '\\n';\n",
    "for (auto i=0; i<5; i++) cout << counter1++ << ' '; cout << '\\n';\n",
    "for (auto i=0; i<5; i++) cout << counter1() << ' '; cout << '\\n';"
   ]
  },
  {
   "cell_type": "markdown",
   "id": "f43e017f",
   "metadata": {},
   "source": [
    "- The `int` parameter in the postfix version `int operator++(int)` is dummy used to differentiate between prefix and postfix versions of the operators.[^dummy_int]\n",
    "- Following in the pattern for the built-in operators, the prefix version `int& operator++()` return a reference and the postfix version `int operator++(int)` return a value. Instead of returning the `Counter`, it is more convenient to return the `count`, which can be easily printed and manipulated.\n",
    "\n",
    "[^dummy_int]: The parameter is `0` by default, but can be changed by calling the operator explicitly as `counter1.operator++(2)`."
   ]
  },
  {
   "cell_type": "markdown",
   "id": "acd28a20",
   "metadata": {},
   "source": [
    "::::{exercise} \n",
    ":label: ex:prefix_increment\n",
    "\n",
    "The code fails to ensure the `count` is non-negative. Why?\n",
    "\n",
    ":::{hint}\n",
    ":class: dropdown\n",
    "\n",
    "```cpp\n",
    "Counter counter1;\n",
    "++counter1=-10;\n",
    "for (auto i=0; i<5; i++) cout << counter1() << ' '; cout << '\\n';\n",
    "```\n",
    "\n",
    ":::\n",
    "\n",
    "::::"
   ]
  },
  {
   "cell_type": "markdown",
   "id": "c00bcfd9",
   "metadata": {
    "deletable": false,
    "nbgrader": {
     "cell_type": "markdown",
     "checksum": "c5d8cb172e5864a6be37d6c17195cc0e",
     "grade": true,
     "grade_id": "prefix_increment",
     "locked": false,
     "points": 0,
     "schema_version": 3,
     "solution": true,
     "task": false
    }
   },
   "source": [
    "YOUR ANSWER HERE"
   ]
  },
  {
   "cell_type": "markdown",
   "id": "8cc298d1",
   "metadata": {},
   "source": [
    "A solution is as follows:\n",
    "\n",
    "```cpp\n",
    "class Counter {\n",
    "    ...\n",
    "public:\n",
    "    ...\n",
    "    Counter& operator++() { ++count; return *this; }\n",
    "    Counter& operator=(int count) { set_count(count); return *this; }\n",
    "};\n",
    "```\n",
    "\n",
    "- The prefix increment returns `Counter&` instead of `int&` to enforce the member access specification defined in `Counter`.\n",
    "- The assignment operator is overloaded to reuse `set_count` to set the count."
   ]
  },
  {
   "cell_type": "code",
   "execution_count": null,
   "id": "d4c9ff50",
   "metadata": {},
   "outputs": [],
   "source": [
    "%%cpp\n",
    "class Counter {\n",
    "    int count=0;\n",
    "public:\n",
    "    Counter() = default;\n",
    "    explicit Counter(int count) { set_count(count); }\n",
    "    auto operator()() { return ++count; }\n",
    "    void set_count(int count) {\n",
    "        if (count>=0)\n",
    "            this->count = count;\n",
    "        else cerr << \"The count must be non-negative.\\n\";\n",
    "    }\n",
    "    Counter& operator++() { ++count; return *this; }\n",
    "    int operator++(int) { return count++; }\n",
    "    Counter& operator=(int count) { set_count(count); return *this; }\n",
    "};\n",
    "\n",
    "Counter counter1(10);\n",
    "++counter1=-10;\n",
    "for (auto i=0; i<5; i++) cout << counter1() << ' '; cout << '\\n';"
   ]
  },
  {
   "cell_type": "markdown",
   "id": "08374c3f",
   "metadata": {},
   "source": [
    "::::{exercise}\n",
    ":label: ex:decrement\n",
    "\n",
    "Implements the prefix and postfix decrement operators for `Counter` properly to avoid negative `count`.\n",
    "\n",
    "::::"
   ]
  },
  {
   "cell_type": "code",
   "execution_count": null,
   "id": "a026a53f",
   "metadata": {
    "deletable": false,
    "nbgrader": {
     "cell_type": "code",
     "checksum": "23251a5f4cf5f39aa3d8013a31dcb143",
     "grade": false,
     "grade_id": "decrement",
     "locked": false,
     "schema_version": 3,
     "solution": true,
     "task": false
    }
   },
   "outputs": [],
   "source": [
    "%%cpp\n",
    "class Counter {\n",
    "    int count=0;\n",
    "public:\n",
    "    Counter() = default;\n",
    "    Counter(int count) { set_count(count); }\n",
    "    auto operator()() { return ++count; }\n",
    "    void set_count(int count) {\n",
    "        if (count>=0)\n",
    "            this->count = count;\n",
    "        else cerr << \"The count must be non-negative.\\n\";\n",
    "    }\n",
    "    Counter& operator++() { ++count; return *this; }\n",
    "    int operator++(int) { return count++; }\n",
    "    /*\n",
    "    # REPLACE THE ENTIRE COMMENT WITH YOUR CODE #\n",
    "    */\n",
    "    Counter& operator=(int count) { set_count(count); return *this; }\n",
    "};\n",
    "\n",
    "Counter counter1;\n",
    "counter1--;     // invalid (count==0)\n",
    "--counter1=1;   // decrement is invalid but assignment is valid (count==1)\n",
    "for (auto i=0; i<5; i++) cout << counter1() << ' '; cout << '\\n';\n",
    "counter1--;     // valid (count==5)\n",
    "--counter1=-10; // decrement is valid (count==4) but assignment is invalid\n",
    "for (auto i=0; i<5; i++) cout << counter1() << ' '; cout << '\\n';"
   ]
  },
  {
   "cell_type": "markdown",
   "id": "9119902b",
   "metadata": {},
   "source": [
    "## Non-Member Method"
   ]
  },
  {
   "cell_type": "markdown",
   "id": "7312ec3f",
   "metadata": {},
   "source": [
    "Unfortunately, the following does not work since the operator `<<` does not handle `Counter` type:\n",
    "\n",
    "```cpp\n",
    "Counter counter1;\n",
    "for (auto i=0; i<5; i++) cout << ++counter1 << ' '; cout << '\\n';\n",
    "for (auto i=0; i<5; i++) cout << counter1++ << ' '; cout << '\\n';\n",
    "```"
   ]
  },
  {
   "cell_type": "markdown",
   "id": "9ffda8f6",
   "metadata": {},
   "source": [
    "One solution is to overload the `<<` operator:\n",
    "\n",
    "```cpp\n",
    "ostream& operator<<(ostream& os, const Counter &c) {\n",
    "    return os << c.count;  // error: 'count' is a private member of 'Counter'\n",
    "}\n",
    "```\n",
    "\n",
    "but this will fail as `count` is a private member of `Counter`, unless we declare it as a [friend](https://en.cppreference.com/w/cpp/language/friend.html) to `Counter`:\n",
    "\n",
    "```cpp\n",
    "class Counter {\n",
    "    ...\n",
    "public:\n",
    "    ...\n",
    "    friend ostream& operator<<(ostream& os, const Counter &c) {\n",
    "        return os << c.count;\n",
    "    }\n",
    "};\n",
    "```"
   ]
  },
  {
   "cell_type": "code",
   "execution_count": null,
   "id": "1759d9fb",
   "metadata": {},
   "outputs": [],
   "source": [
    "%%cpp\n",
    "class Counter {\n",
    "    int count=0;\n",
    "public:\n",
    "    Counter() = default;\n",
    "    Counter(int count) { set_count(count); }\n",
    "    auto operator()() { return ++count; }\n",
    "    void set_count(int count) {\n",
    "        if (count>=0)\n",
    "            this->count = count;\n",
    "        else cerr << \"The count must be non-negative.\\n\";\n",
    "    }\n",
    "    Counter& operator++() { ++count; return *this; }\n",
    "    int operator++(int) { return count++; }\n",
    "    Counter& operator=(int count) { set_count(count); return *this; }\n",
    "    friend ostream& operator<<(ostream& os, const Counter &c) {\n",
    "        return os << c.count;\n",
    "    }\n",
    "};\n",
    "\n",
    "Counter counter1;\n",
    "for (auto i=0; i<5; i++) cout << ++counter1 << ' '; cout << '\\n';\n",
    "for (auto i=0; i<5; i++) cout << counter1++ << ' '; cout << '\\n';\n",
    "for (auto i=0; i<5; i++) cout << counter1() << ' '; cout << '\\n';"
   ]
  },
  {
   "cell_type": "markdown",
   "id": "44215236",
   "metadata": {},
   "source": [
    "Note that `operator<<` is a non-member function of `Counter`. To separate the friend declaration from its definition:"
   ]
  },
  {
   "cell_type": "code",
   "execution_count": null,
   "id": "85bca569",
   "metadata": {},
   "outputs": [],
   "source": [
    "%%cpp\n",
    "class Counter {\n",
    "    int count=0;\n",
    "public:\n",
    "    Counter() = default;\n",
    "    Counter(int count) { set_count(count); }\n",
    "    auto operator()() { return ++count; }\n",
    "    void set_count(int count) {\n",
    "        if (count>=0)\n",
    "            this->count = count;\n",
    "        else cerr << \"The count must be non-negative.\\n\";\n",
    "    }\n",
    "    Counter& operator++() { ++count; return *this; }\n",
    "    int operator++(int) { return count++; }\n",
    "    Counter& operator=(int count) { set_count(count); return *this; }\n",
    "    friend ostream& operator<<(ostream& os, const Counter &c);\n",
    "};"
   ]
  },
  {
   "cell_type": "code",
   "execution_count": null,
   "id": "319bacd6",
   "metadata": {},
   "outputs": [],
   "source": [
    "%%cpp\n",
    "ostream& operator<<(ostream& os, const Counter &c) {\n",
    "    return os << c.count;\n",
    "}\n",
    "\n",
    "Counter counter1;\n",
    "for (auto i=0; i<5; i++) cout << ++counter1 << ' '; cout << '\\n';\n",
    "for (auto i=0; i<5; i++) cout << counter1++ << ' '; cout << '\\n';\n",
    "for (auto i=0; i<5; i++) cout << counter1() << ' '; cout << '\\n';"
   ]
  },
  {
   "cell_type": "markdown",
   "id": "d6c2cbbe",
   "metadata": {},
   "source": [
    "In particular, the function signature for the definition is\n",
    "```cpp\n",
    "ostream& operator<<(ostream& os, const Counter &c) { ... }\n",
    "```\n",
    "but neither\n",
    "- ```cpp\n",
    "  ostream& Counter::operator<<(ostream& os, const Counter &c) { ... }\n",
    "  ```\n",
    "  since it is not a member of `Counter`; nor\n",
    "- ```cpp\n",
    "  friend ostream& operator<<(ostream& os, const Counter &c) { ... }\n",
    "  ```\n",
    "  since the friends of a class must be declared by the class."
   ]
  },
  {
   "cell_type": "markdown",
   "id": "b2e56662",
   "metadata": {},
   "source": [
    "::::{caution} Why not define `operator<<` as a member function of `Counter`?\n",
    ":class: dropdown\n",
    "\n",
    "We cannot because C++ resolves operators based on the left-hand type, which is `std::ostream` instead of `Counter` for `std::cout << counter1`.\n",
    "\n",
    "::::"
   ]
  },
  {
   "cell_type": "markdown",
   "id": "ef5615b5",
   "metadata": {},
   "source": [
    "A simpler alternative is define to a [conversion operator](https://en.cppreference.com/w/cpp/language/cast_operator.html) `int()`:\n",
    "\n",
    "```cpp\n",
    "class Counter {\n",
    "    ...\n",
    "public:\n",
    "    ...\n",
    "    operator int() const { return count; }\n",
    "};\n",
    "```\n",
    "\n",
    "Without marking the converter `int()` as `explicit`, it is considered in `cout << counter1++;` to implicitly convert `counter1` of type `Counter` to `int`, which can be handled by `<<` without implementing a new overload for `Counter`."
   ]
  },
  {
   "cell_type": "code",
   "execution_count": null,
   "id": "c56a75d7",
   "metadata": {},
   "outputs": [],
   "source": [
    "%%cpp\n",
    "class Counter {\n",
    "    int count=0;\n",
    "public:\n",
    "    Counter() = default;\n",
    "    Counter(int count) { set_count(count); }\n",
    "    auto operator()() { return ++count; }\n",
    "    void set_count(int count) {\n",
    "        if (count>=0)\n",
    "            this->count = count;\n",
    "        else cerr << \"The count must be non-negative.\\n\";\n",
    "    }\n",
    "    Counter& operator++() { ++count; return *this; }\n",
    "    int operator++(int) { return count++; }\n",
    "    Counter& operator=(int count) { set_count(count); return *this; }\n",
    "    operator int() const { return count; }\n",
    "};\n",
    "\n",
    "Counter counter1;\n",
    "for (auto i=0; i<5; i++) cout << ++counter1 << ' '; cout << '\\n';\n",
    "for (auto i=0; i<5; i++) cout << counter1++ << ' '; cout << '\\n';\n",
    "for (auto i=0; i<5; i++) cout << counter1() << ' '; cout << '\\n';"
   ]
  },
  {
   "cell_type": "markdown",
   "id": "4b5afeff",
   "metadata": {},
   "source": [
    "::::{exercise}\n",
    ":label: ex:sum_of_Counter\n",
    "\n",
    "Implement addition of a `Counter` with another `Counter` or an `int`,\n",
    "returning a new `Counter` whose count is the sum of the integer values of the operands.\n",
    "\n",
    "::::"
   ]
  },
  {
   "cell_type": "code",
   "execution_count": null,
   "id": "ad459a58",
   "metadata": {
    "deletable": false,
    "nbgrader": {
     "cell_type": "code",
     "checksum": "2d4128403445d2f5cdc9e510bbfaf1f5",
     "grade": false,
     "grade_id": "add_Counters",
     "locked": false,
     "schema_version": 3,
     "solution": true,
     "task": false
    }
   },
   "outputs": [],
   "source": [
    "%%cpp\n",
    "class Counter {\n",
    "    int count=0;\n",
    "public:\n",
    "    Counter() = default;\n",
    "    explicit Counter(int count) { set_count(count); }\n",
    "    auto operator()() { return ++count; }\n",
    "    void set_count(int count) {\n",
    "        if (count>=0)\n",
    "            this->count = count;\n",
    "        else cerr << \"The count must be non-negative.\\n\";\n",
    "    }\n",
    "    Counter& operator++() { ++count; return *this; }\n",
    "    int operator++(int) { return count++; }\n",
    "    Counter& operator=(int count) { set_count(count); return *this; }\n",
    "    operator int() const { return count; }\n",
    "    /*\n",
    "    # REPLACE THE ENTIRE COMMENT WITH YOUR CODE #\n",
    "    */\n",
    "};\n",
    "\n",
    "Counter counter1, counter2(10), counter3=1+counter1+counter2+2;\n",
    "for (auto i=0; i<5; i++) cout << counter3() << ' '; cout << '\\n';\n",
    "// 14 15 16 17 18"
   ]
  }
 ],
 "metadata": {
  "jupytext": {
   "default_lexer": "ipython3"
  },
  "kernelspec": {
   "display_name": "Python 3 (ipykernel)",
   "language": "python",
   "name": "python3"
  },
  "language_info": {
   "codemirror_mode": {
    "name": "ipython",
    "version": 3
   },
   "file_extension": ".py",
   "mimetype": "text/x-python",
   "name": "python",
   "nbconvert_exporter": "python",
   "pygments_lexer": "ipython3",
   "version": "3.12.11"
  }
 },
 "nbformat": 4,
 "nbformat_minor": 5
}
