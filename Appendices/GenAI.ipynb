{
 "cells": [
  {
   "cell_type": "markdown",
   "id": "4041b9b5",
   "metadata": {
    "editable": true,
    "slideshow": {
     "slide_type": "slide"
    }
   },
   "source": [
    "---\n",
    "title: GenAI\n",
    "skip_execution: true\n",
    "---"
   ]
  },
  {
   "cell_type": "markdown",
   "id": "ccb3c8b4",
   "metadata": {
    "editable": true,
    "slideshow": {
     "slide_type": ""
    }
   },
   "source": [
    "[Generative AI (GenAI)](https://en.wikipedia.org/wiki/Generative_artificial_intelligence) is a powerful tool in programming. You can play with them in various ways in the Jupyter server as explained in this notebook."
   ]
  },
  {
   "cell_type": "markdown",
   "id": "3db279fa",
   "metadata": {
    "editable": true,
    "slideshow": {
     "slide_type": ""
    }
   },
   "source": [
    "## Integration with Jupyter"
   ]
  },
  {
   "cell_type": "markdown",
   "id": "ae467d01",
   "metadata": {
    "editable": true,
    "slideshow": {
     "slide_type": ""
    }
   },
   "source": [
    " GenAI is integrated into the Jupyter interface using [`jupyter-ai`](https://github.com/jupyterlab/jupyter-ai/blob/main/README.md). You can interact with it directly inside the notebook or through a chat panel."
   ]
  },
  {
   "cell_type": "markdown",
   "id": "a0844edd",
   "metadata": {},
   "source": [
    "### Jupyter Notebook"
   ]
  },
  {
   "cell_type": "markdown",
   "id": "0b1d6c22",
   "metadata": {},
   "source": [
    "To be able to chat with a [large language model (LLM)](https://en.wikipedia.org/wiki/Large_language_model) directly inside a notebook, run the {term}`line magic` below:"
   ]
  },
  {
   "cell_type": "code",
   "execution_count": null,
   "id": "93a3c922",
   "metadata": {
    "editable": true,
    "slideshow": {
     "slide_type": ""
    },
    "tags": [
     "skip-execution"
    ]
   },
   "outputs": [],
   "source": [
    "if not input('Load JupyterAI? [Y/n]').lower()=='n':\n",
    "    %reload_ext jupyter_ai"
   ]
  },
  {
   "cell_type": "markdown",
   "id": "a2e6257a",
   "metadata": {},
   "source": [
    "::::{caution}\n",
    "\n",
    "It is important to load `jupyter_ai` conditionally, as shown above; otherwise, validation or auto‑grading may take an excessive amount of time because of the numerous LLM queries. If a notebook fails validation, it will also fail auto‑grading, potentially earning zero marks.\n",
    "\n",
    "::::"
   ]
  },
  {
   "cell_type": "markdown",
   "id": "432725d5",
   "metadata": {
    "editable": true,
    "slideshow": {
     "slide_type": ""
    }
   },
   "source": [
    "After loading the `jupyter_ai` extension, run the following {term}`cell magic` to ask an LLM what an LLM is."
   ]
  },
  {
   "cell_type": "code",
   "execution_count": null,
   "id": "60d2eb8b",
   "metadata": {
    "editable": true,
    "slideshow": {
     "slide_type": ""
    },
    "tags": [
     "skip-execution"
    ]
   },
   "outputs": [],
   "source": [
    "%%ai\n",
    "Explain what LLM is in one line."
   ]
  },
  {
   "cell_type": "markdown",
   "id": "3887030a",
   "metadata": {
    "editable": true,
    "slideshow": {
     "slide_type": ""
    }
   },
   "source": [
    "Let's try different output formats:"
   ]
  },
  {
   "cell_type": "code",
   "execution_count": null,
   "id": "297401e0",
   "metadata": {
    "editable": true,
    "slideshow": {
     "slide_type": ""
    },
    "tags": [
     "skip-execution"
    ]
   },
   "outputs": [],
   "source": [
    "%%ai -f math\n",
    "What is the Pythagoras theorem?"
   ]
  },
  {
   "cell_type": "code",
   "execution_count": null,
   "id": "2277a895",
   "metadata": {
    "editable": true,
    "slideshow": {
     "slide_type": ""
    },
    "tags": [
     "skip-execution"
    ]
   },
   "outputs": [],
   "source": [
    "%%ai -f html\n",
    "What is the Pythagoras theorem?"
   ]
  },
  {
   "cell_type": "code",
   "execution_count": null,
   "id": "5883c808",
   "metadata": {
    "editable": true,
    "slideshow": {
     "slide_type": ""
    },
    "tags": [
     "skip-execution"
    ]
   },
   "outputs": [],
   "source": [
    "%%ai -f html\n",
    "Illustrate the Pythagoras theorem using a diagram in SVG."
   ]
  },
  {
   "cell_type": "code",
   "execution_count": null,
   "id": "4d0f7abe",
   "metadata": {
    "editable": true,
    "slideshow": {
     "slide_type": ""
    },
    "tags": [
     "skip-execution"
    ]
   },
   "outputs": [],
   "source": [
    "%%ai\n",
    "Can I trust you?"
   ]
  },
  {
   "cell_type": "markdown",
   "id": "6afc3359",
   "metadata": {
    "editable": true,
    "slideshow": {
     "slide_type": ""
    }
   },
   "source": [
    "::::{caution}\n",
    "\n",
    "\n",
    "- **Do NOT trust LLM**: [LLM can hallucinate](https://en.wikipedia.org/wiki/Hallucination_(artificial_intelligence)) and produce wrong answers. You should verify the correctness using reliable sources.\n",
    "\n",
    "::::"
   ]
  },
  {
   "cell_type": "code",
   "execution_count": null,
   "id": "9b8d6596",
   "metadata": {},
   "outputs": [],
   "source": [
    "%%ai\n",
    "Can you give me answers to programming assignments directly?"
   ]
  },
  {
   "cell_type": "markdown",
   "id": "9107e893",
   "metadata": {},
   "source": [
    "Regardless of what the response is, LLM is surprisingly good at programming at\n",
    "a basic level, thanks to the corpus of good programs and software documentations. Let's use the following exercise as an example:"
   ]
  },
  {
   "cell_type": "markdown",
   "id": "cdeb04b9",
   "metadata": {},
   "source": [
    "::::{exercise}\n",
    "\n",
    "Write a function `gcd` to calculate the [greatest common divisor (GCD)](https://en.wikipedia.org/wiki/Greatest_common_divisor) of two non-zero integers.\n",
    "\n",
    ":::{caution}\n",
    "\n",
    "The answer requires concepts you will learn later in the course!\n",
    "\n",
    ":::\n",
    "\n",
    "::::"
   ]
  },
  {
   "cell_type": "code",
   "execution_count": null,
   "id": "75c01ea0",
   "metadata": {
    "deletable": false,
    "nbgrader": {
     "cell_type": "code",
     "checksum": "30275a807aa04c875d6482a9c6d4731b",
     "grade": true,
     "grade_id": "gcd",
     "locked": false,
     "points": 0,
     "schema_version": 3,
     "solution": true,
     "task": false
    }
   },
   "outputs": [],
   "source": [
    "def gcd(a, b):\n",
    "    # REPLACE THE ENTIRE COMMENT WITH YOUR CODE #"
   ]
  },
  {
   "cell_type": "code",
   "execution_count": null,
   "id": "5edd45c6",
   "metadata": {
    "deletable": false,
    "editable": false,
    "nbgrader": {
     "cell_type": "code",
     "checksum": "13b1d4caed07de6e8d6f6dd9ee2718e4",
     "grade": true,
     "grade_id": "test-gcd",
     "locked": true,
     "points": 1,
     "schema_version": 3,
     "solution": false,
     "task": false
    }
   },
   "outputs": [],
   "source": [
    "# tests\n",
    "assert gcd(48, 18) == 6\n",
    "assert gcd(-20, 30) == 10"
   ]
  },
  {
   "cell_type": "code",
   "execution_count": null,
   "id": "04d777e5",
   "metadata": {
    "deletable": false,
    "editable": false,
    "nbgrader": {
     "cell_type": "code",
     "checksum": "6a67eafa22a5b2c4544718068f58012c",
     "grade": true,
     "grade_id": "htest-gcd",
     "locked": true,
     "points": 1,
     "schema_version": 3,
     "solution": false,
     "task": false
    }
   },
   "outputs": [],
   "source": [
    "# hidden tests\n",
    "# DON'T remove this cell\n",
    "### BEGIN HIDDEN TEST\n",
    "assert gcd(-55, 89) == 1\n",
    "### END HIDDEN TEST"
   ]
  },
  {
   "cell_type": "markdown",
   "id": "9dff55e6",
   "metadata": {},
   "source": [
    "Don't worry! You are allowed to use GenAI for [formative assessments (such as lab assignments) but *not* summative assessments (midterm quiz and final examination)](https://www.cityu.edu.hk/ted/stafflan/staff_development/assessment/ai_usage.html). So, let's use it now:"
   ]
  },
  {
   "cell_type": "code",
   "execution_count": null,
   "id": "00626b3d",
   "metadata": {},
   "outputs": [],
   "source": [
    "%%ai\n",
    "Answer Exercise 1."
   ]
  },
  {
   "cell_type": "markdown",
   "id": "d657a551",
   "metadata": {},
   "source": [
    "[Garbage-in, Garbage out.](https://en.wikipedia.org/wiki/Garbage_in,_garbage_out) We should give clear, context‑rich prompts to sharpen the model’s focus to give more relevant responses."
   ]
  },
  {
   "cell_type": "code",
   "execution_count": null,
   "id": "f4e19c8a",
   "metadata": {},
   "outputs": [],
   "source": [
    "%%ai\n",
    "Write a function `gcd` to calculate the GCD of two non-zero integers."
   ]
  },
  {
   "cell_type": "markdown",
   "id": "1b004968",
   "metadata": {},
   "source": [
    "Mission impossible accomplished? Two key questions to reflect on this approach to GenAI:\n",
    "\n",
    "- Is the program efficient?\n",
    "- If it is, have I gained enough understanding to replicate the solution for similar problems?"
   ]
  },
  {
   "cell_type": "markdown",
   "id": "74593945",
   "metadata": {
    "editable": true,
    "slideshow": {
     "slide_type": ""
    }
   },
   "source": [
    "::::{important} [Socratic Method to AI](https://en.wikipedia.org/wiki/Socratic_method)\n",
    "\n",
    "- **Ask for hints, not answers**: Rushing to a solution hinders the development of the [computational‑thinking skills](https://en.wikipedia.org/wiki/Computational_thinking) required for problem solving.\n",
    "\n",
    "::::"
   ]
  },
  {
   "cell_type": "markdown",
   "id": "153c5dc1",
   "metadata": {},
   "source": [
    "As an example, the following prints a one-liner solution for the GCD."
   ]
  },
  {
   "cell_type": "code",
   "execution_count": null,
   "id": "028a32cc",
   "metadata": {},
   "outputs": [],
   "source": [
    "def gcd(a, b): return gcd(a%b, a) if a else abs(b)  # one-liner for GCD\n",
    "gcd_code = ''.join(In[-1].split('\\n')[:-2])   # storing the code to query AI\n",
    "print(gcd_code)"
   ]
  },
  {
   "cell_type": "markdown",
   "id": "38c5a248",
   "metadata": {},
   "source": [
    "What's worth learning are the ingredients involved in writing such program:"
   ]
  },
  {
   "cell_type": "code",
   "execution_count": null,
   "id": "de8b8886",
   "metadata": {},
   "outputs": [],
   "source": [
    "%%ai\n",
    "Explain the ingredients involved in writing the following program:\n",
    "--\n",
    "{gcd_code}"
   ]
  },
  {
   "cell_type": "markdown",
   "id": "93f1fdf5",
   "metadata": {},
   "source": [
    "What is more challenging is the computational thinking involved that you will develop over time, mostly outside the classroom. Dive into it with the help of AI:"
   ]
  },
  {
   "cell_type": "code",
   "execution_count": null,
   "id": "dfb4c4ae",
   "metadata": {},
   "outputs": [],
   "source": [
    "%%ai\n",
    "Explain how Euclidean algorithm works and whether there are better methods."
   ]
  },
  {
   "cell_type": "markdown",
   "id": "af5af50f",
   "metadata": {},
   "source": [
    "### Chat Panel"
   ]
  },
  {
   "cell_type": "markdown",
   "id": "e0c5a28a",
   "metadata": {
    "editable": true,
    "slideshow": {
     "slide_type": ""
    }
   },
   "source": [
    "There is also a [chat interface to chat with an LLM called Jupyternaut](https://jupyter-ai.readthedocs.io/en/v2/users/index.html#initial-question):\n",
    "\n",
    "1. Click the chat icon <i class=\"fa-duotone fa-solid fa-messages\"></i> <i class=\"fas fa-comments\"></i> on the left menu bar. A chat panel will open.\n",
    "2. Enter some prompts to chat with Jupyternaut:\n",
    "   - ```\n",
    "     What is computational thinking?\n",
    "     ```\n",
    "   - ```\n",
    "     /clear\n",
    "     ```\n",
    "   - ```\n",
    "     Explain file:cs1302i25a/source/Lab0/notebook_link_generator.py\n",
    "     ```"
   ]
  },
  {
   "cell_type": "markdown",
   "id": "0dc28c1f",
   "metadata": {},
   "source": [
    "You can [add a cell’s text as context for Jupyternaut](https://jupyter-ai.readthedocs.io/en/v2/users/index.html#asking-about-something-in-your-notebook). E.g., try this for the following `gcd` function:\n",
    "\n",
    "1. Select the cell you want to use.\n",
    "2. Switch to Edit mode if it is a markdown cell. (Double click or press <kbd>Enter</kbd>.)\n",
    "3. Highlight the desired text inside the cell.  \n",
    "4. In the Jupyternaut panel, enter a prompt, click the down arrow button and choose `Send message with selection`."
   ]
  },
  {
   "cell_type": "code",
   "execution_count": null,
   "id": "f8734522",
   "metadata": {},
   "outputs": [],
   "source": [
    "from math import gcd   # yet another one-liner for gcd!"
   ]
  },
  {
   "cell_type": "markdown",
   "id": "6544e775",
   "metadata": {},
   "source": [
    "Another way to add context is [through an embedding model](https://jupyter-ai.readthedocs.io/en/v2/users/index.html#learning-about-local-data):\n",
    "\n",
    "1. `/learn cs1302_25a/Lab0/` – tell the LLM to ingest the documents in *Lab0*.\n",
    "2. `/ask Summarize what I need to do for Lab0` – request a concise summary of the lab tasks.\n",
    "3. `/learn -d` – delete everything that was previously learned."
   ]
  },
  {
   "cell_type": "code",
   "execution_count": null,
   "id": "f5d1be9b",
   "metadata": {},
   "outputs": [],
   "source": [
    "%%ai\n",
    "Explain how a chat model and an embedding model work together to give \n",
    "domain-specific response."
   ]
  },
  {
   "cell_type": "markdown",
   "id": "0119ca8a",
   "metadata": {},
   "source": [
    "You may check the default model configuration as follows:\n",
    "\n",
    "1. Click the gear icon (⚙️) at the top‑right of the chat panel.\n",
    "2. In the *Completion model* dropdown, select `DIVE :: chat`.\n",
    "3. In the *Embedding model* dropdown, select `DIVE :: embed`.\n",
    "4. Click <kbd>Save Changes</kbd>.\n",
    "5. Click the back arrow to return to the chat panel.\n",
    "6. Send a test message to confirm the chat model works.\n",
    "\n",
    "If you are using other AI services (e.g., [Azure OpenAI](https://azure.microsoft.com/en-us/products/ai-services/openai-service), you may [reconfigure JupyterAI](https://jupyter-ai.readthedocs.io/en/v2/users/index.html#model-providers) to use them."
   ]
  },
  {
   "cell_type": "markdown",
   "id": "016cc6f0",
   "metadata": {},
   "source": [
    "If you want to reset the configuration in case of error, remove the configuration folder using the {term}`shell capture` below:"
   ]
  },
  {
   "cell_type": "code",
   "execution_count": null,
   "id": "72132718",
   "metadata": {},
   "outputs": [],
   "source": [
    "if input('Reset Jupyter AI configuration? [y/N]').lower() == 'y':\n",
    "    !rm -rf ~/.local/share/jupyter/jupyter_ai"
   ]
  },
  {
   "cell_type": "markdown",
   "id": "8e81c16b",
   "metadata": {},
   "source": [
    "After deleting the folder, simply restart the Jupyter server to recreate it."
   ]
  },
  {
   "cell_type": "markdown",
   "id": "39ef993c",
   "metadata": {
    "editable": true,
    "slideshow": {
     "slide_type": ""
    }
   },
   "source": [
    "## Integration with VSCode"
   ]
  },
  {
   "cell_type": "markdown",
   "id": "9dd87715",
   "metadata": {
    "editable": true,
    "slideshow": {
     "slide_type": ""
    }
   },
   "source": [
    "GenAI has been integrated into the Visual Studio Code (VSCode) interface[^code-server] via the extensions below.\n",
    "\n",
    "- [Continue](https://docs.continue.dev/): Configured to run our deployed models. \n",
    "- [Copilot](https://docs.github.com/en/copilot): Connects to a subscription-based service by Microsoft.\n",
    "\n",
    "[^code-server]: The interface is served by the [code-server app](https://github.com/coder/code-server)."
   ]
  },
  {
   "cell_type": "markdown",
   "id": "f63eaf5f",
   "metadata": {
    "editable": true,
    "slideshow": {
     "slide_type": ""
    }
   },
   "source": [
    "### Continue"
   ]
  },
  {
   "cell_type": "markdown",
   "id": "5441c038",
   "metadata": {
    "editable": true,
    "slideshow": {
     "slide_type": ""
    }
   },
   "source": [
    "To open the current folder `Lab0` in VSCode, execute the following cell to generate the link:"
   ]
  },
  {
   "cell_type": "code",
   "execution_count": null,
   "id": "ca215639",
   "metadata": {
    "editable": true,
    "slideshow": {
     "slide_type": ""
    }
   },
   "outputs": [],
   "source": [
    "from vscode_link_generator import vscode\n",
    "\n",
    "vscode('.')"
   ]
  },
  {
   "cell_type": "markdown",
   "id": "3d68733e",
   "metadata": {
    "editable": true,
    "slideshow": {
     "slide_type": ""
    }
   },
   "source": [
    "- [Start a chat](https://docs.continue.dev/features/chat/quick-start#how-to-use-chat-basic-usage) with\n",
    "  ```\n",
    "  Explain @vscode_link_generator.py\n",
    "  ```\n",
    "- [Switch to agent](https://docs.continue.dev/features/agent/quick-start), open the file `vscode_link_generator.py`, and ask:\n",
    "  ```\n",
    "  Which file do I have open?\n",
    "  ```"
   ]
  },
  {
   "cell_type": "markdown",
   "id": "12c05130",
   "metadata": {},
   "source": [
    "The configuration files for the Continue extension are stored in `.continue` under your home directory:"
   ]
  },
  {
   "cell_type": "code",
   "execution_count": null,
   "id": "49d1de1a",
   "metadata": {},
   "outputs": [],
   "source": [
    "!ls ~/.continue"
   ]
  },
  {
   "cell_type": "markdown",
   "id": "88312e26",
   "metadata": {},
   "source": [
    "Similar to JupyterAI, you may [reconfigure Continue to use other providers.](https://docs.continue.dev/customize/model-providers/top-level/openai)"
   ]
  },
  {
   "cell_type": "code",
   "execution_count": null,
   "id": "0a5cee80",
   "metadata": {},
   "outputs": [],
   "source": [
    "%%ai\n",
    "How is an AI agent different from an AI chatbot?"
   ]
  },
  {
   "cell_type": "markdown",
   "id": "f957481c",
   "metadata": {},
   "source": [
    "If you want to reset the configuration in case of error, remove the configuration folder and then restart the Jupyter server to recreate it:"
   ]
  },
  {
   "cell_type": "code",
   "execution_count": null,
   "id": "6a7ec525",
   "metadata": {},
   "outputs": [],
   "source": [
    "if input('Reset Jupyter AI configuration? [y/N]').lower() == 'y':\n",
    "    !rm -rf ~/.continue"
   ]
  },
  {
   "cell_type": "markdown",
   "id": "1e85336b",
   "metadata": {
    "editable": true,
    "slideshow": {
     "slide_type": ""
    }
   },
   "source": [
    "### Github Copilot"
   ]
  },
  {
   "cell_type": "markdown",
   "id": "ab810dd8",
   "metadata": {
    "editable": true,
    "slideshow": {
     "slide_type": ""
    }
   },
   "source": [
    "A popular AI-assisted programming tool is the Github Copilot for Visual Studio Code (VSCode)."
   ]
  },
  {
   "cell_type": "markdown",
   "id": "ed0c457b",
   "metadata": {
    "editable": true,
    "slideshow": {
     "slide_type": ""
    }
   },
   "source": [
    "::::{seealso} LinkedIn Learning\n",
    "\n",
    "- [What is Github Copilot?][1]\n",
    "- [What is Github?][2]\n",
    "::::\n",
    "\n",
    "[1]: https://www.linkedin.com/learning-login/share?account=76816450&forceAccount=false&redirect=https%3A%2F%2Fwww.linkedin.com%2Flearning%2Fai-pair-programming-with-github-copilot%2Fwhat-is-copilot%3Ftrk%3Dshare_video_url%26shareId%3Dm1KXWA7HTqaZU1P8byqvgA%253D%253D\n",
    "[2]: https://www.linkedin.com/learning-login/share?account=76816450&forceAccount=false&redirect=https%3A%2F%2Fwww.linkedin.com%2Flearning%2Flearning-github-18719601%2Fwhat-is-github%3Ftrk%3Dshare_video_url%26shareId%3Dl%252Bbl2Q4nSMuZ5%252BkgXmIcWg%253D%253D"
   ]
  },
  {
   "cell_type": "markdown",
   "id": "c971a734",
   "metadata": {
    "editable": true,
    "slideshow": {
     "slide_type": ""
    }
   },
   "source": [
    "To get started, open the [setup guide](https://docs.github.com/en/copilot/setting-up-github-copilot/setting-up-github-copilot-for-yourself):\n",
    "\n",
    "1. Follow Step 1 last bullet point to [get free access as a verified student](https://docs.github.com/en/copilot/managing-copilot/managing-copilot-as-an-individual-subscriber/getting-free-access-to-copilot-as-a-student-teacher-or-maintainer).\n",
    "2. Instead of Step 2, you can access VSCode through the JupyterHub:\n",
    "   1. Click `File → New launcher → VSCode` to open VSCode.\n",
    "   2. Click the profile icon <i class=\"fas fa-user\"></i> on the left menu and select `Sign in with Github to use Github Copilot`.\n",
    "   3. After logging into Github, click the copilot icon at the top of VSCode to start chatting.\n",
    "3. Step 3 is for advanced user who would like to use Github Copilot in the command line interface (CLI), which is available in both the JupyterLab and VSCode. You may directly jump to the [step](https://docs.github.com/en/copilot/managing-copilot/configure-personal-settings/installing-github-copilot-in-the-cli#installing-copilot-in-the-cli) following the prerequisites."
   ]
  },
  {
   "cell_type": "markdown",
   "id": "dbc727e7",
   "metadata": {
    "editable": true,
    "slideshow": {
     "slide_type": ""
    }
   },
   "source": [
    "::::{seealso} How to chat with Copilot effectively?\n",
    ":class: dropdown\n",
    "\n",
    "See the [prompt engineering guide](https://docs.github.com/en/copilot/using-github-copilot/prompt-engineering-for-github-copilot) for some suggestions.\n",
    "\n",
    "::::"
   ]
  },
  {
   "cell_type": "markdown",
   "id": "86df0b58",
   "metadata": {
    "editable": true,
    "slideshow": {
     "slide_type": ""
    }
   },
   "source": [
    "## Glossary\n",
    "\n",
    ":::::{admonition}\n",
    ":class: dropdown\n",
    "\n",
    "::::{glossary}\n",
    "\n",
    "line magic\n",
    ": A command in Jupyter notebook that starts with `%` such as `%load_ext` is called a [line magic](https://ipython.readthedocs.io/en/stable/interactive/magics.html#magic-load_ext). It can be used to performs tasks to change the notebook behavior, such as loading the `%%ai` cell magic.\n",
    "\n",
    "cell magic\n",
    ": A command in Jupyter notebook that starts with `%%` such as `%%ai` is called a [cell magic](https://ipython.readthedocs.io/en/stable/interactive/magics.html#cell-magics). It can be used to change the beavior of the cell, such as sending the text as a prompt to an LLM.\n",
    "\n",
    "shell capture\n",
    ": A command in Jupyter notebook that starts with `!` or `!!` is called a [shell capture](https://ipython.readthedocs.io/en/stable/interactive/magics.html#magic-sc). It can be used to execute a shell/terminal command.\n",
    "\n",
    "REST API\n",
    ": REST API stands for Representational State Transfer Application Programming Interface. It is a set of rules for building and interacting with web services that use standard HTTP methods to enable communication between client and server.\n",
    "\n",
    "::::\n",
    ":::::"
   ]
  }
 ],
 "metadata": {
  "jupytext": {
   "default_lexer": "ipython3"
  },
  "kernelspec": {
   "display_name": "Python 3 (ipykernel)",
   "language": "python",
   "name": "python3"
  }
 },
 "nbformat": 4,
 "nbformat_minor": 5
}
