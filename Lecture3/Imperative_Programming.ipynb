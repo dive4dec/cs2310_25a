{
 "cells": [
  {
   "cell_type": "markdown",
   "id": "37e35b27",
   "metadata": {
    "editable": true,
    "slideshow": {
     "slide_type": ""
    }
   },
   "source": [
    "---\n",
    "title: Imperative Programming\n",
    "skip_execution: true\n",
    "---"
   ]
  },
  {
   "cell_type": "code",
   "execution_count": null,
   "id": "9a225f2c",
   "metadata": {
    "editable": true,
    "slideshow": {
     "slide_type": ""
    }
   },
   "outputs": [],
   "source": [
    "from __init__ import *"
   ]
  },
  {
   "cell_type": "code",
   "execution_count": null,
   "id": "4848bff2",
   "metadata": {
    "editable": true,
    "slideshow": {
     "slide_type": ""
    },
    "tags": [
     "skip-execution"
    ]
   },
   "outputs": [],
   "source": [
    "if not input('Load JupyterAI? [Y/n]').lower()=='n':\n",
    "    %reload_ext jupyter_ai"
   ]
  },
  {
   "cell_type": "markdown",
   "id": "41ef965e",
   "metadata": {
    "editable": true,
    "slideshow": {
     "slide_type": ""
    }
   },
   "source": [
    "## Motivation"
   ]
  },
  {
   "cell_type": "markdown",
   "id": "6a80e491",
   "metadata": {},
   "source": [
    "It is time to learn to compose a program from its ingredients. [*Imperative programming*](https://en.wikipedia.org/wiki/Imperative_programming) is a programming paradigm that uses the flow of execution of statements, also known as the [control flow](https://en.wikipedia.org/wiki/Control_flow), to change a program's state for the desire computation."
   ]
  },
  {
   "cell_type": "markdown",
   "id": "07a25fea",
   "metadata": {},
   "source": [
    "### GCD"
   ]
  },
  {
   "cell_type": "markdown",
   "id": "b9fd2ed3",
   "metadata": {
    "editable": true,
    "slideshow": {
     "slide_type": ""
    }
   },
   "source": [
    "To motivate the concept, recall the program for computing the GCD in [Lecture 2](../Lecture2/Elements_of_Computations.ipynb#code_gcd1):\n",
    "\n",
    "```cpp\n",
    "{\n",
    "  b = b % a;\n",
    "  int c = b;\n",
    "  b = a;\n",
    "  a = c;\n",
    "}\n",
    "```\n",
    "\n",
    "where `a` and `b` are the non-zero integers input as follows:"
   ]
  },
  {
   "cell_type": "code",
   "execution_count": null,
   "id": "404713fe",
   "metadata": {
    "editable": true,
    "slideshow": {
     "slide_type": ""
    }
   },
   "outputs": [],
   "source": [
    "%%cpp\n",
    "int a=2*3*4, b=3*4*5;\n",
    "cout << format(\"gcd({}, {})=?\\n\", a, b);"
   ]
  },
  {
   "cell_type": "markdown",
   "id": "5e7df8d4",
   "metadata": {
    "editable": true,
    "slideshow": {
     "slide_type": ""
    }
   },
   "source": [
    "Using control flow statements, we can improve the program to conditionally stop calculating the GCD when it is obtained as the absolute value of `b`, i.e., when `a` becomes `0`:\n",
    "\n",
    "::::{code} cpp\n",
    ":label: code_gcd2\n",
    ":caption: Conditionally compute the GCD of `a` and `b`.\n",
    ":linenos:\n",
    "if (a) { // execute if a is non-zero\n",
    "  b = b % a;\n",
    "  int c = b;\n",
    "  b = a;\n",
    "  a = c;\n",
    "} else if (b<0) b=-b; // get the absolute value of `b` as the GCD\n",
    "::::"
   ]
  },
  {
   "cell_type": "markdown",
   "id": "d2ef7763",
   "metadata": {
    "editable": true,
    "slideshow": {
     "slide_type": ""
    }
   },
   "source": [
    "See if you can crash it by running the program too many times!"
   ]
  },
  {
   "cell_type": "code",
   "execution_count": null,
   "id": "363f9da8",
   "metadata": {
    "editable": true,
    "slideshow": {
     "slide_type": ""
    }
   },
   "outputs": [],
   "source": [
    "%%cpp\n",
    "if (a) {\n",
    "    b = b % a;\n",
    "    int c = b;\n",
    "    b = a;\n",
    "    a = c;\n",
    "    cout << format(\"gcd({}, {})\\n\", a, b); // intermediate answer\n",
    "} else if (b<0) b=-b;\n",
    "else cout << b << \"\\n\"; // final answer"
   ]
  },
  {
   "cell_type": "markdown",
   "id": "886a47c2",
   "metadata": {
    "editable": true,
    "slideshow": {
     "slide_type": ""
    }
   },
   "source": [
    "We can also free ourselves from repeating the execution manually by writing an *iteration* or a *loop* using control flow statements.\n",
    "\n",
    "::::{code} cpp\n",
    ":label: code_gcd3\n",
    ":caption: Iterative computation of the GCD of `a` and `b`.\n",
    ":linenos:\n",
    "int c;\n",
    "while (a) {  // execute repeatedly as long as a is non-zero\n",
    "    b = b % a;\n",
    "    c = b;\n",
    "    b = a;\n",
    "    a = c;\n",
    "}\n",
    "if (b<0) b=-b;\n",
    "::::"
   ]
  },
  {
   "cell_type": "markdown",
   "id": "9cedcc54",
   "metadata": {
    "editable": true,
    "slideshow": {
     "slide_type": ""
    }
   },
   "source": [
    "The program returns the GCD in one go:"
   ]
  },
  {
   "cell_type": "code",
   "execution_count": null,
   "id": "543a81f8",
   "metadata": {
    "editable": true,
    "slideshow": {
     "slide_type": ""
    }
   },
   "outputs": [],
   "source": [
    "%%cpp\n",
    "int a=2*3*4, b=3*4*5; // input\n",
    "cout << format(\"gcd({}, {})=\", a, b);\n",
    "\n",
    "int c;\n",
    "while (a) {  // execute repeatedly as long as a is non-zero\n",
    "    b = b % a;\n",
    "    c = b;\n",
    "    b = a;\n",
    "    a = c;\n",
    "}\n",
    "if (b<0) b=-b;\n",
    "cout << b << \"\\n\"; // final answer"
   ]
  },
  {
   "cell_type": "markdown",
   "id": "c08754c9",
   "metadata": {
    "editable": true,
    "slideshow": {
     "slide_type": ""
    }
   },
   "source": [
    "### Inverse Square Root"
   ]
  },
  {
   "cell_type": "markdown",
   "id": "91316794",
   "metadata": {
    "editable": true,
    "slideshow": {
     "slide_type": ""
    }
   },
   "source": [
    "Recall the update rule of the inverse square root in [Lecture 2](../Lecture2/Elements_of_Computations.ipynb#code_fast_inv_sqrt1_update):\n",
    "\n",
    "```cpp\n",
    "y = y * (1.5 - (x*0.5 * y * y));\n",
    "```\n",
    "\n",
    "where `x` is the input, and `y` is the initial guess:"
   ]
  },
  {
   "cell_type": "code",
   "execution_count": null,
   "id": "60ad5d8d",
   "metadata": {
    "editable": true,
    "slideshow": {
     "slide_type": ""
    }
   },
   "outputs": [],
   "source": [
    "%%cpp\n",
    "double x = 10./3;  // input\n",
    "cout << format(\"rsqrt({})=?\\n\", x);\n",
    "\n",
    "auto i = *reinterpret_cast<int64_t *>(&x);\n",
    "i = 0x5fe6eb50c7b537a9 - (i >> 1);\n",
    "auto y = *reinterpret_cast<double *>(&i);\n",
    "cout << format(\"Initial guess: {}\\n\", y);  // initial guess"
   ]
  },
  {
   "cell_type": "markdown",
   "id": "065ecbfb",
   "metadata": {
    "editable": true,
    "slideshow": {
     "slide_type": ""
    }
   },
   "source": [
    "We can improve the program to check whether further execution is required:\n",
    "\n",
    "::::{code} cpp\n",
    ":label: code_fast_inv_sqrt2\n",
    ":caption: Conditional update of a guess `y` of the inverse square root of `x`.\n",
    ":linenos:\n",
    "y = (y+1/y/x)/2;   // update the answer\n",
    "\n",
    "if (auto x_=1/y/y, \n",
    "    gap=(x>x_)?(x-x_):(x_-x), \n",
    "    abs_x=(x>0?x:-x), \n",
    "    abs_x_=(x_>0?x_:-x_); \n",
    "    y<0 || x_!=x && gap > 1e-9*(abs_x>abs_x_?abs_x:abs_x_)) { // inaccurate?\n",
    "    cout << format(\"Run again to improve the accuracy.\");\n",
    "}\n",
    "::::"
   ]
  },
  {
   "cell_type": "markdown",
   "id": "fe4eb1b7",
   "metadata": {
    "editable": true,
    "slideshow": {
     "slide_type": ""
    }
   },
   "source": [
    "Observe that the program prompts the user to run it again when the answer is inaccurate:"
   ]
  },
  {
   "cell_type": "code",
   "execution_count": null,
   "id": "61b0fec0",
   "metadata": {
    "editable": true,
    "slideshow": {
     "slide_type": ""
    }
   },
   "outputs": [],
   "source": [
    "%%cpp\n",
    "y = y * (1.5 - (x*0.5 * y * y));\n",
    "\n",
    "if (auto x_=1/y/y, \n",
    "    gap=(x>x_)?(x-x_):(x_-x), \n",
    "    abs_x=(x>0?x:-x), \n",
    "    abs_x_=(x_>0?x_:-x_); \n",
    "    y<0 || x_!=x && gap > 1e-9*(abs_x>abs_x_?abs_x:abs_x_)) {\n",
    "    cout << format(\"An improved answer: {}\\n\", y);\n",
    "    cout << format(\"Run again to improve the accuracy.\");\n",
    "} else cout << format(\"The final answer: {}.\\n\", y);"
   ]
  },
  {
   "cell_type": "markdown",
   "id": "b82050a4",
   "metadata": {
    "editable": true,
    "slideshow": {
     "slide_type": ""
    }
   },
   "source": [
    "The repeated runs can be automated and optimized with the following code:\n",
    "\n",
    "::::{code} cpp\n",
    ":label: code_fast_inv_sqrt3\n",
    ":caption: Iterative update of a guess `y` of the inverse square root of `x`.\n",
    ":linenos:\n",
    "constexpr auto threehalfs = 1.5, rel_tol = 1e-9; // for compiler optimization\n",
    "const auto x2 = x*0.5;                           // avoid redundant calculations\n",
    "double x_, gap, abs_x, abs_x_;\n",
    "do {\n",
    "    y = y * (threehalfs - (x2 * y * y));\n",
    "    x_=1/y/y; gap=(x>x_)?(x-x_):(x_-x); abs_x=(x>0?x:-x); abs_x_=(x_>0?x_:-x_);\n",
    "} while (y<0 || x_!=x && gap > rel_tol*(abs_x>abs_x_?abs_x:abs_x_)); // repeat if inaccurate\n",
    "::::"
   ]
  },
  {
   "cell_type": "markdown",
   "id": "72690205",
   "metadata": {
    "editable": true,
    "slideshow": {
     "slide_type": ""
    }
   },
   "source": [
    "This gives an accurate answer immediately:"
   ]
  },
  {
   "cell_type": "code",
   "execution_count": null,
   "id": "9a620153",
   "metadata": {
    "editable": true,
    "slideshow": {
     "slide_type": ""
    }
   },
   "outputs": [],
   "source": [
    "%%cpp\n",
    "double x = 10./3;  // input\n",
    "\n",
    "auto i = *reinterpret_cast<int64_t *>(&x);\n",
    "i = 0x5fe6eb50c7b537a9 - (i >> 1);\n",
    "auto y = *reinterpret_cast<double *>(&i);\n",
    "\n",
    "constexpr auto threehalfs = 1.5, rel_tol = 1e-9;\n",
    "const auto x2 = x*0.5;\n",
    "double x_, gap, abs_x, abs_x_;\n",
    "do {\n",
    "    y = y * (threehalfs - (x2 * y * y));\n",
    "    x_=1/y/y; gap=(x>x_)?(x-x_):(x_-x); abs_x=(x>0?x:-x); abs_x_=(x_>0?x_:-x_);\n",
    "} while (y<0 || x_!=x && gap > rel_tol*(abs_x>abs_x_?abs_x:abs_x_));\n",
    "cout << format(\"rsqrt({})={}.\\n\", x, y); // final answer"
   ]
  },
  {
   "cell_type": "markdown",
   "id": "f8847128",
   "metadata": {
    "editable": true,
    "slideshow": {
     "slide_type": ""
    }
   },
   "source": [
    "### Undecimal to decimal"
   ]
  },
  {
   "cell_type": "markdown",
   "id": "7d5d130e",
   "metadata": {
    "editable": true,
    "slideshow": {
     "slide_type": ""
    }
   },
   "source": [
    "Consider a new problem of converting an undecimal number to a decimal number."
   ]
  },
  {
   "cell_type": "markdown",
   "id": "e7c815b0",
   "metadata": {
    "editable": true,
    "slideshow": {
     "slide_type": ""
    }
   },
   "source": [
    "::::{prf:definition} Undecimal\n",
    ":label: def:undecimal\n",
    "\n",
    "An [undecimal number](https://en.wikipedia.org/wiki/Undecimal) is a base 11 number system that uses digits 0-9, along with `X` or `x`, to represent the decimal value 10 similar to the Roman numeral X.\n",
    "\n",
    "::::"
   ]
  },
  {
   "cell_type": "markdown",
   "id": "146da2ae",
   "metadata": {
    "editable": true,
    "slideshow": {
     "slide_type": ""
    }
   },
   "source": [
    "The following is an implementation that converts a undecimal number represented by a C string to an unsigned integer:\n",
    "\n",
    "::::{code} cpp\n",
    ":label: code_undecimal1\n",
    ":caption: Computing the integer value of an undecimal C string `s`.\n",
    ":linenos:\n",
    "auto value=0uLL;\n",
    "constexpr auto m1=-1uL, m2=m1/11, m3=m1-10;\n",
    "for (size_t i=0, length=strlen(s); i < length; ++i) {\n",
    "    value *= value<=m2 ? 11 : throw runtime_error(\"The value is too big.\");\n",
    "    switch (unsigned char c=s[i]) {   // condition in the form of a character declaration\n",
    "    case 'X':                // case label X\n",
    "        [[fallthrough]];     // attribute to silent warning\n",
    "    case 'x':\n",
    "        value<=m3 ? value+=10 : throw runtime_error(\"The value is too big.\");\n",
    "        break;               // terminate the switch statement\n",
    "    default:                 // default label\n",
    "        if ((c=s[i]-'0')>9) throw runtime_error(\"Invalid character found.\");\n",
    "        value<=m1-c? value+=c : throw runtime_error(\"The value is too big.\");\n",
    "    }\n",
    "}\n",
    "::::"
   ]
  },
  {
   "cell_type": "markdown",
   "id": "c776ce7a",
   "metadata": {},
   "source": [
    "Control flow statements allow the program to handle undecimal strings of any length, limited only by the maximum integer value."
   ]
  },
  {
   "cell_type": "code",
   "execution_count": null,
   "id": "a8bd0458",
   "metadata": {
    "editable": true,
    "slideshow": {
     "slide_type": ""
    }
   },
   "outputs": [],
   "source": [
    "%%cpp\n",
    "auto s=\"1X2X3x\";  // input undecimal string\n",
    "\n",
    "auto value=0uLL;\n",
    "constexpr auto m1=-1uL, m2=m1/11, m3=m1-10;\n",
    "for (size_t i=0, length=strlen(s); i < length; ++i) {\n",
    "    value *= value<=m2 ? 11 : throw runtime_error(\"The value is too big.\");\n",
    "    switch (unsigned char c=s[i]) {\n",
    "    case 'X':\n",
    "        [[fallthrough]];\n",
    "    case 'x':\n",
    "        value<=m3 ? value+=10 : throw runtime_error(\"The value is too big.\");\n",
    "        break;\n",
    "    default:\n",
    "        if ((c=s[i]-'0')>9) throw runtime_error(\"Invalid character found.\");\n",
    "        value<=m1-c? value+=c : throw runtime_error(\"The value is too big.\");\n",
    "    }\n",
    "}\n",
    "cout << format(\"Decimal value of the undecimal {} is {}.\\n\", s, value);"
   ]
  },
  {
   "cell_type": "markdown",
   "id": "7fece8f9",
   "metadata": {
    "editable": true,
    "slideshow": {
     "slide_type": ""
    }
   },
   "source": [
    "### Distinct Prime Factors"
   ]
  },
  {
   "cell_type": "markdown",
   "id": "51e05847",
   "metadata": {
    "editable": true,
    "slideshow": {
     "slide_type": ""
    }
   },
   "source": [
    "Finally, consider the problem of computing the prime factors:\n",
    "\n",
    "::::{prf:definition} Prime factor\n",
    ":label: def:prime_factor\n",
    "\n",
    "A [prime number](https://en.wikipedia.org/wiki/Prime_number#Definition_and_examples) is a number greater than 1 and cannot be written as the product of two smaller natural numbers.\n",
    "A prime factor $p$ of a positive integer $n$ is a divisor of $n$ that is a prime number.\n",
    "\n",
    "::::"
   ]
  },
  {
   "cell_type": "markdown",
   "id": "c5a4b336",
   "metadata": {
    "editable": true,
    "slideshow": {
     "slide_type": ""
    }
   },
   "source": [
    "The following is an implementation:\n",
    "\n",
    "::::{code} cpp\n",
    ":label: code_prime_factor1\n",
    ":caption: Distinct prime factors of an unsigned integer `n`\n",
    ":linenos:                   // input\n",
    "for (auto p=2uLL; p<=n; p++) {     // check candidate factors from 2 to n\n",
    "    if (n%p) continue;          // continue to the next factor\n",
    "    bool isprime=true;          // a flag to keep track of the primality\n",
    "    for (auto d=2uLL; d*d<=p; d++)  // check candidate divisors\n",
    "        if (p%d==0) {           // divisor found for p\n",
    "            isprime=false;\n",
    "            break;              // break to skip the test of other divisors\n",
    "        }\n",
    "    if (isprime) {              // prime factor found\n",
    "        cout << p << '\\n';\n",
    "        do n/=p; while (n%p==0);\n",
    "    }\n",
    "} \n",
    "::::"
   ]
  },
  {
   "cell_type": "markdown",
   "id": "becb67ff",
   "metadata": {
    "editable": true,
    "slideshow": {
     "slide_type": ""
    }
   },
   "source": [
    "Observe that the program prints the distinct prime factors of a positive integer `n` line by line in ascending order, regardless of how many prime factors there are:"
   ]
  },
  {
   "cell_type": "code",
   "execution_count": null,
   "id": "c63c4a8e",
   "metadata": {
    "editable": true,
    "slideshow": {
     "slide_type": ""
    }
   },
   "outputs": [],
   "source": [
    "%%cpp\n",
    "auto n = 100uLL;  // input\n",
    "cout << format(\"Distinct prime factors of {} in ascending order:\\n\", n);\n",
    "for (auto p=2uLL; p<=n; p++) {\n",
    "    if (n%p) continue;\n",
    "    bool isprime=true;\n",
    "    for (auto d=2uLL; d*d<=p; d++)\n",
    "        if (p%d==0) {\n",
    "            isprime=false;\n",
    "            break;\n",
    "        }\n",
    "    if (isprime) {\n",
    "        cout << p << '\\n';\n",
    "        do n/=p; while (n%p==0);\n",
    "    }\n",
    "} "
   ]
  },
  {
   "cell_type": "markdown",
   "id": "11aa3682",
   "metadata": {
    "editable": true,
    "slideshow": {
     "slide_type": ""
    }
   },
   "source": [
    "Imperative programming focuses on using different control flow statements to make decisions and repeat actions in response to different conditions. In the following sections, we will learn how to write conditions and control flow statements."
   ]
  },
  {
   "cell_type": "markdown",
   "id": "9453eeab",
   "metadata": {
    "editable": true,
    "slideshow": {
     "slide_type": ""
    }
   },
   "source": [
    "## Condition"
   ]
  },
  {
   "cell_type": "markdown",
   "id": "53720b2c",
   "metadata": {
    "editable": true,
    "slideshow": {
     "slide_type": ""
    }
   },
   "source": [
    "### Boolean Value"
   ]
  },
  {
   "cell_type": "markdown",
   "id": "afcf9352",
   "metadata": {
    "editable": true,
    "slideshow": {
     "slide_type": ""
    }
   },
   "source": [
    "Control flow statements determine the flow of execution based on the program state, often summarized as a condition that can be regarded as true or false. Such a condition is said to take a boolean value, named after [George Boole](https://en.wikipedia.org/wiki/George_Boole)."
   ]
  },
  {
   "cell_type": "code",
   "execution_count": null,
   "id": "530abaf1",
   "metadata": {
    "editable": true,
    "slideshow": {
     "slide_type": ""
    }
   },
   "outputs": [],
   "source": [
    "%%cpp\n",
    "true"
   ]
  },
  {
   "cell_type": "code",
   "execution_count": null,
   "id": "f890f16b",
   "metadata": {
    "editable": true,
    "slideshow": {
     "slide_type": ""
    }
   },
   "outputs": [],
   "source": [
    "%%cpp\n",
    "false"
   ]
  },
  {
   "cell_type": "markdown",
   "id": "b88ce346",
   "metadata": {
    "editable": true,
    "slideshow": {
     "slide_type": ""
    }
   },
   "source": [
    "`bool` is a categorical type consisting of only the two values `true` and `false`. For instance, [](#code_prime_factor1) declares a boolean variable `isprime`, which is initialized to `true`, may be updated to `false` later, and is used as a condition to decide whether to print the factor.\n",
    "```cpp\n",
    "...\n",
    "    bool isprime=true;          // a flag to keep track of the primality\n",
    "    ...\n",
    "            isprime=false;      // i is not prime\n",
    "            ...\n",
    "    if (isprime) ...            // prime factor found\n",
    "...\n",
    "```"
   ]
  },
  {
   "cell_type": "markdown",
   "id": "792ff0cb",
   "metadata": {
    "editable": true,
    "slideshow": {
     "slide_type": ""
    }
   },
   "source": [
    "Theoretically, a boolean value only requires $1$ bit of storage, but C++ stores a boolean value with 1 byte:"
   ]
  },
  {
   "cell_type": "code",
   "execution_count": null,
   "id": "16cee456",
   "metadata": {
    "editable": true,
    "slideshow": {
     "slide_type": ""
    }
   },
   "outputs": [],
   "source": [
    "%%cpp\n",
    "sizeof(bool)"
   ]
  },
  {
   "cell_type": "code",
   "execution_count": null,
   "id": "98346329",
   "metadata": {
    "editable": true,
    "slideshow": {
     "slide_type": ""
    },
    "tags": [
     "skip-execution"
    ]
   },
   "outputs": [],
   "source": [
    "%%ai\n",
    "Why C++ uses one byte instead of one bit to store a boolean value? Can I use\n",
    "just one bit to store a boolean value instead?"
   ]
  },
  {
   "cell_type": "markdown",
   "id": "919c7684",
   "metadata": {
    "editable": true,
    "slideshow": {
     "slide_type": ""
    }
   },
   "source": [
    "Similar to Python, C++ regards `true` as `1`, and `false` as `0`:"
   ]
  },
  {
   "cell_type": "code",
   "execution_count": null,
   "id": "bb14e051",
   "metadata": {
    "editable": true,
    "slideshow": {
     "slide_type": ""
    }
   },
   "outputs": [],
   "source": [
    "%%cpp\n",
    "true == 1 && false == 0"
   ]
  },
  {
   "cell_type": "code",
   "execution_count": null,
   "id": "1c806cc4",
   "metadata": {
    "editable": true,
    "slideshow": {
     "slide_type": ""
    }
   },
   "outputs": [],
   "source": [
    "True == 1 and False == 0"
   ]
  },
  {
   "cell_type": "markdown",
   "id": "09ad27b5",
   "metadata": {
    "editable": true,
    "slideshow": {
     "slide_type": ""
    }
   },
   "source": [
    "We can even apply arithmetic operations on boolean values:"
   ]
  },
  {
   "cell_type": "code",
   "execution_count": null,
   "id": "578ef966",
   "metadata": {
    "editable": true,
    "slideshow": {
     "slide_type": ""
    }
   },
   "outputs": [],
   "source": [
    "%%cpp\n",
    "true + true > true && false * true == false"
   ]
  },
  {
   "cell_type": "code",
   "execution_count": null,
   "id": "4cc541d7",
   "metadata": {
    "editable": true,
    "slideshow": {
     "slide_type": ""
    }
   },
   "outputs": [],
   "source": [
    "True + True, False * True"
   ]
  },
  {
   "cell_type": "markdown",
   "id": "b1b70e1e",
   "metadata": {
    "editable": true,
    "slideshow": {
     "slide_type": ""
    }
   },
   "source": [
    "### Boolean Expression"
   ]
  },
  {
   "cell_type": "markdown",
   "id": "f2c344ab",
   "metadata": {
    "editable": true,
    "slideshow": {
     "slide_type": ""
    }
   },
   "source": [
    "A simple way to turn the program state to a boolean value is to apply [comparison operators](https://en.cppreference.com/w/cpp/language/operator_comparison.html) such as\n",
    "\n",
    ">  `<`, `<=`, `>`, `>=`, `<=>`, `==`, `!=`, `<=>`\n",
    "\n",
    "to numeric values to form a boolean expression, and then combine boolean expressions into a compound boolean expression using [logical operators](https://en.cppreference.com/w/cpp/language/operator_logical.html) such as\n",
    "\n",
    "1. negation: `!`\n",
    "2. logical AND: `&&`\n",
    "3. logical OR: `||`."
   ]
  },
  {
   "cell_type": "markdown",
   "id": "d61b16ac",
   "metadata": {
    "editable": true,
    "slideshow": {
     "slide_type": ""
    }
   },
   "source": [
    "Unlike C++, Python uses more expressive names for the logical operators: `not` vs `!`, `and` vs `&&`, `or` vs `||`. In particular, `1 != 0` can be rewritten as `!(1==0)` in C++ but not Python."
   ]
  },
  {
   "cell_type": "markdown",
   "id": "b1419a34",
   "metadata": {},
   "source": [
    "Similar to Python, C++ regards any non-zero numeric value as `true` in boolean expressions. For instance, the following checks if all the variables are zero:"
   ]
  },
  {
   "cell_type": "code",
   "execution_count": null,
   "id": "1403dd30",
   "metadata": {
    "editable": true,
    "slideshow": {
     "slide_type": ""
    }
   },
   "outputs": [],
   "source": [
    "%%cpp\n",
    "unsigned long x, y, z;\n",
    "!(x + y + z)"
   ]
  },
  {
   "cell_type": "markdown",
   "id": "557681d4",
   "metadata": {
    "editable": true,
    "slideshow": {
     "slide_type": ""
    }
   },
   "source": [
    "Even though `x + y + z` is not boolean, C++ contextually converts it to boolean since the logical operators expect a boolean context for their operands. Contextual conversion is one of the implicit conversions in C++ that follows [the following rule](https://en.cppreference.com/w/cpp/language/implicit_conversion.html#Boolean_conversions).\n",
    "\n",
    "> The value zero (for integral, floating-point, and unscoped enumeration) and the [null pointer](https://en.cppreference.com/w/cpp/language/nullptr.html) and the null pointer-to-member values become false. All other values become true."
   ]
  },
  {
   "cell_type": "code",
   "execution_count": null,
   "id": "c1f0b22e",
   "metadata": {
    "editable": true,
    "slideshow": {
     "slide_type": ""
    },
    "tags": [
     "skip-execution"
    ]
   },
   "outputs": [],
   "source": [
    "%%ai\n",
    "Explain very briefly what is a null pointer-to-member value in C++?"
   ]
  },
  {
   "cell_type": "markdown",
   "id": "0467f2f3",
   "metadata": {
    "editable": true,
    "slideshow": {
     "slide_type": ""
    }
   },
   "source": [
    "::::{exercise}\n",
    ":label: ex:all-zero1\n",
    "\n",
    "Explain why the following is different from the above check for all zero even if `x`, `y`, and `z` are non-negative.\n",
    "\n",
    "```cpp\n",
    "x + y + z != true\n",
    "```\n",
    "\n",
    ":::{hint}\n",
    ":class: dropdown\n",
    "\n",
    "Try\n",
    "\n",
    "```cpp\n",
    "unsigned long x=1, y=1, z;\n",
    "x + y + z != true\n",
    "```\n",
    "\n",
    ":::\n",
    "\n",
    "\n",
    "::::"
   ]
  },
  {
   "cell_type": "markdown",
   "id": "d4850e8a",
   "metadata": {
    "deletable": false,
    "editable": true,
    "nbgrader": {
     "cell_type": "markdown",
     "checksum": "d5ab37be63980efc6f77b978a18e2afb",
     "grade": true,
     "grade_id": "all-zero1",
     "locked": false,
     "points": 0,
     "schema_version": 3,
     "solution": true,
     "task": false
    },
    "slideshow": {
     "slide_type": ""
    }
   },
   "source": [
    "YOUR ANSWER HERE"
   ]
  },
  {
   "cell_type": "markdown",
   "id": "27186831",
   "metadata": {
    "editable": true,
    "slideshow": {
     "slide_type": ""
    }
   },
   "source": [
    "Unlike Python, an empty C string `\"\"` is regarded as `true` but the null character `'\\0'` is regarded as `false`:"
   ]
  },
  {
   "cell_type": "code",
   "execution_count": null,
   "id": "fb239c80",
   "metadata": {
    "editable": true,
    "slideshow": {
     "slide_type": ""
    }
   },
   "outputs": [],
   "source": [
    "%%cpp\n",
    "auto s=\"\";\n",
    "auto c=s[0];\n",
    "s && !c"
   ]
  },
  {
   "cell_type": "code",
   "execution_count": null,
   "id": "8a1a1263",
   "metadata": {
    "editable": true,
    "slideshow": {
     "slide_type": ""
    }
   },
   "outputs": [],
   "source": [
    "not (\"\" and not \"\\0\")"
   ]
  },
  {
   "cell_type": "code",
   "execution_count": null,
   "id": "dd7ee2e3",
   "metadata": {
    "editable": true,
    "slideshow": {
     "slide_type": ""
    }
   },
   "outputs": [],
   "source": [
    "%%cpp\n",
    "unsigned long x, y, z;\n",
    "!(x || y || z)"
   ]
  },
  {
   "cell_type": "markdown",
   "id": "407edd88",
   "metadata": {
    "editable": true,
    "slideshow": {
     "slide_type": ""
    }
   },
   "source": [
    "::::{exercise}\n",
    ":label: ex:contextual_conversion\n",
    "\n",
    "Explain why  an empty C string `\"\"` is regarded as `true` but the null character `'\\0'` is regarded as `false`?\n",
    "\n",
    "::::"
   ]
  },
  {
   "cell_type": "markdown",
   "id": "948684d5",
   "metadata": {
    "deletable": false,
    "editable": true,
    "nbgrader": {
     "cell_type": "markdown",
     "checksum": "19dbd47d23cdd3a13d1e269a56eb309f",
     "grade": true,
     "grade_id": "contextual_conversion",
     "locked": false,
     "points": 0,
     "schema_version": 3,
     "solution": true,
     "task": false
    },
    "slideshow": {
     "slide_type": ""
    }
   },
   "source": [
    "YOUR ANSWER HERE"
   ]
  },
  {
   "cell_type": "markdown",
   "id": "a25ec47c",
   "metadata": {
    "editable": true,
    "slideshow": {
     "slide_type": ""
    }
   },
   "source": [
    "A better check for all-zero is:"
   ]
  },
  {
   "cell_type": "code",
   "execution_count": null,
   "id": "cb681697",
   "metadata": {
    "editable": true,
    "slideshow": {
     "slide_type": ""
    }
   },
   "outputs": [],
   "source": [
    "%%cpp\n",
    "unsigned long x, y, z;\n",
    "!(x || y || z)"
   ]
  },
  {
   "cell_type": "markdown",
   "id": "49e009ff",
   "metadata": {
    "editable": true,
    "slideshow": {
     "slide_type": ""
    }
   },
   "source": [
    "A important benefit of using logical operator `||` in `!(x || y || z)` vs the addition `+` in `!(x + y + z)` is the [short-circuit evaluation](https://en.wikipedia.org/wiki/Short-circuit_evaluation) of logical expressions. To show this, run the following slightly modified code:"
   ]
  },
  {
   "cell_type": "code",
   "execution_count": null,
   "id": "d8884dff",
   "metadata": {
    "editable": true,
    "slideshow": {
     "slide_type": ""
    }
   },
   "outputs": [],
   "source": [
    "%%cpp\n",
    "unsigned long x, y, z;\n",
    "!(++x || ++y || ++z)"
   ]
  },
  {
   "cell_type": "code",
   "execution_count": null,
   "id": "fdd3e419",
   "metadata": {
    "editable": true,
    "slideshow": {
     "slide_type": ""
    }
   },
   "outputs": [],
   "source": [
    "%%cpp\n",
    "cout << format(\"x={}, y={}, z={}\\n\", x, y, z);"
   ]
  },
  {
   "cell_type": "markdown",
   "id": "81990155",
   "metadata": {
    "editable": true,
    "slideshow": {
     "slide_type": ""
    }
   },
   "source": [
    "`y` and `z` are not incremented because `++x` already evaluates to true, and so the execution of `++y` and `++z` are skipped as their values do not change the overall value of the boolean expression. In comparison, there is no short-circuiting for the addition operations:"
   ]
  },
  {
   "cell_type": "code",
   "execution_count": null,
   "id": "965a79b6",
   "metadata": {
    "editable": true,
    "slideshow": {
     "slide_type": ""
    }
   },
   "outputs": [],
   "source": [
    "%%cpp\n",
    "int x, y, z;\n",
    "!(++x + ++y + ++z)"
   ]
  },
  {
   "cell_type": "code",
   "execution_count": null,
   "id": "efe5125d",
   "metadata": {
    "editable": true,
    "slideshow": {
     "slide_type": ""
    }
   },
   "outputs": [],
   "source": [
    "%%cpp\n",
    "cout << format(\"x={}, y={}, z={}\\n\", x, y, z);"
   ]
  },
  {
   "cell_type": "markdown",
   "id": "83437f2d",
   "metadata": {
    "editable": true,
    "slideshow": {
     "slide_type": ""
    }
   },
   "source": [
    "Python also has short-circuit evaluation, but it returns the value of an operand in its original type without contextual conversion to boolean:"
   ]
  },
  {
   "cell_type": "code",
   "execution_count": null,
   "id": "5ea86d32",
   "metadata": {
    "editable": true,
    "slideshow": {
     "slide_type": ""
    }
   },
   "outputs": [],
   "source": [
    "a = b = 0\n",
    "a and b%a"
   ]
  },
  {
   "cell_type": "code",
   "execution_count": null,
   "id": "e0decea4",
   "metadata": {
    "editable": true,
    "slideshow": {
     "slide_type": ""
    }
   },
   "outputs": [],
   "source": [
    "a = 3\n",
    "b = 5\n",
    "a and b%a"
   ]
  },
  {
   "cell_type": "markdown",
   "id": "183d80cf",
   "metadata": {
    "editable": true,
    "slideshow": {
     "slide_type": ""
    }
   },
   "source": [
    "In contrast, C++'s logical operations return a boolean as the operands are contextually converted to boolean:"
   ]
  },
  {
   "cell_type": "code",
   "execution_count": null,
   "id": "eff4ee1a",
   "metadata": {
    "editable": true,
    "slideshow": {
     "slide_type": ""
    }
   },
   "outputs": [],
   "source": [
    "%%cpp\n",
    "int a, b;\n",
    "a && b%a"
   ]
  },
  {
   "cell_type": "code",
   "execution_count": null,
   "id": "b5915e29",
   "metadata": {
    "editable": true,
    "slideshow": {
     "slide_type": ""
    }
   },
   "outputs": [],
   "source": [
    "%%cpp\n",
    "int a=3, b=5;\n",
    "a && b%a"
   ]
  },
  {
   "cell_type": "markdown",
   "id": "36350617",
   "metadata": {
    "editable": true,
    "slideshow": {
     "slide_type": ""
    }
   },
   "source": [
    "### Categories"
   ]
  },
  {
   "cell_type": "markdown",
   "id": "c14b957b",
   "metadata": {
    "editable": true,
    "slideshow": {
     "slide_type": ""
    }
   },
   "source": [
    "It is possible to express a condition that takes multiple values. For instance, while most of the comparison operations evaluate to a boolean value, there is an exception—the [three-way comparison operator](https://en.cppreference.com/w/cpp/language/default_comparisons.html#Three-way_comparison) `<=>`, also known as the *spaceship operator*, which returns a comparison category:"
   ]
  },
  {
   "cell_type": "code",
   "execution_count": null,
   "id": "bcbc5ae6",
   "metadata": {
    "editable": true,
    "slideshow": {
     "slide_type": ""
    }
   },
   "outputs": [],
   "source": [
    "%%cpp\n",
    "1 <=> 1"
   ]
  },
  {
   "cell_type": "markdown",
   "id": "106133cf",
   "metadata": {
    "editable": true,
    "slideshow": {
     "slide_type": ""
    }
   },
   "source": [
    "[`std::strong_ordering`](https://en.cppreference.com/w/cpp/utility/compare/strong_ordering) from `<compare>` is another categorical type similar to boolean, but with three possible categories below.[^ordering]\n",
    "\n",
    "- `std::strong_ordering::equal`: The operands are equal.\n",
    "- `std::strong_ordering::less`: The first operand is less than the second.\n",
    "- `std::strong_ordering::greater`: The first operand is greater than the second.\n",
    "\n",
    "[^ordering]: The strong ordering in C++ implements the [strict total ordering](https://en.wikipedia.org/wiki/Total_order#Strict_and_non-strict_total_orders) in order theory. There are two other more general category types:\n",
    "    - `std::weak_ordering`: Non-strict ordering, which allows distinct items to be equivalent, e.g., in modular arithmetics.\n",
    "    - `std::partial_ordering`: Partial ordering, which allows distinct items to be incomparable, e.g., in comparing sets."
   ]
  },
  {
   "cell_type": "code",
   "execution_count": null,
   "id": "42dfe4fc",
   "metadata": {
    "editable": true,
    "slideshow": {
     "slide_type": ""
    }
   },
   "outputs": [],
   "source": [
    "%%cpp\n",
    "auto order = (1 <=> 1);\n",
    "order == strong_ordering::equal"
   ]
  },
  {
   "cell_type": "markdown",
   "id": "bc27636f",
   "metadata": {
    "editable": true,
    "slideshow": {
     "slide_type": ""
    }
   },
   "source": [
    "The check for equality can also be simplified to:"
   ]
  },
  {
   "cell_type": "code",
   "execution_count": null,
   "id": "58071f88",
   "metadata": {
    "editable": true,
    "slideshow": {
     "slide_type": ""
    }
   },
   "outputs": [],
   "source": [
    "%%cpp\n",
    "order == 0"
   ]
  },
  {
   "cell_type": "markdown",
   "id": "928f9f1d",
   "metadata": {
    "editable": true,
    "slideshow": {
     "slide_type": ""
    }
   },
   "source": [
    "The check for the other two possible categories are as follows:"
   ]
  },
  {
   "cell_type": "code",
   "execution_count": null,
   "id": "db1e5365",
   "metadata": {
    "editable": true,
    "slideshow": {
     "slide_type": ""
    }
   },
   "outputs": [],
   "source": [
    "%%cpp\n",
    "auto order = (1 <=> 2);\n",
    "order == strong_ordering::less && order < 0"
   ]
  },
  {
   "cell_type": "code",
   "execution_count": null,
   "id": "90049731",
   "metadata": {
    "editable": true,
    "slideshow": {
     "slide_type": ""
    }
   },
   "outputs": [],
   "source": [
    "%%cpp\n",
    "auto order = (2 <=> 1);\n",
    "order == strong_ordering::greater && order > 0"
   ]
  },
  {
   "cell_type": "code",
   "execution_count": null,
   "id": "4bd0472e",
   "metadata": {
    "editable": true,
    "slideshow": {
     "slide_type": ""
    },
    "tags": [
     "skip-execution"
    ]
   },
   "outputs": [],
   "source": [
    "%%ai\n",
    "What is the motivation for <=> in C++, given that one can use other comparison\n",
    "operators to the same effect?"
   ]
  },
  {
   "cell_type": "markdown",
   "id": "c5f417e0",
   "metadata": {
    "editable": true,
    "slideshow": {
     "slide_type": ""
    }
   },
   "source": [
    "We can define custom categorical type using the [`enum`](https://en.cppreference.com/w/cpp/language/enum.html) declaration. E.g., the following declares the values for [three-valued logic (TVL)](https://en.wikipedia.org/wiki/Three-valued_logic):"
   ]
  },
  {
   "cell_type": "code",
   "execution_count": null,
   "id": "35a5c2b2",
   "metadata": {
    "editable": true,
    "slideshow": {
     "slide_type": ""
    }
   },
   "outputs": [],
   "source": [
    "%%cpp\n",
    "enum TVL {\n",
    "    UNKNOWN=-1,\n",
    "    FALSE=0,\n",
    "    TRUE=1\n",
    "};\n",
    "TVL a=TRUE, b=FALSE, c=UNKNOWN;\n",
    "cout << a << ' ' << b << ' ' << c << '\\n';\n",
    "a==true && b==false"
   ]
  },
  {
   "cell_type": "markdown",
   "id": "57bba6d5",
   "metadata": {
    "editable": true,
    "slideshow": {
     "slide_type": ""
    }
   },
   "source": [
    "::::{caution}\n",
    "\n",
    "An `enum` declaration is a simple statement that should end with a semicolon (`;`). Specifically, the braces in the `enum` declaration do not define a compound statement; they merely enclose the list of enumerators.\n",
    "\n",
    "::::"
   ]
  },
  {
   "cell_type": "markdown",
   "id": "babbff9c",
   "metadata": {
    "editable": true,
    "slideshow": {
     "slide_type": ""
    }
   },
   "source": [
    "Manual assignments to integer values are optional, but they ensure that the integer values of `TRUE` and `FALSE` aligns with those of the corresponding boolean values `true` and `false`. Indeed, even the name of the enumeration is optional, as illustrated by the following *unnamed enumeration*:"
   ]
  },
  {
   "cell_type": "code",
   "execution_count": null,
   "id": "81ac4efa",
   "metadata": {
    "editable": true,
    "slideshow": {
     "slide_type": ""
    }
   },
   "outputs": [],
   "source": [
    "%%cpp\n",
    "enum {     // unnamed\n",
    "    RED,   // default value 0\n",
    "    BLUE,  // default value 1\n",
    "    GREEN  // default value 2\n",
    "};\n",
    "auto a=RED, b=BLUE, c=GREEN;\n",
    "cout << a << ' ' << b << ' ' << c << '\\n';\n",
    "a"
   ]
  },
  {
   "cell_type": "markdown",
   "id": "3dda3647",
   "metadata": {
    "editable": true,
    "slideshow": {
     "slide_type": ""
    }
   },
   "source": [
    "Unlike `std::strong_ordering`, the above enumerations are unscoped, which can lead to name conflicts if multiple such enumerations contain a value with the same name."
   ]
  },
  {
   "cell_type": "code",
   "execution_count": null,
   "id": "6efe0c59",
   "metadata": {
    "editable": true,
    "slideshow": {
     "slide_type": ""
    },
    "tags": [
     "skip-execution"
    ]
   },
   "outputs": [],
   "source": [
    "%%ai\n",
    "Give a concrete example of how unscoped enumerations in C++ can cause name \n",
    "conflicts."
   ]
  },
  {
   "cell_type": "markdown",
   "id": "ed4d0548",
   "metadata": {
    "editable": true,
    "slideshow": {
     "slide_type": ""
    }
   },
   "source": [
    "To resolve the issue, C++11 introduces scoped enumerations with `enum class` (and `enum struct`), such as:"
   ]
  },
  {
   "cell_type": "code",
   "execution_count": null,
   "id": "1a35e2d5",
   "metadata": {
    "editable": true,
    "slideshow": {
     "slide_type": ""
    }
   },
   "outputs": [],
   "source": [
    "%%cpp\n",
    "enum class TVL {\n",
    "    UNKNOWN=-1, U=UNKNOWN,        // short aliases\n",
    "    FALSE=0, F=FALSE,\n",
    "    TRUE=1, T=TRUE\n",
    "}\n",
    "TVL a=TVL::T, b=TVL::F, c=TVL::U;  // qualification `TVL::` required\n",
    "a"
   ]
  },
  {
   "cell_type": "markdown",
   "id": "81423a0d",
   "metadata": {
    "editable": true,
    "slideshow": {
     "slide_type": ""
    }
   },
   "source": [
    "The above also added short aliases `U`, `F`, and `T` without worry of name conflicts because the qualification `TVL::` is required to access the enumerators."
   ]
  },
  {
   "cell_type": "markdown",
   "id": "30fee6dc",
   "metadata": {},
   "source": [
    "However, the following code will fail because scoped enumerations are not implicitly converted to integers, which is intended to ensure type safety:\n",
    "\n",
    "```cpp\n",
    "cout << a << ' ' << b << ' ' << c << '\\n';\n",
    "a==true && b==false\n",
    "```"
   ]
  },
  {
   "cell_type": "code",
   "execution_count": null,
   "id": "20bedaac",
   "metadata": {
    "editable": true,
    "slideshow": {
     "slide_type": ""
    }
   },
   "outputs": [],
   "source": [
    "%%cpp\n",
    "static_cast<int>(TVL::TRUE)"
   ]
  },
  {
   "cell_type": "code",
   "execution_count": null,
   "id": "babba6ad",
   "metadata": {
    "editable": true,
    "slideshow": {
     "slide_type": ""
    },
    "tags": [
     "skip-execution"
    ]
   },
   "outputs": [],
   "source": [
    "%%ai\n",
    "Explain briefly how to properly define three-valued logic data type in C++ so \n",
    "that it works in boolean expressions?"
   ]
  },
  {
   "cell_type": "markdown",
   "id": "744cf90c",
   "metadata": {},
   "source": [
    "## Conditional"
   ]
  },
  {
   "cell_type": "markdown",
   "id": "e15eddc6",
   "metadata": {},
   "source": [
    "### `if` statement"
   ]
  },
  {
   "cell_type": "markdown",
   "id": "98eee6f3",
   "metadata": {},
   "source": [
    "Now that we know how to specify a condition, we can begin to write programs with control flow statements."
   ]
  },
  {
   "cell_type": "markdown",
   "id": "ae16b51a",
   "metadata": {},
   "source": [
    "The  [`if` statements](https://en.cppreference.com/w/cpp/language/if.html) is a control flow statement that executes a block of code based on whether a condition is true. For instance, in [](#code_gcd2), there are two nested `if` statements:\n",
    "\n",
    "```cpp\n",
    "if (a) {\n",
    "    ... // executed when `a` is true\n",
    "} else if (b<0) ... // executed when `a` is false but `b<0` is true\n",
    "```"
   ]
  },
  {
   "cell_type": "markdown",
   "id": "9e01ee49",
   "metadata": {},
   "source": [
    "The first `if` statement executes a compound statement if the condition is true. Otherwise, the control goes to its `else` clause, which consists of a simple `if` statement without an `else` clause."
   ]
  },
  {
   "cell_type": "markdown",
   "id": "fc364072",
   "metadata": {},
   "source": [
    "Unlike Python, the condition for the `if` statement must be enclosed by parentheses `( ... )`, and there is no `elif` keyword to compress `else if`:"
   ]
  },
  {
   "cell_type": "code",
   "execution_count": null,
   "id": "cd5c53f2",
   "metadata": {
    "editable": true,
    "slideshow": {
     "slide_type": ""
    }
   },
   "outputs": [],
   "source": [
    "a = b = 0\n",
    "if a:\n",
    "    ...\n",
    "elif b<0: ..."
   ]
  },
  {
   "cell_type": "markdown",
   "id": "7ced71cf",
   "metadata": {
    "editable": true,
    "slideshow": {
     "slide_type": ""
    }
   },
   "source": [
    "::::{exercise}\n",
    ":label: ex:gcd_if\n",
    "\n",
    "Explain the purposes of each of the two `if` statements in [](#code_gcd2).\n",
    "\n",
    "::::"
   ]
  },
  {
   "cell_type": "markdown",
   "id": "e737d1e4",
   "metadata": {
    "deletable": false,
    "editable": true,
    "nbgrader": {
     "cell_type": "markdown",
     "checksum": "35e956977d4bb0ab38c9cadd227febaf",
     "grade": true,
     "grade_id": "gcd_if",
     "locked": false,
     "points": 0,
     "schema_version": 3,
     "solution": true,
     "task": false
    },
    "slideshow": {
     "slide_type": ""
    }
   },
   "source": [
    "YOUR ANSWER HERE"
   ]
  },
  {
   "cell_type": "markdown",
   "id": "1460eb53",
   "metadata": {
    "editable": true,
    "slideshow": {
     "slide_type": ""
    }
   },
   "source": [
    "[](#code_fast_inv_sqrt2) also has an `if` statement:\n",
    "\n",
    "```cpp\n",
    "...\n",
    "if (auto x_=1/y/y, \n",
    "    gap=(x>x_)?(x-x_):(x_-x), \n",
    "    abs_x=(x>0?x:-x), \n",
    "    abs_x_=(x_>0?x_:-x_); \n",
    "    y<0 || x_!=x && gap > 1e-9*(abs_x>abs_x_?abs_x:abs_x_)) { // inaccurate?\n",
    "    ... //\n",
    "}  // \n",
    "```"
   ]
  },
  {
   "cell_type": "markdown",
   "id": "ebc750fa",
   "metadata": {
    "editable": true,
    "slideshow": {
     "slide_type": ""
    }
   },
   "source": [
    "Different from the previous `if` statements, there is an [initialization statement](https://en.cppreference.com/w/cpp/language/if.html#if_statements_with_initializer) in front of the condition:\n",
    "\n",
    "```cpp\n",
    "...\n",
    "if (auto x_=1/y/y, \n",
    "    gap=(x>x_)?(x-x_):(x_-x), \n",
    "    abs_x=(x>0?x:-x), \n",
    "    abs_x_=(x_>0?x_:-x_);\n",
    "    ...\n",
    "```\n",
    "\n",
    "The initializer define variables local to the scope of the `if` statement. Hence, repeating the execution does not re-declare the variables in the global scope."
   ]
  },
  {
   "cell_type": "markdown",
   "id": "4861112f",
   "metadata": {
    "editable": true,
    "slideshow": {
     "slide_type": ""
    }
   },
   "source": [
    "What does the condition mean, however?\n",
    "\n",
    "```cpp\n",
    "    ...\n",
    "    y<0 || x_!=x && gap > 1e-9*(abs_x>abs_x_?abs_x:abs_x_)) { // inaccurate?\n",
    "...\n",
    "```"
   ]
  },
  {
   "cell_type": "markdown",
   "id": "c2310cdc",
   "metadata": {
    "editable": true,
    "slideshow": {
     "slide_type": ""
    }
   },
   "source": [
    "Due to the limited precision of floating point numbers, the accuracy, or the closeness of two floating point numbers, say $x$ and $x'$, should be determined with some tolerance.\n",
    "\n",
    "::::{prf:definition} closeness\n",
    ":label: def:isclose\n",
    "\n",
    "Two floating point numbers `x` and `x'` are said to be close with respect to an absolute tolerance $\\delta_{\\text{abs}}\\geq 0$ or a relative tolerence $\\delta_{\\text{rel}}\\geq 0$ when the following condition is satisfied:\n",
    "\n",
    "$$\n",
    "\\begin{align}\n",
    "\\lvert x-x' \\rvert &\\leq \\max\\Set{\\delta_{\\text{abs}}, \\delta_{\\text{rel}}\\max \\Set{\\lvert x\\rvert, \\lvert x'\\rvert}}.\n",
    "\\end{align}\n",
    "$$ (eq:isclose)\n",
    "\n",
    "::::"
   ]
  },
  {
   "cell_type": "markdown",
   "id": "391c97d7",
   "metadata": {
    "editable": true,
    "slideshow": {
     "slide_type": ""
    }
   },
   "source": [
    "In python, [](#eq:isclose) is implemented by the function `isclose` from the `math` module:"
   ]
  },
  {
   "cell_type": "code",
   "execution_count": null,
   "id": "4b065100",
   "metadata": {
    "editable": true,
    "slideshow": {
     "slide_type": ""
    }
   },
   "outputs": [],
   "source": [
    "from math import isclose\n",
    "help(isclose)"
   ]
  },
  {
   "cell_type": "code",
   "execution_count": null,
   "id": "b9acc3fa",
   "metadata": {
    "editable": true,
    "slideshow": {
     "slide_type": ""
    }
   },
   "outputs": [],
   "source": [
    "isclose(100, 90, rel_tol=0.1)  # because (100-90) == 0.1*100"
   ]
  },
  {
   "cell_type": "code",
   "execution_count": null,
   "id": "418affc0",
   "metadata": {
    "editable": true,
    "slideshow": {
     "slide_type": ""
    }
   },
   "outputs": [],
   "source": [
    "isclose(100, 89, rel_tol=0.1)  # because (100-89) > 0.1*100"
   ]
  },
  {
   "cell_type": "code",
   "execution_count": null,
   "id": "fd923d04",
   "metadata": {
    "editable": true,
    "slideshow": {
     "slide_type": ""
    }
   },
   "outputs": [],
   "source": [
    "isclose(100, 90, abs_tol=10)    # because (100-90) == 10"
   ]
  },
  {
   "cell_type": "code",
   "execution_count": null,
   "id": "7335e79e",
   "metadata": {
    "editable": true,
    "slideshow": {
     "slide_type": ""
    }
   },
   "outputs": [],
   "source": [
    "isclose(100, 89, abs_tol=10)    # because (100-89) > 10"
   ]
  },
  {
   "cell_type": "markdown",
   "id": "2b0ec177",
   "metadata": {
    "editable": true,
    "slideshow": {
     "slide_type": ""
    }
   },
   "source": [
    "`-inf`, `inf` and `NaN` behave similarly to the IEEE 754 Standard:"
   ]
  },
  {
   "cell_type": "code",
   "execution_count": null,
   "id": "3c6000e9",
   "metadata": {
    "editable": true,
    "slideshow": {
     "slide_type": ""
    }
   },
   "outputs": [],
   "source": [
    "inf = float('inf')\n",
    "nan = float('NaN')\n",
    "isclose(inf, inf) and isclose(-inf, -inf) and not isclose(nan, nan) "
   ]
  },
  {
   "cell_type": "markdown",
   "id": "ad934079",
   "metadata": {
    "editable": true,
    "slideshow": {
     "slide_type": ""
    }
   },
   "source": [
    "Although there is no `isclose` function readily available in C++, it is not difficult to implement it. [](#code_fast_inv_sqrt2) implements it with the help of the [*conditional/ternary operator*](https://en.cppreference.com/w/cpp/language/operator_other.html#Conditional_operator):\n",
    "```cpp\n",
    "x>0 ? x : -x\n",
    "```\n",
    "The above is analogous to the conditional expression `x if x>0 else -x` in Python, which evaluates to the absolute value of `x`."
   ]
  },
  {
   "cell_type": "markdown",
   "id": "c14cd5e9",
   "metadata": {
    "editable": true,
    "slideshow": {
     "slide_type": ""
    }
   },
   "source": [
    "::::{exercise}\n",
    ":label: ex:inv_sqrt_if\n",
    "\n",
    "Explain how the `if` statement in [](#code_fast_inv_sqrt2) decides whether the answer is inaccurate. \n",
    "\n",
    ":::{caution}\n",
    "\n",
    "Remember to explain the purpose of `y<0 || x_!=x && ...` as well.\n",
    "\n",
    ":::\n",
    "\n",
    "::::"
   ]
  },
  {
   "cell_type": "markdown",
   "id": "e273f63e",
   "metadata": {
    "deletable": false,
    "editable": true,
    "nbgrader": {
     "cell_type": "markdown",
     "checksum": "6235e4157655b7531ec6f74f8808ec63",
     "grade": true,
     "grade_id": "inv_sqrt_if",
     "locked": false,
     "points": 0,
     "schema_version": 3,
     "solution": true,
     "task": false
    },
    "slideshow": {
     "slide_type": ""
    }
   },
   "source": [
    "YOUR ANSWER HERE"
   ]
  },
  {
   "cell_type": "markdown",
   "id": "498ed3f7",
   "metadata": {
    "editable": true,
    "slideshow": {
     "slide_type": ""
    }
   },
   "source": [
    "Unlike the conditional expression in Python, the conditional operator in C++ has to decide on the resulting data type based on the types of the operands, since C++ is statically typed."
   ]
  },
  {
   "cell_type": "code",
   "execution_count": null,
   "id": "7535caba",
   "metadata": {
    "editable": true,
    "slideshow": {
     "slide_type": ""
    }
   },
   "outputs": [],
   "source": [
    "%%cpp\n",
    "true? 'a': 1L                           // why returns a `long`"
   ]
  },
  {
   "cell_type": "code",
   "execution_count": null,
   "id": "48c14cd8",
   "metadata": {
    "editable": true,
    "slideshow": {
     "slide_type": ""
    }
   },
   "outputs": [],
   "source": [
    "%%cpp\n",
    "false? 'a': false                       // why returns an `int`"
   ]
  },
  {
   "cell_type": "markdown",
   "id": "acd10b9e",
   "metadata": {
    "editable": true,
    "slideshow": {
     "slide_type": ""
    }
   },
   "source": [
    "As another example, the conditional expression in [](#code_undecimal1)\n",
    "\n",
    "```cpp\n",
    "value *= value<=m2 ? 11 : throw runtime_error(\"The value is too big.\");\n",
    "```\n",
    "\n",
    "increases `value` by a factor of `11` only if there is no overflow. Otherwise, the [`throw` expression](https://en.cppreference.com/w/cpp/language/throw.html#throw_expressions) will raise a runtime error and transfers the control to an exception handler, and if not handled, exits the program with an error message saying that \"The value is too big.\"[^throw] The assignment works because the conditional expression has type `int` even though the type of the `throw` expression is [`void`](https://en.cppreference.com/w/cpp/language/types.html#void):\n",
    "\n",
    "[^throw]: `throw` in C++ is similar to `raise` in Python except that `raise` is used in a statement instead of an expression."
   ]
  },
  {
   "cell_type": "code",
   "execution_count": null,
   "id": "0adfa0c1",
   "metadata": {
    "editable": true,
    "slideshow": {
     "slide_type": ""
    }
   },
   "outputs": [],
   "source": [
    "%%cpp\n",
    "true? 11 : throw"
   ]
  },
  {
   "cell_type": "markdown",
   "id": "d85c8d0e",
   "metadata": {
    "editable": true,
    "slideshow": {
     "slide_type": ""
    }
   },
   "source": [
    "In constrast, the following code fails because of incompatible operand types.\n",
    "\n",
    "```cpp\n",
    "value<=m2 ? 11 : cerr << \"The value is too big.\";\n",
    "```\n",
    "\n",
    "Unlike `throw`, the expression above is not void, but rather, the same type as that of `cerr` (to allow the operator `<<` to be chained.) This case is not handled by the conditional operator, resulting in an error."
   ]
  },
  {
   "cell_type": "code",
   "execution_count": null,
   "id": "ccdb857a",
   "metadata": {
    "editable": true,
    "slideshow": {
     "slide_type": ""
    },
    "tags": [
     "skip-execution"
    ]
   },
   "outputs": [],
   "source": [
    "%%ai\n",
    "Explain very briefly how the resulting type of a conditional operator in C++ is\n",
    "determined. Give concrete examples."
   ]
  },
  {
   "cell_type": "markdown",
   "id": "9d48f108",
   "metadata": {
    "editable": true,
    "slideshow": {
     "slide_type": ""
    }
   },
   "source": [
    "### `switch` statement"
   ]
  },
  {
   "cell_type": "markdown",
   "id": "f33380c7",
   "metadata": {
    "editable": true,
    "slideshow": {
     "slide_type": ""
    }
   },
   "source": [
    "Other than the `if` statement, C++ provides another conditional statement called the [`switch` statement](https://en.cppreference.com/w/cpp/language/switch.html), which acts like the `match` statement in Python to switch execution among possibly more than two cases."
   ]
  },
  {
   "cell_type": "markdown",
   "id": "7fe42c02",
   "metadata": {
    "editable": true,
    "slideshow": {
     "slide_type": ""
    }
   },
   "source": [
    "For instance, [](#code_undecimal1) uses the switch statement to convert a digit in a undecimal string to an integer value:\n",
    "\n",
    "```cpp\n",
    "...\n",
    "    switch (unsigned char c=s[i]) {   // condition in the form of a character declaration\n",
    "    case 'X':                // case label X\n",
    "        [[fallthrough]];     // attribute to silent warning\n",
    "    case 'x':\n",
    "        ...\n",
    "        break;               // terminate the switch statement\n",
    "    default:                 // default label\n",
    "        ...\n",
    "    }\n",
    "...\n",
    "```"
   ]
  },
  {
   "cell_type": "markdown",
   "id": "6f69be0b",
   "metadata": {
    "editable": true,
    "slideshow": {
     "slide_type": ""
    }
   },
   "source": [
    "Similar to the `if` statement, the condition in a `switch` statement is \n",
    "\n",
    "- enclosed in parentheses and,\n",
    "- optionally, follows an initialization of any number of variables of the same type."
   ]
  },
  {
   "cell_type": "markdown",
   "id": "70d76724",
   "metadata": {
    "editable": true,
    "slideshow": {
     "slide_type": ""
    }
   },
   "source": [
    "However, unlike the `if` statement, where the condition is expected to be a boolean expression, the `switch` statement allows the condition to be of\n",
    "- an integral type (such as `int`, `char`, `short`, `long`),\n",
    "- an enumeration type (such as `enum`, `enum class`, `enum class`), or\n",
    "- a class type that can be implicitly converted to an integral or enumeration type."
   ]
  },
  {
   "cell_type": "markdown",
   "id": "a040a34e",
   "metadata": {
    "editable": true,
    "slideshow": {
     "slide_type": ""
    }
   },
   "source": [
    "The condition can even be a variable declaration like `(auto c=s[i])` above."
   ]
  },
  {
   "cell_type": "markdown",
   "id": "c28841f9",
   "metadata": {
    "editable": true,
    "slideshow": {
     "slide_type": ""
    }
   },
   "source": [
    "The body of the `switch` statement is typically a compound statement containing \n",
    "\n",
    "- several `case` labels, and\n",
    "- optionally a `default` label"
   ]
  },
  {
   "cell_type": "markdown",
   "id": "d0ad88df",
   "metadata": {
    "editable": true,
    "slideshow": {
     "slide_type": ""
    }
   },
   "source": [
    "When a switch statement is executed:\n",
    "\n",
    "1. The control is passed to the first `case` label that matches the value of the condition.\n",
    "2. If no such match exists, the control is passed to the `default` label. A [`break` statement](https://en.cppreference.com/w/cpp/language/break.html) can be used to terminate the `switch` statement.\n",
    "3. Otherwise, the control will continue to flow to other cases after the matched case. Such a fall through may trigger a warning, but the attribute [`[[fallthrough]]`](https://en.cppreference.com/w/cpp/language/attributes/fallthrough.html) introduced in C++17 can be used to silence the warning."
   ]
  },
  {
   "cell_type": "markdown",
   "id": "4c5ce7cf",
   "metadata": {
    "editable": true,
    "slideshow": {
     "slide_type": ""
    }
   },
   "source": [
    "::::{exercise}\n",
    ":label: ex:switch\n",
    "\n",
    "Explain how the `switch` statement in [](#code_undecimal1) converts a digit in the undecimal string to its decimal value.\n",
    "\n",
    "::::"
   ]
  },
  {
   "cell_type": "markdown",
   "id": "492d9fa1",
   "metadata": {
    "deletable": false,
    "editable": true,
    "nbgrader": {
     "cell_type": "markdown",
     "checksum": "2b0d5e71c9ae23e0159797c47718fcab",
     "grade": true,
     "grade_id": "switch",
     "locked": false,
     "points": 0,
     "schema_version": 3,
     "solution": true,
     "task": false
    },
    "slideshow": {
     "slide_type": ""
    }
   },
   "source": [
    "YOUR ANSWER HERE"
   ]
  },
  {
   "cell_type": "markdown",
   "id": "62ce45d1",
   "metadata": {
    "editable": true,
    "slideshow": {
     "slide_type": ""
    }
   },
   "source": [
    "Another way to write the `switch` statement is as follows:"
   ]
  },
  {
   "cell_type": "code",
   "execution_count": null,
   "id": "4e73aaa5",
   "metadata": {
    "editable": true,
    "slideshow": {
     "slide_type": ""
    }
   },
   "outputs": [],
   "source": [
    "%%cpp\n",
    "auto s=\"1X2X3x\";  // input undecimal string\n",
    "\n",
    "unsigned long long value;\n",
    "unsigned char c;\n",
    "constexpr auto m=-1uL;\n",
    "for (unsigned long long i=0uLL, length=strlen(s); i < length; ++i) {\n",
    "    switch (s[i]) {\n",
    "    case '0': c = 0; break;\n",
    "    case '1': c = 1; break;\n",
    "    case '2': c = 2; break;\n",
    "    case '3': c = 3; break;\n",
    "    case '4': c = 4; break;\n",
    "    case '5': c = 5; break;\n",
    "    case '6': c = 6; break;\n",
    "    case '7': c = 7; break;\n",
    "    case '8': c = 8; break;\n",
    "    case '9': c = 9; break;\n",
    "    case 'X': [[fallthrough]];\n",
    "    case 'x': c = 10; break;\n",
    "    default: throw runtime_error(\"Invalid character found.\");\n",
    "    }\n",
    "    value<=(m-c)/11 ? value=value*11+c : throw runtime_error(\"The value is too big.\");\n",
    "}\n",
    "cout << format(\"Decimal value of the undecimal {} is {}.\\n\", s, value);"
   ]
  },
  {
   "cell_type": "markdown",
   "id": "2e2e3a1a",
   "metadata": {
    "editable": true,
    "slideshow": {
     "slide_type": ""
    }
   },
   "source": [
    "::::{exercise}\n",
    ":label: ex:undecimal_alt\n",
    "\n",
    "Is the above program more efficient than [](#code_undecimal1) in coverting an undecimal string of all `9`'s such as\n",
    "\n",
    "> \"999999999999999999\"\n",
    "\n",
    "::::"
   ]
  },
  {
   "cell_type": "markdown",
   "id": "4c1d4d1e",
   "metadata": {
    "deletable": false,
    "editable": true,
    "nbgrader": {
     "cell_type": "markdown",
     "checksum": "2c1c83dc0a8bbd526d127af674920cb1",
     "grade": true,
     "grade_id": "undecimal_alt",
     "locked": false,
     "points": 0,
     "schema_version": 3,
     "solution": true,
     "task": false
    },
    "slideshow": {
     "slide_type": ""
    }
   },
   "source": [
    "YOUR ANSWER HERE"
   ]
  },
  {
   "cell_type": "code",
   "execution_count": null,
   "id": "485b6452",
   "metadata": {
    "editable": true,
    "slideshow": {
     "slide_type": ""
    }
   },
   "outputs": [],
   "source": [
    "%%cpp\n",
    "auto s=\"1X2X3x\";  // input undecimal string\n",
    "\n",
    "auto value=0uLL;\n",
    "constexpr auto m1=-1uLL, m2=m1/11, m3=m1-10;\n",
    "for (size_t i=0, length=strlen(s); i < length; ++i) {\n",
    "    value<=m2 ? value*=11 : throw runtime_error(\"The value is too big.\");\n",
    "    switch (unsigned char c=s[i]) {\n",
    "    case 'X':\n",
    "        [[fallthrough]];\n",
    "    case 'x':\n",
    "        value<=m3 ? value+=10 : throw runtime_error(\"The value is too big.\");\n",
    "        break;\n",
    "    default:\n",
    "        if ((c=s[i]-'0')>9) throw runtime_error(\"Invalid character found.\");\n",
    "        value<=m1-c? value+=c : throw runtime_error(\"The value is too big.\");\n",
    "    }\n",
    "}\n",
    "cout << format(\"Decimal value of the undecimal {} is {}.\\n\", s, value);"
   ]
  },
  {
   "cell_type": "markdown",
   "id": "8219c968",
   "metadata": {
    "editable": true,
    "slideshow": {
     "slide_type": ""
    }
   },
   "source": [
    "To show how the `switch` statement can be applied to enumerations, recall the TVL enumeration:"
   ]
  },
  {
   "cell_type": "code",
   "execution_count": null,
   "id": "03717c3c",
   "metadata": {
    "editable": true,
    "slideshow": {
     "slide_type": ""
    }
   },
   "outputs": [],
   "source": [
    "%%cpp\n",
    "enum class TVL {\n",
    "    UNKNOWN=-1, U=UNKNOWN,\n",
    "    FALSE=0, F=FALSE,\n",
    "    TRUE=1, T=TRUE\n",
    "}"
   ]
  },
  {
   "cell_type": "markdown",
   "id": "8ff1e435",
   "metadata": {
    "editable": true,
    "slideshow": {
     "slide_type": ""
    }
   },
   "source": [
    "The following code randomly assign a TVL value to `a`:"
   ]
  },
  {
   "cell_type": "code",
   "execution_count": null,
   "id": "629f8b11",
   "metadata": {
    "editable": true,
    "slideshow": {
     "slide_type": ""
    }
   },
   "outputs": [],
   "source": [
    "%%cpp\n",
    "TVL a;\n",
    "switch (rand() % 3-1) {\n",
    "case 0: a=TVL::F; break;\n",
    "case 1: a=TVL::T; break;\n",
    "default: a=TVL::U;\n",
    "}\n",
    "a"
   ]
  },
  {
   "cell_type": "markdown",
   "id": "30d615dd",
   "metadata": {
    "editable": true,
    "slideshow": {
     "slide_type": ""
    }
   },
   "source": [
    "::::{exercise}\n",
    ":label: ex:rand_TVL\n",
    "\n",
    "Explain whether we can simplify the above code to\n",
    "\n",
    "```cpp\n",
    "TVL a = rand()%3 - 1;\n",
    "```\n",
    "\n",
    "::::"
   ]
  },
  {
   "cell_type": "markdown",
   "id": "8957b257",
   "metadata": {
    "deletable": false,
    "editable": true,
    "nbgrader": {
     "cell_type": "markdown",
     "checksum": "639debabd12f337e8973f664ccd8c821",
     "grade": true,
     "grade_id": "rand_TVL",
     "locked": false,
     "points": 0,
     "schema_version": 3,
     "solution": true,
     "task": false
    },
    "slideshow": {
     "slide_type": ""
    }
   },
   "source": [
    "YOUR ANSWER HERE"
   ]
  },
  {
   "cell_type": "markdown",
   "id": "0fa49b5d",
   "metadata": {
    "editable": true,
    "slideshow": {
     "slide_type": ""
    }
   },
   "source": [
    "The following code implements the logical NOT operation on the randomly drawn value in `a`:"
   ]
  },
  {
   "cell_type": "code",
   "execution_count": null,
   "id": "9eae63d9",
   "metadata": {
    "editable": true,
    "slideshow": {
     "slide_type": ""
    }
   },
   "outputs": [],
   "source": [
    "%%cpp\n",
    "TVL b;\n",
    "switch (a) {\n",
    "case TVL::F: b=TVL::T; break;\n",
    "case TVL::T: b=TVL::F; break;\n",
    "default: b=a;\n",
    "}\n",
    "b"
   ]
  },
  {
   "cell_type": "markdown",
   "id": "9c35c6c2",
   "metadata": {
    "editable": true,
    "slideshow": {
     "slide_type": ""
    }
   },
   "source": [
    "::::{exercise}\n",
    ":label: ex:switch_on_ordering\n",
    "\n",
    "The following code tries to compares two randomly drawn integers `a` and `b`:\n",
    "\n",
    "```cpp\n",
    "int a=rand(), b=rand();\n",
    "switch (auto order=a<=>b; order) {\n",
    "case strong_ordering::equal:\n",
    "    cout << \"a == b\\n\";\n",
    "    break;\n",
    "case strong_ordering::less:\n",
    "    cout << \"a < b\\n\";\n",
    "    break;\n",
    "default:\n",
    "    cout << \"a > b\\n\";\n",
    "}\n",
    "```\n",
    "\n",
    "What is wrong with the code?\n",
    "\n",
    "::::"
   ]
  },
  {
   "cell_type": "markdown",
   "id": "72a04f30",
   "metadata": {
    "deletable": false,
    "editable": true,
    "nbgrader": {
     "cell_type": "markdown",
     "checksum": "dd724e4d5a0aa5573d4abdb078d1fd5b",
     "grade": true,
     "grade_id": "switch_on_ordering",
     "locked": false,
     "points": 0,
     "schema_version": 3,
     "solution": true,
     "task": false
    },
    "slideshow": {
     "slide_type": ""
    }
   },
   "source": [
    "YOUR ANSWER HERE"
   ]
  },
  {
   "cell_type": "markdown",
   "id": "265488b1",
   "metadata": {
    "editable": true,
    "slideshow": {
     "slide_type": ""
    }
   },
   "source": [
    "## Iteration"
   ]
  },
  {
   "cell_type": "markdown",
   "id": "328f117c",
   "metadata": {
    "editable": true,
    "slideshow": {
     "slide_type": ""
    }
   },
   "source": [
    "### `while` loop"
   ]
  },
  {
   "cell_type": "markdown",
   "id": "3b2a0925",
   "metadata": {
    "editable": true,
    "slideshow": {
     "slide_type": ""
    }
   },
   "source": [
    "Consider [](#code_gcd3) for computing the GCD iteratively:\n",
    "\n",
    "```cpp\n",
    "int c;\n",
    "while (a) {  // execute repeatedly as long as a is non-zero\n",
    "    ...\n",
    "}\n",
    "...\n",
    "```"
   ]
  },
  {
   "cell_type": "markdown",
   "id": "316d759f",
   "metadata": {
    "editable": true,
    "slideshow": {
     "slide_type": ""
    }
   },
   "source": [
    "This is almost the same as its previous version [](#code_gcd2) except that:\n",
    "1. The `if` keyword is changed to the `while` keyword so the body of the [`while` loop](https://en.cppreference.com/w/cpp/language/while.html) gets executed repeatedly as long as the condition holds, i.e., `a` is non-zero.\n",
    "2. The declaration `int c;` is moved out of the local scope to avoid repeated declarations.\n",
    "\n",
    "::::{caution}\n",
    "\n",
    "A simple line of redundant code in an iteration can be costly since it may run many times."
   ]
  },
  {
   "cell_type": "markdown",
   "id": "5b110fdd",
   "metadata": {
    "editable": true,
    "slideshow": {
     "slide_type": ""
    }
   },
   "source": [
    "Consider [](#code_fast_inv_sqrt3) for computing the inverse square root iteratively:\n",
    "```cpp\n",
    "...\n",
    "double x_, gap, abs_x, abs_x_;\n",
    "do {\n",
    "    ...\n",
    "    x_=1/y/y; gap=(x>x_)?(x-x_):(x_-x); abs_x=(x>0?x:-x); abs_x_=(x_>0?x_:-x_);\n",
    "} while (y<0 || x_!=x && gap > 1e-9*(abs_x>abs_x_?abs_x:abs_x_));  // repeat if inaccurate\n",
    "```\n",
    "\n",
    "Instead of a while loop, the code uses a [`do-while`](https://en.cppreference.com/w/c/language/do.html) loop, where the looping condition is checked after the execution of the body. This ensures that the accuracy is checked after the answer is updated."
   ]
  },
  {
   "cell_type": "markdown",
   "id": "f660add6",
   "metadata": {
    "editable": true,
    "slideshow": {
     "slide_type": ""
    }
   },
   "source": [
    "When compared to the previous version [](#code_fast_inv_sqrt2):\n",
    "\n",
    "1. The declaration `double x_, gap, abs_x, abs_x_;` has moved out of the local scope because `while`/`do-while` loop does not support initializer in the condition, and even if it does support, the repeated declaration is redundant.\n",
    "2. The update rule is modified to use the constant `x2` and constant expression `threehalfs` to avoid repeated calculations and speed up the access to the values.\n",
    "    ```cpp\n",
    "    constexpr auto threehalfs = 1.5, rel_tol = 1e-9;\n",
    "    const auto x2 = x*0.5;\n",
    "    auto x2 = x*0.5;\n",
    "    double x_, gap, abs_x, abs_x_;\n",
    "    ...\n",
    "        y = y * (threehalfs - (x2 * y * y));\n",
    "        ...\n",
    "    ```"
   ]
  },
  {
   "cell_type": "markdown",
   "id": "d30ec08b",
   "metadata": {
    "editable": true,
    "slideshow": {
     "slide_type": ""
    }
   },
   "source": [
    "::::{exercise}\n",
    ":label: ex:y2\n",
    "\n",
    "Why not define `auto y2 = y * y` to save some more computations in the update rule?\n",
    "\n",
    "```cpp\n",
    "y = y * (threehalfs - (x2 * y2))\n",
    "```\n",
    "::::"
   ]
  },
  {
   "cell_type": "markdown",
   "id": "ed562b85",
   "metadata": {
    "deletable": false,
    "editable": true,
    "nbgrader": {
     "cell_type": "markdown",
     "checksum": "7c3ff2cc361bd55cd24fa36477ad3897",
     "grade": true,
     "grade_id": "y2",
     "locked": false,
     "points": 0,
     "schema_version": 3,
     "solution": true,
     "task": false
    },
    "slideshow": {
     "slide_type": ""
    }
   },
   "source": [
    "YOUR ANSWER HERE"
   ]
  },
  {
   "cell_type": "markdown",
   "id": "99cceb27",
   "metadata": {
    "editable": true,
    "slideshow": {
     "slide_type": ""
    }
   },
   "source": [
    "### `for` loop"
   ]
  },
  {
   "cell_type": "markdown",
   "id": "5a0d350b",
   "metadata": {
    "editable": true,
    "slideshow": {
     "slide_type": ""
    }
   },
   "source": [
    "Instead of a `while` loop, [](#code_undecimal1) uses a [`for` loop](https://en.cppreference.com/w/cpp/language/for.html):\n",
    "\n",
    "```cpp\n",
    "...\n",
    "for (size_t i=0, length=strlen(s); i < length; ++i) {\n",
    "    ...\n",
    "}\n",
    "```\n",
    "\n",
    "This can be rewritten as a while loop:\n",
    "\n",
    "```cpp\n",
    "...\n",
    "{\n",
    "    size_t i=0, length=strlen(s);\n",
    "    while (i < length) {\n",
    "        ...\n",
    "        ++i;\n",
    "    }\n",
    "}\n",
    "```"
   ]
  },
  {
   "cell_type": "markdown",
   "id": "89462a4f",
   "metadata": {
    "editable": true,
    "slideshow": {
     "slide_type": ""
    }
   },
   "source": [
    "::::{caution}\n",
    "\n",
    "`for` loop is often preferred as it is easier to read and safer to write. E.g., in the above example, it is easier to forget to increment `i` in the `while` loop, resulting in an infinite loop.\n",
    "\n",
    "::::"
   ]
  },
  {
   "cell_type": "markdown",
   "id": "19e3b280",
   "metadata": {
    "editable": true,
    "slideshow": {
     "slide_type": ""
    }
   },
   "source": [
    "C++11 introduced a less error prone [range-based `for` loop](https://en.cppreference.com/w/cpp/language/range-for.html):"
   ]
  },
  {
   "cell_type": "code",
   "execution_count": null,
   "id": "4328f504",
   "metadata": {
    "editable": true,
    "slideshow": {
     "slide_type": ""
    }
   },
   "outputs": [],
   "source": [
    "%%cpp\n",
    "for (int i : {0, 1, 2, 3, 4}) cout << i << '\\n';"
   ]
  },
  {
   "cell_type": "markdown",
   "id": "c72764ba",
   "metadata": {
    "editable": true,
    "slideshow": {
     "slide_type": ""
    }
   },
   "source": [
    "The `for` loop declares `i` to take a value from the initializer list `{0, 1, 2, 3, 4}` one-by-one for each iteration. This is analogous to the Python code:"
   ]
  },
  {
   "cell_type": "code",
   "execution_count": null,
   "id": "f622bbe8",
   "metadata": {
    "editable": true,
    "slideshow": {
     "slide_type": ""
    }
   },
   "outputs": [],
   "source": [
    "for i in 0, 1, 2, 3, 4:\n",
    "    print(i)"
   ]
  },
  {
   "cell_type": "markdown",
   "id": "3a15fb2b",
   "metadata": {
    "editable": true,
    "slideshow": {
     "slide_type": ""
    }
   },
   "source": [
    "C++20 also introduced [`<ranges>`](https://en.cppreference.com/w/cpp/ranges.html) that makes the range of items more composable and lightweight:"
   ]
  },
  {
   "cell_type": "code",
   "execution_count": null,
   "id": "f3029080",
   "metadata": {
    "editable": true,
    "slideshow": {
     "slide_type": ""
    }
   },
   "outputs": [],
   "source": [
    "%%cpp\n",
    "for (int i : views::iota(0, 5))\n",
    "    cout << i << '\\n';\n",
    "views::iota(0, 5)"
   ]
  },
  {
   "cell_type": "markdown",
   "id": "5969488d",
   "metadata": {
    "editable": true,
    "slideshow": {
     "slide_type": ""
    }
   },
   "source": [
    "[`std::views::iota(0, 5)`](https://en.cppreference.com/w/cpp/ranges/iota_view.html) from `<ranges>` specifies the sequence of integers from `0` up to but excluding `5`, like `range` in Python code:"
   ]
  },
  {
   "cell_type": "code",
   "execution_count": null,
   "id": "0d48bc36",
   "metadata": {
    "editable": true,
    "slideshow": {
     "slide_type": ""
    }
   },
   "outputs": [],
   "source": [
    "for i in range(5):\n",
    "    print(i)\n",
    "range(5)"
   ]
  },
  {
   "cell_type": "markdown",
   "id": "d4ffb7a5",
   "metadata": {
    "editable": true,
    "slideshow": {
     "slide_type": ""
    }
   },
   "source": [
    "Finally, [](#code_prime_factor1) uses a nested `for` loop to print the prime factors:\n",
    "\n",
    "```cpp\n",
    "for (auto p=2; p<=n; p++) {     // check candidate factors from 2 to n\n",
    "    ...\n",
    "    for (auto d=2uLL; d*d<=p; d++)  // check candidate divisors\n",
    "        ...\n",
    "    ...\n",
    "}\n",
    "```"
   ]
  },
  {
   "cell_type": "markdown",
   "id": "aaad8df3",
   "metadata": {
    "editable": true,
    "slideshow": {
     "slide_type": ""
    }
   },
   "source": [
    "For each number `p` from 2 to `n`, it checks whether `p` is divisible by a number `d` from 2 up to the integer square root of `p`, using the condition `d*d<=p`."
   ]
  },
  {
   "cell_type": "markdown",
   "id": "66f8eb4e",
   "metadata": {
    "editable": true,
    "slideshow": {
     "slide_type": ""
    }
   },
   "source": [
    "In the outer loop, it uses the  [`continue` statement](https://en.cppreference.com/w/cpp/language/continue.html) to continue to the next iteration:\n",
    "\n",
    "```cpp\n",
    "for (auto p=2; p<=n; p++) {     // check candidate factors from 2 to n\n",
    "    if (n%p) continue;          // continue to the next factor\n",
    "    ... // code skipped by `continue`\n",
    "}\n",
    "```\n",
    "\n",
    "This is equivalent to\n",
    "\n",
    "```cpp\n",
    "for (auto p=2; p<=n; p++) {     // check candidate factors from 2 to n\n",
    "    if (!n%p) {\n",
    "        ... // code skipped by `continue`\n",
    "    }\n",
    "}\n",
    "```"
   ]
  },
  {
   "cell_type": "markdown",
   "id": "3cb0506a",
   "metadata": {
    "editable": true,
    "slideshow": {
     "slide_type": ""
    }
   },
   "source": [
    "::::{exercise}\n",
    ":label: ex:continue\n",
    "In [](#code_prime_factor1), why is it okay to continue to the next outer loop under the condition `n%p`?\n",
    "\n",
    "::::"
   ]
  },
  {
   "cell_type": "markdown",
   "id": "245e5b42",
   "metadata": {
    "deletable": false,
    "editable": true,
    "nbgrader": {
     "cell_type": "markdown",
     "checksum": "1f2844fd8675b61506a44954b965892f",
     "grade": true,
     "grade_id": "continue",
     "locked": false,
     "points": 0,
     "schema_version": 3,
     "solution": true,
     "task": false
    },
    "slideshow": {
     "slide_type": ""
    }
   },
   "source": [
    "YOUR ANSWER HERE"
   ]
  },
  {
   "cell_type": "markdown",
   "id": "f3a29747",
   "metadata": {
    "editable": true,
    "slideshow": {
     "slide_type": ""
    }
   },
   "source": [
    "In the inner loop, it uses the [`break` statement](https://en.cppreference.com/w/cpp/language/break.html) to terminate the inner loop:\n",
    "\n",
    "```cpp\n",
    "    ...\n",
    "    for (auto d=2uLL; d*d<=p; d++)  // check candidate divisors\n",
    "        if (p%d==0) {           // divisor found for `p`\n",
    "            ...\n",
    "            break;              // break to skip the test of other divisors\n",
    "        }\n",
    "    ... // `break` transfers the control to here\n",
    "```\n",
    "\n",
    "::::{caution}\n",
    "\n",
    "A `break` statement can only terminate the closest enclosing loop or a `switch` statement. An enclosing `if` statement does not count, i.e., the following code will fail：\n",
    "```cpp\n",
    "if (true) break;\n",
    "```\n",
    "::::"
   ]
  },
  {
   "cell_type": "markdown",
   "id": "3e8d767b",
   "metadata": {
    "editable": true,
    "slideshow": {
     "slide_type": ""
    }
   },
   "source": [
    "The code also uses a flag `isprime` to keep track of the primality of `p` to decide whether to print it as a prime factor later:\n",
    "\n",
    "```cpp\n",
    "    ...\n",
    "    bool isprime=true;          // a flag to keep track of the primality\n",
    "    for (auto d=2uLL; d*d<=p; d++)  // check candidate divisors\n",
    "        if (p%d==0) {           // divisor found for `p`\n",
    "            isprime=false;\n",
    "            break;              // break to skip the test of other divisors\n",
    "        }\n",
    "    if (isprime) cout << p << '\\n'; // prime factor found\n",
    "    ...\n",
    "```"
   ]
  },
  {
   "cell_type": "markdown",
   "id": "23e2d4b3",
   "metadata": {
    "editable": true,
    "slideshow": {
     "slide_type": ""
    }
   },
   "source": [
    "::::{exercise} \n",
    ":label: ex:prime_factors1\n",
    "\n",
    "How does the following code improve [](#code_prime_factor1) in computing the prime factors? \n",
    "\n",
    ":::{note}\n",
    "\n",
    "The code takes about 20 seconds to factor `n`, which is a product of two large [Mersenne primes](https://en.wikipedia.org/wiki/Mersenne_prime).\n",
    "\n",
    ":::\n",
    "\n",
    "::::"
   ]
  },
  {
   "cell_type": "code",
   "execution_count": null,
   "id": "eb0b21ea",
   "metadata": {},
   "outputs": [],
   "source": [
    "%%cpp\n",
    "auto n = 524287uLL*2147483647uLL;  // input\n",
    "\n",
    "cout << format(\"Distinct prime factors of {} in ascending order:\\n\", n);\n",
    "for (auto p=2uLL; p<=n; p++) {\n",
    "    if (!(n%p)) {\n",
    "        cout << p << '\\n';\n",
    "        do n/=p; while (!(n%p));\n",
    "    }\n",
    "}"
   ]
  },
  {
   "cell_type": "markdown",
   "id": "913b4051",
   "metadata": {
    "deletable": false,
    "editable": true,
    "nbgrader": {
     "cell_type": "markdown",
     "checksum": "01da8fb3a29b1f71cc527a976f9ddb29",
     "grade": true,
     "grade_id": "prime_factors1",
     "locked": false,
     "points": 0,
     "schema_version": 3,
     "solution": true,
     "task": false
    },
    "slideshow": {
     "slide_type": ""
    }
   },
   "source": [
    "YOUR ANSWER HERE"
   ]
  },
  {
   "cell_type": "markdown",
   "id": "608ece91",
   "metadata": {},
   "source": [
    "::::{exercise}\n",
    ":label: ex:prime_factors2\n",
    "\n",
    "How does the following code further improves the computation of prime factors?\n",
    "\n",
    ":::{caution}\n",
    "\n",
    "The correctness of the code relies on the fact that the maximum value for `unsigned long long` is not a prime number. Why?\n",
    "\n",
    ":::\n",
    "\n",
    "::::"
   ]
  },
  {
   "cell_type": "code",
   "execution_count": null,
   "id": "ce13ec51",
   "metadata": {},
   "outputs": [],
   "source": [
    "%%cpp\n",
    "auto n = 524287uLL*2147483647uLL;  // input\n",
    "cout << format(\"Distinct prime factors of {} in ascending order:\\n\", n);\n",
    "\n",
    "for (auto p=2uLL; p*p<=n; p++) {\n",
    "    if (!(n%p)) {\n",
    "        cout << p << '\\n';\n",
    "        do n/=p; while (!(n%p));\n",
    "    }\n",
    "}\n",
    "if (n>1) cout << n << '\\n';"
   ]
  },
  {
   "cell_type": "markdown",
   "id": "c9c4f19c",
   "metadata": {
    "deletable": false,
    "nbgrader": {
     "cell_type": "markdown",
     "checksum": "c6c2f3adec3736931453524e02768abe",
     "grade": true,
     "grade_id": "prime_factors2",
     "locked": false,
     "points": 0,
     "schema_version": 3,
     "solution": true,
     "task": false
    }
   },
   "source": [
    "YOUR ANSWER HERE"
   ]
  },
  {
   "cell_type": "code",
   "execution_count": null,
   "id": "43b935fc",
   "metadata": {},
   "outputs": [],
   "source": [
    "%%ai\n",
    "Explain briefly how to use techniques such as wheel factorization to further \n",
    "improve the computation of prime factors?"
   ]
  }
 ],
 "metadata": {
  "jupytext": {
   "default_lexer": "ipython3"
  },
  "kernelspec": {
   "display_name": "Python 3 (ipykernel)",
   "language": "python",
   "name": "python3"
  }
 },
 "nbformat": 4,
 "nbformat_minor": 5
}
