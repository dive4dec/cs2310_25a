{
 "cells": [
  {
   "cell_type": "markdown",
   "id": "a4e0183a",
   "metadata": {
    "editable": true,
    "slideshow": {
     "slide_type": ""
    }
   },
   "source": [
    "---\n",
    "title: Composite Data\n",
    "abstract: |\n",
    "    Instead of managing individual variables separately, composite data types enable developers to bundle related data together and access them conveniently. This concept is essential for modeling complex information and reducing redundancy. In this notebook, we will explore ordered sequences including fixed-length arrays and variable-length vectors in C++.\n",
    "math:\n",
    "    '\\abs': '\\left\\lvert #1 \\right\\rvert'\n",
    "    '\\norm': '\\left\\lVert #1 \\right\\rVert'\n",
    "    '\\Set': '\\left\\{ #1 \\right\\}'\n",
    "    '\\set': '\\operatorname{set}'   \n",
    "    '\\mc': '\\mathcal{#1}'\n",
    "    '\\M': '\\boldsymbol{#1}'\n",
    "    '\\R': '\\mathsf{#1}'\n",
    "    '\\RM': '\\boldsymbol{\\mathsf{#1}}'\n",
    "    '\\op': '\\operatorname{#1}'\n",
    "    '\\E': '\\op{E}'\n",
    "    '\\d': '\\mathrm{\\mathstrut d}'\n",
    "    '\\SFM': '\\operatorname{SFM}'\n",
    "    '\\utag': '\\stackrel{\\text{(#1)}}{#2}'\n",
    "    '\\uref': '\\text{(#1)}'\n",
    "    '\\minimal': '\\operatorname{minimal}'\n",
    "skip_execution: true\n",
    "---"
   ]
  },
  {
   "cell_type": "code",
   "execution_count": null,
   "id": "ca8242fd",
   "metadata": {
    "editable": true,
    "slideshow": {
     "slide_type": ""
    }
   },
   "outputs": [],
   "source": [
    "from __init__ import *\n",
    "%reload_ext divewidgets"
   ]
  },
  {
   "cell_type": "code",
   "execution_count": null,
   "id": "b5aafdf1",
   "metadata": {
    "editable": true,
    "slideshow": {
     "slide_type": ""
    },
    "tags": [
     "skip-execution"
    ]
   },
   "outputs": [],
   "source": [
    "if not input('Load JupyterAI? [Y/n]').lower()=='n':\n",
    "    %reload_ext jupyter_ai"
   ]
  },
  {
   "cell_type": "markdown",
   "id": "12a44313",
   "metadata": {},
   "source": [
    "## Motivation"
   ]
  },
  {
   "cell_type": "markdown",
   "id": "6e867f89",
   "metadata": {},
   "source": [
    "Composite data refers to structured groupings of multiple values under a single entity, allowing for more organized and efficient data handling.  In this notebook, we will explore ordered sequences including fixed-length arrays and variable-length vectors in C++. Let us begin with some motivating examples."
   ]
  },
  {
   "cell_type": "markdown",
   "id": "477b8aa4",
   "metadata": {},
   "source": [
    "### Cross Product"
   ]
  },
  {
   "cell_type": "markdown",
   "id": "d321c814",
   "metadata": {},
   "source": [
    "Consider computing the [cross product](https://en.wikipedia.org/wiki/Cross_product#Lie_algebra) of two vectors, which has many applications in physics and computer graphics:"
   ]
  },
  {
   "cell_type": "markdown",
   "id": "9799d83d",
   "metadata": {},
   "source": [
    "::::{prf:definition} cross product\n",
    "\n",
    "The cross product of two vectors \n",
    "\n",
    "$$\n",
    "\\begin{align}\n",
    "\\M{u}&=\\begin{bmatrix} u_0 & u_1 & u_2 \\end{bmatrix}\\\\\n",
    "\\M{v}&=\\begin{bmatrix} v_0 & v_1 & v_2 \\end{bmatrix}\n",
    "\\end{align}\n",
    "$$ (eq:cross)\n",
    "\n",
    "in the 3D real vector space $\\mathbb{R}^3$ is a vector defined as\n",
    "\n",
    "$$\n",
    "\\M{u} \\times \\M{v} := \\begin{bmatrix} u_1v_2 - u_2v_1,\\ u_2v_0 - u_0v_2,\\ u_0v_1 - u_1v_0 \\end{bmatrix}.\n",
    "$$\n",
    "\n",
    "::::"
   ]
  },
  {
   "cell_type": "markdown",
   "id": "05bf3b73",
   "metadata": {},
   "source": [
    "One way to implement the cross product is to use [C-style fixed-size arrays][carray]:\n",
    "\n",
    "::::{code} cpp\n",
    ":label: code_cross_cstyle\n",
    ":caption: Compute the cross product $\\M{u}\\times \\M{v}$ using [C-style array][carray].\n",
    ":linenos:\n",
    "/**\n",
    " * @brief Computes the cross product of two 3D vectors.\n",
    " *\n",
    " * This function calculates the cross product of two input vectors `u` and `v`,\n",
    " * each represented as a fixed-size array of 3 doubles. The result is stored in\n",
    " * the output array `w`, which must also be of size 3.\n",
    " *\n",
    " * @param u A constant reference to a 3-element array representing the first vector.\n",
    " * @param v A constant reference to a 3-element array representing the second vector.\n",
    " * @param w A reference to a 3-element array where the result (cross product) will be stored.\n",
    " * @example\n",
    " * double w[3];\n",
    " * cross((double[]){1,0,0}, (double[]){0,1,0},w); // (double[3]) { 0.0, 0.0, 1.0 }\n",
    " */\n",
    "void cross(const double (&u)[3], const double (&v)[3], double (&w)[3]) {\n",
    "    w[0] = u[1]*v[2] - u[2]*v[1];\n",
    "    w[1] = u[2]*v[0] - u[0]*v[2];\n",
    "    w[2] = u[0]*v[1] - u[1]*v[0];\n",
    "}\n",
    "::::\n",
    "\n",
    "[carray]: https://en.cppreference.com/w/cpp/language/array.html"
   ]
  },
  {
   "cell_type": "code",
   "execution_count": null,
   "id": "cc0a6c5e",
   "metadata": {},
   "outputs": [],
   "source": [
    "%%cpp\n",
    "void cross(const double (&u)[3], const double (&v)[3], double (&w)[3]) {\n",
    "    w[0] = u[1]*v[2] - u[2]*v[1];\n",
    "    w[1] = u[2]*v[0] - u[0]*v[2];\n",
    "    w[2] = u[0]*v[1] - u[1]*v[0];\n",
    "}\n",
    "cross"
   ]
  },
  {
   "cell_type": "markdown",
   "id": "c9db6bcb",
   "metadata": {},
   "source": [
    "For instance, to compute $\\M{w}=\\M{u}\\times \\M{v}$ with\n",
    "\n",
    "\\begin{align}\n",
    "\\M{u}&=\\begin{bmatrix} 1 & 0 & 0\\end{bmatrix}\\\\\n",
    "\\M{v}&=\\begin{bmatrix} 0 & 1 & 0\\end{bmatrix}:\n",
    "\\end{align}"
   ]
  },
  {
   "cell_type": "code",
   "execution_count": null,
   "id": "a8aa0789",
   "metadata": {},
   "outputs": [],
   "source": [
    "%%cpp\n",
    "double w[3];\n",
    "cross((double[]){1,0,0}, (double[]){0,1,0},w);\n",
    "w"
   ]
  },
  {
   "cell_type": "markdown",
   "id": "5f0fb92f",
   "metadata": {},
   "source": [
    "::::{exercise}\n",
    ":label: ex:cross\n",
    "\n",
    "Interestingly, the resulting cross product is not returned by the function `cross`, but rather, stored in an argument `w` declared outside the function and passed by reference to the function:\n",
    "\n",
    "```cpp\n",
    "void cross(..., ..., double (&w)[3]) {\n",
    "    w[0] = ...\n",
    "    w[1] = ...\n",
    "    w[2] = ...\n",
    "}\n",
    "```\n",
    "\n",
    "Why not declare `w` inside the function and return it?\n",
    "\n",
    "::::"
   ]
  },
  {
   "cell_type": "markdown",
   "id": "85eaf741",
   "metadata": {
    "deletable": false,
    "nbgrader": {
     "cell_type": "markdown",
     "checksum": "1c225f3556692f865e6e540a64cbc94f",
     "grade": true,
     "grade_id": "cross",
     "locked": false,
     "points": 0,
     "schema_version": 3,
     "solution": true,
     "task": false
    }
   },
   "source": [
    "YOUR ANSWER HERE"
   ]
  },
  {
   "cell_type": "markdown",
   "id": "f267c3f7",
   "metadata": {},
   "source": [
    "We'll explore an alternative implementation of the dot product using C++11's fixed-size container [`std::array`][array] from `<array>`, which can be safely and properly returned by a function similar to other basic data types.\n",
    "\n",
    "[array]: https://en.cppreference.com/w/cpp/container/array.html"
   ]
  },
  {
   "cell_type": "markdown",
   "id": "0abc3598",
   "metadata": {},
   "source": [
    "### Dot Product"
   ]
  },
  {
   "cell_type": "markdown",
   "id": "2f8354cd",
   "metadata": {},
   "source": [
    "Consider computing the [dot product](https://en.wikipedia.org/wiki/Dot_product) of two vectors, which measures how much one vector points in the direction of another. The dot product has numerous applications beyond physics and computer graphics, including statistics and machine learning."
   ]
  },
  {
   "cell_type": "markdown",
   "id": "ba4fce26",
   "metadata": {},
   "source": [
    "::::{prf:definition} dot product\n",
    "\n",
    "The dot product of two vectors \n",
    "\n",
    "$$\n",
    "\\begin{align}\n",
    "\\M{u}&=\\begin{bmatrix} u_0 & u_1 & \\dots & u_{n-1} \\end{bmatrix}\\\\\n",
    "\\M{v}&=\\begin{bmatrix} v_0 & v_1 & \\dots & v_{n-1} \\end{bmatrix}\n",
    "\\end{align}\n",
    "$$ \n",
    "\n",
    "in n-dimensional real vector space $\\mathbb{R}^n$ is\n",
    "\n",
    "$$\n",
    "\\M{u} \\cdot \\M{v} := \\sum_{i=1}^{n} u_i v_i.\n",
    "$$ (eq:dot)\n",
    "\n",
    "The length/norm of a vector $\\M{v}$ is\n",
    "\n",
    "$$\n",
    "\\begin{align}\n",
    "\\norm{\\M{v}}:= \\sqrt{\\M{v}\\cdot \\M{v}}.\n",
    "\\end{align}\n",
    "$$ (eq:norm)\n",
    "\n",
    "::::"
   ]
  },
  {
   "cell_type": "markdown",
   "id": "46d6e409",
   "metadata": {},
   "source": [
    "To implement [](#eq:dot) properly with C-style fixed-size array:\n",
    "\n",
    "::::{code} cpp\n",
    ":label: code_dot_cstyle\n",
    ":caption: Compute the dot product $\\M{u}\\cdot \\M{v}$ using C-style array.\n",
    ":linenos:\n",
    "/**\n",
    " * @brief Computes the dot product of two arrays of doubles.\n",
    " *\n",
    " * This function calculates the dot product of two fixed-size arrays `u` and `v`.\n",
    " * It assumes both arrays have the same length `n`.\n",
    " *\n",
    " * @param u A reference to an array of doubles.\n",
    " * @param v A reference to an array of doubles.\n",
    " * @param n The number of elements in each array.\n",
    " * @return The dot product of arrays `u` and `v` as a double.\n",
    " *\n",
    " * @example\n",
    " * double dp = dot((double[]){1,1,1,1}, (double[]){1,1,1,1}, 4); // 4.0\n",
    " */\n",
    "auto dot(const double (&u)[], const double (&v)[], const size_t n) {\n",
    "    auto prod = 0.;\n",
    "    for (size_t i = 0; i < n; ++i) \n",
    "        prod += u[i] * v[i];\n",
    "    return prod;\n",
    "}\n",
    "::::"
   ]
  },
  {
   "cell_type": "markdown",
   "id": "82841e7c",
   "metadata": {},
   "source": [
    "Note that the input vectors $\\M{u}$ and $\\M{v}$ are not restricted to the three-dimensional real vector space, i.e., $n=3$."
   ]
  },
  {
   "cell_type": "code",
   "execution_count": null,
   "id": "c599b64a",
   "metadata": {},
   "outputs": [],
   "source": [
    "%%cpp\n",
    "auto dot(const double (&u)[], const double (&v)[], const size_t n) {\n",
    "    auto prod=0.;\n",
    "    for (size_t i=0; i<n; ++i) prod += u[i]*v[i];\n",
    "    return prod;\n",
    "}\n",
    "cout << dot((double[]){1,0}, (double[]){0,1}, 2) << ' ';\n",
    "cout << dot((double[]){1,0,0}, (double[]){0,0,1}, 3) << ' ';\n",
    "cout << dot((double[]){1,0,0,0}, (double[]){0,0,0,1}, 4) << ' ';\n",
    "cout << dot((double[]){1,0,0,0,0}, (double[]){0,0,0,0,1}, 5) << ' ';\n",
    "cout << dot((double[]){1,0,0,0,0,0}, (double[]){0,0,0,0,0,1}, 6) << ' ';"
   ]
  },
  {
   "cell_type": "markdown",
   "id": "72d1b5bc",
   "metadata": {},
   "source": [
    "The above computes the dot products of orthogonal vectors in $\\mathbb{R}^n$ for different dimensions $n$. However, the dimension needs to be passed into the function as a separate parameter `n`."
   ]
  },
  {
   "cell_type": "markdown",
   "id": "3bd510fb",
   "metadata": {},
   "source": [
    "::::{caution}\n",
    "\n",
    "The declaration `const double (&v)[]` does not work in the following code even though it works in the above function declaration?\n",
    "\n",
    "```cpp\n",
    "double v[]{1,2,3};\n",
    "const double (&u)[] = v;\n",
    "```\n",
    "\n",
    "It works if we decay the array to a pointer `const double * const (&u)` as follows:\n",
    "\n",
    "```cpp\n",
    "double v[]{1,2,3};\n",
    "double * const (&u)=v;\n",
    "```\n",
    "\n",
    "::::"
   ]
  },
  {
   "cell_type": "markdown",
   "id": "2b0ef9f3",
   "metadata": {},
   "source": [
    "To implement the norm in [](#eq:norm):"
   ]
  },
  {
   "cell_type": "code",
   "execution_count": null,
   "id": "c14123c9",
   "metadata": {},
   "outputs": [],
   "source": [
    "%%cpp\n",
    "auto norm(const double (&v)[], const size_t n) {\n",
    "    return sqrt(dot(v, v, n));\n",
    "}\n",
    "cout << norm((double[0]){}, 0) << ' ';\n",
    "cout << norm((double[1]){1}, 1) << ' ';\n",
    "cout << norm((double[2]){1,1}, 2) << ' ';\n",
    "cout << norm((double[3]){1,1,1}, 3) << ' ';\n",
    "cout << norm((double[4]){1,1,1,1}, 4) << ' ';"
   ]
  },
  {
   "cell_type": "markdown",
   "id": "3f2f316f",
   "metadata": {},
   "source": [
    "This calculates the norm of the vectors of all ones in $\\mathbb{R}^n$ for different dimensions $n$."
   ]
  },
  {
   "cell_type": "markdown",
   "id": "d65ab057",
   "metadata": {},
   "source": [
    "::::{exercise} \n",
    ":label: ex:dot2\n",
    "\n",
    "Why can't we automate the calculation using the following `for` loop?\n",
    "\n",
    "```cpp\n",
    "for (auto n=0u; n<5; n++) {\n",
    "    double v[n];\n",
    "    for (auto i=0u; i<n; ++i) v[i]=1;\n",
    "    cout << norm(v) << ' ';\n",
    "}\n",
    "```\n",
    "\n",
    "::::"
   ]
  },
  {
   "cell_type": "markdown",
   "id": "760d1fae",
   "metadata": {
    "deletable": false,
    "nbgrader": {
     "cell_type": "markdown",
     "checksum": "ebb162dcf362be2299475ac99dbbbcc4",
     "grade": true,
     "grade_id": "dot2",
     "locked": false,
     "points": 0,
     "schema_version": 3,
     "solution": true,
     "task": false
    }
   },
   "source": [
    "YOUR ANSWER HERE"
   ]
  },
  {
   "cell_type": "markdown",
   "id": "1c9dbcc7",
   "metadata": {},
   "source": [
    "We will learn to use the C++11 container [`std::vector`](https://en.cppreference.com/w/cpp/container/vector.html) from `<vector>`, whose length can be changed dynamically."
   ]
  },
  {
   "cell_type": "markdown",
   "id": "7a4da597",
   "metadata": {},
   "source": [
    "## Compound Literal"
   ]
  },
  {
   "cell_type": "markdown",
   "id": "3146f2a1",
   "metadata": {},
   "source": [
    "**How to enter an array of elements?**"
   ]
  },
  {
   "cell_type": "markdown",
   "id": "3b06b7f2",
   "metadata": {},
   "source": [
    "Recall that a string is a constant array of characters:"
   ]
  },
  {
   "cell_type": "code",
   "execution_count": null,
   "id": "8870ee87",
   "metadata": {},
   "outputs": [],
   "source": [
    "%%cpp\n",
    "\"abc\""
   ]
  },
  {
   "cell_type": "markdown",
   "id": "d3266873",
   "metadata": {},
   "source": [
    "The size is fixed and can be obtained at compile time:"
   ]
  },
  {
   "cell_type": "code",
   "execution_count": null,
   "id": "4723c674",
   "metadata": {},
   "outputs": [],
   "source": [
    "%%cpp\n",
    "sizeof(\"Ava\")  // in bytes"
   ]
  },
  {
   "cell_type": "markdown",
   "id": "cb3e5748",
   "metadata": {},
   "source": [
    "Instead of a [string literal](https://en.cppreference.com/w/c/language/string_literal.html), we can enter a string as an array using the C-style [compound literal](https://en.cppreference.com/w/c/language/compound_literal.html):"
   ]
  },
  {
   "cell_type": "code",
   "execution_count": null,
   "id": "0b00cb26",
   "metadata": {},
   "outputs": [],
   "source": [
    "%%cpp\n",
    "cout << (const char[]){'A','v','a', 0};  // 😈: Oh, there is a typo... `, 0`."
   ]
  },
  {
   "cell_type": "markdown",
   "id": "6b4bc530",
   "metadata": {},
   "source": [
    "We can also specify a bigger size for an array than the size of the initializer:"
   ]
  },
  {
   "cell_type": "code",
   "execution_count": null,
   "id": "1561d60f",
   "metadata": {},
   "outputs": [],
   "source": [
    "%%cpp\n",
    "cout << (const char[4]){'A','v','a'}; // remaining entries initialized to 0"
   ]
  },
  {
   "cell_type": "markdown",
   "id": "d3587e80",
   "metadata": {},
   "source": [
    "The entries of an array need not be characters but they must be of the same type:"
   ]
  },
  {
   "cell_type": "code",
   "execution_count": null,
   "id": "ed4d72d0",
   "metadata": {},
   "outputs": [],
   "source": [
    "%%cpp\n",
    "(int[]){1,2,3}"
   ]
  },
  {
   "cell_type": "code",
   "execution_count": null,
   "id": "aef9c7c4",
   "metadata": {},
   "outputs": [],
   "source": [
    "%%cpp\n",
    "sizeof((double[]){1,2,3})"
   ]
  },
  {
   "cell_type": "code",
   "execution_count": null,
   "id": "a86f14cf",
   "metadata": {},
   "outputs": [],
   "source": [
    "%%cpp\n",
    "sizeof((int[6]){1,2,3})  // `double` is not double the size of `int`?"
   ]
  },
  {
   "cell_type": "markdown",
   "id": "635c41bf",
   "metadata": {},
   "source": [
    "This is unlike Python `list` and `tuple`, which can be heterogeneous, i.e., with elements of different types:"
   ]
  },
  {
   "cell_type": "code",
   "execution_count": null,
   "id": "c64ad27e",
   "metadata": {},
   "outputs": [],
   "source": [
    "[(1, '2'), [False, 3]]"
   ]
  },
  {
   "cell_type": "markdown",
   "id": "e6538821",
   "metadata": {},
   "source": [
    "The C-style array is more like `array` from `numpy`, which must be homogenous, i.e., with elements of the same types:"
   ]
  },
  {
   "cell_type": "code",
   "execution_count": null,
   "id": "78c02092",
   "metadata": {},
   "outputs": [],
   "source": [
    "import numpy as np\n",
    "\n",
    "np.array([(1, '2'), [False, 3]])"
   ]
  },
  {
   "cell_type": "code",
   "execution_count": null,
   "id": "730d754f",
   "metadata": {},
   "outputs": [],
   "source": [
    "%%ai\n",
    "Explain briefly the similarities and differences between numpy arrays and \n",
    "C-style arrays."
   ]
  },
  {
   "cell_type": "markdown",
   "id": "bbe363a5",
   "metadata": {},
   "source": [
    "An array in C++ can also be multi-dimensional, i.e., an array of arrays of arrays...:"
   ]
  },
  {
   "cell_type": "code",
   "execution_count": null,
   "id": "3147c17f",
   "metadata": {},
   "outputs": [],
   "source": [
    "%%cpp\n",
    "(int[][2]){{1,2},{3, 4}}  // 2D array"
   ]
  },
  {
   "cell_type": "code",
   "execution_count": null,
   "id": "87a9aadb",
   "metadata": {},
   "outputs": [],
   "source": [
    "%%cpp\n",
    "sizeof((int[][2]){{1,2},{3, 4}})"
   ]
  },
  {
   "cell_type": "code",
   "execution_count": null,
   "id": "0871d8dc",
   "metadata": {},
   "outputs": [],
   "source": [
    "%%cpp\n",
    "(int[][2][3]){{{1,2,3},{4,5,6}},{{7,8,9}, {10,11,12}}}  // 3D array"
   ]
  },
  {
   "cell_type": "markdown",
   "id": "bb51bd55",
   "metadata": {},
   "source": [
    "The memory for a compound literal is statically allocated, and so the length must be fixed at compile time:"
   ]
  },
  {
   "cell_type": "code",
   "execution_count": null,
   "id": "2bf17c39",
   "metadata": {},
   "outputs": [],
   "source": [
    "%%cpp\n",
    "constexpr auto d=3u;\n",
    "(int[d]){1,2,3}   // works: `d` is a compile-time constant"
   ]
  },
  {
   "cell_type": "code",
   "execution_count": null,
   "id": "030ee474",
   "metadata": {},
   "outputs": [],
   "source": [
    "%%cpp\n",
    "const auto d=3u;  // also a compile-time constant due to compiler optimization\n",
    "(int[][d]){{1,2},{3, 4}}"
   ]
  },
  {
   "cell_type": "code",
   "execution_count": null,
   "id": "035e5019",
   "metadata": {},
   "outputs": [],
   "source": [
    "%%cpp\n",
    "auto d=3u;          // mutable\n",
    "// (int[d]){1,2,3}; // fails: `d` is not a constant\n",
    "d"
   ]
  },
  {
   "cell_type": "code",
   "execution_count": null,
   "id": "11d54b6a",
   "metadata": {},
   "outputs": [],
   "source": [
    "%%cpp\n",
    "const unsigned d=1+rand()%3;\n",
    "// (int[d]){};      // fails: `d` is not known at compile time"
   ]
  },
  {
   "cell_type": "markdown",
   "id": "587a9450",
   "metadata": {},
   "source": [
    "## Array Declaration"
   ]
  },
  {
   "cell_type": "markdown",
   "id": "36df8d49",
   "metadata": {},
   "source": [
    "**How to declare an array variable?**"
   ]
  },
  {
   "cell_type": "code",
   "execution_count": null,
   "id": "b7a5da8c",
   "metadata": {},
   "outputs": [],
   "source": [
    "%%cpp\n",
    "void print(const char * s) {\n",
    "    cout << s << '\\n';\n",
    "}"
   ]
  },
  {
   "cell_type": "code",
   "execution_count": null,
   "id": "3911ab2a",
   "metadata": {},
   "outputs": [],
   "source": [
    "%%cpp\n",
    "print((const char[4]){'a','b','c'});"
   ]
  },
  {
   "cell_type": "markdown",
   "id": "cfb22c3f",
   "metadata": {},
   "source": [
    "Consider using `auto` to declare an array:"
   ]
  },
  {
   "cell_type": "code",
   "execution_count": null,
   "id": "81c6d204",
   "metadata": {},
   "outputs": [],
   "source": [
    "%%cpp\n",
    "auto s = (const char[4]){'a','b','c'};\n",
    "s[0]  // a?"
   ]
  },
  {
   "cell_type": "code",
   "execution_count": null,
   "id": "14b57ddf",
   "metadata": {},
   "outputs": [],
   "source": [
    "%%cpp\n",
    "(const char[4]){'a','b','c'}"
   ]
  },
  {
   "cell_type": "code",
   "execution_count": null,
   "id": "a79516f7",
   "metadata": {},
   "outputs": [],
   "source": [
    "%%cpp\n",
    "\"abc\""
   ]
  },
  {
   "cell_type": "markdown",
   "id": "a4359915",
   "metadata": {},
   "source": [
    "While a variable can normally be initalized with a literal of the same type, a variable cannot be properly initialized with a compound literal in C++."
   ]
  },
  {
   "cell_type": "markdown",
   "id": "059ebd2a",
   "metadata": {},
   "source": [
    "::::{caution} Why not initialize a variable with compound literal?\n",
    ":class: dropdown\n",
    "\n",
    "Compound literals are short-lived and therefore not suitable to be assigned to a variable. E.g., the above code fails to give `s[0]` because a compound literal is destroyed at the end of the full-expression. Indeed, Compound literals, as defined in C99, are not a standard feature of C++. While many C++ compilers, such as GCC and Clang, support compound literals as an extension, the behavior of compound literals can differ between C and C++. For instance, the lifetime of a compound literal in C++ typically extends only until the end of the full expression in which it is used, which is shorter than in C.\n",
    "\n",
    "::::"
   ]
  },
  {
   "cell_type": "markdown",
   "id": "9b576527",
   "metadata": {},
   "source": [
    "This is unlike the [initialization/assignment from string literal](https://en.cppreference.com/w/c/language/array_initialization.html#Initialization_from_strings):"
   ]
  },
  {
   "cell_type": "code",
   "execution_count": null,
   "id": "6ca05c56",
   "metadata": {},
   "outputs": [],
   "source": [
    "%%cpp\n",
    "auto s = \"abc\";\n",
    "s"
   ]
  },
  {
   "cell_type": "code",
   "execution_count": null,
   "id": "028869bd",
   "metadata": {},
   "outputs": [],
   "source": [
    "%%cpp\n",
    "s = \"def\";\n",
    "s"
   ]
  },
  {
   "cell_type": "markdown",
   "id": "4f34c406",
   "metadata": {},
   "source": [
    "To [declare an array](https://en.cppreference.com/w/cpp/language/array) of `double`, simply add the square brackets `[]` after the variable name to designate the *size* of the array:"
   ]
  },
  {
   "cell_type": "code",
   "execution_count": null,
   "id": "6f674e82",
   "metadata": {},
   "outputs": [],
   "source": [
    "%%cpp\n",
    "int v[3];\n",
    "v"
   ]
  },
  {
   "cell_type": "markdown",
   "id": "040f3599",
   "metadata": {},
   "source": [
    "Since `v` has a static storage duration, its elements are initialized to `0.0` by default."
   ]
  },
  {
   "cell_type": "markdown",
   "id": "1c4c9727",
   "metadata": {},
   "source": [
    "An array can also be initialized by a form of [list initialization](https://en.cppreference.com/w/cpp/language/list_initialization.html) called [aggregate initialization](https://en.cppreference.com/w/cpp/language/aggregate_initialization.html):"
   ]
  },
  {
   "cell_type": "code",
   "execution_count": null,
   "id": "2e959bf0",
   "metadata": {},
   "outputs": [],
   "source": [
    "%%cpp\n",
    "int u[3]{1}, v[]{0,1,0}, (&w)[3]=u;\n",
    "// int v[];      // fails: needs an explicit size or an initializer\n",
    "// int w[3]=u;   // fails: array initializer must be an initializer list. Why?\n",
    "v"
   ]
  },
  {
   "cell_type": "markdown",
   "id": "daa471b1",
   "metadata": {},
   "source": [
    "In the above declaration:\n",
    "- `u[3]{1}` initializes the first element as `1`, and the subsequent elements are initialized as `0` by default.\n",
    "- `v[]` is an array of unknown bound. Such an array can be initialized with a non-empty list initializer such as `{1,0,0}`, from which the compiler can deduce how much space to allocate."
   ]
  },
  {
   "cell_type": "markdown",
   "id": "6508ef7c",
   "metadata": {},
   "source": [
    "::::{exercise}\n",
    ":label: ex:array-declaration\n",
    "\n",
    "Explain why each of the following declarations fail.\n",
    "\n",
    "```cpp\n",
    "int v[];\n",
    "int w[3]=u;\n",
    "```\n",
    "\n",
    "::::"
   ]
  },
  {
   "cell_type": "markdown",
   "id": "65a8904b",
   "metadata": {
    "deletable": false,
    "nbgrader": {
     "cell_type": "markdown",
     "checksum": "e115e02b5b6989b4f5e086c3b823bdb6",
     "grade": true,
     "grade_id": "array-declaration",
     "locked": false,
     "points": 0,
     "schema_version": 3,
     "solution": true,
     "task": false
    }
   },
   "source": [
    "YOUR ANSWER HERE"
   ]
  },
  {
   "cell_type": "markdown",
   "id": "a4222d5b",
   "metadata": {},
   "source": [
    "## Array as Pointer"
   ]
  },
  {
   "cell_type": "markdown",
   "id": "d3ca7c6f",
   "metadata": {},
   "source": [
    "After an array has been declared, the same brackets `[]` are used as the [*member access operator*](https://en.cppreference.com/w/cpp/language/operator_member_access.html) to access or modify individual elements. E.g., the following function prints a 3D vector represented as an array of three elements:\n",
    "\n",
    "::::{code} cpp\n",
    ":label: code_print_vector3_\n",
    ":caption: Print a 3D vector represented as an array of three elements.\n",
    ":linenos:\n",
    "void print_vector3_(const auto v[3]) {\n",
    "    cout << format(\"[{}, {}, {}]\\n\", v[0], v[1], v[2]);\n",
    "}\n",
    "::::"
   ]
  },
  {
   "cell_type": "code",
   "execution_count": null,
   "id": "a216ae7e",
   "metadata": {},
   "outputs": [],
   "source": [
    "%%cpp\n",
    "void print_vector3_(const auto v[3]) {\n",
    "    cout << format(\"[{}, {}, {}]\\n\", v[0], v[1], v[2]);\n",
    "}\n",
    "print_vector3_((int[]){1,2,3});"
   ]
  },
  {
   "cell_type": "markdown",
   "id": "507d96c6",
   "metadata": {},
   "source": [
    "::::{exercise}\n",
    ":label: ex:print_vector31\n",
    "\n",
    "Explain why the following two cells give different results?\n",
    "\n",
    "::::"
   ]
  },
  {
   "cell_type": "code",
   "execution_count": null,
   "id": "c2674b35",
   "metadata": {},
   "outputs": [],
   "source": [
    "%%cpp\n",
    "{\n",
    "    int u[3];\n",
    "    print_vector3_(u);\n",
    "}"
   ]
  },
  {
   "cell_type": "code",
   "execution_count": null,
   "id": "0ae7f1df",
   "metadata": {},
   "outputs": [],
   "source": [
    "%%cpp\n",
    "{\n",
    "    int u[3] {};\n",
    "    print_vector3_(u);\n",
    "}"
   ]
  },
  {
   "cell_type": "markdown",
   "id": "ab175fb3",
   "metadata": {
    "deletable": false,
    "nbgrader": {
     "cell_type": "markdown",
     "checksum": "a734c1c19d1a519de0b240106bfd94da",
     "grade": true,
     "grade_id": "print_vector3_1",
     "locked": false,
     "points": 0,
     "schema_version": 3,
     "solution": true,
     "task": false
    }
   },
   "source": [
    "YOUR ANSWER HERE"
   ]
  },
  {
   "cell_type": "markdown",
   "id": "89910faf",
   "metadata": {},
   "source": [
    "The definition of [`print_vector3_`](#code_print_vector3_) is unsafe because it can cause [buffer overrun](https://en.wikipedia.org/wiki/Buffer_overflow):"
   ]
  },
  {
   "cell_type": "code",
   "execution_count": null,
   "id": "98526c00",
   "metadata": {},
   "outputs": [],
   "source": [
    "%%cpp\n",
    "print_vector3_((int[]){1,2});   // 😈: What is that last element..."
   ]
  },
  {
   "cell_type": "markdown",
   "id": "9dd021a4",
   "metadata": {},
   "source": [
    "Even though the input array only has two elements, `print_vector3_` prints the element after the second one, accessing an out-of-bound memory location!\n",
    "\n",
    "```cpp\n",
    "void print_vector3_(const auto v[3]) {\n",
    "    ... format(... v[2]);\n",
    "}\n",
    "```"
   ]
  },
  {
   "cell_type": "markdown",
   "id": "9251a010",
   "metadata": {},
   "source": [
    "If the input array is passed by reference instead, the size is enforced:\n",
    "\n",
    "::::{code} cpp\n",
    ":label: code_print_vector3\n",
    ":caption: Input array of three elements passed by reference.\n",
    ":linenos:\n",
    "void print_vector3(const auto (&v)[3]) {  // pass by constant reference\n",
    "    cout << format(\"[{}, {}, {}]\\n\", v[0], v[1], v[2]);\n",
    "}\n",
    "::::"
   ]
  },
  {
   "cell_type": "code",
   "execution_count": null,
   "id": "d96d4e49",
   "metadata": {},
   "outputs": [],
   "source": [
    "%%cpp\n",
    "void print_vector3(const auto (&v)[3]) {\n",
    "    cout << format(\"[{}, {}, {}]\\n\", v[0], v[1], v[2]);\n",
    "}\n",
    "print_vector3((int[]){1,2,3});\n",
    "// print_vector3((int[]){1,2});  // fails since double[3] is expected."
   ]
  },
  {
   "cell_type": "markdown",
   "id": "68622f74",
   "metadata": {},
   "source": [
    "Why pass by reference works but pass by value doesn't? We need to understand the implementation and limitation of arrays:"
   ]
  },
  {
   "cell_type": "markdown",
   "id": "ab861441",
   "metadata": {},
   "source": [
    "::::{caution}\n",
    "\n",
    "In C++, an array fails all the requirements for a [first-class citizen](https://en.wikipedia.org/wiki/First-class_citizen).\n",
    "\n",
    "- An array cannot be assigned to another array.\n",
    "- An array cannot be passed into a function as a argument.\n",
    "- An array cannot be returned by a function.\n",
    "\n",
    "::::"
   ]
  },
  {
   "cell_type": "markdown",
   "id": "c98316c5",
   "metadata": {},
   "source": [
    "### 1D Array"
   ]
  },
  {
   "cell_type": "markdown",
   "id": "06c07c32",
   "metadata": {},
   "source": [
    "[An array can be implicitly converted to a pointer](https://en.cppreference.com/w/cpp/language/implicit_conversion.html#Array-to-pointer_conversion) that references the first element of the array:"
   ]
  },
  {
   "cell_type": "code",
   "execution_count": null,
   "id": "7e5d40da",
   "metadata": {},
   "outputs": [],
   "source": [
    "%%cpp\n",
    "int u[]{1,2,3};\n",
    "*u  // first element"
   ]
  },
  {
   "cell_type": "markdown",
   "id": "790b26b6",
   "metadata": {},
   "source": [
    "Indeed, the address of an array is the same as the address of its first element:"
   ]
  },
  {
   "cell_type": "code",
   "execution_count": null,
   "id": "ded85f57",
   "metadata": {},
   "outputs": [],
   "source": [
    "%%cpp\n",
    "cout << format(\"&u : {:p}\\n\", static_cast<void *>(&u));\n",
    "cout << format(\"&u[0] : {:p}\\n\", static_cast<void *>(&u[0]));"
   ]
  },
  {
   "cell_type": "markdown",
   "id": "79fd594a",
   "metadata": {},
   "source": [
    "Subsequent elements are stored in the subsequent locations:"
   ]
  },
  {
   "cell_type": "code",
   "execution_count": null,
   "id": "2c957589",
   "metadata": {},
   "outputs": [],
   "source": [
    "%%cpp\n",
    "cout << format(\"&u[1] : {:p}\\n\", static_cast<void *>(&u[1]));\n",
    "*(u+1)  // second element"
   ]
  },
  {
   "cell_type": "code",
   "execution_count": null,
   "id": "3444b4e0",
   "metadata": {},
   "outputs": [],
   "source": [
    "%%cpp\n",
    "cout << format(\"&u[2] : {:p}\\n\", static_cast<void *>(&u[2]));\n",
    "*(u+2)  // third element"
   ]
  },
  {
   "cell_type": "markdown",
   "id": "db0d2966",
   "metadata": {},
   "source": [
    "The array can be assigned to a pointer or to another array by lvalue reference:"
   ]
  },
  {
   "cell_type": "code",
   "execution_count": null,
   "id": "8be2f0db",
   "metadata": {},
   "outputs": [],
   "source": [
    "%%cpp\n",
    "int u[]{1,2,3};\n",
    "auto *v=u, (&w)[3]=u;\n",
    "print_vector3_(v);\n",
    "print_vector3(w);"
   ]
  },
  {
   "cell_type": "markdown",
   "id": "47476796",
   "metadata": {},
   "source": [
    "::::{exercise}\n",
    ":label: ex:pointer-vs-array\n",
    "\n",
    "In the following code, why `u` and `v` have different sizes even though they are equal?\n",
    "\n",
    "::::"
   ]
  },
  {
   "cell_type": "code",
   "execution_count": null,
   "id": "3d262a3e",
   "metadata": {},
   "outputs": [],
   "source": [
    "%%cpp\n",
    "cout << format(\"sizeof(u): {}\\n\", sizeof(u));\n",
    "cout << format(\"sizeof(v): {}\\n\", sizeof(v));\n",
    "(u==v)"
   ]
  },
  {
   "cell_type": "markdown",
   "id": "f1c1834f",
   "metadata": {},
   "source": [
    "::::{solution} ex:pointer-vs-array\n",
    ":class: dropdown\n",
    "\n",
    "`sizeof` calculates the size of the array `u` at compile time because its length is known. The size is 12 because the array contains 3 `int`, each of size 4. \n",
    "\n",
    "However, when `u` is assigned to a pointer `v`, the size information is lost — `sizeof(v)` only returns the size of the pointer itself (typically 8 bytes on a 64-bit system), not the size of the array it points to.\n",
    "\n",
    "::::"
   ]
  },
  {
   "cell_type": "markdown",
   "id": "7a3b09e9",
   "metadata": {},
   "source": [
    "::::{note}\n",
    "\n",
    "In other words, the subscript operation `v[i]` is equivalent to `*(v+i)` since elements of an array are stored in consecutive memory locations. What a *clever* trick! This implements an array efficiently without any overhead. Even the size of the array, which must be a compile-time constant, needs not be stored as meta data in the executable!\n",
    "\n",
    "::::"
   ]
  },
  {
   "cell_type": "code",
   "execution_count": null,
   "id": "c4f4e2a9",
   "metadata": {},
   "outputs": [],
   "source": [
    "%%ai\n",
    "Explain briefly how memory is statically allocated to an array in C++, and \n",
    "whether the size of the array needs to be stored in the executable?"
   ]
  },
  {
   "cell_type": "markdown",
   "id": "0e1bda54",
   "metadata": {},
   "source": [
    "While an array can be assigned to a pointer, it cannot be assigned to an array:\n",
    "\n",
    "```cpp\n",
    "double u[3]={1,2,3}, v[3];\n",
    "v = u; // fails: array type 'int[3]' is not assignable\n",
    "```"
   ]
  },
  {
   "cell_type": "code",
   "execution_count": null,
   "id": "61235951",
   "metadata": {},
   "outputs": [],
   "source": [
    "%%ai\n",
    "Explain briefly why a statically allocated array is not assignable?"
   ]
  },
  {
   "cell_type": "markdown",
   "id": "994ac401",
   "metadata": {},
   "source": [
    "When the array argument is passed by reference, the function signature is `(void (*)(int (&)[3]))` as expected."
   ]
  },
  {
   "cell_type": "code",
   "execution_count": null,
   "id": "d9f5bf3e",
   "metadata": {},
   "outputs": [],
   "source": [
    "%%cpp\n",
    "void bar1(int (&v)[3]) {}\n",
    "bar1"
   ]
  },
  {
   "cell_type": "markdown",
   "id": "b6fb69ac",
   "metadata": {},
   "source": [
    "However, when the argument is passed by value, the function type is `(void (*)(int *))`:"
   ]
  },
  {
   "cell_type": "code",
   "execution_count": null,
   "id": "99c62193",
   "metadata": {},
   "outputs": [],
   "source": [
    "%%cpp\n",
    "void bar2(int v[3]) {}\n",
    "bar2"
   ]
  },
  {
   "cell_type": "markdown",
   "id": "d712f054",
   "metadata": {},
   "source": [
    "In other words, an array cannot be passed by value without decaying to a pointer. In particular, the size information is lost as the parameter decays from `int v[3]` to a pointer `int *`."
   ]
  },
  {
   "cell_type": "markdown",
   "id": "76d2aa94",
   "metadata": {},
   "source": [
    "We can now answer the question:"
   ]
  },
  {
   "cell_type": "markdown",
   "id": "3941f15d",
   "metadata": {},
   "source": [
    "::::{important} The size of an input array is enforced when the array is passed by reference instead of value. Why?\n",
    ":class: dropdown\n",
    "\n",
    "1. Even though the parameter of [`print_vector3_`](#code_print_vector3_) is declared as an array `auto v[3]`, it decays to a pointer `auto *v` so that the address of the first element of the array can be assigned to the parameter as a pointer. However, the size information is lost in doing so. In other words, the parameter is effectively declared with an unknown bound (`auto v[]`), which allows the compiler to happily accept an array of any size. The function does not know the array’s length, potentially leading to a buffer overrun. \n",
    "\n",
    "2. When the parameter is passed by reference (`double (&v)[3]`) to [`print_vector3`](#code_print_vector3), however, the compiler does not treat it as `double *v`, and so the size information is retained.\n",
    "\n",
    "::::"
   ]
  },
  {
   "cell_type": "markdown",
   "id": "585d8a21",
   "metadata": {},
   "source": [
    "### Multi-Dimensional Array"
   ]
  },
  {
   "cell_type": "markdown",
   "id": "1929af08",
   "metadata": {},
   "source": [
    "A multi-dimensional array can also decays to a pointer in the same way. Consider the following 2-by-2-by-3 array:"
   ]
  },
  {
   "cell_type": "code",
   "execution_count": null,
   "id": "155303f1",
   "metadata": {},
   "outputs": [],
   "source": [
    "%%cpp\n",
    "int v[][2][3]{\n",
    "    // v[0] or *v\n",
    "    {\n",
    "        // v[0][0] or **v\n",
    "        {\n",
    "            // v[0][0][0] or *(**v + 0)\n",
    "            1,\n",
    "            // v[0][0][1] or *(**v + 1)\n",
    "            2,\n",
    "            // v[0][0][2] or *(**v + 2)\n",
    "            3\n",
    "        },\n",
    "        // v[0][1] or *(*v + 1)\n",
    "        {\n",
    "            // v[0][1][0] or *(**v + 3)\n",
    "            4,\n",
    "            // v[0][1][1] or *(**v + 4)\n",
    "            5,\n",
    "            // v[0][1][2] or *(**v + 5)\n",
    "            6\n",
    "        }\n",
    "    },\n",
    "    // v[1] or *(v + 1)\n",
    "    {\n",
    "        // v[1][0] or *(*v + 2)\n",
    "        {\n",
    "            // v[1][0][0] or *(**v + 6)\n",
    "            7,\n",
    "            // v[1][0][1] or *(**v + 7)\n",
    "            8,\n",
    "            // v[1][0][2] or *(**v + 8)\n",
    "            9\n",
    "        },\n",
    "        // v[1][1] or *(*v + 3)\n",
    "        {\n",
    "            // v[1][1][0] or *(**v + 9)\n",
    "            10,\n",
    "            // v[1][1][1] or *(**v + 10)\n",
    "            11,\n",
    "            // v[1][1][2] or *(**v + 11)\n",
    "            12\n",
    "        }\n",
    "    }\n",
    "};\n",
    "v"
   ]
  },
  {
   "cell_type": "markdown",
   "id": "71acffc0",
   "metadata": {},
   "source": [
    "::::{caution} Why the bound of the first (instead of the last) dimension of a multi-dimensional array can be unknown?\n",
    ":class: dropdown\n",
    "\n",
    "Think of a multi-dimensional array as an array, whose element happens to be arrays themselves. The bound of the dimension, namely the first dimension, can be unknown as in `int v[][2][3]` if there is an initializer.\n",
    "\n",
    "::::"
   ]
  },
  {
   "cell_type": "markdown",
   "id": "a9111318",
   "metadata": {},
   "source": [
    "::::{exercise} \n",
    ":label: ex:fixed-size\n",
    "\n",
    "Explain why the following code fails even though `d` is a constant array?\n",
    "\n",
    "```cpp\n",
    "const int d[] {1,2};\n",
    "(int[][d[0]][d[1]]){{{1,2},{3, 4}}};\n",
    "```\n",
    "\n",
    "::::"
   ]
  },
  {
   "cell_type": "markdown",
   "id": "5e2a0a05",
   "metadata": {
    "deletable": false,
    "nbgrader": {
     "cell_type": "markdown",
     "checksum": "1378c8cb7a1a8380a3daaaad1da55dd1",
     "grade": true,
     "grade_id": "fixed-size",
     "locked": false,
     "points": 0,
     "schema_version": 3,
     "solution": true,
     "task": false
    }
   },
   "source": [
    "YOUR ANSWER HERE"
   ]
  },
  {
   "cell_type": "markdown",
   "id": "196668bd",
   "metadata": {},
   "source": [
    "`v` defined above can be passed into a function with a parameter declared as `int (&v)[2][2][3]`, `int v[][2][3]`, or `int (*v)[][3]`."
   ]
  },
  {
   "cell_type": "code",
   "execution_count": null,
   "id": "59cd8ca9",
   "metadata": {},
   "outputs": [],
   "source": [
    "%%cpp\n",
    "void foo1(int (&v)[2][2][3]) {}\n",
    "foo1(v);\n",
    "foo1"
   ]
  },
  {
   "cell_type": "code",
   "execution_count": null,
   "id": "9b0d862d",
   "metadata": {},
   "outputs": [],
   "source": [
    "%%cpp\n",
    "void foo2(int v[][2][3]) {}\n",
    "foo2(v);\n",
    "foo2"
   ]
  },
  {
   "cell_type": "code",
   "execution_count": null,
   "id": "102c299d",
   "metadata": {},
   "outputs": [],
   "source": [
    "%%cpp\n",
    "void foo3(int (*v)[2][3]) {}\n",
    "foo3(v);\n",
    "static_cast<int (*)[2][3]>(v);\n",
    "foo3"
   ]
  },
  {
   "cell_type": "markdown",
   "id": "88516f0b",
   "metadata": {},
   "source": [
    "::::{exercise}\n",
    ":label: ex:pointer-of-pointers\n",
    "\n",
    "Why does the following code fail?\n",
    "\n",
    "```cpp\n",
    "void foo4(int (**v)[]) {};\n",
    "foo4(v);                         // fails\n",
    "static_cast<int (**)[][3]>(v);  // fails\n",
    "```\n",
    "\n",
    "::::"
   ]
  },
  {
   "cell_type": "markdown",
   "id": "4f6e769a",
   "metadata": {
    "deletable": false,
    "nbgrader": {
     "cell_type": "markdown",
     "checksum": "e7eccd97b2490dbc2a6253dd9560aeb0",
     "grade": true,
     "grade_id": "pointer-of-pointers",
     "locked": false,
     "points": 0,
     "schema_version": 3,
     "solution": true,
     "task": false
    }
   },
   "source": [
    "YOUR ANSWER HERE"
   ]
  },
  {
   "cell_type": "markdown",
   "id": "1c412044",
   "metadata": {},
   "source": [
    "The 3D array `v` is actually stored like a 1D array `**v` in memory as shown below:"
   ]
  },
  {
   "cell_type": "code",
   "execution_count": null,
   "id": "56344bd9",
   "metadata": {},
   "outputs": [],
   "source": [
    "%%cpp\n",
    "print_vector3(**v);\n",
    "print_vector3(*(*v+1));\n",
    "print_vector3(*(*v+2));\n",
    "print_vector3(*(*v+3));"
   ]
  },
  {
   "cell_type": "markdown",
   "id": "c98c8bdf",
   "metadata": {},
   "source": [
    "To print all elements in one go:"
   ]
  },
  {
   "cell_type": "code",
   "execution_count": null,
   "id": "04a9f3dc",
   "metadata": {},
   "outputs": [],
   "source": [
    "%%cpp\n",
    "for (auto l=0u; l<2*2*3; l++)\n",
    "    cout << (**v)[l] << ' ';  // `(**v)[l]` is the same as `(&v[0][0][0])[l]`"
   ]
  },
  {
   "cell_type": "markdown",
   "id": "2cc7c618",
   "metadata": {},
   "source": [
    "`**v` is the same as `&v[0][0][0]`, i.e., the address to the first element of the 3D array."
   ]
  },
  {
   "cell_type": "markdown",
   "id": "d647ac21",
   "metadata": {},
   "source": [
    "This is equivalent to printing each element of the 3D array using nested `for` loops:"
   ]
  },
  {
   "cell_type": "code",
   "execution_count": null,
   "id": "770ba771",
   "metadata": {},
   "outputs": [],
   "source": [
    "%%cpp\n",
    "constexpr unsigned d[]{2,2,3};\n",
    "for (auto i=0u; i<d[0]; i++)\n",
    "    for (auto j=0u; j<d[1]; j++)\n",
    "        for (auto k=0u; k<d[2]; k++)\n",
    "            cout << v[i][j][k] << ' ';"
   ]
  },
  {
   "cell_type": "markdown",
   "id": "199d3279",
   "metadata": {},
   "source": [
    "`v[i][j][k]` is the same as `*(**v+i*(d[1]*d[2])+j*(d[2])+k)`:"
   ]
  },
  {
   "cell_type": "code",
   "execution_count": null,
   "id": "65a3cf20",
   "metadata": {},
   "outputs": [],
   "source": [
    "%%cpp\n",
    "for (auto i=0u; i<d[0]; i++)\n",
    "    for (auto j=0u; j<d[1]; j++)\n",
    "        for (auto k=0u; k<d[2]; k++)\n",
    "            cout << *(**v+i*(d[1]*d[2])+j*(d[2])+k) << ' ';"
   ]
  },
  {
   "cell_type": "markdown",
   "id": "87e9360c",
   "metadata": {},
   "source": [
    "::::{seealso} C-ordering\n",
    "\n",
    "The above prints each element of the array (`v`) by incrementing the indices (`i`, `j`, and `k`) of each dimension circularly, with the index of an earlier dimension (known as a row index) incremented slower. This is indeed how the elements are stored linearly in memory in C/C++, and so the ordering is known as C-ordering or row-major ordering.[^F-ordering]\n",
    "\n",
    "[^F-ordering]: In comparison, Fortran uses a column-major ordering or F-ordering, where the index of a later dimension (known as a column index) incremented slower."
   ]
  },
  {
   "cell_type": "markdown",
   "id": "32f88531",
   "metadata": {},
   "source": [
    "## Array Container"
   ]
  },
  {
   "cell_type": "markdown",
   "id": "1a87b01f",
   "metadata": {},
   "source": [
    "[](#code_cross_cstyle) implements the cross product using C-style fixed array:\n",
    "\n",
    "```cpp\n",
    "void cross(..., ..., double (&w)[3]) {\n",
    "    w[0] = ...\n",
    "    w[1] = ...\n",
    "    w[2] = ...\n",
    "}\n",
    "```"
   ]
  },
  {
   "cell_type": "markdown",
   "id": "a4ba5bff",
   "metadata": {},
   "source": [
    "**Isn't it strange that the function takes the cross product `w` as an input argument instead of returning it as an output?**"
   ]
  },
  {
   "cell_type": "markdown",
   "id": "357245ea",
   "metadata": {},
   "source": [
    "To understand the issue, consider a simplified function that returns an array:"
   ]
  },
  {
   "cell_type": "code",
   "execution_count": null,
   "id": "e46c47aa",
   "metadata": {},
   "outputs": [],
   "source": [
    "%%cpp\n",
    "auto foo() {\n",
    "    double w[1]{123};\n",
    "    cout << *w << \" @\" << static_cast<void *>(w) << '\\n';\n",
    "    return w;\n",
    "}\n",
    "auto w=foo()"
   ]
  },
  {
   "cell_type": "markdown",
   "id": "1bb0764c",
   "metadata": {},
   "source": [
    "The return type is `double *` instead of `double[1]`, showing that an array decays to a pointer when returned by a function."
   ]
  },
  {
   "cell_type": "markdown",
   "id": "4deabb66",
   "metadata": {},
   "source": [
    "Note however that there is a warning about the `address of stack memory ... returned`. To see the value it points to:"
   ]
  },
  {
   "cell_type": "code",
   "execution_count": null,
   "id": "aefea62d",
   "metadata": {},
   "outputs": [],
   "source": [
    "%%cpp\n",
    "cout << *w << \" @\" << static_cast<void *>(w) << '\\n';\n",
    "w[0] // equal 1?"
   ]
  },
  {
   "cell_type": "markdown",
   "id": "70912799",
   "metadata": {},
   "source": [
    "::::{caution} Observe that the local and global `*w` (or `w[0]`) have the same address but their values are different. Why?\n",
    "\n",
    "Function parameters or variables in a block scope are stored in the so-called stack memory (or simply the stack). They are only valid while the scope is active, i.e., they are cleaned up automatically when they fall out of scope. They are said to have an [automatic storage duration](https://en.cppreference.com/w/cpp/language/storage_duration.html#Automatic_storage_duration).\n",
    "\n",
    "::::"
   ]
  },
  {
   "cell_type": "code",
   "execution_count": null,
   "id": "98ab848a",
   "metadata": {},
   "outputs": [],
   "source": [
    "%%ai\n",
    "Explain briefly what stack memory is in C++ and why returning address of stack\n",
    "memory gives a warning?"
   ]
  },
  {
   "cell_type": "markdown",
   "id": "37498ae5",
   "metadata": {},
   "source": [
    "As a comparison, consider the following function, which returns a locally defined `double`?"
   ]
  },
  {
   "cell_type": "code",
   "execution_count": null,
   "id": "9f8b370d",
   "metadata": {},
   "outputs": [],
   "source": [
    "%%cpp\n",
    "auto foo() {\n",
    "    double w=123.;\n",
    "    return w;\n",
    "}\n",
    "auto w=foo()"
   ]
  },
  {
   "cell_type": "markdown",
   "id": "3eb38ced",
   "metadata": {},
   "source": [
    "::::{caution} Why the above code does not trigger any warning even though the variable `w` has automatic storage duration?\n",
    ":class: dropdown\n",
    "\n",
    "Due to the [return value optimization](https://en.cppreference.com/w/cpp/language/copy_elision.html), the result returned by a function is constructed directly into the function call's result object, which is therefore in the scope where the function is called. However, if `w` is a pointer to an array, it is the pointer `w` itself—not the array it points to—that is constructed into the caller's result object. This explains why the pointer/address `static_cast<void *>(w)` remains the same but `*w` has changed.\n",
    "\n",
    "::::"
   ]
  },
  {
   "cell_type": "markdown",
   "id": "53b50f20",
   "metadata": {},
   "source": [
    "One way to return an array is to declare it as static:"
   ]
  },
  {
   "cell_type": "code",
   "execution_count": null,
   "id": "604cf367",
   "metadata": {},
   "outputs": [],
   "source": [
    "%%cpp\n",
    "auto foo() {\n",
    "    static const double w[1]{123};\n",
    "    return w;\n",
    "}\n",
    "auto w=foo();\n",
    "w[0]"
   ]
  },
  {
   "cell_type": "markdown",
   "id": "8a6a606d",
   "metadata": {},
   "source": [
    "The memory location `w[0]` has static storage duration, and therefore remains available throughout the execution of the program. However, the function is not thread-safe unless `w` is declared to be constant."
   ]
  },
  {
   "cell_type": "markdown",
   "id": "a73104c2",
   "metadata": {},
   "source": [
    "**How to return a mutable array safely?**"
   ]
  },
  {
   "cell_type": "code",
   "execution_count": null,
   "id": "5c5f1683",
   "metadata": {},
   "outputs": [],
   "source": [
    "%%cpp\n",
    "auto foo() {\n",
    "    auto w=new double[1]{123};\n",
    "    return w;\n",
    "}\n",
    "auto w=foo();\n",
    "++w[0]"
   ]
  },
  {
   "cell_type": "markdown",
   "id": "ff215bb5",
   "metadata": {},
   "source": [
    "The above function returns a mutable array by dynamically allocating memory on the heap memory using the [`new` expression](https://en.cppreference.com/w/cpp/language/new.html). It is thread-safe because every call to the function creates a distinct heap-allocated array, and so there is no shared state between threads. The heap memory remains accessible after the function call because it is not tied to the function's stack frame."
   ]
  },
  {
   "cell_type": "markdown",
   "id": "48cbe8cd",
   "metadata": {},
   "source": [
    "::::{caution} [Memory leaks](https://en.wikipedia.org/wiki/Memory_leak)\n",
    "\n",
    "Imagine what happens if `foo` is repeatedly called like this:\n",
    "\n",
    "```cpp\n",
    "while (true) foo();   //  😈: A small devil with a big appetite!\n",
    "\n",
    "```\n",
    "\n",
    "::::"
   ]
  },
  {
   "cell_type": "markdown",
   "id": "0fc4a10d",
   "metadata": {},
   "source": [
    "Since every function call creates a new array, and the memory is not released after the call completes, the caller is responsible for freeing the memory with `delete[]`."
   ]
  },
  {
   "cell_type": "code",
   "execution_count": null,
   "id": "7ca8f1e0",
   "metadata": {},
   "outputs": [],
   "source": [
    "%%cpp\n",
    "delete[] w;\n",
    "// w           // fails as the memory for w is released.\n",
    "// delete[] w; // fails for the same reason.\n",
    "w=nullptr;     // prevents accidental reuse or double deletion."
   ]
  },
  {
   "cell_type": "markdown",
   "id": "4be36526",
   "metadata": {},
   "source": [
    "::::{exercise}\n",
    ":label: ex:zeros\n",
    "\n",
    "Explain all the issues with the following code:\n",
    "\n",
    "```cpp\n",
    "double* zeros(const int d) {\n",
    "    double v[d]{};\n",
    "    return v;\n",
    "}\n",
    "\n",
    "double x[5]= zeros(5);\n",
    "```\n",
    "\n",
    "::::"
   ]
  },
  {
   "cell_type": "markdown",
   "id": "bcd29deb",
   "metadata": {
    "deletable": false,
    "nbgrader": {
     "cell_type": "markdown",
     "checksum": "dfd845b38cf28e826ce49698f3293ded",
     "grade": true,
     "grade_id": "allzeros",
     "locked": false,
     "points": 0,
     "schema_version": 3,
     "solution": true,
     "task": false
    }
   },
   "source": [
    "YOUR ANSWER HERE"
   ]
  },
  {
   "cell_type": "markdown",
   "id": "05e67e63",
   "metadata": {},
   "source": [
    "Thanks to object-oriented programming, `C++11` defines a value-type container [`std::array`](https://en.cppreference.com/w/cpp/container/array.html) from `<array>`:"
   ]
  },
  {
   "cell_type": "code",
   "execution_count": null,
   "id": "938393e3",
   "metadata": {},
   "outputs": [],
   "source": [
    "%%cpp\n",
    "auto foo() {\n",
    "    auto w=array<double, 1>{123};\n",
    "    return w;\n",
    "}\n",
    "auto w=foo();\n",
    "++w[0];\n",
    "w"
   ]
  },
  {
   "cell_type": "markdown",
   "id": "3a51a6e1",
   "metadata": {},
   "source": [
    "This works as if `w` were a simple data type:\n",
    "\n",
    "- The array object is correctly returned because it is directly constructed into the caller’s result object via the return value optimization.\n",
    "- The function is thread-safe since each call creates a distinct array object.\n",
    "- The memory is released automatically when the result object goes out of scope."
   ]
  },
  {
   "cell_type": "markdown",
   "id": "982ad18a",
   "metadata": {},
   "source": [
    "We can now modify [](#code_cross_cstyle) to return the cross product:\n",
    "\n",
    "::::{code} cpp\n",
    ":label: code_cross\n",
    ":caption: Compute the cross product $\\M{u}\\times \\M{v}$ using [`std::array`][array] from `<array>`.\n",
    ":linenos:\n",
    "/**\n",
    " * @brief Computes the cross product of two 3D vectors.\n",
    " *\n",
    " * This function calculates the cross product of two 3-dimensional (3D) vectors `u` and `v`,\n",
    " * both represented as `std::array<double, 3>`. The result is a new vector that is\n",
    " * perpendicular to both `u` and `v`, following the right-hand rule.\n",
    " *\n",
    " * @param u The first input vector.\n",
    " * @param v The second input vector.\n",
    " * @return A 3D vector representing the cross product of `u` and `v`.\n",
    " * @example\n",
    " * auto w = cross({1,0,0}, {0,0,1}); // (vector3D &) { 0.0, -1.0, 0.0 }\n",
    " */\n",
    "using vector3d = std::array<double, 3>;    // type alias\n",
    "\n",
    "vector3d cross(const vector3d &u, const vector3d &v) {\n",
    "    vector3d w;\n",
    "    w[0] = u[1]*v[2] - u[2]*v[1];\n",
    "    w[1] = u[2]*v[0] - u[0]*v[2];\n",
    "    w[2] = u[0]*v[1] - u[1]*v[0];\n",
    "    return w;\n",
    "}\n",
    "::::\n",
    "\n",
    "[array]: https://en.cppreference.com/w/cpp/container/array.html"
   ]
  },
  {
   "cell_type": "markdown",
   "id": "081ba147",
   "metadata": {},
   "source": [
    "For convenience, the code defines a [type alias](https://en.cppreference.com/w/cpp/language/type_alias.html) `vector3d` for the type `std::array<double, 3>`:"
   ]
  },
  {
   "cell_type": "code",
   "execution_count": null,
   "id": "6d723366",
   "metadata": {},
   "outputs": [],
   "source": [
    "%%cpp\n",
    "using vector3d=std::array<double, 3>;"
   ]
  },
  {
   "cell_type": "markdown",
   "id": "41caabda",
   "metadata": {},
   "source": [
    "The type alias can then be used to declare the parameters and return value:"
   ]
  },
  {
   "cell_type": "code",
   "execution_count": null,
   "id": "d07499ef",
   "metadata": {},
   "outputs": [],
   "source": [
    "%%cpp\n",
    "vector3d cross(const vector3d &u, const vector3d &v) {\n",
    "    vector3d w;\n",
    "    w[0] = u[1]*v[2] - u[2]*v[1];\n",
    "    w[1] = u[2]*v[0] - u[0]*v[2];\n",
    "    w[2] = u[0]*v[1] - u[1]*v[0];\n",
    "    return w;\n",
    "}\n",
    "\n",
    "auto w = cross({1,0,0}, {0,0,1});\n",
    "w"
   ]
  },
  {
   "cell_type": "markdown",
   "id": "ed4eaa53",
   "metadata": {},
   "source": [
    "The array container `w` is defined within the function and returned to the caller, just like other simple data types:\n",
    "\n",
    "```cpp\n",
    "vector3d cross(..., ...) {\n",
    "    vector3d w;\n",
    "    w[0] = ...\n",
    "    w[1] = ...\n",
    "    w[2] = ...\n",
    "    return w;\n",
    "}\n",
    "```"
   ]
  },
  {
   "cell_type": "markdown",
   "id": "ae048fae",
   "metadata": {},
   "source": [
    "::::{caution}\n",
    "\n",
    "`u` and `v` are passed by constant reference to avoid the extra copy step involved if the arguments were passed by value instead. `const` allows rvalue to be passed by lvalue reference.\n",
    "\n",
    "::::"
   ]
  },
  {
   "cell_type": "markdown",
   "id": "063b6cd3",
   "metadata": {},
   "source": [
    "As another example demonstrating the benefit of array container, the following code implements the [wheel factorization](https://en.wikipedia.org/wiki/Wheel_factorization) to check whether a number `n` is prime or not:\n",
    "\n",
    "::::{code} cpp\n",
    ":label: code_is_prime\n",
    ":caption: Check whether a non-negative integer is prime.\n",
    ":linenos:\n",
    "/**\n",
    " * @brief Determines whether a given unsigned long long integer is prime using wheel factorization.\n",
    " *\n",
    " * This function checks for primality by first testing divisibility against a small set of base primes {2, 3, 5}.\n",
    " * It then uses wheel factorization based on the LCM of these primes (30) to efficiently skip non-candidate divisors.\n",
    " * Candidate divisors are generated by adding coprime offsets to multiples of 30.\n",
    " *\n",
    " * @param n The number to check for primality.\n",
    " * @return true if n is prime, false otherwise.\n",
    " *\n",
    " * @details\n",
    " * - The wheel is constructed using the coprimes of 30: {1, 7, 11, 13, 17, 19, 23, 29}.\n",
    " * - These offsets are added to each multiple of 30 to generate candidate divisors.\n",
    " * - The function stops checking once the candidate divisor exceeds sqrt(n).\n",
    " *\n",
    " * @note This method avoids redundant checks for multiples of 2, 3, and 5, improving efficiency for large numbers.\n",
    " *\n",
    " * @example\n",
    " *     bool result = is_prime(97); // returns true\n",
    " */\n",
    "bool is_prime(const unsigned long long n) {\n",
    "    if (n < 2) return false;\n",
    "\n",
    "    // Base primes used for initial divisibility check\n",
    "    auto basis = to_array<unsigned long long>({2, 3, 5});\n",
    "\n",
    "    // Offsets that are coprime to 30 (LCM of 2, 3, 5)\n",
    "    auto offsets = to_array<unsigned long long>({1, 7, 11, 13, 17, 19, 23, 29});\n",
    "\n",
    "    const unsigned long long m = 30; // LCM of base primes\n",
    "    const unsigned long long limit = sqrt(n); // No need to check beyond sqrt(n)\n",
    "\n",
    "    // Check divisibility by base primes\n",
    "    for (auto p : basis)\n",
    "        if (p > limit) return true; // No need to check further\n",
    "        else if (n % p == 0) return false;\n",
    "\n",
    "    // Use wheel factorization to check remaining candidates\n",
    "    unsigned long long d;\n",
    "    for (unsigned long long i = 0uLL;; i += m) {\n",
    "        for (auto j : offsets) {\n",
    "            d = i + j;\n",
    "            if (d > limit) return true; // No divisor found up to sqrt(n)\n",
    "            else if (n % d == 0 && d > 1) return false; // Found a divisor\n",
    "        }\n",
    "    }\n",
    "}\n",
    "\n",
    "::::"
   ]
  },
  {
   "cell_type": "code",
   "execution_count": null,
   "id": "fad358ef",
   "metadata": {},
   "outputs": [],
   "source": [
    "%%cpp\n",
    "bool is_prime(const unsigned long long n) {\n",
    "    if (n<2) return false;\n",
    "    auto basis=to_array<unsigned long long>({2,3,5});\n",
    "    auto offsets=to_array<unsigned long long>({1, 7, 11, 13, 17, 19, 23, 29});\n",
    "    const unsigned long long m=30, limit=sqrt(n);\n",
    "    for (auto p : basis)\n",
    "        if (p > limit) return true; else\n",
    "        if (n % p == 0) return false;\n",
    "    unsigned long long d;\n",
    "    for (unsigned long long i=0uLL;; i+=m)\n",
    "        for (auto j : offsets)\n",
    "            if ((d=(i+j))>limit) return true; else\n",
    "            if (n%d==0 && d>1) return false;\n",
    "}"
   ]
  },
  {
   "cell_type": "code",
   "execution_count": null,
   "id": "1ad546e6",
   "metadata": {},
   "outputs": [],
   "source": [
    "%%cpp\n",
    "for (auto n: views::iota(0, 100)) if (is_prime(n)) cout << n << ' ';"
   ]
  },
  {
   "cell_type": "markdown",
   "id": "9908a332",
   "metadata": {},
   "source": [
    "The above code used the following techniques:\n",
    "- The array container supports [`range-based` `for` loop](https://en.cppreference.com/w/cpp/language/range-for.html) to iterate over its elements simply without using indices.\n",
    "- [`std::to_array`](https://en.cppreference.com/w/cpp/container/array/to_array.html) introduced in C++20 allows the length and data type to be deduced from the manually specified array."
   ]
  },
  {
   "cell_type": "markdown",
   "id": "eb0b017b",
   "metadata": {},
   "source": [
    "## Vector Container"
   ]
  },
  {
   "cell_type": "markdown",
   "id": "b7ca2c79",
   "metadata": {},
   "source": [
    "Recall that the declaration `const auto v[3]` in [`void print_vector3_(const auto v[3])`](#code_print_vector3_) is the same as `const auto v[]`, which decays to `const auto *v`. Since the size information is lost, we might as well define a more generate function below to print an arbitrarily long vector:"
   ]
  },
  {
   "cell_type": "markdown",
   "id": "5294a8a5",
   "metadata": {},
   "source": [
    "::::{code} cpp\n",
    ":label: code_print_vector_cstyle\n",
    ":caption: Print the contents of a C-style array.\n",
    ":linenos:\n",
    "/**\n",
    " * @brief Prints the contents of a vector-like array to standard output in formatted style.\n",
    " *\n",
    " * This function takes an array of elements and its size, then prints the elements\n",
    " * in a comma-separated list enclosed in square brackets. The formatting uses `std::format`\n",
    " * for consistent output.\n",
    " *\n",
    " * @tparam T Type of the elements in the array (deduced automatically).\n",
    " * @param v Array of elements to print.\n",
    " * @param n Number of elements in the array.\n",
    " *\n",
    " * @note If the array is empty (`n == 0`), nothing is printed.\n",
    " * @example\n",
    " *     int arr[] = {1, 2, 3};\n",
    " *     print_vector(arr, 3); // Output: [1, 2, 3]\n",
    " */\n",
    "void print_vector(const auto v[], const size_t n) {\n",
    "    if (n) {\n",
    "        cout << format(\"[{}\", v[0]);\n",
    "        for (size_t i = 1; i < n; ++i)\n",
    "            cout << format(\", {}\", v[i]);\n",
    "        cout << \"]\\n\";\n",
    "    }\n",
    "::::"
   ]
  },
  {
   "cell_type": "code",
   "execution_count": null,
   "id": "048e8a82",
   "metadata": {},
   "outputs": [],
   "source": [
    "%%cpp\n",
    "void print_vector(const auto v[], const size_t n) {\n",
    "    if (n) {\n",
    "        cout << format(\"[{}\", v[0]);\n",
    "        for (size_t i=1; i<n; ++i) cout << format(\", {}\", v[i]);\n",
    "        cout << \"]\\n\";\n",
    "    }\n",
    "}\n",
    "print_vector((int[]){1}, 1);\n",
    "print_vector((int[]){1, 2}, 2);\n",
    "print_vector((int[]){1, 2, 3}, 3);\n",
    "print_vector((int[]){1, 2, 3, 4}, 4);\n",
    "print_vector((int[]){1, 2, 3, 4, 5}, 5);"
   ]
  },
  {
   "cell_type": "markdown",
   "id": "43c6cb65",
   "metadata": {},
   "source": [
    "In the function calls, the size is passed as a separate argument `n` because the size information in `v` is lost as `v` decays to a pointer."
   ]
  },
  {
   "cell_type": "markdown",
   "id": "76dbd7b6",
   "metadata": {},
   "source": [
    "To print `std::array` instead:"
   ]
  },
  {
   "cell_type": "markdown",
   "id": "5a002f97",
   "metadata": {},
   "source": [
    "::::{code} cpp\n",
    ":label: code_print_vector_array\n",
    ":caption: Print the contents of an array container.\n",
    ":linenos:\n",
    "/**\n",
    " * @brief Prints the contents of a fixed-size std::array in vector format.\n",
    " *\n",
    " * This function outputs the elements of the array in the format: [x1, x2, ..., xN].\n",
    " * It uses C++11's std::array from <array> and std::format for formatting.\n",
    " *\n",
    " * @tparam T Type of the elements in the array.\n",
    " * @tparam N Size of the array.\n",
    " * @param v The std::array to be printed.\n",
    " * @example\n",
    " * print_vector(array<int, 4>{1, 2, 3, 4});\n",
    " * print_vector(array<int, 5>{1, 2, 3, 4, 5});\n",
    " */\n",
    "template <class T, size_t N>\n",
    "void print_vector(const array<T, N> &v) {\n",
    "    if (N>0) {\n",
    "        auto it=v.begin();\n",
    "        cout << format(\"[{}\", *it++);\n",
    "        for (;it != v.end(); it++) cout << format(\", {}\", *it);\n",
    "        cout << \"]\\n\";\n",
    "    }\n",
    "}\n",
    "\n",
    "::::"
   ]
  },
  {
   "cell_type": "code",
   "execution_count": null,
   "id": "6b01c8ba",
   "metadata": {},
   "outputs": [],
   "source": [
    "%%cpp\n",
    "template <class T, size_t N>\n",
    "void print_vector(const array<T, N> &v) {\n",
    "    if (N>0) {\n",
    "        auto it=v.begin();\n",
    "        cout << format(\"[{}\", *it++);\n",
    "        for (;it != v.end(); it++) cout << format(\", {}\", *it);\n",
    "        cout << \"]\\n\";\n",
    "    }\n",
    "}\n",
    "print_vector(to_array({1}));\n",
    "print_vector(to_array({1, 2}));\n",
    "print_vector(to_array({1, 2, 3}));\n",
    "print_vector(to_array({1, 2, 3, 4}));\n",
    "print_vector(to_array({1, 2, 3, 4, 5}));"
   ]
  },
  {
   "cell_type": "markdown",
   "id": "3ed7b64a",
   "metadata": {},
   "source": [
    "::::{caution}\n",
    "\n",
    "While `print_vector3({1,2,3})` is allowed, `print_vector({1,2,3})` fails because the type and class cannot be inferred directly from the initializer list. `to_array` fixes the issue.\n",
    "\n",
    "::::"
   ]
  },
  {
   "cell_type": "markdown",
   "id": "6fcf43d9",
   "metadata": {},
   "source": [
    "The above code is a [template declaration](https://en.cppreference.com/w/cpp/language/templates.html) which allows the function `print_vector` to take `std::array<T, N>` with any [`typename`](https://en.cppreference.com/w/cpp/keyword/typename.html) or [`class`](https://en.cppreference.com/w/cpp/keyword/class.html) `T` and a fixed size `N`. It also uses [iterators](https://en.cppreference.com/w/cpp/container/array.html#Iterators) to traverse the array."
   ]
  },
  {
   "cell_type": "code",
   "execution_count": null,
   "id": "a0cca2a6",
   "metadata": {},
   "outputs": [],
   "source": [
    "%%ai\n",
    "Explain briefly how to use iterators to traverse an array efficiently in C++."
   ]
  },
  {
   "cell_type": "markdown",
   "id": "4b005ba6",
   "metadata": {},
   "source": [
    "::::{exercise}\n",
    ":label: ex:array-size\n",
    "\n",
    "What is the benefit of using template instead of declaring the argument as `auto`?\n",
    "\n",
    "```cpp\n",
    "void print_vector(const auto &v) {\n",
    "    if (!v.empty()) {\n",
    "        cout << format(\"[{}\", v[0]);\n",
    "        for (auto vi : v) cout << format(\", {}\", vi);\n",
    "        cout << \"]\\n\";\n",
    "    }\n",
    "}\n",
    "```\n",
    "\n",
    "[`empty`](https://en.cppreference.com/w/cpp/container/array/empty.html) is a method to check whether an array is empty.\n",
    "\n",
    "::::"
   ]
  },
  {
   "cell_type": "markdown",
   "id": "1fe5033c",
   "metadata": {
    "deletable": false,
    "nbgrader": {
     "cell_type": "markdown",
     "checksum": "a8c2a303c1cb2926db17b184dfdc636f",
     "grade": true,
     "grade_id": "array-size",
     "locked": false,
     "points": 0,
     "schema_version": 3,
     "solution": true,
     "task": false
    }
   },
   "source": [
    "YOUR ANSWER HERE"
   ]
  },
  {
   "cell_type": "markdown",
   "id": "a42ea0c4",
   "metadata": {
    "deletable": false,
    "nbgrader": {
     "cell_type": "markdown",
     "checksum": "a427b5ea8bf46e428c4791cab1ac5fc1",
     "grade": true,
     "grade_id": "loop-array",
     "locked": false,
     "points": 0,
     "schema_version": 3,
     "solution": true,
     "task": false
    }
   },
   "source": [
    "YOUR ANSWER HERE"
   ]
  },
  {
   "cell_type": "markdown",
   "id": "80208d3f",
   "metadata": {},
   "source": [
    "A common strategy is to set the size to a large enough constant:"
   ]
  },
  {
   "cell_type": "code",
   "execution_count": null,
   "id": "93a4e6bb",
   "metadata": {},
   "outputs": [],
   "source": [
    "%%cpp\n",
    "constexpr auto N=5u;\n",
    "int v[N];\n",
    "for (auto i=0u; i<N; ++i) v[i]=i+1;\n",
    "for (auto n=1u; n<=N; ++n) print_vector(v, n);"
   ]
  },
  {
   "cell_type": "markdown",
   "id": "16a23427",
   "metadata": {},
   "source": [
    "But what if we do not know how large is large enough at compile time? An alternative is to dynamically allocate the memory to the heap:"
   ]
  },
  {
   "cell_type": "code",
   "execution_count": null,
   "id": "5fc0d3ab",
   "metadata": {},
   "outputs": [],
   "source": [
    "%%cpp\n",
    "for (auto n=1u; n<=5; ++n) {\n",
    "    auto v=new int[5];\n",
    "    for (auto i=0u; i<n; ++i) v[i]=i+1;\n",
    "    print_vector(v, n);\n",
    "    delete[] v;   // 😈: This line can be removed. 👨🏻‍🏫: No.\n",
    "}"
   ]
  },
  {
   "cell_type": "markdown",
   "id": "4dab08bf",
   "metadata": {},
   "source": [
    "To avoid memory leak, C++11 offers variable-length containers such as [`std::vector`](https://en.cppreference.com/w/cpp/container/vector.html) from `<vector>`. This is used in the following implementation of `print_vector`:"
   ]
  },
  {
   "cell_type": "code",
   "execution_count": null,
   "id": "5f6186ac",
   "metadata": {},
   "outputs": [],
   "source": [
    "%%cpp\n",
    "template <class T>\n",
    "void print_vector(const vector<T> &v) {\n",
    "    if (!v.empty()) {\n",
    "        cout << format(\"[{}\", v[0]);\n",
    "        for (auto vi: v) cout << format(\", {}\", vi); // range-based for loop\n",
    "        cout << \"]\\n\";\n",
    "    }\n",
    "}"
   ]
  },
  {
   "cell_type": "markdown",
   "id": "6551f9f9",
   "metadata": {},
   "source": [
    "The `print_vector` function used the method [`empty`](https://en.cppreference.com/w/cpp/container/vector/empty.html) to check whether `v` is an empty vector."
   ]
  },
  {
   "cell_type": "markdown",
   "id": "0a3161ea",
   "metadata": {},
   "source": [
    "::::{important}\n",
    "\n",
    "For `std::array<T, N>`, the size `N` is fixed at compile time and the array is allocated on the stack, not the heap. In contrast, `std::vector<T, Allocator>` does not require a fixed size at declaration. Instead, it uses an allocator such as the default [`std::allocator`](https://en.cppreference.com/w/cpp/memory/allocator.html) to allocate heap memory.\n",
    "\n",
    "- The [`vector` constructors](https://en.cppreference.com/w/cpp/container/vector/vector.html) uses the allocator to allocate memory dynamically.\n",
    "- The [`vector` destructor](https://en.cppreference.com/w/cpp/container/vector/~vector.html) uses the allocator to release memory when the vector goes out of scope.\n",
    "\n",
    "::::"
   ]
  },
  {
   "cell_type": "markdown",
   "id": "63d51d59",
   "metadata": {},
   "source": [
    "We can now use a `for` loop to modify the length of a vector:\n",
    "\n",
    "```cpp\n",
    "{\n",
    "    vector<double> v; /* Creates an empty vector using allocator<double> internally.\n",
    "                         No memory is allocated yet; capacity is 0. */\n",
    "\n",
    "    for (auto n = 1u; n <= 5; ++n) { // Loop to insert values 1 to 5\n",
    "        v.push_back(n); /* Adds 'n' to the vector.\n",
    "                           If current capacity is full, vector allocates more memory:\n",
    "                           - Calls allocator.allocate(new_capacity)\n",
    "                           - Moves existing elements to new memory\n",
    "                           - Calls allocator.deallocate(old_memory)\n",
    "                           - Constructs new element with allocator.construct() */\n",
    "        print_vector(v);\n",
    "    }\n",
    "}\n",
    "/* When 'v' goes out of scope at the end of main:\n",
    "   - vector's destructor is called\n",
    "   - Calls allocator.destroy() for each element\n",
    "   - Calls allocator.deallocate() to free the memory block */\n",
    "```"
   ]
  },
  {
   "cell_type": "code",
   "execution_count": null,
   "id": "47d7996b",
   "metadata": {},
   "outputs": [],
   "source": [
    "%%cpp\n",
    "{\n",
    "    vector<double> v;\n",
    "    for (auto n=1u; n<=5; ++n) {\n",
    "        v.push_back(n);\n",
    "        print_vector(v);\n",
    "    }\n",
    "}"
   ]
  },
  {
   "cell_type": "code",
   "execution_count": null,
   "id": "f1b8c496",
   "metadata": {},
   "outputs": [],
   "source": [
    "%%ai\n",
    "Explain briefly what allocators are in C++ and the benefits of using allocators\n",
    "instead of new and delete in C++?"
   ]
  },
  {
   "cell_type": "markdown",
   "id": "c24ac149",
   "metadata": {},
   "source": [
    "The code used the method [`push_back`](https://en.cppreference.com/w/cpp/container/vector/push_back.html) to append an element to the end of the vector."
   ]
  },
  {
   "cell_type": "markdown",
   "id": "cb935103",
   "metadata": {},
   "source": [
    "The dot product in [](#code_dot_cstyle) can also be reimplemented to use the vector container:\n",
    "\n",
    "::::{code} cpp\n",
    ":label: code_dot\n",
    ":caption: Compute the dot product $\\M{u}\\cdot \\M{v}$ using [`std::vector`](https://en.cppreference.com/w/cpp/container/vector.html) from `<vector>`.\n",
    ":linenos:\n",
    "using vectord = std::vector<double>;\n",
    "\n",
    "/**\n",
    " * @brief Computes the dot product of two vectors of type vectord.\n",
    " *\n",
    " * This function calculates the dot product of two vectors `u` and `v`.\n",
    " * It throws a runtime error if the vectors are not of the same length.\n",
    " *\n",
    " * @param u A vector of doubles.\n",
    " * @param v A vector of doubles.\n",
    " * @return The dot product of vectors `u` and `v` as a double.\n",
    " *\n",
    " * @throws std::runtime_error if the input vectors have different lengths.\n",
    " *\n",
    " * @example\n",
    " * dot({1,1,1,1}, {1,1,1,1}); // 4.0\n",
    " */\n",
    "auto dot(const vectord &u, const vectord &v) {\n",
    "    if (u.size() != v.size()) \n",
    "        throw std::runtime_error(\"u and v cannot have different lengths.\");\n",
    "    auto prod = 0.;\n",
    "    for (size_t i = 0, n = u.size(); i < n; ++i) \n",
    "        prod += u[i] * v[i];\n",
    "    return prod;\n",
    "}\n",
    "::::"
   ]
  },
  {
   "cell_type": "code",
   "execution_count": null,
   "id": "bf526d16",
   "metadata": {},
   "outputs": [],
   "source": [
    "%%cpp\n",
    "using vectord=std::vector<double>;"
   ]
  },
  {
   "cell_type": "code",
   "execution_count": null,
   "id": "f64b5505",
   "metadata": {},
   "outputs": [],
   "source": [
    "%%cpp\n",
    "auto dot(const vectord &u, const vectord &v) {\n",
    "    if (u.size()!=v.size()) \n",
    "        throw runtime_error(\"u and v cannot have different lengths.\");\n",
    "    auto prod=0.;\n",
    "    for (size_t i=0, n=u.size(); i<n; ++i) prod += u[i]*v[i];\n",
    "    return prod;\n",
    "}\n",
    "// dot({1,1,1}, {1,1,1,1});  // fails: size mismatch\n",
    "dot({1,1,1,1}, {1,1,1,1})"
   ]
  },
  {
   "cell_type": "markdown",
   "id": "68a3ff73",
   "metadata": {},
   "source": [
    "The code ensures the input values `u` and `v` are valid by checking whether they have the same size using the method [`size`](https://en.cppreference.com/w/cpp/container/vector/size.html)."
   ]
  },
  {
   "cell_type": "markdown",
   "id": "2c75d533",
   "metadata": {},
   "source": [
    "To repeatedly calculate the norms of the vectors of all ones for different dimensions:"
   ]
  },
  {
   "cell_type": "code",
   "execution_count": null,
   "id": "2dca48f9",
   "metadata": {},
   "outputs": [],
   "source": [
    "%%cpp\n",
    "auto norm(const vectord &v) {\n",
    "    return sqrt(dot(v, v));\n",
    "}\n",
    "vectord v;\n",
    "for (auto n=0u; n<10; ++n) {\n",
    "    cout << norm(v) << ' ';\n",
    "    v.push_back(1);\n",
    "}"
   ]
  },
  {
   "cell_type": "markdown",
   "id": "464d5c91",
   "metadata": {},
   "source": [
    "To repeatly calculate the dot products of orthogonal vectors for different dimensions:"
   ]
  },
  {
   "cell_type": "code",
   "execution_count": null,
   "id": "d6f1c448",
   "metadata": {},
   "outputs": [],
   "source": [
    "%%cpp\n",
    "vectord u{0}, v{0};\n",
    "for (auto n=0u; n<10; ++n) {\n",
    "    u.insert(u.begin(),1);\n",
    "    v.push_back(1);\n",
    "    cout << dot(u, v) << ' ';\n",
    "    u[0]=v[v.size()]=0;\n",
    "}"
   ]
  },
  {
   "cell_type": "markdown",
   "id": "b58c6f2f",
   "metadata": {},
   "source": [
    "The code used the method [`insert`](https://en.cppreference.com/w/cpp/container/vector/insert.html) to insert `1` to the beginning position specified by the method [`begin`](https://en.cppreference.com/w/cpp/container/vector/begin.html)."
   ]
  },
  {
   "cell_type": "markdown",
   "id": "4a82b16b",
   "metadata": {},
   "source": [
    "::::{exercise}\n",
    "\n",
    "Fix the program in [](#ex:zeros) to return a `std::vector` of `d` zeros of type `double`.\n",
    "\n",
    ":::{hint}\n",
    "\n",
    "Use the [fourth constructor](https://en.cppreference.com/w/cpp/container/vector/vector.html) for `std::vector`.\n",
    "\n",
    ":::\n",
    "\n",
    "::::"
   ]
  },
  {
   "cell_type": "code",
   "execution_count": null,
   "id": "af0aef80",
   "metadata": {
    "deletable": false,
    "nbgrader": {
     "cell_type": "code",
     "checksum": "101e8d73fac2b26df600ef7fe627fd74",
     "grade": true,
     "grade_id": "zeros-fix",
     "locked": false,
     "points": 0,
     "schema_version": 3,
     "solution": true,
     "task": false
    }
   },
   "outputs": [],
   "source": [
    "%%cpp\n",
    "auto zeros(const int d) {\n",
    "    /*\n",
    "    # REPLACE THE ENTIRE COMMENT WITH YOUR CODE #\n",
    "    */\n",
    "}\n",
    "// test\n",
    "zeros(11)"
   ]
  },
  {
   "cell_type": "markdown",
   "id": "4794a177",
   "metadata": {},
   "source": [
    "::::{exercise}\n",
    "\n",
    "Complete the following function to implement the [](https://en.wikipedia.org/wiki/Sieve_of_Eratosthenes) to return a vector container of all prime numbers less than or equal to the argument `n`.\n",
    "\n",
    "::::"
   ]
  },
  {
   "cell_type": "code",
   "execution_count": null,
   "id": "3d01905a",
   "metadata": {
    "deletable": false,
    "nbgrader": {
     "cell_type": "code",
     "checksum": "2a318fdbf8d34c171e5b33121a06d4aa",
     "grade": false,
     "grade_id": "prime_below",
     "locked": false,
     "schema_version": 3,
     "solution": true,
     "task": false
    }
   },
   "outputs": [],
   "source": [
    "%%cpp\n",
    "/**\n",
    " * @brief Generates all prime numbers less than or equal to a given number.\n",
    " *\n",
    " * This function uses the Sieve of Eratosthenes algorithm to find all prime numbers\n",
    " * up to and including the input value `n`. It returns a std::vector of the primes.\n",
    " *\n",
    " * @param n The upper bound (inclusive) for prime number generation.\n",
    " * @return std::vector<unsigned long long> A list of prime numbers ≤ n.\n",
    " */\n",
    "std::vector<unsigned long long> prime_below(unsigned long long n) {\n",
    "    std::vector<unsigned long long> prime_numbers;\n",
    "    std::vector<bool> is_prime(n, true);\n",
    "    /*\n",
    "    # REPLACE THE ENTIRE COMMENT WITH YOUR CODE #\n",
    "    */\n",
    "}\n",
    "prime_below(100)"
   ]
  },
  {
   "cell_type": "code",
   "execution_count": null,
   "id": "1f8dbc69",
   "metadata": {
    "deletable": false,
    "editable": false,
    "nbgrader": {
     "cell_type": "code",
     "checksum": "cd752b0fa09c48de87a98b7638bb3f90",
     "grade": true,
     "grade_id": "test-prime_below",
     "locked": true,
     "points": 0,
     "schema_version": 3,
     "solution": false,
     "task": false
    }
   },
   "outputs": [],
   "source": [
    "%%cpp\n",
    "if (prime_below(100000uLL).back() != 99991uLL) throw runtime_error(\"test failed\");"
   ]
  }
 ],
 "metadata": {
  "jupytext": {
   "default_lexer": "ipython3"
  },
  "kernelspec": {
   "display_name": "Python 3 (ipykernel)",
   "language": "python",
   "name": "python3"
  },
  "language_info": {
   "codemirror_mode": {
    "name": "ipython",
    "version": 3
   },
   "file_extension": ".py",
   "mimetype": "text/x-python",
   "name": "python",
   "nbconvert_exporter": "python",
   "pygments_lexer": "ipython3",
   "version": "3.12.11"
  }
 },
 "nbformat": 4,
 "nbformat_minor": 5
}
